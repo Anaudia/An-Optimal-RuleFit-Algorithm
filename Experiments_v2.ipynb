{
 "cells": [
  {
   "cell_type": "code",
   "execution_count": 136,
   "id": "7306a81b",
   "metadata": {},
   "outputs": [],
   "source": [
    "from pauls_functions_advanced_v3 import *\n",
    "from experiment_functions import *\n",
    "import pandas as pd\n",
    "from pmlb import fetch_data, classification_dataset_names\n",
    "from sklearn.model_selection import train_test_split\n",
    "from sklearn.preprocessing import StandardScaler\n",
    "from xgboost import XGBClassifier\n",
    "from sklearn.svm import SVC\n",
    "from sklearn.naive_bayes import GaussianNB\n",
    "from sklearn.neighbors import KNeighborsClassifier\n",
    "from sklearn.ensemble import RandomForestClassifier\n",
    "from sklearn.feature_selection import SelectKBest, f_classif"
   ]
  },
  {
   "cell_type": "code",
   "execution_count": 137,
   "outputs": [],
   "source": [
    "classification_dataset_names = classification_dataset_names[20:24]"
   ],
   "metadata": {
    "collapsed": false
   }
  },
  {
   "cell_type": "code",
   "execution_count": 138,
   "outputs": [],
   "source": [
    "from tqdm.auto import tqdm\n",
    "from joblib import Parallel\n",
    "\n",
    "class ProgressParallel(Parallel):\n",
    "    def __init__(self, use_tqdm=True, total=None, *args, **kwargs):\n",
    "        self._use_tqdm = use_tqdm\n",
    "        self._total = total\n",
    "        super().__init__(*args, **kwargs)\n",
    "\n",
    "    def __call__(self, *args, **kwargs):\n",
    "        with tqdm(disable=not self._use_tqdm, total=self._total) as self._pbar:\n",
    "            return Parallel.__call__(self, *args, **kwargs)\n",
    "\n",
    "    def print_progress(self):\n",
    "        if self._total is None:\n",
    "            self._pbar.total = self.n_dispatched_tasks\n",
    "        self._pbar.n = self.n_completed_tasks\n",
    "        self._pbar.refresh()"
   ],
   "metadata": {
    "collapsed": false
   }
  },
  {
   "cell_type": "code",
   "execution_count": 139,
   "outputs": [],
   "source": [
    "def get_feature_type(x, include_binary=False):\n",
    "    x.dropna(inplace=True)\n",
    "    if not check_if_all_integers(x):\n",
    "        return 'continuous'\n",
    "    else:\n",
    "        if x.nunique() > 10:\n",
    "            return 'continuous'\n",
    "        if include_binary:\n",
    "            if x.nunique() == 2:\n",
    "                return 'binary'\n",
    "        return 'categorical'\n",
    "\n",
    "def get_target_type(x, include_binary=False):\n",
    "    x.dropna(inplace=True)\n",
    "    if x.dtype=='float64':\n",
    "        return 'continuous'\n",
    "    elif x.dtype=='int64':\n",
    "        if include_binary:\n",
    "            if x.nunique() == 2:\n",
    "                return 'binary'\n",
    "        return 'categorical'\n",
    "    else:\n",
    "        raise ValueError(\"Error getting type\")\n",
    "\n",
    "def check_if_all_integers(x):\n",
    "    \"check a pandas.Series is made of all integers.\"\n",
    "    return all(float(i).is_integer() for i in x.unique())\n",
    "def corr_data_for(df):\n",
    "    TARGET_NAME = 'target'\n",
    "    feat_names = [col for col in df.columns if col!=TARGET_NAME]\n",
    "    types = [get_feature_type(df[col], include_binary=True) for col in feat_names]\n",
    "    col = pd.DataFrame(feat_names,types)\n",
    "    num_col = col[col.index == 'continuous']\n",
    "    bin_col = col[col.index == 'binary']\n",
    "    cat_col = col[col.index == 'categorical']\n",
    "    cat_col = cat_col[0].tolist()\n",
    "    dummy_col = pd.get_dummies(data=df, columns=cat_col)\n",
    "    add_col = dummy_col.shape[1] - df.shape[1]\n",
    "    if (add_col < df.shape[0] *0.3) & (dummy_col.shape[1] <  df.shape[0]):\n",
    "        df = dummy_col\n",
    "        df.columns = df.columns.str.replace('.','_',regex=True)\n",
    "    else:\n",
    "        del df\n",
    "        df = pd.DataFrame()\n",
    "    return df, num_col, bin_col, cat_col"
   ],
   "metadata": {
    "collapsed": false
   }
  },
  {
   "cell_type": "code",
   "execution_count": 140,
   "outputs": [
    {
     "name": "stdout",
     "output_type": "stream",
     "text": [
      "(100, 7)\n",
      "(97, 11)\n",
      "(92, 11)\n",
      "(797, 5)\n"
     ]
    }
   ],
   "source": [
    "for data in classification_dataset_names:\n",
    "    data = fetch_data(data)\n",
    "    print(data.shape)"
   ],
   "metadata": {
    "collapsed": false
   }
  },
  {
   "cell_type": "code",
   "execution_count": 141,
   "outputs": [
    {
     "data": {
      "text/plain": "['analcatdata_creditscore',\n 'analcatdata_cyyoung8092',\n 'analcatdata_cyyoung9302',\n 'analcatdata_dmft']"
     },
     "execution_count": 141,
     "metadata": {},
     "output_type": "execute_result"
    }
   ],
   "source": [
    "classification_dataset_names"
   ],
   "metadata": {
    "collapsed": false
   }
  },
  {
   "cell_type": "code",
   "execution_count": 146,
   "outputs": [],
   "source": [
    "def experimentation(classification_dataset):\n",
    "    iters=2\n",
    "    res_rul = {}\n",
    "    sc = StandardScaler()\n",
    "    names = ['Reg-CART','CART','ORT','OCT','ORT-H','OCT-H','ORT+ORT-H','OCT+OCT-H']\n",
    "    df = fetch_data(classification_dataset)\n",
    "    df, num_col, bin_col, cat_col = corr_data_for(df)\n",
    "\n",
    "    y = df['target']\n",
    "    X = df.loc[:, df.columns != 'target']\n",
    "    #performance_by_iter = pd.DataFrame(columns = [\"Logistic Regression\", \"CART_rules\", \"OCT_rules\", \"OCTH_rules\", \"CART_rules_and_features\", \"OCT_rules_and_features\", \"OCTH_rules_and_features\"], index = np.arange(0, iters))\n",
    "    print(color.BOLD + '\\n\\n    ----------------------------------------- {} -----------------------------------------'.format(classification_dataset) + color.END)\n",
    "    rows_data, columns_data = X.shape\n",
    "    print('Dataset Information')\n",
    "    print('Rows:',rows_data,)\n",
    "    print('Columns:',columns_data)\n",
    "    print('Number of classes:',y.nunique())\n",
    "    print('Continous columns:', len(num_col))\n",
    "    print('Binary columns:', len(bin_col))\n",
    "    print('Categorical columns:',len(cat_col))\n",
    "    print('-------------------------------------------------')\n",
    "    for it in range(iters):\n",
    "        X_train, X_test, y_train, y_test = train_test_split(X,y, test_size = 0.2, random_state = it, stratify=y)\n",
    "        X_col = X_train.columns\n",
    "        col_len = len(X_col)\n",
    "        X_test.name = \"X_test\"\n",
    "        X_train.name = \"X_train\"\n",
    "        X_train = sc.fit_transform(X_train)\n",
    "        X_test = sc.transform(X_test)\n",
    "        X_train = pd.DataFrame(X_train,columns=X_col)\n",
    "        X_test = pd.DataFrame(X_test,columns=X_col)\n",
    "\n",
    "\n",
    "\n",
    "        models, performance = generate_tree(X_train, y_train, X_test, y_test, n_num=1, feat_size=len(X.columns),  max_iter_hy=2,depth_grid=range(1,4), depth_grid_hy=range(1,3), complexity_bi = 0.001, complexity_hy=0.001,  Reg_CART=False, ORT=False, ORT_H=False, Clas_CART=True, OCT=True, OCT_H=True)\n",
    "        for perf,name in zip(performance,names):\n",
    "            if not not perf:\n",
    "                res_rul[(classification_dataset,name,it,col_len)] = sum(perf) / len(perf)\n",
    "\n",
    "        act_name = []\n",
    "        act_rules = []\n",
    "        for model,name in zip(models,names):\n",
    "            if not not model:\n",
    "                act_name += [name]\n",
    "                act_rules += [model]\n",
    "\n",
    "        datasets = gen_train_and_test_features(act_rules ,act_name , X_train, X_test)\n",
    "        for model in datasets.keys():\n",
    "\n",
    "            X_train_rules_and_features, X_test_rules_and_features = datasets[model][0]\n",
    "            X_train_only_rules, X_test_only_rules = datasets[model][1]\n",
    "\n",
    "            factors = [round(col_len*0.5),col_len,round(col_len*1.25),round(col_len*1.5),round(col_len*2)]\n",
    "            factors_name = [0.5,1,1.25,1.5,2]\n",
    "\n",
    "            for len_c,fac_name in zip(factors,factors_name):\n",
    "                if len_c > len(X_train_only_rules.columns):\n",
    "                    min_len = len(X_train_only_rules.columns)\n",
    "                    min_name = 1\n",
    "                else:\n",
    "                    min_len = len_c\n",
    "                    min_name = fac_name\n",
    "                if len_c > X_train.shape[1]:\n",
    "                    res_rul[(classification_dataset,model + \"_LG_rules\",it,factors_name)] = np.nan\n",
    "                    res_rul[(classification_dataset,model + \"_LG_rules_and_features\",it,factors_name)] = np.nan\n",
    "                    res_rul[(classification_dataset,model + \"_SVM_rules\",it,factors_name)] = np.nan\n",
    "                    res_rul[(classification_dataset,model + \"_SVM_rules_and_features\",it,factors_name)] = np.nan\n",
    "                    res_rul[(classification_dataset,model + \"_NB_rules\",it,factors_name)] = np.nan\n",
    "                    res_rul[(classification_dataset,model + \"_NB_rules_and_features\",it,factors_name)] = np.nan\n",
    "                    res_rul[(classification_dataset,model + \"_KNN_rules\",it,factors_name)] = np.nan\n",
    "                    res_rul[(classification_dataset,model + \"_KNN_rules_and_features\",it,factors_name)] = np.nan\n",
    "                else:\n",
    "                    cols = SelectKBest(k=len_c).fit(X_train_rules_and_features,y_train).get_feature_names_out()\n",
    "                    X_train_rules_features = X_train_rules_and_features[cols]\n",
    "                    X_test_rules_features = X_test_rules_and_features[cols]\n",
    "\n",
    "                    cols_1 = SelectKBest(k=min_len).fit(X_train_only_rules,y_train).get_feature_names_out()\n",
    "                    X_train_rules = X_train_only_rules[cols_1]\n",
    "                    X_test_rules = X_test_only_rules[cols_1]\n",
    "\n",
    "                    only_rules_acc = log_regression_pipeline(X_train_rules, X_test_rules, y_train, y_test)\n",
    "                    rules_and_features_acc = log_regression_pipeline(X_train_rules_features, X_test_rules_features, y_train, y_test)\n",
    "                    res_rul[(classification_dataset,model + \"_LG_rules\",it,min_name)] = only_rules_acc\n",
    "                    res_rul[(classification_dataset,model + \"_LG_rules_and_features\",it,fac_name)] = rules_and_features_acc\n",
    "\n",
    "                    only_rules_acc_SVM = SVM_pipeline(X_train_rules, X_test_rules, y_train, y_test)\n",
    "                    rules_and_features_acc_SVM = SVM_pipeline(X_train_rules_features, X_test_rules_features, y_train, y_test)\n",
    "                    res_rul[(classification_dataset,model + \"_SVM_rules\",it,min_name)] = only_rules_acc_SVM\n",
    "                    res_rul[(classification_dataset,model + \"_SVM_rules_and_features\",it,fac_name)] = rules_and_features_acc_SVM\n",
    "\n",
    "                    only_rules_acc_NB = NB_pipeline(X_train_rules, X_test_rules, y_train, y_test)\n",
    "                    rules_and_features_acc_NB = NB_pipeline(X_train_rules_features, X_test_rules_features, y_train, y_test)\n",
    "                    res_rul[(classification_dataset,model + \"_NB_rules\",it,min_name)] = only_rules_acc_NB\n",
    "                    res_rul[(classification_dataset,model + \"_NB_rules_and_features\",it,fac_name)] = rules_and_features_acc_NB\n",
    "\n",
    "                    only_rules_acc_KNN = KNN_pipeline(X_train_rules, X_test_rules, y_train, y_test)\n",
    "                    rules_and_features_acc_KNN = KNN_pipeline(X_train_rules_features, X_test_rules_features, y_train, y_test)\n",
    "                    res_rul[(classification_dataset,model + \"_KNN_rules\",it,min_name)] = only_rules_acc_KNN\n",
    "                    res_rul[(classification_dataset,model + \"_KNN_rules_and_features\",it,fac_name)] = rules_and_features_acc_KNN\n",
    "\n",
    "        res_rul[(classification_dataset,'Logistic_Regression',it,col_len)] = log_regression_pipeline(X_train, X_test, y_train, y_test)\n",
    "\n",
    "        res_rul[(classification_dataset,\"Support Vector Machine\",it,col_len)] = SVM_pipeline(X_train, X_test, y_train, y_test)\n",
    "\n",
    "        res_rul[(classification_dataset,\"Naive Bayes\",it,col_len)] = NB_pipeline(X_train, X_test, y_train, y_test)\n",
    "\n",
    "        res_rul[(classification_dataset,\"K-Nearest-Neighbor\",it,col_len)] = KNN_pipeline(X_train, X_test, y_train, y_test)\n",
    "\n",
    "    return res_rul\n"
   ],
   "metadata": {
    "collapsed": false
   }
  },
  {
   "cell_type": "code",
   "execution_count": 147,
   "outputs": [
    {
     "name": "stderr",
     "output_type": "stream",
     "text": [
      "100%|██████████| 4/4 [00:29<00:00,  7.29s/it]\n"
     ]
    },
    {
     "ename": "TypeError",
     "evalue": "unhashable type: 'list'",
     "output_type": "error",
     "traceback": [
      "\u001B[1;31m---------------------------------------------------------------------------\u001B[0m",
      "\u001B[1;31m_RemoteTraceback\u001B[0m                          Traceback (most recent call last)",
      "\u001B[1;31m_RemoteTraceback\u001B[0m: \n\"\"\"\nTraceback (most recent call last):\n  File \"C:\\Users\\paulr\\PycharmProjects\\pythonProject\\ORRFA-2\\venv\\Lib\\site-packages\\joblib\\externals\\loky\\process_executor.py\", line 428, in _process_worker\n    r = call_item()\n        ^^^^^^^^^^^\n  File \"C:\\Users\\paulr\\PycharmProjects\\pythonProject\\ORRFA-2\\venv\\Lib\\site-packages\\joblib\\externals\\loky\\process_executor.py\", line 275, in __call__\n    return self.fn(*self.args, **self.kwargs)\n           ^^^^^^^^^^^^^^^^^^^^^^^^^^^^^^^^^^\n  File \"C:\\Users\\paulr\\PycharmProjects\\pythonProject\\ORRFA-2\\venv\\Lib\\site-packages\\joblib\\_parallel_backends.py\", line 620, in __call__\n    return self.func(*args, **kwargs)\n           ^^^^^^^^^^^^^^^^^^^^^^^^^^\n  File \"C:\\Users\\paulr\\PycharmProjects\\pythonProject\\ORRFA-2\\venv\\Lib\\site-packages\\joblib\\parallel.py\", line 288, in __call__\n    return [func(*args, **kwargs)\n           ^^^^^^^^^^^^^^^^^^^^^^\n  File \"C:\\Users\\paulr\\PycharmProjects\\pythonProject\\ORRFA-2\\venv\\Lib\\site-packages\\joblib\\parallel.py\", line 288, in <listcomp>\n    return [func(*args, **kwargs)\n            ^^^^^^^^^^^^^^^^^^^^^\n  File \"C:\\Users\\paulr\\AppData\\Local\\Temp\\ipykernel_40324\\4047116012.py\", line 64, in experimentation\nTypeError: unhashable type: 'list'\n\"\"\"",
      "\nThe above exception was the direct cause of the following exception:\n",
      "\u001B[1;31mTypeError\u001B[0m                                 Traceback (most recent call last)",
      "Cell \u001B[1;32mIn [147], line 3\u001B[0m\n\u001B[0;32m      1\u001B[0m \u001B[38;5;28;01mfrom\u001B[39;00m \u001B[38;5;21;01mjoblib\u001B[39;00m \u001B[38;5;28;01mimport\u001B[39;00m delayed\n\u001B[0;32m      2\u001B[0m \u001B[38;5;28;01mfrom\u001B[39;00m \u001B[38;5;21;01mtqdm\u001B[39;00m \u001B[38;5;28;01mimport\u001B[39;00m tqdm\n\u001B[1;32m----> 3\u001B[0m res_rul \u001B[38;5;241m=\u001B[39m \u001B[43mProgressParallel\u001B[49m\u001B[43m(\u001B[49m\u001B[43mn_jobs\u001B[49m\u001B[38;5;241;43m=\u001B[39;49m\u001B[38;5;241;43m-\u001B[39;49m\u001B[38;5;241;43m1\u001B[39;49m\u001B[43m)\u001B[49m\u001B[43m(\u001B[49m\u001B[43mdelayed\u001B[49m\u001B[43m(\u001B[49m\u001B[43mexperimentation\u001B[49m\u001B[43m)\u001B[49m\u001B[43m(\u001B[49m\u001B[43mdata\u001B[49m\u001B[43m)\u001B[49m\u001B[43m \u001B[49m\u001B[38;5;28;43;01mfor\u001B[39;49;00m\u001B[43m \u001B[49m\u001B[43mdata\u001B[49m\u001B[43m \u001B[49m\u001B[38;5;129;43;01min\u001B[39;49;00m\u001B[43m \u001B[49m\u001B[43mclassification_dataset_names\u001B[49m\u001B[43m)\u001B[49m\n",
      "Cell \u001B[1;32mIn [138], line 12\u001B[0m, in \u001B[0;36mProgressParallel.__call__\u001B[1;34m(self, *args, **kwargs)\u001B[0m\n\u001B[0;32m     10\u001B[0m \u001B[38;5;28;01mdef\u001B[39;00m \u001B[38;5;21m__call__\u001B[39m(\u001B[38;5;28mself\u001B[39m, \u001B[38;5;241m*\u001B[39margs, \u001B[38;5;241m*\u001B[39m\u001B[38;5;241m*\u001B[39mkwargs):\n\u001B[0;32m     11\u001B[0m     \u001B[38;5;28;01mwith\u001B[39;00m tqdm(disable\u001B[38;5;241m=\u001B[39m\u001B[38;5;129;01mnot\u001B[39;00m \u001B[38;5;28mself\u001B[39m\u001B[38;5;241m.\u001B[39m_use_tqdm, total\u001B[38;5;241m=\u001B[39m\u001B[38;5;28mself\u001B[39m\u001B[38;5;241m.\u001B[39m_total) \u001B[38;5;28;01mas\u001B[39;00m \u001B[38;5;28mself\u001B[39m\u001B[38;5;241m.\u001B[39m_pbar:\n\u001B[1;32m---> 12\u001B[0m         \u001B[38;5;28;01mreturn\u001B[39;00m \u001B[43mParallel\u001B[49m\u001B[38;5;241;43m.\u001B[39;49m\u001B[38;5;21;43m__call__\u001B[39;49m\u001B[43m(\u001B[49m\u001B[38;5;28;43mself\u001B[39;49m\u001B[43m,\u001B[49m\u001B[43m \u001B[49m\u001B[38;5;241;43m*\u001B[39;49m\u001B[43margs\u001B[49m\u001B[43m,\u001B[49m\u001B[43m \u001B[49m\u001B[38;5;241;43m*\u001B[39;49m\u001B[38;5;241;43m*\u001B[39;49m\u001B[43mkwargs\u001B[49m\u001B[43m)\u001B[49m\n",
      "File \u001B[1;32m~\\PycharmProjects\\pythonProject\\ORRFA-2\\venv\\Lib\\site-packages\\joblib\\parallel.py:1098\u001B[0m, in \u001B[0;36mParallel.__call__\u001B[1;34m(self, iterable)\u001B[0m\n\u001B[0;32m   1095\u001B[0m     \u001B[38;5;28mself\u001B[39m\u001B[38;5;241m.\u001B[39m_iterating \u001B[38;5;241m=\u001B[39m \u001B[38;5;28;01mFalse\u001B[39;00m\n\u001B[0;32m   1097\u001B[0m \u001B[38;5;28;01mwith\u001B[39;00m \u001B[38;5;28mself\u001B[39m\u001B[38;5;241m.\u001B[39m_backend\u001B[38;5;241m.\u001B[39mretrieval_context():\n\u001B[1;32m-> 1098\u001B[0m     \u001B[38;5;28;43mself\u001B[39;49m\u001B[38;5;241;43m.\u001B[39;49m\u001B[43mretrieve\u001B[49m\u001B[43m(\u001B[49m\u001B[43m)\u001B[49m\n\u001B[0;32m   1099\u001B[0m \u001B[38;5;66;03m# Make sure that we get a last message telling us we are done\u001B[39;00m\n\u001B[0;32m   1100\u001B[0m elapsed_time \u001B[38;5;241m=\u001B[39m time\u001B[38;5;241m.\u001B[39mtime() \u001B[38;5;241m-\u001B[39m \u001B[38;5;28mself\u001B[39m\u001B[38;5;241m.\u001B[39m_start_time\n",
      "File \u001B[1;32m~\\PycharmProjects\\pythonProject\\ORRFA-2\\venv\\Lib\\site-packages\\joblib\\parallel.py:975\u001B[0m, in \u001B[0;36mParallel.retrieve\u001B[1;34m(self)\u001B[0m\n\u001B[0;32m    973\u001B[0m \u001B[38;5;28;01mtry\u001B[39;00m:\n\u001B[0;32m    974\u001B[0m     \u001B[38;5;28;01mif\u001B[39;00m \u001B[38;5;28mgetattr\u001B[39m(\u001B[38;5;28mself\u001B[39m\u001B[38;5;241m.\u001B[39m_backend, \u001B[38;5;124m'\u001B[39m\u001B[38;5;124msupports_timeout\u001B[39m\u001B[38;5;124m'\u001B[39m, \u001B[38;5;28;01mFalse\u001B[39;00m):\n\u001B[1;32m--> 975\u001B[0m         \u001B[38;5;28mself\u001B[39m\u001B[38;5;241m.\u001B[39m_output\u001B[38;5;241m.\u001B[39mextend(\u001B[43mjob\u001B[49m\u001B[38;5;241;43m.\u001B[39;49m\u001B[43mget\u001B[49m\u001B[43m(\u001B[49m\u001B[43mtimeout\u001B[49m\u001B[38;5;241;43m=\u001B[39;49m\u001B[38;5;28;43mself\u001B[39;49m\u001B[38;5;241;43m.\u001B[39;49m\u001B[43mtimeout\u001B[49m\u001B[43m)\u001B[49m)\n\u001B[0;32m    976\u001B[0m     \u001B[38;5;28;01melse\u001B[39;00m:\n\u001B[0;32m    977\u001B[0m         \u001B[38;5;28mself\u001B[39m\u001B[38;5;241m.\u001B[39m_output\u001B[38;5;241m.\u001B[39mextend(job\u001B[38;5;241m.\u001B[39mget())\n",
      "File \u001B[1;32m~\\PycharmProjects\\pythonProject\\ORRFA-2\\venv\\Lib\\site-packages\\joblib\\_parallel_backends.py:567\u001B[0m, in \u001B[0;36mLokyBackend.wrap_future_result\u001B[1;34m(future, timeout)\u001B[0m\n\u001B[0;32m    564\u001B[0m \u001B[38;5;124;03m\"\"\"Wrapper for Future.result to implement the same behaviour as\u001B[39;00m\n\u001B[0;32m    565\u001B[0m \u001B[38;5;124;03mAsyncResults.get from multiprocessing.\"\"\"\u001B[39;00m\n\u001B[0;32m    566\u001B[0m \u001B[38;5;28;01mtry\u001B[39;00m:\n\u001B[1;32m--> 567\u001B[0m     \u001B[38;5;28;01mreturn\u001B[39;00m \u001B[43mfuture\u001B[49m\u001B[38;5;241;43m.\u001B[39;49m\u001B[43mresult\u001B[49m\u001B[43m(\u001B[49m\u001B[43mtimeout\u001B[49m\u001B[38;5;241;43m=\u001B[39;49m\u001B[43mtimeout\u001B[49m\u001B[43m)\u001B[49m\n\u001B[0;32m    568\u001B[0m \u001B[38;5;28;01mexcept\u001B[39;00m CfTimeoutError \u001B[38;5;28;01mas\u001B[39;00m e:\n\u001B[0;32m    569\u001B[0m     \u001B[38;5;28;01mraise\u001B[39;00m \u001B[38;5;167;01mTimeoutError\u001B[39;00m \u001B[38;5;28;01mfrom\u001B[39;00m \u001B[38;5;21;01me\u001B[39;00m\n",
      "File \u001B[1;32mC:\\Program Files\\Python311\\Lib\\concurrent\\futures\\_base.py:456\u001B[0m, in \u001B[0;36mFuture.result\u001B[1;34m(self, timeout)\u001B[0m\n\u001B[0;32m    454\u001B[0m     \u001B[38;5;28;01mraise\u001B[39;00m CancelledError()\n\u001B[0;32m    455\u001B[0m \u001B[38;5;28;01melif\u001B[39;00m \u001B[38;5;28mself\u001B[39m\u001B[38;5;241m.\u001B[39m_state \u001B[38;5;241m==\u001B[39m FINISHED:\n\u001B[1;32m--> 456\u001B[0m     \u001B[38;5;28;01mreturn\u001B[39;00m \u001B[38;5;28;43mself\u001B[39;49m\u001B[38;5;241;43m.\u001B[39;49m\u001B[43m__get_result\u001B[49m\u001B[43m(\u001B[49m\u001B[43m)\u001B[49m\n\u001B[0;32m    457\u001B[0m \u001B[38;5;28;01melse\u001B[39;00m:\n\u001B[0;32m    458\u001B[0m     \u001B[38;5;28;01mraise\u001B[39;00m \u001B[38;5;167;01mTimeoutError\u001B[39;00m()\n",
      "File \u001B[1;32mC:\\Program Files\\Python311\\Lib\\concurrent\\futures\\_base.py:401\u001B[0m, in \u001B[0;36mFuture.__get_result\u001B[1;34m(self)\u001B[0m\n\u001B[0;32m    399\u001B[0m \u001B[38;5;28;01mif\u001B[39;00m \u001B[38;5;28mself\u001B[39m\u001B[38;5;241m.\u001B[39m_exception:\n\u001B[0;32m    400\u001B[0m     \u001B[38;5;28;01mtry\u001B[39;00m:\n\u001B[1;32m--> 401\u001B[0m         \u001B[38;5;28;01mraise\u001B[39;00m \u001B[38;5;28mself\u001B[39m\u001B[38;5;241m.\u001B[39m_exception\n\u001B[0;32m    402\u001B[0m     \u001B[38;5;28;01mfinally\u001B[39;00m:\n\u001B[0;32m    403\u001B[0m         \u001B[38;5;66;03m# Break a reference cycle with the exception in self._exception\u001B[39;00m\n\u001B[0;32m    404\u001B[0m         \u001B[38;5;28mself\u001B[39m \u001B[38;5;241m=\u001B[39m \u001B[38;5;28;01mNone\u001B[39;00m\n",
      "\u001B[1;31mTypeError\u001B[0m: unhashable type: 'list'"
     ]
    }
   ],
   "source": [
    "from joblib import delayed\n",
    "from tqdm import tqdm\n",
    "res_rul = ProgressParallel(n_jobs=-1)(delayed(experimentation)(data) for data in classification_dataset_names)"
   ],
   "metadata": {
    "collapsed": false
   }
  },
  {
   "cell_type": "code",
   "execution_count": 123,
   "outputs": [
    {
     "data": {
      "text/plain": "[{('analcatdata_creditscore', 'Reg-CART', 0, 11): nan,\n  ('analcatdata_creditscore', 'CART', 0, 11): 0.9833333333333334,\n  ('analcatdata_creditscore', 'ORT', 0, 11): nan,\n  ('analcatdata_creditscore', 'OCT', 0, 11): 1.0,\n  ('analcatdata_creditscore', 'ORT-H', 0, 11): nan,\n  ('analcatdata_creditscore', 'OCT-H', 0, 11): 1.0,\n  ('analcatdata_creditscore', 'CART_LG_rules', 0, 6): nan,\n  ('analcatdata_creditscore', 'CART_LG_rules_and_features', 0, 6): 1.0,\n  ('analcatdata_creditscore', 'CART_SVM_rules', 0, 6): nan,\n  ('analcatdata_creditscore', 'CART_SVM_rules_and_features', 0, 6): 0.95,\n  ('analcatdata_creditscore', 'CART_NB_rules', 0, 6): nan,\n  ('analcatdata_creditscore', 'CART_NB_rules_and_features', 0, 6): 0.95,\n  ('analcatdata_creditscore', 'CART_KNN_rules', 0, 6): nan,\n  ('analcatdata_creditscore', 'CART_KNN_rules_and_features', 0, 6): 1.0,\n  ('analcatdata_creditscore', 'CART_LG_rules_and_features', 0, 11): 1.0,\n  ('analcatdata_creditscore', 'CART_SVM_rules_and_features', 0, 11): 0.95,\n  ('analcatdata_creditscore', 'CART_NB_rules_and_features', 0, 11): 0.95,\n  ('analcatdata_creditscore', 'CART_KNN_rules_and_features', 0, 11): 1.0,\n  ('analcatdata_creditscore', 'CART_LG_rules_and_features', 0, 14): nan,\n  ('analcatdata_creditscore', 'CART_SVM_rules_and_features', 0, 14): nan,\n  ('analcatdata_creditscore', 'CART_NB_rules_and_features', 0, 14): nan,\n  ('analcatdata_creditscore', 'CART_KNN_rules_and_features', 0, 14): nan,\n  ('analcatdata_creditscore', 'CART_LG_rules_and_features', 0, 16): nan,\n  ('analcatdata_creditscore', 'CART_SVM_rules_and_features', 0, 16): nan,\n  ('analcatdata_creditscore', 'CART_NB_rules_and_features', 0, 16): nan,\n  ('analcatdata_creditscore', 'CART_KNN_rules_and_features', 0, 16): nan,\n  ('analcatdata_creditscore', 'CART_LG_rules_and_features', 0, 22): nan,\n  ('analcatdata_creditscore', 'CART_SVM_rules_and_features', 0, 22): nan,\n  ('analcatdata_creditscore', 'CART_NB_rules_and_features', 0, 22): nan,\n  ('analcatdata_creditscore', 'CART_KNN_rules_and_features', 0, 22): nan,\n  ('analcatdata_creditscore', 'OCT_LG_rules', 0, 5): nan,\n  ('analcatdata_creditscore', 'OCT_LG_rules_and_features', 0, 6): 1.0,\n  ('analcatdata_creditscore', 'OCT_SVM_rules', 0, 5): nan,\n  ('analcatdata_creditscore', 'OCT_SVM_rules_and_features', 0, 6): 1.0,\n  ('analcatdata_creditscore', 'OCT_NB_rules', 0, 5): nan,\n  ('analcatdata_creditscore', 'OCT_NB_rules_and_features', 0, 6): 1.0,\n  ('analcatdata_creditscore', 'OCT_KNN_rules', 0, 5): nan,\n  ('analcatdata_creditscore', 'OCT_KNN_rules_and_features', 0, 6): 1.0,\n  ('analcatdata_creditscore', 'OCT_LG_rules_and_features', 0, 11): 0.95,\n  ('analcatdata_creditscore', 'OCT_SVM_rules_and_features', 0, 11): 0.95,\n  ('analcatdata_creditscore', 'OCT_NB_rules_and_features', 0, 11): 0.95,\n  ('analcatdata_creditscore', 'OCT_KNN_rules_and_features', 0, 11): 1.0,\n  ('analcatdata_creditscore', 'OCT_LG_rules_and_features', 0, 14): nan,\n  ('analcatdata_creditscore', 'OCT_SVM_rules_and_features', 0, 14): nan,\n  ('analcatdata_creditscore', 'OCT_NB_rules_and_features', 0, 14): nan,\n  ('analcatdata_creditscore', 'OCT_KNN_rules_and_features', 0, 14): nan,\n  ('analcatdata_creditscore', 'OCT_LG_rules_and_features', 0, 16): nan,\n  ('analcatdata_creditscore', 'OCT_SVM_rules_and_features', 0, 16): nan,\n  ('analcatdata_creditscore', 'OCT_NB_rules_and_features', 0, 16): nan,\n  ('analcatdata_creditscore', 'OCT_KNN_rules_and_features', 0, 16): nan,\n  ('analcatdata_creditscore', 'OCT_LG_rules_and_features', 0, 22): nan,\n  ('analcatdata_creditscore', 'OCT_SVM_rules_and_features', 0, 22): nan,\n  ('analcatdata_creditscore', 'OCT_NB_rules_and_features', 0, 22): nan,\n  ('analcatdata_creditscore', 'OCT_KNN_rules_and_features', 0, 22): nan,\n  ('analcatdata_creditscore', 'OCT-H_LG_rules', 0, 4): nan,\n  ('analcatdata_creditscore', 'OCT-H_LG_rules_and_features', 0, 6): 1.0,\n  ('analcatdata_creditscore', 'OCT-H_SVM_rules', 0, 4): nan,\n  ('analcatdata_creditscore', 'OCT-H_SVM_rules_and_features', 0, 6): 1.0,\n  ('analcatdata_creditscore', 'OCT-H_NB_rules', 0, 4): nan,\n  ('analcatdata_creditscore', 'OCT-H_NB_rules_and_features', 0, 6): 1.0,\n  ('analcatdata_creditscore', 'OCT-H_KNN_rules', 0, 4): nan,\n  ('analcatdata_creditscore', 'OCT-H_KNN_rules_and_features', 0, 6): 1.0,\n  ('analcatdata_creditscore', 'OCT-H_LG_rules_and_features', 0, 11): 1.0,\n  ('analcatdata_creditscore', 'OCT-H_SVM_rules_and_features', 0, 11): 0.95,\n  ('analcatdata_creditscore', 'OCT-H_NB_rules_and_features', 0, 11): 0.95,\n  ('analcatdata_creditscore', 'OCT-H_KNN_rules_and_features', 0, 11): 1.0,\n  ('analcatdata_creditscore', 'OCT-H_LG_rules_and_features', 0, 14): nan,\n  ('analcatdata_creditscore', 'OCT-H_SVM_rules_and_features', 0, 14): nan,\n  ('analcatdata_creditscore', 'OCT-H_NB_rules_and_features', 0, 14): nan,\n  ('analcatdata_creditscore', 'OCT-H_KNN_rules_and_features', 0, 14): nan,\n  ('analcatdata_creditscore', 'OCT-H_LG_rules_and_features', 0, 16): nan,\n  ('analcatdata_creditscore', 'OCT-H_SVM_rules_and_features', 0, 16): nan,\n  ('analcatdata_creditscore', 'OCT-H_NB_rules_and_features', 0, 16): nan,\n  ('analcatdata_creditscore', 'OCT-H_KNN_rules_and_features', 0, 16): nan,\n  ('analcatdata_creditscore', 'OCT-H_LG_rules_and_features', 0, 22): nan,\n  ('analcatdata_creditscore', 'OCT-H_SVM_rules_and_features', 0, 22): nan,\n  ('analcatdata_creditscore', 'OCT-H_NB_rules_and_features', 0, 22): nan,\n  ('analcatdata_creditscore', 'OCT-H_KNN_rules_and_features', 0, 22): nan,\n  ('analcatdata_creditscore', 'OCT+OCT-H_LG_rules', 0, 6): 1.0,\n  ('analcatdata_creditscore', 'OCT+OCT-H_LG_rules_and_features', 0, 6): 1.0,\n  ('analcatdata_creditscore', 'OCT+OCT-H_SVM_rules', 0, 6): 1.0,\n  ('analcatdata_creditscore', 'OCT+OCT-H_SVM_rules_and_features', 0, 6): 1.0,\n  ('analcatdata_creditscore', 'OCT+OCT-H_NB_rules', 0, 6): 1.0,\n  ('analcatdata_creditscore', 'OCT+OCT-H_NB_rules_and_features', 0, 6): 1.0,\n  ('analcatdata_creditscore', 'OCT+OCT-H_KNN_rules', 0, 6): 1.0,\n  ('analcatdata_creditscore', 'OCT+OCT-H_KNN_rules_and_features', 0, 6): 1.0,\n  ('analcatdata_creditscore', 'OCT+OCT-H_LG_rules', 0, 9): nan,\n  ('analcatdata_creditscore', 'OCT+OCT-H_LG_rules_and_features', 0, 11): 1.0,\n  ('analcatdata_creditscore', 'OCT+OCT-H_SVM_rules', 0, 9): nan,\n  ('analcatdata_creditscore', 'OCT+OCT-H_SVM_rules_and_features', 0, 11): 0.95,\n  ('analcatdata_creditscore', 'OCT+OCT-H_NB_rules', 0, 9): nan,\n  ('analcatdata_creditscore', 'OCT+OCT-H_NB_rules_and_features', 0, 11): 0.95,\n  ('analcatdata_creditscore', 'OCT+OCT-H_KNN_rules', 0, 9): nan,\n  ('analcatdata_creditscore', 'OCT+OCT-H_KNN_rules_and_features', 0, 11): 1.0,\n  ('analcatdata_creditscore', 'OCT+OCT-H_LG_rules_and_features', 0, 14): nan,\n  ('analcatdata_creditscore', 'OCT+OCT-H_SVM_rules_and_features', 0, 14): nan,\n  ('analcatdata_creditscore', 'OCT+OCT-H_NB_rules_and_features', 0, 14): nan,\n  ('analcatdata_creditscore', 'OCT+OCT-H_KNN_rules_and_features', 0, 14): nan,\n  ('analcatdata_creditscore', 'OCT+OCT-H_LG_rules_and_features', 0, 16): nan,\n  ('analcatdata_creditscore', 'OCT+OCT-H_SVM_rules_and_features', 0, 16): nan,\n  ('analcatdata_creditscore', 'OCT+OCT-H_NB_rules_and_features', 0, 16): nan,\n  ('analcatdata_creditscore', 'OCT+OCT-H_KNN_rules_and_features', 0, 16): nan,\n  ('analcatdata_creditscore', 'OCT+OCT-H_LG_rules_and_features', 0, 22): nan,\n  ('analcatdata_creditscore', 'OCT+OCT-H_SVM_rules_and_features', 0, 22): nan,\n  ('analcatdata_creditscore', 'OCT+OCT-H_NB_rules_and_features', 0, 22): nan,\n  ('analcatdata_creditscore', 'OCT+OCT-H_KNN_rules_and_features', 0, 22): nan,\n  ('analcatdata_creditscore', 'Logistic_Regression', 0, 11): 0.8,\n  ('analcatdata_creditscore', 'Support Vector Machine', 0, 11): 0.75,\n  ('analcatdata_creditscore', 'Naive Bayes', 0, 11): 0.75,\n  ('analcatdata_creditscore', 'K-Nearest-Neighbor', 0, 11): 0.9,\n  ('analcatdata_creditscore', 'Reg-CART', 1, 11): nan,\n  ('analcatdata_creditscore', 'CART', 1, 11): 0.9499999999999998,\n  ('analcatdata_creditscore', 'ORT', 1, 11): nan,\n  ('analcatdata_creditscore', 'OCT', 1, 11): 0.9499999999999998,\n  ('analcatdata_creditscore', 'ORT-H', 1, 11): nan,\n  ('analcatdata_creditscore', 'OCT-H', 1, 11): 0.95,\n  ('analcatdata_creditscore', 'CART_LG_rules', 1, 2): nan,\n  ('analcatdata_creditscore', 'CART_LG_rules_and_features', 1, 6): 0.95,\n  ('analcatdata_creditscore', 'CART_SVM_rules', 1, 2): nan,\n  ('analcatdata_creditscore', 'CART_SVM_rules_and_features', 1, 6): 0.9,\n  ('analcatdata_creditscore', 'CART_NB_rules', 1, 2): nan,\n  ('analcatdata_creditscore', 'CART_NB_rules_and_features', 1, 6): 0.95,\n  ('analcatdata_creditscore', 'CART_KNN_rules', 1, 2): nan,\n  ('analcatdata_creditscore', 'CART_KNN_rules_and_features', 1, 6): 0.95,\n  ('analcatdata_creditscore', 'CART_LG_rules_and_features', 1, 11): 0.95,\n  ('analcatdata_creditscore', 'CART_SVM_rules_and_features', 1, 11): 0.9,\n  ('analcatdata_creditscore', 'CART_NB_rules_and_features', 1, 11): 0.95,\n  ('analcatdata_creditscore', 'CART_KNN_rules_and_features', 1, 11): 0.8,\n  ('analcatdata_creditscore', 'CART_LG_rules_and_features', 1, 14): nan,\n  ('analcatdata_creditscore', 'CART_SVM_rules_and_features', 1, 14): nan,\n  ('analcatdata_creditscore', 'CART_NB_rules_and_features', 1, 14): nan,\n  ('analcatdata_creditscore', 'CART_KNN_rules_and_features', 1, 14): nan,\n  ('analcatdata_creditscore', 'CART_LG_rules_and_features', 1, 16): nan,\n  ('analcatdata_creditscore', 'CART_SVM_rules_and_features', 1, 16): nan,\n  ('analcatdata_creditscore', 'CART_NB_rules_and_features', 1, 16): nan,\n  ('analcatdata_creditscore', 'CART_KNN_rules_and_features', 1, 16): nan,\n  ('analcatdata_creditscore', 'CART_LG_rules_and_features', 1, 22): nan,\n  ('analcatdata_creditscore', 'CART_SVM_rules_and_features', 1, 22): nan,\n  ('analcatdata_creditscore', 'CART_NB_rules_and_features', 1, 22): nan,\n  ('analcatdata_creditscore', 'CART_KNN_rules_and_features', 1, 22): nan,\n  ('analcatdata_creditscore', 'OCT_LG_rules', 1, 2): nan,\n  ('analcatdata_creditscore', 'OCT_LG_rules_and_features', 1, 6): 0.95,\n  ('analcatdata_creditscore', 'OCT_SVM_rules', 1, 2): nan,\n  ('analcatdata_creditscore', 'OCT_SVM_rules_and_features', 1, 6): 0.9,\n  ('analcatdata_creditscore', 'OCT_NB_rules', 1, 2): nan,\n  ('analcatdata_creditscore', 'OCT_NB_rules_and_features', 1, 6): 0.95,\n  ('analcatdata_creditscore', 'OCT_KNN_rules', 1, 2): nan,\n  ('analcatdata_creditscore', 'OCT_KNN_rules_and_features', 1, 6): 0.95,\n  ('analcatdata_creditscore', 'OCT_LG_rules_and_features', 1, 11): 0.95,\n  ('analcatdata_creditscore', 'OCT_SVM_rules_and_features', 1, 11): 0.9,\n  ('analcatdata_creditscore', 'OCT_NB_rules_and_features', 1, 11): 0.95,\n  ('analcatdata_creditscore', 'OCT_KNN_rules_and_features', 1, 11): 0.8,\n  ('analcatdata_creditscore', 'OCT_LG_rules_and_features', 1, 14): nan,\n  ('analcatdata_creditscore', 'OCT_SVM_rules_and_features', 1, 14): nan,\n  ('analcatdata_creditscore', 'OCT_NB_rules_and_features', 1, 14): nan,\n  ('analcatdata_creditscore', 'OCT_KNN_rules_and_features', 1, 14): nan,\n  ('analcatdata_creditscore', 'OCT_LG_rules_and_features', 1, 16): nan,\n  ('analcatdata_creditscore', 'OCT_SVM_rules_and_features', 1, 16): nan,\n  ('analcatdata_creditscore', 'OCT_NB_rules_and_features', 1, 16): nan,\n  ('analcatdata_creditscore', 'OCT_KNN_rules_and_features', 1, 16): nan,\n  ('analcatdata_creditscore', 'OCT_LG_rules_and_features', 1, 22): nan,\n  ('analcatdata_creditscore', 'OCT_SVM_rules_and_features', 1, 22): nan,\n  ('analcatdata_creditscore', 'OCT_NB_rules_and_features', 1, 22): nan,\n  ('analcatdata_creditscore', 'OCT_KNN_rules_and_features', 1, 22): nan,\n  ('analcatdata_creditscore', 'OCT-H_LG_rules', 1, 2): nan,\n  ('analcatdata_creditscore', 'OCT-H_LG_rules_and_features', 1, 6): 0.95,\n  ('analcatdata_creditscore', 'OCT-H_SVM_rules', 1, 2): nan,\n  ('analcatdata_creditscore', 'OCT-H_SVM_rules_and_features', 1, 6): 0.9,\n  ('analcatdata_creditscore', 'OCT-H_NB_rules', 1, 2): nan,\n  ('analcatdata_creditscore', 'OCT-H_NB_rules_and_features', 1, 6): 0.95,\n  ('analcatdata_creditscore', 'OCT-H_KNN_rules', 1, 2): nan,\n  ('analcatdata_creditscore', 'OCT-H_KNN_rules_and_features', 1, 6): 0.95,\n  ('analcatdata_creditscore', 'OCT-H_LG_rules_and_features', 1, 11): 0.95,\n  ('analcatdata_creditscore', 'OCT-H_SVM_rules_and_features', 1, 11): 0.9,\n  ('analcatdata_creditscore', 'OCT-H_NB_rules_and_features', 1, 11): 0.95,\n  ('analcatdata_creditscore', 'OCT-H_KNN_rules_and_features', 1, 11): 0.8,\n  ('analcatdata_creditscore', 'OCT-H_LG_rules_and_features', 1, 14): nan,\n  ('analcatdata_creditscore', 'OCT-H_SVM_rules_and_features', 1, 14): nan,\n  ('analcatdata_creditscore', 'OCT-H_NB_rules_and_features', 1, 14): nan,\n  ('analcatdata_creditscore', 'OCT-H_KNN_rules_and_features', 1, 14): nan,\n  ('analcatdata_creditscore', 'OCT-H_LG_rules_and_features', 1, 16): nan,\n  ('analcatdata_creditscore', 'OCT-H_SVM_rules_and_features', 1, 16): nan,\n  ('analcatdata_creditscore', 'OCT-H_NB_rules_and_features', 1, 16): nan,\n  ('analcatdata_creditscore', 'OCT-H_KNN_rules_and_features', 1, 16): nan,\n  ('analcatdata_creditscore', 'OCT-H_LG_rules_and_features', 1, 22): nan,\n  ('analcatdata_creditscore', 'OCT-H_SVM_rules_and_features', 1, 22): nan,\n  ('analcatdata_creditscore', 'OCT-H_NB_rules_and_features', 1, 22): nan,\n  ('analcatdata_creditscore', 'OCT-H_KNN_rules_and_features', 1, 22): nan,\n  ('analcatdata_creditscore', 'OCT+OCT-H_LG_rules', 1, 2): nan,\n  ('analcatdata_creditscore', 'OCT+OCT-H_LG_rules_and_features', 1, 6): 0.95,\n  ('analcatdata_creditscore', 'OCT+OCT-H_SVM_rules', 1, 2): nan,\n  ('analcatdata_creditscore', 'OCT+OCT-H_SVM_rules_and_features', 1, 6): 0.9,\n  ('analcatdata_creditscore', 'OCT+OCT-H_NB_rules', 1, 2): nan,\n  ('analcatdata_creditscore', 'OCT+OCT-H_NB_rules_and_features', 1, 6): 0.95,\n  ('analcatdata_creditscore', 'OCT+OCT-H_KNN_rules', 1, 2): nan,\n  ('analcatdata_creditscore', 'OCT+OCT-H_KNN_rules_and_features', 1, 6): 0.95,\n  ('analcatdata_creditscore', 'OCT+OCT-H_LG_rules_and_features', 1, 11): 0.95,\n  ('analcatdata_creditscore', 'OCT+OCT-H_SVM_rules_and_features', 1, 11): 0.9,\n  ('analcatdata_creditscore', 'OCT+OCT-H_NB_rules_and_features', 1, 11): 0.95,\n  ('analcatdata_creditscore', 'OCT+OCT-H_KNN_rules_and_features', 1, 11): 0.8,\n  ('analcatdata_creditscore', 'OCT+OCT-H_LG_rules_and_features', 1, 14): nan,\n  ('analcatdata_creditscore', 'OCT+OCT-H_SVM_rules_and_features', 1, 14): nan,\n  ('analcatdata_creditscore', 'OCT+OCT-H_NB_rules_and_features', 1, 14): nan,\n  ('analcatdata_creditscore', 'OCT+OCT-H_KNN_rules_and_features', 1, 14): nan,\n  ('analcatdata_creditscore', 'OCT+OCT-H_LG_rules_and_features', 1, 16): nan,\n  ('analcatdata_creditscore', 'OCT+OCT-H_SVM_rules_and_features', 1, 16): nan,\n  ('analcatdata_creditscore', 'OCT+OCT-H_NB_rules_and_features', 1, 16): nan,\n  ('analcatdata_creditscore', 'OCT+OCT-H_KNN_rules_and_features', 1, 16): nan,\n  ('analcatdata_creditscore', 'OCT+OCT-H_LG_rules_and_features', 1, 22): nan,\n  ('analcatdata_creditscore', 'OCT+OCT-H_SVM_rules_and_features', 1, 22): nan,\n  ('analcatdata_creditscore', 'OCT+OCT-H_NB_rules_and_features', 1, 22): nan,\n  ('analcatdata_creditscore', 'OCT+OCT-H_KNN_rules_and_features', 1, 22): nan,\n  ('analcatdata_creditscore', 'Logistic_Regression', 1, 11): 0.8,\n  ('analcatdata_creditscore', 'Support Vector Machine', 1, 11): 0.8,\n  ('analcatdata_creditscore', 'Naive Bayes', 1, 11): 0.75,\n  ('analcatdata_creditscore', 'K-Nearest-Neighbor', 1, 11): 0.7},\n {('analcatdata_cyyoung8092', 'Reg-CART', 0, 10): nan,\n  ('analcatdata_cyyoung8092', 'CART', 0, 10): 0.8166666666666668,\n  ('analcatdata_cyyoung8092', 'ORT', 0, 10): nan,\n  ('analcatdata_cyyoung8092', 'OCT', 0, 10): 0.8166666666666668,\n  ('analcatdata_cyyoung8092', 'ORT-H', 0, 10): nan,\n  ('analcatdata_cyyoung8092', 'OCT-H', 0, 10): 0.8,\n  ('analcatdata_cyyoung8092', 'CART_LG_rules', 0, 5): 0.8,\n  ('analcatdata_cyyoung8092', 'CART_LG_rules_and_features', 0, 5): 0.8,\n  ('analcatdata_cyyoung8092', 'CART_SVM_rules', 0, 5): 0.85,\n  ('analcatdata_cyyoung8092', 'CART_SVM_rules_and_features', 0, 5): 0.85,\n  ('analcatdata_cyyoung8092', 'CART_NB_rules', 0, 5): 0.8,\n  ('analcatdata_cyyoung8092', 'CART_NB_rules_and_features', 0, 5): 0.8,\n  ('analcatdata_cyyoung8092', 'CART_KNN_rules', 0, 5): 0.8,\n  ('analcatdata_cyyoung8092', 'CART_KNN_rules_and_features', 0, 5): 0.8,\n  ('analcatdata_cyyoung8092', 'CART_LG_rules', 0, 10): nan,\n  ('analcatdata_cyyoung8092', 'CART_LG_rules_and_features', 0, 10): 0.85,\n  ('analcatdata_cyyoung8092', 'CART_SVM_rules', 0, 10): nan,\n  ('analcatdata_cyyoung8092', 'CART_SVM_rules_and_features', 0, 10): 0.85,\n  ('analcatdata_cyyoung8092', 'CART_NB_rules', 0, 10): nan,\n  ('analcatdata_cyyoung8092', 'CART_NB_rules_and_features', 0, 10): 0.8,\n  ('analcatdata_cyyoung8092', 'CART_KNN_rules', 0, 10): nan,\n  ('analcatdata_cyyoung8092', 'CART_KNN_rules_and_features', 0, 10): 0.85,\n  ('analcatdata_cyyoung8092', 'CART_LG_rules_and_features', 0, 12): nan,\n  ('analcatdata_cyyoung8092', 'CART_SVM_rules_and_features', 0, 12): nan,\n  ('analcatdata_cyyoung8092', 'CART_NB_rules_and_features', 0, 12): nan,\n  ('analcatdata_cyyoung8092', 'CART_KNN_rules_and_features', 0, 12): nan,\n  ('analcatdata_cyyoung8092', 'CART_LG_rules_and_features', 0, 15): nan,\n  ('analcatdata_cyyoung8092', 'CART_SVM_rules_and_features', 0, 15): nan,\n  ('analcatdata_cyyoung8092', 'CART_NB_rules_and_features', 0, 15): nan,\n  ('analcatdata_cyyoung8092', 'CART_KNN_rules_and_features', 0, 15): nan,\n  ('analcatdata_cyyoung8092', 'CART_LG_rules_and_features', 0, 20): nan,\n  ('analcatdata_cyyoung8092', 'CART_SVM_rules_and_features', 0, 20): nan,\n  ('analcatdata_cyyoung8092', 'CART_NB_rules_and_features', 0, 20): nan,\n  ('analcatdata_cyyoung8092', 'CART_KNN_rules_and_features', 0, 20): nan,\n  ('analcatdata_cyyoung8092', 'OCT_LG_rules', 0, 5): 0.8,\n  ('analcatdata_cyyoung8092', 'OCT_LG_rules_and_features', 0, 5): 0.8,\n  ('analcatdata_cyyoung8092', 'OCT_SVM_rules', 0, 5): 0.8,\n  ('analcatdata_cyyoung8092', 'OCT_SVM_rules_and_features', 0, 5): 0.8,\n  ('analcatdata_cyyoung8092', 'OCT_NB_rules', 0, 5): 0.8,\n  ('analcatdata_cyyoung8092', 'OCT_NB_rules_and_features', 0, 5): 0.8,\n  ('analcatdata_cyyoung8092', 'OCT_KNN_rules', 0, 5): 0.8,\n  ('analcatdata_cyyoung8092', 'OCT_KNN_rules_and_features', 0, 5): 0.8,\n  ('analcatdata_cyyoung8092', 'OCT_LG_rules', 0, 10): 0.8,\n  ('analcatdata_cyyoung8092', 'OCT_LG_rules_and_features', 0, 10): 0.85,\n  ('analcatdata_cyyoung8092', 'OCT_SVM_rules', 0, 10): 0.85,\n  ('analcatdata_cyyoung8092', 'OCT_SVM_rules_and_features', 0, 10): 0.85,\n  ('analcatdata_cyyoung8092', 'OCT_NB_rules', 0, 10): 0.85,\n  ('analcatdata_cyyoung8092', 'OCT_NB_rules_and_features', 0, 10): 0.8,\n  ('analcatdata_cyyoung8092', 'OCT_KNN_rules', 0, 10): 0.8,\n  ('analcatdata_cyyoung8092', 'OCT_KNN_rules_and_features', 0, 10): 0.85,\n  ('analcatdata_cyyoung8092', 'OCT_LG_rules', 0, 12): nan,\n  ('analcatdata_cyyoung8092', 'OCT_LG_rules_and_features', 0, 12): nan,\n  ('analcatdata_cyyoung8092', 'OCT_SVM_rules', 0, 12): nan,\n  ('analcatdata_cyyoung8092', 'OCT_SVM_rules_and_features', 0, 12): nan,\n  ('analcatdata_cyyoung8092', 'OCT_NB_rules', 0, 12): nan,\n  ('analcatdata_cyyoung8092', 'OCT_NB_rules_and_features', 0, 12): nan,\n  ('analcatdata_cyyoung8092', 'OCT_KNN_rules', 0, 12): nan,\n  ('analcatdata_cyyoung8092', 'OCT_KNN_rules_and_features', 0, 12): nan,\n  ('analcatdata_cyyoung8092', 'OCT_LG_rules', 0, 13): nan,\n  ('analcatdata_cyyoung8092', 'OCT_LG_rules_and_features', 0, 15): nan,\n  ('analcatdata_cyyoung8092', 'OCT_SVM_rules', 0, 13): nan,\n  ('analcatdata_cyyoung8092', 'OCT_SVM_rules_and_features', 0, 15): nan,\n  ('analcatdata_cyyoung8092', 'OCT_NB_rules', 0, 13): nan,\n  ('analcatdata_cyyoung8092', 'OCT_NB_rules_and_features', 0, 15): nan,\n  ('analcatdata_cyyoung8092', 'OCT_KNN_rules', 0, 13): nan,\n  ('analcatdata_cyyoung8092', 'OCT_KNN_rules_and_features', 0, 15): nan,\n  ('analcatdata_cyyoung8092', 'OCT_LG_rules_and_features', 0, 20): nan,\n  ('analcatdata_cyyoung8092', 'OCT_SVM_rules_and_features', 0, 20): nan,\n  ('analcatdata_cyyoung8092', 'OCT_NB_rules_and_features', 0, 20): nan,\n  ('analcatdata_cyyoung8092', 'OCT_KNN_rules_and_features', 0, 20): nan,\n  ('analcatdata_cyyoung8092', 'OCT-H_LG_rules', 0, 5): 0.75,\n  ('analcatdata_cyyoung8092', 'OCT-H_LG_rules_and_features', 0, 5): 0.75,\n  ('analcatdata_cyyoung8092', 'OCT-H_SVM_rules', 0, 5): 0.7,\n  ('analcatdata_cyyoung8092', 'OCT-H_SVM_rules_and_features', 0, 5): 0.7,\n  ('analcatdata_cyyoung8092', 'OCT-H_NB_rules', 0, 5): 0.8,\n  ('analcatdata_cyyoung8092', 'OCT-H_NB_rules_and_features', 0, 5): 0.75,\n  ('analcatdata_cyyoung8092', 'OCT-H_KNN_rules', 0, 5): 0.8,\n  ('analcatdata_cyyoung8092', 'OCT-H_KNN_rules_and_features', 0, 5): 0.75,\n  ('analcatdata_cyyoung8092', 'OCT-H_LG_rules', 0, 6): nan,\n  ('analcatdata_cyyoung8092', 'OCT-H_LG_rules_and_features', 0, 10): 0.75,\n  ('analcatdata_cyyoung8092', 'OCT-H_SVM_rules', 0, 6): nan,\n  ('analcatdata_cyyoung8092', 'OCT-H_SVM_rules_and_features', 0, 10): 0.8,\n  ('analcatdata_cyyoung8092', 'OCT-H_NB_rules', 0, 6): nan,\n  ('analcatdata_cyyoung8092', 'OCT-H_NB_rules_and_features', 0, 10): 0.8,\n  ('analcatdata_cyyoung8092', 'OCT-H_KNN_rules', 0, 6): nan,\n  ('analcatdata_cyyoung8092', 'OCT-H_KNN_rules_and_features', 0, 10): 0.8,\n  ('analcatdata_cyyoung8092', 'OCT-H_LG_rules_and_features', 0, 12): nan,\n  ('analcatdata_cyyoung8092', 'OCT-H_SVM_rules_and_features', 0, 12): nan,\n  ('analcatdata_cyyoung8092', 'OCT-H_NB_rules_and_features', 0, 12): nan,\n  ('analcatdata_cyyoung8092', 'OCT-H_KNN_rules_and_features', 0, 12): nan,\n  ('analcatdata_cyyoung8092', 'OCT-H_LG_rules_and_features', 0, 15): nan,\n  ('analcatdata_cyyoung8092', 'OCT-H_SVM_rules_and_features', 0, 15): nan,\n  ('analcatdata_cyyoung8092', 'OCT-H_NB_rules_and_features', 0, 15): nan,\n  ('analcatdata_cyyoung8092', 'OCT-H_KNN_rules_and_features', 0, 15): nan,\n  ('analcatdata_cyyoung8092', 'OCT-H_LG_rules_and_features', 0, 20): nan,\n  ('analcatdata_cyyoung8092', 'OCT-H_SVM_rules_and_features', 0, 20): nan,\n  ('analcatdata_cyyoung8092', 'OCT-H_NB_rules_and_features', 0, 20): nan,\n  ('analcatdata_cyyoung8092', 'OCT-H_KNN_rules_and_features', 0, 20): nan,\n  ('analcatdata_cyyoung8092', 'OCT+OCT-H_LG_rules', 0, 5): 0.75,\n  ('analcatdata_cyyoung8092', 'OCT+OCT-H_LG_rules_and_features', 0, 5): 0.75,\n  ('analcatdata_cyyoung8092', 'OCT+OCT-H_SVM_rules', 0, 5): 0.7,\n  ('analcatdata_cyyoung8092', 'OCT+OCT-H_SVM_rules_and_features', 0, 5): 0.7,\n  ('analcatdata_cyyoung8092', 'OCT+OCT-H_NB_rules', 0, 5): 0.75,\n  ('analcatdata_cyyoung8092', 'OCT+OCT-H_NB_rules_and_features', 0, 5): 0.75,\n  ('analcatdata_cyyoung8092', 'OCT+OCT-H_KNN_rules', 0, 5): 0.75,\n  ('analcatdata_cyyoung8092', 'OCT+OCT-H_KNN_rules_and_features', 0, 5): 0.75,\n  ('analcatdata_cyyoung8092', 'OCT+OCT-H_LG_rules', 0, 10): 0.75,\n  ('analcatdata_cyyoung8092', 'OCT+OCT-H_LG_rules_and_features', 0, 10): 0.75,\n  ('analcatdata_cyyoung8092', 'OCT+OCT-H_SVM_rules', 0, 10): 0.75,\n  ('analcatdata_cyyoung8092', 'OCT+OCT-H_SVM_rules_and_features', 0, 10): 0.7,\n  ('analcatdata_cyyoung8092', 'OCT+OCT-H_NB_rules', 0, 10): 0.75,\n  ('analcatdata_cyyoung8092', 'OCT+OCT-H_NB_rules_and_features', 0, 10): 0.75,\n  ('analcatdata_cyyoung8092', 'OCT+OCT-H_KNN_rules', 0, 10): 0.8,\n  ('analcatdata_cyyoung8092', 'OCT+OCT-H_KNN_rules_and_features', 0, 10): 0.8,\n  ('analcatdata_cyyoung8092', 'OCT+OCT-H_LG_rules', 0, 12): nan,\n  ('analcatdata_cyyoung8092', 'OCT+OCT-H_LG_rules_and_features', 0, 12): nan,\n  ('analcatdata_cyyoung8092', 'OCT+OCT-H_SVM_rules', 0, 12): nan,\n  ('analcatdata_cyyoung8092', 'OCT+OCT-H_SVM_rules_and_features', 0, 12): nan,\n  ('analcatdata_cyyoung8092', 'OCT+OCT-H_NB_rules', 0, 12): nan,\n  ('analcatdata_cyyoung8092', 'OCT+OCT-H_NB_rules_and_features', 0, 12): nan,\n  ('analcatdata_cyyoung8092', 'OCT+OCT-H_KNN_rules', 0, 12): nan,\n  ('analcatdata_cyyoung8092', 'OCT+OCT-H_KNN_rules_and_features', 0, 12): nan,\n  ('analcatdata_cyyoung8092', 'OCT+OCT-H_LG_rules', 0, 15): nan,\n  ('analcatdata_cyyoung8092', 'OCT+OCT-H_LG_rules_and_features', 0, 15): nan,\n  ('analcatdata_cyyoung8092', 'OCT+OCT-H_SVM_rules', 0, 15): nan,\n  ('analcatdata_cyyoung8092', 'OCT+OCT-H_SVM_rules_and_features', 0, 15): nan,\n  ('analcatdata_cyyoung8092', 'OCT+OCT-H_NB_rules', 0, 15): nan,\n  ('analcatdata_cyyoung8092', 'OCT+OCT-H_NB_rules_and_features', 0, 15): nan,\n  ('analcatdata_cyyoung8092', 'OCT+OCT-H_KNN_rules', 0, 15): nan,\n  ('analcatdata_cyyoung8092', 'OCT+OCT-H_KNN_rules_and_features', 0, 15): nan,\n  ('analcatdata_cyyoung8092', 'OCT+OCT-H_LG_rules', 0, 19): nan,\n  ('analcatdata_cyyoung8092', 'OCT+OCT-H_LG_rules_and_features', 0, 20): nan,\n  ('analcatdata_cyyoung8092', 'OCT+OCT-H_SVM_rules', 0, 19): nan,\n  ('analcatdata_cyyoung8092', 'OCT+OCT-H_SVM_rules_and_features', 0, 20): nan,\n  ('analcatdata_cyyoung8092', 'OCT+OCT-H_NB_rules', 0, 19): nan,\n  ('analcatdata_cyyoung8092', 'OCT+OCT-H_NB_rules_and_features', 0, 20): nan,\n  ('analcatdata_cyyoung8092', 'OCT+OCT-H_KNN_rules', 0, 19): nan,\n  ('analcatdata_cyyoung8092', 'OCT+OCT-H_KNN_rules_and_features', 0, 20): nan,\n  ('analcatdata_cyyoung8092', 'Logistic_Regression', 0, 10): 0.95,\n  ('analcatdata_cyyoung8092', 'Support Vector Machine', 0, 10): 0.85,\n  ('analcatdata_cyyoung8092', 'Naive Bayes', 0, 10): 0.65,\n  ('analcatdata_cyyoung8092', 'K-Nearest-Neighbor', 0, 10): 0.75,\n  ('analcatdata_cyyoung8092', 'Reg-CART', 1, 10): nan,\n  ('analcatdata_cyyoung8092', 'CART', 1, 10): 0.8166666666666668,\n  ('analcatdata_cyyoung8092', 'ORT', 1, 10): nan,\n  ('analcatdata_cyyoung8092', 'OCT', 1, 10): 0.7999999999999999,\n  ('analcatdata_cyyoung8092', 'ORT-H', 1, 10): nan,\n  ('analcatdata_cyyoung8092', 'OCT-H', 1, 10): 0.875,\n  ('analcatdata_cyyoung8092', 'CART_LG_rules', 1, 5): 0.9,\n  ('analcatdata_cyyoung8092', 'CART_LG_rules_and_features', 1, 5): 0.9,\n  ('analcatdata_cyyoung8092', 'CART_SVM_rules', 1, 5): 0.9,\n  ('analcatdata_cyyoung8092', 'CART_SVM_rules_and_features', 1, 5): 0.9,\n  ('analcatdata_cyyoung8092', 'CART_NB_rules', 1, 5): 0.85,\n  ('analcatdata_cyyoung8092', 'CART_NB_rules_and_features', 1, 5): 0.85,\n  ('analcatdata_cyyoung8092', 'CART_KNN_rules', 1, 5): 0.8,\n  ('analcatdata_cyyoung8092', 'CART_KNN_rules_and_features', 1, 5): 0.8,\n  ('analcatdata_cyyoung8092', 'CART_LG_rules', 1, 10): nan,\n  ('analcatdata_cyyoung8092', 'CART_LG_rules_and_features', 1, 10): 0.85,\n  ('analcatdata_cyyoung8092', 'CART_SVM_rules', 1, 10): nan,\n  ('analcatdata_cyyoung8092', 'CART_SVM_rules_and_features', 1, 10): 0.9,\n  ('analcatdata_cyyoung8092', 'CART_NB_rules', 1, 10): nan,\n  ('analcatdata_cyyoung8092', 'CART_NB_rules_and_features', 1, 10): 0.8,\n  ('analcatdata_cyyoung8092', 'CART_KNN_rules', 1, 10): nan,\n  ('analcatdata_cyyoung8092', 'CART_KNN_rules_and_features', 1, 10): 0.85,\n  ('analcatdata_cyyoung8092', 'CART_LG_rules_and_features', 1, 12): nan,\n  ('analcatdata_cyyoung8092', 'CART_SVM_rules_and_features', 1, 12): nan,\n  ('analcatdata_cyyoung8092', 'CART_NB_rules_and_features', 1, 12): nan,\n  ('analcatdata_cyyoung8092', 'CART_KNN_rules_and_features', 1, 12): nan,\n  ('analcatdata_cyyoung8092', 'CART_LG_rules_and_features', 1, 15): nan,\n  ('analcatdata_cyyoung8092', 'CART_SVM_rules_and_features', 1, 15): nan,\n  ('analcatdata_cyyoung8092', 'CART_NB_rules_and_features', 1, 15): nan,\n  ('analcatdata_cyyoung8092', 'CART_KNN_rules_and_features', 1, 15): nan,\n  ('analcatdata_cyyoung8092', 'CART_LG_rules_and_features', 1, 20): nan,\n  ('analcatdata_cyyoung8092', 'CART_SVM_rules_and_features', 1, 20): nan,\n  ('analcatdata_cyyoung8092', 'CART_NB_rules_and_features', 1, 20): nan,\n  ('analcatdata_cyyoung8092', 'CART_KNN_rules_and_features', 1, 20): nan,\n  ('analcatdata_cyyoung8092', 'OCT_LG_rules', 1, 5): 0.85,\n  ('analcatdata_cyyoung8092', 'OCT_LG_rules_and_features', 1, 5): 0.85,\n  ('analcatdata_cyyoung8092', 'OCT_SVM_rules', 1, 5): 0.85,\n  ('analcatdata_cyyoung8092', 'OCT_SVM_rules_and_features', 1, 5): 0.85,\n  ('analcatdata_cyyoung8092', 'OCT_NB_rules', 1, 5): 0.85,\n  ('analcatdata_cyyoung8092', 'OCT_NB_rules_and_features', 1, 5): 0.85,\n  ('analcatdata_cyyoung8092', 'OCT_KNN_rules', 1, 5): 0.8,\n  ('analcatdata_cyyoung8092', 'OCT_KNN_rules_and_features', 1, 5): 0.8,\n  ('analcatdata_cyyoung8092', 'OCT_LG_rules', 1, 10): 0.85,\n  ('analcatdata_cyyoung8092', 'OCT_LG_rules_and_features', 1, 10): 0.85,\n  ('analcatdata_cyyoung8092', 'OCT_SVM_rules', 1, 10): 0.75,\n  ('analcatdata_cyyoung8092', 'OCT_SVM_rules_and_features', 1, 10): 0.8,\n  ('analcatdata_cyyoung8092', 'OCT_NB_rules', 1, 10): 0.75,\n  ('analcatdata_cyyoung8092', 'OCT_NB_rules_and_features', 1, 10): 0.75,\n  ('analcatdata_cyyoung8092', 'OCT_KNN_rules', 1, 10): 0.75,\n  ('analcatdata_cyyoung8092', 'OCT_KNN_rules_and_features', 1, 10): 0.75,\n  ('analcatdata_cyyoung8092', 'OCT_LG_rules', 1, 12): nan,\n  ('analcatdata_cyyoung8092', 'OCT_LG_rules_and_features', 1, 12): nan,\n  ('analcatdata_cyyoung8092', 'OCT_SVM_rules', 1, 12): nan,\n  ('analcatdata_cyyoung8092', 'OCT_SVM_rules_and_features', 1, 12): nan,\n  ('analcatdata_cyyoung8092', 'OCT_NB_rules', 1, 12): nan,\n  ('analcatdata_cyyoung8092', 'OCT_NB_rules_and_features', 1, 12): nan,\n  ('analcatdata_cyyoung8092', 'OCT_KNN_rules', 1, 12): nan,\n  ('analcatdata_cyyoung8092', 'OCT_KNN_rules_and_features', 1, 12): nan,\n  ('analcatdata_cyyoung8092', 'OCT_LG_rules', 1, 13): nan,\n  ('analcatdata_cyyoung8092', 'OCT_LG_rules_and_features', 1, 15): nan,\n  ('analcatdata_cyyoung8092', 'OCT_SVM_rules', 1, 13): nan,\n  ('analcatdata_cyyoung8092', 'OCT_SVM_rules_and_features', 1, 15): nan,\n  ('analcatdata_cyyoung8092', 'OCT_NB_rules', 1, 13): nan,\n  ('analcatdata_cyyoung8092', 'OCT_NB_rules_and_features', 1, 15): nan,\n  ('analcatdata_cyyoung8092', 'OCT_KNN_rules', 1, 13): nan,\n  ('analcatdata_cyyoung8092', 'OCT_KNN_rules_and_features', 1, 15): nan,\n  ('analcatdata_cyyoung8092', 'OCT_LG_rules_and_features', 1, 20): nan,\n  ('analcatdata_cyyoung8092', 'OCT_SVM_rules_and_features', 1, 20): nan,\n  ('analcatdata_cyyoung8092', 'OCT_NB_rules_and_features', 1, 20): nan,\n  ('analcatdata_cyyoung8092', 'OCT_KNN_rules_and_features', 1, 20): nan,\n  ('analcatdata_cyyoung8092', 'OCT-H_LG_rules', 1, 5): 0.85,\n  ('analcatdata_cyyoung8092', 'OCT-H_LG_rules_and_features', 1, 5): 0.85,\n  ('analcatdata_cyyoung8092', 'OCT-H_SVM_rules', 1, 5): 0.9,\n  ('analcatdata_cyyoung8092', 'OCT-H_SVM_rules_and_features', 1, 5): 0.9,\n  ('analcatdata_cyyoung8092', 'OCT-H_NB_rules', 1, 5): 0.9,\n  ('analcatdata_cyyoung8092', 'OCT-H_NB_rules_and_features', 1, 5): 0.9,\n  ('analcatdata_cyyoung8092', 'OCT-H_KNN_rules', 1, 5): 0.85,\n  ('analcatdata_cyyoung8092', 'OCT-H_KNN_rules_and_features', 1, 5): 0.85,\n  ('analcatdata_cyyoung8092', 'OCT-H_LG_rules', 1, 6): nan,\n  ('analcatdata_cyyoung8092', 'OCT-H_LG_rules_and_features', 1, 10): 0.9,\n  ('analcatdata_cyyoung8092', 'OCT-H_SVM_rules', 1, 6): nan,\n  ('analcatdata_cyyoung8092', 'OCT-H_SVM_rules_and_features', 1, 10): 0.85,\n  ('analcatdata_cyyoung8092', 'OCT-H_NB_rules', 1, 6): nan,\n  ('analcatdata_cyyoung8092', 'OCT-H_NB_rules_and_features', 1, 10): 0.9,\n  ('analcatdata_cyyoung8092', 'OCT-H_KNN_rules', 1, 6): nan,\n  ('analcatdata_cyyoung8092', 'OCT-H_KNN_rules_and_features', 1, 10): 0.9,\n  ('analcatdata_cyyoung8092', 'OCT-H_LG_rules_and_features', 1, 12): nan,\n  ('analcatdata_cyyoung8092', 'OCT-H_SVM_rules_and_features', 1, 12): nan,\n  ('analcatdata_cyyoung8092', 'OCT-H_NB_rules_and_features', 1, 12): nan,\n  ('analcatdata_cyyoung8092', 'OCT-H_KNN_rules_and_features', 1, 12): nan,\n  ('analcatdata_cyyoung8092', 'OCT-H_LG_rules_and_features', 1, 15): nan,\n  ('analcatdata_cyyoung8092', 'OCT-H_SVM_rules_and_features', 1, 15): nan,\n  ('analcatdata_cyyoung8092', 'OCT-H_NB_rules_and_features', 1, 15): nan,\n  ('analcatdata_cyyoung8092', 'OCT-H_KNN_rules_and_features', 1, 15): nan,\n  ('analcatdata_cyyoung8092', 'OCT-H_LG_rules_and_features', 1, 20): nan,\n  ('analcatdata_cyyoung8092', 'OCT-H_SVM_rules_and_features', 1, 20): nan,\n  ('analcatdata_cyyoung8092', 'OCT-H_NB_rules_and_features', 1, 20): nan,\n  ('analcatdata_cyyoung8092', 'OCT-H_KNN_rules_and_features', 1, 20): nan,\n  ('analcatdata_cyyoung8092', 'OCT+OCT-H_LG_rules', 1, 5): 0.85,\n  ('analcatdata_cyyoung8092', 'OCT+OCT-H_LG_rules_and_features', 1, 5): 0.85,\n  ('analcatdata_cyyoung8092', 'OCT+OCT-H_SVM_rules', 1, 5): 0.85,\n  ('analcatdata_cyyoung8092', 'OCT+OCT-H_SVM_rules_and_features', 1, 5): 0.85,\n  ('analcatdata_cyyoung8092', 'OCT+OCT-H_NB_rules', 1, 5): 0.8,\n  ('analcatdata_cyyoung8092', 'OCT+OCT-H_NB_rules_and_features', 1, 5): 0.8,\n  ('analcatdata_cyyoung8092', 'OCT+OCT-H_KNN_rules', 1, 5): 0.8,\n  ('analcatdata_cyyoung8092', 'OCT+OCT-H_KNN_rules_and_features', 1, 5): 0.8,\n  ('analcatdata_cyyoung8092', 'OCT+OCT-H_LG_rules', 1, 10): 0.95,\n  ('analcatdata_cyyoung8092', 'OCT+OCT-H_LG_rules_and_features', 1, 10): 0.95,\n  ('analcatdata_cyyoung8092', 'OCT+OCT-H_SVM_rules', 1, 10): 0.95,\n  ('analcatdata_cyyoung8092', 'OCT+OCT-H_SVM_rules_and_features', 1, 10): 0.95,\n  ('analcatdata_cyyoung8092', 'OCT+OCT-H_NB_rules', 1, 10): 0.9,\n  ('analcatdata_cyyoung8092', 'OCT+OCT-H_NB_rules_and_features', 1, 10): 0.9,\n  ('analcatdata_cyyoung8092', 'OCT+OCT-H_KNN_rules', 1, 10): 0.85,\n  ('analcatdata_cyyoung8092', 'OCT+OCT-H_KNN_rules_and_features', 1, 10): 0.85,\n  ('analcatdata_cyyoung8092', 'OCT+OCT-H_LG_rules', 1, 12): nan,\n  ('analcatdata_cyyoung8092', 'OCT+OCT-H_LG_rules_and_features', 1, 12): nan,\n  ('analcatdata_cyyoung8092', 'OCT+OCT-H_SVM_rules', 1, 12): nan,\n  ('analcatdata_cyyoung8092', 'OCT+OCT-H_SVM_rules_and_features', 1, 12): nan,\n  ('analcatdata_cyyoung8092', 'OCT+OCT-H_NB_rules', 1, 12): nan,\n  ('analcatdata_cyyoung8092', 'OCT+OCT-H_NB_rules_and_features', 1, 12): nan,\n  ('analcatdata_cyyoung8092', 'OCT+OCT-H_KNN_rules', 1, 12): nan,\n  ('analcatdata_cyyoung8092', 'OCT+OCT-H_KNN_rules_and_features', 1, 12): nan,\n  ('analcatdata_cyyoung8092', 'OCT+OCT-H_LG_rules', 1, 15): nan,\n  ('analcatdata_cyyoung8092', 'OCT+OCT-H_LG_rules_and_features', 1, 15): nan,\n  ('analcatdata_cyyoung8092', 'OCT+OCT-H_SVM_rules', 1, 15): nan,\n  ('analcatdata_cyyoung8092', 'OCT+OCT-H_SVM_rules_and_features', 1, 15): nan,\n  ('analcatdata_cyyoung8092', 'OCT+OCT-H_NB_rules', 1, 15): nan,\n  ('analcatdata_cyyoung8092', 'OCT+OCT-H_NB_rules_and_features', 1, 15): nan,\n  ('analcatdata_cyyoung8092', 'OCT+OCT-H_KNN_rules', 1, 15): nan,\n  ('analcatdata_cyyoung8092', 'OCT+OCT-H_KNN_rules_and_features', 1, 15): nan,\n  ('analcatdata_cyyoung8092', 'OCT+OCT-H_LG_rules', 1, 19): nan,\n  ('analcatdata_cyyoung8092', 'OCT+OCT-H_LG_rules_and_features', 1, 20): nan,\n  ('analcatdata_cyyoung8092', 'OCT+OCT-H_SVM_rules', 1, 19): nan,\n  ('analcatdata_cyyoung8092', 'OCT+OCT-H_SVM_rules_and_features', 1, 20): nan,\n  ('analcatdata_cyyoung8092', 'OCT+OCT-H_NB_rules', 1, 19): nan,\n  ('analcatdata_cyyoung8092', 'OCT+OCT-H_NB_rules_and_features', 1, 20): nan,\n  ('analcatdata_cyyoung8092', 'OCT+OCT-H_KNN_rules', 1, 19): nan,\n  ('analcatdata_cyyoung8092', 'OCT+OCT-H_KNN_rules_and_features', 1, 20): nan,\n  ('analcatdata_cyyoung8092', 'Logistic_Regression', 1, 10): 0.9,\n  ('analcatdata_cyyoung8092', 'Support Vector Machine', 1, 10): 0.9,\n  ('analcatdata_cyyoung8092', 'Naive Bayes', 1, 10): 0.8,\n  ('analcatdata_cyyoung8092', 'K-Nearest-Neighbor', 1, 10): 0.9},\n {('analcatdata_cyyoung9302', 'Reg-CART', 0, 18): nan,\n  ('analcatdata_cyyoung9302', 'CART', 0, 18): 0.8421052631578947,\n  ('analcatdata_cyyoung9302', 'ORT', 0, 18): nan,\n  ('analcatdata_cyyoung9302', 'OCT', 0, 18): 0.7719298245614036,\n  ('analcatdata_cyyoung9302', 'ORT-H', 0, 18): nan,\n  ('analcatdata_cyyoung9302', 'OCT-H', 0, 18): 0.8947368421052632,\n  ('analcatdata_cyyoung9302', 'CART_LG_rules', 0, 9): 0.8421052631578947,\n  ('analcatdata_cyyoung9302',\n   'CART_LG_rules_and_features',\n   0,\n   9): 0.8947368421052632,\n  ('analcatdata_cyyoung9302', 'CART_SVM_rules', 0, 9): 0.7894736842105263,\n  ('analcatdata_cyyoung9302',\n   'CART_SVM_rules_and_features',\n   0,\n   9): 0.8421052631578947,\n  ('analcatdata_cyyoung9302', 'CART_NB_rules', 0, 9): 0.8421052631578947,\n  ('analcatdata_cyyoung9302',\n   'CART_NB_rules_and_features',\n   0,\n   9): 0.8421052631578947,\n  ('analcatdata_cyyoung9302', 'CART_KNN_rules', 0, 9): 0.8421052631578947,\n  ('analcatdata_cyyoung9302',\n   'CART_KNN_rules_and_features',\n   0,\n   9): 0.8947368421052632,\n  ('analcatdata_cyyoung9302', 'CART_LG_rules', 0, 10): nan,\n  ('analcatdata_cyyoung9302',\n   'CART_LG_rules_and_features',\n   0,\n   18): 0.7894736842105263,\n  ('analcatdata_cyyoung9302', 'CART_SVM_rules', 0, 10): nan,\n  ('analcatdata_cyyoung9302',\n   'CART_SVM_rules_and_features',\n   0,\n   18): 0.7894736842105263,\n  ('analcatdata_cyyoung9302', 'CART_NB_rules', 0, 10): nan,\n  ('analcatdata_cyyoung9302',\n   'CART_NB_rules_and_features',\n   0,\n   18): 0.7368421052631579,\n  ('analcatdata_cyyoung9302', 'CART_KNN_rules', 0, 10): nan,\n  ('analcatdata_cyyoung9302',\n   'CART_KNN_rules_and_features',\n   0,\n   18): 0.8421052631578947,\n  ('analcatdata_cyyoung9302', 'CART_LG_rules_and_features', 0, 22): nan,\n  ('analcatdata_cyyoung9302', 'CART_SVM_rules_and_features', 0, 22): nan,\n  ('analcatdata_cyyoung9302', 'CART_NB_rules_and_features', 0, 22): nan,\n  ('analcatdata_cyyoung9302', 'CART_KNN_rules_and_features', 0, 22): nan,\n  ('analcatdata_cyyoung9302', 'CART_LG_rules_and_features', 0, 27): nan,\n  ('analcatdata_cyyoung9302', 'CART_SVM_rules_and_features', 0, 27): nan,\n  ('analcatdata_cyyoung9302', 'CART_NB_rules_and_features', 0, 27): nan,\n  ('analcatdata_cyyoung9302', 'CART_KNN_rules_and_features', 0, 27): nan,\n  ('analcatdata_cyyoung9302', 'CART_LG_rules_and_features', 0, 36): nan,\n  ('analcatdata_cyyoung9302', 'CART_SVM_rules_and_features', 0, 36): nan,\n  ('analcatdata_cyyoung9302', 'CART_NB_rules_and_features', 0, 36): nan,\n  ('analcatdata_cyyoung9302', 'CART_KNN_rules_and_features', 0, 36): nan,\n  ('analcatdata_cyyoung9302', 'OCT_LG_rules', 0, 9): 0.7894736842105263,\n  ('analcatdata_cyyoung9302',\n   'OCT_LG_rules_and_features',\n   0,\n   9): 0.7894736842105263,\n  ('analcatdata_cyyoung9302', 'OCT_SVM_rules', 0, 9): 0.7368421052631579,\n  ('analcatdata_cyyoung9302',\n   'OCT_SVM_rules_and_features',\n   0,\n   9): 0.7894736842105263,\n  ('analcatdata_cyyoung9302', 'OCT_NB_rules', 0, 9): 0.7368421052631579,\n  ('analcatdata_cyyoung9302',\n   'OCT_NB_rules_and_features',\n   0,\n   9): 0.7368421052631579,\n  ('analcatdata_cyyoung9302', 'OCT_KNN_rules', 0, 9): 0.7894736842105263,\n  ('analcatdata_cyyoung9302',\n   'OCT_KNN_rules_and_features',\n   0,\n   9): 0.7894736842105263,\n  ('analcatdata_cyyoung9302', 'OCT_LG_rules', 0, 12): nan,\n  ('analcatdata_cyyoung9302',\n   'OCT_LG_rules_and_features',\n   0,\n   18): 0.7894736842105263,\n  ('analcatdata_cyyoung9302', 'OCT_SVM_rules', 0, 12): nan,\n  ('analcatdata_cyyoung9302',\n   'OCT_SVM_rules_and_features',\n   0,\n   18): 0.7894736842105263,\n  ('analcatdata_cyyoung9302', 'OCT_NB_rules', 0, 12): nan,\n  ('analcatdata_cyyoung9302',\n   'OCT_NB_rules_and_features',\n   0,\n   18): 0.7368421052631579,\n  ('analcatdata_cyyoung9302', 'OCT_KNN_rules', 0, 12): nan,\n  ('analcatdata_cyyoung9302',\n   'OCT_KNN_rules_and_features',\n   0,\n   18): 0.8421052631578947,\n  ('analcatdata_cyyoung9302', 'OCT_LG_rules_and_features', 0, 22): nan,\n  ('analcatdata_cyyoung9302', 'OCT_SVM_rules_and_features', 0, 22): nan,\n  ('analcatdata_cyyoung9302', 'OCT_NB_rules_and_features', 0, 22): nan,\n  ('analcatdata_cyyoung9302', 'OCT_KNN_rules_and_features', 0, 22): nan,\n  ('analcatdata_cyyoung9302', 'OCT_LG_rules_and_features', 0, 27): nan,\n  ('analcatdata_cyyoung9302', 'OCT_SVM_rules_and_features', 0, 27): nan,\n  ('analcatdata_cyyoung9302', 'OCT_NB_rules_and_features', 0, 27): nan,\n  ('analcatdata_cyyoung9302', 'OCT_KNN_rules_and_features', 0, 27): nan,\n  ('analcatdata_cyyoung9302', 'OCT_LG_rules_and_features', 0, 36): nan,\n  ('analcatdata_cyyoung9302', 'OCT_SVM_rules_and_features', 0, 36): nan,\n  ('analcatdata_cyyoung9302', 'OCT_NB_rules_and_features', 0, 36): nan,\n  ('analcatdata_cyyoung9302', 'OCT_KNN_rules_and_features', 0, 36): nan,\n  ('analcatdata_cyyoung9302', 'OCT-H_LG_rules', 0, 6): nan,\n  ('analcatdata_cyyoung9302',\n   'OCT-H_LG_rules_and_features',\n   0,\n   9): 0.9473684210526315,\n  ('analcatdata_cyyoung9302', 'OCT-H_SVM_rules', 0, 6): nan,\n  ('analcatdata_cyyoung9302',\n   'OCT-H_SVM_rules_and_features',\n   0,\n   9): 0.8947368421052632,\n  ('analcatdata_cyyoung9302', 'OCT-H_NB_rules', 0, 6): nan,\n  ('analcatdata_cyyoung9302',\n   'OCT-H_NB_rules_and_features',\n   0,\n   9): 0.8421052631578947,\n  ('analcatdata_cyyoung9302', 'OCT-H_KNN_rules', 0, 6): nan,\n  ('analcatdata_cyyoung9302',\n   'OCT-H_KNN_rules_and_features',\n   0,\n   9): 0.9473684210526315,\n  ('analcatdata_cyyoung9302',\n   'OCT-H_LG_rules_and_features',\n   0,\n   18): 0.8947368421052632,\n  ('analcatdata_cyyoung9302',\n   'OCT-H_SVM_rules_and_features',\n   0,\n   18): 0.7894736842105263,\n  ('analcatdata_cyyoung9302',\n   'OCT-H_NB_rules_and_features',\n   0,\n   18): 0.7368421052631579,\n  ('analcatdata_cyyoung9302',\n   'OCT-H_KNN_rules_and_features',\n   0,\n   18): 0.9473684210526315,\n  ('analcatdata_cyyoung9302', 'OCT-H_LG_rules_and_features', 0, 22): nan,\n  ('analcatdata_cyyoung9302', 'OCT-H_SVM_rules_and_features', 0, 22): nan,\n  ('analcatdata_cyyoung9302', 'OCT-H_NB_rules_and_features', 0, 22): nan,\n  ('analcatdata_cyyoung9302', 'OCT-H_KNN_rules_and_features', 0, 22): nan,\n  ('analcatdata_cyyoung9302', 'OCT-H_LG_rules_and_features', 0, 27): nan,\n  ('analcatdata_cyyoung9302', 'OCT-H_SVM_rules_and_features', 0, 27): nan,\n  ('analcatdata_cyyoung9302', 'OCT-H_NB_rules_and_features', 0, 27): nan,\n  ('analcatdata_cyyoung9302', 'OCT-H_KNN_rules_and_features', 0, 27): nan,\n  ('analcatdata_cyyoung9302', 'OCT-H_LG_rules_and_features', 0, 36): nan,\n  ('analcatdata_cyyoung9302', 'OCT-H_SVM_rules_and_features', 0, 36): nan,\n  ('analcatdata_cyyoung9302', 'OCT-H_NB_rules_and_features', 0, 36): nan,\n  ('analcatdata_cyyoung9302', 'OCT-H_KNN_rules_and_features', 0, 36): nan,\n  ('analcatdata_cyyoung9302', 'OCT+OCT-H_LG_rules', 0, 9): 0.8947368421052632,\n  ('analcatdata_cyyoung9302',\n   'OCT+OCT-H_LG_rules_and_features',\n   0,\n   9): 0.8947368421052632,\n  ('analcatdata_cyyoung9302', 'OCT+OCT-H_SVM_rules', 0, 9): 0.8421052631578947,\n  ('analcatdata_cyyoung9302',\n   'OCT+OCT-H_SVM_rules_and_features',\n   0,\n   9): 0.8421052631578947,\n  ('analcatdata_cyyoung9302', 'OCT+OCT-H_NB_rules', 0, 9): 0.8421052631578947,\n  ('analcatdata_cyyoung9302',\n   'OCT+OCT-H_NB_rules_and_features',\n   0,\n   9): 0.8421052631578947,\n  ('analcatdata_cyyoung9302', 'OCT+OCT-H_KNN_rules', 0, 9): 0.8421052631578947,\n  ('analcatdata_cyyoung9302',\n   'OCT+OCT-H_KNN_rules_and_features',\n   0,\n   9): 0.8421052631578947,\n  ('analcatdata_cyyoung9302', 'OCT+OCT-H_LG_rules', 0, 18): nan,\n  ('analcatdata_cyyoung9302',\n   'OCT+OCT-H_LG_rules_and_features',\n   0,\n   18): 0.8947368421052632,\n  ('analcatdata_cyyoung9302', 'OCT+OCT-H_SVM_rules', 0, 18): nan,\n  ('analcatdata_cyyoung9302',\n   'OCT+OCT-H_SVM_rules_and_features',\n   0,\n   18): 0.8947368421052632,\n  ('analcatdata_cyyoung9302', 'OCT+OCT-H_NB_rules', 0, 18): nan,\n  ('analcatdata_cyyoung9302',\n   'OCT+OCT-H_NB_rules_and_features',\n   0,\n   18): 0.8421052631578947,\n  ('analcatdata_cyyoung9302', 'OCT+OCT-H_KNN_rules', 0, 18): nan,\n  ('analcatdata_cyyoung9302',\n   'OCT+OCT-H_KNN_rules_and_features',\n   0,\n   18): 0.8947368421052632,\n  ('analcatdata_cyyoung9302', 'OCT+OCT-H_LG_rules_and_features', 0, 22): nan,\n  ('analcatdata_cyyoung9302', 'OCT+OCT-H_SVM_rules_and_features', 0, 22): nan,\n  ('analcatdata_cyyoung9302', 'OCT+OCT-H_NB_rules_and_features', 0, 22): nan,\n  ('analcatdata_cyyoung9302', 'OCT+OCT-H_KNN_rules_and_features', 0, 22): nan,\n  ('analcatdata_cyyoung9302', 'OCT+OCT-H_LG_rules_and_features', 0, 27): nan,\n  ('analcatdata_cyyoung9302', 'OCT+OCT-H_SVM_rules_and_features', 0, 27): nan,\n  ('analcatdata_cyyoung9302', 'OCT+OCT-H_NB_rules_and_features', 0, 27): nan,\n  ('analcatdata_cyyoung9302', 'OCT+OCT-H_KNN_rules_and_features', 0, 27): nan,\n  ('analcatdata_cyyoung9302', 'OCT+OCT-H_LG_rules_and_features', 0, 36): nan,\n  ('analcatdata_cyyoung9302', 'OCT+OCT-H_SVM_rules_and_features', 0, 36): nan,\n  ('analcatdata_cyyoung9302', 'OCT+OCT-H_NB_rules_and_features', 0, 36): nan,\n  ('analcatdata_cyyoung9302', 'OCT+OCT-H_KNN_rules_and_features', 0, 36): nan,\n  ('analcatdata_cyyoung9302',\n   'Logistic_Regression',\n   0,\n   18): 0.7894736842105263,\n  ('analcatdata_cyyoung9302',\n   'Support Vector Machine',\n   0,\n   18): 0.7894736842105263,\n  ('analcatdata_cyyoung9302', 'Naive Bayes', 0, 18): 0.631578947368421,\n  ('analcatdata_cyyoung9302', 'K-Nearest-Neighbor', 0, 18): 0.8947368421052632,\n  ('analcatdata_cyyoung9302', 'Reg-CART', 1, 18): nan,\n  ('analcatdata_cyyoung9302', 'CART', 1, 18): 0.7894736842105262,\n  ('analcatdata_cyyoung9302', 'ORT', 1, 18): nan,\n  ('analcatdata_cyyoung9302', 'OCT', 1, 18): 0.7894736842105262,\n  ('analcatdata_cyyoung9302', 'ORT-H', 1, 18): nan,\n  ('analcatdata_cyyoung9302', 'OCT-H', 1, 18): 0.7631578947368421,\n  ('analcatdata_cyyoung9302', 'CART_LG_rules', 1, 9): 0.7894736842105263,\n  ('analcatdata_cyyoung9302',\n   'CART_LG_rules_and_features',\n   1,\n   9): 0.8421052631578947,\n  ('analcatdata_cyyoung9302', 'CART_SVM_rules', 1, 9): 0.7894736842105263,\n  ('analcatdata_cyyoung9302',\n   'CART_SVM_rules_and_features',\n   1,\n   9): 0.8421052631578947,\n  ('analcatdata_cyyoung9302', 'CART_NB_rules', 1, 9): 0.7894736842105263,\n  ('analcatdata_cyyoung9302',\n   'CART_NB_rules_and_features',\n   1,\n   9): 0.7368421052631579,\n  ('analcatdata_cyyoung9302', 'CART_KNN_rules', 1, 9): 0.7894736842105263,\n  ('analcatdata_cyyoung9302',\n   'CART_KNN_rules_and_features',\n   1,\n   9): 0.8421052631578947,\n  ('analcatdata_cyyoung9302', 'CART_LG_rules', 1, 12): nan,\n  ('analcatdata_cyyoung9302',\n   'CART_LG_rules_and_features',\n   1,\n   18): 0.8947368421052632,\n  ('analcatdata_cyyoung9302', 'CART_SVM_rules', 1, 12): nan,\n  ('analcatdata_cyyoung9302',\n   'CART_SVM_rules_and_features',\n   1,\n   18): 0.8947368421052632,\n  ('analcatdata_cyyoung9302', 'CART_NB_rules', 1, 12): nan,\n  ('analcatdata_cyyoung9302',\n   'CART_NB_rules_and_features',\n   1,\n   18): 0.7368421052631579,\n  ('analcatdata_cyyoung9302', 'CART_KNN_rules', 1, 12): nan,\n  ('analcatdata_cyyoung9302',\n   'CART_KNN_rules_and_features',\n   1,\n   18): 0.8947368421052632,\n  ('analcatdata_cyyoung9302', 'CART_LG_rules_and_features', 1, 22): nan,\n  ('analcatdata_cyyoung9302', 'CART_SVM_rules_and_features', 1, 22): nan,\n  ('analcatdata_cyyoung9302', 'CART_NB_rules_and_features', 1, 22): nan,\n  ('analcatdata_cyyoung9302', 'CART_KNN_rules_and_features', 1, 22): nan,\n  ('analcatdata_cyyoung9302', 'CART_LG_rules_and_features', 1, 27): nan,\n  ('analcatdata_cyyoung9302', 'CART_SVM_rules_and_features', 1, 27): nan,\n  ('analcatdata_cyyoung9302', 'CART_NB_rules_and_features', 1, 27): nan,\n  ('analcatdata_cyyoung9302', 'CART_KNN_rules_and_features', 1, 27): nan,\n  ('analcatdata_cyyoung9302', 'CART_LG_rules_and_features', 1, 36): nan,\n  ('analcatdata_cyyoung9302', 'CART_SVM_rules_and_features', 1, 36): nan,\n  ('analcatdata_cyyoung9302', 'CART_NB_rules_and_features', 1, 36): nan,\n  ('analcatdata_cyyoung9302', 'CART_KNN_rules_and_features', 1, 36): nan,\n  ('analcatdata_cyyoung9302', 'OCT_LG_rules', 1, 9): 0.8421052631578947,\n  ('analcatdata_cyyoung9302',\n   'OCT_LG_rules_and_features',\n   1,\n   9): 0.8947368421052632,\n  ('analcatdata_cyyoung9302', 'OCT_SVM_rules', 1, 9): 0.7368421052631579,\n  ('analcatdata_cyyoung9302',\n   'OCT_SVM_rules_and_features',\n   1,\n   9): 0.9473684210526315,\n  ('analcatdata_cyyoung9302', 'OCT_NB_rules', 1, 9): 0.7368421052631579,\n  ('analcatdata_cyyoung9302',\n   'OCT_NB_rules_and_features',\n   1,\n   9): 0.7894736842105263,\n  ('analcatdata_cyyoung9302', 'OCT_KNN_rules', 1, 9): 0.7894736842105263,\n  ('analcatdata_cyyoung9302',\n   'OCT_KNN_rules_and_features',\n   1,\n   9): 0.8947368421052632,\n  ('analcatdata_cyyoung9302', 'OCT_LG_rules', 1, 14): nan,\n  ('analcatdata_cyyoung9302',\n   'OCT_LG_rules_and_features',\n   1,\n   18): 0.7894736842105263,\n  ('analcatdata_cyyoung9302', 'OCT_SVM_rules', 1, 14): nan,\n  ('analcatdata_cyyoung9302',\n   'OCT_SVM_rules_and_features',\n   1,\n   18): 0.8421052631578947,\n  ('analcatdata_cyyoung9302', 'OCT_NB_rules', 1, 14): nan,\n  ('analcatdata_cyyoung9302',\n   'OCT_NB_rules_and_features',\n   1,\n   18): 0.7368421052631579,\n  ('analcatdata_cyyoung9302', 'OCT_KNN_rules', 1, 14): nan,\n  ('analcatdata_cyyoung9302',\n   'OCT_KNN_rules_and_features',\n   1,\n   18): 0.8947368421052632,\n  ('analcatdata_cyyoung9302', 'OCT_LG_rules_and_features', 1, 22): nan,\n  ('analcatdata_cyyoung9302', 'OCT_SVM_rules_and_features', 1, 22): nan,\n  ('analcatdata_cyyoung9302', 'OCT_NB_rules_and_features', 1, 22): nan,\n  ('analcatdata_cyyoung9302', 'OCT_KNN_rules_and_features', 1, 22): nan,\n  ('analcatdata_cyyoung9302', 'OCT_LG_rules_and_features', 1, 27): nan,\n  ('analcatdata_cyyoung9302', 'OCT_SVM_rules_and_features', 1, 27): nan,\n  ('analcatdata_cyyoung9302', 'OCT_NB_rules_and_features', 1, 27): nan,\n  ('analcatdata_cyyoung9302', 'OCT_KNN_rules_and_features', 1, 27): nan,\n  ('analcatdata_cyyoung9302', 'OCT_LG_rules_and_features', 1, 36): nan,\n  ('analcatdata_cyyoung9302', 'OCT_SVM_rules_and_features', 1, 36): nan,\n  ('analcatdata_cyyoung9302', 'OCT_NB_rules_and_features', 1, 36): nan,\n  ('analcatdata_cyyoung9302', 'OCT_KNN_rules_and_features', 1, 36): nan,\n  ('analcatdata_cyyoung9302', 'OCT-H_LG_rules', 1, 6): nan,\n  ('analcatdata_cyyoung9302',\n   'OCT-H_LG_rules_and_features',\n   1,\n   9): 0.7894736842105263,\n  ('analcatdata_cyyoung9302', 'OCT-H_SVM_rules', 1, 6): nan,\n  ('analcatdata_cyyoung9302',\n   'OCT-H_SVM_rules_and_features',\n   1,\n   9): 0.7894736842105263,\n  ('analcatdata_cyyoung9302', 'OCT-H_NB_rules', 1, 6): nan,\n  ('analcatdata_cyyoung9302',\n   'OCT-H_NB_rules_and_features',\n   1,\n   9): 0.7368421052631579,\n  ('analcatdata_cyyoung9302', 'OCT-H_KNN_rules', 1, 6): nan,\n  ('analcatdata_cyyoung9302',\n   'OCT-H_KNN_rules_and_features',\n   1,\n   9): 0.8421052631578947,\n  ('analcatdata_cyyoung9302',\n   'OCT-H_LG_rules_and_features',\n   1,\n   18): 0.8421052631578947,\n  ('analcatdata_cyyoung9302',\n   'OCT-H_SVM_rules_and_features',\n   1,\n   18): 0.8421052631578947,\n  ('analcatdata_cyyoung9302',\n   'OCT-H_NB_rules_and_features',\n   1,\n   18): 0.7368421052631579,\n  ('analcatdata_cyyoung9302',\n   'OCT-H_KNN_rules_and_features',\n   1,\n   18): 0.8421052631578947,\n  ('analcatdata_cyyoung9302', 'OCT-H_LG_rules_and_features', 1, 22): nan,\n  ('analcatdata_cyyoung9302', 'OCT-H_SVM_rules_and_features', 1, 22): nan,\n  ('analcatdata_cyyoung9302', 'OCT-H_NB_rules_and_features', 1, 22): nan,\n  ('analcatdata_cyyoung9302', 'OCT-H_KNN_rules_and_features', 1, 22): nan,\n  ('analcatdata_cyyoung9302', 'OCT-H_LG_rules_and_features', 1, 27): nan,\n  ('analcatdata_cyyoung9302', 'OCT-H_SVM_rules_and_features', 1, 27): nan,\n  ('analcatdata_cyyoung9302', 'OCT-H_NB_rules_and_features', 1, 27): nan,\n  ('analcatdata_cyyoung9302', 'OCT-H_KNN_rules_and_features', 1, 27): nan,\n  ('analcatdata_cyyoung9302', 'OCT-H_LG_rules_and_features', 1, 36): nan,\n  ('analcatdata_cyyoung9302', 'OCT-H_SVM_rules_and_features', 1, 36): nan,\n  ('analcatdata_cyyoung9302', 'OCT-H_NB_rules_and_features', 1, 36): nan,\n  ('analcatdata_cyyoung9302', 'OCT-H_KNN_rules_and_features', 1, 36): nan,\n  ('analcatdata_cyyoung9302', 'OCT+OCT-H_LG_rules', 1, 9): 0.8421052631578947,\n  ('analcatdata_cyyoung9302',\n   'OCT+OCT-H_LG_rules_and_features',\n   1,\n   9): 0.8421052631578947,\n  ('analcatdata_cyyoung9302', 'OCT+OCT-H_SVM_rules', 1, 9): 0.7368421052631579,\n  ('analcatdata_cyyoung9302',\n   'OCT+OCT-H_SVM_rules_and_features',\n   1,\n   9): 0.7368421052631579,\n  ('analcatdata_cyyoung9302', 'OCT+OCT-H_NB_rules', 1, 9): 0.7368421052631579,\n  ('analcatdata_cyyoung9302',\n   'OCT+OCT-H_NB_rules_and_features',\n   1,\n   9): 0.7368421052631579,\n  ('analcatdata_cyyoung9302', 'OCT+OCT-H_KNN_rules', 1, 9): 0.8421052631578947,\n  ('analcatdata_cyyoung9302',\n   'OCT+OCT-H_KNN_rules_and_features',\n   1,\n   9): 0.8421052631578947,\n  ('analcatdata_cyyoung9302', 'OCT+OCT-H_LG_rules', 1, 18): 0.8421052631578947,\n  ('analcatdata_cyyoung9302',\n   'OCT+OCT-H_LG_rules_and_features',\n   1,\n   18): 0.8421052631578947,\n  ('analcatdata_cyyoung9302',\n   'OCT+OCT-H_SVM_rules',\n   1,\n   18): 0.7894736842105263,\n  ('analcatdata_cyyoung9302',\n   'OCT+OCT-H_SVM_rules_and_features',\n   1,\n   18): 0.8947368421052632,\n  ('analcatdata_cyyoung9302', 'OCT+OCT-H_NB_rules', 1, 18): 0.7894736842105263,\n  ('analcatdata_cyyoung9302',\n   'OCT+OCT-H_NB_rules_and_features',\n   1,\n   18): 0.7894736842105263,\n  ('analcatdata_cyyoung9302',\n   'OCT+OCT-H_KNN_rules',\n   1,\n   18): 0.8421052631578947,\n  ('analcatdata_cyyoung9302',\n   'OCT+OCT-H_KNN_rules_and_features',\n   1,\n   18): 0.8947368421052632,\n  ('analcatdata_cyyoung9302', 'OCT+OCT-H_LG_rules', 1, 20): nan,\n  ('analcatdata_cyyoung9302', 'OCT+OCT-H_LG_rules_and_features', 1, 22): nan,\n  ('analcatdata_cyyoung9302', 'OCT+OCT-H_SVM_rules', 1, 20): nan,\n  ('analcatdata_cyyoung9302', 'OCT+OCT-H_SVM_rules_and_features', 1, 22): nan,\n  ('analcatdata_cyyoung9302', 'OCT+OCT-H_NB_rules', 1, 20): nan,\n  ('analcatdata_cyyoung9302', 'OCT+OCT-H_NB_rules_and_features', 1, 22): nan,\n  ('analcatdata_cyyoung9302', 'OCT+OCT-H_KNN_rules', 1, 20): nan,\n  ('analcatdata_cyyoung9302', 'OCT+OCT-H_KNN_rules_and_features', 1, 22): nan,\n  ('analcatdata_cyyoung9302', 'OCT+OCT-H_LG_rules_and_features', 1, 27): nan,\n  ('analcatdata_cyyoung9302', 'OCT+OCT-H_SVM_rules_and_features', 1, 27): nan,\n  ('analcatdata_cyyoung9302', 'OCT+OCT-H_NB_rules_and_features', 1, 27): nan,\n  ('analcatdata_cyyoung9302', 'OCT+OCT-H_KNN_rules_and_features', 1, 27): nan,\n  ('analcatdata_cyyoung9302', 'OCT+OCT-H_LG_rules_and_features', 1, 36): nan,\n  ('analcatdata_cyyoung9302', 'OCT+OCT-H_SVM_rules_and_features', 1, 36): nan,\n  ('analcatdata_cyyoung9302', 'OCT+OCT-H_NB_rules_and_features', 1, 36): nan,\n  ('analcatdata_cyyoung9302', 'OCT+OCT-H_KNN_rules_and_features', 1, 36): nan,\n  ('analcatdata_cyyoung9302',\n   'Logistic_Regression',\n   1,\n   18): 0.8421052631578947,\n  ('analcatdata_cyyoung9302',\n   'Support Vector Machine',\n   1,\n   18): 0.8421052631578947,\n  ('analcatdata_cyyoung9302', 'Naive Bayes', 1, 18): 0.6842105263157895,\n  ('analcatdata_cyyoung9302',\n   'K-Nearest-Neighbor',\n   1,\n   18): 0.8421052631578947},\n {('analcatdata_dmft', 'Reg-CART', 0, 20): nan,\n  ('analcatdata_dmft', 'CART', 0, 20): 0.19583333333333333,\n  ('analcatdata_dmft', 'ORT', 0, 20): nan,\n  ('analcatdata_dmft', 'OCT', 0, 20): 0.21041666666666667,\n  ('analcatdata_dmft', 'ORT-H', 0, 20): nan,\n  ('analcatdata_dmft', 'OCT-H', 0, 20): 0.22812500000000002,\n  ('analcatdata_dmft', 'CART_LG_rules', 0, 10): 0.1875,\n  ('analcatdata_dmft', 'CART_LG_rules_and_features', 0, 10): 0.2125,\n  ('analcatdata_dmft', 'CART_SVM_rules', 0, 10): 0.1875,\n  ('analcatdata_dmft', 'CART_SVM_rules_and_features', 0, 10): 0.2125,\n  ('analcatdata_dmft', 'CART_NB_rules', 0, 10): 0.1875,\n  ('analcatdata_dmft', 'CART_NB_rules_and_features', 0, 10): 0.16875,\n  ('analcatdata_dmft', 'CART_KNN_rules', 0, 10): 0.1875,\n  ('analcatdata_dmft', 'CART_KNN_rules_and_features', 0, 10): 0.2625,\n  ('analcatdata_dmft', 'CART_LG_rules', 0, 14): nan,\n  ('analcatdata_dmft', 'CART_LG_rules_and_features', 0, 20): 0.25625,\n  ('analcatdata_dmft', 'CART_SVM_rules', 0, 14): nan,\n  ('analcatdata_dmft', 'CART_SVM_rules_and_features', 0, 20): 0.20625,\n  ('analcatdata_dmft', 'CART_NB_rules', 0, 14): nan,\n  ('analcatdata_dmft', 'CART_NB_rules_and_features', 0, 20): 0.2125,\n  ('analcatdata_dmft', 'CART_KNN_rules', 0, 14): nan,\n  ('analcatdata_dmft', 'CART_KNN_rules_and_features', 0, 20): 0.18125,\n  ('analcatdata_dmft', 'CART_LG_rules_and_features', 0, 25): nan,\n  ('analcatdata_dmft', 'CART_SVM_rules_and_features', 0, 25): nan,\n  ('analcatdata_dmft', 'CART_NB_rules_and_features', 0, 25): nan,\n  ('analcatdata_dmft', 'CART_KNN_rules_and_features', 0, 25): nan,\n  ('analcatdata_dmft', 'CART_LG_rules_and_features', 0, 30): nan,\n  ('analcatdata_dmft', 'CART_SVM_rules_and_features', 0, 30): nan,\n  ('analcatdata_dmft', 'CART_NB_rules_and_features', 0, 30): nan,\n  ('analcatdata_dmft', 'CART_KNN_rules_and_features', 0, 30): nan,\n  ('analcatdata_dmft', 'CART_LG_rules_and_features', 0, 40): nan,\n  ('analcatdata_dmft', 'CART_SVM_rules_and_features', 0, 40): nan,\n  ('analcatdata_dmft', 'CART_NB_rules_and_features', 0, 40): nan,\n  ('analcatdata_dmft', 'CART_KNN_rules_and_features', 0, 40): nan,\n  ('analcatdata_dmft', 'OCT_LG_rules', 0, 10): 0.16875,\n  ('analcatdata_dmft', 'OCT_LG_rules_and_features', 0, 10): 0.2125,\n  ('analcatdata_dmft', 'OCT_SVM_rules', 0, 10): 0.18125,\n  ('analcatdata_dmft', 'OCT_SVM_rules_and_features', 0, 10): 0.1875,\n  ('analcatdata_dmft', 'OCT_NB_rules', 0, 10): 0.15625,\n  ('analcatdata_dmft', 'OCT_NB_rules_and_features', 0, 10): 0.18125,\n  ('analcatdata_dmft', 'OCT_KNN_rules', 0, 10): 0.19375,\n  ('analcatdata_dmft', 'OCT_KNN_rules_and_features', 0, 10): 0.2,\n  ('analcatdata_dmft', 'OCT_LG_rules', 0, 14): nan,\n  ('analcatdata_dmft', 'OCT_LG_rules_and_features', 0, 20): 0.25,\n  ('analcatdata_dmft', 'OCT_SVM_rules', 0, 14): nan,\n  ('analcatdata_dmft', 'OCT_SVM_rules_and_features', 0, 20): 0.20625,\n  ('analcatdata_dmft', 'OCT_NB_rules', 0, 14): nan,\n  ('analcatdata_dmft', 'OCT_NB_rules_and_features', 0, 20): 0.16875,\n  ('analcatdata_dmft', 'OCT_KNN_rules', 0, 14): nan,\n  ('analcatdata_dmft', 'OCT_KNN_rules_and_features', 0, 20): 0.175,\n  ('analcatdata_dmft', 'OCT_LG_rules_and_features', 0, 25): nan,\n  ('analcatdata_dmft', 'OCT_SVM_rules_and_features', 0, 25): nan,\n  ('analcatdata_dmft', 'OCT_NB_rules_and_features', 0, 25): nan,\n  ('analcatdata_dmft', 'OCT_KNN_rules_and_features', 0, 25): nan,\n  ('analcatdata_dmft', 'OCT_LG_rules_and_features', 0, 30): nan,\n  ('analcatdata_dmft', 'OCT_SVM_rules_and_features', 0, 30): nan,\n  ('analcatdata_dmft', 'OCT_NB_rules_and_features', 0, 30): nan,\n  ('analcatdata_dmft', 'OCT_KNN_rules_and_features', 0, 30): nan,\n  ('analcatdata_dmft', 'OCT_LG_rules_and_features', 0, 40): nan,\n  ('analcatdata_dmft', 'OCT_SVM_rules_and_features', 0, 40): nan,\n  ('analcatdata_dmft', 'OCT_NB_rules_and_features', 0, 40): nan,\n  ('analcatdata_dmft', 'OCT_KNN_rules_and_features', 0, 40): nan,\n  ('analcatdata_dmft', 'OCT-H_LG_rules', 0, 6): nan,\n  ('analcatdata_dmft', 'OCT-H_LG_rules_and_features', 0, 10): 0.25625,\n  ('analcatdata_dmft', 'OCT-H_SVM_rules', 0, 6): nan,\n  ('analcatdata_dmft', 'OCT-H_SVM_rules_and_features', 0, 10): 0.2375,\n  ('analcatdata_dmft', 'OCT-H_NB_rules', 0, 6): nan,\n  ('analcatdata_dmft', 'OCT-H_NB_rules_and_features', 0, 10): 0.23125,\n  ('analcatdata_dmft', 'OCT-H_KNN_rules', 0, 6): nan,\n  ('analcatdata_dmft', 'OCT-H_KNN_rules_and_features', 0, 10): 0.24375,\n  ('analcatdata_dmft', 'OCT-H_LG_rules_and_features', 0, 20): 0.2625,\n  ('analcatdata_dmft', 'OCT-H_SVM_rules_and_features', 0, 20): 0.21875,\n  ('analcatdata_dmft', 'OCT-H_NB_rules_and_features', 0, 20): 0.25625,\n  ('analcatdata_dmft', 'OCT-H_KNN_rules_and_features', 0, 20): 0.1375,\n  ('analcatdata_dmft', 'OCT-H_LG_rules_and_features', 0, 25): nan,\n  ('analcatdata_dmft', 'OCT-H_SVM_rules_and_features', 0, 25): nan,\n  ('analcatdata_dmft', 'OCT-H_NB_rules_and_features', 0, 25): nan,\n  ('analcatdata_dmft', 'OCT-H_KNN_rules_and_features', 0, 25): nan,\n  ('analcatdata_dmft', 'OCT-H_LG_rules_and_features', 0, 30): nan,\n  ('analcatdata_dmft', 'OCT-H_SVM_rules_and_features', 0, 30): nan,\n  ('analcatdata_dmft', 'OCT-H_NB_rules_and_features', 0, 30): nan,\n  ('analcatdata_dmft', 'OCT-H_KNN_rules_and_features', 0, 30): nan,\n  ('analcatdata_dmft', 'OCT-H_LG_rules_and_features', 0, 40): nan,\n  ('analcatdata_dmft', 'OCT-H_SVM_rules_and_features', 0, 40): nan,\n  ('analcatdata_dmft', 'OCT-H_NB_rules_and_features', 0, 40): nan,\n  ('analcatdata_dmft', 'OCT-H_KNN_rules_and_features', 0, 40): nan,\n  ('analcatdata_dmft', 'OCT+OCT-H_LG_rules', 0, 10): 0.24375,\n  ('analcatdata_dmft', 'OCT+OCT-H_LG_rules_and_features', 0, 10): 0.24375,\n  ('analcatdata_dmft', 'OCT+OCT-H_SVM_rules', 0, 10): 0.225,\n  ('analcatdata_dmft', 'OCT+OCT-H_SVM_rules_and_features', 0, 10): 0.23125,\n  ('analcatdata_dmft', 'OCT+OCT-H_NB_rules', 0, 10): 0.23125,\n  ('analcatdata_dmft', 'OCT+OCT-H_NB_rules_and_features', 0, 10): 0.23125,\n  ('analcatdata_dmft', 'OCT+OCT-H_KNN_rules', 0, 10): 0.225,\n  ('analcatdata_dmft', 'OCT+OCT-H_KNN_rules_and_features', 0, 10): 0.225,\n  ('analcatdata_dmft', 'OCT+OCT-H_LG_rules', 0, 20): nan,\n  ('analcatdata_dmft', 'OCT+OCT-H_LG_rules_and_features', 0, 20): 0.25,\n  ('analcatdata_dmft', 'OCT+OCT-H_SVM_rules', 0, 20): nan,\n  ('analcatdata_dmft', 'OCT+OCT-H_SVM_rules_and_features', 0, 20): 0.25,\n  ('analcatdata_dmft', 'OCT+OCT-H_NB_rules', 0, 20): nan,\n  ('analcatdata_dmft', 'OCT+OCT-H_NB_rules_and_features', 0, 20): 0.21875,\n  ('analcatdata_dmft', 'OCT+OCT-H_KNN_rules', 0, 20): nan,\n  ('analcatdata_dmft', 'OCT+OCT-H_KNN_rules_and_features', 0, 20): 0.24375,\n  ('analcatdata_dmft', 'OCT+OCT-H_LG_rules_and_features', 0, 25): nan,\n  ('analcatdata_dmft', 'OCT+OCT-H_SVM_rules_and_features', 0, 25): nan,\n  ('analcatdata_dmft', 'OCT+OCT-H_NB_rules_and_features', 0, 25): nan,\n  ('analcatdata_dmft', 'OCT+OCT-H_KNN_rules_and_features', 0, 25): nan,\n  ('analcatdata_dmft', 'OCT+OCT-H_LG_rules_and_features', 0, 30): nan,\n  ('analcatdata_dmft', 'OCT+OCT-H_SVM_rules_and_features', 0, 30): nan,\n  ('analcatdata_dmft', 'OCT+OCT-H_NB_rules_and_features', 0, 30): nan,\n  ('analcatdata_dmft', 'OCT+OCT-H_KNN_rules_and_features', 0, 30): nan,\n  ('analcatdata_dmft', 'OCT+OCT-H_LG_rules_and_features', 0, 40): nan,\n  ('analcatdata_dmft', 'OCT+OCT-H_SVM_rules_and_features', 0, 40): nan,\n  ('analcatdata_dmft', 'OCT+OCT-H_NB_rules_and_features', 0, 40): nan,\n  ('analcatdata_dmft', 'OCT+OCT-H_KNN_rules_and_features', 0, 40): nan,\n  ('analcatdata_dmft', 'Logistic_Regression', 0, 20): 0.24375,\n  ('analcatdata_dmft', 'Support Vector Machine', 0, 20): 0.16875,\n  ('analcatdata_dmft', 'Naive Bayes', 0, 20): 0.225,\n  ('analcatdata_dmft', 'K-Nearest-Neighbor', 0, 20): 0.1625,\n  ('analcatdata_dmft', 'Reg-CART', 1, 20): nan,\n  ('analcatdata_dmft', 'CART', 1, 20): 0.18958333333333333,\n  ('analcatdata_dmft', 'ORT', 1, 20): nan,\n  ('analcatdata_dmft', 'OCT', 1, 20): 0.20416666666666664,\n  ('analcatdata_dmft', 'ORT-H', 1, 20): nan,\n  ('analcatdata_dmft', 'OCT-H', 1, 20): 0.203125,\n  ('analcatdata_dmft', 'CART_LG_rules', 1, 10): 0.225,\n  ('analcatdata_dmft', 'CART_LG_rules_and_features', 1, 10): 0.19375,\n  ('analcatdata_dmft', 'CART_SVM_rules', 1, 10): 0.225,\n  ('analcatdata_dmft', 'CART_SVM_rules_and_features', 1, 10): 0.19375,\n  ('analcatdata_dmft', 'CART_NB_rules', 1, 10): 0.19375,\n  ('analcatdata_dmft', 'CART_NB_rules_and_features', 1, 10): 0.1875,\n  ('analcatdata_dmft', 'CART_KNN_rules', 1, 10): 0.19375,\n  ('analcatdata_dmft', 'CART_KNN_rules_and_features', 1, 10): 0.19375,\n  ('analcatdata_dmft', 'CART_LG_rules', 1, 14): nan,\n  ('analcatdata_dmft', 'CART_LG_rules_and_features', 1, 20): 0.225,\n  ('analcatdata_dmft', 'CART_SVM_rules', 1, 14): nan,\n  ('analcatdata_dmft', 'CART_SVM_rules_and_features', 1, 20): 0.19375,\n  ('analcatdata_dmft', 'CART_NB_rules', 1, 14): nan,\n  ('analcatdata_dmft', 'CART_NB_rules_and_features', 1, 20): 0.175,\n  ('analcatdata_dmft', 'CART_KNN_rules', 1, 14): nan,\n  ('analcatdata_dmft', 'CART_KNN_rules_and_features', 1, 20): 0.19375,\n  ('analcatdata_dmft', 'CART_LG_rules_and_features', 1, 25): nan,\n  ('analcatdata_dmft', 'CART_SVM_rules_and_features', 1, 25): nan,\n  ('analcatdata_dmft', 'CART_NB_rules_and_features', 1, 25): nan,\n  ('analcatdata_dmft', 'CART_KNN_rules_and_features', 1, 25): nan,\n  ('analcatdata_dmft', 'CART_LG_rules_and_features', 1, 30): nan,\n  ('analcatdata_dmft', 'CART_SVM_rules_and_features', 1, 30): nan,\n  ('analcatdata_dmft', 'CART_NB_rules_and_features', 1, 30): nan,\n  ('analcatdata_dmft', 'CART_KNN_rules_and_features', 1, 30): nan,\n  ('analcatdata_dmft', 'CART_LG_rules_and_features', 1, 40): nan,\n  ('analcatdata_dmft', 'CART_SVM_rules_and_features', 1, 40): nan,\n  ('analcatdata_dmft', 'CART_NB_rules_and_features', 1, 40): nan,\n  ('analcatdata_dmft', 'CART_KNN_rules_and_features', 1, 40): nan,\n  ('analcatdata_dmft', 'OCT_LG_rules', 1, 10): 0.19375,\n  ('analcatdata_dmft', 'OCT_LG_rules_and_features', 1, 10): 0.2,\n  ('analcatdata_dmft', 'OCT_SVM_rules', 1, 10): 0.2,\n  ('analcatdata_dmft', 'OCT_SVM_rules_and_features', 1, 10): 0.19375,\n  ('analcatdata_dmft', 'OCT_NB_rules', 1, 10): 0.2,\n  ('analcatdata_dmft', 'OCT_NB_rules_and_features', 1, 10): 0.23125,\n  ('analcatdata_dmft', 'OCT_KNN_rules', 1, 10): 0.18125,\n  ('analcatdata_dmft', 'OCT_KNN_rules_and_features', 1, 10): 0.16875,\n  ('analcatdata_dmft', 'OCT_LG_rules', 1, 14): nan,\n  ('analcatdata_dmft', 'OCT_LG_rules_and_features', 1, 20): 0.2,\n  ('analcatdata_dmft', 'OCT_SVM_rules', 1, 14): nan,\n  ('analcatdata_dmft', 'OCT_SVM_rules_and_features', 1, 20): 0.1875,\n  ('analcatdata_dmft', 'OCT_NB_rules', 1, 14): nan,\n  ('analcatdata_dmft', 'OCT_NB_rules_and_features', 1, 20): 0.2125,\n  ('analcatdata_dmft', 'OCT_KNN_rules', 1, 14): nan,\n  ('analcatdata_dmft', 'OCT_KNN_rules_and_features', 1, 20): 0.1875,\n  ('analcatdata_dmft', 'OCT_LG_rules_and_features', 1, 25): nan,\n  ('analcatdata_dmft', 'OCT_SVM_rules_and_features', 1, 25): nan,\n  ('analcatdata_dmft', 'OCT_NB_rules_and_features', 1, 25): nan,\n  ('analcatdata_dmft', 'OCT_KNN_rules_and_features', 1, 25): nan,\n  ('analcatdata_dmft', 'OCT_LG_rules_and_features', 1, 30): nan,\n  ('analcatdata_dmft', 'OCT_SVM_rules_and_features', 1, 30): nan,\n  ('analcatdata_dmft', 'OCT_NB_rules_and_features', 1, 30): nan,\n  ('analcatdata_dmft', 'OCT_KNN_rules_and_features', 1, 30): nan,\n  ('analcatdata_dmft', 'OCT_LG_rules_and_features', 1, 40): nan,\n  ('analcatdata_dmft', 'OCT_SVM_rules_and_features', 1, 40): nan,\n  ('analcatdata_dmft', 'OCT_NB_rules_and_features', 1, 40): nan,\n  ('analcatdata_dmft', 'OCT_KNN_rules_and_features', 1, 40): nan,\n  ('analcatdata_dmft', 'OCT-H_LG_rules', 1, 6): nan,\n  ('analcatdata_dmft', 'OCT-H_LG_rules_and_features', 1, 10): 0.19375,\n  ('analcatdata_dmft', 'OCT-H_SVM_rules', 1, 6): nan,\n  ('analcatdata_dmft', 'OCT-H_SVM_rules_and_features', 1, 10): 0.2,\n  ('analcatdata_dmft', 'OCT-H_NB_rules', 1, 6): nan,\n  ('analcatdata_dmft', 'OCT-H_NB_rules_and_features', 1, 10): 0.20625,\n  ('analcatdata_dmft', 'OCT-H_KNN_rules', 1, 6): nan,\n  ('analcatdata_dmft', 'OCT-H_KNN_rules_and_features', 1, 10): 0.225,\n  ('analcatdata_dmft', 'OCT-H_LG_rules_and_features', 1, 20): 0.18125,\n  ('analcatdata_dmft', 'OCT-H_SVM_rules_and_features', 1, 20): 0.20625,\n  ('analcatdata_dmft', 'OCT-H_NB_rules_and_features', 1, 20): 0.19375,\n  ('analcatdata_dmft', 'OCT-H_KNN_rules_and_features', 1, 20): 0.23125,\n  ('analcatdata_dmft', 'OCT-H_LG_rules_and_features', 1, 25): nan,\n  ('analcatdata_dmft', 'OCT-H_SVM_rules_and_features', 1, 25): nan,\n  ('analcatdata_dmft', 'OCT-H_NB_rules_and_features', 1, 25): nan,\n  ('analcatdata_dmft', 'OCT-H_KNN_rules_and_features', 1, 25): nan,\n  ('analcatdata_dmft', 'OCT-H_LG_rules_and_features', 1, 30): nan,\n  ('analcatdata_dmft', 'OCT-H_SVM_rules_and_features', 1, 30): nan,\n  ('analcatdata_dmft', 'OCT-H_NB_rules_and_features', 1, 30): nan,\n  ('analcatdata_dmft', 'OCT-H_KNN_rules_and_features', 1, 30): nan,\n  ('analcatdata_dmft', 'OCT-H_LG_rules_and_features', 1, 40): nan,\n  ('analcatdata_dmft', 'OCT-H_SVM_rules_and_features', 1, 40): nan,\n  ('analcatdata_dmft', 'OCT-H_NB_rules_and_features', 1, 40): nan,\n  ('analcatdata_dmft', 'OCT-H_KNN_rules_and_features', 1, 40): nan,\n  ('analcatdata_dmft', 'OCT+OCT-H_LG_rules', 1, 10): 0.20625,\n  ('analcatdata_dmft', 'OCT+OCT-H_LG_rules_and_features', 1, 10): 0.20625,\n  ('analcatdata_dmft', 'OCT+OCT-H_SVM_rules', 1, 10): 0.20625,\n  ('analcatdata_dmft', 'OCT+OCT-H_SVM_rules_and_features', 1, 10): 0.2125,\n  ('analcatdata_dmft', 'OCT+OCT-H_NB_rules', 1, 10): 0.20625,\n  ('analcatdata_dmft', 'OCT+OCT-H_NB_rules_and_features', 1, 10): 0.20625,\n  ('analcatdata_dmft', 'OCT+OCT-H_KNN_rules', 1, 10): 0.23125,\n  ('analcatdata_dmft', 'OCT+OCT-H_KNN_rules_and_features', 1, 10): 0.225,\n  ('analcatdata_dmft', 'OCT+OCT-H_LG_rules', 1, 20): nan,\n  ('analcatdata_dmft', 'OCT+OCT-H_LG_rules_and_features', 1, 20): 0.2125,\n  ('analcatdata_dmft', 'OCT+OCT-H_SVM_rules', 1, 20): nan,\n  ('analcatdata_dmft', 'OCT+OCT-H_SVM_rules_and_features', 1, 20): 0.2125,\n  ('analcatdata_dmft', 'OCT+OCT-H_NB_rules', 1, 20): nan,\n  ('analcatdata_dmft', 'OCT+OCT-H_NB_rules_and_features', 1, 20): 0.20625,\n  ('analcatdata_dmft', 'OCT+OCT-H_KNN_rules', 1, 20): nan,\n  ('analcatdata_dmft', 'OCT+OCT-H_KNN_rules_and_features', 1, 20): 0.21875,\n  ('analcatdata_dmft', 'OCT+OCT-H_LG_rules_and_features', 1, 25): nan,\n  ('analcatdata_dmft', 'OCT+OCT-H_SVM_rules_and_features', 1, 25): nan,\n  ('analcatdata_dmft', 'OCT+OCT-H_NB_rules_and_features', 1, 25): nan,\n  ('analcatdata_dmft', 'OCT+OCT-H_KNN_rules_and_features', 1, 25): nan,\n  ('analcatdata_dmft', 'OCT+OCT-H_LG_rules_and_features', 1, 30): nan,\n  ('analcatdata_dmft', 'OCT+OCT-H_SVM_rules_and_features', 1, 30): nan,\n  ('analcatdata_dmft', 'OCT+OCT-H_NB_rules_and_features', 1, 30): nan,\n  ('analcatdata_dmft', 'OCT+OCT-H_KNN_rules_and_features', 1, 30): nan,\n  ('analcatdata_dmft', 'OCT+OCT-H_LG_rules_and_features', 1, 40): nan,\n  ('analcatdata_dmft', 'OCT+OCT-H_SVM_rules_and_features', 1, 40): nan,\n  ('analcatdata_dmft', 'OCT+OCT-H_NB_rules_and_features', 1, 40): nan,\n  ('analcatdata_dmft', 'OCT+OCT-H_KNN_rules_and_features', 1, 40): nan,\n  ('analcatdata_dmft', 'Logistic_Regression', 1, 20): 0.2375,\n  ('analcatdata_dmft', 'Support Vector Machine', 1, 20): 0.20625,\n  ('analcatdata_dmft', 'Naive Bayes', 1, 20): 0.18125,\n  ('analcatdata_dmft', 'K-Nearest-Neighbor', 1, 20): 0.19375}]"
     },
     "execution_count": 123,
     "metadata": {},
     "output_type": "execute_result"
    }
   ],
   "source": [
    "res_rul"
   ],
   "metadata": {
    "collapsed": false
   }
  },
  {
   "cell_type": "code",
   "execution_count": 117,
   "outputs": [],
   "source": [
    "result = {}\n",
    "for d in res_rul:\n",
    "    result.update(d)"
   ],
   "metadata": {
    "collapsed": false
   }
  },
  {
   "cell_type": "code",
   "execution_count": 118,
   "outputs": [],
   "source": [
    "k = pd.DataFrame(result,index=[0])"
   ],
   "metadata": {
    "collapsed": false
   }
  },
  {
   "cell_type": "code",
   "execution_count": 121,
   "outputs": [],
   "source": [
    "k = k.stack(level=2).sort_index()\n",
    "k = k.stack(level=2).sort_index()"
   ],
   "metadata": {
    "collapsed": false
   }
  },
  {
   "cell_type": "code",
   "execution_count": 122,
   "outputs": [
    {
     "data": {
      "text/plain": "       analcatdata_creditscore                                             \\\n                          CART CART_KNN_rules CART_KNN_rules_and_features   \n0 0 5                      NaN            NaN                         NaN   \n    6                      NaN            NaN                        1.00   \n    9                      NaN            NaN                         NaN   \n    10                     NaN            NaN                         NaN   \n    11                0.983333            NaN                        1.00   \n    18                     NaN            NaN                         NaN   \n    20                     NaN            NaN                         NaN   \n  1 5                      NaN            NaN                         NaN   \n    6                      NaN            NaN                        0.95   \n    9                      NaN            NaN                         NaN   \n    10                     NaN            NaN                         NaN   \n    11                0.950000            NaN                        0.80   \n    18                     NaN            NaN                         NaN   \n    20                     NaN            NaN                         NaN   \n\n                                                               \\\n       CART_LG_rules CART_LG_rules_and_features CART_NB_rules   \n0 0 5            NaN                        NaN           NaN   \n    6            NaN                       1.00           NaN   \n    9            NaN                        NaN           NaN   \n    10           NaN                        NaN           NaN   \n    11           NaN                       1.00           NaN   \n    18           NaN                        NaN           NaN   \n    20           NaN                        NaN           NaN   \n  1 5            NaN                        NaN           NaN   \n    6            NaN                       0.95           NaN   \n    9            NaN                        NaN           NaN   \n    10           NaN                        NaN           NaN   \n    11           NaN                       0.95           NaN   \n    18           NaN                        NaN           NaN   \n    20           NaN                        NaN           NaN   \n\n                                                                              \\\n       CART_NB_rules_and_features CART_SVM_rules CART_SVM_rules_and_features   \n0 0 5                         NaN            NaN                         NaN   \n    6                        0.95            NaN                        0.95   \n    9                         NaN            NaN                         NaN   \n    10                        NaN            NaN                         NaN   \n    11                       0.95            NaN                        0.95   \n    18                        NaN            NaN                         NaN   \n    20                        NaN            NaN                         NaN   \n  1 5                         NaN            NaN                         NaN   \n    6                        0.95            NaN                        0.90   \n    9                         NaN            NaN                         NaN   \n    10                        NaN            NaN                         NaN   \n    11                       0.95            NaN                        0.90   \n    18                        NaN            NaN                         NaN   \n    20                        NaN            NaN                         NaN   \n\n                           ... analcatdata_dmft                            \\\n       K-Nearest-Neighbor  ...     OCT_LG_rules OCT_LG_rules_and_features   \n0 0 5                 NaN  ...              NaN                       NaN   \n    6                 NaN  ...              NaN                       NaN   \n    9                 NaN  ...              NaN                       NaN   \n    10                NaN  ...          0.16875                    0.2125   \n    11                0.9  ...              NaN                       NaN   \n    18                NaN  ...              NaN                       NaN   \n    20                NaN  ...              NaN                    0.2500   \n  1 5                 NaN  ...              NaN                       NaN   \n    6                 NaN  ...              NaN                       NaN   \n    9                 NaN  ...              NaN                       NaN   \n    10                NaN  ...          0.19375                    0.2000   \n    11                0.7  ...              NaN                       NaN   \n    18                NaN  ...              NaN                       NaN   \n    20                NaN  ...              NaN                    0.2000   \n\n                                                             \\\n       OCT_NB_rules OCT_NB_rules_and_features OCT_SVM_rules   \n0 0 5           NaN                       NaN           NaN   \n    6           NaN                       NaN           NaN   \n    9           NaN                       NaN           NaN   \n    10      0.15625                   0.18125       0.18125   \n    11          NaN                       NaN           NaN   \n    18          NaN                       NaN           NaN   \n    20          NaN                   0.16875           NaN   \n  1 5           NaN                       NaN           NaN   \n    6           NaN                       NaN           NaN   \n    9           NaN                       NaN           NaN   \n    10      0.20000                   0.23125       0.20000   \n    11          NaN                       NaN           NaN   \n    18          NaN                       NaN           NaN   \n    20          NaN                   0.21250           NaN   \n\n                                                                             \n       OCT_SVM_rules_and_features ORT ORT-H Reg-CART Support Vector Machine  \n0 0 5                         NaN NaN   NaN      NaN                    NaN  \n    6                         NaN NaN   NaN      NaN                    NaN  \n    9                         NaN NaN   NaN      NaN                    NaN  \n    10                    0.18750 NaN   NaN      NaN                    NaN  \n    11                        NaN NaN   NaN      NaN                    NaN  \n    18                        NaN NaN   NaN      NaN                    NaN  \n    20                    0.20625 NaN   NaN      NaN                0.16875  \n  1 5                         NaN NaN   NaN      NaN                    NaN  \n    6                         NaN NaN   NaN      NaN                    NaN  \n    9                         NaN NaN   NaN      NaN                    NaN  \n    10                    0.19375 NaN   NaN      NaN                    NaN  \n    11                        NaN NaN   NaN      NaN                    NaN  \n    18                        NaN NaN   NaN      NaN                    NaN  \n    20                    0.18750 NaN   NaN      NaN                0.20625  \n\n[14 rows x 168 columns]",
      "text/html": "<div>\n<style scoped>\n    .dataframe tbody tr th:only-of-type {\n        vertical-align: middle;\n    }\n\n    .dataframe tbody tr th {\n        vertical-align: top;\n    }\n\n    .dataframe thead tr th {\n        text-align: left;\n    }\n</style>\n<table border=\"1\" class=\"dataframe\">\n  <thead>\n    <tr>\n      <th></th>\n      <th></th>\n      <th></th>\n      <th colspan=\"10\" halign=\"left\">analcatdata_creditscore</th>\n      <th>...</th>\n      <th colspan=\"10\" halign=\"left\">analcatdata_dmft</th>\n    </tr>\n    <tr>\n      <th></th>\n      <th></th>\n      <th></th>\n      <th>CART</th>\n      <th>CART_KNN_rules</th>\n      <th>CART_KNN_rules_and_features</th>\n      <th>CART_LG_rules</th>\n      <th>CART_LG_rules_and_features</th>\n      <th>CART_NB_rules</th>\n      <th>CART_NB_rules_and_features</th>\n      <th>CART_SVM_rules</th>\n      <th>CART_SVM_rules_and_features</th>\n      <th>K-Nearest-Neighbor</th>\n      <th>...</th>\n      <th>OCT_LG_rules</th>\n      <th>OCT_LG_rules_and_features</th>\n      <th>OCT_NB_rules</th>\n      <th>OCT_NB_rules_and_features</th>\n      <th>OCT_SVM_rules</th>\n      <th>OCT_SVM_rules_and_features</th>\n      <th>ORT</th>\n      <th>ORT-H</th>\n      <th>Reg-CART</th>\n      <th>Support Vector Machine</th>\n    </tr>\n  </thead>\n  <tbody>\n    <tr>\n      <th rowspan=\"14\" valign=\"top\">0</th>\n      <th rowspan=\"7\" valign=\"top\">0</th>\n      <th>5</th>\n      <td>NaN</td>\n      <td>NaN</td>\n      <td>NaN</td>\n      <td>NaN</td>\n      <td>NaN</td>\n      <td>NaN</td>\n      <td>NaN</td>\n      <td>NaN</td>\n      <td>NaN</td>\n      <td>NaN</td>\n      <td>...</td>\n      <td>NaN</td>\n      <td>NaN</td>\n      <td>NaN</td>\n      <td>NaN</td>\n      <td>NaN</td>\n      <td>NaN</td>\n      <td>NaN</td>\n      <td>NaN</td>\n      <td>NaN</td>\n      <td>NaN</td>\n    </tr>\n    <tr>\n      <th>6</th>\n      <td>NaN</td>\n      <td>NaN</td>\n      <td>1.00</td>\n      <td>NaN</td>\n      <td>1.00</td>\n      <td>NaN</td>\n      <td>0.95</td>\n      <td>NaN</td>\n      <td>0.95</td>\n      <td>NaN</td>\n      <td>...</td>\n      <td>NaN</td>\n      <td>NaN</td>\n      <td>NaN</td>\n      <td>NaN</td>\n      <td>NaN</td>\n      <td>NaN</td>\n      <td>NaN</td>\n      <td>NaN</td>\n      <td>NaN</td>\n      <td>NaN</td>\n    </tr>\n    <tr>\n      <th>9</th>\n      <td>NaN</td>\n      <td>NaN</td>\n      <td>NaN</td>\n      <td>NaN</td>\n      <td>NaN</td>\n      <td>NaN</td>\n      <td>NaN</td>\n      <td>NaN</td>\n      <td>NaN</td>\n      <td>NaN</td>\n      <td>...</td>\n      <td>NaN</td>\n      <td>NaN</td>\n      <td>NaN</td>\n      <td>NaN</td>\n      <td>NaN</td>\n      <td>NaN</td>\n      <td>NaN</td>\n      <td>NaN</td>\n      <td>NaN</td>\n      <td>NaN</td>\n    </tr>\n    <tr>\n      <th>10</th>\n      <td>NaN</td>\n      <td>NaN</td>\n      <td>NaN</td>\n      <td>NaN</td>\n      <td>NaN</td>\n      <td>NaN</td>\n      <td>NaN</td>\n      <td>NaN</td>\n      <td>NaN</td>\n      <td>NaN</td>\n      <td>...</td>\n      <td>0.16875</td>\n      <td>0.2125</td>\n      <td>0.15625</td>\n      <td>0.18125</td>\n      <td>0.18125</td>\n      <td>0.18750</td>\n      <td>NaN</td>\n      <td>NaN</td>\n      <td>NaN</td>\n      <td>NaN</td>\n    </tr>\n    <tr>\n      <th>11</th>\n      <td>0.983333</td>\n      <td>NaN</td>\n      <td>1.00</td>\n      <td>NaN</td>\n      <td>1.00</td>\n      <td>NaN</td>\n      <td>0.95</td>\n      <td>NaN</td>\n      <td>0.95</td>\n      <td>0.9</td>\n      <td>...</td>\n      <td>NaN</td>\n      <td>NaN</td>\n      <td>NaN</td>\n      <td>NaN</td>\n      <td>NaN</td>\n      <td>NaN</td>\n      <td>NaN</td>\n      <td>NaN</td>\n      <td>NaN</td>\n      <td>NaN</td>\n    </tr>\n    <tr>\n      <th>18</th>\n      <td>NaN</td>\n      <td>NaN</td>\n      <td>NaN</td>\n      <td>NaN</td>\n      <td>NaN</td>\n      <td>NaN</td>\n      <td>NaN</td>\n      <td>NaN</td>\n      <td>NaN</td>\n      <td>NaN</td>\n      <td>...</td>\n      <td>NaN</td>\n      <td>NaN</td>\n      <td>NaN</td>\n      <td>NaN</td>\n      <td>NaN</td>\n      <td>NaN</td>\n      <td>NaN</td>\n      <td>NaN</td>\n      <td>NaN</td>\n      <td>NaN</td>\n    </tr>\n    <tr>\n      <th>20</th>\n      <td>NaN</td>\n      <td>NaN</td>\n      <td>NaN</td>\n      <td>NaN</td>\n      <td>NaN</td>\n      <td>NaN</td>\n      <td>NaN</td>\n      <td>NaN</td>\n      <td>NaN</td>\n      <td>NaN</td>\n      <td>...</td>\n      <td>NaN</td>\n      <td>0.2500</td>\n      <td>NaN</td>\n      <td>0.16875</td>\n      <td>NaN</td>\n      <td>0.20625</td>\n      <td>NaN</td>\n      <td>NaN</td>\n      <td>NaN</td>\n      <td>0.16875</td>\n    </tr>\n    <tr>\n      <th rowspan=\"7\" valign=\"top\">1</th>\n      <th>5</th>\n      <td>NaN</td>\n      <td>NaN</td>\n      <td>NaN</td>\n      <td>NaN</td>\n      <td>NaN</td>\n      <td>NaN</td>\n      <td>NaN</td>\n      <td>NaN</td>\n      <td>NaN</td>\n      <td>NaN</td>\n      <td>...</td>\n      <td>NaN</td>\n      <td>NaN</td>\n      <td>NaN</td>\n      <td>NaN</td>\n      <td>NaN</td>\n      <td>NaN</td>\n      <td>NaN</td>\n      <td>NaN</td>\n      <td>NaN</td>\n      <td>NaN</td>\n    </tr>\n    <tr>\n      <th>6</th>\n      <td>NaN</td>\n      <td>NaN</td>\n      <td>0.95</td>\n      <td>NaN</td>\n      <td>0.95</td>\n      <td>NaN</td>\n      <td>0.95</td>\n      <td>NaN</td>\n      <td>0.90</td>\n      <td>NaN</td>\n      <td>...</td>\n      <td>NaN</td>\n      <td>NaN</td>\n      <td>NaN</td>\n      <td>NaN</td>\n      <td>NaN</td>\n      <td>NaN</td>\n      <td>NaN</td>\n      <td>NaN</td>\n      <td>NaN</td>\n      <td>NaN</td>\n    </tr>\n    <tr>\n      <th>9</th>\n      <td>NaN</td>\n      <td>NaN</td>\n      <td>NaN</td>\n      <td>NaN</td>\n      <td>NaN</td>\n      <td>NaN</td>\n      <td>NaN</td>\n      <td>NaN</td>\n      <td>NaN</td>\n      <td>NaN</td>\n      <td>...</td>\n      <td>NaN</td>\n      <td>NaN</td>\n      <td>NaN</td>\n      <td>NaN</td>\n      <td>NaN</td>\n      <td>NaN</td>\n      <td>NaN</td>\n      <td>NaN</td>\n      <td>NaN</td>\n      <td>NaN</td>\n    </tr>\n    <tr>\n      <th>10</th>\n      <td>NaN</td>\n      <td>NaN</td>\n      <td>NaN</td>\n      <td>NaN</td>\n      <td>NaN</td>\n      <td>NaN</td>\n      <td>NaN</td>\n      <td>NaN</td>\n      <td>NaN</td>\n      <td>NaN</td>\n      <td>...</td>\n      <td>0.19375</td>\n      <td>0.2000</td>\n      <td>0.20000</td>\n      <td>0.23125</td>\n      <td>0.20000</td>\n      <td>0.19375</td>\n      <td>NaN</td>\n      <td>NaN</td>\n      <td>NaN</td>\n      <td>NaN</td>\n    </tr>\n    <tr>\n      <th>11</th>\n      <td>0.950000</td>\n      <td>NaN</td>\n      <td>0.80</td>\n      <td>NaN</td>\n      <td>0.95</td>\n      <td>NaN</td>\n      <td>0.95</td>\n      <td>NaN</td>\n      <td>0.90</td>\n      <td>0.7</td>\n      <td>...</td>\n      <td>NaN</td>\n      <td>NaN</td>\n      <td>NaN</td>\n      <td>NaN</td>\n      <td>NaN</td>\n      <td>NaN</td>\n      <td>NaN</td>\n      <td>NaN</td>\n      <td>NaN</td>\n      <td>NaN</td>\n    </tr>\n    <tr>\n      <th>18</th>\n      <td>NaN</td>\n      <td>NaN</td>\n      <td>NaN</td>\n      <td>NaN</td>\n      <td>NaN</td>\n      <td>NaN</td>\n      <td>NaN</td>\n      <td>NaN</td>\n      <td>NaN</td>\n      <td>NaN</td>\n      <td>...</td>\n      <td>NaN</td>\n      <td>NaN</td>\n      <td>NaN</td>\n      <td>NaN</td>\n      <td>NaN</td>\n      <td>NaN</td>\n      <td>NaN</td>\n      <td>NaN</td>\n      <td>NaN</td>\n      <td>NaN</td>\n    </tr>\n    <tr>\n      <th>20</th>\n      <td>NaN</td>\n      <td>NaN</td>\n      <td>NaN</td>\n      <td>NaN</td>\n      <td>NaN</td>\n      <td>NaN</td>\n      <td>NaN</td>\n      <td>NaN</td>\n      <td>NaN</td>\n      <td>NaN</td>\n      <td>...</td>\n      <td>NaN</td>\n      <td>0.2000</td>\n      <td>NaN</td>\n      <td>0.21250</td>\n      <td>NaN</td>\n      <td>0.18750</td>\n      <td>NaN</td>\n      <td>NaN</td>\n      <td>NaN</td>\n      <td>0.20625</td>\n    </tr>\n  </tbody>\n</table>\n<p>14 rows × 168 columns</p>\n</div>"
     },
     "execution_count": 122,
     "metadata": {},
     "output_type": "execute_result"
    }
   ],
   "source": [
    "k"
   ],
   "metadata": {
    "collapsed": false
   }
  },
  {
   "cell_type": "code",
   "execution_count": 114,
   "outputs": [
    {
     "name": "stderr",
     "output_type": "stream",
     "text": [
      "C:\\Users\\paulr\\AppData\\Local\\Temp\\ipykernel_40324\\1709933878.py:5: FutureWarning: Using the level keyword in DataFrame and Series aggregations is deprecated and will be removed in a future version. Use groupby instead. df.median(level=1) should use df.groupby(level=1).median().\n",
      "  t=k.mean(level=0,axis=1)\n"
     ]
    }
   ],
   "source": [
    "k =\n",
    "k = k.stack(level=2).sort_index()\n",
    "k = k.swaplevel(axis=1)\n",
    "k = k.droplevel(0)\n",
    "t=k.mean(level=0,axis=1)\n",
    "t = t.mean(axis=0)"
   ],
   "metadata": {
    "collapsed": false
   }
  },
  {
   "cell_type": "code",
   "execution_count": 115,
   "outputs": [
    {
     "data": {
      "text/plain": "analcatdata_creditscore    0.936673\nanalcatdata_cyyoung9302    0.820632\nanalcatdata_cyyoung8092    0.820040\nanalcatdata_dmft           0.207782\ndtype: float64"
     },
     "execution_count": 115,
     "metadata": {},
     "output_type": "execute_result"
    }
   ],
   "source": [
    "t.sort_values(ascending  = False)"
   ],
   "metadata": {
    "collapsed": false
   }
  },
  {
   "cell_type": "code",
   "execution_count": 9,
   "outputs": [
    {
     "ename": "NameError",
     "evalue": "name 'k' is not defined",
     "output_type": "error",
     "traceback": [
      "\u001B[1;31m---------------------------------------------------------------------------\u001B[0m",
      "\u001B[1;31mNameError\u001B[0m                                 Traceback (most recent call last)",
      "Cell \u001B[1;32mIn [9], line 1\u001B[0m\n\u001B[1;32m----> 1\u001B[0m y \u001B[38;5;241m=\u001B[39m \u001B[43mk\u001B[49m\u001B[38;5;241m.\u001B[39mswaplevel(axis\u001B[38;5;241m=\u001B[39m\u001B[38;5;241m1\u001B[39m)\n\u001B[0;32m      2\u001B[0m y \u001B[38;5;241m=\u001B[39m y\u001B[38;5;241m.\u001B[39mvar(level\u001B[38;5;241m=\u001B[39m\u001B[38;5;241m0\u001B[39m,axis\u001B[38;5;241m=\u001B[39m\u001B[38;5;241m1\u001B[39m)\n\u001B[0;32m      3\u001B[0m y \u001B[38;5;241m=\u001B[39m y\u001B[38;5;241m.\u001B[39mmean(axis\u001B[38;5;241m=\u001B[39m\u001B[38;5;241m0\u001B[39m)\n",
      "\u001B[1;31mNameError\u001B[0m: name 'k' is not defined"
     ]
    }
   ],
   "source": [
    "y = k.swaplevel(axis=1)\n",
    "y = y.var(level=0,axis=1)\n",
    "y = y.mean(axis=0)\n",
    "good_tests = y[y < 0.01].index\n",
    "good = list(good_tests)"
   ],
   "metadata": {
    "collapsed": false
   }
  },
  {
   "cell_type": "code",
   "execution_count": 10,
   "outputs": [
    {
     "ename": "NameError",
     "evalue": "name 'k' is not defined",
     "output_type": "error",
     "traceback": [
      "\u001B[1;31m---------------------------------------------------------------------------\u001B[0m",
      "\u001B[1;31mNameError\u001B[0m                                 Traceback (most recent call last)",
      "Cell \u001B[1;32mIn [10], line 1\u001B[0m\n\u001B[1;32m----> 1\u001B[0m vaild_results \u001B[38;5;241m=\u001B[39m \u001B[43mk\u001B[49m\u001B[38;5;241m.\u001B[39miloc[:,k\u001B[38;5;241m.\u001B[39mcolumns\u001B[38;5;241m.\u001B[39misin(good, level\u001B[38;5;241m=\u001B[39m\u001B[38;5;241m1\u001B[39m)]\n\u001B[0;32m      2\u001B[0m vaild_results\u001B[38;5;241m=\u001B[39mvaild_results\u001B[38;5;241m.\u001B[39mmean(level\u001B[38;5;241m=\u001B[39m\u001B[38;5;241m0\u001B[39m,axis\u001B[38;5;241m=\u001B[39m\u001B[38;5;241m1\u001B[39m)\n\u001B[0;32m      3\u001B[0m vaild_results\u001B[38;5;241m.\u001B[39mmean(axis\u001B[38;5;241m=\u001B[39m\u001B[38;5;241m0\u001B[39m)\n",
      "\u001B[1;31mNameError\u001B[0m: name 'k' is not defined"
     ]
    }
   ],
   "source": [
    "vaild_results = k.iloc[:,k.columns.isin(good, level=1)]\n",
    "vaild_results=vaild_results.mean(level=0,axis=1)\n",
    "vaild_results.mean(axis=0)"
   ],
   "metadata": {
    "collapsed": false
   }
  },
  {
   "cell_type": "code",
   "execution_count": null,
   "outputs": [],
   "source": [],
   "metadata": {
    "collapsed": false
   }
  },
  {
   "cell_type": "code",
   "execution_count": 124,
   "outputs": [],
   "source": [
    "classification_dataset = classification_dataset_names[1]"
   ],
   "metadata": {
    "collapsed": false
   }
  },
  {
   "cell_type": "code",
   "execution_count": 145,
   "outputs": [
    {
     "name": "stdout",
     "output_type": "stream",
     "text": [
      "\u001B[1m\n",
      "\n",
      "    ----------------------------------------- analcatdata_cyyoung8092 -----------------------------------------\u001B[0m\n",
      "Dataset Information\n",
      "Rows: 97\n",
      "Columns: 10\n",
      "Number of classes: 2\n",
      "Continous columns: 8\n",
      "Binary columns: 2\n",
      "Categorical columns: 0\n",
      "-------------------------------------------------\n",
      "Classification CART mean performance:  0.85\n",
      "\n",
      "\n",
      "Classification OCT performance:  0.85\n",
      "\n",
      "\n",
      "Classification OCT_H performance:  0.85\n",
      "\n",
      "\n"
     ]
    },
    {
     "ename": "TypeError",
     "evalue": "unhashable type: 'list'",
     "output_type": "error",
     "traceback": [
      "\u001B[1;31m---------------------------------------------------------------------------\u001B[0m",
      "\u001B[1;31mTypeError\u001B[0m                                 Traceback (most recent call last)",
      "Cell \u001B[1;32mIn [145], line 82\u001B[0m\n\u001B[0;32m     80\u001B[0m only_rules_acc \u001B[38;5;241m=\u001B[39m log_regression_pipeline(X_train_rules, X_test_rules, y_train, y_test)\n\u001B[0;32m     81\u001B[0m rules_and_features_acc \u001B[38;5;241m=\u001B[39m log_regression_pipeline(X_train_rules_features, X_test_rules_features, y_train, y_test)\n\u001B[1;32m---> 82\u001B[0m \u001B[43mres_rul\u001B[49m\u001B[43m[\u001B[49m\u001B[43m(\u001B[49m\u001B[43mclassification_dataset\u001B[49m\u001B[43m,\u001B[49m\u001B[43mmodel\u001B[49m\u001B[43m \u001B[49m\u001B[38;5;241;43m+\u001B[39;49m\u001B[43m \u001B[49m\u001B[38;5;124;43m\"\u001B[39;49m\u001B[38;5;124;43m_LG_rules\u001B[39;49m\u001B[38;5;124;43m\"\u001B[39;49m\u001B[43m,\u001B[49m\u001B[43mit\u001B[49m\u001B[43m,\u001B[49m\u001B[43mmin_name\u001B[49m\u001B[43m)\u001B[49m\u001B[43m]\u001B[49m \u001B[38;5;241m=\u001B[39m only_rules_acc\n\u001B[0;32m     83\u001B[0m res_rul[(classification_dataset,model \u001B[38;5;241m+\u001B[39m \u001B[38;5;124m\"\u001B[39m\u001B[38;5;124m_LG_rules_and_features\u001B[39m\u001B[38;5;124m\"\u001B[39m,it,fac_name)] \u001B[38;5;241m=\u001B[39m rules_and_features_acc\n\u001B[0;32m     85\u001B[0m only_rules_acc_SVM \u001B[38;5;241m=\u001B[39m SVM_pipeline(X_train_rules, X_test_rules, y_train, y_test)\n",
      "\u001B[1;31mTypeError\u001B[0m: unhashable type: 'list'"
     ]
    }
   ],
   "source": [
    "\n",
    "iters=2\n",
    "res_rul = {}\n",
    "sc = StandardScaler()\n",
    "names = ['Reg-CART','CART','ORT','OCT','ORT-H','OCT-H','ORT+ORT-H','OCT+OCT-H']\n",
    "df = fetch_data(classification_dataset)\n",
    "df, num_col, bin_col, cat_col = corr_data_for(df)\n",
    "\n",
    "y = df['target']\n",
    "X = df.loc[:, df.columns != 'target']\n",
    "#performance_by_iter = pd.DataFrame(columns = [\"Logistic Regression\", \"CART_rules\", \"OCT_rules\", \"OCTH_rules\", \"CART_rules_and_features\", \"OCT_rules_and_features\", \"OCTH_rules_and_features\"], index = np.arange(0, iters))\n",
    "print(color.BOLD + '\\n\\n    ----------------------------------------- {} -----------------------------------------'.format(classification_dataset) + color.END)\n",
    "rows_data, columns_data = X.shape\n",
    "print('Dataset Information')\n",
    "print('Rows:',rows_data,)\n",
    "print('Columns:',columns_data)\n",
    "print('Number of classes:',y.nunique())\n",
    "print('Continous columns:', len(num_col))\n",
    "print('Binary columns:', len(bin_col))\n",
    "print('Categorical columns:',len(cat_col))\n",
    "print('-------------------------------------------------')\n",
    "for it in range(iters):\n",
    "    X_train, X_test, y_train, y_test = train_test_split(X,y, test_size = 0.2, random_state = it, stratify=y)\n",
    "    X_col = X_train.columns\n",
    "    col_len = len(X_col)\n",
    "    X_test.name = \"X_test\"\n",
    "    X_train.name = \"X_train\"\n",
    "    X_train = sc.fit_transform(X_train)\n",
    "    X_test = sc.transform(X_test)\n",
    "    X_train = pd.DataFrame(X_train,columns=X_col)\n",
    "    X_test = pd.DataFrame(X_test,columns=X_col)\n",
    "\n",
    "\n",
    "\n",
    "    models, performance = generate_tree(X_train, y_train, X_test, y_test, n_num=1, feat_size=len(X.columns),  max_iter_hy=2,depth_grid=range(1,4), depth_grid_hy=range(1,3), complexity_bi = 0.001, complexity_hy=0.001,  Reg_CART=False, ORT=False, ORT_H=False, Clas_CART=True, OCT=True, OCT_H=True)\n",
    "    for perf,name in zip(performance,names):\n",
    "        if not not perf:\n",
    "            res_rul[(classification_dataset,name,it,col_len)] = sum(perf) / len(perf)\n",
    "\n",
    "    act_name = []\n",
    "    act_rules = []\n",
    "    for model,name in zip(models,names):\n",
    "        if not not model:\n",
    "            act_name += [name]\n",
    "            act_rules += [model]\n",
    "\n",
    "    datasets = gen_train_and_test_features(act_rules ,act_name , X_train, X_test)\n",
    "    for model in datasets.keys():\n",
    "\n",
    "        X_train_rules_and_features, X_test_rules_and_features = datasets[model][0]\n",
    "        X_train_only_rules, X_test_only_rules = datasets[model][1]\n",
    "\n",
    "        factors = [round(col_len*0.5),col_len,round(col_len*1.25),round(col_len*1.5),round(col_len*2)]\n",
    "        factors_name = [0.5,1,1.25,1.5,2]\n",
    "\n",
    "        for len_c,fac_name in zip(factors,factors_name):\n",
    "            if len_c > len(X_train_only_rules.columns):\n",
    "                min_len = len(X_train_only_rules.columns)\n",
    "                min_name = 1\n",
    "            else:\n",
    "                min_len = len_c\n",
    "                min_name = fac_name\n",
    "            if len_c > X_train.shape[1]:\n",
    "                res_rul[(classification_dataset,model + \"_LG_rules\",it,factors_name)] = np.nan\n",
    "                res_rul[(classification_dataset,model + \"_LG_rules_and_features\",it,factors_name)] = np.nan\n",
    "                res_rul[(classification_dataset,model + \"_SVM_rules\",it,factors_name)] = np.nan\n",
    "                res_rul[(classification_dataset,model + \"_SVM_rules_and_features\",it,factors_name)] = np.nan\n",
    "                res_rul[(classification_dataset,model + \"_NB_rules\",it,factors_name)] = np.nan\n",
    "                res_rul[(classification_dataset,model + \"_NB_rules_and_features\",it,factors_name)] = np.nan\n",
    "                res_rul[(classification_dataset,model + \"_KNN_rules\",it,factors_name)] = np.nan\n",
    "                res_rul[(classification_dataset,model + \"_KNN_rules_and_features\",it,factors_name)] = np.nan\n",
    "            else:\n",
    "                cols = SelectKBest(k=len_c).fit(X_train_rules_and_features,y_train).get_feature_names_out()\n",
    "                X_train_rules_features = X_train_rules_and_features[cols]\n",
    "                X_test_rules_features = X_test_rules_and_features[cols]\n",
    "\n",
    "                cols_1 = SelectKBest(k=min_len).fit(X_train_only_rules,y_train).get_feature_names_out()\n",
    "                X_train_rules = X_train_only_rules[cols_1]\n",
    "                X_test_rules = X_test_only_rules[cols_1]\n",
    "\n",
    "                only_rules_acc = log_regression_pipeline(X_train_rules, X_test_rules, y_train, y_test)\n",
    "                rules_and_features_acc = log_regression_pipeline(X_train_rules_features, X_test_rules_features, y_train, y_test)\n",
    "                res_rul[(classification_dataset,model + \"_LG_rules\",it,min_name)] = only_rules_acc\n",
    "                res_rul[(classification_dataset,model + \"_LG_rules_and_features\",it,fac_name)] = rules_and_features_acc\n",
    "\n",
    "                only_rules_acc_SVM = SVM_pipeline(X_train_rules, X_test_rules, y_train, y_test)\n",
    "                rules_and_features_acc_SVM = SVM_pipeline(X_train_rules_features, X_test_rules_features, y_train, y_test)\n",
    "                res_rul[(classification_dataset,model + \"_SVM_rules\",it,min_name)] = only_rules_acc_SVM\n",
    "                res_rul[(classification_dataset,model + \"_SVM_rules_and_features\",it,fac_name)] = rules_and_features_acc_SVM\n",
    "\n",
    "                only_rules_acc_NB = NB_pipeline(X_train_rules, X_test_rules, y_train, y_test)\n",
    "                rules_and_features_acc_NB = NB_pipeline(X_train_rules_features, X_test_rules_features, y_train, y_test)\n",
    "                res_rul[(classification_dataset,model + \"_NB_rules\",it,min_name)] = only_rules_acc_NB\n",
    "                res_rul[(classification_dataset,model + \"_NB_rules_and_features\",it,fac_name)] = rules_and_features_acc_NB\n",
    "\n",
    "                only_rules_acc_KNN = KNN_pipeline(X_train_rules, X_test_rules, y_train, y_test)\n",
    "                rules_and_features_acc_KNN = KNN_pipeline(X_train_rules_features, X_test_rules_features, y_train, y_test)\n",
    "                res_rul[(classification_dataset,model + \"_KNN_rules\",it,min_name)] = only_rules_acc_KNN\n",
    "                res_rul[(classification_dataset,model + \"_KNN_rules_and_features\",it,fac_name)] = rules_and_features_acc_KNN\n",
    "\n",
    "    res_rul[(classification_dataset,'Logistic_Regression',it,col_len)] = log_regression_pipeline(X_train, X_test, y_train, y_test)\n",
    "\n",
    "    res_rul[(classification_dataset,\"Support Vector Machine\",it,col_len)] = SVM_pipeline(X_train, X_test, y_train, y_test)\n",
    "\n",
    "    res_rul[(classification_dataset,\"Naive Bayes\",it,col_len)] = NB_pipeline(X_train, X_test, y_train, y_test)\n",
    "\n",
    "    res_rul[(classification_dataset,\"K-Nearest-Neighbor\",it,col_len)] = KNN_pipeline(X_train, X_test, y_train, y_test)\n",
    "\n",
    "\n"
   ],
   "metadata": {
    "collapsed": false
   }
  },
  {
   "cell_type": "code",
   "execution_count": 132,
   "outputs": [
    {
     "data": {
      "text/plain": "[5, 10, 12, 15, 20]"
     },
     "execution_count": 132,
     "metadata": {},
     "output_type": "execute_result"
    }
   ],
   "source": [
    "[round(col_len*0.5),col_len,round(col_len*1.25),round(col_len*1.5),round(col_len*2)]"
   ],
   "metadata": {
    "collapsed": false
   }
  },
  {
   "cell_type": "code",
   "execution_count": 135,
   "outputs": [
    {
     "data": {
      "text/plain": "dict_keys(['CART', 'OCT', 'OCT-H', 'OCT+OCT-H'])"
     },
     "execution_count": 135,
     "metadata": {},
     "output_type": "execute_result"
    }
   ],
   "source": [
    "datasets.keys()"
   ],
   "metadata": {
    "collapsed": false
   }
  },
  {
   "cell_type": "code",
   "execution_count": null,
   "outputs": [],
   "source": [],
   "metadata": {
    "collapsed": false
   }
  },
  {
   "cell_type": "code",
   "execution_count": null,
   "outputs": [],
   "source": [],
   "metadata": {
    "collapsed": false
   }
  },
  {
   "cell_type": "code",
   "execution_count": null,
   "outputs": [],
   "source": [],
   "metadata": {
    "collapsed": false
   }
  },
  {
   "cell_type": "code",
   "execution_count": null,
   "outputs": [],
   "source": [],
   "metadata": {
    "collapsed": false
   }
  },
  {
   "cell_type": "code",
   "execution_count": null,
   "outputs": [],
   "source": [],
   "metadata": {
    "collapsed": false
   }
  },
  {
   "cell_type": "code",
   "execution_count": null,
   "outputs": [],
   "source": [
    "from keras.layers import Dense\n",
    "from keras.layers import Dropout\n",
    "from keras.models import Sequential\n",
    "import keras.utils\n",
    "import keras_tuner\n",
    "#from tensorflow import keras\n",
    "from keras import utils as np_utils\n",
    "\n",
    "\n",
    "\n",
    "\n",
    "def NN_creator(hp):\n",
    "  model = Sequential()\n",
    "  model.add(Dense(30, activation='relu', input_dim=30))\n",
    "\n",
    "  # Tune the number of dense layers\n",
    "  for i in range(hp.Int('num_layers', 1, 5)):\n",
    "\n",
    "    # Tune the number of units in the each dense layer\n",
    "    hp_units = hp.Int('units_'+str(i), min_value=3, max_value=18,step=1)\n",
    "    model.add(keras.layers.Dense(units=hp_units, activation='relu'))\n",
    "\n",
    "    # Tune the dropout rate in the each dense layer\n",
    "    hp_dropout = hp.Float('rate', min_value=0.0, max_value=0.5, step=0.1)\n",
    "    model.add(keras.layers.Dropout(hp_dropout))\n",
    "\n",
    "  # Add dense output layer\n",
    "    model.add(Dense(1, activation='sigmoid'))\n",
    "\n",
    "  # Tune the learning rate for the optimizer\n",
    "  hp_learning_rate = hp.Choice('learning_rate', values=[1e-2, 1e-3, 1e-4])\n",
    "  model.compile(optimizer=keras.optimizers.Adam(learning_rate=hp_learning_rate),\n",
    "                loss='binary_crossentropy',\n",
    "                metrics=['accuracy'])\n",
    "\n",
    "  return model"
   ],
   "metadata": {
    "collapsed": false
   }
  },
  {
   "cell_type": "code",
   "execution_count": null,
   "outputs": [],
   "source": [],
   "metadata": {
    "collapsed": false
   }
  },
  {
   "cell_type": "code",
   "execution_count": null,
   "outputs": [],
   "source": [],
   "metadata": {
    "collapsed": false
   }
  },
  {
   "cell_type": "code",
   "execution_count": null,
   "outputs": [],
   "source": [],
   "metadata": {
    "collapsed": false
   }
  },
  {
   "cell_type": "code",
   "execution_count": null,
   "id": "a935b482",
   "metadata": {},
   "outputs": [],
   "source": [
    "import matplotlib.pyplot as plt\n",
    "fig, ax = plt.subplots(nrows = 5, ncols = 4, gridspec_kw = {\"hspace\": 0.25})\n",
    "import seaborn as sns\n",
    "fig.set_size_inches(30, 25)\n",
    "iteration = 0\n",
    "\n",
    "for m in range(5):\n",
    "    for j in range(4):\n",
    "\n",
    "        dataset = classification_dataset_names[:20][iteration]\n",
    "\n",
    "        columns = [i for i in k.columns if dataset in i]\n",
    "        sns.boxplot(k[columns], ax = ax[m, j])\n",
    "\n",
    "        ax[m, j].set_title(dataset)\n",
    "\n",
    "        ax[m, j].set_xticklabels(['CART Rules', \"OCT Rules\", \"Logistic Regression\", \"RuleFit\", \"ORRFA\"])\n",
    "\n",
    "        iteration += 1\n",
    "\n"
   ]
  },
  {
   "cell_type": "code",
   "execution_count": null,
   "id": "0e2bb77d",
   "metadata": {},
   "outputs": [],
   "source": [
    "CART_rules"
   ]
  },
  {
   "cell_type": "code",
   "execution_count": null,
   "id": "05e4f4f4",
   "metadata": {},
   "outputs": [],
   "source": [
    "import seaborn as sns\n",
    "\n",
    "sns.violinplot(data=k)"
   ]
  },
  {
   "cell_type": "code",
   "execution_count": null,
   "id": "e27cefcb",
   "metadata": {},
   "outputs": [],
   "source": []
  },
  {
   "cell_type": "code",
   "execution_count": null,
   "id": "89d06e2f",
   "metadata": {},
   "outputs": [],
   "source": [
    "del performance_by_iter['OCTH_rules']"
   ]
  },
  {
   "cell_type": "code",
   "execution_count": null,
   "id": "3a166560",
   "metadata": {},
   "outputs": [],
   "source": [
    "del performance_by_iter['OCTH_rules_and_features']"
   ]
  },
  {
   "cell_type": "code",
   "execution_count": null,
   "id": "37e2c960",
   "metadata": {},
   "outputs": [],
   "source": [
    "df.loc[eval(rule)].index.values"
   ]
  },
  {
   "cell_type": "code",
   "execution_count": null,
   "id": "7fc560a0",
   "metadata": {},
   "outputs": [],
   "source": [
    "df = X_train.copy()"
   ]
  },
  {
   "cell_type": "code",
   "execution_count": null,
   "id": "efb79589",
   "metadata": {},
   "outputs": [],
   "source": [
    "rule = rule.replace(\"feature\", \"df\")"
   ]
  },
  {
   "cell_type": "code",
   "execution_count": null,
   "id": "7ff36319",
   "metadata": {},
   "outputs": [],
   "source": [
    "rule"
   ]
  },
  {
   "cell_type": "code",
   "execution_count": null,
   "id": "54ab8c83",
   "metadata": {},
   "outputs": [],
   "source": [
    "loc[eval(rule)].index.values"
   ]
  },
  {
   "cell_type": "code",
   "execution_count": null,
   "id": "00a5efa5",
   "metadata": {},
   "outputs": [],
   "source": [
    "rule = rules[1]"
   ]
  },
  {
   "cell_type": "code",
   "execution_count": null,
   "id": "e8af6003",
   "metadata": {},
   "outputs": [],
   "source": [
    "for i, rules in enumerate(act_rules):\n",
    "    print(i)\n",
    "    print(rules)"
   ]
  },
  {
   "cell_type": "code",
   "execution_count": null,
   "id": "33e6a767",
   "metadata": {},
   "outputs": [],
   "source": [
    "act_rules"
   ]
  },
  {
   "cell_type": "markdown",
   "id": "746991b1",
   "metadata": {},
   "source": []
  },
  {
   "cell_type": "code",
   "execution_count": null,
   "id": "f5f58967",
   "metadata": {},
   "outputs": [],
   "source": [
    "for i, rules in enumerate(act_rules):\n",
    "    print(i)\n",
    "    print(rules)"
   ]
  },
  {
   "cell_type": "code",
   "execution_count": null,
   "id": "30830c6b",
   "metadata": {},
   "outputs": [],
   "source": [
    "performance_by_iter.rename(columns = {column: column.replace(\"OCT_rules_and_features\", \"ORRFA\")}, inplace = True)"
   ]
  },
  {
   "cell_type": "code",
   "execution_count": null,
   "id": "f94a02e4",
   "metadata": {},
   "outputs": [],
   "source": [
    "import matplotlib.pyplot as plt\n",
    "import seaborn as sns\n",
    "fig, ax = plt.subplots()\n",
    "sns.boxplot(data = performance_by_iter)\n",
    "fig.set_size_inches(20, 10)\n",
    "ax.set_xticklabels(performance_by_iter.columns.values)\n",
    "# ax.set_ylim(0.93, 0.995)\n",
    "ax.tick_params(rotation = 0, labelsize = 14)\n",
    "ax.set_ylabel(\"Accuracy\", fontsize = 14)\n",
    "ax.set_title(\"Accuracy of Logistic Regression, RuleFit and ORRFA\", fontsize = 15)\n",
    "# ax.set_ylabel()\n",
    "plt.savefig('Benchmark ORRFA.png')"
   ]
  },
  {
   "cell_type": "code",
   "execution_count": null,
   "id": "91219303",
   "metadata": {},
   "outputs": [],
   "source": []
  },
  {
   "cell_type": "code",
   "execution_count": null,
   "id": "5682f5e6",
   "metadata": {},
   "outputs": [],
   "source": [
    "performance_by_iter.mean()"
   ]
  }
 ],
 "metadata": {
  "kernelspec": {
   "display_name": "Python 3 (ipykernel)",
   "language": "python",
   "name": "python3"
  },
  "language_info": {
   "codemirror_mode": {
    "name": "ipython",
    "version": 3
   },
   "file_extension": ".py",
   "mimetype": "text/x-python",
   "name": "python",
   "nbconvert_exporter": "python",
   "pygments_lexer": "ipython3",
   "version": "3.11.0"
  },
  "vscode": {
   "interpreter": {
    "hash": "aee8b7b246df8f9039afb4144a1f6fd8d2ca17a180786b69acc140d282b71a49"
   }
  }
 },
 "nbformat": 4,
 "nbformat_minor": 5
}
