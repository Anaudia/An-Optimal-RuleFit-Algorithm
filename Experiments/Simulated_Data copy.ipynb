{
 "cells": [
  {
   "cell_type": "code",
   "execution_count": 1,
   "metadata": {},
   "outputs": [],
   "source": [
    "import numpy as np\n",
    "import pandas as pd"
   ]
  },
  {
   "cell_type": "markdown",
   "id": "88a4e4e5",
   "metadata": {},
   "source": [
    "### Classification"
   ]
  },
  {
   "cell_type": "code",
   "execution_count": 9,
   "metadata": {},
   "outputs": [],
   "source": [
    "## Create artificial data set with\n",
    "n = 2000\n",
    "x1 = np.random.normal(loc = 0,scale=1, size=n)\n",
    "x2 = np.random.normal(loc=0, scale=1, size=n)\n",
    "x3 = np.random.normal(loc=0, scale=1, size=n)\n",
    "x4 = np.random.normal(loc=0, scale=1, size=n)\n",
    "eps = np.random.normal(loc=0, scale=0.05, size=n)\n",
    "\n",
    "label_not_flipped = np.random.choice([1,0], replace = True, size = n, p = [0.9, 0.1])\n",
    "\n",
    "y = ((x1 > -0.2).astype(float) * (x2 <  0.2).astype(float))*label_not_flipped\n",
    "y_bar = ((x1 > -0.2).astype(float) * (x2 <  0.2).astype(float)) \n",
    "\n",
    "X = pd.DataFrame({'x1': x1, 'x2': x2, 'x3': x3, 'x4': x4, 'y': y, 'y_bar': y_bar})"
   ]
  },
  {
   "cell_type": "code",
   "execution_count": 11,
   "metadata": {
    "collapsed": false
   },
   "outputs": [],
   "source": [
    "X.to_csv(\"simulated_data.csv\")"
   ]
  },
  {
   "cell_type": "markdown",
   "metadata": {
    "collapsed": false
   },
   "source": []
  },
  {
   "cell_type": "markdown",
   "id": "3df94fab",
   "metadata": {},
   "source": [
    "### Regression"
   ]
  },
  {
   "cell_type": "code",
   "execution_count": 5,
   "id": "81abf3da",
   "metadata": {},
   "outputs": [],
   "source": [
    "## Create artificial data set with\n",
    "n = 2000\n",
    "x1 = np.random.normal(loc = 0,scale=1, size=n)\n",
    "x2 = np.random.normal(loc=0, scale=1, size=n)\n",
    "x3 = np.random.normal(loc=0, scale=1, size=n)\n",
    "x4 = np.random.normal(loc=0, scale=1, size=n)\n",
    "eps = np.random.normal(loc=0, scale=0.05, size=n)\n",
    "mu = np.random.normal(loc = 0, scale = 1, size = 1)\n",
    "y = mu + ((x1 > -0.1).astype(float) * (x2 <  0.1).astype(float)) + eps\n",
    "y_bar = mu + ((x1 > -0.1).astype(float) * (x2 <  0.1).astype(float)) \n",
    "\n",
    "X = pd.DataFrame({'x1': x1, 'x2': x2, 'x3': x3, 'x4': x4, 'y': y, 'y_bar': y_bar})"
   ]
  }
 ],
 "metadata": {
  "kernelspec": {
   "display_name": "Python 3.10.8 64-bit",
   "language": "python",
   "name": "python3"
  },
  "language_info": {
   "codemirror_mode": {
    "name": "ipython",
    "version": 3
   },
   "file_extension": ".py",
   "mimetype": "text/x-python",
   "name": "python",
   "nbconvert_exporter": "python",
   "pygments_lexer": "ipython3",
   "version": "3.10.8"
  },
  "vscode": {
   "interpreter": {
    "hash": "aee8b7b246df8f9039afb4144a1f6fd8d2ca17a180786b69acc140d282b71a49"
   }
  }
 },
 "nbformat": 4,
 "nbformat_minor": 5
}
