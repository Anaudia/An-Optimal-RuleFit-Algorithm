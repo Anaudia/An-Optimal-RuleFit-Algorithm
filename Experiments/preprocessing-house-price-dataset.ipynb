{
 "cells": [
  {
   "cell_type": "markdown",
   "source": [
    "# In this notebook, <br>\n",
    "I will show my way to preprocess the House-Price dataset. <br>\n",
    "I'm very beginner to this. <br>\n",
    "**Please feel free to discuss or leave an advice in the comment section :)** <br>\n",
    "Thanks in advance"
   ],
   "metadata": {
    "papermill": {
     "duration": 0.026095,
     "end_time": "2020-12-26T08:18:04.220192",
     "exception": false,
     "start_time": "2020-12-26T08:18:04.194097",
     "status": "completed"
    },
    "tags": [],
    "pycharm": {
     "name": "#%% md\n"
    }
   }
  },
  {
   "cell_type": "code",
   "execution_count": 1,
   "source": [
    "# This Python 3 environment comes with many helpful analytics libraries installed\n",
    "# It is defined by the kaggle/python Docker image: https://github.com/kaggle/docker-python\n",
    "# For example, here's several helpful packages to load\n",
    "\n",
    "import numpy as np # linear algebra\n",
    "import pandas as pd # data processing, CSV file I/O (e.g. pd.read_csv)\n",
    "\n",
    "# Input data files are available in the read-only \"../input/\" directory\n",
    "# For example, running this (by clicking run or pressing Shift+Enter) will list all files under the input directory\n",
    "\n",
    "import os\n",
    "for dirname, _, filenames in os.walk('/kaggle/input'):\n",
    "    for filename in filenames:\n",
    "        print(os.path.join(dirname, filename))\n",
    "\n",
    "# You can write up to 20GB to the current directory (/kaggle/working/) that gets preserved as output when you create a version using \"Save & Run All\" \n",
    "# You can also write temporary files to /kaggle/temp/, but they won't be saved outside of the current session"
   ],
   "outputs": [],
   "metadata": {
    "_cell_guid": "b1076dfc-b9ad-4769-8c92-a6c4dae69d19",
    "_uuid": "8f2839f25d086af736a60e9eeb907d3b93b6e0e5",
    "execution": {
     "iopub.execute_input": "2020-12-26T08:18:04.277321Z",
     "iopub.status.busy": "2020-12-26T08:18:04.276327Z",
     "iopub.status.idle": "2020-12-26T08:18:04.282670Z",
     "shell.execute_reply": "2020-12-26T08:18:04.281734Z"
    },
    "papermill": {
     "duration": 0.037921,
     "end_time": "2020-12-26T08:18:04.282814",
     "exception": false,
     "start_time": "2020-12-26T08:18:04.244893",
     "status": "completed"
    },
    "tags": [],
    "pycharm": {
     "name": "#%%\n"
    }
   }
  },
  {
   "cell_type": "code",
   "execution_count": 2,
   "outputs": [
    {
     "name": "stdout",
     "output_type": "stream",
     "text": [
      "Requirement already satisfied: seaborn in ./venv/lib/python3.7/site-packages (0.12.0)\r\n",
      "Requirement already satisfied: typing_extensions in ./venv/lib/python3.7/site-packages (from seaborn) (4.3.0)\r\n",
      "Requirement already satisfied: numpy>=1.17 in ./venv/lib/python3.7/site-packages (from seaborn) (1.21.6)\r\n",
      "Requirement already satisfied: matplotlib>=3.1 in ./venv/lib/python3.7/site-packages (from seaborn) (3.5.3)\r\n",
      "Requirement already satisfied: pandas>=0.25 in ./venv/lib/python3.7/site-packages (from seaborn) (1.3.5)\r\n",
      "Requirement already satisfied: fonttools>=4.22.0 in ./venv/lib/python3.7/site-packages (from matplotlib>=3.1->seaborn) (4.37.1)\r\n",
      "Requirement already satisfied: pillow>=6.2.0 in ./venv/lib/python3.7/site-packages (from matplotlib>=3.1->seaborn) (9.2.0)\r\n",
      "Requirement already satisfied: python-dateutil>=2.7 in ./venv/lib/python3.7/site-packages (from matplotlib>=3.1->seaborn) (2.8.2)\r\n",
      "Requirement already satisfied: pyparsing>=2.2.1 in ./venv/lib/python3.7/site-packages (from matplotlib>=3.1->seaborn) (3.0.9)\r\n",
      "Requirement already satisfied: packaging>=20.0 in ./venv/lib/python3.7/site-packages (from matplotlib>=3.1->seaborn) (21.3)\r\n",
      "Requirement already satisfied: cycler>=0.10 in ./venv/lib/python3.7/site-packages (from matplotlib>=3.1->seaborn) (0.11.0)\r\n",
      "Requirement already satisfied: kiwisolver>=1.0.1 in ./venv/lib/python3.7/site-packages (from matplotlib>=3.1->seaborn) (1.4.4)\r\n",
      "Requirement already satisfied: pytz>=2017.3 in ./venv/lib/python3.7/site-packages (from pandas>=0.25->seaborn) (2022.2.1)\r\n",
      "Requirement already satisfied: six>=1.5 in ./venv/lib/python3.7/site-packages (from python-dateutil>=2.7->matplotlib>=3.1->seaborn) (1.16.0)\r\n",
      "\u001B[33mWARNING: You are using pip version 21.3.1; however, version 22.2.2 is available.\r\n",
      "You should consider upgrading via the '/Users/ryanlucas/Desktop/pythonProject/venv/bin/python -m pip install --upgrade pip' command.\u001B[0m\r\n"
     ]
    }
   ],
   "source": [
    "!pip install seaborn"
   ],
   "metadata": {
    "collapsed": false,
    "pycharm": {
     "name": "#%%\n"
    }
   }
  },
  {
   "cell_type": "code",
   "execution_count": 3,
   "source": [
    "import pandas as pd\n",
    "import numpy as np\n",
    "import matplotlib.pyplot as plt\n",
    "import sys\n",
    "import seaborn as sns\n",
    "import warnings\n",
    "\n",
    "warnings.filterwarnings(\"ignore\")"
   ],
   "outputs": [],
   "metadata": {
    "_cell_guid": "79c7e3d0-c299-4dcb-8224-4455121ee9b0",
    "_uuid": "d629ff2d2480ee46fbb7e2d37f6b5fab8052498a",
    "execution": {
     "iopub.execute_input": "2020-12-26T08:18:04.340759Z",
     "iopub.status.busy": "2020-12-26T08:18:04.339998Z",
     "iopub.status.idle": "2020-12-26T08:18:05.230502Z",
     "shell.execute_reply": "2020-12-26T08:18:05.229817Z"
    },
    "papermill": {
     "duration": 0.921272,
     "end_time": "2020-12-26T08:18:05.230671",
     "exception": false,
     "start_time": "2020-12-26T08:18:04.309399",
     "status": "completed"
    },
    "tags": [],
    "pycharm": {
     "name": "#%%\n"
    }
   }
  },
  {
   "cell_type": "code",
   "execution_count": 4,
   "source": [
    "data = pd.read_csv('/Users/ryanlucas/Desktop/training.csv')"
   ],
   "outputs": [],
   "metadata": {
    "execution": {
     "iopub.execute_input": "2020-12-26T08:18:05.290419Z",
     "iopub.status.busy": "2020-12-26T08:18:05.289752Z",
     "iopub.status.idle": "2020-12-26T08:18:05.329785Z",
     "shell.execute_reply": "2020-12-26T08:18:05.329184Z"
    },
    "papermill": {
     "duration": 0.072521,
     "end_time": "2020-12-26T08:18:05.329898",
     "exception": false,
     "start_time": "2020-12-26T08:18:05.257377",
     "status": "completed"
    },
    "tags": [],
    "pycharm": {
     "name": "#%%\n"
    }
   }
  },
  {
   "cell_type": "code",
   "execution_count": 5,
   "outputs": [
    {
     "data": {
      "text/plain": "        Id  MSSubClass MSZoning  LotFrontage  LotArea Street Alley LotShape  \\\n0        1          60       RL         65.0     8450   Pave   NaN      Reg   \n1        2          20       RL         80.0     9600   Pave   NaN      Reg   \n2        3          60       RL         68.0    11250   Pave   NaN      IR1   \n3        4          70       RL         60.0     9550   Pave   NaN      IR1   \n4        5          60       RL         84.0    14260   Pave   NaN      IR1   \n...    ...         ...      ...          ...      ...    ...   ...      ...   \n1455  1456          60       RL         62.0     7917   Pave   NaN      Reg   \n1456  1457          20       RL         85.0    13175   Pave   NaN      Reg   \n1457  1458          70       RL         66.0     9042   Pave   NaN      Reg   \n1458  1459          20       RL         68.0     9717   Pave   NaN      Reg   \n1459  1460          20       RL         75.0     9937   Pave   NaN      Reg   \n\n     LandContour Utilities  ... PoolArea PoolQC  Fence MiscFeature MiscVal  \\\n0            Lvl    AllPub  ...        0    NaN    NaN         NaN       0   \n1            Lvl    AllPub  ...        0    NaN    NaN         NaN       0   \n2            Lvl    AllPub  ...        0    NaN    NaN         NaN       0   \n3            Lvl    AllPub  ...        0    NaN    NaN         NaN       0   \n4            Lvl    AllPub  ...        0    NaN    NaN         NaN       0   \n...          ...       ...  ...      ...    ...    ...         ...     ...   \n1455         Lvl    AllPub  ...        0    NaN    NaN         NaN       0   \n1456         Lvl    AllPub  ...        0    NaN  MnPrv         NaN       0   \n1457         Lvl    AllPub  ...        0    NaN  GdPrv        Shed    2500   \n1458         Lvl    AllPub  ...        0    NaN    NaN         NaN       0   \n1459         Lvl    AllPub  ...        0    NaN    NaN         NaN       0   \n\n     MoSold YrSold  SaleType  SaleCondition  SalePrice  \n0         2   2008        WD         Normal     208500  \n1         5   2007        WD         Normal     181500  \n2         9   2008        WD         Normal     223500  \n3         2   2006        WD        Abnorml     140000  \n4        12   2008        WD         Normal     250000  \n...     ...    ...       ...            ...        ...  \n1455      8   2007        WD         Normal     175000  \n1456      2   2010        WD         Normal     210000  \n1457      5   2010        WD         Normal     266500  \n1458      4   2010        WD         Normal     142125  \n1459      6   2008        WD         Normal     147500  \n\n[1460 rows x 81 columns]",
      "text/html": "<div>\n<style scoped>\n    .dataframe tbody tr th:only-of-type {\n        vertical-align: middle;\n    }\n\n    .dataframe tbody tr th {\n        vertical-align: top;\n    }\n\n    .dataframe thead th {\n        text-align: right;\n    }\n</style>\n<table border=\"1\" class=\"dataframe\">\n  <thead>\n    <tr style=\"text-align: right;\">\n      <th></th>\n      <th>Id</th>\n      <th>MSSubClass</th>\n      <th>MSZoning</th>\n      <th>LotFrontage</th>\n      <th>LotArea</th>\n      <th>Street</th>\n      <th>Alley</th>\n      <th>LotShape</th>\n      <th>LandContour</th>\n      <th>Utilities</th>\n      <th>...</th>\n      <th>PoolArea</th>\n      <th>PoolQC</th>\n      <th>Fence</th>\n      <th>MiscFeature</th>\n      <th>MiscVal</th>\n      <th>MoSold</th>\n      <th>YrSold</th>\n      <th>SaleType</th>\n      <th>SaleCondition</th>\n      <th>SalePrice</th>\n    </tr>\n  </thead>\n  <tbody>\n    <tr>\n      <th>0</th>\n      <td>1</td>\n      <td>60</td>\n      <td>RL</td>\n      <td>65.0</td>\n      <td>8450</td>\n      <td>Pave</td>\n      <td>NaN</td>\n      <td>Reg</td>\n      <td>Lvl</td>\n      <td>AllPub</td>\n      <td>...</td>\n      <td>0</td>\n      <td>NaN</td>\n      <td>NaN</td>\n      <td>NaN</td>\n      <td>0</td>\n      <td>2</td>\n      <td>2008</td>\n      <td>WD</td>\n      <td>Normal</td>\n      <td>208500</td>\n    </tr>\n    <tr>\n      <th>1</th>\n      <td>2</td>\n      <td>20</td>\n      <td>RL</td>\n      <td>80.0</td>\n      <td>9600</td>\n      <td>Pave</td>\n      <td>NaN</td>\n      <td>Reg</td>\n      <td>Lvl</td>\n      <td>AllPub</td>\n      <td>...</td>\n      <td>0</td>\n      <td>NaN</td>\n      <td>NaN</td>\n      <td>NaN</td>\n      <td>0</td>\n      <td>5</td>\n      <td>2007</td>\n      <td>WD</td>\n      <td>Normal</td>\n      <td>181500</td>\n    </tr>\n    <tr>\n      <th>2</th>\n      <td>3</td>\n      <td>60</td>\n      <td>RL</td>\n      <td>68.0</td>\n      <td>11250</td>\n      <td>Pave</td>\n      <td>NaN</td>\n      <td>IR1</td>\n      <td>Lvl</td>\n      <td>AllPub</td>\n      <td>...</td>\n      <td>0</td>\n      <td>NaN</td>\n      <td>NaN</td>\n      <td>NaN</td>\n      <td>0</td>\n      <td>9</td>\n      <td>2008</td>\n      <td>WD</td>\n      <td>Normal</td>\n      <td>223500</td>\n    </tr>\n    <tr>\n      <th>3</th>\n      <td>4</td>\n      <td>70</td>\n      <td>RL</td>\n      <td>60.0</td>\n      <td>9550</td>\n      <td>Pave</td>\n      <td>NaN</td>\n      <td>IR1</td>\n      <td>Lvl</td>\n      <td>AllPub</td>\n      <td>...</td>\n      <td>0</td>\n      <td>NaN</td>\n      <td>NaN</td>\n      <td>NaN</td>\n      <td>0</td>\n      <td>2</td>\n      <td>2006</td>\n      <td>WD</td>\n      <td>Abnorml</td>\n      <td>140000</td>\n    </tr>\n    <tr>\n      <th>4</th>\n      <td>5</td>\n      <td>60</td>\n      <td>RL</td>\n      <td>84.0</td>\n      <td>14260</td>\n      <td>Pave</td>\n      <td>NaN</td>\n      <td>IR1</td>\n      <td>Lvl</td>\n      <td>AllPub</td>\n      <td>...</td>\n      <td>0</td>\n      <td>NaN</td>\n      <td>NaN</td>\n      <td>NaN</td>\n      <td>0</td>\n      <td>12</td>\n      <td>2008</td>\n      <td>WD</td>\n      <td>Normal</td>\n      <td>250000</td>\n    </tr>\n    <tr>\n      <th>...</th>\n      <td>...</td>\n      <td>...</td>\n      <td>...</td>\n      <td>...</td>\n      <td>...</td>\n      <td>...</td>\n      <td>...</td>\n      <td>...</td>\n      <td>...</td>\n      <td>...</td>\n      <td>...</td>\n      <td>...</td>\n      <td>...</td>\n      <td>...</td>\n      <td>...</td>\n      <td>...</td>\n      <td>...</td>\n      <td>...</td>\n      <td>...</td>\n      <td>...</td>\n      <td>...</td>\n    </tr>\n    <tr>\n      <th>1455</th>\n      <td>1456</td>\n      <td>60</td>\n      <td>RL</td>\n      <td>62.0</td>\n      <td>7917</td>\n      <td>Pave</td>\n      <td>NaN</td>\n      <td>Reg</td>\n      <td>Lvl</td>\n      <td>AllPub</td>\n      <td>...</td>\n      <td>0</td>\n      <td>NaN</td>\n      <td>NaN</td>\n      <td>NaN</td>\n      <td>0</td>\n      <td>8</td>\n      <td>2007</td>\n      <td>WD</td>\n      <td>Normal</td>\n      <td>175000</td>\n    </tr>\n    <tr>\n      <th>1456</th>\n      <td>1457</td>\n      <td>20</td>\n      <td>RL</td>\n      <td>85.0</td>\n      <td>13175</td>\n      <td>Pave</td>\n      <td>NaN</td>\n      <td>Reg</td>\n      <td>Lvl</td>\n      <td>AllPub</td>\n      <td>...</td>\n      <td>0</td>\n      <td>NaN</td>\n      <td>MnPrv</td>\n      <td>NaN</td>\n      <td>0</td>\n      <td>2</td>\n      <td>2010</td>\n      <td>WD</td>\n      <td>Normal</td>\n      <td>210000</td>\n    </tr>\n    <tr>\n      <th>1457</th>\n      <td>1458</td>\n      <td>70</td>\n      <td>RL</td>\n      <td>66.0</td>\n      <td>9042</td>\n      <td>Pave</td>\n      <td>NaN</td>\n      <td>Reg</td>\n      <td>Lvl</td>\n      <td>AllPub</td>\n      <td>...</td>\n      <td>0</td>\n      <td>NaN</td>\n      <td>GdPrv</td>\n      <td>Shed</td>\n      <td>2500</td>\n      <td>5</td>\n      <td>2010</td>\n      <td>WD</td>\n      <td>Normal</td>\n      <td>266500</td>\n    </tr>\n    <tr>\n      <th>1458</th>\n      <td>1459</td>\n      <td>20</td>\n      <td>RL</td>\n      <td>68.0</td>\n      <td>9717</td>\n      <td>Pave</td>\n      <td>NaN</td>\n      <td>Reg</td>\n      <td>Lvl</td>\n      <td>AllPub</td>\n      <td>...</td>\n      <td>0</td>\n      <td>NaN</td>\n      <td>NaN</td>\n      <td>NaN</td>\n      <td>0</td>\n      <td>4</td>\n      <td>2010</td>\n      <td>WD</td>\n      <td>Normal</td>\n      <td>142125</td>\n    </tr>\n    <tr>\n      <th>1459</th>\n      <td>1460</td>\n      <td>20</td>\n      <td>RL</td>\n      <td>75.0</td>\n      <td>9937</td>\n      <td>Pave</td>\n      <td>NaN</td>\n      <td>Reg</td>\n      <td>Lvl</td>\n      <td>AllPub</td>\n      <td>...</td>\n      <td>0</td>\n      <td>NaN</td>\n      <td>NaN</td>\n      <td>NaN</td>\n      <td>0</td>\n      <td>6</td>\n      <td>2008</td>\n      <td>WD</td>\n      <td>Normal</td>\n      <td>147500</td>\n    </tr>\n  </tbody>\n</table>\n<p>1460 rows × 81 columns</p>\n</div>"
     },
     "execution_count": 5,
     "metadata": {},
     "output_type": "execute_result"
    }
   ],
   "source": [
    "data"
   ],
   "metadata": {
    "collapsed": false,
    "pycharm": {
     "name": "#%%\n"
    }
   }
  },
  {
   "cell_type": "markdown",
   "source": [
    "# Declare independent variables(X) and target(y)"
   ],
   "metadata": {
    "papermill": {
     "duration": 0.025853,
     "end_time": "2020-12-26T08:18:05.381744",
     "exception": false,
     "start_time": "2020-12-26T08:18:05.355891",
     "status": "completed"
    },
    "tags": [],
    "pycharm": {
     "name": "#%% md\n"
    }
   }
  },
  {
   "cell_type": "code",
   "execution_count": 6,
   "source": [
    "from sklearn.model_selection import train_test_split\n",
    "X = data.drop('SalePrice', axis=1)\n",
    "y = data['SalePrice']\n",
    "X_train, X_test, y_train, y_test =train_test_split(X,y, test_size=0.2)"
   ],
   "outputs": [],
   "metadata": {
    "execution": {
     "iopub.execute_input": "2020-12-26T08:18:05.439327Z",
     "iopub.status.busy": "2020-12-26T08:18:05.438547Z",
     "iopub.status.idle": "2020-12-26T08:18:05.546798Z",
     "shell.execute_reply": "2020-12-26T08:18:05.546090Z"
    },
    "papermill": {
     "duration": 0.139086,
     "end_time": "2020-12-26T08:18:05.546925",
     "exception": false,
     "start_time": "2020-12-26T08:18:05.407839",
     "status": "completed"
    },
    "tags": [],
    "pycharm": {
     "name": "#%%\n"
    }
   }
  },
  {
   "cell_type": "markdown",
   "source": [
    "# Separate numerical features(num) and categorical features(cat)"
   ],
   "metadata": {
    "papermill": {
     "duration": 0.026289,
     "end_time": "2020-12-26T08:18:05.599965",
     "exception": false,
     "start_time": "2020-12-26T08:18:05.573676",
     "status": "completed"
    },
    "tags": [],
    "pycharm": {
     "name": "#%% md\n"
    }
   }
  },
  {
   "cell_type": "code",
   "execution_count": 7,
   "source": [
    "num = X_train.select_dtypes(exclude='object')\n",
    "cat = X_train.select_dtypes(include='object')"
   ],
   "outputs": [],
   "metadata": {
    "execution": {
     "iopub.execute_input": "2020-12-26T08:18:05.663161Z",
     "iopub.status.busy": "2020-12-26T08:18:05.662104Z",
     "iopub.status.idle": "2020-12-26T08:18:05.664893Z",
     "shell.execute_reply": "2020-12-26T08:18:05.664250Z"
    },
    "papermill": {
     "duration": 0.038357,
     "end_time": "2020-12-26T08:18:05.664998",
     "exception": false,
     "start_time": "2020-12-26T08:18:05.626641",
     "status": "completed"
    },
    "tags": [],
    "pycharm": {
     "name": "#%%\n"
    }
   }
  },
  {
   "cell_type": "markdown",
   "source": [
    "# Numerical features"
   ],
   "metadata": {
    "papermill": {
     "duration": 0.027754,
     "end_time": "2020-12-26T08:18:05.719877",
     "exception": false,
     "start_time": "2020-12-26T08:18:05.692123",
     "status": "completed"
    },
    "tags": [],
    "pycharm": {
     "name": "#%% md\n"
    }
   }
  },
  {
   "cell_type": "markdown",
   "source": [
    "## 0) Drop 'Id' column"
   ],
   "metadata": {
    "papermill": {
     "duration": 0.026267,
     "end_time": "2020-12-26T08:18:05.772855",
     "exception": false,
     "start_time": "2020-12-26T08:18:05.746588",
     "status": "completed"
    },
    "tags": [],
    "pycharm": {
     "name": "#%% md\n"
    }
   }
  },
  {
   "cell_type": "code",
   "execution_count": 8,
   "source": [
    "num.drop('Id', axis=1, inplace=True)"
   ],
   "outputs": [],
   "metadata": {
    "execution": {
     "iopub.execute_input": "2020-12-26T08:18:05.832790Z",
     "iopub.status.busy": "2020-12-26T08:18:05.832010Z",
     "iopub.status.idle": "2020-12-26T08:18:05.834713Z",
     "shell.execute_reply": "2020-12-26T08:18:05.834185Z"
    },
    "papermill": {
     "duration": 0.035274,
     "end_time": "2020-12-26T08:18:05.834825",
     "exception": false,
     "start_time": "2020-12-26T08:18:05.799551",
     "status": "completed"
    },
    "tags": [],
    "pycharm": {
     "name": "#%%\n"
    }
   }
  },
  {
   "cell_type": "markdown",
   "source": [
    "## 1) Missing values"
   ],
   "metadata": {
    "papermill": {
     "duration": 0.026871,
     "end_time": "2020-12-26T08:18:05.888334",
     "exception": false,
     "start_time": "2020-12-26T08:18:05.861463",
     "status": "completed"
    },
    "tags": [],
    "pycharm": {
     "name": "#%% md\n"
    }
   }
  },
  {
   "cell_type": "code",
   "execution_count": 9,
   "source": [
    "from sklearn.impute import SimpleImputer\n",
    "\n",
    "Imputer = SimpleImputer(missing_values=np.nan, strategy='mean').fit(num)\n",
    "\n",
    "num_imputed = Imputer.transform(num)\n",
    "\n",
    "print(np.isnan(num_imputed).sum()/len(num))"
   ],
   "outputs": [
    {
     "name": "stdout",
     "output_type": "stream",
     "text": [
      "0.0\n"
     ]
    }
   ],
   "metadata": {
    "execution": {
     "iopub.execute_input": "2020-12-26T08:18:05.947849Z",
     "iopub.status.busy": "2020-12-26T08:18:05.947206Z",
     "iopub.status.idle": "2020-12-26T08:18:06.102972Z",
     "shell.execute_reply": "2020-12-26T08:18:06.102250Z"
    },
    "papermill": {
     "duration": 0.187727,
     "end_time": "2020-12-26T08:18:06.103162",
     "exception": false,
     "start_time": "2020-12-26T08:18:05.915435",
     "status": "completed"
    },
    "tags": [],
    "pycharm": {
     "name": "#%%\n"
    }
   }
  },
  {
   "cell_type": "markdown",
   "source": [
    "The result from SimpleImputer is Numpy array. Let's bring it back to interpletable Pandas DataFrame"
   ],
   "metadata": {
    "papermill": {
     "duration": 0.026303,
     "end_time": "2020-12-26T08:18:06.156189",
     "exception": false,
     "start_time": "2020-12-26T08:18:06.129886",
     "status": "completed"
    },
    "tags": [],
    "pycharm": {
     "name": "#%% md\n"
    }
   }
  },
  {
   "cell_type": "code",
   "execution_count": 10,
   "source": [
    "num_imputed = pd.DataFrame(num_imputed, columns=num.columns)\n",
    "num_imputed.head(3)"
   ],
   "outputs": [
    {
     "data": {
      "text/plain": "   MSSubClass  LotFrontage  LotArea  OverallQual  OverallCond  YearBuilt  \\\n0        50.0         60.0  10440.0          5.0          6.0     1910.0   \n1       160.0         24.0   2016.0          5.0          5.0     1970.0   \n2       190.0         60.0  11340.0          4.0          6.0     1885.0   \n\n   YearRemodAdd  MasVnrArea  BsmtFinSF1  BsmtFinSF2  ...  GarageArea  \\\n0        1981.0         0.0         0.0         0.0  ...       440.0   \n1        1970.0       304.0         0.0         0.0  ...       440.0   \n2        1950.0         0.0         0.0         0.0  ...       560.0   \n\n   WoodDeckSF  OpenPorchSF  EnclosedPorch  3SsnPorch  ScreenPorch  PoolArea  \\\n0        74.0          0.0          128.0        0.0          0.0       0.0   \n1         0.0          0.0            0.0        0.0          0.0       0.0   \n2         0.0          0.0          114.0        0.0          0.0       0.0   \n\n   MiscVal  MoSold  YrSold  \n0      0.0     5.0  2009.0  \n1      0.0     4.0  2007.0  \n2      0.0     4.0  2010.0  \n\n[3 rows x 36 columns]",
      "text/html": "<div>\n<style scoped>\n    .dataframe tbody tr th:only-of-type {\n        vertical-align: middle;\n    }\n\n    .dataframe tbody tr th {\n        vertical-align: top;\n    }\n\n    .dataframe thead th {\n        text-align: right;\n    }\n</style>\n<table border=\"1\" class=\"dataframe\">\n  <thead>\n    <tr style=\"text-align: right;\">\n      <th></th>\n      <th>MSSubClass</th>\n      <th>LotFrontage</th>\n      <th>LotArea</th>\n      <th>OverallQual</th>\n      <th>OverallCond</th>\n      <th>YearBuilt</th>\n      <th>YearRemodAdd</th>\n      <th>MasVnrArea</th>\n      <th>BsmtFinSF1</th>\n      <th>BsmtFinSF2</th>\n      <th>...</th>\n      <th>GarageArea</th>\n      <th>WoodDeckSF</th>\n      <th>OpenPorchSF</th>\n      <th>EnclosedPorch</th>\n      <th>3SsnPorch</th>\n      <th>ScreenPorch</th>\n      <th>PoolArea</th>\n      <th>MiscVal</th>\n      <th>MoSold</th>\n      <th>YrSold</th>\n    </tr>\n  </thead>\n  <tbody>\n    <tr>\n      <th>0</th>\n      <td>50.0</td>\n      <td>60.0</td>\n      <td>10440.0</td>\n      <td>5.0</td>\n      <td>6.0</td>\n      <td>1910.0</td>\n      <td>1981.0</td>\n      <td>0.0</td>\n      <td>0.0</td>\n      <td>0.0</td>\n      <td>...</td>\n      <td>440.0</td>\n      <td>74.0</td>\n      <td>0.0</td>\n      <td>128.0</td>\n      <td>0.0</td>\n      <td>0.0</td>\n      <td>0.0</td>\n      <td>0.0</td>\n      <td>5.0</td>\n      <td>2009.0</td>\n    </tr>\n    <tr>\n      <th>1</th>\n      <td>160.0</td>\n      <td>24.0</td>\n      <td>2016.0</td>\n      <td>5.0</td>\n      <td>5.0</td>\n      <td>1970.0</td>\n      <td>1970.0</td>\n      <td>304.0</td>\n      <td>0.0</td>\n      <td>0.0</td>\n      <td>...</td>\n      <td>440.0</td>\n      <td>0.0</td>\n      <td>0.0</td>\n      <td>0.0</td>\n      <td>0.0</td>\n      <td>0.0</td>\n      <td>0.0</td>\n      <td>0.0</td>\n      <td>4.0</td>\n      <td>2007.0</td>\n    </tr>\n    <tr>\n      <th>2</th>\n      <td>190.0</td>\n      <td>60.0</td>\n      <td>11340.0</td>\n      <td>4.0</td>\n      <td>6.0</td>\n      <td>1885.0</td>\n      <td>1950.0</td>\n      <td>0.0</td>\n      <td>0.0</td>\n      <td>0.0</td>\n      <td>...</td>\n      <td>560.0</td>\n      <td>0.0</td>\n      <td>0.0</td>\n      <td>114.0</td>\n      <td>0.0</td>\n      <td>0.0</td>\n      <td>0.0</td>\n      <td>0.0</td>\n      <td>4.0</td>\n      <td>2010.0</td>\n    </tr>\n  </tbody>\n</table>\n<p>3 rows × 36 columns</p>\n</div>"
     },
     "execution_count": 10,
     "metadata": {},
     "output_type": "execute_result"
    }
   ],
   "metadata": {
    "execution": {
     "iopub.execute_input": "2020-12-26T08:18:06.227691Z",
     "iopub.status.busy": "2020-12-26T08:18:06.226718Z",
     "iopub.status.idle": "2020-12-26T08:18:06.242400Z",
     "shell.execute_reply": "2020-12-26T08:18:06.241808Z"
    },
    "papermill": {
     "duration": 0.059758,
     "end_time": "2020-12-26T08:18:06.242502",
     "exception": false,
     "start_time": "2020-12-26T08:18:06.182744",
     "status": "completed"
    },
    "tags": [],
    "pycharm": {
     "name": "#%%\n"
    }
   }
  },
  {
   "cell_type": "markdown",
   "source": [
    "## 2) Discard the very low variance"
   ],
   "metadata": {
    "papermill": {
     "duration": 0.026327,
     "end_time": "2020-12-26T08:18:06.295975",
     "exception": false,
     "start_time": "2020-12-26T08:18:06.269648",
     "status": "completed"
    },
    "tags": [],
    "pycharm": {
     "name": "#%% md\n"
    }
   }
  },
  {
   "cell_type": "markdown",
   "source": [
    "Quickly visualize the variance of numerical features"
   ],
   "metadata": {
    "papermill": {
     "duration": 0.027017,
     "end_time": "2020-12-26T08:18:06.349346",
     "exception": false,
     "start_time": "2020-12-26T08:18:06.322329",
     "status": "completed"
    },
    "tags": [],
    "pycharm": {
     "name": "#%% md\n"
    }
   }
  },
  {
   "cell_type": "code",
   "execution_count": 11,
   "source": [
    "cm = sns.light_palette(\"green\", as_cmap=True)\n",
    "\n",
    "num_var = pd.DataFrame((num/num.mean()).var(), columns=['norm_variance']).apply(lambda x:np.round(x,4))\n",
    "num_var = num_var.style.background_gradient(cmap=cm)\n",
    "num_var"
   ],
   "outputs": [
    {
     "data": {
      "text/plain": "<pandas.io.formats.style.Styler at 0x7fb1bd2160d0>",
      "text/html": "<style type=\"text/css\">\n#T_22e43_row0_col0, #T_22e43_row1_col0, #T_22e43_row2_col0, #T_22e43_row3_col0, #T_22e43_row4_col0, #T_22e43_row5_col0, #T_22e43_row6_col0, #T_22e43_row8_col0, #T_22e43_row10_col0, #T_22e43_row11_col0, #T_22e43_row12_col0, #T_22e43_row15_col0, #T_22e43_row16_col0, #T_22e43_row18_col0, #T_22e43_row20_col0, #T_22e43_row21_col0, #T_22e43_row22_col0, #T_22e43_row23_col0, #T_22e43_row24_col0, #T_22e43_row25_col0, #T_22e43_row26_col0, #T_22e43_row34_col0, #T_22e43_row35_col0 {\n  background-color: #ebf3eb;\n  color: #000000;\n}\n#T_22e43_row7_col0, #T_22e43_row13_col0, #T_22e43_row19_col0, #T_22e43_row27_col0, #T_22e43_row28_col0 {\n  background-color: #eaf2ea;\n  color: #000000;\n}\n#T_22e43_row9_col0 {\n  background-color: #e4f0e4;\n  color: #000000;\n}\n#T_22e43_row14_col0 {\n  background-color: #c7e1c7;\n  color: #000000;\n}\n#T_22e43_row17_col0 {\n  background-color: #e0eee0;\n  color: #000000;\n}\n#T_22e43_row29_col0 {\n  background-color: #e7f1e7;\n  color: #000000;\n}\n#T_22e43_row30_col0 {\n  background-color: #c5e0c5;\n  color: #000000;\n}\n#T_22e43_row31_col0 {\n  background-color: #e3efe3;\n  color: #000000;\n}\n#T_22e43_row32_col0 {\n  background-color: #008000;\n  color: #f1f1f1;\n}\n#T_22e43_row33_col0 {\n  background-color: #88c388;\n  color: #000000;\n}\n</style>\n<table id=\"T_22e43_\">\n  <thead>\n    <tr>\n      <th class=\"blank level0\" >&nbsp;</th>\n      <th class=\"col_heading level0 col0\" >norm_variance</th>\n    </tr>\n  </thead>\n  <tbody>\n    <tr>\n      <th id=\"T_22e43_level0_row0\" class=\"row_heading level0 row0\" >MSSubClass</th>\n      <td id=\"T_22e43_row0_col0\" class=\"data row0 col0\" >0.553200</td>\n    </tr>\n    <tr>\n      <th id=\"T_22e43_level0_row1\" class=\"row_heading level0 row1\" >LotFrontage</th>\n      <td id=\"T_22e43_row1_col0\" class=\"data row1 col0\" >0.110000</td>\n    </tr>\n    <tr>\n      <th id=\"T_22e43_level0_row2\" class=\"row_heading level0 row2\" >LotArea</th>\n      <td id=\"T_22e43_row2_col0\" class=\"data row2 col0\" >1.033900</td>\n    </tr>\n    <tr>\n      <th id=\"T_22e43_level0_row3\" class=\"row_heading level0 row3\" >OverallQual</th>\n      <td id=\"T_22e43_row3_col0\" class=\"data row3 col0\" >0.053000</td>\n    </tr>\n    <tr>\n      <th id=\"T_22e43_level0_row4\" class=\"row_heading level0 row4\" >OverallCond</th>\n      <td id=\"T_22e43_row4_col0\" class=\"data row4 col0\" >0.039600</td>\n    </tr>\n    <tr>\n      <th id=\"T_22e43_level0_row5\" class=\"row_heading level0 row5\" >YearBuilt</th>\n      <td id=\"T_22e43_row5_col0\" class=\"data row5 col0\" >0.000200</td>\n    </tr>\n    <tr>\n      <th id=\"T_22e43_level0_row6\" class=\"row_heading level0 row6\" >YearRemodAdd</th>\n      <td id=\"T_22e43_row6_col0\" class=\"data row6 col0\" >0.000100</td>\n    </tr>\n    <tr>\n      <th id=\"T_22e43_level0_row7\" class=\"row_heading level0 row7\" >MasVnrArea</th>\n      <td id=\"T_22e43_row7_col0\" class=\"data row7 col0\" >3.071400</td>\n    </tr>\n    <tr>\n      <th id=\"T_22e43_level0_row8\" class=\"row_heading level0 row8\" >BsmtFinSF1</th>\n      <td id=\"T_22e43_row8_col0\" class=\"data row8 col0\" >0.985000</td>\n    </tr>\n    <tr>\n      <th id=\"T_22e43_level0_row9\" class=\"row_heading level0 row9\" >BsmtFinSF2</th>\n      <td id=\"T_22e43_row9_col0\" class=\"data row9 col0\" >12.110200</td>\n    </tr>\n    <tr>\n      <th id=\"T_22e43_level0_row10\" class=\"row_heading level0 row10\" >BsmtUnfSF</th>\n      <td id=\"T_22e43_row10_col0\" class=\"data row10 col0\" >0.626400</td>\n    </tr>\n    <tr>\n      <th id=\"T_22e43_level0_row11\" class=\"row_heading level0 row11\" >TotalBsmtSF</th>\n      <td id=\"T_22e43_row11_col0\" class=\"data row11 col0\" >0.164900</td>\n    </tr>\n    <tr>\n      <th id=\"T_22e43_level0_row12\" class=\"row_heading level0 row12\" >1stFlrSF</th>\n      <td id=\"T_22e43_row12_col0\" class=\"data row12 col0\" >0.108200</td>\n    </tr>\n    <tr>\n      <th id=\"T_22e43_level0_row13\" class=\"row_heading level0 row13\" >2ndFlrSF</th>\n      <td id=\"T_22e43_row13_col0\" class=\"data row13 col0\" >1.614700</td>\n    </tr>\n    <tr>\n      <th id=\"T_22e43_level0_row14\" class=\"row_heading level0 row14\" >LowQualFinSF</th>\n      <td id=\"T_22e43_row14_col0\" class=\"data row14 col0\" >60.530500</td>\n    </tr>\n    <tr>\n      <th id=\"T_22e43_level0_row15\" class=\"row_heading level0 row15\" >GrLivArea</th>\n      <td id=\"T_22e43_row15_col0\" class=\"data row15 col0\" >0.115300</td>\n    </tr>\n    <tr>\n      <th id=\"T_22e43_level0_row16\" class=\"row_heading level0 row16\" >BsmtFullBath</th>\n      <td id=\"T_22e43_row16_col0\" class=\"data row16 col0\" >1.456700</td>\n    </tr>\n    <tr>\n      <th id=\"T_22e43_level0_row17\" class=\"row_heading level0 row17\" >BsmtHalfBath</th>\n      <td id=\"T_22e43_row17_col0\" class=\"data row17 col0\" >17.488600</td>\n    </tr>\n    <tr>\n      <th id=\"T_22e43_level0_row18\" class=\"row_heading level0 row18\" >FullBath</th>\n      <td id=\"T_22e43_row18_col0\" class=\"data row18 col0\" >0.126400</td>\n    </tr>\n    <tr>\n      <th id=\"T_22e43_level0_row19\" class=\"row_heading level0 row19\" >HalfBath</th>\n      <td id=\"T_22e43_row19_col0\" class=\"data row19 col0\" >1.738800</td>\n    </tr>\n    <tr>\n      <th id=\"T_22e43_level0_row20\" class=\"row_heading level0 row20\" >BedroomAbvGr</th>\n      <td id=\"T_22e43_row20_col0\" class=\"data row20 col0\" >0.086000</td>\n    </tr>\n    <tr>\n      <th id=\"T_22e43_level0_row21\" class=\"row_heading level0 row21\" >KitchenAbvGr</th>\n      <td id=\"T_22e43_row21_col0\" class=\"data row21 col0\" >0.045000</td>\n    </tr>\n    <tr>\n      <th id=\"T_22e43_level0_row22\" class=\"row_heading level0 row22\" >TotRmsAbvGrd</th>\n      <td id=\"T_22e43_row22_col0\" class=\"data row22 col0\" >0.063500</td>\n    </tr>\n    <tr>\n      <th id=\"T_22e43_level0_row23\" class=\"row_heading level0 row23\" >Fireplaces</th>\n      <td id=\"T_22e43_row23_col0\" class=\"data row23 col0\" >1.155000</td>\n    </tr>\n    <tr>\n      <th id=\"T_22e43_level0_row24\" class=\"row_heading level0 row24\" >GarageYrBlt</th>\n      <td id=\"T_22e43_row24_col0\" class=\"data row24 col0\" >0.000200</td>\n    </tr>\n    <tr>\n      <th id=\"T_22e43_level0_row25\" class=\"row_heading level0 row25\" >GarageCars</th>\n      <td id=\"T_22e43_row25_col0\" class=\"data row25 col0\" >0.179200</td>\n    </tr>\n    <tr>\n      <th id=\"T_22e43_level0_row26\" class=\"row_heading level0 row26\" >GarageArea</th>\n      <td id=\"T_22e43_row26_col0\" class=\"data row26 col0\" >0.203400</td>\n    </tr>\n    <tr>\n      <th id=\"T_22e43_level0_row27\" class=\"row_heading level0 row27\" >WoodDeckSF</th>\n      <td id=\"T_22e43_row27_col0\" class=\"data row27 col0\" >1.789500</td>\n    </tr>\n    <tr>\n      <th id=\"T_22e43_level0_row28\" class=\"row_heading level0 row28\" >OpenPorchSF</th>\n      <td id=\"T_22e43_row28_col0\" class=\"data row28 col0\" >2.023500</td>\n    </tr>\n    <tr>\n      <th id=\"T_22e43_level0_row29\" class=\"row_heading level0 row29\" >EnclosedPorch</th>\n      <td id=\"T_22e43_row29_col0\" class=\"data row29 col0\" >7.658300</td>\n    </tr>\n    <tr>\n      <th id=\"T_22e43_level0_row30\" class=\"row_heading level0 row30\" >3SsnPorch</th>\n      <td id=\"T_22e43_row30_col0\" class=\"data row30 col0\" >65.022100</td>\n    </tr>\n    <tr>\n      <th id=\"T_22e43_level0_row31\" class=\"row_heading level0 row31\" >ScreenPorch</th>\n      <td id=\"T_22e43_row31_col0\" class=\"data row31 col0\" >13.295900</td>\n    </tr>\n    <tr>\n      <th id=\"T_22e43_level0_row32\" class=\"row_heading level0 row32\" >PoolArea</th>\n      <td id=\"T_22e43_row32_col0\" class=\"data row32 col0\" >396.472500</td>\n    </tr>\n    <tr>\n      <th id=\"T_22e43_level0_row33\" class=\"row_heading level0 row33\" >MiscVal</th>\n      <td id=\"T_22e43_row33_col0\" class=\"data row33 col0\" >167.221900</td>\n    </tr>\n    <tr>\n      <th id=\"T_22e43_level0_row34\" class=\"row_heading level0 row34\" >MoSold</th>\n      <td id=\"T_22e43_row34_col0\" class=\"data row34 col0\" >0.186100</td>\n    </tr>\n    <tr>\n      <th id=\"T_22e43_level0_row35\" class=\"row_heading level0 row35\" >YrSold</th>\n      <td id=\"T_22e43_row35_col0\" class=\"data row35 col0\" >0.000000</td>\n    </tr>\n  </tbody>\n</table>\n"
     },
     "execution_count": 11,
     "metadata": {},
     "output_type": "execute_result"
    }
   ],
   "metadata": {
    "execution": {
     "iopub.execute_input": "2020-12-26T08:18:06.411173Z",
     "iopub.status.busy": "2020-12-26T08:18:06.410251Z",
     "iopub.status.idle": "2020-12-26T08:18:06.588721Z",
     "shell.execute_reply": "2020-12-26T08:18:06.588164Z"
    },
    "papermill": {
     "duration": 0.211832,
     "end_time": "2020-12-26T08:18:06.588832",
     "exception": false,
     "start_time": "2020-12-26T08:18:06.377000",
     "status": "completed"
    },
    "tags": [],
    "pycharm": {
     "name": "#%%\n"
    }
   }
  },
  {
   "cell_type": "markdown",
   "source": [
    "We'll drop the relatively low variance columns (<0.05)"
   ],
   "metadata": {
    "papermill": {
     "duration": 0.028356,
     "end_time": "2020-12-26T08:18:06.646143",
     "exception": false,
     "start_time": "2020-12-26T08:18:06.617787",
     "status": "completed"
    },
    "tags": [],
    "pycharm": {
     "name": "#%% md\n"
    }
   }
  },
  {
   "cell_type": "code",
   "execution_count": 12,
   "source": [
    "from sklearn.feature_selection import VarianceThreshold\n",
    "\n",
    "sel = VarianceThreshold(threshold=0.05).fit(num/num.mean())\n",
    "\n",
    "sel_col = sel.get_support()\n",
    "\n",
    "num_imputed_highVar = num_imputed.loc[:,sel_col]"
   ],
   "outputs": [],
   "metadata": {
    "execution": {
     "iopub.execute_input": "2020-12-26T08:18:06.711191Z",
     "iopub.status.busy": "2020-12-26T08:18:06.710369Z",
     "iopub.status.idle": "2020-12-26T08:18:06.739329Z",
     "shell.execute_reply": "2020-12-26T08:18:06.738742Z"
    },
    "papermill": {
     "duration": 0.064522,
     "end_time": "2020-12-26T08:18:06.739439",
     "exception": false,
     "start_time": "2020-12-26T08:18:06.674917",
     "status": "completed"
    },
    "tags": [],
    "pycharm": {
     "name": "#%%\n"
    }
   }
  },
  {
   "cell_type": "markdown",
   "source": [
    "## 3) Standard scale"
   ],
   "metadata": {
    "papermill": {
     "duration": 0.028533,
     "end_time": "2020-12-26T08:18:06.797626",
     "exception": false,
     "start_time": "2020-12-26T08:18:06.769093",
     "status": "completed"
    },
    "tags": [],
    "pycharm": {
     "name": "#%% md\n"
    }
   }
  },
  {
   "cell_type": "markdown",
   "source": [
    "We then scale the numerical features."
   ],
   "metadata": {
    "papermill": {
     "duration": 0.028086,
     "end_time": "2020-12-26T08:18:06.853822",
     "exception": false,
     "start_time": "2020-12-26T08:18:06.825736",
     "status": "completed"
    },
    "tags": [],
    "pycharm": {
     "name": "#%% md\n"
    }
   }
  },
  {
   "cell_type": "code",
   "execution_count": 13,
   "source": [
    "from sklearn.preprocessing import StandardScaler\n",
    "\n",
    "scaler = StandardScaler().fit(num_imputed_highVar)\n",
    "\n",
    "num_imputed_highVar_scaled = scaler.transform(num_imputed_highVar)\n",
    "num_imputed_highVar_scaled = pd.DataFrame(num_imputed_highVar_scaled, columns=num_imputed_highVar.columns)"
   ],
   "outputs": [],
   "metadata": {
    "execution": {
     "iopub.execute_input": "2020-12-26T08:18:06.914280Z",
     "iopub.status.busy": "2020-12-26T08:18:06.913259Z",
     "iopub.status.idle": "2020-12-26T08:18:06.923640Z",
     "shell.execute_reply": "2020-12-26T08:18:06.924142Z"
    },
    "papermill": {
     "duration": 0.042404,
     "end_time": "2020-12-26T08:18:06.924273",
     "exception": false,
     "start_time": "2020-12-26T08:18:06.881869",
     "status": "completed"
    },
    "tags": [],
    "pycharm": {
     "name": "#%%\n"
    }
   }
  },
  {
   "cell_type": "markdown",
   "source": [
    "## 4) Inspect correlation"
   ],
   "metadata": {
    "papermill": {
     "duration": 0.02924,
     "end_time": "2020-12-26T08:18:06.983097",
     "exception": false,
     "start_time": "2020-12-26T08:18:06.953857",
     "status": "completed"
    },
    "tags": [],
    "pycharm": {
     "name": "#%% md\n"
    }
   }
  },
  {
   "cell_type": "code",
   "execution_count": 14,
   "source": [
    "correlation = np.abs(num_imputed_highVar_scaled.corr())\n",
    "correlation.style.background_gradient(cmap=cm)"
   ],
   "outputs": [
    {
     "data": {
      "text/plain": "<pandas.io.formats.style.Styler at 0x7fb1bd246d10>",
      "text/html": "<style type=\"text/css\">\n#T_9b978_row0_col0, #T_9b978_row1_col1, #T_9b978_row2_col2, #T_9b978_row3_col3, #T_9b978_row4_col4, #T_9b978_row5_col5, #T_9b978_row6_col6, #T_9b978_row7_col7, #T_9b978_row8_col8, #T_9b978_row9_col9, #T_9b978_row10_col10, #T_9b978_row11_col11, #T_9b978_row12_col12, #T_9b978_row13_col13, #T_9b978_row14_col14, #T_9b978_row15_col15, #T_9b978_row16_col16, #T_9b978_row17_col17, #T_9b978_row18_col18, #T_9b978_row19_col19, #T_9b978_row20_col20, #T_9b978_row21_col21, #T_9b978_row22_col22, #T_9b978_row23_col23, #T_9b978_row24_col24, #T_9b978_row25_col25, #T_9b978_row26_col26, #T_9b978_row27_col27, #T_9b978_row28_col28, #T_9b978_row29_col29 {\n  background-color: #008000;\n  color: #f1f1f1;\n}\n#T_9b978_row0_col1, #T_9b978_row1_col0 {\n  background-color: #92c892;\n  color: #000000;\n}\n#T_9b978_row0_col2, #T_9b978_row2_col0, #T_9b978_row2_col20, #T_9b978_row5_col1, #T_9b978_row5_col24, #T_9b978_row13_col20 {\n  background-color: #cde5cd;\n  color: #000000;\n}\n#T_9b978_row0_col3, #T_9b978_row2_col29, #T_9b978_row4_col25, #T_9b978_row4_col28, #T_9b978_row6_col16, #T_9b978_row10_col14, #T_9b978_row10_col25, #T_9b978_row11_col16, #T_9b978_row12_col28, #T_9b978_row13_col26, #T_9b978_row13_col28, #T_9b978_row14_col12, #T_9b978_row14_col18, #T_9b978_row15_col28, #T_9b978_row16_col6, #T_9b978_row16_col11, #T_9b978_row16_col27, #T_9b978_row18_col0, #T_9b978_row18_col29, #T_9b978_row19_col11, #T_9b978_row22_col0, #T_9b978_row22_col11, #T_9b978_row22_col28, #T_9b978_row22_col29, #T_9b978_row23_col14, #T_9b978_row25_col3, #T_9b978_row25_col10, #T_9b978_row25_col20, #T_9b978_row26_col29, #T_9b978_row27_col2, #T_9b978_row27_col16, #T_9b978_row28_col13, #T_9b978_row28_col15, #T_9b978_row29_col2 {\n  background-color: #e6f1e6;\n  color: #000000;\n}\n#T_9b978_row0_col4, #T_9b978_row0_col18, #T_9b978_row0_col22, #T_9b978_row1_col11, #T_9b978_row6_col23, #T_9b978_row7_col28, #T_9b978_row10_col29, #T_9b978_row11_col19, #T_9b978_row11_col22, #T_9b978_row11_col23, #T_9b978_row13_col27, #T_9b978_row14_col10, #T_9b978_row20_col6, #T_9b978_row24_col11, #T_9b978_row24_col27, #T_9b978_row25_col4, #T_9b978_row27_col13, #T_9b978_row27_col29, #T_9b978_row28_col4, #T_9b978_row28_col7, #T_9b978_row28_col12, #T_9b978_row28_col22, #T_9b978_row29_col11, #T_9b978_row29_col18, #T_9b978_row29_col22, #T_9b978_row29_col26, #T_9b978_row29_col27 {\n  background-color: #e7f1e7;\n  color: #000000;\n}\n#T_9b978_row0_col5, #T_9b978_row1_col13, #T_9b978_row1_col25, #T_9b978_row3_col26, #T_9b978_row4_col13, #T_9b978_row5_col0, #T_9b978_row11_col21, #T_9b978_row17_col3, #T_9b978_row23_col26, #T_9b978_row25_col1, #T_9b978_row26_col3 {\n  background-color: #d9ead9;\n  color: #000000;\n}\n#T_9b978_row0_col6, #T_9b978_row0_col12, #T_9b978_row4_col26, #T_9b978_row6_col0, #T_9b978_row11_col10, #T_9b978_row26_col4 {\n  background-color: #ddecdd;\n  color: #000000;\n}\n#T_9b978_row0_col7, #T_9b978_row7_col0, #T_9b978_row20_col2, #T_9b978_row20_col13 {\n  background-color: #cae3ca;\n  color: #000000;\n}\n#T_9b978_row0_col8, #T_9b978_row9_col13, #T_9b978_row9_col22, #T_9b978_row15_col19, #T_9b978_row22_col9 {\n  background-color: #b1d7b1;\n  color: #000000;\n}\n#T_9b978_row0_col9, #T_9b978_row5_col21, #T_9b978_row9_col0, #T_9b978_row21_col5 {\n  background-color: #acd4ac;\n  color: #000000;\n}\n#T_9b978_row0_col10, #T_9b978_row8_col13, #T_9b978_row10_col0, #T_9b978_row23_col3 {\n  background-color: #a2cfa2;\n  color: #000000;\n}\n#T_9b978_row0_col11, #T_9b978_row0_col28, #T_9b978_row1_col29, #T_9b978_row2_col10, #T_9b978_row2_col14, #T_9b978_row2_col26, #T_9b978_row2_col28, #T_9b978_row8_col11, #T_9b978_row9_col27, #T_9b978_row11_col0, #T_9b978_row11_col3, #T_9b978_row14_col2, #T_9b978_row14_col17, #T_9b978_row14_col24, #T_9b978_row15_col25, #T_9b978_row17_col14, #T_9b978_row19_col14, #T_9b978_row21_col25, #T_9b978_row22_col14, #T_9b978_row23_col13, #T_9b978_row24_col25, #T_9b978_row25_col5, #T_9b978_row25_col21, #T_9b978_row25_col24, #T_9b978_row25_col29, #T_9b978_row26_col2, #T_9b978_row26_col28, #T_9b978_row28_col0, #T_9b978_row29_col21 {\n  background-color: #e2efe2;\n  color: #000000;\n}\n#T_9b978_row0_col13, #T_9b978_row0_col23, #T_9b978_row0_col27, #T_9b978_row1_col28, #T_9b978_row2_col7, #T_9b978_row2_col11, #T_9b978_row2_col16, #T_9b978_row5_col27, #T_9b978_row6_col12, #T_9b978_row6_col17, #T_9b978_row6_col21, #T_9b978_row6_col29, #T_9b978_row7_col2, #T_9b978_row7_col10, #T_9b978_row7_col22, #T_9b978_row7_col24, #T_9b978_row9_col14, #T_9b978_row10_col7, #T_9b978_row11_col2, #T_9b978_row11_col15, #T_9b978_row11_col25, #T_9b978_row11_col28, #T_9b978_row12_col6, #T_9b978_row13_col0, #T_9b978_row13_col16, #T_9b978_row14_col9, #T_9b978_row14_col16, #T_9b978_row14_col28, #T_9b978_row15_col11, #T_9b978_row15_col26, #T_9b978_row16_col2, #T_9b978_row16_col14, #T_9b978_row16_col25, #T_9b978_row17_col6, #T_9b978_row18_col24, #T_9b978_row21_col6, #T_9b978_row21_col27, #T_9b978_row22_col7, #T_9b978_row24_col7, #T_9b978_row24_col18, #T_9b978_row25_col16, #T_9b978_row25_col19, #T_9b978_row25_col23, #T_9b978_row25_col28, #T_9b978_row27_col0, #T_9b978_row27_col3, #T_9b978_row27_col4, #T_9b978_row27_col5, #T_9b978_row27_col8, #T_9b978_row27_col20, #T_9b978_row27_col21, #T_9b978_row27_col25, #T_9b978_row28_col1, #T_9b978_row28_col11, #T_9b978_row28_col14, #T_9b978_row28_col19, #T_9b978_row28_col23, #T_9b978_row28_col25, #T_9b978_row29_col4, #T_9b978_row29_col6 {\n  background-color: #ebf3eb;\n  color: #000000;\n}\n#T_9b978_row0_col14, #T_9b978_row0_col17, #T_9b978_row0_col24, #T_9b978_row2_col24, #T_9b978_row2_col27, #T_9b978_row3_col25, #T_9b978_row4_col0, #T_9b978_row6_col18, #T_9b978_row11_col26, #T_9b978_row12_col14, #T_9b978_row14_col0, #T_9b978_row14_col26, #T_9b978_row17_col0, #T_9b978_row17_col21, #T_9b978_row17_col25, #T_9b978_row18_col14, #T_9b978_row20_col14, #T_9b978_row21_col28, #T_9b978_row22_col25, #T_9b978_row23_col6, #T_9b978_row23_col11, #T_9b978_row25_col17, #T_9b978_row25_col22, #T_9b978_row26_col13, #T_9b978_row27_col7, #T_9b978_row28_col20, #T_9b978_row28_col21 {\n  background-color: #e5f0e5;\n  color: #000000;\n}\n#T_9b978_row0_col15, #T_9b978_row1_col23, #T_9b978_row4_col24, #T_9b978_row7_col4, #T_9b978_row9_col16, #T_9b978_row15_col0, #T_9b978_row15_col16, #T_9b978_row16_col9, #T_9b978_row16_col15, #T_9b978_row21_col0 {\n  background-color: #cfe5cf;\n  color: #000000;\n}\n#T_9b978_row0_col16 {\n  background-color: #bdddbd;\n  color: #000000;\n}\n#T_9b978_row0_col19, #T_9b978_row3_col14, #T_9b978_row5_col15, #T_9b978_row6_col22, #T_9b978_row6_col24, #T_9b978_row15_col5, #T_9b978_row15_col29, #T_9b978_row16_col8, #T_9b978_row18_col27, #T_9b978_row19_col7, #T_9b978_row24_col6, #T_9b978_row26_col17, #T_9b978_row26_col20, #T_9b978_row27_col23, #T_9b978_row29_col15, #T_9b978_row29_col19 {\n  background-color: #e0eedf;\n  color: #000000;\n}\n#T_9b978_row0_col20, #T_9b978_row0_col25, #T_9b978_row1_col6, #T_9b978_row1_col24, #T_9b978_row1_col26, #T_9b978_row6_col1, #T_9b978_row6_col3, #T_9b978_row8_col17, #T_9b978_row10_col2, #T_9b978_row10_col24, #T_9b978_row11_col7, #T_9b978_row14_col25, #T_9b978_row17_col20, #T_9b978_row20_col28, #T_9b978_row21_col29, #T_9b978_row24_col1, #T_9b978_row24_col10, #T_9b978_row24_col14, #T_9b978_row25_col15, #T_9b978_row26_col1, #T_9b978_row29_col8 {\n  background-color: #e1eee1;\n  color: #000000;\n}\n#T_9b978_row0_col21, #T_9b978_row8_col6, #T_9b978_row11_col17, #T_9b978_row16_col22, #T_9b978_row17_col11, #T_9b978_row22_col16, #T_9b978_row24_col4, #T_9b978_row24_col15, #T_9b978_row26_col12 {\n  background-color: #d0e6d0;\n  color: #000000;\n}\n#T_9b978_row0_col26, #T_9b978_row1_col14, #T_9b978_row1_col16, #T_9b978_row5_col16, #T_9b978_row5_col18, #T_9b978_row6_col11, #T_9b978_row6_col19, #T_9b978_row7_col25, #T_9b978_row7_col26, #T_9b978_row10_col28, #T_9b978_row11_col6, #T_9b978_row11_col9, #T_9b978_row12_col24, #T_9b978_row13_col29, #T_9b978_row14_col1, #T_9b978_row14_col20, #T_9b978_row14_col27, #T_9b978_row16_col1, #T_9b978_row16_col5, #T_9b978_row23_col0, #T_9b978_row23_col25, #T_9b978_row23_col28, #T_9b978_row24_col12, #T_9b978_row24_col28, #T_9b978_row25_col7, #T_9b978_row25_col18, #T_9b978_row26_col7, #T_9b978_row27_col1, #T_9b978_row27_col14, #T_9b978_row28_col8, #T_9b978_row28_col18, #T_9b978_row29_col7, #T_9b978_row29_col13, #T_9b978_row29_col16, #T_9b978_row29_col24 {\n  background-color: #e9f2e9;\n  color: #000000;\n}\n#T_9b978_row0_col29, #T_9b978_row1_col27, #T_9b978_row2_col25, #T_9b978_row3_col28, #T_9b978_row7_col29, #T_9b978_row8_col14, #T_9b978_row8_col28, #T_9b978_row9_col11, #T_9b978_row9_col28, #T_9b978_row11_col1, #T_9b978_row11_col24, #T_9b978_row11_col29, #T_9b978_row12_col25, #T_9b978_row14_col23, #T_9b978_row16_col29, #T_9b978_row18_col5, #T_9b978_row18_col25, #T_9b978_row18_col28, #T_9b978_row19_col6, #T_9b978_row20_col27, #T_9b978_row24_col29, #T_9b978_row25_col2, #T_9b978_row25_col12, #T_9b978_row26_col0, #T_9b978_row27_col24, #T_9b978_row28_col9, #T_9b978_row28_col29, #T_9b978_row29_col0, #T_9b978_row29_col10, #T_9b978_row29_col28 {\n  background-color: #e8f2e8;\n  color: #000000;\n}\n#T_9b978_row1_col2, #T_9b978_row1_col20, #T_9b978_row2_col1, #T_9b978_row4_col15, #T_9b978_row8_col18, #T_9b978_row18_col8 {\n  background-color: #aad3aa;\n  color: #000000;\n}\n#T_9b978_row1_col3, #T_9b978_row1_col19, #T_9b978_row16_col20, #T_9b978_row22_col5, #T_9b978_row23_col10 {\n  background-color: #b9dbb9;\n  color: #000000;\n}\n#T_9b978_row1_col4, #T_9b978_row4_col1, #T_9b978_row10_col20, #T_9b978_row18_col22, #T_9b978_row19_col13, #T_9b978_row22_col18 {\n  background-color: #c7e1c7;\n  color: #000000;\n}\n#T_9b978_row1_col5, #T_9b978_row2_col15, #T_9b978_row3_col24, #T_9b978_row15_col2, #T_9b978_row22_col24, #T_9b978_row24_col3, #T_9b978_row24_col5, #T_9b978_row24_col22 {\n  background-color: #cce4cc;\n  color: #000000;\n}\n#T_9b978_row1_col7, #T_9b978_row2_col21, #T_9b978_row7_col1, #T_9b978_row13_col14, #T_9b978_row13_col19, #T_9b978_row14_col13, #T_9b978_row18_col11, #T_9b978_row21_col2 {\n  background-color: #c8e2c8;\n  color: #000000;\n}\n#T_9b978_row1_col8, #T_9b978_row18_col21, #T_9b978_row20_col19, #T_9b978_row21_col18 {\n  background-color: #a4d0a4;\n  color: #000000;\n}\n#T_9b978_row1_col9, #T_9b978_row9_col1 {\n  background-color: #91c791;\n  color: #000000;\n}\n#T_9b978_row1_col10, #T_9b978_row4_col14, #T_9b978_row5_col25, #T_9b978_row6_col25, #T_9b978_row8_col25, #T_9b978_row10_col1, #T_9b978_row10_col27, #T_9b978_row11_col8, #T_9b978_row14_col22, #T_9b978_row15_col27, #T_9b978_row16_col28, #T_9b978_row17_col8, #T_9b978_row17_col24, #T_9b978_row20_col25, #T_9b978_row21_col14, #T_9b978_row22_col17, #T_9b978_row24_col17, #T_9b978_row25_col6, #T_9b978_row27_col9, #T_9b978_row27_col15, #T_9b978_row28_col2, #T_9b978_row28_col16, #T_9b978_row28_col26, #T_9b978_row29_col1, #T_9b978_row29_col25 {\n  background-color: #e3efe3;\n  color: #000000;\n}\n#T_9b978_row1_col12, #T_9b978_row1_col18, #T_9b978_row12_col1, #T_9b978_row18_col1 {\n  background-color: #a1cfa1;\n  color: #000000;\n}\n#T_9b978_row1_col15, #T_9b978_row2_col22, #T_9b978_row13_col10, #T_9b978_row15_col1, #T_9b978_row18_col2, #T_9b978_row19_col10 {\n  background-color: #c2dfc2;\n  color: #000000;\n}\n#T_9b978_row1_col17, #T_9b978_row3_col5, #T_9b978_row12_col2, #T_9b978_row17_col1, #T_9b978_row20_col5 {\n  background-color: #b3d8b3;\n  color: #000000;\n}\n#T_9b978_row1_col21, #T_9b978_row3_col7, #T_9b978_row3_col23, #T_9b978_row7_col3, #T_9b978_row8_col1, #T_9b978_row13_col8, #T_9b978_row18_col19, #T_9b978_row19_col18, #T_9b978_row21_col1 {\n  background-color: #a3d0a3;\n  color: #000000;\n}\n#T_9b978_row1_col22, #T_9b978_row5_col11, #T_9b978_row6_col10, #T_9b978_row6_col14, #T_9b978_row11_col5, #T_9b978_row14_col6, #T_9b978_row22_col1, #T_9b978_row22_col10, #T_9b978_row22_col26, #T_9b978_row23_col24, #T_9b978_row26_col22, #T_9b978_row26_col24, #T_9b978_row27_col22 {\n  background-color: #d7e9d7;\n  color: #000000;\n}\n#T_9b978_row2_col3, #T_9b978_row3_col2, #T_9b978_row6_col26, #T_9b978_row7_col14, #T_9b978_row8_col26, #T_9b978_row14_col7, #T_9b978_row17_col4, #T_9b978_row17_col23, #T_9b978_row19_col17, #T_9b978_row23_col17, #T_9b978_row26_col8 {\n  background-color: #d4e8d4;\n  color: #000000;\n}\n#T_9b978_row2_col4, #T_9b978_row10_col6, #T_9b978_row11_col20, #T_9b978_row22_col27, #T_9b978_row27_col26 {\n  background-color: #d6e9d6;\n  color: #000000;\n}\n#T_9b978_row2_col5, #T_9b978_row7_col21, #T_9b978_row16_col17, #T_9b978_row16_col19, #T_9b978_row19_col16, #T_9b978_row19_col26, #T_9b978_row21_col7, #T_9b978_row26_col19 {\n  background-color: #beddbe;\n  color: #000000;\n}\n#T_9b978_row2_col6, #T_9b978_row6_col8, #T_9b978_row8_col24, #T_9b978_row10_col21, #T_9b978_row12_col26, #T_9b978_row15_col24, #T_9b978_row16_col24, #T_9b978_row21_col10, #T_9b978_row24_col16 {\n  background-color: #d1e6d1;\n  color: #000000;\n}\n#T_9b978_row2_col8, #T_9b978_row20_col22, #T_9b978_row21_col22, #T_9b978_row22_col21, #T_9b978_row23_col8, #T_9b978_row23_col21 {\n  background-color: #b5d9b5;\n  color: #000000;\n}\n#T_9b978_row2_col9, #T_9b978_row9_col2, #T_9b978_row15_col4 {\n  background-color: #abd4ab;\n  color: #000000;\n}\n#T_9b978_row2_col12, #T_9b978_row8_col22, #T_9b978_row18_col23, #T_9b978_row22_col8 {\n  background-color: #b2d7b2;\n  color: #000000;\n}\n#T_9b978_row2_col13, #T_9b978_row13_col2, #T_9b978_row13_col21, #T_9b978_row13_col22, #T_9b978_row16_col21, #T_9b978_row19_col23, #T_9b978_row21_col13, #T_9b978_row21_col16, #T_9b978_row22_col4, #T_9b978_row24_col20 {\n  background-color: #c4e0c4;\n  color: #000000;\n}\n#T_9b978_row2_col17, #T_9b978_row3_col13, #T_9b978_row6_col2, #T_9b978_row17_col2, #T_9b978_row24_col8 {\n  background-color: #d2e7d2;\n  color: #000000;\n}\n#T_9b978_row2_col18, #T_9b978_row4_col22, #T_9b978_row5_col10, #T_9b978_row10_col5, #T_9b978_row10_col19, #T_9b978_row22_col13, #T_9b978_row23_col19 {\n  background-color: #c3e0c3;\n  color: #000000;\n}\n#T_9b978_row2_col19, #T_9b978_row7_col18, #T_9b978_row19_col2 {\n  background-color: #aed5ae;\n  color: #000000;\n}\n#T_9b978_row2_col23, #T_9b978_row5_col14, #T_9b978_row5_col23, #T_9b978_row9_col29, #T_9b978_row14_col5, #T_9b978_row18_col13, #T_9b978_row20_col26, #T_9b978_row23_col27, #T_9b978_row26_col21 {\n  background-color: #deedde;\n  color: #000000;\n}\n#T_9b978_row3_col0, #T_9b978_row5_col29, #T_9b978_row7_col27, #T_9b978_row11_col14, #T_9b978_row12_col13, #T_9b978_row13_col12, #T_9b978_row13_col23, #T_9b978_row14_col4, #T_9b978_row14_col11, #T_9b978_row14_col19, #T_9b978_row14_col21, #T_9b978_row17_col22, #T_9b978_row18_col6, #T_9b978_row19_col24, #T_9b978_row21_col17, #T_9b978_row24_col0, #T_9b978_row24_col2, #T_9b978_row24_col19, #T_9b978_row25_col8, #T_9b978_row25_col26, #T_9b978_row26_col11, #T_9b978_row26_col14, #T_9b978_row26_col25, #T_9b978_row27_col10, #T_9b978_row29_col5, #T_9b978_row29_col20 {\n  background-color: #e4f0e4;\n  color: #000000;\n}\n#T_9b978_row3_col1, #T_9b978_row19_col1 {\n  background-color: #b8dab8;\n  color: #000000;\n}\n#T_9b978_row3_col4, #T_9b978_row3_col18, #T_9b978_row4_col3, #T_9b978_row5_col9, #T_9b978_row9_col5, #T_9b978_row9_col19, #T_9b978_row18_col3 {\n  background-color: #89c389;\n  color: #000000;\n}\n#T_9b978_row3_col6, #T_9b978_row3_col11, #T_9b978_row7_col11, #T_9b978_row7_col19, #T_9b978_row8_col29, #T_9b978_row9_col25, #T_9b978_row10_col26, #T_9b978_row14_col3, #T_9b978_row17_col26, #T_9b978_row17_col29, #T_9b978_row20_col29, #T_9b978_row25_col0, #T_9b978_row25_col9, #T_9b978_row25_col14, #T_9b978_row26_col10, #T_9b978_row27_col18, #T_9b978_row27_col19, #T_9b978_row29_col17 {\n  background-color: #e0eee0;\n  color: #000000;\n}\n#T_9b978_row3_col8, #T_9b978_row3_col15, #T_9b978_row8_col3 {\n  background-color: #6bb46b;\n  color: #f1f1f1;\n}\n#T_9b978_row3_col9, #T_9b978_row9_col3 {\n  background-color: #7abc7a;\n  color: #000000;\n}\n#T_9b978_row3_col10, #T_9b978_row18_col4, #T_9b978_row20_col1 {\n  background-color: #a8d2a8;\n  color: #000000;\n}\n#T_9b978_row3_col12, #T_9b978_row12_col3 {\n  background-color: #60af60;\n  color: #f1f1f1;\n}\n#T_9b978_row3_col16, #T_9b978_row10_col3, #T_9b978_row16_col3 {\n  background-color: #a9d3a9;\n  color: #000000;\n}\n#T_9b978_row3_col17, #T_9b978_row4_col23, #T_9b978_row10_col22, #T_9b978_row21_col11, #T_9b978_row23_col4, #T_9b978_row23_col29, #T_9b978_row24_col23, #T_9b978_row24_col26 {\n  background-color: #d8ead8;\n  color: #000000;\n}\n#T_9b978_row3_col19, #T_9b978_row7_col13, #T_9b978_row10_col15, #T_9b978_row13_col7, #T_9b978_row15_col10, #T_9b978_row19_col3 {\n  background-color: #8ac48a;\n  color: #000000;\n}\n#T_9b978_row3_col20 {\n  background-color: #5dae5d;\n  color: #f1f1f1;\n}\n#T_9b978_row3_col21, #T_9b978_row21_col3 {\n  background-color: #65b265;\n  color: #f1f1f1;\n}\n#T_9b978_row3_col22, #T_9b978_row4_col5, #T_9b978_row7_col12, #T_9b978_row15_col23, #T_9b978_row19_col21, #T_9b978_row21_col19, #T_9b978_row22_col12 {\n  background-color: #afd6af;\n  color: #000000;\n}\n#T_9b978_row3_col27, #T_9b978_row4_col27, #T_9b978_row4_col29, #T_9b978_row5_col28, #T_9b978_row6_col20, #T_9b978_row6_col28, #T_9b978_row8_col27, #T_9b978_row11_col27, #T_9b978_row13_col25, #T_9b978_row14_col8, #T_9b978_row16_col13, #T_9b978_row17_col28, #T_9b978_row19_col25, #T_9b978_row19_col28, #T_9b978_row25_col11, #T_9b978_row25_col13, #T_9b978_row25_col27, #T_9b978_row26_col15, #T_9b978_row27_col11, #T_9b978_row28_col3, #T_9b978_row28_col5, #T_9b978_row28_col6, #T_9b978_row28_col10, #T_9b978_row28_col17, #T_9b978_row28_col24 {\n  background-color: #eaf2ea;\n  color: #000000;\n}\n#T_9b978_row3_col29, #T_9b978_row4_col6, #T_9b978_row5_col26, #T_9b978_row11_col4, #T_9b978_row13_col11, #T_9b978_row13_col15, #T_9b978_row15_col13, #T_9b978_row23_col22, #T_9b978_row24_col13 {\n  background-color: #dbebdb;\n  color: #000000;\n}\n#T_9b978_row4_col2, #T_9b978_row6_col9, #T_9b978_row9_col6, #T_9b978_row9_col26, #T_9b978_row17_col19, #T_9b978_row26_col9, #T_9b978_row26_col27 {\n  background-color: #d5e9d5;\n  color: #000000;\n}\n#T_9b978_row4_col7, #T_9b978_row9_col17, #T_9b978_row17_col9, #T_9b978_row23_col1 {\n  background-color: #cee5ce;\n  color: #000000;\n}\n#T_9b978_row4_col8, #T_9b978_row4_col21, #T_9b978_row8_col4, #T_9b978_row20_col4, #T_9b978_row21_col4 {\n  background-color: #96c996;\n  color: #000000;\n}\n#T_9b978_row4_col9, #T_9b978_row9_col4 {\n  background-color: #9bcc9b;\n  color: #000000;\n}\n#T_9b978_row4_col10, #T_9b978_row7_col17 {\n  background-color: #c0dec0;\n  color: #000000;\n}\n#T_9b978_row4_col11, #T_9b978_row6_col15, #T_9b978_row13_col1, #T_9b978_row13_col4, #T_9b978_row14_col15, #T_9b978_row15_col6, #T_9b978_row15_col14, #T_9b978_row16_col26, #T_9b978_row26_col5, #T_9b978_row26_col16, #T_9b978_row26_col23, #T_9b978_row29_col23 {\n  background-color: #daebda;\n  color: #000000;\n}\n#T_9b978_row4_col12, #T_9b978_row15_col21 {\n  background-color: #8dc58d;\n  color: #000000;\n}\n#T_9b978_row4_col16, #T_9b978_row6_col7, #T_9b978_row10_col8, #T_9b978_row15_col22, #T_9b978_row16_col4, #T_9b978_row19_col22, #T_9b978_row22_col15, #T_9b978_row22_col19, #T_9b978_row23_col9 {\n  background-color: #bcdcbc;\n  color: #000000;\n}\n#T_9b978_row4_col17, #T_9b978_row13_col3, #T_9b978_row20_col11, #T_9b978_row26_col6 {\n  background-color: #d3e7d3;\n  color: #000000;\n}\n#T_9b978_row4_col18, #T_9b978_row5_col19 {\n  background-color: #a7d2a7;\n  color: #000000;\n}\n#T_9b978_row4_col19, #T_9b978_row13_col9, #T_9b978_row19_col4, #T_9b978_row23_col18 {\n  background-color: #b2d7b1;\n  color: #000000;\n}\n#T_9b978_row4_col20, #T_9b978_row8_col19, #T_9b978_row15_col17, #T_9b978_row17_col15, #T_9b978_row19_col8 {\n  background-color: #98ca98;\n  color: #000000;\n}\n#T_9b978_row5_col2, #T_9b978_row17_col16 {\n  background-color: #bfdebf;\n  color: #000000;\n}\n#T_9b978_row5_col3, #T_9b978_row8_col2 {\n  background-color: #b4d8b4;\n  color: #000000;\n}\n#T_9b978_row5_col4, #T_9b978_row8_col0, #T_9b978_row12_col7, #T_9b978_row12_col22, #T_9b978_row19_col15, #T_9b978_row22_col3 {\n  background-color: #b0d6b0;\n  color: #000000;\n}\n#T_9b978_row5_col6, #T_9b978_row6_col5, #T_9b978_row7_col16, #T_9b978_row8_col16, #T_9b978_row12_col27, #T_9b978_row12_col29, #T_9b978_row13_col18, #T_9b978_row14_col29, #T_9b978_row16_col7, #T_9b978_row19_col0, #T_9b978_row19_col27, #T_9b978_row19_col29, #T_9b978_row20_col0, #T_9b978_row20_col17, #T_9b978_row21_col26, #T_9b978_row22_col6, #T_9b978_row27_col12, #T_9b978_row27_col28, #T_9b978_row28_col27, #T_9b978_row29_col9, #T_9b978_row29_col12, #T_9b978_row29_col14 {\n  background-color: #dfeddf;\n  color: #000000;\n}\n#T_9b978_row5_col7, #T_9b978_row7_col5 {\n  background-color: #74b974;\n  color: #f1f1f1;\n}\n#T_9b978_row5_col8, #T_9b978_row8_col5 {\n  background-color: #79bc79;\n  color: #000000;\n}\n#T_9b978_row5_col12, #T_9b978_row6_col13, #T_9b978_row12_col5, #T_9b978_row13_col6, #T_9b978_row13_col17, #T_9b978_row17_col13, #T_9b978_row21_col24, #T_9b978_row24_col21 {\n  background-color: #c6e1c6;\n  color: #000000;\n}\n#T_9b978_row5_col13, #T_9b978_row13_col5 {\n  background-color: #50a750;\n  color: #f1f1f1;\n}\n#T_9b978_row5_col17, #T_9b978_row7_col23, #T_9b978_row17_col5 {\n  background-color: #c9e3c9;\n  color: #000000;\n}\n#T_9b978_row5_col20, #T_9b978_row8_col23, #T_9b978_row20_col16, #T_9b978_row21_col23 {\n  background-color: #b6d9b6;\n  color: #000000;\n}\n#T_9b978_row5_col22, #T_9b978_row10_col23, #T_9b978_row23_col16 {\n  background-color: #badbba;\n  color: #000000;\n}\n#T_9b978_row6_col4, #T_9b978_row6_col27, #T_9b978_row9_col24, #T_9b978_row10_col11, #T_9b978_row11_col13, #T_9b978_row12_col0, #T_9b978_row13_col24, #T_9b978_row17_col27, #T_9b978_row18_col26, #T_9b978_row22_col23, #T_9b978_row23_col2, #T_9b978_row23_col5, #T_9b978_row24_col9, #T_9b978_row26_col18, #T_9b978_row27_col6, #T_9b978_row27_col17, #T_9b978_row29_col3 {\n  background-color: #dcecdc;\n  color: #000000;\n}\n#T_9b978_row7_col6, #T_9b978_row8_col10, #T_9b978_row16_col23, #T_9b978_row20_col7, #T_9b978_row20_col23 {\n  background-color: #bbdcbb;\n  color: #000000;\n}\n#T_9b978_row7_col8, #T_9b978_row8_col7, #T_9b978_row9_col20, #T_9b978_row12_col21, #T_9b978_row21_col12 {\n  background-color: #84c184;\n  color: #000000;\n}\n#T_9b978_row7_col9, #T_9b978_row9_col7, #T_9b978_row12_col23, #T_9b978_row15_col8, #T_9b978_row18_col20 {\n  background-color: #9dcd9d;\n  color: #000000;\n}\n#T_9b978_row7_col15, #T_9b978_row15_col7 {\n  background-color: #a5d1a5;\n  color: #000000;\n}\n#T_9b978_row7_col20, #T_9b978_row9_col23, #T_9b978_row16_col0, #T_9b978_row23_col20 {\n  background-color: #bddcbd;\n  color: #000000;\n}\n#T_9b978_row8_col9, #T_9b978_row9_col8 {\n  background-color: #2c962c;\n  color: #f1f1f1;\n}\n#T_9b978_row8_col12 {\n  background-color: #86c286;\n  color: #000000;\n}\n#T_9b978_row8_col15, #T_9b978_row20_col18, #T_9b978_row23_col12 {\n  background-color: #9ccd9c;\n  color: #000000;\n}\n#T_9b978_row8_col20, #T_9b978_row20_col9 {\n  background-color: #83c083;\n  color: #000000;\n}\n#T_9b978_row8_col21, #T_9b978_row21_col8 {\n  background-color: #7bbc7b;\n  color: #000000;\n}\n#T_9b978_row9_col10, #T_9b978_row10_col9, #T_9b978_row22_col20 {\n  background-color: #b7dab7;\n  color: #000000;\n}\n#T_9b978_row9_col12, #T_9b978_row12_col9 {\n  background-color: #68b368;\n  color: #f1f1f1;\n}\n#T_9b978_row9_col15, #T_9b978_row15_col9 {\n  background-color: #8fc68f;\n  color: #000000;\n}\n#T_9b978_row9_col18, #T_9b978_row12_col16, #T_9b978_row16_col12, #T_9b978_row18_col9, #T_9b978_row21_col15 {\n  background-color: #8cc58c;\n  color: #000000;\n}\n#T_9b978_row9_col21, #T_9b978_row21_col9 {\n  background-color: #7cbd7c;\n  color: #000000;\n}\n#T_9b978_row10_col4, #T_9b978_row10_col13, #T_9b978_row17_col7, #T_9b978_row20_col24, #T_9b978_row22_col2 {\n  background-color: #c1dfc1;\n  color: #000000;\n}\n#T_9b978_row10_col12, #T_9b978_row12_col10 {\n  background-color: #4ba54b;\n  color: #f1f1f1;\n}\n#T_9b978_row10_col16, #T_9b978_row16_col10 {\n  background-color: #5fae5f;\n  color: #f1f1f1;\n}\n#T_9b978_row10_col17 {\n  background-color: #76ba76;\n  color: #f1f1f1;\n}\n#T_9b978_row10_col18, #T_9b978_row20_col3 {\n  background-color: #5cad5c;\n  color: #f1f1f1;\n}\n#T_9b978_row11_col12, #T_9b978_row11_col18, #T_9b978_row12_col11, #T_9b978_row23_col7 {\n  background-color: #c9e2c8;\n  color: #000000;\n}\n#T_9b978_row12_col4 {\n  background-color: #8ec58e;\n  color: #000000;\n}\n#T_9b978_row12_col8 {\n  background-color: #87c287;\n  color: #000000;\n}\n#T_9b978_row12_col15, #T_9b978_row15_col12 {\n  background-color: #55a955;\n  color: #f1f1f1;\n}\n#T_9b978_row12_col17, #T_9b978_row17_col12 {\n  background-color: #70b770;\n  color: #f1f1f1;\n}\n#T_9b978_row12_col18, #T_9b978_row18_col12 {\n  background-color: #289328;\n  color: #f1f1f1;\n}\n#T_9b978_row12_col19, #T_9b978_row12_col20 {\n  background-color: #80bf80;\n  color: #000000;\n}\n#T_9b978_row15_col3 {\n  background-color: #6cb56c;\n  color: #f1f1f1;\n}\n#T_9b978_row15_col18, #T_9b978_row18_col15 {\n  background-color: #69b369;\n  color: #f1f1f1;\n}\n#T_9b978_row15_col20, #T_9b978_row19_col12 {\n  background-color: #7fbe7f;\n  color: #000000;\n}\n#T_9b978_row16_col18, #T_9b978_row18_col16 {\n  background-color: #a0cea0;\n  color: #000000;\n}\n#T_9b978_row17_col10 {\n  background-color: #77ba77;\n  color: #f1f1f1;\n}\n#T_9b978_row17_col18, #T_9b978_row18_col17 {\n  background-color: #4ca54c;\n  color: #f1f1f1;\n}\n#T_9b978_row18_col7, #T_9b978_row23_col15 {\n  background-color: #add5ad;\n  color: #000000;\n}\n#T_9b978_row18_col10 {\n  background-color: #5bad5b;\n  color: #f1f1f1;\n}\n#T_9b978_row19_col5 {\n  background-color: #a6d2a6;\n  color: #000000;\n}\n#T_9b978_row19_col9 {\n  background-color: #88c388;\n  color: #000000;\n}\n#T_9b978_row19_col20 {\n  background-color: #a6d1a6;\n  color: #000000;\n}\n#T_9b978_row20_col8 {\n  background-color: #81bf81;\n  color: #000000;\n}\n#T_9b978_row20_col10 {\n  background-color: #c5e0c5;\n  color: #000000;\n}\n#T_9b978_row20_col12 {\n  background-color: #7ebe7e;\n  color: #000000;\n}\n#T_9b978_row20_col15 {\n  background-color: #7dbd7d;\n  color: #000000;\n}\n#T_9b978_row20_col21, #T_9b978_row21_col20 {\n  background-color: #1b8d1b;\n  color: #f1f1f1;\n}\n</style>\n<table id=\"T_9b978_\">\n  <thead>\n    <tr>\n      <th class=\"blank level0\" >&nbsp;</th>\n      <th class=\"col_heading level0 col0\" >MSSubClass</th>\n      <th class=\"col_heading level0 col1\" >LotFrontage</th>\n      <th class=\"col_heading level0 col2\" >LotArea</th>\n      <th class=\"col_heading level0 col3\" >OverallQual</th>\n      <th class=\"col_heading level0 col4\" >MasVnrArea</th>\n      <th class=\"col_heading level0 col5\" >BsmtFinSF1</th>\n      <th class=\"col_heading level0 col6\" >BsmtFinSF2</th>\n      <th class=\"col_heading level0 col7\" >BsmtUnfSF</th>\n      <th class=\"col_heading level0 col8\" >TotalBsmtSF</th>\n      <th class=\"col_heading level0 col9\" >1stFlrSF</th>\n      <th class=\"col_heading level0 col10\" >2ndFlrSF</th>\n      <th class=\"col_heading level0 col11\" >LowQualFinSF</th>\n      <th class=\"col_heading level0 col12\" >GrLivArea</th>\n      <th class=\"col_heading level0 col13\" >BsmtFullBath</th>\n      <th class=\"col_heading level0 col14\" >BsmtHalfBath</th>\n      <th class=\"col_heading level0 col15\" >FullBath</th>\n      <th class=\"col_heading level0 col16\" >HalfBath</th>\n      <th class=\"col_heading level0 col17\" >BedroomAbvGr</th>\n      <th class=\"col_heading level0 col18\" >TotRmsAbvGrd</th>\n      <th class=\"col_heading level0 col19\" >Fireplaces</th>\n      <th class=\"col_heading level0 col20\" >GarageCars</th>\n      <th class=\"col_heading level0 col21\" >GarageArea</th>\n      <th class=\"col_heading level0 col22\" >WoodDeckSF</th>\n      <th class=\"col_heading level0 col23\" >OpenPorchSF</th>\n      <th class=\"col_heading level0 col24\" >EnclosedPorch</th>\n      <th class=\"col_heading level0 col25\" >3SsnPorch</th>\n      <th class=\"col_heading level0 col26\" >ScreenPorch</th>\n      <th class=\"col_heading level0 col27\" >PoolArea</th>\n      <th class=\"col_heading level0 col28\" >MiscVal</th>\n      <th class=\"col_heading level0 col29\" >MoSold</th>\n    </tr>\n  </thead>\n  <tbody>\n    <tr>\n      <th id=\"T_9b978_level0_row0\" class=\"row_heading level0 row0\" >MSSubClass</th>\n      <td id=\"T_9b978_row0_col0\" class=\"data row0 col0\" >1.000000</td>\n      <td id=\"T_9b978_row0_col1\" class=\"data row0 col1\" >0.377061</td>\n      <td id=\"T_9b978_row0_col2\" class=\"data row0 col2\" >0.129521</td>\n      <td id=\"T_9b978_row0_col3\" class=\"data row0 col3\" >0.028595</td>\n      <td id=\"T_9b978_row0_col4\" class=\"data row0 col4\" >0.024496</td>\n      <td id=\"T_9b978_row0_col5\" class=\"data row0 col5\" >0.077848</td>\n      <td id=\"T_9b978_row0_col6\" class=\"data row0 col6\" >0.063132</td>\n      <td id=\"T_9b978_row0_col7\" class=\"data row0 col7\" >0.140772</td>\n      <td id=\"T_9b978_row0_col8\" class=\"data row0 col8\" >0.250828</td>\n      <td id=\"T_9b978_row0_col9\" class=\"data row0 col9\" >0.269571</td>\n      <td id=\"T_9b978_row0_col10\" class=\"data row0 col10\" >0.311930</td>\n      <td id=\"T_9b978_row0_col11\" class=\"data row0 col11\" >0.037632</td>\n      <td id=\"T_9b978_row0_col12\" class=\"data row0 col12\" >0.064209</td>\n      <td id=\"T_9b978_row0_col13\" class=\"data row0 col13\" >0.000752</td>\n      <td id=\"T_9b978_row0_col14\" class=\"data row0 col14\" >0.025145</td>\n      <td id=\"T_9b978_row0_col15\" class=\"data row0 col15\" >0.119087</td>\n      <td id=\"T_9b978_row0_col16\" class=\"data row0 col16\" >0.197705</td>\n      <td id=\"T_9b978_row0_col17\" class=\"data row0 col17\" >0.025865</td>\n      <td id=\"T_9b978_row0_col18\" class=\"data row0 col18\" >0.023877</td>\n      <td id=\"T_9b978_row0_col19\" class=\"data row0 col19\" >0.055279</td>\n      <td id=\"T_9b978_row0_col20\" class=\"data row0 col20\" >0.054037</td>\n      <td id=\"T_9b978_row0_col21\" class=\"data row0 col21\" >0.119540</td>\n      <td id=\"T_9b978_row0_col22\" class=\"data row0 col22\" >0.021087</td>\n      <td id=\"T_9b978_row0_col23\" class=\"data row0 col23\" >0.011211</td>\n      <td id=\"T_9b978_row0_col24\" class=\"data row0 col24\" >0.028632</td>\n      <td id=\"T_9b978_row0_col25\" class=\"data row0 col25\" >0.044378</td>\n      <td id=\"T_9b978_row0_col26\" class=\"data row0 col26\" >0.013688</td>\n      <td id=\"T_9b978_row0_col27\" class=\"data row0 col27\" >0.003661</td>\n      <td id=\"T_9b978_row0_col28\" class=\"data row0 col28\" >0.036050</td>\n      <td id=\"T_9b978_row0_col29\" class=\"data row0 col29\" >0.013503</td>\n    </tr>\n    <tr>\n      <th id=\"T_9b978_level0_row1\" class=\"row_heading level0 row1\" >LotFrontage</th>\n      <td id=\"T_9b978_row1_col0\" class=\"data row1 col0\" >0.377061</td>\n      <td id=\"T_9b978_row1_col1\" class=\"data row1 col1\" >1.000000</td>\n      <td id=\"T_9b978_row1_col2\" class=\"data row1 col2\" >0.276476</td>\n      <td id=\"T_9b978_row1_col3\" class=\"data row1 col3\" >0.218936</td>\n      <td id=\"T_9b978_row1_col4\" class=\"data row1 col4\" >0.158734</td>\n      <td id=\"T_9b978_row1_col5\" class=\"data row1 col5\" >0.130066</td>\n      <td id=\"T_9b978_row1_col6\" class=\"data row1 col6\" >0.043690</td>\n      <td id=\"T_9b978_row1_col7\" class=\"data row1 col7\" >0.151153</td>\n      <td id=\"T_9b978_row1_col8\" class=\"data row1 col8\" >0.307963</td>\n      <td id=\"T_9b978_row1_col9\" class=\"data row1 col9\" >0.382959</td>\n      <td id=\"T_9b978_row1_col10\" class=\"data row1 col10\" >0.034772</td>\n      <td id=\"T_9b978_row1_col11\" class=\"data row1 col11\" >0.017940</td>\n      <td id=\"T_9b978_row1_col12\" class=\"data row1 col12\" >0.317042</td>\n      <td id=\"T_9b978_row1_col13\" class=\"data row1 col13\" >0.075696</td>\n      <td id=\"T_9b978_row1_col14\" class=\"data row1 col14\" >0.011916</td>\n      <td id=\"T_9b978_row1_col15\" class=\"data row1 col15\" >0.175219</td>\n      <td id=\"T_9b978_row1_col16\" class=\"data row1 col16\" >0.014314</td>\n      <td id=\"T_9b978_row1_col17\" class=\"data row1 col17\" >0.238709</td>\n      <td id=\"T_9b978_row1_col18\" class=\"data row1 col18\" >0.316425</td>\n      <td id=\"T_9b978_row1_col19\" class=\"data row1 col19\" >0.218046</td>\n      <td id=\"T_9b978_row1_col20\" class=\"data row1 col20\" >0.285942</td>\n      <td id=\"T_9b978_row1_col21\" class=\"data row1 col21\" >0.307832</td>\n      <td id=\"T_9b978_row1_col22\" class=\"data row1 col22\" >0.088413</td>\n      <td id=\"T_9b978_row1_col23\" class=\"data row1 col23\" >0.126036</td>\n      <td id=\"T_9b978_row1_col24\" class=\"data row1 col24\" >0.042519</td>\n      <td id=\"T_9b978_row1_col25\" class=\"data row1 col25\" >0.078999</td>\n      <td id=\"T_9b978_row1_col26\" class=\"data row1 col26\" >0.045068</td>\n      <td id=\"T_9b978_row1_col27\" class=\"data row1 col27\" >0.013766</td>\n      <td id=\"T_9b978_row1_col28\" class=\"data row1 col28\" >0.002960</td>\n      <td id=\"T_9b978_row1_col29\" class=\"data row1 col29\" >0.037551</td>\n    </tr>\n    <tr>\n      <th id=\"T_9b978_level0_row2\" class=\"row_heading level0 row2\" >LotArea</th>\n      <td id=\"T_9b978_row2_col0\" class=\"data row2 col0\" >0.129521</td>\n      <td id=\"T_9b978_row2_col1\" class=\"data row2 col1\" >0.276476</td>\n      <td id=\"T_9b978_row2_col2\" class=\"data row2 col2\" >1.000000</td>\n      <td id=\"T_9b978_row2_col3\" class=\"data row2 col3\" >0.099564</td>\n      <td id=\"T_9b978_row2_col4\" class=\"data row2 col4\" >0.093239</td>\n      <td id=\"T_9b978_row2_col5\" class=\"data row2 col5\" >0.188071</td>\n      <td id=\"T_9b978_row2_col6\" class=\"data row2 col6\" >0.111428</td>\n      <td id=\"T_9b978_row2_col7\" class=\"data row2 col7\" >0.004138</td>\n      <td id=\"T_9b978_row2_col8\" class=\"data row2 col8\" >0.232345</td>\n      <td id=\"T_9b978_row2_col9\" class=\"data row2 col9\" >0.274223</td>\n      <td id=\"T_9b978_row2_col10\" class=\"data row2 col10\" >0.042240</td>\n      <td id=\"T_9b978_row2_col11\" class=\"data row2 col11\" >0.002402</td>\n      <td id=\"T_9b978_row2_col12\" class=\"data row2 col12\" >0.239998</td>\n      <td id=\"T_9b978_row2_col13\" class=\"data row2 col13\" >0.166552</td>\n      <td id=\"T_9b978_row2_col14\" class=\"data row2 col14\" >0.037773</td>\n      <td id=\"T_9b978_row2_col15\" class=\"data row2 col15\" >0.131562</td>\n      <td id=\"T_9b978_row2_col16\" class=\"data row2 col16\" >0.003425</td>\n      <td id=\"T_9b978_row2_col17\" class=\"data row2 col17\" >0.107690</td>\n      <td id=\"T_9b978_row2_col18\" class=\"data row2 col18\" >0.174196</td>\n      <td id=\"T_9b978_row2_col19\" class=\"data row2 col19\" >0.262530</td>\n      <td id=\"T_9b978_row2_col20\" class=\"data row2 col20\" >0.141534</td>\n      <td id=\"T_9b978_row2_col21\" class=\"data row2 col21\" >0.151867</td>\n      <td id=\"T_9b978_row2_col22\" class=\"data row2 col22\" >0.178765</td>\n      <td id=\"T_9b978_row2_col23\" class=\"data row2 col23\" >0.066209</td>\n      <td id=\"T_9b978_row2_col24\" class=\"data row2 col24\" >0.030197</td>\n      <td id=\"T_9b978_row2_col25\" class=\"data row2 col25\" >0.015330</td>\n      <td id=\"T_9b978_row2_col26\" class=\"data row2 col26\" >0.040326</td>\n      <td id=\"T_9b978_row2_col27\" class=\"data row2 col27\" >0.024013</td>\n      <td id=\"T_9b978_row2_col28\" class=\"data row2 col28\" >0.036760</td>\n      <td id=\"T_9b978_row2_col29\" class=\"data row2 col29\" >0.022075</td>\n    </tr>\n    <tr>\n      <th id=\"T_9b978_level0_row3\" class=\"row_heading level0 row3\" >OverallQual</th>\n      <td id=\"T_9b978_row3_col0\" class=\"data row3 col0\" >0.028595</td>\n      <td id=\"T_9b978_row3_col1\" class=\"data row3 col1\" >0.218936</td>\n      <td id=\"T_9b978_row3_col2\" class=\"data row3 col2\" >0.099564</td>\n      <td id=\"T_9b978_row3_col3\" class=\"data row3 col3\" >1.000000</td>\n      <td id=\"T_9b978_row3_col4\" class=\"data row3 col4\" >0.420149</td>\n      <td id=\"T_9b978_row3_col5\" class=\"data row3 col5\" >0.235850</td>\n      <td id=\"T_9b978_row3_col6\" class=\"data row3 col6\" >0.047208</td>\n      <td id=\"T_9b978_row3_col7\" class=\"data row3 col7\" >0.309983</td>\n      <td id=\"T_9b978_row3_col8\" class=\"data row3 col8\" >0.547161</td>\n      <td id=\"T_9b978_row3_col9\" class=\"data row3 col9\" >0.481747</td>\n      <td id=\"T_9b978_row3_col10\" class=\"data row3 col10\" >0.284794</td>\n      <td id=\"T_9b978_row3_col11\" class=\"data row3 col11\" >0.044415</td>\n      <td id=\"T_9b978_row3_col12\" class=\"data row3 col12\" >0.594136</td>\n      <td id=\"T_9b978_row3_col13\" class=\"data row3 col13\" >0.107910</td>\n      <td id=\"T_9b978_row3_col14\" class=\"data row3 col14\" >0.050251</td>\n      <td id=\"T_9b978_row3_col15\" class=\"data row3 col15\" >0.544129</td>\n      <td id=\"T_9b978_row3_col16\" class=\"data row3 col16\" >0.283343</td>\n      <td id=\"T_9b978_row3_col17\" class=\"data row3 col17\" >0.080996</td>\n      <td id=\"T_9b978_row3_col18\" class=\"data row3 col18\" >0.420073</td>\n      <td id=\"T_9b978_row3_col19\" class=\"data row3 col19\" >0.413541</td>\n      <td id=\"T_9b978_row3_col20\" class=\"data row3 col20\" >0.608055</td>\n      <td id=\"T_9b978_row3_col21\" class=\"data row3 col21\" >0.569366</td>\n      <td id=\"T_9b978_row3_col22\" class=\"data row3 col22\" >0.257811</td>\n      <td id=\"T_9b978_row3_col23\" class=\"data row3 col23\" >0.312609</td>\n      <td id=\"T_9b978_row3_col24\" class=\"data row3 col24\" >0.134717</td>\n      <td id=\"T_9b978_row3_col25\" class=\"data row3 col25\" >0.028563</td>\n      <td id=\"T_9b978_row3_col26\" class=\"data row3 col26\" >0.080931</td>\n      <td id=\"T_9b978_row3_col27\" class=\"data row3 col27\" >0.005571</td>\n      <td id=\"T_9b978_row3_col28\" class=\"data row3 col28\" >0.013309</td>\n      <td id=\"T_9b978_row3_col29\" class=\"data row3 col29\" >0.070437</td>\n    </tr>\n    <tr>\n      <th id=\"T_9b978_level0_row4\" class=\"row_heading level0 row4\" >MasVnrArea</th>\n      <td id=\"T_9b978_row4_col0\" class=\"data row4 col0\" >0.024496</td>\n      <td id=\"T_9b978_row4_col1\" class=\"data row4 col1\" >0.158734</td>\n      <td id=\"T_9b978_row4_col2\" class=\"data row4 col2\" >0.093239</td>\n      <td id=\"T_9b978_row4_col3\" class=\"data row4 col3\" >0.420149</td>\n      <td id=\"T_9b978_row4_col4\" class=\"data row4 col4\" >1.000000</td>\n      <td id=\"T_9b978_row4_col5\" class=\"data row4 col5\" >0.255573</td>\n      <td id=\"T_9b978_row4_col6\" class=\"data row4 col6\" >0.069841</td>\n      <td id=\"T_9b978_row4_col7\" class=\"data row4 col7\" >0.123779</td>\n      <td id=\"T_9b978_row4_col8\" class=\"data row4 col8\" >0.365224</td>\n      <td id=\"T_9b978_row4_col9\" class=\"data row4 col9\" >0.340663</td>\n      <td id=\"T_9b978_row4_col10\" class=\"data row4 col10\" >0.184372</td>\n      <td id=\"T_9b978_row4_col11\" class=\"data row4 col11\" >0.073625</td>\n      <td id=\"T_9b978_row4_col12\" class=\"data row4 col12\" >0.401513</td>\n      <td id=\"T_9b978_row4_col13\" class=\"data row4 col13\" >0.077548</td>\n      <td id=\"T_9b978_row4_col14\" class=\"data row4 col14\" >0.035863</td>\n      <td id=\"T_9b978_row4_col15\" class=\"data row4 col15\" >0.277343</td>\n      <td id=\"T_9b978_row4_col16\" class=\"data row4 col16\" >0.204619</td>\n      <td id=\"T_9b978_row4_col17\" class=\"data row4 col17\" >0.105346</td>\n      <td id=\"T_9b978_row4_col18\" class=\"data row4 col18\" >0.289281</td>\n      <td id=\"T_9b978_row4_col19\" class=\"data row4 col19\" >0.249176</td>\n      <td id=\"T_9b978_row4_col20\" class=\"data row4 col20\" >0.364617</td>\n      <td id=\"T_9b978_row4_col21\" class=\"data row4 col21\" >0.364066</td>\n      <td id=\"T_9b978_row4_col22\" class=\"data row4 col22\" >0.172109</td>\n      <td id=\"T_9b978_row4_col23\" class=\"data row4 col23\" >0.086563</td>\n      <td id=\"T_9b978_row4_col24\" class=\"data row4 col24\" >0.121477</td>\n      <td id=\"T_9b978_row4_col25\" class=\"data row4 col25\" >0.025126</td>\n      <td id=\"T_9b978_row4_col26\" class=\"data row4 col26\" >0.065180</td>\n      <td id=\"T_9b978_row4_col27\" class=\"data row4 col27\" >0.006343</td>\n      <td id=\"T_9b978_row4_col28\" class=\"data row4 col28\" >0.023447</td>\n      <td id=\"T_9b978_row4_col29\" class=\"data row4 col29\" >0.007879</td>\n    </tr>\n    <tr>\n      <th id=\"T_9b978_level0_row5\" class=\"row_heading level0 row5\" >BsmtFinSF1</th>\n      <td id=\"T_9b978_row5_col0\" class=\"data row5 col0\" >0.077848</td>\n      <td id=\"T_9b978_row5_col1\" class=\"data row5 col1\" >0.130066</td>\n      <td id=\"T_9b978_row5_col2\" class=\"data row5 col2\" >0.188071</td>\n      <td id=\"T_9b978_row5_col3\" class=\"data row5 col3\" >0.235850</td>\n      <td id=\"T_9b978_row5_col4\" class=\"data row5 col4\" >0.255573</td>\n      <td id=\"T_9b978_row5_col5\" class=\"data row5 col5\" >1.000000</td>\n      <td id=\"T_9b978_row5_col6\" class=\"data row5 col6\" >0.052231</td>\n      <td id=\"T_9b978_row5_col7\" class=\"data row5 col7\" >0.506476</td>\n      <td id=\"T_9b978_row5_col8\" class=\"data row5 col8\" >0.484023</td>\n      <td id=\"T_9b978_row5_col9\" class=\"data row5 col9\" >0.417609</td>\n      <td id=\"T_9b978_row5_col10\" class=\"data row5 col10\" >0.171846</td>\n      <td id=\"T_9b978_row5_col11\" class=\"data row5 col11\" >0.086181</td>\n      <td id=\"T_9b978_row5_col12\" class=\"data row5 col12\" >0.158868</td>\n      <td id=\"T_9b978_row5_col13\" class=\"data row5 col13\" >0.659048</td>\n      <td id=\"T_9b978_row5_col14\" class=\"data row5 col14\" >0.057220</td>\n      <td id=\"T_9b978_row5_col15\" class=\"data row5 col15\" >0.047362</td>\n      <td id=\"T_9b978_row5_col16\" class=\"data row5 col16\" >0.011381</td>\n      <td id=\"T_9b978_row5_col17\" class=\"data row5 col17\" >0.144637</td>\n      <td id=\"T_9b978_row5_col18\" class=\"data row5 col18\" >0.014400</td>\n      <td id=\"T_9b978_row5_col19\" class=\"data row5 col19\" >0.290394</td>\n      <td id=\"T_9b978_row5_col20\" class=\"data row5 col20\" >0.236490</td>\n      <td id=\"T_9b978_row5_col21\" class=\"data row5 col21\" >0.269156</td>\n      <td id=\"T_9b978_row5_col22\" class=\"data row5 col22\" >0.212034</td>\n      <td id=\"T_9b978_row5_col23\" class=\"data row5 col23\" >0.066769</td>\n      <td id=\"T_9b978_row5_col24\" class=\"data row5 col24\" >0.131119</td>\n      <td id=\"T_9b978_row5_col25\" class=\"data row5 col25\" >0.035637</td>\n      <td id=\"T_9b978_row5_col26\" class=\"data row5 col26\" >0.073816</td>\n      <td id=\"T_9b978_row5_col27\" class=\"data row5 col27\" >0.000423</td>\n      <td id=\"T_9b978_row5_col28\" class=\"data row5 col28\" >0.007651</td>\n      <td id=\"T_9b978_row5_col29\" class=\"data row5 col29\" >0.031080</td>\n    </tr>\n    <tr>\n      <th id=\"T_9b978_level0_row6\" class=\"row_heading level0 row6\" >BsmtFinSF2</th>\n      <td id=\"T_9b978_row6_col0\" class=\"data row6 col0\" >0.063132</td>\n      <td id=\"T_9b978_row6_col1\" class=\"data row6 col1\" >0.043690</td>\n      <td id=\"T_9b978_row6_col2\" class=\"data row6 col2\" >0.111428</td>\n      <td id=\"T_9b978_row6_col3\" class=\"data row6 col3\" >0.047208</td>\n      <td id=\"T_9b978_row6_col4\" class=\"data row6 col4\" >0.069841</td>\n      <td id=\"T_9b978_row6_col5\" class=\"data row6 col5\" >0.052231</td>\n      <td id=\"T_9b978_row6_col6\" class=\"data row6 col6\" >1.000000</td>\n      <td id=\"T_9b978_row6_col7\" class=\"data row6 col7\" >0.205075</td>\n      <td id=\"T_9b978_row6_col8\" class=\"data row6 col8\" >0.117287</td>\n      <td id=\"T_9b978_row6_col9\" class=\"data row6 col9\" >0.093794</td>\n      <td id=\"T_9b978_row6_col10\" class=\"data row6 col10\" >0.087292</td>\n      <td id=\"T_9b978_row6_col11\" class=\"data row6 col11\" >0.011948</td>\n      <td id=\"T_9b978_row6_col12\" class=\"data row6 col12\" >0.001942</td>\n      <td id=\"T_9b978_row6_col13\" class=\"data row6 col13\" >0.159098</td>\n      <td id=\"T_9b978_row6_col14\" class=\"data row6 col14\" >0.084807</td>\n      <td id=\"T_9b978_row6_col15\" class=\"data row6 col15\" >0.071486</td>\n      <td id=\"T_9b978_row6_col16\" class=\"data row6 col16\" >0.023023</td>\n      <td id=\"T_9b978_row6_col17\" class=\"data row6 col17\" >0.001011</td>\n      <td id=\"T_9b978_row6_col18\" class=\"data row6 col18\" >0.031139</td>\n      <td id=\"T_9b978_row6_col19\" class=\"data row6 col19\" >0.016266</td>\n      <td id=\"T_9b978_row6_col20\" class=\"data row6 col20\" >0.019667</td>\n      <td id=\"T_9b978_row6_col21\" class=\"data row6 col21\" >0.004308</td>\n      <td id=\"T_9b978_row6_col22\" class=\"data row6 col22\" >0.054755</td>\n      <td id=\"T_9b978_row6_col23\" class=\"data row6 col23\" >0.024625</td>\n      <td id=\"T_9b978_row6_col24\" class=\"data row6 col24\" >0.049824</td>\n      <td id=\"T_9b978_row6_col25\" class=\"data row6 col25\" >0.034830</td>\n      <td id=\"T_9b978_row6_col26\" class=\"data row6 col26\" >0.102501</td>\n      <td id=\"T_9b978_row6_col27\" class=\"data row6 col27\" >0.063791</td>\n      <td id=\"T_9b978_row6_col28\" class=\"data row6 col28\" >0.007202</td>\n      <td id=\"T_9b978_row6_col29\" class=\"data row6 col29\" >0.001417</td>\n    </tr>\n    <tr>\n      <th id=\"T_9b978_level0_row7\" class=\"row_heading level0 row7\" >BsmtUnfSF</th>\n      <td id=\"T_9b978_row7_col0\" class=\"data row7 col0\" >0.140772</td>\n      <td id=\"T_9b978_row7_col1\" class=\"data row7 col1\" >0.151153</td>\n      <td id=\"T_9b978_row7_col2\" class=\"data row7 col2\" >0.004138</td>\n      <td id=\"T_9b978_row7_col3\" class=\"data row7 col3\" >0.309983</td>\n      <td id=\"T_9b978_row7_col4\" class=\"data row7 col4\" >0.123779</td>\n      <td id=\"T_9b978_row7_col5\" class=\"data row7 col5\" >0.506476</td>\n      <td id=\"T_9b978_row7_col6\" class=\"data row7 col6\" >0.205075</td>\n      <td id=\"T_9b978_row7_col7\" class=\"data row7 col7\" >1.000000</td>\n      <td id=\"T_9b978_row7_col8\" class=\"data row7 col8\" >0.438752</td>\n      <td id=\"T_9b978_row7_col9\" class=\"data row7 col9\" >0.332281</td>\n      <td id=\"T_9b978_row7_col10\" class=\"data row7 col10\" >0.003329</td>\n      <td id=\"T_9b978_row7_col11\" class=\"data row7 col11\" >0.044476</td>\n      <td id=\"T_9b978_row7_col12\" class=\"data row7 col12\" >0.255548</td>\n      <td id=\"T_9b978_row7_col13\" class=\"data row7 col13\" >0.413414</td>\n      <td id=\"T_9b978_row7_col14\" class=\"data row7 col14\" >0.100831</td>\n      <td id=\"T_9b978_row7_col15\" class=\"data row7 col15\" >0.299708</td>\n      <td id=\"T_9b978_row7_col16\" class=\"data row7 col16\" >0.056497</td>\n      <td id=\"T_9b978_row7_col17\" class=\"data row7 col17\" >0.181754</td>\n      <td id=\"T_9b978_row7_col18\" class=\"data row7 col18\" >0.264909</td>\n      <td id=\"T_9b978_row7_col19\" class=\"data row7 col19\" >0.050834</td>\n      <td id=\"T_9b978_row7_col20\" class=\"data row7 col20\" >0.208423</td>\n      <td id=\"T_9b978_row7_col21\" class=\"data row7 col21\" >0.193326</td>\n      <td id=\"T_9b978_row7_col22\" class=\"data row7 col22\" >0.004528</td>\n      <td id=\"T_9b978_row7_col23\" class=\"data row7 col23\" >0.148654</td>\n      <td id=\"T_9b978_row7_col24\" class=\"data row7 col24\" >0.002991</td>\n      <td id=\"T_9b978_row7_col25\" class=\"data row7 col25\" >0.012444</td>\n      <td id=\"T_9b978_row7_col26\" class=\"data row7 col26\" >0.014621</td>\n      <td id=\"T_9b978_row7_col27\" class=\"data row7 col27\" >0.028910</td>\n      <td id=\"T_9b978_row7_col28\" class=\"data row7 col28\" >0.018741</td>\n      <td id=\"T_9b978_row7_col29\" class=\"data row7 col29\" >0.013782</td>\n    </tr>\n    <tr>\n      <th id=\"T_9b978_level0_row8\" class=\"row_heading level0 row8\" >TotalBsmtSF</th>\n      <td id=\"T_9b978_row8_col0\" class=\"data row8 col0\" >0.250828</td>\n      <td id=\"T_9b978_row8_col1\" class=\"data row8 col1\" >0.307963</td>\n      <td id=\"T_9b978_row8_col2\" class=\"data row8 col2\" >0.232345</td>\n      <td id=\"T_9b978_row8_col3\" class=\"data row8 col3\" >0.547161</td>\n      <td id=\"T_9b978_row8_col4\" class=\"data row8 col4\" >0.365224</td>\n      <td id=\"T_9b978_row8_col5\" class=\"data row8 col5\" >0.484023</td>\n      <td id=\"T_9b978_row8_col6\" class=\"data row8 col6\" >0.117287</td>\n      <td id=\"T_9b978_row8_col7\" class=\"data row8 col7\" >0.438752</td>\n      <td id=\"T_9b978_row8_col8\" class=\"data row8 col8\" >1.000000</td>\n      <td id=\"T_9b978_row8_col9\" class=\"data row8 col9\" >0.811847</td>\n      <td id=\"T_9b978_row8_col10\" class=\"data row8 col10\" >0.207189</td>\n      <td id=\"T_9b978_row8_col11\" class=\"data row8 col11\" >0.037992</td>\n      <td id=\"T_9b978_row8_col12\" class=\"data row8 col12\" >0.428632</td>\n      <td id=\"T_9b978_row8_col13\" class=\"data row8 col13\" >0.310594</td>\n      <td id=\"T_9b978_row8_col14\" class=\"data row8 col14\" >0.013256</td>\n      <td id=\"T_9b978_row8_col15\" class=\"data row8 col15\" >0.332895</td>\n      <td id=\"T_9b978_row8_col16\" class=\"data row8 col16\" >0.055849</td>\n      <td id=\"T_9b978_row8_col17\" class=\"data row8 col17\" >0.040266</td>\n      <td id=\"T_9b978_row8_col18\" class=\"data row8 col18\" >0.278256</td>\n      <td id=\"T_9b978_row8_col19\" class=\"data row8 col19\" >0.358372</td>\n      <td id=\"T_9b978_row8_col20\" class=\"data row8 col20\" >0.452829</td>\n      <td id=\"T_9b978_row8_col21\" class=\"data row8 col21\" >0.476703</td>\n      <td id=\"T_9b978_row8_col22\" class=\"data row8 col22\" >0.244271</td>\n      <td id=\"T_9b978_row8_col23\" class=\"data row8 col23\" >0.232805</td>\n      <td id=\"T_9b978_row8_col24\" class=\"data row8 col24\" >0.112874</td>\n      <td id=\"T_9b978_row8_col25\" class=\"data row8 col25\" >0.036278</td>\n      <td id=\"T_9b978_row8_col26\" class=\"data row8 col26\" >0.100267</td>\n      <td id=\"T_9b978_row8_col27\" class=\"data row8 col27\" >0.005973</td>\n      <td id=\"T_9b978_row8_col28\" class=\"data row8 col28\" >0.014364</td>\n      <td id=\"T_9b978_row8_col29\" class=\"data row8 col29\" >0.045814</td>\n    </tr>\n    <tr>\n      <th id=\"T_9b978_level0_row9\" class=\"row_heading level0 row9\" >1stFlrSF</th>\n      <td id=\"T_9b978_row9_col0\" class=\"data row9 col0\" >0.269571</td>\n      <td id=\"T_9b978_row9_col1\" class=\"data row9 col1\" >0.382959</td>\n      <td id=\"T_9b978_row9_col2\" class=\"data row9 col2\" >0.274223</td>\n      <td id=\"T_9b978_row9_col3\" class=\"data row9 col3\" >0.481747</td>\n      <td id=\"T_9b978_row9_col4\" class=\"data row9 col4\" >0.340663</td>\n      <td id=\"T_9b978_row9_col5\" class=\"data row9 col5\" >0.417609</td>\n      <td id=\"T_9b978_row9_col6\" class=\"data row9 col6\" >0.093794</td>\n      <td id=\"T_9b978_row9_col7\" class=\"data row9 col7\" >0.332281</td>\n      <td id=\"T_9b978_row9_col8\" class=\"data row9 col8\" >0.811847</td>\n      <td id=\"T_9b978_row9_col9\" class=\"data row9 col9\" >1.000000</td>\n      <td id=\"T_9b978_row9_col10\" class=\"data row9 col10\" >0.224593</td>\n      <td id=\"T_9b978_row9_col11\" class=\"data row9 col11\" >0.012998</td>\n      <td id=\"T_9b978_row9_col12\" class=\"data row9 col12\" >0.557136</td>\n      <td id=\"T_9b978_row9_col13\" class=\"data row9 col13\" >0.247365</td>\n      <td id=\"T_9b978_row9_col14\" class=\"data row9 col14\" >0.004099</td>\n      <td id=\"T_9b978_row9_col15\" class=\"data row9 col15\" >0.392444</td>\n      <td id=\"T_9b978_row9_col16\" class=\"data row9 col16\" >0.122328</td>\n      <td id=\"T_9b978_row9_col17\" class=\"data row9 col17\" >0.124921</td>\n      <td id=\"T_9b978_row9_col18\" class=\"data row9 col18\" >0.405959</td>\n      <td id=\"T_9b978_row9_col19\" class=\"data row9 col19\" >0.421112</td>\n      <td id=\"T_9b978_row9_col20\" class=\"data row9 col20\" >0.445615</td>\n      <td id=\"T_9b978_row9_col21\" class=\"data row9 col21\" >0.470972</td>\n      <td id=\"T_9b978_row9_col22\" class=\"data row9 col22\" >0.250063</td>\n      <td id=\"T_9b978_row9_col23\" class=\"data row9 col23\" >0.203481</td>\n      <td id=\"T_9b978_row9_col24\" class=\"data row9 col24\" >0.068062</td>\n      <td id=\"T_9b978_row9_col25\" class=\"data row9 col25\" >0.048825</td>\n      <td id=\"T_9b978_row9_col26\" class=\"data row9 col26\" >0.096923</td>\n      <td id=\"T_9b978_row9_col27\" class=\"data row9 col27\" >0.036020</td>\n      <td id=\"T_9b978_row9_col28\" class=\"data row9 col28\" >0.016120</td>\n      <td id=\"T_9b978_row9_col29\" class=\"data row9 col29\" >0.056320</td>\n    </tr>\n    <tr>\n      <th id=\"T_9b978_level0_row10\" class=\"row_heading level0 row10\" >2ndFlrSF</th>\n      <td id=\"T_9b978_row10_col0\" class=\"data row10 col0\" >0.311930</td>\n      <td id=\"T_9b978_row10_col1\" class=\"data row10 col1\" >0.034772</td>\n      <td id=\"T_9b978_row10_col2\" class=\"data row10 col2\" >0.042240</td>\n      <td id=\"T_9b978_row10_col3\" class=\"data row10 col3\" >0.284794</td>\n      <td id=\"T_9b978_row10_col4\" class=\"data row10 col4\" >0.184372</td>\n      <td id=\"T_9b978_row10_col5\" class=\"data row10 col5\" >0.171846</td>\n      <td id=\"T_9b978_row10_col6\" class=\"data row10 col6\" >0.087292</td>\n      <td id=\"T_9b978_row10_col7\" class=\"data row10 col7\" >0.003329</td>\n      <td id=\"T_9b978_row10_col8\" class=\"data row10 col8\" >0.207189</td>\n      <td id=\"T_9b978_row10_col9\" class=\"data row10 col9\" >0.224593</td>\n      <td id=\"T_9b978_row10_col10\" class=\"data row10 col10\" >1.000000</td>\n      <td id=\"T_9b978_row10_col11\" class=\"data row10 col11\" >0.065293</td>\n      <td id=\"T_9b978_row10_col12\" class=\"data row10 col12\" >0.677853</td>\n      <td id=\"T_9b978_row10_col13\" class=\"data row10 col13\" >0.177079</td>\n      <td id=\"T_9b978_row10_col14\" class=\"data row10 col14\" >0.022341</td>\n      <td id=\"T_9b978_row10_col15\" class=\"data row10 col15\" >0.412452</td>\n      <td id=\"T_9b978_row10_col16\" class=\"data row10 col16\" >0.595157</td>\n      <td id=\"T_9b978_row10_col17\" class=\"data row10 col17\" >0.497548</td>\n      <td id=\"T_9b978_row10_col18\" class=\"data row10 col18\" >0.611220</td>\n      <td id=\"T_9b978_row10_col19\" class=\"data row10 col19\" >0.176048</td>\n      <td id=\"T_9b978_row10_col20\" class=\"data row10 col20\" >0.166822</td>\n      <td id=\"T_9b978_row10_col21\" class=\"data row10 col21\" >0.112723</td>\n      <td id=\"T_9b978_row10_col22\" class=\"data row10 col22\" >0.085205</td>\n      <td id=\"T_9b978_row10_col23\" class=\"data row10 col23\" >0.215418</td>\n      <td id=\"T_9b978_row10_col24\" class=\"data row10 col24\" >0.044436</td>\n      <td id=\"T_9b978_row10_col25\" class=\"data row10 col25\" >0.023231</td>\n      <td id=\"T_9b978_row10_col26\" class=\"data row10 col26\" >0.048743</td>\n      <td id=\"T_9b978_row10_col27\" class=\"data row10 col27\" >0.033317</td>\n      <td id=\"T_9b978_row10_col28\" class=\"data row10 col28\" >0.010921</td>\n      <td id=\"T_9b978_row10_col29\" class=\"data row10 col29\" >0.018358</td>\n    </tr>\n    <tr>\n      <th id=\"T_9b978_level0_row11\" class=\"row_heading level0 row11\" >LowQualFinSF</th>\n      <td id=\"T_9b978_row11_col0\" class=\"data row11 col0\" >0.037632</td>\n      <td id=\"T_9b978_row11_col1\" class=\"data row11 col1\" >0.017940</td>\n      <td id=\"T_9b978_row11_col2\" class=\"data row11 col2\" >0.002402</td>\n      <td id=\"T_9b978_row11_col3\" class=\"data row11 col3\" >0.044415</td>\n      <td id=\"T_9b978_row11_col4\" class=\"data row11 col4\" >0.073625</td>\n      <td id=\"T_9b978_row11_col5\" class=\"data row11 col5\" >0.086181</td>\n      <td id=\"T_9b978_row11_col6\" class=\"data row11 col6\" >0.011948</td>\n      <td id=\"T_9b978_row11_col7\" class=\"data row11 col7\" >0.044476</td>\n      <td id=\"T_9b978_row11_col8\" class=\"data row11 col8\" >0.037992</td>\n      <td id=\"T_9b978_row11_col9\" class=\"data row11 col9\" >0.012998</td>\n      <td id=\"T_9b978_row11_col10\" class=\"data row11 col10\" >0.065293</td>\n      <td id=\"T_9b978_row11_col11\" class=\"data row11 col11\" >1.000000</td>\n      <td id=\"T_9b978_row11_col12\" class=\"data row11 col12\" >0.148090</td>\n      <td id=\"T_9b978_row11_col13\" class=\"data row11 col13\" >0.066976</td>\n      <td id=\"T_9b978_row11_col14\" class=\"data row11 col14\" >0.030762</td>\n      <td id=\"T_9b978_row11_col15\" class=\"data row11 col15\" >0.000348</td>\n      <td id=\"T_9b978_row11_col16\" class=\"data row11 col16\" >0.022874</td>\n      <td id=\"T_9b978_row11_col17\" class=\"data row11 col17\" >0.116576</td>\n      <td id=\"T_9b978_row11_col18\" class=\"data row11 col18\" >0.149724</td>\n      <td id=\"T_9b978_row11_col19\" class=\"data row11 col19\" >0.022601</td>\n      <td id=\"T_9b978_row11_col20\" class=\"data row11 col20\" >0.102214</td>\n      <td id=\"T_9b978_row11_col21\" class=\"data row11 col21\" >0.079265</td>\n      <td id=\"T_9b978_row11_col22\" class=\"data row11 col22\" >0.023037</td>\n      <td id=\"T_9b978_row11_col23\" class=\"data row11 col23\" >0.025128</td>\n      <td id=\"T_9b978_row11_col24\" class=\"data row11 col24\" >0.016837</td>\n      <td id=\"T_9b978_row11_col25\" class=\"data row11 col25\" >0.005498</td>\n      <td id=\"T_9b978_row11_col26\" class=\"data row11 col26\" >0.031021</td>\n      <td id=\"T_9b978_row11_col27\" class=\"data row11 col27\" >0.006461</td>\n      <td id=\"T_9b978_row11_col28\" class=\"data row11 col28\" >0.001878</td>\n      <td id=\"T_9b978_row11_col29\" class=\"data row11 col29\" >0.016124</td>\n    </tr>\n    <tr>\n      <th id=\"T_9b978_level0_row12\" class=\"row_heading level0 row12\" >GrLivArea</th>\n      <td id=\"T_9b978_row12_col0\" class=\"data row12 col0\" >0.064209</td>\n      <td id=\"T_9b978_row12_col1\" class=\"data row12 col1\" >0.317042</td>\n      <td id=\"T_9b978_row12_col2\" class=\"data row12 col2\" >0.239998</td>\n      <td id=\"T_9b978_row12_col3\" class=\"data row12 col3\" >0.594136</td>\n      <td id=\"T_9b978_row12_col4\" class=\"data row12 col4\" >0.401513</td>\n      <td id=\"T_9b978_row12_col5\" class=\"data row12 col5\" >0.158868</td>\n      <td id=\"T_9b978_row12_col6\" class=\"data row12 col6\" >0.001942</td>\n      <td id=\"T_9b978_row12_col7\" class=\"data row12 col7\" >0.255548</td>\n      <td id=\"T_9b978_row12_col8\" class=\"data row12 col8\" >0.428632</td>\n      <td id=\"T_9b978_row12_col9\" class=\"data row12 col9\" >0.557136</td>\n      <td id=\"T_9b978_row12_col10\" class=\"data row12 col10\" >0.677853</td>\n      <td id=\"T_9b978_row12_col11\" class=\"data row12 col11\" >0.148090</td>\n      <td id=\"T_9b978_row12_col12\" class=\"data row12 col12\" >1.000000</td>\n      <td id=\"T_9b978_row12_col13\" class=\"data row12 col13\" >0.029305</td>\n      <td id=\"T_9b978_row12_col14\" class=\"data row12 col14\" >0.024971</td>\n      <td id=\"T_9b978_row12_col15\" class=\"data row12 col15\" >0.639066</td>\n      <td id=\"T_9b978_row12_col16\" class=\"data row12 col16\" >0.405539</td>\n      <td id=\"T_9b978_row12_col17\" class=\"data row12 col17\" >0.522689</td>\n      <td id=\"T_9b978_row12_col18\" class=\"data row12 col18\" >0.831361</td>\n      <td id=\"T_9b978_row12_col19\" class=\"data row12 col19\" >0.459872</td>\n      <td id=\"T_9b978_row12_col20\" class=\"data row12 col20\" >0.462232</td>\n      <td id=\"T_9b978_row12_col21\" class=\"data row12 col21\" >0.438153</td>\n      <td id=\"T_9b978_row12_col22\" class=\"data row12 col22\" >0.255869</td>\n      <td id=\"T_9b978_row12_col23\" class=\"data row12 col23\" >0.335272</td>\n      <td id=\"T_9b978_row12_col24\" class=\"data row12 col24\" >0.011823</td>\n      <td id=\"T_9b978_row12_col25\" class=\"data row12 col25\" >0.016412</td>\n      <td id=\"T_9b978_row12_col26\" class=\"data row12 col26\" >0.116474</td>\n      <td id=\"T_9b978_row12_col27\" class=\"data row12 col27\" >0.054185</td>\n      <td id=\"T_9b978_row12_col28\" class=\"data row12 col28\" >0.021394</td>\n      <td id=\"T_9b978_row12_col29\" class=\"data row12 col29\" >0.055803</td>\n    </tr>\n    <tr>\n      <th id=\"T_9b978_level0_row13\" class=\"row_heading level0 row13\" >BsmtFullBath</th>\n      <td id=\"T_9b978_row13_col0\" class=\"data row13 col0\" >0.000752</td>\n      <td id=\"T_9b978_row13_col1\" class=\"data row13 col1\" >0.075696</td>\n      <td id=\"T_9b978_row13_col2\" class=\"data row13 col2\" >0.166552</td>\n      <td id=\"T_9b978_row13_col3\" class=\"data row13 col3\" >0.107910</td>\n      <td id=\"T_9b978_row13_col4\" class=\"data row13 col4\" >0.077548</td>\n      <td id=\"T_9b978_row13_col5\" class=\"data row13 col5\" >0.659048</td>\n      <td id=\"T_9b978_row13_col6\" class=\"data row13 col6\" >0.159098</td>\n      <td id=\"T_9b978_row13_col7\" class=\"data row13 col7\" >0.413414</td>\n      <td id=\"T_9b978_row13_col8\" class=\"data row13 col8\" >0.310594</td>\n      <td id=\"T_9b978_row13_col9\" class=\"data row13 col9\" >0.247365</td>\n      <td id=\"T_9b978_row13_col10\" class=\"data row13 col10\" >0.177079</td>\n      <td id=\"T_9b978_row13_col11\" class=\"data row13 col11\" >0.066976</td>\n      <td id=\"T_9b978_row13_col12\" class=\"data row13 col12\" >0.029305</td>\n      <td id=\"T_9b978_row13_col13\" class=\"data row13 col13\" >1.000000</td>\n      <td id=\"T_9b978_row13_col14\" class=\"data row13 col14\" >0.150285</td>\n      <td id=\"T_9b978_row13_col15\" class=\"data row13 col15\" >0.069339</td>\n      <td id=\"T_9b978_row13_col16\" class=\"data row13 col16\" >0.005216</td>\n      <td id=\"T_9b978_row13_col17\" class=\"data row13 col17\" >0.159212</td>\n      <td id=\"T_9b978_row13_col18\" class=\"data row13 col18\" >0.059018</td>\n      <td id=\"T_9b978_row13_col19\" class=\"data row13 col19\" >0.155501</td>\n      <td id=\"T_9b978_row13_col20\" class=\"data row13 col20\" >0.138523</td>\n      <td id=\"T_9b978_row13_col21\" class=\"data row13 col21\" >0.167121</td>\n      <td id=\"T_9b978_row13_col22\" class=\"data row13 col22\" >0.169072</td>\n      <td id=\"T_9b978_row13_col23\" class=\"data row13 col23\" >0.038205</td>\n      <td id=\"T_9b978_row13_col24\" class=\"data row13 col24\" >0.067470</td>\n      <td id=\"T_9b978_row13_col25\" class=\"data row13 col25\" >0.008089</td>\n      <td id=\"T_9b978_row13_col26\" class=\"data row13 col26\" >0.027093</td>\n      <td id=\"T_9b978_row13_col27\" class=\"data row13 col27\" >0.017478</td>\n      <td id=\"T_9b978_row13_col28\" class=\"data row13 col28\" >0.020331</td>\n      <td id=\"T_9b978_row13_col29\" class=\"data row13 col29\" >0.010656</td>\n    </tr>\n    <tr>\n      <th id=\"T_9b978_level0_row14\" class=\"row_heading level0 row14\" >BsmtHalfBath</th>\n      <td id=\"T_9b978_row14_col0\" class=\"data row14 col0\" >0.025145</td>\n      <td id=\"T_9b978_row14_col1\" class=\"data row14 col1\" >0.011916</td>\n      <td id=\"T_9b978_row14_col2\" class=\"data row14 col2\" >0.037773</td>\n      <td id=\"T_9b978_row14_col3\" class=\"data row14 col3\" >0.050251</td>\n      <td id=\"T_9b978_row14_col4\" class=\"data row14 col4\" >0.035863</td>\n      <td id=\"T_9b978_row14_col5\" class=\"data row14 col5\" >0.057220</td>\n      <td id=\"T_9b978_row14_col6\" class=\"data row14 col6\" >0.084807</td>\n      <td id=\"T_9b978_row14_col7\" class=\"data row14 col7\" >0.100831</td>\n      <td id=\"T_9b978_row14_col8\" class=\"data row14 col8\" >0.013256</td>\n      <td id=\"T_9b978_row14_col9\" class=\"data row14 col9\" >0.004099</td>\n      <td id=\"T_9b978_row14_col10\" class=\"data row14 col10\" >0.022341</td>\n      <td id=\"T_9b978_row14_col11\" class=\"data row14 col11\" >0.030762</td>\n      <td id=\"T_9b978_row14_col12\" class=\"data row14 col12\" >0.024971</td>\n      <td id=\"T_9b978_row14_col13\" class=\"data row14 col13\" >0.150285</td>\n      <td id=\"T_9b978_row14_col14\" class=\"data row14 col14\" >1.000000</td>\n      <td id=\"T_9b978_row14_col15\" class=\"data row14 col15\" >0.073522</td>\n      <td id=\"T_9b978_row14_col16\" class=\"data row14 col16\" >0.003343</td>\n      <td id=\"T_9b978_row14_col17\" class=\"data row14 col17\" >0.038364</td>\n      <td id=\"T_9b978_row14_col18\" class=\"data row14 col18\" >0.026906</td>\n      <td id=\"T_9b978_row14_col19\" class=\"data row14 col19\" >0.036486</td>\n      <td id=\"T_9b978_row14_col20\" class=\"data row14 col20\" >0.026554</td>\n      <td id=\"T_9b978_row14_col21\" class=\"data row14 col21\" >0.033745</td>\n      <td id=\"T_9b978_row14_col22\" class=\"data row14 col22\" >0.037763</td>\n      <td id=\"T_9b978_row14_col23\" class=\"data row14 col23\" >0.021216</td>\n      <td id=\"T_9b978_row14_col24\" class=\"data row14 col24\" >0.040491</td>\n      <td id=\"T_9b978_row14_col25\" class=\"data row14 col25\" >0.043764</td>\n      <td id=\"T_9b978_row14_col26\" class=\"data row14 col26\" >0.030760</td>\n      <td id=\"T_9b978_row14_col27\" class=\"data row14 col27\" >0.012020</td>\n      <td id=\"T_9b978_row14_col28\" class=\"data row14 col28\" >0.000759</td>\n      <td id=\"T_9b978_row14_col29\" class=\"data row14 col29\" >0.055193</td>\n    </tr>\n    <tr>\n      <th id=\"T_9b978_level0_row15\" class=\"row_heading level0 row15\" >FullBath</th>\n      <td id=\"T_9b978_row15_col0\" class=\"data row15 col0\" >0.119087</td>\n      <td id=\"T_9b978_row15_col1\" class=\"data row15 col1\" >0.175219</td>\n      <td id=\"T_9b978_row15_col2\" class=\"data row15 col2\" >0.131562</td>\n      <td id=\"T_9b978_row15_col3\" class=\"data row15 col3\" >0.544129</td>\n      <td id=\"T_9b978_row15_col4\" class=\"data row15 col4\" >0.277343</td>\n      <td id=\"T_9b978_row15_col5\" class=\"data row15 col5\" >0.047362</td>\n      <td id=\"T_9b978_row15_col6\" class=\"data row15 col6\" >0.071486</td>\n      <td id=\"T_9b978_row15_col7\" class=\"data row15 col7\" >0.299708</td>\n      <td id=\"T_9b978_row15_col8\" class=\"data row15 col8\" >0.332895</td>\n      <td id=\"T_9b978_row15_col9\" class=\"data row15 col9\" >0.392444</td>\n      <td id=\"T_9b978_row15_col10\" class=\"data row15 col10\" >0.412452</td>\n      <td id=\"T_9b978_row15_col11\" class=\"data row15 col11\" >0.000348</td>\n      <td id=\"T_9b978_row15_col12\" class=\"data row15 col12\" >0.639066</td>\n      <td id=\"T_9b978_row15_col13\" class=\"data row15 col13\" >0.069339</td>\n      <td id=\"T_9b978_row15_col14\" class=\"data row15 col14\" >0.073522</td>\n      <td id=\"T_9b978_row15_col15\" class=\"data row15 col15\" >1.000000</td>\n      <td id=\"T_9b978_row15_col16\" class=\"data row15 col16\" >0.120831</td>\n      <td id=\"T_9b978_row15_col17\" class=\"data row15 col17\" >0.353587</td>\n      <td id=\"T_9b978_row15_col18\" class=\"data row15 col18\" >0.554545</td>\n      <td id=\"T_9b978_row15_col19\" class=\"data row15 col19\" >0.253188</td>\n      <td id=\"T_9b978_row15_col20\" class=\"data row15 col20\" >0.466998</td>\n      <td id=\"T_9b978_row15_col21\" class=\"data row15 col21\" >0.404106</td>\n      <td id=\"T_9b978_row15_col22\" class=\"data row15 col22\" >0.202953</td>\n      <td id=\"T_9b978_row15_col23\" class=\"data row15 col23\" >0.264387</td>\n      <td id=\"T_9b978_row15_col24\" class=\"data row15 col24\" >0.114610</td>\n      <td id=\"T_9b978_row15_col25\" class=\"data row15 col25\" >0.040411</td>\n      <td id=\"T_9b978_row15_col26\" class=\"data row15 col26\" >0.004994</td>\n      <td id=\"T_9b978_row15_col27\" class=\"data row15 col27\" >0.033945</td>\n      <td id=\"T_9b978_row15_col28\" class=\"data row15 col28\" >0.022449</td>\n      <td id=\"T_9b978_row15_col29\" class=\"data row15 col29\" >0.050210</td>\n    </tr>\n    <tr>\n      <th id=\"T_9b978_level0_row16\" class=\"row_heading level0 row16\" >HalfBath</th>\n      <td id=\"T_9b978_row16_col0\" class=\"data row16 col0\" >0.197705</td>\n      <td id=\"T_9b978_row16_col1\" class=\"data row16 col1\" >0.014314</td>\n      <td id=\"T_9b978_row16_col2\" class=\"data row16 col2\" >0.003425</td>\n      <td id=\"T_9b978_row16_col3\" class=\"data row16 col3\" >0.283343</td>\n      <td id=\"T_9b978_row16_col4\" class=\"data row16 col4\" >0.204619</td>\n      <td id=\"T_9b978_row16_col5\" class=\"data row16 col5\" >0.011381</td>\n      <td id=\"T_9b978_row16_col6\" class=\"data row16 col6\" >0.023023</td>\n      <td id=\"T_9b978_row16_col7\" class=\"data row16 col7\" >0.056497</td>\n      <td id=\"T_9b978_row16_col8\" class=\"data row16 col8\" >0.055849</td>\n      <td id=\"T_9b978_row16_col9\" class=\"data row16 col9\" >0.122328</td>\n      <td id=\"T_9b978_row16_col10\" class=\"data row16 col10\" >0.595157</td>\n      <td id=\"T_9b978_row16_col11\" class=\"data row16 col11\" >0.022874</td>\n      <td id=\"T_9b978_row16_col12\" class=\"data row16 col12\" >0.405539</td>\n      <td id=\"T_9b978_row16_col13\" class=\"data row16 col13\" >0.005216</td>\n      <td id=\"T_9b978_row16_col14\" class=\"data row16 col14\" >0.003343</td>\n      <td id=\"T_9b978_row16_col15\" class=\"data row16 col15\" >0.120831</td>\n      <td id=\"T_9b978_row16_col16\" class=\"data row16 col16\" >1.000000</td>\n      <td id=\"T_9b978_row16_col17\" class=\"data row16 col17\" >0.188367</td>\n      <td id=\"T_9b978_row16_col18\" class=\"data row16 col18\" >0.321854</td>\n      <td id=\"T_9b978_row16_col19\" class=\"data row16 col19\" >0.193665</td>\n      <td id=\"T_9b978_row16_col20\" class=\"data row16 col20\" >0.226479</td>\n      <td id=\"T_9b978_row16_col21\" class=\"data row16 col21\" >0.168753</td>\n      <td id=\"T_9b978_row16_col22\" class=\"data row16 col22\" >0.117517</td>\n      <td id=\"T_9b978_row16_col23\" class=\"data row16 col23\" >0.210812</td>\n      <td id=\"T_9b978_row16_col24\" class=\"data row16 col24\" >0.115659</td>\n      <td id=\"T_9b978_row16_col25\" class=\"data row16 col25\" >0.003942</td>\n      <td id=\"T_9b978_row16_col26\" class=\"data row16 col26\" >0.075854</td>\n      <td id=\"T_9b978_row16_col27\" class=\"data row16 col27\" >0.023311</td>\n      <td id=\"T_9b978_row16_col28\" class=\"data row16 col28\" >0.034605</td>\n      <td id=\"T_9b978_row16_col29\" class=\"data row16 col29\" >0.014892</td>\n    </tr>\n    <tr>\n      <th id=\"T_9b978_level0_row17\" class=\"row_heading level0 row17\" >BedroomAbvGr</th>\n      <td id=\"T_9b978_row17_col0\" class=\"data row17 col0\" >0.025865</td>\n      <td id=\"T_9b978_row17_col1\" class=\"data row17 col1\" >0.238709</td>\n      <td id=\"T_9b978_row17_col2\" class=\"data row17 col2\" >0.107690</td>\n      <td id=\"T_9b978_row17_col3\" class=\"data row17 col3\" >0.080996</td>\n      <td id=\"T_9b978_row17_col4\" class=\"data row17 col4\" >0.105346</td>\n      <td id=\"T_9b978_row17_col5\" class=\"data row17 col5\" >0.144637</td>\n      <td id=\"T_9b978_row17_col6\" class=\"data row17 col6\" >0.001011</td>\n      <td id=\"T_9b978_row17_col7\" class=\"data row17 col7\" >0.181754</td>\n      <td id=\"T_9b978_row17_col8\" class=\"data row17 col8\" >0.040266</td>\n      <td id=\"T_9b978_row17_col9\" class=\"data row17 col9\" >0.124921</td>\n      <td id=\"T_9b978_row17_col10\" class=\"data row17 col10\" >0.497548</td>\n      <td id=\"T_9b978_row17_col11\" class=\"data row17 col11\" >0.116576</td>\n      <td id=\"T_9b978_row17_col12\" class=\"data row17 col12\" >0.522689</td>\n      <td id=\"T_9b978_row17_col13\" class=\"data row17 col13\" >0.159212</td>\n      <td id=\"T_9b978_row17_col14\" class=\"data row17 col14\" >0.038364</td>\n      <td id=\"T_9b978_row17_col15\" class=\"data row17 col15\" >0.353587</td>\n      <td id=\"T_9b978_row17_col16\" class=\"data row17 col16\" >0.188367</td>\n      <td id=\"T_9b978_row17_col17\" class=\"data row17 col17\" >1.000000</td>\n      <td id=\"T_9b978_row17_col18\" class=\"data row17 col18\" >0.674650</td>\n      <td id=\"T_9b978_row17_col19\" class=\"data row17 col19\" >0.097883</td>\n      <td id=\"T_9b978_row17_col20\" class=\"data row17 col20\" >0.054608</td>\n      <td id=\"T_9b978_row17_col21\" class=\"data row17 col21\" >0.028647</td>\n      <td id=\"T_9b978_row17_col22\" class=\"data row17 col22\" >0.034482</td>\n      <td id=\"T_9b978_row17_col23\" class=\"data row17 col23\" >0.102393</td>\n      <td id=\"T_9b978_row17_col24\" class=\"data row17 col24\" >0.034625</td>\n      <td id=\"T_9b978_row17_col25\" class=\"data row17 col25\" >0.027506</td>\n      <td id=\"T_9b978_row17_col26\" class=\"data row17 col26\" >0.051266</td>\n      <td id=\"T_9b978_row17_col27\" class=\"data row17 col27\" >0.064993</td>\n      <td id=\"T_9b978_row17_col28\" class=\"data row17 col28\" >0.005667</td>\n      <td id=\"T_9b978_row17_col29\" class=\"data row17 col29\" >0.046009</td>\n    </tr>\n    <tr>\n      <th id=\"T_9b978_level0_row18\" class=\"row_heading level0 row18\" >TotRmsAbvGrd</th>\n      <td id=\"T_9b978_row18_col0\" class=\"data row18 col0\" >0.023877</td>\n      <td id=\"T_9b978_row18_col1\" class=\"data row18 col1\" >0.316425</td>\n      <td id=\"T_9b978_row18_col2\" class=\"data row18 col2\" >0.174196</td>\n      <td id=\"T_9b978_row18_col3\" class=\"data row18 col3\" >0.420073</td>\n      <td id=\"T_9b978_row18_col4\" class=\"data row18 col4\" >0.289281</td>\n      <td id=\"T_9b978_row18_col5\" class=\"data row18 col5\" >0.014400</td>\n      <td id=\"T_9b978_row18_col6\" class=\"data row18 col6\" >0.031139</td>\n      <td id=\"T_9b978_row18_col7\" class=\"data row18 col7\" >0.264909</td>\n      <td id=\"T_9b978_row18_col8\" class=\"data row18 col8\" >0.278256</td>\n      <td id=\"T_9b978_row18_col9\" class=\"data row18 col9\" >0.405959</td>\n      <td id=\"T_9b978_row18_col10\" class=\"data row18 col10\" >0.611220</td>\n      <td id=\"T_9b978_row18_col11\" class=\"data row18 col11\" >0.149724</td>\n      <td id=\"T_9b978_row18_col12\" class=\"data row18 col12\" >0.831361</td>\n      <td id=\"T_9b978_row18_col13\" class=\"data row18 col13\" >0.059018</td>\n      <td id=\"T_9b978_row18_col14\" class=\"data row18 col14\" >0.026906</td>\n      <td id=\"T_9b978_row18_col15\" class=\"data row18 col15\" >0.554545</td>\n      <td id=\"T_9b978_row18_col16\" class=\"data row18 col16\" >0.321854</td>\n      <td id=\"T_9b978_row18_col17\" class=\"data row18 col17\" >0.674650</td>\n      <td id=\"T_9b978_row18_col18\" class=\"data row18 col18\" >1.000000</td>\n      <td id=\"T_9b978_row18_col19\" class=\"data row18 col19\" >0.309410</td>\n      <td id=\"T_9b978_row18_col20\" class=\"data row18 col20\" >0.339497</td>\n      <td id=\"T_9b978_row18_col21\" class=\"data row18 col21\" >0.306492</td>\n      <td id=\"T_9b978_row18_col22\" class=\"data row18 col22\" >0.159702</td>\n      <td id=\"T_9b978_row18_col23\" class=\"data row18 col23\" >0.246834</td>\n      <td id=\"T_9b978_row18_col24\" class=\"data row18 col24\" >0.005426</td>\n      <td id=\"T_9b978_row18_col25\" class=\"data row18 col25\" >0.016979</td>\n      <td id=\"T_9b978_row18_col26\" class=\"data row18 col26\" >0.069119</td>\n      <td id=\"T_9b978_row18_col27\" class=\"data row18 col27\" >0.048275</td>\n      <td id=\"T_9b978_row18_col28\" class=\"data row18 col28\" >0.013891</td>\n      <td id=\"T_9b978_row18_col29\" class=\"data row18 col29\" >0.023201</td>\n    </tr>\n    <tr>\n      <th id=\"T_9b978_level0_row19\" class=\"row_heading level0 row19\" >Fireplaces</th>\n      <td id=\"T_9b978_row19_col0\" class=\"data row19 col0\" >0.055279</td>\n      <td id=\"T_9b978_row19_col1\" class=\"data row19 col1\" >0.218046</td>\n      <td id=\"T_9b978_row19_col2\" class=\"data row19 col2\" >0.262530</td>\n      <td id=\"T_9b978_row19_col3\" class=\"data row19 col3\" >0.413541</td>\n      <td id=\"T_9b978_row19_col4\" class=\"data row19 col4\" >0.249176</td>\n      <td id=\"T_9b978_row19_col5\" class=\"data row19 col5\" >0.290394</td>\n      <td id=\"T_9b978_row19_col6\" class=\"data row19 col6\" >0.016266</td>\n      <td id=\"T_9b978_row19_col7\" class=\"data row19 col7\" >0.050834</td>\n      <td id=\"T_9b978_row19_col8\" class=\"data row19 col8\" >0.358372</td>\n      <td id=\"T_9b978_row19_col9\" class=\"data row19 col9\" >0.421112</td>\n      <td id=\"T_9b978_row19_col10\" class=\"data row19 col10\" >0.176048</td>\n      <td id=\"T_9b978_row19_col11\" class=\"data row19 col11\" >0.022601</td>\n      <td id=\"T_9b978_row19_col12\" class=\"data row19 col12\" >0.459872</td>\n      <td id=\"T_9b978_row19_col13\" class=\"data row19 col13\" >0.155501</td>\n      <td id=\"T_9b978_row19_col14\" class=\"data row19 col14\" >0.036486</td>\n      <td id=\"T_9b978_row19_col15\" class=\"data row19 col15\" >0.253188</td>\n      <td id=\"T_9b978_row19_col16\" class=\"data row19 col16\" >0.193665</td>\n      <td id=\"T_9b978_row19_col17\" class=\"data row19 col17\" >0.097883</td>\n      <td id=\"T_9b978_row19_col18\" class=\"data row19 col18\" >0.309410</td>\n      <td id=\"T_9b978_row19_col19\" class=\"data row19 col19\" >1.000000</td>\n      <td id=\"T_9b978_row19_col20\" class=\"data row19 col20\" >0.307470</td>\n      <td id=\"T_9b978_row19_col21\" class=\"data row19 col21\" >0.259721</td>\n      <td id=\"T_9b978_row19_col22\" class=\"data row19 col22\" >0.203792</td>\n      <td id=\"T_9b978_row19_col23\" class=\"data row19 col23\" >0.175339</td>\n      <td id=\"T_9b978_row19_col24\" class=\"data row19 col24\" >0.032742</td>\n      <td id=\"T_9b978_row19_col25\" class=\"data row19 col25\" >0.007976</td>\n      <td id=\"T_9b978_row19_col26\" class=\"data row19 col26\" >0.192769</td>\n      <td id=\"T_9b978_row19_col27\" class=\"data row19 col27\" >0.051967</td>\n      <td id=\"T_9b978_row19_col28\" class=\"data row19 col28\" >0.005460</td>\n      <td id=\"T_9b978_row19_col29\" class=\"data row19 col29\" >0.053871</td>\n    </tr>\n    <tr>\n      <th id=\"T_9b978_level0_row20\" class=\"row_heading level0 row20\" >GarageCars</th>\n      <td id=\"T_9b978_row20_col0\" class=\"data row20 col0\" >0.054037</td>\n      <td id=\"T_9b978_row20_col1\" class=\"data row20 col1\" >0.285942</td>\n      <td id=\"T_9b978_row20_col2\" class=\"data row20 col2\" >0.141534</td>\n      <td id=\"T_9b978_row20_col3\" class=\"data row20 col3\" >0.608055</td>\n      <td id=\"T_9b978_row20_col4\" class=\"data row20 col4\" >0.364617</td>\n      <td id=\"T_9b978_row20_col5\" class=\"data row20 col5\" >0.236490</td>\n      <td id=\"T_9b978_row20_col6\" class=\"data row20 col6\" >0.019667</td>\n      <td id=\"T_9b978_row20_col7\" class=\"data row20 col7\" >0.208423</td>\n      <td id=\"T_9b978_row20_col8\" class=\"data row20 col8\" >0.452829</td>\n      <td id=\"T_9b978_row20_col9\" class=\"data row20 col9\" >0.445615</td>\n      <td id=\"T_9b978_row20_col10\" class=\"data row20 col10\" >0.166822</td>\n      <td id=\"T_9b978_row20_col11\" class=\"data row20 col11\" >0.102214</td>\n      <td id=\"T_9b978_row20_col12\" class=\"data row20 col12\" >0.462232</td>\n      <td id=\"T_9b978_row20_col13\" class=\"data row20 col13\" >0.138523</td>\n      <td id=\"T_9b978_row20_col14\" class=\"data row20 col14\" >0.026554</td>\n      <td id=\"T_9b978_row20_col15\" class=\"data row20 col15\" >0.466998</td>\n      <td id=\"T_9b978_row20_col16\" class=\"data row20 col16\" >0.226479</td>\n      <td id=\"T_9b978_row20_col17\" class=\"data row20 col17\" >0.054608</td>\n      <td id=\"T_9b978_row20_col18\" class=\"data row20 col18\" >0.339497</td>\n      <td id=\"T_9b978_row20_col19\" class=\"data row20 col19\" >0.307470</td>\n      <td id=\"T_9b978_row20_col20\" class=\"data row20 col20\" >1.000000</td>\n      <td id=\"T_9b978_row20_col21\" class=\"data row20 col21\" >0.885519</td>\n      <td id=\"T_9b978_row20_col22\" class=\"data row20 col22\" >0.233428</td>\n      <td id=\"T_9b978_row20_col23\" class=\"data row20 col23\" >0.210401</td>\n      <td id=\"T_9b978_row20_col24\" class=\"data row20 col24\" >0.180115</td>\n      <td id=\"T_9b978_row20_col25\" class=\"data row20 col25\" >0.037572</td>\n      <td id=\"T_9b978_row20_col26\" class=\"data row20 col26\" >0.062674</td>\n      <td id=\"T_9b978_row20_col27\" class=\"data row20 col27\" >0.015452</td>\n      <td id=\"T_9b978_row20_col28\" class=\"data row20 col28\" >0.040296</td>\n      <td id=\"T_9b978_row20_col29\" class=\"data row20 col29\" >0.045202</td>\n    </tr>\n    <tr>\n      <th id=\"T_9b978_level0_row21\" class=\"row_heading level0 row21\" >GarageArea</th>\n      <td id=\"T_9b978_row21_col0\" class=\"data row21 col0\" >0.119540</td>\n      <td id=\"T_9b978_row21_col1\" class=\"data row21 col1\" >0.307832</td>\n      <td id=\"T_9b978_row21_col2\" class=\"data row21 col2\" >0.151867</td>\n      <td id=\"T_9b978_row21_col3\" class=\"data row21 col3\" >0.569366</td>\n      <td id=\"T_9b978_row21_col4\" class=\"data row21 col4\" >0.364066</td>\n      <td id=\"T_9b978_row21_col5\" class=\"data row21 col5\" >0.269156</td>\n      <td id=\"T_9b978_row21_col6\" class=\"data row21 col6\" >0.004308</td>\n      <td id=\"T_9b978_row21_col7\" class=\"data row21 col7\" >0.193326</td>\n      <td id=\"T_9b978_row21_col8\" class=\"data row21 col8\" >0.476703</td>\n      <td id=\"T_9b978_row21_col9\" class=\"data row21 col9\" >0.470972</td>\n      <td id=\"T_9b978_row21_col10\" class=\"data row21 col10\" >0.112723</td>\n      <td id=\"T_9b978_row21_col11\" class=\"data row21 col11\" >0.079265</td>\n      <td id=\"T_9b978_row21_col12\" class=\"data row21 col12\" >0.438153</td>\n      <td id=\"T_9b978_row21_col13\" class=\"data row21 col13\" >0.167121</td>\n      <td id=\"T_9b978_row21_col14\" class=\"data row21 col14\" >0.033745</td>\n      <td id=\"T_9b978_row21_col15\" class=\"data row21 col15\" >0.404106</td>\n      <td id=\"T_9b978_row21_col16\" class=\"data row21 col16\" >0.168753</td>\n      <td id=\"T_9b978_row21_col17\" class=\"data row21 col17\" >0.028647</td>\n      <td id=\"T_9b978_row21_col18\" class=\"data row21 col18\" >0.306492</td>\n      <td id=\"T_9b978_row21_col19\" class=\"data row21 col19\" >0.259721</td>\n      <td id=\"T_9b978_row21_col20\" class=\"data row21 col20\" >0.885519</td>\n      <td id=\"T_9b978_row21_col21\" class=\"data row21 col21\" >1.000000</td>\n      <td id=\"T_9b978_row21_col22\" class=\"data row21 col22\" >0.231367</td>\n      <td id=\"T_9b978_row21_col23\" class=\"data row21 col23\" >0.231465</td>\n      <td id=\"T_9b978_row21_col24\" class=\"data row21 col24\" >0.162622</td>\n      <td id=\"T_9b978_row21_col25\" class=\"data row21 col25\" >0.040580</td>\n      <td id=\"T_9b978_row21_col26\" class=\"data row21 col26\" >0.059357</td>\n      <td id=\"T_9b978_row21_col27\" class=\"data row21 col27\" >0.003053</td>\n      <td id=\"T_9b978_row21_col28\" class=\"data row21 col28\" >0.027444</td>\n      <td id=\"T_9b978_row21_col29\" class=\"data row21 col29\" >0.041960</td>\n    </tr>\n    <tr>\n      <th id=\"T_9b978_level0_row22\" class=\"row_heading level0 row22\" >WoodDeckSF</th>\n      <td id=\"T_9b978_row22_col0\" class=\"data row22 col0\" >0.021087</td>\n      <td id=\"T_9b978_row22_col1\" class=\"data row22 col1\" >0.088413</td>\n      <td id=\"T_9b978_row22_col2\" class=\"data row22 col2\" >0.178765</td>\n      <td id=\"T_9b978_row22_col3\" class=\"data row22 col3\" >0.257811</td>\n      <td id=\"T_9b978_row22_col4\" class=\"data row22 col4\" >0.172109</td>\n      <td id=\"T_9b978_row22_col5\" class=\"data row22 col5\" >0.212034</td>\n      <td id=\"T_9b978_row22_col6\" class=\"data row22 col6\" >0.054755</td>\n      <td id=\"T_9b978_row22_col7\" class=\"data row22 col7\" >0.004528</td>\n      <td id=\"T_9b978_row22_col8\" class=\"data row22 col8\" >0.244271</td>\n      <td id=\"T_9b978_row22_col9\" class=\"data row22 col9\" >0.250063</td>\n      <td id=\"T_9b978_row22_col10\" class=\"data row22 col10\" >0.085205</td>\n      <td id=\"T_9b978_row22_col11\" class=\"data row22 col11\" >0.023037</td>\n      <td id=\"T_9b978_row22_col12\" class=\"data row22 col12\" >0.255869</td>\n      <td id=\"T_9b978_row22_col13\" class=\"data row22 col13\" >0.169072</td>\n      <td id=\"T_9b978_row22_col14\" class=\"data row22 col14\" >0.037763</td>\n      <td id=\"T_9b978_row22_col15\" class=\"data row22 col15\" >0.202953</td>\n      <td id=\"T_9b978_row22_col16\" class=\"data row22 col16\" >0.117517</td>\n      <td id=\"T_9b978_row22_col17\" class=\"data row22 col17\" >0.034482</td>\n      <td id=\"T_9b978_row22_col18\" class=\"data row22 col18\" >0.159702</td>\n      <td id=\"T_9b978_row22_col19\" class=\"data row22 col19\" >0.203792</td>\n      <td id=\"T_9b978_row22_col20\" class=\"data row22 col20\" >0.233428</td>\n      <td id=\"T_9b978_row22_col21\" class=\"data row22 col21\" >0.231367</td>\n      <td id=\"T_9b978_row22_col22\" class=\"data row22 col22\" >1.000000</td>\n      <td id=\"T_9b978_row22_col23\" class=\"data row22 col23\" >0.072564</td>\n      <td id=\"T_9b978_row22_col24\" class=\"data row22 col24\" >0.133108</td>\n      <td id=\"T_9b978_row22_col25\" class=\"data row22 col25\" >0.029077</td>\n      <td id=\"T_9b978_row22_col26\" class=\"data row22 col26\" >0.087981</td>\n      <td id=\"T_9b978_row22_col27\" class=\"data row22 col27\" >0.089127</td>\n      <td id=\"T_9b978_row22_col28\" class=\"data row22 col28\" >0.020966</td>\n      <td id=\"T_9b978_row22_col29\" class=\"data row22 col29\" >0.021161</td>\n    </tr>\n    <tr>\n      <th id=\"T_9b978_level0_row23\" class=\"row_heading level0 row23\" >OpenPorchSF</th>\n      <td id=\"T_9b978_row23_col0\" class=\"data row23 col0\" >0.011211</td>\n      <td id=\"T_9b978_row23_col1\" class=\"data row23 col1\" >0.126036</td>\n      <td id=\"T_9b978_row23_col2\" class=\"data row23 col2\" >0.066209</td>\n      <td id=\"T_9b978_row23_col3\" class=\"data row23 col3\" >0.312609</td>\n      <td id=\"T_9b978_row23_col4\" class=\"data row23 col4\" >0.086563</td>\n      <td id=\"T_9b978_row23_col5\" class=\"data row23 col5\" >0.066769</td>\n      <td id=\"T_9b978_row23_col6\" class=\"data row23 col6\" >0.024625</td>\n      <td id=\"T_9b978_row23_col7\" class=\"data row23 col7\" >0.148654</td>\n      <td id=\"T_9b978_row23_col8\" class=\"data row23 col8\" >0.232805</td>\n      <td id=\"T_9b978_row23_col9\" class=\"data row23 col9\" >0.203481</td>\n      <td id=\"T_9b978_row23_col10\" class=\"data row23 col10\" >0.215418</td>\n      <td id=\"T_9b978_row23_col11\" class=\"data row23 col11\" >0.025128</td>\n      <td id=\"T_9b978_row23_col12\" class=\"data row23 col12\" >0.335272</td>\n      <td id=\"T_9b978_row23_col13\" class=\"data row23 col13\" >0.038205</td>\n      <td id=\"T_9b978_row23_col14\" class=\"data row23 col14\" >0.021216</td>\n      <td id=\"T_9b978_row23_col15\" class=\"data row23 col15\" >0.264387</td>\n      <td id=\"T_9b978_row23_col16\" class=\"data row23 col16\" >0.210812</td>\n      <td id=\"T_9b978_row23_col17\" class=\"data row23 col17\" >0.102393</td>\n      <td id=\"T_9b978_row23_col18\" class=\"data row23 col18\" >0.246834</td>\n      <td id=\"T_9b978_row23_col19\" class=\"data row23 col19\" >0.175339</td>\n      <td id=\"T_9b978_row23_col20\" class=\"data row23 col20\" >0.210401</td>\n      <td id=\"T_9b978_row23_col21\" class=\"data row23 col21\" >0.231465</td>\n      <td id=\"T_9b978_row23_col22\" class=\"data row23 col22\" >0.072564</td>\n      <td id=\"T_9b978_row23_col23\" class=\"data row23 col23\" >1.000000</td>\n      <td id=\"T_9b978_row23_col24\" class=\"data row23 col24\" >0.088347</td>\n      <td id=\"T_9b978_row23_col25\" class=\"data row23 col25\" >0.011280</td>\n      <td id=\"T_9b978_row23_col26\" class=\"data row23 col26\" >0.081811</td>\n      <td id=\"T_9b978_row23_col27\" class=\"data row23 col27\" >0.055809</td>\n      <td id=\"T_9b978_row23_col28\" class=\"data row23 col28\" >0.008969</td>\n      <td id=\"T_9b978_row23_col29\" class=\"data row23 col29\" >0.080263</td>\n    </tr>\n    <tr>\n      <th id=\"T_9b978_level0_row24\" class=\"row_heading level0 row24\" >EnclosedPorch</th>\n      <td id=\"T_9b978_row24_col0\" class=\"data row24 col0\" >0.028632</td>\n      <td id=\"T_9b978_row24_col1\" class=\"data row24 col1\" >0.042519</td>\n      <td id=\"T_9b978_row24_col2\" class=\"data row24 col2\" >0.030197</td>\n      <td id=\"T_9b978_row24_col3\" class=\"data row24 col3\" >0.134717</td>\n      <td id=\"T_9b978_row24_col4\" class=\"data row24 col4\" >0.121477</td>\n      <td id=\"T_9b978_row24_col5\" class=\"data row24 col5\" >0.131119</td>\n      <td id=\"T_9b978_row24_col6\" class=\"data row24 col6\" >0.049824</td>\n      <td id=\"T_9b978_row24_col7\" class=\"data row24 col7\" >0.002991</td>\n      <td id=\"T_9b978_row24_col8\" class=\"data row24 col8\" >0.112874</td>\n      <td id=\"T_9b978_row24_col9\" class=\"data row24 col9\" >0.068062</td>\n      <td id=\"T_9b978_row24_col10\" class=\"data row24 col10\" >0.044436</td>\n      <td id=\"T_9b978_row24_col11\" class=\"data row24 col11\" >0.016837</td>\n      <td id=\"T_9b978_row24_col12\" class=\"data row24 col12\" >0.011823</td>\n      <td id=\"T_9b978_row24_col13\" class=\"data row24 col13\" >0.067470</td>\n      <td id=\"T_9b978_row24_col14\" class=\"data row24 col14\" >0.040491</td>\n      <td id=\"T_9b978_row24_col15\" class=\"data row24 col15\" >0.114610</td>\n      <td id=\"T_9b978_row24_col16\" class=\"data row24 col16\" >0.115659</td>\n      <td id=\"T_9b978_row24_col17\" class=\"data row24 col17\" >0.034625</td>\n      <td id=\"T_9b978_row24_col18\" class=\"data row24 col18\" >0.005426</td>\n      <td id=\"T_9b978_row24_col19\" class=\"data row24 col19\" >0.032742</td>\n      <td id=\"T_9b978_row24_col20\" class=\"data row24 col20\" >0.180115</td>\n      <td id=\"T_9b978_row24_col21\" class=\"data row24 col21\" >0.162622</td>\n      <td id=\"T_9b978_row24_col22\" class=\"data row24 col22\" >0.133108</td>\n      <td id=\"T_9b978_row24_col23\" class=\"data row24 col23\" >0.088347</td>\n      <td id=\"T_9b978_row24_col24\" class=\"data row24 col24\" >1.000000</td>\n      <td id=\"T_9b978_row24_col25\" class=\"data row24 col25\" >0.039549</td>\n      <td id=\"T_9b978_row24_col26\" class=\"data row24 col26\" >0.084849</td>\n      <td id=\"T_9b978_row24_col27\" class=\"data row24 col27\" >0.018163</td>\n      <td id=\"T_9b978_row24_col28\" class=\"data row24 col28\" >0.010579</td>\n      <td id=\"T_9b978_row24_col29\" class=\"data row24 col29\" >0.014660</td>\n    </tr>\n    <tr>\n      <th id=\"T_9b978_level0_row25\" class=\"row_heading level0 row25\" >3SsnPorch</th>\n      <td id=\"T_9b978_row25_col0\" class=\"data row25 col0\" >0.044378</td>\n      <td id=\"T_9b978_row25_col1\" class=\"data row25 col1\" >0.078999</td>\n      <td id=\"T_9b978_row25_col2\" class=\"data row25 col2\" >0.015330</td>\n      <td id=\"T_9b978_row25_col3\" class=\"data row25 col3\" >0.028563</td>\n      <td id=\"T_9b978_row25_col4\" class=\"data row25 col4\" >0.025126</td>\n      <td id=\"T_9b978_row25_col5\" class=\"data row25 col5\" >0.035637</td>\n      <td id=\"T_9b978_row25_col6\" class=\"data row25 col6\" >0.034830</td>\n      <td id=\"T_9b978_row25_col7\" class=\"data row25 col7\" >0.012444</td>\n      <td id=\"T_9b978_row25_col8\" class=\"data row25 col8\" >0.036278</td>\n      <td id=\"T_9b978_row25_col9\" class=\"data row25 col9\" >0.048825</td>\n      <td id=\"T_9b978_row25_col10\" class=\"data row25 col10\" >0.023231</td>\n      <td id=\"T_9b978_row25_col11\" class=\"data row25 col11\" >0.005498</td>\n      <td id=\"T_9b978_row25_col12\" class=\"data row25 col12\" >0.016412</td>\n      <td id=\"T_9b978_row25_col13\" class=\"data row25 col13\" >0.008089</td>\n      <td id=\"T_9b978_row25_col14\" class=\"data row25 col14\" >0.043764</td>\n      <td id=\"T_9b978_row25_col15\" class=\"data row25 col15\" >0.040411</td>\n      <td id=\"T_9b978_row25_col16\" class=\"data row25 col16\" >0.003942</td>\n      <td id=\"T_9b978_row25_col17\" class=\"data row25 col17\" >0.027506</td>\n      <td id=\"T_9b978_row25_col18\" class=\"data row25 col18\" >0.016979</td>\n      <td id=\"T_9b978_row25_col19\" class=\"data row25 col19\" >0.007976</td>\n      <td id=\"T_9b978_row25_col20\" class=\"data row25 col20\" >0.037572</td>\n      <td id=\"T_9b978_row25_col21\" class=\"data row25 col21\" >0.040580</td>\n      <td id=\"T_9b978_row25_col22\" class=\"data row25 col22\" >0.029077</td>\n      <td id=\"T_9b978_row25_col23\" class=\"data row25 col23\" >0.011280</td>\n      <td id=\"T_9b978_row25_col24\" class=\"data row25 col24\" >0.039549</td>\n      <td id=\"T_9b978_row25_col25\" class=\"data row25 col25\" >1.000000</td>\n      <td id=\"T_9b978_row25_col26\" class=\"data row25 col26\" >0.034039</td>\n      <td id=\"T_9b978_row25_col27\" class=\"data row25 col27\" >0.006234</td>\n      <td id=\"T_9b978_row25_col28\" class=\"data row25 col28\" >0.003176</td>\n      <td id=\"T_9b978_row25_col29\" class=\"data row25 col29\" >0.038176</td>\n    </tr>\n    <tr>\n      <th id=\"T_9b978_level0_row26\" class=\"row_heading level0 row26\" >ScreenPorch</th>\n      <td id=\"T_9b978_row26_col0\" class=\"data row26 col0\" >0.013688</td>\n      <td id=\"T_9b978_row26_col1\" class=\"data row26 col1\" >0.045068</td>\n      <td id=\"T_9b978_row26_col2\" class=\"data row26 col2\" >0.040326</td>\n      <td id=\"T_9b978_row26_col3\" class=\"data row26 col3\" >0.080931</td>\n      <td id=\"T_9b978_row26_col4\" class=\"data row26 col4\" >0.065180</td>\n      <td id=\"T_9b978_row26_col5\" class=\"data row26 col5\" >0.073816</td>\n      <td id=\"T_9b978_row26_col6\" class=\"data row26 col6\" >0.102501</td>\n      <td id=\"T_9b978_row26_col7\" class=\"data row26 col7\" >0.014621</td>\n      <td id=\"T_9b978_row26_col8\" class=\"data row26 col8\" >0.100267</td>\n      <td id=\"T_9b978_row26_col9\" class=\"data row26 col9\" >0.096923</td>\n      <td id=\"T_9b978_row26_col10\" class=\"data row26 col10\" >0.048743</td>\n      <td id=\"T_9b978_row26_col11\" class=\"data row26 col11\" >0.031021</td>\n      <td id=\"T_9b978_row26_col12\" class=\"data row26 col12\" >0.116474</td>\n      <td id=\"T_9b978_row26_col13\" class=\"data row26 col13\" >0.027093</td>\n      <td id=\"T_9b978_row26_col14\" class=\"data row26 col14\" >0.030760</td>\n      <td id=\"T_9b978_row26_col15\" class=\"data row26 col15\" >0.004994</td>\n      <td id=\"T_9b978_row26_col16\" class=\"data row26 col16\" >0.075854</td>\n      <td id=\"T_9b978_row26_col17\" class=\"data row26 col17\" >0.051266</td>\n      <td id=\"T_9b978_row26_col18\" class=\"data row26 col18\" >0.069119</td>\n      <td id=\"T_9b978_row26_col19\" class=\"data row26 col19\" >0.192769</td>\n      <td id=\"T_9b978_row26_col20\" class=\"data row26 col20\" >0.062674</td>\n      <td id=\"T_9b978_row26_col21\" class=\"data row26 col21\" >0.059357</td>\n      <td id=\"T_9b978_row26_col22\" class=\"data row26 col22\" >0.087981</td>\n      <td id=\"T_9b978_row26_col23\" class=\"data row26 col23\" >0.081811</td>\n      <td id=\"T_9b978_row26_col24\" class=\"data row26 col24\" >0.084849</td>\n      <td id=\"T_9b978_row26_col25\" class=\"data row26 col25\" >0.034039</td>\n      <td id=\"T_9b978_row26_col26\" class=\"data row26 col26\" >1.000000</td>\n      <td id=\"T_9b978_row26_col27\" class=\"data row26 col27\" >0.090917</td>\n      <td id=\"T_9b978_row26_col28\" class=\"data row26 col28\" >0.038136</td>\n      <td id=\"T_9b978_row26_col29\" class=\"data row26 col29\" >0.021636</td>\n    </tr>\n    <tr>\n      <th id=\"T_9b978_level0_row27\" class=\"row_heading level0 row27\" >PoolArea</th>\n      <td id=\"T_9b978_row27_col0\" class=\"data row27 col0\" >0.003661</td>\n      <td id=\"T_9b978_row27_col1\" class=\"data row27 col1\" >0.013766</td>\n      <td id=\"T_9b978_row27_col2\" class=\"data row27 col2\" >0.024013</td>\n      <td id=\"T_9b978_row27_col3\" class=\"data row27 col3\" >0.005571</td>\n      <td id=\"T_9b978_row27_col4\" class=\"data row27 col4\" >0.006343</td>\n      <td id=\"T_9b978_row27_col5\" class=\"data row27 col5\" >0.000423</td>\n      <td id=\"T_9b978_row27_col6\" class=\"data row27 col6\" >0.063791</td>\n      <td id=\"T_9b978_row27_col7\" class=\"data row27 col7\" >0.028910</td>\n      <td id=\"T_9b978_row27_col8\" class=\"data row27 col8\" >0.005973</td>\n      <td id=\"T_9b978_row27_col9\" class=\"data row27 col9\" >0.036020</td>\n      <td id=\"T_9b978_row27_col10\" class=\"data row27 col10\" >0.033317</td>\n      <td id=\"T_9b978_row27_col11\" class=\"data row27 col11\" >0.006461</td>\n      <td id=\"T_9b978_row27_col12\" class=\"data row27 col12\" >0.054185</td>\n      <td id=\"T_9b978_row27_col13\" class=\"data row27 col13\" >0.017478</td>\n      <td id=\"T_9b978_row27_col14\" class=\"data row27 col14\" >0.012020</td>\n      <td id=\"T_9b978_row27_col15\" class=\"data row27 col15\" >0.033945</td>\n      <td id=\"T_9b978_row27_col16\" class=\"data row27 col16\" >0.023311</td>\n      <td id=\"T_9b978_row27_col17\" class=\"data row27 col17\" >0.064993</td>\n      <td id=\"T_9b978_row27_col18\" class=\"data row27 col18\" >0.048275</td>\n      <td id=\"T_9b978_row27_col19\" class=\"data row27 col19\" >0.051967</td>\n      <td id=\"T_9b978_row27_col20\" class=\"data row27 col20\" >0.015452</td>\n      <td id=\"T_9b978_row27_col21\" class=\"data row27 col21\" >0.003053</td>\n      <td id=\"T_9b978_row27_col22\" class=\"data row27 col22\" >0.089127</td>\n      <td id=\"T_9b978_row27_col23\" class=\"data row27 col23\" >0.055809</td>\n      <td id=\"T_9b978_row27_col24\" class=\"data row27 col24\" >0.018163</td>\n      <td id=\"T_9b978_row27_col25\" class=\"data row27 col25\" >0.006234</td>\n      <td id=\"T_9b978_row27_col26\" class=\"data row27 col26\" >0.090917</td>\n      <td id=\"T_9b978_row27_col27\" class=\"data row27 col27\" >1.000000</td>\n      <td id=\"T_9b978_row27_col28\" class=\"data row27 col28\" >0.053292</td>\n      <td id=\"T_9b978_row27_col29\" class=\"data row27 col29\" >0.017619</td>\n    </tr>\n    <tr>\n      <th id=\"T_9b978_level0_row28\" class=\"row_heading level0 row28\" >MiscVal</th>\n      <td id=\"T_9b978_row28_col0\" class=\"data row28 col0\" >0.036050</td>\n      <td id=\"T_9b978_row28_col1\" class=\"data row28 col1\" >0.002960</td>\n      <td id=\"T_9b978_row28_col2\" class=\"data row28 col2\" >0.036760</td>\n      <td id=\"T_9b978_row28_col3\" class=\"data row28 col3\" >0.013309</td>\n      <td id=\"T_9b978_row28_col4\" class=\"data row28 col4\" >0.023447</td>\n      <td id=\"T_9b978_row28_col5\" class=\"data row28 col5\" >0.007651</td>\n      <td id=\"T_9b978_row28_col6\" class=\"data row28 col6\" >0.007202</td>\n      <td id=\"T_9b978_row28_col7\" class=\"data row28 col7\" >0.018741</td>\n      <td id=\"T_9b978_row28_col8\" class=\"data row28 col8\" >0.014364</td>\n      <td id=\"T_9b978_row28_col9\" class=\"data row28 col9\" >0.016120</td>\n      <td id=\"T_9b978_row28_col10\" class=\"data row28 col10\" >0.010921</td>\n      <td id=\"T_9b978_row28_col11\" class=\"data row28 col11\" >0.001878</td>\n      <td id=\"T_9b978_row28_col12\" class=\"data row28 col12\" >0.021394</td>\n      <td id=\"T_9b978_row28_col13\" class=\"data row28 col13\" >0.020331</td>\n      <td id=\"T_9b978_row28_col14\" class=\"data row28 col14\" >0.000759</td>\n      <td id=\"T_9b978_row28_col15\" class=\"data row28 col15\" >0.022449</td>\n      <td id=\"T_9b978_row28_col16\" class=\"data row28 col16\" >0.034605</td>\n      <td id=\"T_9b978_row28_col17\" class=\"data row28 col17\" >0.005667</td>\n      <td id=\"T_9b978_row28_col18\" class=\"data row28 col18\" >0.013891</td>\n      <td id=\"T_9b978_row28_col19\" class=\"data row28 col19\" >0.005460</td>\n      <td id=\"T_9b978_row28_col20\" class=\"data row28 col20\" >0.040296</td>\n      <td id=\"T_9b978_row28_col21\" class=\"data row28 col21\" >0.027444</td>\n      <td id=\"T_9b978_row28_col22\" class=\"data row28 col22\" >0.020966</td>\n      <td id=\"T_9b978_row28_col23\" class=\"data row28 col23\" >0.008969</td>\n      <td id=\"T_9b978_row28_col24\" class=\"data row28 col24\" >0.010579</td>\n      <td id=\"T_9b978_row28_col25\" class=\"data row28 col25\" >0.003176</td>\n      <td id=\"T_9b978_row28_col26\" class=\"data row28 col26\" >0.038136</td>\n      <td id=\"T_9b978_row28_col27\" class=\"data row28 col27\" >0.053292</td>\n      <td id=\"T_9b978_row28_col28\" class=\"data row28 col28\" >1.000000</td>\n      <td id=\"T_9b978_row28_col29\" class=\"data row28 col29\" >0.014741</td>\n    </tr>\n    <tr>\n      <th id=\"T_9b978_level0_row29\" class=\"row_heading level0 row29\" >MoSold</th>\n      <td id=\"T_9b978_row29_col0\" class=\"data row29 col0\" >0.013503</td>\n      <td id=\"T_9b978_row29_col1\" class=\"data row29 col1\" >0.037551</td>\n      <td id=\"T_9b978_row29_col2\" class=\"data row29 col2\" >0.022075</td>\n      <td id=\"T_9b978_row29_col3\" class=\"data row29 col3\" >0.070437</td>\n      <td id=\"T_9b978_row29_col4\" class=\"data row29 col4\" >0.007879</td>\n      <td id=\"T_9b978_row29_col5\" class=\"data row29 col5\" >0.031080</td>\n      <td id=\"T_9b978_row29_col6\" class=\"data row29 col6\" >0.001417</td>\n      <td id=\"T_9b978_row29_col7\" class=\"data row29 col7\" >0.013782</td>\n      <td id=\"T_9b978_row29_col8\" class=\"data row29 col8\" >0.045814</td>\n      <td id=\"T_9b978_row29_col9\" class=\"data row29 col9\" >0.056320</td>\n      <td id=\"T_9b978_row29_col10\" class=\"data row29 col10\" >0.018358</td>\n      <td id=\"T_9b978_row29_col11\" class=\"data row29 col11\" >0.016124</td>\n      <td id=\"T_9b978_row29_col12\" class=\"data row29 col12\" >0.055803</td>\n      <td id=\"T_9b978_row29_col13\" class=\"data row29 col13\" >0.010656</td>\n      <td id=\"T_9b978_row29_col14\" class=\"data row29 col14\" >0.055193</td>\n      <td id=\"T_9b978_row29_col15\" class=\"data row29 col15\" >0.050210</td>\n      <td id=\"T_9b978_row29_col16\" class=\"data row29 col16\" >0.014892</td>\n      <td id=\"T_9b978_row29_col17\" class=\"data row29 col17\" >0.046009</td>\n      <td id=\"T_9b978_row29_col18\" class=\"data row29 col18\" >0.023201</td>\n      <td id=\"T_9b978_row29_col19\" class=\"data row29 col19\" >0.053871</td>\n      <td id=\"T_9b978_row29_col20\" class=\"data row29 col20\" >0.045202</td>\n      <td id=\"T_9b978_row29_col21\" class=\"data row29 col21\" >0.041960</td>\n      <td id=\"T_9b978_row29_col22\" class=\"data row29 col22\" >0.021161</td>\n      <td id=\"T_9b978_row29_col23\" class=\"data row29 col23\" >0.080263</td>\n      <td id=\"T_9b978_row29_col24\" class=\"data row29 col24\" >0.014660</td>\n      <td id=\"T_9b978_row29_col25\" class=\"data row29 col25\" >0.038176</td>\n      <td id=\"T_9b978_row29_col26\" class=\"data row29 col26\" >0.021636</td>\n      <td id=\"T_9b978_row29_col27\" class=\"data row29 col27\" >0.017619</td>\n      <td id=\"T_9b978_row29_col28\" class=\"data row29 col28\" >0.014741</td>\n      <td id=\"T_9b978_row29_col29\" class=\"data row29 col29\" >1.000000</td>\n    </tr>\n  </tbody>\n</table>\n"
     },
     "execution_count": 14,
     "metadata": {},
     "output_type": "execute_result"
    }
   ],
   "metadata": {
    "execution": {
     "iopub.execute_input": "2020-12-26T08:18:07.091282Z",
     "iopub.status.busy": "2020-12-26T08:18:07.090331Z",
     "iopub.status.idle": "2020-12-26T08:18:07.268352Z",
     "shell.execute_reply": "2020-12-26T08:18:07.268890Z"
    },
    "papermill": {
     "duration": 0.238718,
     "end_time": "2020-12-26T08:18:07.269039",
     "exception": false,
     "start_time": "2020-12-26T08:18:07.030321",
     "status": "completed"
    },
    "tags": [],
    "pycharm": {
     "name": "#%%\n"
    }
   }
  },
  {
   "cell_type": "markdown",
   "source": [
    "We see that few features are correlated to each other. So, we have to drop them."
   ],
   "metadata": {
    "papermill": {
     "duration": 0.033964,
     "end_time": "2020-12-26T08:18:07.342732",
     "exception": false,
     "start_time": "2020-12-26T08:18:07.308768",
     "status": "completed"
    },
    "tags": [],
    "pycharm": {
     "name": "#%% md\n"
    }
   }
  },
  {
   "cell_type": "code",
   "execution_count": 15,
   "source": [
    "highly_correlated_name = dict()\n",
    "highly_correlated_index = list()\n",
    "visited = set()\n",
    "\n",
    "\n",
    "for i in range(len(correlation.columns)):\n",
    "    for j in range(len(correlation.columns)):\n",
    "        if correlation.columns[i] != correlation.columns[j] and correlation.columns[i] not in visited and np.abs(correlation.loc[correlation.columns[i],correlation.columns[j]]) >=0.85:\n",
    "            highly_correlated_name[correlation.columns[i]]=correlation.columns[j]\n",
    "            highly_correlated_index.append(i)\n",
    "            visited.update([correlation.columns[i],correlation.columns[j]])\n",
    "\n",
    "num_imputed_highVar_scaled_noCorr = num_imputed_highVar_scaled.drop(highly_correlated_name.keys(), axis=1)\n",
    "numeric_preprocessed = num_imputed_highVar_scaled_noCorr.copy()"
   ],
   "outputs": [],
   "metadata": {
    "execution": {
     "iopub.execute_input": "2020-12-26T08:18:07.443639Z",
     "iopub.status.busy": "2020-12-26T08:18:07.442841Z",
     "iopub.status.idle": "2020-12-26T08:18:07.446768Z",
     "shell.execute_reply": "2020-12-26T08:18:07.446120Z"
    },
    "papermill": {
     "duration": 0.070453,
     "end_time": "2020-12-26T08:18:07.446878",
     "exception": false,
     "start_time": "2020-12-26T08:18:07.376425",
     "status": "completed"
    },
    "tags": [],
    "pycharm": {
     "name": "#%%\n"
    }
   }
  },
  {
   "cell_type": "markdown",
   "source": [
    "Now we have done\n",
    "- Drop 'Id'\n",
    "- Imputer  ->  **Imputer Obj.**\n",
    "- Filter out very low variance  ->  **sel_col Mask**\n",
    "- Standard scale  ->  **scaler Obj.**\n",
    "- Drop highly correlated columns  ->  **highly_correlated Dict**"
   ],
   "metadata": {
    "papermill": {
     "duration": 0.034087,
     "end_time": "2020-12-26T08:18:07.515278",
     "exception": false,
     "start_time": "2020-12-26T08:18:07.481191",
     "status": "completed"
    },
    "tags": [],
    "pycharm": {
     "name": "#%% md\n"
    }
   }
  },
  {
   "cell_type": "markdown",
   "source": [
    "# Categorical features"
   ],
   "metadata": {
    "papermill": {
     "duration": 0.033294,
     "end_time": "2020-12-26T08:18:07.582561",
     "exception": false,
     "start_time": "2020-12-26T08:18:07.549267",
     "status": "completed"
    },
    "tags": [],
    "pycharm": {
     "name": "#%% md\n"
    }
   }
  },
  {
   "cell_type": "markdown",
   "source": [
    "## 1) Missing values"
   ],
   "metadata": {
    "papermill": {
     "duration": 0.034321,
     "end_time": "2020-12-26T08:18:07.651167",
     "exception": false,
     "start_time": "2020-12-26T08:18:07.616846",
     "status": "completed"
    },
    "tags": [],
    "pycharm": {
     "name": "#%% md\n"
    }
   }
  },
  {
   "cell_type": "code",
   "execution_count": 16,
   "source": [
    "missing = pd.DataFrame(cat.isnull().sum()/len(cat), columns=['NaN'])\n",
    "missing.style.background_gradient(cmap=cm)"
   ],
   "outputs": [
    {
     "data": {
      "text/plain": "<pandas.io.formats.style.Styler at 0x7fb1bc2bfb10>",
      "text/html": "<style type=\"text/css\">\n#T_ee557_row0_col0, #T_ee557_row1_col0, #T_ee557_row3_col0, #T_ee557_row4_col0, #T_ee557_row5_col0, #T_ee557_row6_col0, #T_ee557_row7_col0, #T_ee557_row8_col0, #T_ee557_row9_col0, #T_ee557_row10_col0, #T_ee557_row11_col0, #T_ee557_row12_col0, #T_ee557_row13_col0, #T_ee557_row14_col0, #T_ee557_row15_col0, #T_ee557_row16_col0, #T_ee557_row18_col0, #T_ee557_row19_col0, #T_ee557_row20_col0, #T_ee557_row26_col0, #T_ee557_row27_col0, #T_ee557_row28_col0, #T_ee557_row29_col0, #T_ee557_row30_col0, #T_ee557_row31_col0, #T_ee557_row37_col0, #T_ee557_row41_col0, #T_ee557_row42_col0 {\n  background-color: #ebf3eb;\n  color: #000000;\n}\n#T_ee557_row2_col0 {\n  background-color: #0f870f;\n  color: #f1f1f1;\n}\n#T_ee557_row17_col0 {\n  background-color: #eaf2ea;\n  color: #000000;\n}\n#T_ee557_row21_col0, #T_ee557_row22_col0, #T_ee557_row24_col0 {\n  background-color: #e5f0e5;\n  color: #000000;\n}\n#T_ee557_row23_col0, #T_ee557_row25_col0 {\n  background-color: #e4f0e4;\n  color: #000000;\n}\n#T_ee557_row32_col0 {\n  background-color: #78bb78;\n  color: #000000;\n}\n#T_ee557_row33_col0, #T_ee557_row34_col0, #T_ee557_row35_col0, #T_ee557_row36_col0 {\n  background-color: #deedde;\n  color: #000000;\n}\n#T_ee557_row38_col0 {\n  background-color: #008000;\n  color: #f1f1f1;\n}\n#T_ee557_row39_col0 {\n  background-color: #2b952b;\n  color: #f1f1f1;\n}\n#T_ee557_row40_col0 {\n  background-color: #078407;\n  color: #f1f1f1;\n}\n</style>\n<table id=\"T_ee557_\">\n  <thead>\n    <tr>\n      <th class=\"blank level0\" >&nbsp;</th>\n      <th class=\"col_heading level0 col0\" >NaN</th>\n    </tr>\n  </thead>\n  <tbody>\n    <tr>\n      <th id=\"T_ee557_level0_row0\" class=\"row_heading level0 row0\" >MSZoning</th>\n      <td id=\"T_ee557_row0_col0\" class=\"data row0 col0\" >0.000000</td>\n    </tr>\n    <tr>\n      <th id=\"T_ee557_level0_row1\" class=\"row_heading level0 row1\" >Street</th>\n      <td id=\"T_ee557_row1_col0\" class=\"data row1 col0\" >0.000000</td>\n    </tr>\n    <tr>\n      <th id=\"T_ee557_level0_row2\" class=\"row_heading level0 row2\" >Alley</th>\n      <td id=\"T_ee557_row2_col0\" class=\"data row2 col0\" >0.934075</td>\n    </tr>\n    <tr>\n      <th id=\"T_ee557_level0_row3\" class=\"row_heading level0 row3\" >LotShape</th>\n      <td id=\"T_ee557_row3_col0\" class=\"data row3 col0\" >0.000000</td>\n    </tr>\n    <tr>\n      <th id=\"T_ee557_level0_row4\" class=\"row_heading level0 row4\" >LandContour</th>\n      <td id=\"T_ee557_row4_col0\" class=\"data row4 col0\" >0.000000</td>\n    </tr>\n    <tr>\n      <th id=\"T_ee557_level0_row5\" class=\"row_heading level0 row5\" >Utilities</th>\n      <td id=\"T_ee557_row5_col0\" class=\"data row5 col0\" >0.000000</td>\n    </tr>\n    <tr>\n      <th id=\"T_ee557_level0_row6\" class=\"row_heading level0 row6\" >LotConfig</th>\n      <td id=\"T_ee557_row6_col0\" class=\"data row6 col0\" >0.000000</td>\n    </tr>\n    <tr>\n      <th id=\"T_ee557_level0_row7\" class=\"row_heading level0 row7\" >LandSlope</th>\n      <td id=\"T_ee557_row7_col0\" class=\"data row7 col0\" >0.000000</td>\n    </tr>\n    <tr>\n      <th id=\"T_ee557_level0_row8\" class=\"row_heading level0 row8\" >Neighborhood</th>\n      <td id=\"T_ee557_row8_col0\" class=\"data row8 col0\" >0.000000</td>\n    </tr>\n    <tr>\n      <th id=\"T_ee557_level0_row9\" class=\"row_heading level0 row9\" >Condition1</th>\n      <td id=\"T_ee557_row9_col0\" class=\"data row9 col0\" >0.000000</td>\n    </tr>\n    <tr>\n      <th id=\"T_ee557_level0_row10\" class=\"row_heading level0 row10\" >Condition2</th>\n      <td id=\"T_ee557_row10_col0\" class=\"data row10 col0\" >0.000000</td>\n    </tr>\n    <tr>\n      <th id=\"T_ee557_level0_row11\" class=\"row_heading level0 row11\" >BldgType</th>\n      <td id=\"T_ee557_row11_col0\" class=\"data row11 col0\" >0.000000</td>\n    </tr>\n    <tr>\n      <th id=\"T_ee557_level0_row12\" class=\"row_heading level0 row12\" >HouseStyle</th>\n      <td id=\"T_ee557_row12_col0\" class=\"data row12 col0\" >0.000000</td>\n    </tr>\n    <tr>\n      <th id=\"T_ee557_level0_row13\" class=\"row_heading level0 row13\" >RoofStyle</th>\n      <td id=\"T_ee557_row13_col0\" class=\"data row13 col0\" >0.000000</td>\n    </tr>\n    <tr>\n      <th id=\"T_ee557_level0_row14\" class=\"row_heading level0 row14\" >RoofMatl</th>\n      <td id=\"T_ee557_row14_col0\" class=\"data row14 col0\" >0.000000</td>\n    </tr>\n    <tr>\n      <th id=\"T_ee557_level0_row15\" class=\"row_heading level0 row15\" >Exterior1st</th>\n      <td id=\"T_ee557_row15_col0\" class=\"data row15 col0\" >0.000000</td>\n    </tr>\n    <tr>\n      <th id=\"T_ee557_level0_row16\" class=\"row_heading level0 row16\" >Exterior2nd</th>\n      <td id=\"T_ee557_row16_col0\" class=\"data row16 col0\" >0.000000</td>\n    </tr>\n    <tr>\n      <th id=\"T_ee557_level0_row17\" class=\"row_heading level0 row17\" >MasVnrType</th>\n      <td id=\"T_ee557_row17_col0\" class=\"data row17 col0\" >0.005993</td>\n    </tr>\n    <tr>\n      <th id=\"T_ee557_level0_row18\" class=\"row_heading level0 row18\" >ExterQual</th>\n      <td id=\"T_ee557_row18_col0\" class=\"data row18 col0\" >0.000000</td>\n    </tr>\n    <tr>\n      <th id=\"T_ee557_level0_row19\" class=\"row_heading level0 row19\" >ExterCond</th>\n      <td id=\"T_ee557_row19_col0\" class=\"data row19 col0\" >0.000000</td>\n    </tr>\n    <tr>\n      <th id=\"T_ee557_level0_row20\" class=\"row_heading level0 row20\" >Foundation</th>\n      <td id=\"T_ee557_row20_col0\" class=\"data row20 col0\" >0.000000</td>\n    </tr>\n    <tr>\n      <th id=\"T_ee557_level0_row21\" class=\"row_heading level0 row21\" >BsmtQual</th>\n      <td id=\"T_ee557_row21_col0\" class=\"data row21 col0\" >0.026541</td>\n    </tr>\n    <tr>\n      <th id=\"T_ee557_level0_row22\" class=\"row_heading level0 row22\" >BsmtCond</th>\n      <td id=\"T_ee557_row22_col0\" class=\"data row22 col0\" >0.026541</td>\n    </tr>\n    <tr>\n      <th id=\"T_ee557_level0_row23\" class=\"row_heading level0 row23\" >BsmtExposure</th>\n      <td id=\"T_ee557_row23_col0\" class=\"data row23 col0\" >0.027397</td>\n    </tr>\n    <tr>\n      <th id=\"T_ee557_level0_row24\" class=\"row_heading level0 row24\" >BsmtFinType1</th>\n      <td id=\"T_ee557_row24_col0\" class=\"data row24 col0\" >0.026541</td>\n    </tr>\n    <tr>\n      <th id=\"T_ee557_level0_row25\" class=\"row_heading level0 row25\" >BsmtFinType2</th>\n      <td id=\"T_ee557_row25_col0\" class=\"data row25 col0\" >0.027397</td>\n    </tr>\n    <tr>\n      <th id=\"T_ee557_level0_row26\" class=\"row_heading level0 row26\" >Heating</th>\n      <td id=\"T_ee557_row26_col0\" class=\"data row26 col0\" >0.000000</td>\n    </tr>\n    <tr>\n      <th id=\"T_ee557_level0_row27\" class=\"row_heading level0 row27\" >HeatingQC</th>\n      <td id=\"T_ee557_row27_col0\" class=\"data row27 col0\" >0.000000</td>\n    </tr>\n    <tr>\n      <th id=\"T_ee557_level0_row28\" class=\"row_heading level0 row28\" >CentralAir</th>\n      <td id=\"T_ee557_row28_col0\" class=\"data row28 col0\" >0.000000</td>\n    </tr>\n    <tr>\n      <th id=\"T_ee557_level0_row29\" class=\"row_heading level0 row29\" >Electrical</th>\n      <td id=\"T_ee557_row29_col0\" class=\"data row29 col0\" >0.000856</td>\n    </tr>\n    <tr>\n      <th id=\"T_ee557_level0_row30\" class=\"row_heading level0 row30\" >KitchenQual</th>\n      <td id=\"T_ee557_row30_col0\" class=\"data row30 col0\" >0.000000</td>\n    </tr>\n    <tr>\n      <th id=\"T_ee557_level0_row31\" class=\"row_heading level0 row31\" >Functional</th>\n      <td id=\"T_ee557_row31_col0\" class=\"data row31 col0\" >0.000000</td>\n    </tr>\n    <tr>\n      <th id=\"T_ee557_level0_row32\" class=\"row_heading level0 row32\" >FireplaceQu</th>\n      <td id=\"T_ee557_row32_col0\" class=\"data row32 col0\" >0.484589</td>\n    </tr>\n    <tr>\n      <th id=\"T_ee557_level0_row33\" class=\"row_heading level0 row33\" >GarageType</th>\n      <td id=\"T_ee557_row33_col0\" class=\"data row33 col0\" >0.056507</td>\n    </tr>\n    <tr>\n      <th id=\"T_ee557_level0_row34\" class=\"row_heading level0 row34\" >GarageFinish</th>\n      <td id=\"T_ee557_row34_col0\" class=\"data row34 col0\" >0.056507</td>\n    </tr>\n    <tr>\n      <th id=\"T_ee557_level0_row35\" class=\"row_heading level0 row35\" >GarageQual</th>\n      <td id=\"T_ee557_row35_col0\" class=\"data row35 col0\" >0.056507</td>\n    </tr>\n    <tr>\n      <th id=\"T_ee557_level0_row36\" class=\"row_heading level0 row36\" >GarageCond</th>\n      <td id=\"T_ee557_row36_col0\" class=\"data row36 col0\" >0.056507</td>\n    </tr>\n    <tr>\n      <th id=\"T_ee557_level0_row37\" class=\"row_heading level0 row37\" >PavedDrive</th>\n      <td id=\"T_ee557_row37_col0\" class=\"data row37 col0\" >0.000000</td>\n    </tr>\n    <tr>\n      <th id=\"T_ee557_level0_row38\" class=\"row_heading level0 row38\" >PoolQC</th>\n      <td id=\"T_ee557_row38_col0\" class=\"data row38 col0\" >0.997432</td>\n    </tr>\n    <tr>\n      <th id=\"T_ee557_level0_row39\" class=\"row_heading level0 row39\" >Fence</th>\n      <td id=\"T_ee557_row39_col0\" class=\"data row39 col0\" >0.812500</td>\n    </tr>\n    <tr>\n      <th id=\"T_ee557_level0_row40\" class=\"row_heading level0 row40\" >MiscFeature</th>\n      <td id=\"T_ee557_row40_col0\" class=\"data row40 col0\" >0.963185</td>\n    </tr>\n    <tr>\n      <th id=\"T_ee557_level0_row41\" class=\"row_heading level0 row41\" >SaleType</th>\n      <td id=\"T_ee557_row41_col0\" class=\"data row41 col0\" >0.000000</td>\n    </tr>\n    <tr>\n      <th id=\"T_ee557_level0_row42\" class=\"row_heading level0 row42\" >SaleCondition</th>\n      <td id=\"T_ee557_row42_col0\" class=\"data row42 col0\" >0.000000</td>\n    </tr>\n  </tbody>\n</table>\n"
     },
     "execution_count": 16,
     "metadata": {},
     "output_type": "execute_result"
    }
   ],
   "metadata": {
    "execution": {
     "iopub.execute_input": "2020-12-26T08:18:07.737820Z",
     "iopub.status.busy": "2020-12-26T08:18:07.733081Z",
     "iopub.status.idle": "2020-12-26T08:18:07.750781Z",
     "shell.execute_reply": "2020-12-26T08:18:07.751436Z"
    },
    "papermill": {
     "duration": 0.066206,
     "end_time": "2020-12-26T08:18:07.751594",
     "exception": false,
     "start_time": "2020-12-26T08:18:07.685388",
     "status": "completed"
    },
    "tags": [],
    "pycharm": {
     "name": "#%%\n"
    }
   }
  },
  {
   "cell_type": "markdown",
   "source": [
    "We saw that few features are missing too much. So, we'll drop them."
   ],
   "metadata": {
    "papermill": {
     "duration": 0.035053,
     "end_time": "2020-12-26T08:18:07.822926",
     "exception": false,
     "start_time": "2020-12-26T08:18:07.787873",
     "status": "completed"
    },
    "tags": [],
    "pycharm": {
     "name": "#%% md\n"
    }
   }
  },
  {
   "cell_type": "code",
   "execution_count": 17,
   "source": [
    "to_drop_cat = missing[missing['NaN']>=0.47]\n",
    "cat_dropTooMiss = cat.drop(to_drop_cat.index, axis=1)"
   ],
   "outputs": [],
   "metadata": {
    "execution": {
     "iopub.execute_input": "2020-12-26T08:18:07.897678Z",
     "iopub.status.busy": "2020-12-26T08:18:07.897014Z",
     "iopub.status.idle": "2020-12-26T08:18:07.902989Z",
     "shell.execute_reply": "2020-12-26T08:18:07.903472Z"
    },
    "papermill": {
     "duration": 0.045305,
     "end_time": "2020-12-26T08:18:07.903623",
     "exception": false,
     "start_time": "2020-12-26T08:18:07.858318",
     "status": "completed"
    },
    "tags": [],
    "pycharm": {
     "name": "#%%\n"
    }
   }
  },
  {
   "cell_type": "markdown",
   "source": [
    "## 2) Fill 'No'\n",
    "After dropping those columns, remaining columns still have few missing value. <br>\n",
    "We'll create a new class for them ('No')"
   ],
   "metadata": {
    "papermill": {
     "duration": 0.039801,
     "end_time": "2020-12-26T08:18:07.979101",
     "exception": false,
     "start_time": "2020-12-26T08:18:07.939300",
     "status": "completed"
    },
    "tags": [],
    "pycharm": {
     "name": "#%% md\n"
    }
   }
  },
  {
   "cell_type": "code",
   "execution_count": 18,
   "source": [
    "cat_dropTooMiss_replaceNo = cat_dropTooMiss.fillna('No')"
   ],
   "outputs": [],
   "metadata": {
    "execution": {
     "iopub.execute_input": "2020-12-26T08:18:08.066517Z",
     "iopub.status.busy": "2020-12-26T08:18:08.065597Z",
     "iopub.status.idle": "2020-12-26T08:18:08.079550Z",
     "shell.execute_reply": "2020-12-26T08:18:08.080156Z"
    },
    "papermill": {
     "duration": 0.065576,
     "end_time": "2020-12-26T08:18:08.080292",
     "exception": false,
     "start_time": "2020-12-26T08:18:08.014716",
     "status": "completed"
    },
    "tags": [],
    "pycharm": {
     "name": "#%%\n"
    }
   }
  },
  {
   "cell_type": "markdown",
   "source": [
    "Then we need to add 'No' to reference dataset for OneHotEncoder to have OneHotEncoder familiar with new added class."
   ],
   "metadata": {
    "papermill": {
     "duration": 0.035093,
     "end_time": "2020-12-26T08:18:08.150971",
     "exception": false,
     "start_time": "2020-12-26T08:18:08.115878",
     "status": "completed"
    },
    "tags": [],
    "pycharm": {
     "name": "#%% md\n"
    }
   }
  },
  {
   "cell_type": "code",
   "execution_count": 19,
   "source": [
    "No = pd.DataFrame(['No' for i in range(len(cat_dropTooMiss_replaceNo.columns))],cat_dropTooMiss_replaceNo.columns)\n",
    "cat_dropTooMiss_replaceNo_forOHE = cat_dropTooMiss_replaceNo.append(No.T, ignore_index=True)\n",
    "\n",
    "cat_dropTooMiss_replaceNo_forOHE.tail(3)"
   ],
   "outputs": [
    {
     "data": {
      "text/plain": "     MSZoning Street LotShape LandContour Utilities LotConfig LandSlope  \\\n1166       RL   Pave      Reg         Lvl    AllPub    Inside       Gtl   \n1167       RL   Pave      Reg         Lvl    AllPub    Inside       Gtl   \n1168       No     No       No          No        No        No        No   \n\n     Neighborhood Condition1 Condition2  ... Electrical KitchenQual  \\\n1166      Gilbert       Norm       Norm  ...      SBrkr          Gd   \n1167      Mitchel      Feedr       Norm  ...      SBrkr          TA   \n1168           No         No         No  ...         No          No   \n\n     Functional GarageType GarageFinish GarageQual GarageCond PavedDrive  \\\n1166        Typ     Attchd          Fin         TA         TA          Y   \n1167        Typ         No           No         No         No          Y   \n1168         No         No           No         No         No         No   \n\n     SaleType SaleCondition  \n1166       WD        Normal  \n1167      New       Partial  \n1168       No            No  \n\n[3 rows x 38 columns]",
      "text/html": "<div>\n<style scoped>\n    .dataframe tbody tr th:only-of-type {\n        vertical-align: middle;\n    }\n\n    .dataframe tbody tr th {\n        vertical-align: top;\n    }\n\n    .dataframe thead th {\n        text-align: right;\n    }\n</style>\n<table border=\"1\" class=\"dataframe\">\n  <thead>\n    <tr style=\"text-align: right;\">\n      <th></th>\n      <th>MSZoning</th>\n      <th>Street</th>\n      <th>LotShape</th>\n      <th>LandContour</th>\n      <th>Utilities</th>\n      <th>LotConfig</th>\n      <th>LandSlope</th>\n      <th>Neighborhood</th>\n      <th>Condition1</th>\n      <th>Condition2</th>\n      <th>...</th>\n      <th>Electrical</th>\n      <th>KitchenQual</th>\n      <th>Functional</th>\n      <th>GarageType</th>\n      <th>GarageFinish</th>\n      <th>GarageQual</th>\n      <th>GarageCond</th>\n      <th>PavedDrive</th>\n      <th>SaleType</th>\n      <th>SaleCondition</th>\n    </tr>\n  </thead>\n  <tbody>\n    <tr>\n      <th>1166</th>\n      <td>RL</td>\n      <td>Pave</td>\n      <td>Reg</td>\n      <td>Lvl</td>\n      <td>AllPub</td>\n      <td>Inside</td>\n      <td>Gtl</td>\n      <td>Gilbert</td>\n      <td>Norm</td>\n      <td>Norm</td>\n      <td>...</td>\n      <td>SBrkr</td>\n      <td>Gd</td>\n      <td>Typ</td>\n      <td>Attchd</td>\n      <td>Fin</td>\n      <td>TA</td>\n      <td>TA</td>\n      <td>Y</td>\n      <td>WD</td>\n      <td>Normal</td>\n    </tr>\n    <tr>\n      <th>1167</th>\n      <td>RL</td>\n      <td>Pave</td>\n      <td>Reg</td>\n      <td>Lvl</td>\n      <td>AllPub</td>\n      <td>Inside</td>\n      <td>Gtl</td>\n      <td>Mitchel</td>\n      <td>Feedr</td>\n      <td>Norm</td>\n      <td>...</td>\n      <td>SBrkr</td>\n      <td>TA</td>\n      <td>Typ</td>\n      <td>No</td>\n      <td>No</td>\n      <td>No</td>\n      <td>No</td>\n      <td>Y</td>\n      <td>New</td>\n      <td>Partial</td>\n    </tr>\n    <tr>\n      <th>1168</th>\n      <td>No</td>\n      <td>No</td>\n      <td>No</td>\n      <td>No</td>\n      <td>No</td>\n      <td>No</td>\n      <td>No</td>\n      <td>No</td>\n      <td>No</td>\n      <td>No</td>\n      <td>...</td>\n      <td>No</td>\n      <td>No</td>\n      <td>No</td>\n      <td>No</td>\n      <td>No</td>\n      <td>No</td>\n      <td>No</td>\n      <td>No</td>\n      <td>No</td>\n      <td>No</td>\n    </tr>\n  </tbody>\n</table>\n<p>3 rows × 38 columns</p>\n</div>"
     },
     "execution_count": 19,
     "metadata": {},
     "output_type": "execute_result"
    }
   ],
   "metadata": {
    "execution": {
     "iopub.execute_input": "2020-12-26T08:18:08.224683Z",
     "iopub.status.busy": "2020-12-26T08:18:08.223714Z",
     "iopub.status.idle": "2020-12-26T08:18:08.257793Z",
     "shell.execute_reply": "2020-12-26T08:18:08.257262Z"
    },
    "papermill": {
     "duration": 0.071942,
     "end_time": "2020-12-26T08:18:08.257908",
     "exception": false,
     "start_time": "2020-12-26T08:18:08.185966",
     "status": "completed"
    },
    "tags": [],
    "pycharm": {
     "name": "#%%\n"
    }
   }
  },
  {
   "cell_type": "markdown",
   "source": [
    "## 3) One Hot encoding"
   ],
   "metadata": {
    "papermill": {
     "duration": 0.03561,
     "end_time": "2020-12-26T08:18:08.329808",
     "exception": false,
     "start_time": "2020-12-26T08:18:08.294198",
     "status": "completed"
    },
    "tags": [],
    "pycharm": {
     "name": "#%% md\n"
    }
   }
  },
  {
   "cell_type": "code",
   "execution_count": 20,
   "source": [
    "from sklearn.preprocessing import OneHotEncoder\n",
    "\n",
    "cat_all = data.select_dtypes(include='object')\n",
    "cat_all.drop(to_drop_cat.index, axis=1, inplace=True)\n",
    "cat_all.fillna('No', inplace=True)\n",
    "cat_all = cat_all.append(No.T, ignore_index=True)\n",
    "\n",
    "ohe = OneHotEncoder(sparse=False).fit(cat_all)\n",
    "ohe.categories_"
   ],
   "outputs": [
    {
     "data": {
      "text/plain": "[array(['C (all)', 'FV', 'No', 'RH', 'RL', 'RM'], dtype=object),\n array(['Grvl', 'No', 'Pave'], dtype=object),\n array(['IR1', 'IR2', 'IR3', 'No', 'Reg'], dtype=object),\n array(['Bnk', 'HLS', 'Low', 'Lvl', 'No'], dtype=object),\n array(['AllPub', 'No', 'NoSeWa'], dtype=object),\n array(['Corner', 'CulDSac', 'FR2', 'FR3', 'Inside', 'No'], dtype=object),\n array(['Gtl', 'Mod', 'No', 'Sev'], dtype=object),\n array(['Blmngtn', 'Blueste', 'BrDale', 'BrkSide', 'ClearCr', 'CollgCr',\n        'Crawfor', 'Edwards', 'Gilbert', 'IDOTRR', 'MeadowV', 'Mitchel',\n        'NAmes', 'NPkVill', 'NWAmes', 'No', 'NoRidge', 'NridgHt',\n        'OldTown', 'SWISU', 'Sawyer', 'SawyerW', 'Somerst', 'StoneBr',\n        'Timber', 'Veenker'], dtype=object),\n array(['Artery', 'Feedr', 'No', 'Norm', 'PosA', 'PosN', 'RRAe', 'RRAn',\n        'RRNe', 'RRNn'], dtype=object),\n array(['Artery', 'Feedr', 'No', 'Norm', 'PosA', 'PosN', 'RRAe', 'RRAn',\n        'RRNn'], dtype=object),\n array(['1Fam', '2fmCon', 'Duplex', 'No', 'Twnhs', 'TwnhsE'], dtype=object),\n array(['1.5Fin', '1.5Unf', '1Story', '2.5Fin', '2.5Unf', '2Story', 'No',\n        'SFoyer', 'SLvl'], dtype=object),\n array(['Flat', 'Gable', 'Gambrel', 'Hip', 'Mansard', 'No', 'Shed'],\n       dtype=object),\n array(['ClyTile', 'CompShg', 'Membran', 'Metal', 'No', 'Roll', 'Tar&Grv',\n        'WdShake', 'WdShngl'], dtype=object),\n array(['AsbShng', 'AsphShn', 'BrkComm', 'BrkFace', 'CBlock', 'CemntBd',\n        'HdBoard', 'ImStucc', 'MetalSd', 'No', 'Plywood', 'Stone',\n        'Stucco', 'VinylSd', 'Wd Sdng', 'WdShing'], dtype=object),\n array(['AsbShng', 'AsphShn', 'Brk Cmn', 'BrkFace', 'CBlock', 'CmentBd',\n        'HdBoard', 'ImStucc', 'MetalSd', 'No', 'Other', 'Plywood', 'Stone',\n        'Stucco', 'VinylSd', 'Wd Sdng', 'Wd Shng'], dtype=object),\n array(['BrkCmn', 'BrkFace', 'No', 'None', 'Stone'], dtype=object),\n array(['Ex', 'Fa', 'Gd', 'No', 'TA'], dtype=object),\n array(['Ex', 'Fa', 'Gd', 'No', 'Po', 'TA'], dtype=object),\n array(['BrkTil', 'CBlock', 'No', 'PConc', 'Slab', 'Stone', 'Wood'],\n       dtype=object),\n array(['Ex', 'Fa', 'Gd', 'No', 'TA'], dtype=object),\n array(['Fa', 'Gd', 'No', 'Po', 'TA'], dtype=object),\n array(['Av', 'Gd', 'Mn', 'No'], dtype=object),\n array(['ALQ', 'BLQ', 'GLQ', 'LwQ', 'No', 'Rec', 'Unf'], dtype=object),\n array(['ALQ', 'BLQ', 'GLQ', 'LwQ', 'No', 'Rec', 'Unf'], dtype=object),\n array(['Floor', 'GasA', 'GasW', 'Grav', 'No', 'OthW', 'Wall'],\n       dtype=object),\n array(['Ex', 'Fa', 'Gd', 'No', 'Po', 'TA'], dtype=object),\n array(['N', 'No', 'Y'], dtype=object),\n array(['FuseA', 'FuseF', 'FuseP', 'Mix', 'No', 'SBrkr'], dtype=object),\n array(['Ex', 'Fa', 'Gd', 'No', 'TA'], dtype=object),\n array(['Maj1', 'Maj2', 'Min1', 'Min2', 'Mod', 'No', 'Sev', 'Typ'],\n       dtype=object),\n array(['2Types', 'Attchd', 'Basment', 'BuiltIn', 'CarPort', 'Detchd',\n        'No'], dtype=object),\n array(['Fin', 'No', 'RFn', 'Unf'], dtype=object),\n array(['Ex', 'Fa', 'Gd', 'No', 'Po', 'TA'], dtype=object),\n array(['Ex', 'Fa', 'Gd', 'No', 'Po', 'TA'], dtype=object),\n array(['N', 'No', 'P', 'Y'], dtype=object),\n array(['COD', 'CWD', 'Con', 'ConLD', 'ConLI', 'ConLw', 'New', 'No', 'Oth',\n        'WD'], dtype=object),\n array(['Abnorml', 'AdjLand', 'Alloca', 'Family', 'No', 'Normal',\n        'Partial'], dtype=object)]"
     },
     "execution_count": 20,
     "metadata": {},
     "output_type": "execute_result"
    }
   ],
   "metadata": {
    "execution": {
     "iopub.execute_input": "2020-12-26T08:18:08.410411Z",
     "iopub.status.busy": "2020-12-26T08:18:08.408807Z",
     "iopub.status.idle": "2020-12-26T08:18:08.446055Z",
     "shell.execute_reply": "2020-12-26T08:18:08.445458Z"
    },
    "papermill": {
     "duration": 0.080742,
     "end_time": "2020-12-26T08:18:08.446168",
     "exception": false,
     "start_time": "2020-12-26T08:18:08.365426",
     "status": "completed"
    },
    "tags": [],
    "pycharm": {
     "name": "#%%\n"
    }
   }
  },
  {
   "cell_type": "code",
   "execution_count": 21,
   "source": [
    "cat_dropTooMiss_replaceNo_ohe = ohe.transform(cat_dropTooMiss_replaceNo)\n",
    "categorical_preprocessed = cat_dropTooMiss_replaceNo_ohe.copy()"
   ],
   "outputs": [],
   "metadata": {
    "execution": {
     "iopub.execute_input": "2020-12-26T08:18:08.538824Z",
     "iopub.status.busy": "2020-12-26T08:18:08.530622Z",
     "iopub.status.idle": "2020-12-26T08:18:08.557438Z",
     "shell.execute_reply": "2020-12-26T08:18:08.556836Z"
    },
    "papermill": {
     "duration": 0.074823,
     "end_time": "2020-12-26T08:18:08.557543",
     "exception": false,
     "start_time": "2020-12-26T08:18:08.482720",
     "status": "completed"
    },
    "tags": [],
    "pycharm": {
     "name": "#%%\n"
    }
   }
  },
  {
   "cell_type": "markdown",
   "source": [
    "Now we have done\n",
    "- Drop to many missing value  ->  **to_drop_cat**\n",
    "- Fill missing value with 'No' \n",
    "- One how encoding  ->  **ohe Obj.**"
   ],
   "metadata": {
    "papermill": {
     "duration": 0.03591,
     "end_time": "2020-12-26T08:18:08.629557",
     "exception": false,
     "start_time": "2020-12-26T08:18:08.593647",
     "status": "completed"
    },
    "tags": [],
    "pycharm": {
     "name": "#%% md\n"
    }
   }
  },
  {
   "cell_type": "markdown",
   "source": [
    "# Categorical + Numerical"
   ],
   "metadata": {
    "papermill": {
     "duration": 0.03639,
     "end_time": "2020-12-26T08:18:08.701727",
     "exception": false,
     "start_time": "2020-12-26T08:18:08.665337",
     "status": "completed"
    },
    "tags": [],
    "pycharm": {
     "name": "#%% md\n"
    }
   }
  },
  {
   "cell_type": "code",
   "execution_count": 22,
   "source": [
    "X_train_preprocessed = np.concatenate([categorical_preprocessed, numeric_preprocessed.values], axis=1)"
   ],
   "outputs": [],
   "metadata": {
    "execution": {
     "iopub.execute_input": "2020-12-26T08:18:08.782977Z",
     "iopub.status.busy": "2020-12-26T08:18:08.781813Z",
     "iopub.status.idle": "2020-12-26T08:18:08.787452Z",
     "shell.execute_reply": "2020-12-26T08:18:08.786975Z"
    },
    "papermill": {
     "duration": 0.047541,
     "end_time": "2020-12-26T08:18:08.787556",
     "exception": false,
     "start_time": "2020-12-26T08:18:08.740015",
     "status": "completed"
    },
    "tags": [],
    "pycharm": {
     "name": "#%%\n"
    }
   }
  },
  {
   "cell_type": "markdown",
   "source": [
    "Scale the target feature (y)"
   ],
   "metadata": {
    "papermill": {
     "duration": 0.041177,
     "end_time": "2020-12-26T08:18:08.864420",
     "exception": false,
     "start_time": "2020-12-26T08:18:08.823243",
     "status": "completed"
    },
    "tags": [],
    "pycharm": {
     "name": "#%% md\n"
    }
   }
  },
  {
   "cell_type": "code",
   "execution_count": 23,
   "source": [
    "y_scaler = StandardScaler().fit(y_train.values.reshape(-1,1))\n",
    "y_train_scaled = y_scaler.transform(y_train.values.reshape(-1,1))\n",
    "y_test_scaled = y_scaler.transform(y_test.values.reshape(-1,1))"
   ],
   "outputs": [],
   "metadata": {
    "execution": {
     "iopub.execute_input": "2020-12-26T08:18:08.939428Z",
     "iopub.status.busy": "2020-12-26T08:18:08.938794Z",
     "iopub.status.idle": "2020-12-26T08:18:08.941784Z",
     "shell.execute_reply": "2020-12-26T08:18:08.942274Z"
    },
    "papermill": {
     "duration": 0.043467,
     "end_time": "2020-12-26T08:18:08.942391",
     "exception": false,
     "start_time": "2020-12-26T08:18:08.898924",
     "status": "completed"
    },
    "tags": [],
    "pycharm": {
     "name": "#%%\n"
    }
   }
  },
  {
   "cell_type": "markdown",
   "source": [
    "Create PREPROCESS() function that summarize what we've done so far."
   ],
   "metadata": {
    "papermill": {
     "duration": 0.035293,
     "end_time": "2020-12-26T08:18:09.013219",
     "exception": false,
     "start_time": "2020-12-26T08:18:08.977926",
     "status": "completed"
    },
    "tags": [],
    "pycharm": {
     "name": "#%% md\n"
    }
   }
  },
  {
   "cell_type": "code",
   "execution_count": 24,
   "source": [
    "def PREPROCESS(DATA: pd.DataFrame):\n",
    "    num = DATA.select_dtypes(exclude='object')\n",
    "    cat = DATA.select_dtypes(include='object')\n",
    "    \n",
    "    # NUMERIC\n",
    "        # 0) Drop 'Id'\n",
    "    num.drop('Id', axis=1, inplace=True)\n",
    "        # 1) Impute\n",
    "    num_imputed = Imputer.transform(num)\n",
    "        # 2) Filter out very low variance\n",
    "    num_imputed_highVar = num_imputed[:,sel_col]\n",
    "        # 3) Standard scale\n",
    "    num_imputed_highVar_scaled = scaler.transform(num_imputed_highVar)\n",
    "        # 4) Drop highly correlated columns\n",
    "    num_imputed_highVar_scaled_noCorr = np.delete(num_imputed_highVar_scaled, highly_correlated_index, axis=1)\n",
    "    # Preprocessed\n",
    "    numeric_preprocessed = num_imputed_highVar_scaled_noCorr.copy()\n",
    "    \n",
    "    \n",
    "    # CATEGORICAL\n",
    "        # 0) Drop too many missing\n",
    "    cat_dropTooMiss = cat.drop(to_drop_cat.index, axis=1)\n",
    "        # 1) Fill remaining missing value with 'No'\n",
    "    cat_dropTooMiss_replaceNo = cat_dropTooMiss.fillna('No')\n",
    "        # 2) One hot encoding\n",
    "    cat_dropTooMiss_replaceNo_ohe = ohe.transform(cat_dropTooMiss_replaceNo)\n",
    "    # Preprocessed\n",
    "    categorical_preprocessed = cat_dropTooMiss_replaceNo_ohe.copy()\n",
    "    \n",
    "    return np.concatenate([categorical_preprocessed, numeric_preprocessed], axis=1)"
   ],
   "outputs": [],
   "metadata": {
    "execution": {
     "iopub.execute_input": "2020-12-26T08:18:09.087427Z",
     "iopub.status.busy": "2020-12-26T08:18:09.086890Z",
     "iopub.status.idle": "2020-12-26T08:18:09.095256Z",
     "shell.execute_reply": "2020-12-26T08:18:09.095796Z"
    },
    "papermill": {
     "duration": 0.046254,
     "end_time": "2020-12-26T08:18:09.095944",
     "exception": false,
     "start_time": "2020-12-26T08:18:09.049690",
     "status": "completed"
    },
    "tags": [],
    "pycharm": {
     "name": "#%%\n"
    }
   }
  },
  {
   "cell_type": "markdown",
   "source": [
    "Finally, let's preprocess the test set as well."
   ],
   "metadata": {
    "papermill": {
     "duration": 0.036594,
     "end_time": "2020-12-26T08:18:09.168195",
     "exception": false,
     "start_time": "2020-12-26T08:18:09.131601",
     "status": "completed"
    },
    "tags": [],
    "pycharm": {
     "name": "#%% md\n"
    }
   }
  },
  {
   "cell_type": "code",
   "execution_count": 25,
   "source": [
    "X_test_preprocessed = PREPROCESS(X_test)"
   ],
   "outputs": [],
   "metadata": {
    "execution": {
     "iopub.execute_input": "2020-12-26T08:18:09.244389Z",
     "iopub.status.busy": "2020-12-26T08:18:09.243822Z",
     "iopub.status.idle": "2020-12-26T08:18:09.272768Z",
     "shell.execute_reply": "2020-12-26T08:18:09.273395Z"
    },
    "papermill": {
     "duration": 0.068482,
     "end_time": "2020-12-26T08:18:09.273566",
     "exception": false,
     "start_time": "2020-12-26T08:18:09.205084",
     "status": "completed"
    },
    "tags": [],
    "pycharm": {
     "name": "#%%\n"
    }
   }
  },
  {
   "cell_type": "code",
   "execution_count": 26,
   "outputs": [
    {
     "data": {
      "text/plain": "array([[ 0.        ,  1.        ,  0.        , ..., -0.05024345,\n        -0.0773641 , -1.95109547],\n       [ 0.        ,  0.        ,  0.        , ..., -0.05024345,\n        -0.0773641 ,  0.2581915 ],\n       [ 0.        ,  0.        ,  0.        , ..., -0.05024345,\n        -0.0773641 , -0.110023  ],\n       ...,\n       [ 0.        ,  0.        ,  0.        , ..., -0.05024345,\n        -0.0773641 ,  0.62640599],\n       [ 0.        ,  0.        ,  0.        , ..., -0.05024345,\n        -0.0773641 ,  0.2581915 ],\n       [ 0.        ,  0.        ,  0.        , ..., -0.05024345,\n        -0.0773641 ,  0.2581915 ]])"
     },
     "execution_count": 26,
     "metadata": {},
     "output_type": "execute_result"
    }
   ],
   "source": [
    "X_test_preprocessed"
   ],
   "metadata": {
    "collapsed": false,
    "pycharm": {
     "name": "#%%\n"
    }
   }
  },
  {
   "cell_type": "code",
   "execution_count": 26,
   "outputs": [],
   "source": [],
   "metadata": {
    "collapsed": false,
    "pycharm": {
     "name": "#%%\n"
    }
   }
  }
 ],
 "metadata": {
  "kernelspec": {
   "name": "python3",
   "display_name": "Python 3.8.8 64-bit ('base': conda)"
  },
  "language_info": {
   "codemirror_mode": {
    "name": "ipython",
    "version": 3
   },
   "file_extension": ".py",
   "mimetype": "text/x-python",
   "name": "python",
   "nbconvert_exporter": "python",
   "pygments_lexer": "ipython3",
   "version": "3.8.8"
  },
  "papermill": {
   "duration": 9.494089,
   "end_time": "2020-12-26T08:18:09.417219",
   "environment_variables": {},
   "exception": null,
   "input_path": "__notebook__.ipynb",
   "output_path": "__notebook__.ipynb",
   "parameters": {},
   "start_time": "2020-12-26T08:17:59.923130",
   "version": "2.1.0"
  },
  "interpreter": {
   "hash": "4e7a58de4b7e505b0e82f0adcc21bb9621f61c2c1c0bdf66b0394a18a0c298a7"
  }
 },
 "nbformat": 4,
 "nbformat_minor": 4
}