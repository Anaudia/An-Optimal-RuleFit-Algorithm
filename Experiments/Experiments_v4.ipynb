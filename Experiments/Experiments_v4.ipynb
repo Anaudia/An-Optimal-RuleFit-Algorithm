{
 "cells": [
  {
   "cell_type": "code",
   "execution_count": 51,
   "id": "8d1d48a2",
   "metadata": {},
   "outputs": [],
   "source": [
    "# import linecache\n",
    "# from collections import Counter\n",
    "# import os\n",
    "# import tracemalloc\n",
    "#\n",
    "# def display_top(snapshot, key_type='lineno', limit=3):\n",
    "#     snapshot = snapshot.filter_traces((\n",
    "#         tracemalloc.Filter(False, \"<frozen importlib._bootstrap>\"),\n",
    "#         tracemalloc.Filter(False, \"<unknown>\"),\n",
    "#     ))\n",
    "#     top_stats = snapshot.statistics(key_type)\n",
    "#\n",
    "#     print(\"Top %s lines\" % limit)\n",
    "#     for index, stat in enumerate(top_stats[:limit], 1):\n",
    "#         frame = stat.traceback[0]\n",
    "#         # replace \"/path/to/module/file.py\" with \"module/file.py\"\n",
    "#         filename = os.sep.join(frame.filename.split(os.sep)[-2:])\n",
    "#         print(\"#%s: %s:%s: %.1f KiB\"\n",
    "#               % (index, filename, frame.lineno, stat.size / 1024))\n",
    "#         line = linecache.getline(frame.filename, frame.lineno).strip()\n",
    "#         if line:\n",
    "#             print('    %s' % line)\n",
    "#\n",
    "#     other = top_stats[limit:]\n",
    "#     if other:\n",
    "#         size = sum(stat.size for stat in other)\n",
    "#         print(\"%s other: %.1f KiB\" % (len(other), size / 1024))\n",
    "#     total = sum(stat.size for stat in top_stats)\n",
    "#     print(\"Total allocated size: %.1f KiB\" % (total / 1024))\n",
    "\n",
    "# tracemalloc.start()\n",
    "# counts = Counter()\n",
    "# experimentation(classification_dataset_names[0])\n",
    "# snapshot = tracemalloc.take_snapshot()\n",
    "# display_top(snapshot)"
   ]
  },
  {
   "cell_type": "code",
   "execution_count": 52,
   "id": "7306a81b",
   "metadata": {},
   "outputs": [],
   "source": [
    "from ex_func import *\n",
    "#from experiment_functions import *\n",
    "import pandas as pd\n",
    "from pmlb import fetch_data, classification_dataset_names\n",
    "from sklearn.model_selection import train_test_split\n",
    "from sklearn.preprocessing import StandardScaler\n",
    "from sklearn.svm import SVC\n",
    "from sklearn.naive_bayes import GaussianNB\n",
    "from sklearn.neighbors import KNeighborsClassifier\n",
    "from sklearn.ensemble import RandomForestClassifier\n",
    "from sklearn.feature_selection import SelectKBest, f_classif\n",
    "import pickle"
   ]
  },
  {
   "cell_type": "code",
   "execution_count": 53,
   "outputs": [
    {
     "data": {
      "text/plain": "['GAMETES_Epistasis_2_Way_1000atts_0.4H_EDM_1_EDM_1_1',\n 'GAMETES_Epistasis_2_Way_20atts_0.1H_EDM_1_1',\n 'GAMETES_Epistasis_2_Way_20atts_0.4H_EDM_1_1',\n 'GAMETES_Epistasis_3_Way_20atts_0.2H_EDM_1_1',\n 'GAMETES_Heterogeneity_20atts_1600_Het_0.4_0.2_50_EDM_2_001',\n 'GAMETES_Heterogeneity_20atts_1600_Het_0.4_0.2_75_EDM_2_001',\n 'Hill_Valley_with_noise',\n 'Hill_Valley_without_noise',\n 'adult',\n 'agaricus_lepiota',\n 'allbp',\n 'allhyper',\n 'allhypo',\n 'allrep',\n 'analcatdata_aids',\n 'analcatdata_asbestos',\n 'analcatdata_authorship',\n 'analcatdata_bankruptcy',\n 'analcatdata_boxing1',\n 'analcatdata_boxing2',\n 'analcatdata_creditscore',\n 'analcatdata_cyyoung8092',\n 'analcatdata_cyyoung9302',\n 'analcatdata_dmft',\n 'analcatdata_fraud',\n 'analcatdata_germangss',\n 'analcatdata_happiness',\n 'analcatdata_japansolvent',\n 'analcatdata_lawsuit',\n 'ann_thyroid',\n 'appendicitis',\n 'australian',\n 'auto',\n 'backache',\n 'balance_scale',\n 'biomed',\n 'breast',\n 'breast_cancer',\n 'breast_cancer_wisconsin',\n 'breast_w',\n 'buggyCrx',\n 'bupa',\n 'calendarDOW',\n 'car',\n 'car_evaluation',\n 'cars',\n 'chess',\n 'churn',\n 'clean1',\n 'clean2',\n 'cleve',\n 'cleveland',\n 'cleveland_nominal',\n 'cloud',\n 'cmc',\n 'coil2000',\n 'colic',\n 'collins',\n 'confidence',\n 'connect_4',\n 'contraceptive',\n 'corral',\n 'credit_a',\n 'credit_g',\n 'crx',\n 'dermatology',\n 'diabetes',\n 'dis',\n 'dna',\n 'ecoli',\n 'fars',\n 'flags',\n 'flare',\n 'german',\n 'glass',\n 'glass2',\n 'haberman',\n 'hayes_roth',\n 'heart_c',\n 'heart_h',\n 'heart_statlog',\n 'hepatitis',\n 'horse_colic',\n 'house_votes_84',\n 'hungarian',\n 'hypothyroid',\n 'ionosphere',\n 'iris',\n 'irish',\n 'kddcup',\n 'kr_vs_kp',\n 'krkopt',\n 'labor',\n 'led24',\n 'led7',\n 'letter',\n 'lupus',\n 'lymphography',\n 'magic',\n 'mfeat_factors',\n 'mfeat_fourier',\n 'mfeat_karhunen',\n 'mfeat_morphological',\n 'mfeat_pixel',\n 'mfeat_zernike',\n 'mnist',\n 'mofn_3_7_10',\n 'molecular_biology_promoters',\n 'monk1',\n 'monk2',\n 'monk3',\n 'movement_libras',\n 'mushroom',\n 'mux6',\n 'new_thyroid',\n 'nursery',\n 'optdigits',\n 'page_blocks',\n 'parity5',\n 'parity5+5',\n 'pendigits',\n 'penguins',\n 'phoneme',\n 'pima',\n 'poker',\n 'postoperative_patient_data',\n 'prnn_crabs',\n 'prnn_fglass',\n 'prnn_synth',\n 'profb',\n 'ring',\n 'saheart',\n 'satimage',\n 'schizo',\n 'segmentation',\n 'shuttle',\n 'sleep',\n 'solar_flare_1',\n 'solar_flare_2',\n 'sonar',\n 'soybean',\n 'spambase',\n 'spect',\n 'spectf',\n 'splice',\n 'tae',\n 'texture',\n 'threeOf9',\n 'tic_tac_toe',\n 'tokyo1',\n 'twonorm',\n 'vehicle',\n 'vote',\n 'vowel',\n 'waveform_21',\n 'waveform_40',\n 'wdbc',\n 'wine_quality_red',\n 'wine_quality_white',\n 'wine_recognition',\n 'xd6',\n 'yeast']"
     },
     "execution_count": 53,
     "metadata": {},
     "output_type": "execute_result"
    }
   ],
   "source": [
    "classification_dataset_names"
   ],
   "metadata": {
    "collapsed": false
   }
  },
  {
   "cell_type": "code",
   "execution_count": 54,
   "outputs": [],
   "source": [
    "classification_dataset_names = ['breast_cancer_wisconsin','dermatology','diabetes']"
   ],
   "metadata": {
    "collapsed": false
   }
  },
  {
   "cell_type": "code",
   "execution_count": 55,
   "outputs": [],
   "source": [
    "def get_feature_type(x, include_binary=False):\n",
    "    x.dropna(inplace=True)\n",
    "    if not check_if_all_integers(x):\n",
    "        return 'continuous'\n",
    "    else:\n",
    "        if x.nunique() > 10:\n",
    "            return 'continuous'\n",
    "        if include_binary:\n",
    "            if x.nunique() == 2:\n",
    "                return 'binary'\n",
    "        return 'categorical'\n",
    "\n",
    "def get_target_type(x, include_binary=False):\n",
    "    x.dropna(inplace=True)\n",
    "    if x.dtype=='float64':\n",
    "        return 'continuous'\n",
    "    elif x.dtype=='int64':\n",
    "        if include_binary:\n",
    "            if x.nunique() == 2:\n",
    "                return 'binary'\n",
    "        return 'categorical'\n",
    "    else:\n",
    "        raise ValueError(\"Error getting type\")\n",
    "\n",
    "def check_if_all_integers(x):\n",
    "    \"check a pandas.Series is made of all integers.\"\n",
    "    return all(float(i).is_integer() for i in x.unique())\n",
    "def corr_data_for(df):\n",
    "    TARGET_NAME = 'target'\n",
    "    feat_names = [col for col in df.columns if col!=TARGET_NAME]\n",
    "    types = [get_feature_type(df[col], include_binary=True) for col in feat_names]\n",
    "    col = pd.DataFrame(feat_names,types)\n",
    "    num_col = col[col.index == 'continuous']\n",
    "    bin_col = col[col.index == 'binary']\n",
    "    cat_col = col[col.index == 'categorical']\n",
    "    cat_col = cat_col[0].tolist()\n",
    "    dummy_col = pd.get_dummies(data=df, columns=cat_col)\n",
    "    add_col = dummy_col.shape[1] - df.shape[1]\n",
    "\n",
    "    if (add_col < df.shape[0] *0.3) & (dummy_col.shape[1] <  df.shape[0]) & (df.shape[0] < 10000) & (df.shape[1] < 100):\n",
    "        df = dummy_col\n",
    "        df.columns = df.columns.str.replace('.','_',regex=True)\n",
    "        y = df['target']\n",
    "        X = df.loc[:, df.columns != 'target']\n",
    "        del df\n",
    "        rows_data, columns_data = X.shape\n",
    "        print('Dataset Information')\n",
    "        print('Rows:',rows_data,)\n",
    "        print('Columns:',columns_data)\n",
    "        print('Number of classes:',y.nunique())\n",
    "        print('Continous columns:', len(num_col))\n",
    "        print('Binary columns:', len(bin_col))\n",
    "        print('Categorical columns:',len(cat_col))\n",
    "        print('-------------------------------------------------')\n",
    "    else:\n",
    "        del df\n",
    "        return pd.DataFrame, pd.DataFrame\n",
    "    return y, X"
   ],
   "metadata": {
    "collapsed": false
   }
  },
  {
   "cell_type": "code",
   "execution_count": 56,
   "outputs": [],
   "source": [
    "def split_function(y,X,it):\n",
    "    sc = StandardScaler()\n",
    "    X_train, X_test, y_train, y_test = train_test_split(X,y, test_size = 0.2, random_state = it, stratify=y)\n",
    "    X_col = X_train.columns\n",
    "    X_test.name = \"X_test\"\n",
    "    X_train.name = \"X_train\"\n",
    "    X_train = sc.fit_transform(X_train)\n",
    "    X_test = sc.transform(X_test)\n",
    "    X_train = pd.DataFrame(X_train,columns=X_col)\n",
    "    X_test = pd.DataFrame(X_test,columns=X_col)\n",
    "    return X_train, X_test, y_train, y_test"
   ],
   "metadata": {
    "collapsed": false
   }
  },
  {
   "cell_type": "code",
   "execution_count": 57,
   "outputs": [],
   "source": [
    " #classification_dataset_names = classification_dataset_names[30:33]"
   ],
   "metadata": {
    "collapsed": false
   }
  },
  {
   "cell_type": "code",
   "execution_count": 80,
   "metadata": {
    "collapsed": false
   },
   "outputs": [],
   "source": [
    "def experimentation(classification_dataset,iters):\n",
    "    res_rul = {}\n",
    "    names = ['Reg-CART','CART','ORT','OCT','ORT-H','OCT-H','ORT+ORT-H','OCT+OCT-H']\n",
    "    algorithms = ['LN','SVM','NB','KNN']\n",
    "    pipelines = [LN_pipeline,SVM_pipeline,NB_pipeline,KNN_pipeline]\n",
    "    rules = []\n",
    "    df = fetch_data(classification_dataset)\n",
    "    print('Numer of NANs: ',df.isna().sum().sum())\n",
    "    y, X = corr_data_for(df)\n",
    "\n",
    "    del df\n",
    "    if X.empty:\n",
    "        return {}\n",
    "\n",
    "    print(color.BOLD + '\\n\\n    ----------------------------------------- {} -----------------------------------------'.format(classification_dataset) + color.END)\n",
    "    for it in range(iters):\n",
    "        X_train, X_test, y_train, y_test = split_function(y,X,it)\n",
    "        col_len = len(X_train.columns)\n",
    "        factors = [0.5,1,1.2,1.4,1.6,1.8,2,2.5,3]\n",
    "\n",
    "        models, performance = generate_tree(X_train, y_train, X_test, y_test, n_num=1, feat_size=len(X.columns),  max_iter_hy=2,sub_paths=True,depth_grid=range(3,4), depth_grid_hy=range(1,3), complexity_bi = 0.001, complexity_hy=0.001,  Reg_CART=False, ORT=False, ORT_H=False, Clas_CART=True, OCT=True, OCT_H=False)\n",
    "\n",
    "        for perf,name in zip(performance,names):\n",
    "            if not not perf:\n",
    "                res_rul[(classification_dataset,name,it,1)] = sum(perf) / len(perf)\n",
    "\n",
    "        act_name = []\n",
    "        act_rules = []\n",
    "        for model,name in zip(models,names):\n",
    "            if (all(model)) & (not not model) & (None not in model):\n",
    "                act_name.append(name)\n",
    "                act_rules.append(model)\n",
    "                rules.append(model)\n",
    "\n",
    "        datasets = gen_train_and_test_features(act_rules ,act_name , X_train, X_test)\n",
    "\n",
    "        for model in datasets.keys():\n",
    "            X_train_rules_and_features, X_test_rules_and_features = datasets[model][0]\n",
    "            X_train_only_rules, X_test_only_rules = datasets[model][1]\n",
    "\n",
    "            for algorithm,pipeline in zip(algorithms,pipelines):\n",
    "                res_rul[(classification_dataset,model + f'_{algorithm}_rules',it,'all')] = pipeline(X_train_only_rules, X_test_only_rules, y_train, y_test)\n",
    "                res_rul[(classification_dataset,model + f'_{algorithm}_rules_and_features',it,'all')] = pipeline(X_train_rules_and_features, X_test_rules_and_features, y_train, y_test)\n",
    "\n",
    "            for fact in factors:\n",
    "                if (round(len(X_train_rules_and_features.columns)*fact) <= X_train.shape[0]) & (round(col_len*fact) <= len(X_train_rules_and_features.columns)):\n",
    "                    min_feat_rule = round(col_len*fact)\n",
    "\n",
    "                    if (round(col_len*fact) > len(X_train_only_rules.columns)) & (fact != 0.5):\n",
    "                        len_rule = 1\n",
    "                        min_rule = len(X_train_only_rules.columns)\n",
    "                    else:\n",
    "                        len_rule = fact\n",
    "                        min_rule = min(round(col_len*fact),len(X_train_only_rules.columns))\n",
    "\n",
    "                    cols = SelectKBest(k=min_feat_rule).fit(X_train_rules_and_features,y_train).get_feature_names_out()\n",
    "                    cols_rule = SelectKBest(k=min_rule).fit(X_train_only_rules,y_train).get_feature_names_out()\n",
    "\n",
    "                else:\n",
    "                     continue\n",
    "\n",
    "                for algorithm,pipeline in zip(algorithms,pipelines):\n",
    "                    res_rul[(classification_dataset,model + f'_{algorithm}_rules',it,len_rule)] = pipeline(X_train_only_rules[cols_rule], X_test_only_rules[cols_rule], y_train, y_test)\n",
    "                    res_rul[(classification_dataset,model + f'_{algorithm}_rules_and_features',it,fact)] = pipeline(X_train_rules_and_features[cols], X_test_rules_and_features[cols], y_train, y_test)\n",
    "\n",
    "        for algorithm,pipeline in zip(algorithms,pipelines):\n",
    "            res_rul[(classification_dataset,algorithm,it,1)] = pipeline(X_train, X_test, y_train, y_test)\n",
    "        del X_train, X_test\n",
    "    return res_rul, rules"
   ]
  },
  {
   "cell_type": "code",
   "execution_count": 81,
   "outputs": [],
   "source": [
    "# for data in classification_dataset_names:\n",
    "#     data = fetch_data(data)\n",
    "#     print(data.shape)"
   ],
   "metadata": {
    "collapsed": false
   }
  },
  {
   "cell_type": "code",
   "execution_count": 82,
   "outputs": [],
   "source": [
    "#classification_dataset_names = classification_dataset_names[1]"
   ],
   "metadata": {
    "collapsed": false
   }
  },
  {
   "cell_type": "code",
   "execution_count": 83,
   "outputs": [],
   "source": [
    "#df = fetch_data('breast_cancer_wisconsin')"
   ],
   "metadata": {
    "collapsed": false
   }
  },
  {
   "cell_type": "code",
   "execution_count": 84,
   "outputs": [
    {
     "name": "stdout",
     "output_type": "stream",
     "text": [
      "Numer of NANs:  0\n",
      "Dataset Information\n",
      "Rows: 569\n",
      "Columns: 30\n",
      "Number of classes: 2\n",
      "Continous columns: 30\n",
      "Binary columns: 0\n",
      "Categorical columns: 0\n",
      "-------------------------------------------------\n",
      "\u001B[1m\n",
      "\n",
      "    ----------------------------------------- breast_cancer_wisconsin -----------------------------------------\u001B[0m\n",
      "Classification CART mean performance:  0.956140350877193\n",
      "\n",
      "\n",
      "Classification OCT performance:  0.956140350877193\n",
      "\n",
      "\n",
      "Numer of NANs:  0\n",
      "Dataset Information\n",
      "Rows: 366\n",
      "Columns: 129\n",
      "Number of classes: 6\n",
      "Continous columns: 1\n",
      "Binary columns: 1\n",
      "Categorical columns: 32\n",
      "-------------------------------------------------\n",
      "\u001B[1m\n",
      "\n",
      "    ----------------------------------------- dermatology -----------------------------------------\u001B[0m\n",
      "Classification CART mean performance:  0.7837837837837838\n",
      "\n",
      "\n",
      "Classification OCT performance:  0.8378378378378378\n",
      "\n",
      "\n"
     ]
    },
    {
     "name": "stderr",
     "output_type": "stream",
     "text": [
      "/Library/Python/3.9/site-packages/sklearn/feature_selection/_univariate_selection.py:111: RuntimeWarning: divide by zero encountered in true_divide\n",
      "  f = msb / msw\n",
      "/Library/Python/3.9/site-packages/sklearn/feature_selection/_univariate_selection.py:111: RuntimeWarning: divide by zero encountered in true_divide\n",
      "  f = msb / msw\n",
      "/Library/Python/3.9/site-packages/sklearn/feature_selection/_univariate_selection.py:111: RuntimeWarning: divide by zero encountered in true_divide\n",
      "  f = msb / msw\n",
      "/Library/Python/3.9/site-packages/sklearn/feature_selection/_univariate_selection.py:111: RuntimeWarning: divide by zero encountered in true_divide\n",
      "  f = msb / msw\n",
      "/Library/Python/3.9/site-packages/sklearn/feature_selection/_univariate_selection.py:111: RuntimeWarning: divide by zero encountered in true_divide\n",
      "  f = msb / msw\n",
      "/Library/Python/3.9/site-packages/sklearn/feature_selection/_univariate_selection.py:111: RuntimeWarning: divide by zero encountered in true_divide\n",
      "  f = msb / msw\n"
     ]
    },
    {
     "name": "stdout",
     "output_type": "stream",
     "text": [
      "Numer of NANs:  0\n",
      "Dataset Information\n",
      "Rows: 768\n",
      "Columns: 8\n",
      "Number of classes: 2\n",
      "Continous columns: 8\n",
      "Binary columns: 0\n",
      "Categorical columns: 0\n",
      "-------------------------------------------------\n",
      "\u001B[1m\n",
      "\n",
      "    ----------------------------------------- diabetes -----------------------------------------\u001B[0m\n",
      "Classification CART mean performance:  0.7532467532467533\n",
      "\n",
      "\n",
      "Classification OCT performance:  0.7662337662337663\n",
      "\n",
      "\n"
     ]
    }
   ],
   "source": [
    "orig = {}\n",
    "rules = []\n",
    "for classification_dataset in classification_dataset_names:\n",
    "    res_rul,rules = experimentation(classification_dataset,1)\n",
    "    rules.append(rules)\n",
    "    orig.update(res_rul)"
   ],
   "metadata": {
    "collapsed": false
   }
  },
  {
   "cell_type": "code",
   "execution_count": 92,
   "outputs": [
    {
     "data": {
      "text/plain": "[[[\"(feature['A2'] < 0.18) & (feature['A8'] < -0.413) & (feature['A6'] < 1.707)\",\n   \"(feature['A2'] < 0.18) & (feature['A8'] < -0.413) & (feature['A6'] >= 1.707)\",\n   \"(feature['A2'] < 0.18) & (feature['A8'] >= -0.413) & (feature['A6'] < -0.714)\",\n   \"(feature['A2'] < 0.18) & (feature['A8'] >= -0.413) & (feature['A6'] >= -0.714)\",\n   \"(feature['A2'] >= 0.18) & (feature['A6'] < -0.256) & (feature['A2'] < 0.741)\",\n   \"(feature['A2'] >= 0.18) & (feature['A6'] < -0.256) & (feature['A2'] >= 0.741)\",\n   \"(feature['A2'] >= 0.18) & (feature['A6'] >= -0.256) & (feature['A2'] < 1.021)\",\n   \"(feature['A2'] >= 0.18) & (feature['A6'] >= -0.256) & (feature['A2'] >= 1.021)\"]],\n [[\"(feature['A8'] < -0.243) & (feature['A3'] < -0.773) & (feature['A2'] < 0.18)\",\n   \"(feature['A8'] < -0.243) & (feature['A3'] < -0.773) & (feature['A2'] >= 0.18)\",\n   \"(feature['A8'] < -0.243) & (feature['A3'] >= -0.773) & (feature['A2'] < 1.115)\",\n   \"(feature['A8'] < -0.243) & (feature['A3'] >= -0.773) & (feature['A2'] >= 1.115)\",\n   \"(feature['A8'] >= -0.243) & (feature['A6'] < -0.587) & (feature['A2'] < 0.912)\",\n   \"(feature['A8'] >= -0.243) & (feature['A6'] < -0.587) & (feature['A2'] >= 0.912)\",\n   \"(feature['A8'] >= -0.243) & (feature['A6'] >= -0.587) & (feature['A2'] < -0.459)\",\n   \"(feature['A8'] >= -0.243) & (feature['A6'] >= -0.587) & (feature['A2'] >= -0.459)\"]],\n [[\"(feature['A8'] < -0.243) & (feature['A3'] < -0.773) & (feature['A2'] < 0.18)\",\n   \"(feature['A8'] < -0.243) & (feature['A3'] < -0.773) & (feature['A2'] >= 0.18)\",\n   \"(feature['A8'] < -0.243) & (feature['A3'] >= -0.773) & (feature['A2'] < 1.115)\",\n   \"(feature['A8'] < -0.243) & (feature['A3'] >= -0.773) & (feature['A2'] >= 1.115)\",\n   \"(feature['A8'] >= -0.243) & (feature['A6'] < -0.587) & (feature['A2'] < 0.912)\",\n   \"(feature['A8'] >= -0.243) & (feature['A6'] < -0.587) & (feature['A2'] >= 0.912)\",\n   \"(feature['A8'] >= -0.243) & (feature['A6'] >= -0.587) & (feature['A2'] < -0.459)\",\n   \"(feature['A8'] >= -0.243) & (feature['A6'] >= -0.587) & (feature['A2'] >= -0.459)\"]],\n [...]]"
     },
     "execution_count": 92,
     "metadata": {},
     "output_type": "execute_result"
    }
   ],
   "source": [
    "rules"
   ],
   "metadata": {
    "collapsed": false
   }
  },
  {
   "cell_type": "code",
   "execution_count": 93,
   "outputs": [],
   "source": [
    "df = fetch_data('breast_cancer_wisconsin')"
   ],
   "metadata": {
    "collapsed": false
   }
  },
  {
   "cell_type": "code",
   "execution_count": 97,
   "outputs": [
    {
     "data": {
      "text/plain": "     target      2      3       4       5        6        7        8        9  \\\n0         1  17.99  10.38  122.80  1001.0  0.11840  0.27760  0.30010  0.14710   \n1         1  20.57  17.77  132.90  1326.0  0.08474  0.07864  0.08690  0.07017   \n2         1  19.69  21.25  130.00  1203.0  0.10960  0.15990  0.19740  0.12790   \n3         1  11.42  20.38   77.58   386.1  0.14250  0.28390  0.24140  0.10520   \n4         1  20.29  14.34  135.10  1297.0  0.10030  0.13280  0.19800  0.10430   \n..      ...    ...    ...     ...     ...      ...      ...      ...      ...   \n564       1  21.56  22.39  142.00  1479.0  0.11100  0.11590  0.24390  0.13890   \n565       1  20.13  28.25  131.20  1261.0  0.09780  0.10340  0.14400  0.09791   \n566       1  16.60  28.08  108.30   858.1  0.08455  0.10230  0.09251  0.05302   \n567       1  20.60  29.33  140.10  1265.0  0.11780  0.27700  0.35140  0.15200   \n568       0   7.76  24.54   47.92   181.0  0.05263  0.04362  0.00000  0.00000   \n\n         10  ...      22     23      24      25       26       27      28  \\\n0    0.2419  ...  25.380  17.33  184.60  2019.0  0.16220  0.66560  0.7119   \n1    0.1812  ...  24.990  23.41  158.80  1956.0  0.12380  0.18660  0.2416   \n2    0.2069  ...  23.570  25.53  152.50  1709.0  0.14440  0.42450  0.4504   \n3    0.2597  ...  14.910  26.50   98.87   567.7  0.20980  0.86630  0.6869   \n4    0.1809  ...  22.540  16.67  152.20  1575.0  0.13740  0.20500  0.4000   \n..      ...  ...     ...    ...     ...     ...      ...      ...     ...   \n564  0.1726  ...  25.450  26.40  166.10  2027.0  0.14100  0.21130  0.4107   \n565  0.1752  ...  23.690  38.25  155.00  1731.0  0.11660  0.19220  0.3215   \n566  0.1590  ...  18.980  34.12  126.70  1124.0  0.11390  0.30940  0.3403   \n567  0.2397  ...  25.740  39.42  184.60  1821.0  0.16500  0.86810  0.9387   \n568  0.1587  ...   9.456  30.37   59.16   268.6  0.08996  0.06444  0.0000   \n\n         29      30       31  \n0    0.2654  0.4601  0.11890  \n1    0.1860  0.2750  0.08902  \n2    0.2430  0.3613  0.08758  \n3    0.2575  0.6638  0.17300  \n4    0.1625  0.2364  0.07678  \n..      ...     ...      ...  \n564  0.2216  0.2060  0.07115  \n565  0.1628  0.2572  0.06637  \n566  0.1418  0.2218  0.07820  \n567  0.2650  0.4087  0.12400  \n568  0.0000  0.2871  0.07039  \n\n[569 rows x 31 columns]",
      "text/html": "<div>\n<style scoped>\n    .dataframe tbody tr th:only-of-type {\n        vertical-align: middle;\n    }\n\n    .dataframe tbody tr th {\n        vertical-align: top;\n    }\n\n    .dataframe thead th {\n        text-align: right;\n    }\n</style>\n<table border=\"1\" class=\"dataframe\">\n  <thead>\n    <tr style=\"text-align: right;\">\n      <th></th>\n      <th>target</th>\n      <th>2</th>\n      <th>3</th>\n      <th>4</th>\n      <th>5</th>\n      <th>6</th>\n      <th>7</th>\n      <th>8</th>\n      <th>9</th>\n      <th>10</th>\n      <th>...</th>\n      <th>22</th>\n      <th>23</th>\n      <th>24</th>\n      <th>25</th>\n      <th>26</th>\n      <th>27</th>\n      <th>28</th>\n      <th>29</th>\n      <th>30</th>\n      <th>31</th>\n    </tr>\n  </thead>\n  <tbody>\n    <tr>\n      <th>0</th>\n      <td>1</td>\n      <td>17.99</td>\n      <td>10.38</td>\n      <td>122.80</td>\n      <td>1001.0</td>\n      <td>0.11840</td>\n      <td>0.27760</td>\n      <td>0.30010</td>\n      <td>0.14710</td>\n      <td>0.2419</td>\n      <td>...</td>\n      <td>25.380</td>\n      <td>17.33</td>\n      <td>184.60</td>\n      <td>2019.0</td>\n      <td>0.16220</td>\n      <td>0.66560</td>\n      <td>0.7119</td>\n      <td>0.2654</td>\n      <td>0.4601</td>\n      <td>0.11890</td>\n    </tr>\n    <tr>\n      <th>1</th>\n      <td>1</td>\n      <td>20.57</td>\n      <td>17.77</td>\n      <td>132.90</td>\n      <td>1326.0</td>\n      <td>0.08474</td>\n      <td>0.07864</td>\n      <td>0.08690</td>\n      <td>0.07017</td>\n      <td>0.1812</td>\n      <td>...</td>\n      <td>24.990</td>\n      <td>23.41</td>\n      <td>158.80</td>\n      <td>1956.0</td>\n      <td>0.12380</td>\n      <td>0.18660</td>\n      <td>0.2416</td>\n      <td>0.1860</td>\n      <td>0.2750</td>\n      <td>0.08902</td>\n    </tr>\n    <tr>\n      <th>2</th>\n      <td>1</td>\n      <td>19.69</td>\n      <td>21.25</td>\n      <td>130.00</td>\n      <td>1203.0</td>\n      <td>0.10960</td>\n      <td>0.15990</td>\n      <td>0.19740</td>\n      <td>0.12790</td>\n      <td>0.2069</td>\n      <td>...</td>\n      <td>23.570</td>\n      <td>25.53</td>\n      <td>152.50</td>\n      <td>1709.0</td>\n      <td>0.14440</td>\n      <td>0.42450</td>\n      <td>0.4504</td>\n      <td>0.2430</td>\n      <td>0.3613</td>\n      <td>0.08758</td>\n    </tr>\n    <tr>\n      <th>3</th>\n      <td>1</td>\n      <td>11.42</td>\n      <td>20.38</td>\n      <td>77.58</td>\n      <td>386.1</td>\n      <td>0.14250</td>\n      <td>0.28390</td>\n      <td>0.24140</td>\n      <td>0.10520</td>\n      <td>0.2597</td>\n      <td>...</td>\n      <td>14.910</td>\n      <td>26.50</td>\n      <td>98.87</td>\n      <td>567.7</td>\n      <td>0.20980</td>\n      <td>0.86630</td>\n      <td>0.6869</td>\n      <td>0.2575</td>\n      <td>0.6638</td>\n      <td>0.17300</td>\n    </tr>\n    <tr>\n      <th>4</th>\n      <td>1</td>\n      <td>20.29</td>\n      <td>14.34</td>\n      <td>135.10</td>\n      <td>1297.0</td>\n      <td>0.10030</td>\n      <td>0.13280</td>\n      <td>0.19800</td>\n      <td>0.10430</td>\n      <td>0.1809</td>\n      <td>...</td>\n      <td>22.540</td>\n      <td>16.67</td>\n      <td>152.20</td>\n      <td>1575.0</td>\n      <td>0.13740</td>\n      <td>0.20500</td>\n      <td>0.4000</td>\n      <td>0.1625</td>\n      <td>0.2364</td>\n      <td>0.07678</td>\n    </tr>\n    <tr>\n      <th>...</th>\n      <td>...</td>\n      <td>...</td>\n      <td>...</td>\n      <td>...</td>\n      <td>...</td>\n      <td>...</td>\n      <td>...</td>\n      <td>...</td>\n      <td>...</td>\n      <td>...</td>\n      <td>...</td>\n      <td>...</td>\n      <td>...</td>\n      <td>...</td>\n      <td>...</td>\n      <td>...</td>\n      <td>...</td>\n      <td>...</td>\n      <td>...</td>\n      <td>...</td>\n      <td>...</td>\n    </tr>\n    <tr>\n      <th>564</th>\n      <td>1</td>\n      <td>21.56</td>\n      <td>22.39</td>\n      <td>142.00</td>\n      <td>1479.0</td>\n      <td>0.11100</td>\n      <td>0.11590</td>\n      <td>0.24390</td>\n      <td>0.13890</td>\n      <td>0.1726</td>\n      <td>...</td>\n      <td>25.450</td>\n      <td>26.40</td>\n      <td>166.10</td>\n      <td>2027.0</td>\n      <td>0.14100</td>\n      <td>0.21130</td>\n      <td>0.4107</td>\n      <td>0.2216</td>\n      <td>0.2060</td>\n      <td>0.07115</td>\n    </tr>\n    <tr>\n      <th>565</th>\n      <td>1</td>\n      <td>20.13</td>\n      <td>28.25</td>\n      <td>131.20</td>\n      <td>1261.0</td>\n      <td>0.09780</td>\n      <td>0.10340</td>\n      <td>0.14400</td>\n      <td>0.09791</td>\n      <td>0.1752</td>\n      <td>...</td>\n      <td>23.690</td>\n      <td>38.25</td>\n      <td>155.00</td>\n      <td>1731.0</td>\n      <td>0.11660</td>\n      <td>0.19220</td>\n      <td>0.3215</td>\n      <td>0.1628</td>\n      <td>0.2572</td>\n      <td>0.06637</td>\n    </tr>\n    <tr>\n      <th>566</th>\n      <td>1</td>\n      <td>16.60</td>\n      <td>28.08</td>\n      <td>108.30</td>\n      <td>858.1</td>\n      <td>0.08455</td>\n      <td>0.10230</td>\n      <td>0.09251</td>\n      <td>0.05302</td>\n      <td>0.1590</td>\n      <td>...</td>\n      <td>18.980</td>\n      <td>34.12</td>\n      <td>126.70</td>\n      <td>1124.0</td>\n      <td>0.11390</td>\n      <td>0.30940</td>\n      <td>0.3403</td>\n      <td>0.1418</td>\n      <td>0.2218</td>\n      <td>0.07820</td>\n    </tr>\n    <tr>\n      <th>567</th>\n      <td>1</td>\n      <td>20.60</td>\n      <td>29.33</td>\n      <td>140.10</td>\n      <td>1265.0</td>\n      <td>0.11780</td>\n      <td>0.27700</td>\n      <td>0.35140</td>\n      <td>0.15200</td>\n      <td>0.2397</td>\n      <td>...</td>\n      <td>25.740</td>\n      <td>39.42</td>\n      <td>184.60</td>\n      <td>1821.0</td>\n      <td>0.16500</td>\n      <td>0.86810</td>\n      <td>0.9387</td>\n      <td>0.2650</td>\n      <td>0.4087</td>\n      <td>0.12400</td>\n    </tr>\n    <tr>\n      <th>568</th>\n      <td>0</td>\n      <td>7.76</td>\n      <td>24.54</td>\n      <td>47.92</td>\n      <td>181.0</td>\n      <td>0.05263</td>\n      <td>0.04362</td>\n      <td>0.00000</td>\n      <td>0.00000</td>\n      <td>0.1587</td>\n      <td>...</td>\n      <td>9.456</td>\n      <td>30.37</td>\n      <td>59.16</td>\n      <td>268.6</td>\n      <td>0.08996</td>\n      <td>0.06444</td>\n      <td>0.0000</td>\n      <td>0.0000</td>\n      <td>0.2871</td>\n      <td>0.07039</td>\n    </tr>\n  </tbody>\n</table>\n<p>569 rows × 31 columns</p>\n</div>"
     },
     "execution_count": 97,
     "metadata": {},
     "output_type": "execute_result"
    }
   ],
   "source": [
    "df"
   ],
   "metadata": {
    "collapsed": false
   }
  },
  {
   "cell_type": "code",
   "execution_count": 95,
   "outputs": [
    {
     "name": "stdout",
     "output_type": "stream",
     "text": [
      "dict_keys(['data', 'target', 'frame', 'target_names', 'DESCR', 'feature_names', 'filename', 'data_module'])\n"
     ]
    }
   ],
   "source": [
    "# Dataset\n",
    "from sklearn.datasets import load_breast_cancer\n",
    "#Returns a bunch object (= dicitionary)\n",
    "data = load_breast_cancer()\n",
    "print(data.keys())"
   ],
   "metadata": {
    "collapsed": false
   }
  },
  {
   "cell_type": "code",
   "execution_count": 102,
   "outputs": [],
   "source": [
    "data_df = pd.DataFrame(data.data, columns=data.feature_names)"
   ],
   "metadata": {
    "collapsed": false
   }
  },
  {
   "cell_type": "code",
   "execution_count": 104,
   "outputs": [
    {
     "data": {
      "text/plain": "Index(['mean radius', 'mean texture', 'mean perimeter', 'mean area',\n       'mean smoothness', 'mean compactness', 'mean concavity',\n       'mean concave points', 'mean symmetry', 'mean fractal dimension',\n       'radius error', 'texture error', 'perimeter error', 'area error',\n       'smoothness error', 'compactness error', 'concavity error',\n       'concave points error', 'symmetry error', 'fractal dimension error',\n       'worst radius', 'worst texture', 'worst perimeter', 'worst area',\n       'worst smoothness', 'worst compactness', 'worst concavity',\n       'worst concave points', 'worst symmetry', 'worst fractal dimension'],\n      dtype='object')"
     },
     "execution_count": 104,
     "metadata": {},
     "output_type": "execute_result"
    }
   ],
   "source": [
    "data_df.columns"
   ],
   "metadata": {
    "collapsed": false
   }
  },
  {
   "cell_type": "code",
   "execution_count": 64,
   "metadata": {
    "collapsed": false
   },
   "outputs": [],
   "source": [
    "# from joblib import delayed\n",
    "# from tqdm import tqdm\n",
    "# res_rul = ProgressParallel(n_jobs=4)(delayed(experimentation)(data) for data in classification_dataset_names)\n",
    "\n",
    "# result = {}\n",
    "# for d in res_rul:\n",
    "#     result.update(d)"
   ]
  },
  {
   "cell_type": "code",
   "execution_count": 65,
   "outputs": [],
   "source": [
    "# import os\n",
    "# files = os.listdir('C:/Users/paulr/PycharmProjects/pythonProject/ORRFA-2/')"
   ],
   "metadata": {
    "collapsed": false
   }
  },
  {
   "cell_type": "code",
   "execution_count": 66,
   "outputs": [],
   "source": [
    "# list_of_dfs = []\n",
    "# for file in files:\n",
    "#     if file.endswith('pickle'):\n",
    "#         with open(file, 'rb') as handle:\n",
    "#             b = pickle.load(handle)\n",
    "#             # df = pd.concat({k:json_normalize(v, 'scores', ['best']) for k,v in d.items()})\n",
    "#             # df = df.reset_index(level=1, drop=True).rename_axis('names').reset_index()\n",
    "# #             list_of_dfs.append(b)\n",
    "# big_df = pd.concat(list_of_dfs, ignore_index=True)#ignore_index to reset index of big_df\n",
    "# big_df.head()"
   ],
   "metadata": {
    "collapsed": false
   }
  },
  {
   "cell_type": "code",
   "execution_count": 67,
   "metadata": {
    "collapsed": false
   },
   "outputs": [],
   "source": [
    "k = pd.DataFrame(orig,index=[0])\n",
    "k = k.stack(level=2).sort_index()\n",
    "k = k.stack(level=2).sort_index()\n",
    "k = k.swaplevel(axis=1)\n",
    "k = k.droplevel(0)"
   ]
  },
  {
   "cell_type": "code",
   "execution_count": 68,
   "outputs": [
    {
     "data": {
      "text/plain": "                         CART          CART_KNN_rules  \\\n      breast_cancer_wisconsin breast_cancer_wisconsin   \n0 0.5                     NaN                 0.95614   \n  1                   0.95614                 0.95614   \n  1.2                     NaN                     NaN   \n  1.4                     NaN                     NaN   \n  1.6                     NaN                     NaN   \n  1.8                     NaN                     NaN   \n  all                     NaN                 0.95614   \n\n      CART_KNN_rules_and_features           CART_LN_rules  \\\n          breast_cancer_wisconsin breast_cancer_wisconsin   \n0 0.5                    0.938596                 0.95614   \n  1                      0.938596                 0.95614   \n  1.2                         NaN                     NaN   \n  1.4                         NaN                     NaN   \n  1.6                         NaN                     NaN   \n  1.8                         NaN                     NaN   \n  all                    0.929825                 0.95614   \n\n      CART_LN_rules_and_features           CART_NB_rules  \\\n         breast_cancer_wisconsin breast_cancer_wisconsin   \n0 0.5                    0.95614                0.921053   \n  1                      0.95614                0.921053   \n  1.2                        NaN                     NaN   \n  1.4                        NaN                     NaN   \n  1.6                        NaN                     NaN   \n  1.8                        NaN                     NaN   \n  all                    0.95614                0.921053   \n\n      CART_NB_rules_and_features          CART_SVM_rules  \\\n         breast_cancer_wisconsin breast_cancer_wisconsin   \n0 0.5                   0.929825                 0.95614   \n  1                     0.938596                 0.95614   \n  1.2                        NaN                     NaN   \n  1.4                        NaN                     NaN   \n  1.6                        NaN                     NaN   \n  1.8                        NaN                     NaN   \n  all                   0.938596                 0.95614   \n\n      CART_SVM_rules_and_features                     KNN  ... OCT_LN_rules  \\\n          breast_cancer_wisconsin breast_cancer_wisconsin  ...     diabetes   \n0 0.5                    0.947368                     NaN  ...     0.766234   \n  1                      0.947368                0.938596  ...     0.766234   \n  1.2                         NaN                     NaN  ...          NaN   \n  1.4                         NaN                     NaN  ...          NaN   \n  1.6                         NaN                     NaN  ...          NaN   \n  1.8                         NaN                     NaN  ...          NaN   \n  all                    0.956140                     NaN  ...     0.766234   \n\n      OCT_LN_rules_and_features OCT_NB_rules OCT_NB_rules_and_features  \\\n                       diabetes     diabetes                  diabetes   \n0 0.5                  0.766234     0.766234                  0.766234   \n  1                    0.772727     0.766234                  0.766234   \n  1.2                  0.779221          NaN                  0.753247   \n  1.4                  0.779221          NaN                  0.746753   \n  1.6                  0.753247          NaN                  0.753247   \n  1.8                       NaN          NaN                       NaN   \n  all                  0.753247     0.766234                  0.753247   \n\n      OCT_SVM_rules OCT_SVM_rules_and_features      ORT    ORT-H Reg-CART  \\\n           diabetes                   diabetes diabetes diabetes diabetes   \n0 0.5      0.766234                   0.772727      NaN      NaN      NaN   \n  1        0.766234                   0.759740      NaN      NaN      NaN   \n  1.2           NaN                   0.772727      NaN      NaN      NaN   \n  1.4           NaN                   0.746753      NaN      NaN      NaN   \n  1.6           NaN                   0.746753      NaN      NaN      NaN   \n  1.8           NaN                        NaN      NaN      NaN      NaN   \n  all      0.766234                   0.746753      NaN      NaN      NaN   \n\n           SVM  \n      diabetes  \n0 0.5      NaN  \n  1    0.74026  \n  1.2      NaN  \n  1.4      NaN  \n  1.6      NaN  \n  1.8      NaN  \n  all      NaN  \n\n[7 rows x 102 columns]",
      "text/html": "<div>\n<style scoped>\n    .dataframe tbody tr th:only-of-type {\n        vertical-align: middle;\n    }\n\n    .dataframe tbody tr th {\n        vertical-align: top;\n    }\n\n    .dataframe thead tr th {\n        text-align: left;\n    }\n</style>\n<table border=\"1\" class=\"dataframe\">\n  <thead>\n    <tr>\n      <th></th>\n      <th></th>\n      <th>CART</th>\n      <th>CART_KNN_rules</th>\n      <th>CART_KNN_rules_and_features</th>\n      <th>CART_LN_rules</th>\n      <th>CART_LN_rules_and_features</th>\n      <th>CART_NB_rules</th>\n      <th>CART_NB_rules_and_features</th>\n      <th>CART_SVM_rules</th>\n      <th>CART_SVM_rules_and_features</th>\n      <th>KNN</th>\n      <th>...</th>\n      <th>OCT_LN_rules</th>\n      <th>OCT_LN_rules_and_features</th>\n      <th>OCT_NB_rules</th>\n      <th>OCT_NB_rules_and_features</th>\n      <th>OCT_SVM_rules</th>\n      <th>OCT_SVM_rules_and_features</th>\n      <th>ORT</th>\n      <th>ORT-H</th>\n      <th>Reg-CART</th>\n      <th>SVM</th>\n    </tr>\n    <tr>\n      <th></th>\n      <th></th>\n      <th>breast_cancer_wisconsin</th>\n      <th>breast_cancer_wisconsin</th>\n      <th>breast_cancer_wisconsin</th>\n      <th>breast_cancer_wisconsin</th>\n      <th>breast_cancer_wisconsin</th>\n      <th>breast_cancer_wisconsin</th>\n      <th>breast_cancer_wisconsin</th>\n      <th>breast_cancer_wisconsin</th>\n      <th>breast_cancer_wisconsin</th>\n      <th>breast_cancer_wisconsin</th>\n      <th>...</th>\n      <th>diabetes</th>\n      <th>diabetes</th>\n      <th>diabetes</th>\n      <th>diabetes</th>\n      <th>diabetes</th>\n      <th>diabetes</th>\n      <th>diabetes</th>\n      <th>diabetes</th>\n      <th>diabetes</th>\n      <th>diabetes</th>\n    </tr>\n  </thead>\n  <tbody>\n    <tr>\n      <th rowspan=\"7\" valign=\"top\">0</th>\n      <th>0.5</th>\n      <td>NaN</td>\n      <td>0.95614</td>\n      <td>0.938596</td>\n      <td>0.95614</td>\n      <td>0.95614</td>\n      <td>0.921053</td>\n      <td>0.929825</td>\n      <td>0.95614</td>\n      <td>0.947368</td>\n      <td>NaN</td>\n      <td>...</td>\n      <td>0.766234</td>\n      <td>0.766234</td>\n      <td>0.766234</td>\n      <td>0.766234</td>\n      <td>0.766234</td>\n      <td>0.772727</td>\n      <td>NaN</td>\n      <td>NaN</td>\n      <td>NaN</td>\n      <td>NaN</td>\n    </tr>\n    <tr>\n      <th>1</th>\n      <td>0.95614</td>\n      <td>0.95614</td>\n      <td>0.938596</td>\n      <td>0.95614</td>\n      <td>0.95614</td>\n      <td>0.921053</td>\n      <td>0.938596</td>\n      <td>0.95614</td>\n      <td>0.947368</td>\n      <td>0.938596</td>\n      <td>...</td>\n      <td>0.766234</td>\n      <td>0.772727</td>\n      <td>0.766234</td>\n      <td>0.766234</td>\n      <td>0.766234</td>\n      <td>0.759740</td>\n      <td>NaN</td>\n      <td>NaN</td>\n      <td>NaN</td>\n      <td>0.74026</td>\n    </tr>\n    <tr>\n      <th>1.2</th>\n      <td>NaN</td>\n      <td>NaN</td>\n      <td>NaN</td>\n      <td>NaN</td>\n      <td>NaN</td>\n      <td>NaN</td>\n      <td>NaN</td>\n      <td>NaN</td>\n      <td>NaN</td>\n      <td>NaN</td>\n      <td>...</td>\n      <td>NaN</td>\n      <td>0.779221</td>\n      <td>NaN</td>\n      <td>0.753247</td>\n      <td>NaN</td>\n      <td>0.772727</td>\n      <td>NaN</td>\n      <td>NaN</td>\n      <td>NaN</td>\n      <td>NaN</td>\n    </tr>\n    <tr>\n      <th>1.4</th>\n      <td>NaN</td>\n      <td>NaN</td>\n      <td>NaN</td>\n      <td>NaN</td>\n      <td>NaN</td>\n      <td>NaN</td>\n      <td>NaN</td>\n      <td>NaN</td>\n      <td>NaN</td>\n      <td>NaN</td>\n      <td>...</td>\n      <td>NaN</td>\n      <td>0.779221</td>\n      <td>NaN</td>\n      <td>0.746753</td>\n      <td>NaN</td>\n      <td>0.746753</td>\n      <td>NaN</td>\n      <td>NaN</td>\n      <td>NaN</td>\n      <td>NaN</td>\n    </tr>\n    <tr>\n      <th>1.6</th>\n      <td>NaN</td>\n      <td>NaN</td>\n      <td>NaN</td>\n      <td>NaN</td>\n      <td>NaN</td>\n      <td>NaN</td>\n      <td>NaN</td>\n      <td>NaN</td>\n      <td>NaN</td>\n      <td>NaN</td>\n      <td>...</td>\n      <td>NaN</td>\n      <td>0.753247</td>\n      <td>NaN</td>\n      <td>0.753247</td>\n      <td>NaN</td>\n      <td>0.746753</td>\n      <td>NaN</td>\n      <td>NaN</td>\n      <td>NaN</td>\n      <td>NaN</td>\n    </tr>\n    <tr>\n      <th>1.8</th>\n      <td>NaN</td>\n      <td>NaN</td>\n      <td>NaN</td>\n      <td>NaN</td>\n      <td>NaN</td>\n      <td>NaN</td>\n      <td>NaN</td>\n      <td>NaN</td>\n      <td>NaN</td>\n      <td>NaN</td>\n      <td>...</td>\n      <td>NaN</td>\n      <td>NaN</td>\n      <td>NaN</td>\n      <td>NaN</td>\n      <td>NaN</td>\n      <td>NaN</td>\n      <td>NaN</td>\n      <td>NaN</td>\n      <td>NaN</td>\n      <td>NaN</td>\n    </tr>\n    <tr>\n      <th>all</th>\n      <td>NaN</td>\n      <td>0.95614</td>\n      <td>0.929825</td>\n      <td>0.95614</td>\n      <td>0.95614</td>\n      <td>0.921053</td>\n      <td>0.938596</td>\n      <td>0.95614</td>\n      <td>0.956140</td>\n      <td>NaN</td>\n      <td>...</td>\n      <td>0.766234</td>\n      <td>0.753247</td>\n      <td>0.766234</td>\n      <td>0.753247</td>\n      <td>0.766234</td>\n      <td>0.746753</td>\n      <td>NaN</td>\n      <td>NaN</td>\n      <td>NaN</td>\n      <td>NaN</td>\n    </tr>\n  </tbody>\n</table>\n<p>7 rows × 102 columns</p>\n</div>"
     },
     "execution_count": 68,
     "metadata": {},
     "output_type": "execute_result"
    }
   ],
   "source": [
    "k"
   ],
   "metadata": {
    "collapsed": false
   }
  },
  {
   "cell_type": "code",
   "execution_count": 69,
   "outputs": [],
   "source": [
    "# k.to_csv('result_girdsearch.csv')"
   ],
   "metadata": {
    "collapsed": false
   }
  },
  {
   "cell_type": "code",
   "execution_count": 70,
   "outputs": [
    {
     "name": "stderr",
     "output_type": "stream",
     "text": [
      "/var/folders/57/nk0v860921q9yr1l82gwj0xm0000gp/T/ipykernel_10261/3857113462.py:1: FutureWarning: Using the level keyword in DataFrame and Series aggregations is deprecated and will be removed in a future version. Use groupby instead. df.median(level=1) should use df.groupby(level=1).median().\n",
      "  k.swaplevel(axis=0).mean(level=0).mean(level=0,axis=1).iloc[1].sort_values(ascending=False)\n",
      "/var/folders/57/nk0v860921q9yr1l82gwj0xm0000gp/T/ipykernel_10261/3857113462.py:1: FutureWarning: Using the level keyword in DataFrame and Series aggregations is deprecated and will be removed in a future version. Use groupby instead. df.median(level=1) should use df.groupby(level=1).median().\n",
      "  k.swaplevel(axis=0).mean(level=0).mean(level=0,axis=1).iloc[1].sort_values(ascending=False)\n"
     ]
    },
    {
     "data": {
      "text/plain": "LN                                  0.899968\nSVM                                 0.880782\nOCT_NB_rules_and_features           0.865573\nOCT+OCT-H_NB_rules_and_features     0.865573\nOCT_SVM_rules_and_features          0.862326\nOCT+OCT-H_SVM_rules_and_features    0.862326\nOCT+OCT-H_NB_rules                  0.861187\nOCT_SVM_rules                       0.861187\nOCT_NB_rules                        0.861187\nOCT_LN_rules                        0.861187\nOCT+OCT-H_SVM_rules                 0.861187\nOCT+OCT-H_LN_rules                  0.861187\nCART_LN_rules_and_features          0.861187\nOCT+OCT-H_LN_rules_and_features     0.860048\nOCT_LN_rules_and_features           0.860048\nCART_SVM_rules_and_features         0.856801\nCART_SVM_rules                      0.854694\nCART_LN_rules                       0.854694\nOCT                                 0.853404\nKNN                                 0.853289\nCART_NB_rules_and_features          0.852415\nNB                                  0.847560\nOCT+OCT-H_KNN_rules_and_features    0.845922\nOCT_KNN_rules_and_features          0.845922\nCART_KNN_rules_and_features         0.839428\nCART_KNN_rules                      0.831966\nCART                                0.831057\nCART_NB_rules                       0.814422\nOCT+OCT-H_KNN_rules                 0.802746\nOCT_KNN_rules                       0.802746\nOCT-H                                    NaN\nORT                                      NaN\nORT-H                                    NaN\nReg-CART                                 NaN\nName: 1, dtype: float64"
     },
     "execution_count": 70,
     "metadata": {},
     "output_type": "execute_result"
    }
   ],
   "source": [
    "k.swaplevel(axis=0).mean(level=0).mean(level=0,axis=1).iloc[1].sort_values(ascending=False)"
   ],
   "metadata": {
    "collapsed": false
   }
  },
  {
   "cell_type": "code",
   "execution_count": 71,
   "outputs": [
    {
     "name": "stderr",
     "output_type": "stream",
     "text": [
      "/var/folders/57/nk0v860921q9yr1l82gwj0xm0000gp/T/ipykernel_10261/640293622.py:1: FutureWarning: Using the level keyword in DataFrame and Series aggregations is deprecated and will be removed in a future version. Use groupby instead. df.median(level=1) should use df.groupby(level=1).median().\n",
      "  t=k.mean(level=0,axis=1)\n"
     ]
    },
    {
     "data": {
      "text/plain": "LN                                  0.899968\nSVM                                 0.880782\nOCT_SVM_rules                       0.855998\nOCT_NB_rules                        0.855998\nOCT_LN_rules                        0.855998\nOCT+OCT-H_SVM_rules                 0.855998\nOCT+OCT-H_NB_rules                  0.855998\nOCT+OCT-H_LN_rules                  0.855998\nOCT                                 0.853404\nKNN                                 0.853289\nNB                                  0.847560\nCART_SVM_rules                      0.839657\nCART_LN_rules                       0.839657\nOCT+OCT-H_LN_rules_and_features     0.837458\nOCT_LN_rules_and_features           0.837458\nOCT_SVM_rules_and_features          0.832002\nOCT+OCT-H_SVM_rules_and_features    0.832002\nCART                                0.831057\nCART_LN_rules_and_features          0.830227\nOCT_NB_rules_and_features           0.827478\nOCT+OCT-H_NB_rules_and_features     0.827478\nCART_SVM_rules_and_features         0.815218\nCART_KNN_rules                      0.811646\nOCT_KNN_rules_and_features          0.811227\nOCT+OCT-H_KNN_rules_and_features    0.811227\nOCT_KNN_rules                       0.805493\nOCT+OCT-H_KNN_rules                 0.805493\nCART_NB_rules_and_features          0.796666\nCART_KNN_rules_and_features         0.784707\nCART_NB_rules                       0.779982\nOCT-H                                    NaN\nORT                                      NaN\nORT-H                                    NaN\nReg-CART                                 NaN\ndtype: float64"
     },
     "execution_count": 71,
     "metadata": {},
     "output_type": "execute_result"
    }
   ],
   "source": [
    "t=k.mean(level=0,axis=1)\n",
    "t = t.mean(axis=0)\n",
    "t.sort_values(ascending = False)"
   ],
   "metadata": {
    "collapsed": false
   }
  },
  {
   "cell_type": "code",
   "execution_count": 72,
   "metadata": {
    "collapsed": false
   },
   "outputs": [
    {
     "name": "stderr",
     "output_type": "stream",
     "text": [
      "/var/folders/57/nk0v860921q9yr1l82gwj0xm0000gp/T/ipykernel_10261/170700546.py:2: FutureWarning: Using the level keyword in DataFrame and Series aggregations is deprecated and will be removed in a future version. Use groupby instead. df.var(level=1) should use df.groupby(level=1).var().\n",
      "  y = y.var(level=0,axis=1)\n"
     ]
    }
   ],
   "source": [
    "y = k.swaplevel(axis=1)\n",
    "y = y.var(level=0,axis=1)\n",
    "y = y.mean(axis=0)\n",
    "good_tests = y[y < 0.01].index\n",
    "good = list(good_tests)"
   ]
  },
  {
   "cell_type": "code",
   "execution_count": 73,
   "metadata": {
    "collapsed": false
   },
   "outputs": [
    {
     "name": "stderr",
     "output_type": "stream",
     "text": [
      "/var/folders/57/nk0v860921q9yr1l82gwj0xm0000gp/T/ipykernel_10261/3612278647.py:2: FutureWarning: Using the level keyword in DataFrame and Series aggregations is deprecated and will be removed in a future version. Use groupby instead. df.median(level=1) should use df.groupby(level=1).median().\n",
      "  vaild_results=vaild_results.mean(level=0,axis=1)\n"
     ]
    },
    {
     "data": {
      "text/plain": "CART                                0.831057\nCART_KNN_rules                      0.811646\nCART_KNN_rules_and_features         0.784707\nCART_LN_rules                       0.839657\nCART_LN_rules_and_features          0.830227\nCART_NB_rules                       0.779982\nCART_NB_rules_and_features          0.796666\nCART_SVM_rules                      0.839657\nCART_SVM_rules_and_features         0.815218\nKNN                                 0.853289\nLN                                  0.899968\nNB                                  0.847560\nOCT                                 0.853404\nOCT+OCT-H_KNN_rules                 0.805493\nOCT+OCT-H_KNN_rules_and_features    0.811227\nOCT+OCT-H_LN_rules                  0.855998\nOCT+OCT-H_LN_rules_and_features     0.837458\nOCT+OCT-H_NB_rules                  0.855998\nOCT+OCT-H_NB_rules_and_features     0.827478\nOCT+OCT-H_SVM_rules                 0.855998\nOCT+OCT-H_SVM_rules_and_features    0.832002\nOCT-H                                    NaN\nOCT_KNN_rules                       0.805493\nOCT_KNN_rules_and_features          0.811227\nOCT_LN_rules                        0.855998\nOCT_LN_rules_and_features           0.837458\nOCT_NB_rules                        0.855998\nOCT_NB_rules_and_features           0.827478\nOCT_SVM_rules                       0.855998\nOCT_SVM_rules_and_features          0.832002\nORT                                      NaN\nORT-H                                    NaN\nReg-CART                                 NaN\nSVM                                 0.880782\ndtype: float64"
     },
     "execution_count": 73,
     "metadata": {},
     "output_type": "execute_result"
    }
   ],
   "source": [
    "vaild_results = k.iloc[:,k.columns.isin(good, level=1)]\n",
    "vaild_results=vaild_results.mean(level=0,axis=1)\n",
    "vaild_results.mean(axis=0)"
   ]
  },
  {
   "cell_type": "code",
   "execution_count": 74,
   "id": "a935b482",
   "metadata": {},
   "outputs": [
    {
     "ename": "ValueError",
     "evalue": "The number of FixedLocator locations (34), usually from a call to set_ticks, does not match the number of ticklabels (5).",
     "output_type": "error",
     "traceback": [
      "\u001B[0;31m---------------------------------------------------------------------------\u001B[0m",
      "\u001B[0;31mValueError\u001B[0m                                Traceback (most recent call last)",
      "Cell \u001B[0;32mIn [74], line 17\u001B[0m\n\u001B[1;32m     13\u001B[0m sns\u001B[38;5;241m.\u001B[39mboxplot(k[columns], ax \u001B[38;5;241m=\u001B[39m ax[m, j])\n\u001B[1;32m     15\u001B[0m ax[m, j]\u001B[38;5;241m.\u001B[39mset_title(dataset)\n\u001B[0;32m---> 17\u001B[0m \u001B[43max\u001B[49m\u001B[43m[\u001B[49m\u001B[43mm\u001B[49m\u001B[43m,\u001B[49m\u001B[43m \u001B[49m\u001B[43mj\u001B[49m\u001B[43m]\u001B[49m\u001B[38;5;241;43m.\u001B[39;49m\u001B[43mset_xticklabels\u001B[49m\u001B[43m(\u001B[49m\u001B[43m[\u001B[49m\u001B[38;5;124;43m'\u001B[39;49m\u001B[38;5;124;43mCART Rules\u001B[39;49m\u001B[38;5;124;43m'\u001B[39;49m\u001B[43m,\u001B[49m\u001B[43m \u001B[49m\u001B[38;5;124;43m\"\u001B[39;49m\u001B[38;5;124;43mOCT Rules\u001B[39;49m\u001B[38;5;124;43m\"\u001B[39;49m\u001B[43m,\u001B[49m\u001B[43m \u001B[49m\u001B[38;5;124;43m\"\u001B[39;49m\u001B[38;5;124;43mLogistic Regression\u001B[39;49m\u001B[38;5;124;43m\"\u001B[39;49m\u001B[43m,\u001B[49m\u001B[43m \u001B[49m\u001B[38;5;124;43m\"\u001B[39;49m\u001B[38;5;124;43mRuleFit\u001B[39;49m\u001B[38;5;124;43m\"\u001B[39;49m\u001B[43m,\u001B[49m\u001B[43m \u001B[49m\u001B[38;5;124;43m\"\u001B[39;49m\u001B[38;5;124;43mORRFA\u001B[39;49m\u001B[38;5;124;43m\"\u001B[39;49m\u001B[43m]\u001B[49m\u001B[43m)\u001B[49m\n\u001B[1;32m     19\u001B[0m iteration \u001B[38;5;241m+\u001B[39m\u001B[38;5;241m=\u001B[39m \u001B[38;5;241m1\u001B[39m\n",
      "File \u001B[0;32m/Library/Python/3.9/site-packages/matplotlib/axes/_base.py:73\u001B[0m, in \u001B[0;36m_axis_method_wrapper.__set_name__.<locals>.wrapper\u001B[0;34m(self, *args, **kwargs)\u001B[0m\n\u001B[1;32m     72\u001B[0m \u001B[38;5;28;01mdef\u001B[39;00m \u001B[38;5;21mwrapper\u001B[39m(\u001B[38;5;28mself\u001B[39m, \u001B[38;5;241m*\u001B[39margs, \u001B[38;5;241m*\u001B[39m\u001B[38;5;241m*\u001B[39mkwargs):\n\u001B[0;32m---> 73\u001B[0m     \u001B[38;5;28;01mreturn\u001B[39;00m \u001B[43mget_method\u001B[49m\u001B[43m(\u001B[49m\u001B[38;5;28;43mself\u001B[39;49m\u001B[43m)\u001B[49m\u001B[43m(\u001B[49m\u001B[38;5;241;43m*\u001B[39;49m\u001B[43margs\u001B[49m\u001B[43m,\u001B[49m\u001B[43m \u001B[49m\u001B[38;5;241;43m*\u001B[39;49m\u001B[38;5;241;43m*\u001B[39;49m\u001B[43mkwargs\u001B[49m\u001B[43m)\u001B[49m\n",
      "File \u001B[0;32m/Library/Python/3.9/site-packages/matplotlib/axis.py:1968\u001B[0m, in \u001B[0;36mAxis._set_ticklabels\u001B[0;34m(self, labels, fontdict, minor, **kwargs)\u001B[0m\n\u001B[1;32m   1966\u001B[0m \u001B[38;5;28;01mif\u001B[39;00m fontdict \u001B[38;5;129;01mis\u001B[39;00m \u001B[38;5;129;01mnot\u001B[39;00m \u001B[38;5;28;01mNone\u001B[39;00m:\n\u001B[1;32m   1967\u001B[0m     kwargs\u001B[38;5;241m.\u001B[39mupdate(fontdict)\n\u001B[0;32m-> 1968\u001B[0m \u001B[38;5;28;01mreturn\u001B[39;00m \u001B[38;5;28;43mself\u001B[39;49m\u001B[38;5;241;43m.\u001B[39;49m\u001B[43mset_ticklabels\u001B[49m\u001B[43m(\u001B[49m\u001B[43mlabels\u001B[49m\u001B[43m,\u001B[49m\u001B[43m \u001B[49m\u001B[43mminor\u001B[49m\u001B[38;5;241;43m=\u001B[39;49m\u001B[43mminor\u001B[49m\u001B[43m,\u001B[49m\u001B[43m \u001B[49m\u001B[38;5;241;43m*\u001B[39;49m\u001B[38;5;241;43m*\u001B[39;49m\u001B[43mkwargs\u001B[49m\u001B[43m)\u001B[49m\n",
      "File \u001B[0;32m/Library/Python/3.9/site-packages/matplotlib/axis.py:1890\u001B[0m, in \u001B[0;36mAxis.set_ticklabels\u001B[0;34m(self, ticklabels, minor, **kwargs)\u001B[0m\n\u001B[1;32m   1886\u001B[0m \u001B[38;5;28;01mif\u001B[39;00m \u001B[38;5;28misinstance\u001B[39m(locator, mticker\u001B[38;5;241m.\u001B[39mFixedLocator):\n\u001B[1;32m   1887\u001B[0m     \u001B[38;5;66;03m# Passing [] as a list of ticklabels is often used as a way to\u001B[39;00m\n\u001B[1;32m   1888\u001B[0m     \u001B[38;5;66;03m# remove all tick labels, so only error for > 0 ticklabels\u001B[39;00m\n\u001B[1;32m   1889\u001B[0m     \u001B[38;5;28;01mif\u001B[39;00m \u001B[38;5;28mlen\u001B[39m(locator\u001B[38;5;241m.\u001B[39mlocs) \u001B[38;5;241m!=\u001B[39m \u001B[38;5;28mlen\u001B[39m(ticklabels) \u001B[38;5;129;01mand\u001B[39;00m \u001B[38;5;28mlen\u001B[39m(ticklabels) \u001B[38;5;241m!=\u001B[39m \u001B[38;5;241m0\u001B[39m:\n\u001B[0;32m-> 1890\u001B[0m         \u001B[38;5;28;01mraise\u001B[39;00m \u001B[38;5;167;01mValueError\u001B[39;00m(\n\u001B[1;32m   1891\u001B[0m             \u001B[38;5;124m\"\u001B[39m\u001B[38;5;124mThe number of FixedLocator locations\u001B[39m\u001B[38;5;124m\"\u001B[39m\n\u001B[1;32m   1892\u001B[0m             \u001B[38;5;124mf\u001B[39m\u001B[38;5;124m\"\u001B[39m\u001B[38;5;124m (\u001B[39m\u001B[38;5;132;01m{\u001B[39;00m\u001B[38;5;28mlen\u001B[39m(locator\u001B[38;5;241m.\u001B[39mlocs)\u001B[38;5;132;01m}\u001B[39;00m\u001B[38;5;124m), usually from a call to\u001B[39m\u001B[38;5;124m\"\u001B[39m\n\u001B[1;32m   1893\u001B[0m             \u001B[38;5;124m\"\u001B[39m\u001B[38;5;124m set_ticks, does not match\u001B[39m\u001B[38;5;124m\"\u001B[39m\n\u001B[1;32m   1894\u001B[0m             \u001B[38;5;124mf\u001B[39m\u001B[38;5;124m\"\u001B[39m\u001B[38;5;124m the number of ticklabels (\u001B[39m\u001B[38;5;132;01m{\u001B[39;00m\u001B[38;5;28mlen\u001B[39m(ticklabels)\u001B[38;5;132;01m}\u001B[39;00m\u001B[38;5;124m).\u001B[39m\u001B[38;5;124m\"\u001B[39m)\n\u001B[1;32m   1895\u001B[0m     tickd \u001B[38;5;241m=\u001B[39m {loc: lab \u001B[38;5;28;01mfor\u001B[39;00m loc, lab \u001B[38;5;129;01min\u001B[39;00m \u001B[38;5;28mzip\u001B[39m(locator\u001B[38;5;241m.\u001B[39mlocs, ticklabels)}\n\u001B[1;32m   1896\u001B[0m     func \u001B[38;5;241m=\u001B[39m functools\u001B[38;5;241m.\u001B[39mpartial(\u001B[38;5;28mself\u001B[39m\u001B[38;5;241m.\u001B[39m_format_with_dict, tickd)\n",
      "\u001B[0;31mValueError\u001B[0m: The number of FixedLocator locations (34), usually from a call to set_ticks, does not match the number of ticklabels (5)."
     ]
    },
    {
     "data": {
      "text/plain": "<Figure size 3000x2500 with 20 Axes>",
      "image/png": "[encoded data removed]"
     },
     "metadata": {},
     "output_type": "display_data"
    }
   ],
   "source": [
    "import matplotlib.pyplot as plt\n",
    "fig, ax = plt.subplots(nrows = 5, ncols = 4, gridspec_kw = {\"hspace\": 0.25})\n",
    "import seaborn as sns\n",
    "fig.set_size_inches(30, 25)\n",
    "iteration = 0\n",
    "\n",
    "for m in range(5):\n",
    "    for j in range(4):\n",
    "\n",
    "        dataset = classification_dataset_names[:20][iteration]\n",
    "\n",
    "        columns = [i for i in k.columns if dataset in i]\n",
    "        sns.boxplot(k[columns], ax = ax[m, j])\n",
    "\n",
    "        ax[m, j].set_title(dataset)\n",
    "\n",
    "        ax[m, j].set_xticklabels(['CART Rules', \"OCT Rules\", \"Logistic Regression\", \"RuleFit\", \"ORRFA\"])\n",
    "\n",
    "        iteration += 1\n",
    "\n"
   ]
  },
  {
   "cell_type": "code",
   "execution_count": null,
   "id": "f94a02e4",
   "metadata": {},
   "outputs": [],
   "source": [
    "import matplotlib.pyplot as plt\n",
    "import seaborn as sns\n",
    "fig, ax = plt.subplots()\n",
    "sns.boxplot(data = performance_by_iter)\n",
    "fig.set_size_inches(20, 10)\n",
    "ax.set_xticklabels(performance_by_iter.columns.values)\n",
    "# ax.set_ylim(0.93, 0.995)\n",
    "ax.tick_params(rotation = 0, labelsize = 14)\n",
    "ax.set_ylabel(\"Accuracy\", fontsize = 14)\n",
    "ax.set_title(\"Accuracy of Logistic Regression, RuleFit and ORRFA\", fontsize = 15)\n",
    "# ax.set_ylabel()\n",
    "plt.savefig('Benchmark ORRFA.png')"
   ]
  },
  {
   "cell_type": "code",
   "execution_count": null,
   "outputs": [],
   "source": [],
   "metadata": {
    "collapsed": false
   }
  },
  {
   "cell_type": "code",
   "execution_count": null,
   "outputs": [],
   "source": [
    "iters=5\n",
    "res_rul = {}\n",
    "sc = StandardScaler()\n",
    "names = ['Reg-CART','CART','ORT','OCT','ORT-H','OCT-H','ORT+ORT-H','OCT+OCT-H']\n",
    "\n",
    "for classification_dataset in classification_dataset_names:\n",
    "    df = fetch_data(classification_dataset)\n",
    "    df, num_col, bin_col, cat_col = corr_data_for(df)\n",
    "    if (df.shape[0] > 10000) | (df.shape[1] > 100) | (df.empty):\n",
    "        continue\n",
    "    y = df['target']\n",
    "    X = df.loc[:, df.columns != 'target']\n",
    "\n",
    "    print(color.BOLD + '\\n\\n    ----------------------------------------- {} -----------------------------------------'.format(classification_dataset) + color.END)\n",
    "    rows_data, columns_data = X.shape\n",
    "    print('Dataset Information')\n",
    "    print('Rows:',rows_data,)\n",
    "    print('Columns:',columns_data)\n",
    "    print('Number of classes:',y.nunique())\n",
    "    print('Continous columns:', len(num_col))\n",
    "    print('Binary columns:', len(bin_col))\n",
    "    print('Categorical columns:',len(cat_col))\n",
    "    print('-------------------------------------------------')\n",
    "\n",
    "    for it in range(iters):\n",
    "        X_train, X_test, y_train, y_test = train_test_split(X,y, test_size = 0.2, random_state = it, stratify=y)\n",
    "        X_col = X_train.columns\n",
    "        col_len = len(X_col)\n",
    "        X_test.name = \"X_test\"\n",
    "        X_train.name = \"X_train\"\n",
    "        X_train = sc.fit_transform(X_train)\n",
    "        X_test = sc.transform(X_test)\n",
    "        X_train = pd.DataFrame(X_train,columns=X_col)\n",
    "        X_test = pd.DataFrame(X_test,columns=X_col)\n",
    "        factors = ['all',0.5,1,1.2,1.4,1.6,1.8,2,2.5,3]\n",
    "\n",
    "        models, performance = generate_tree(X_train, y_train, X_test, y_test, n_num=1, feat_size=len(X.columns),  max_iter_hy=2,sub_paths=True,depth_grid=range(1,7), depth_grid_hy=range(1,3), complexity_bi = 0.001, complexity_hy=0.001,  Reg_CART=False, ORT=False, ORT_H=False, Clas_CART=True, OCT=True, OCT_H=False)\n",
    "        for perf,name in zip(performance,names):\n",
    "            if not not perf:\n",
    "                res_rul[(classification_dataset,name,it,1)] = sum(perf) / len(perf)\n",
    "\n",
    "        act_name = []\n",
    "        act_rules = []\n",
    "        for model,name in zip(models,names):\n",
    "            if (all(model)) & (not not model) & (None not in model):\n",
    "                act_name.append(name)\n",
    "                act_rules.append(model)\n",
    "\n",
    "        datasets = gen_train_and_test_features(act_rules ,act_name , X_train, X_test)\n",
    "        for model in datasets.keys():\n",
    "            X_train_rules_and_features, X_test_rules_and_features = datasets[model][0]\n",
    "            X_train_only_rules, X_test_only_rules = datasets[model][1]\n",
    "\n",
    "            for len_c in factors:\n",
    "\n",
    "                if len_c == 'all':\n",
    "                    len_rule = 'all'\n",
    "                    cols = SelectKBest(k='all').fit(X_train_rules_and_features,y_train).get_feature_names_out()\n",
    "                    X_train_rules_features = X_train_rules_and_features[cols]\n",
    "                    X_test_rules_features = X_test_rules_and_features[cols]\n",
    "\n",
    "                    cols_1 = SelectKBest(k='all').fit(X_train_only_rules,y_train).get_feature_names_out()\n",
    "                    X_train_rules = X_train_only_rules[cols_1]\n",
    "                    X_test_rules = X_test_only_rules[cols_1]\n",
    "\n",
    "                elif (round(col_len*len_c) <= X_train.shape[0]) & (round(col_len*len_c) <= len(X_train_rules_and_features.columns)):\n",
    "                    min_feat_rule = round(col_len*len_c)\n",
    "                    if (round(col_len*len_c) > len(X_train_only_rules.columns)) & (col_len != 0.5):\n",
    "                        len_rule = 1\n",
    "                        min_rule = len(X_train_only_rules.columns)\n",
    "                    else:\n",
    "                        len_rule = len_c\n",
    "                        min_rule = min(round(col_len*len_c),len(X_train_only_rules.columns))\n",
    "\n",
    "\n",
    "                    cols = SelectKBest(k=min_feat_rule).fit(X_train_rules_and_features,y_train).get_feature_names_out()\n",
    "                    X_train_rules_features = X_train_rules_and_features[cols]\n",
    "                    X_test_rules_features = X_test_rules_and_features[cols]\n",
    "\n",
    "                    cols_1 = SelectKBest(k=min_rule).fit(X_train_only_rules,y_train).get_feature_names_out()\n",
    "                    X_train_rules = X_train_only_rules[cols_1]\n",
    "                    X_test_rules = X_test_only_rules[cols_1]\n",
    "\n",
    "                else:\n",
    "                     continue\n",
    "\n",
    "                # Pipeline models\n",
    "                only_rules_acc_LN = log_regression_pipeline(X_train_rules, X_test_rules, y_train, y_test)\n",
    "                rules_and_features_acc_LN = log_regression_pipeline(X_train_rules_features, X_test_rules_features, y_train, y_test)\n",
    "                res_rul[(classification_dataset,model + \"_LG_rules\",it,len_rule)] = only_rules_acc_LN\n",
    "                res_rul[(classification_dataset,model + \"_LG_rules_and_features\",it,len_c)] = rules_and_features_acc_LN\n",
    "\n",
    "                only_rules_acc_SVM = SVM_pipeline(X_train_rules, X_test_rules, y_train, y_test)\n",
    "                rules_and_features_acc_SVM = SVM_pipeline(X_train_rules_features, X_test_rules_features, y_train, y_test)\n",
    "                res_rul[(classification_dataset,model + \"_SVM_rules\",it,len_rule)] = only_rules_acc_SVM\n",
    "                res_rul[(classification_dataset,model + \"_SVM_rules_and_features\",it,len_c)] = rules_and_features_acc_SVM\n",
    "\n",
    "                only_rules_acc_NB = NB_pipeline(X_train_rules, X_test_rules, y_train, y_test)\n",
    "                rules_and_features_acc_NB = NB_pipeline(X_train_rules_features, X_test_rules_features, y_train, y_test)\n",
    "                res_rul[(classification_dataset,model + \"_NB_rules\",it,len_rule)] = only_rules_acc_NB\n",
    "                res_rul[(classification_dataset,model + \"_NB_rules_and_features\",it,len_c)] = rules_and_features_acc_NB\n",
    "\n",
    "                only_rules_acc_KNN = KNN_pipeline(X_train_rules, X_test_rules, y_train, y_test)\n",
    "                rules_and_features_acc_KNN = KNN_pipeline(X_train_rules_features, X_test_rules_features, y_train, y_test)\n",
    "                res_rul[(classification_dataset,model + \"_KNN_rules\",it,len_rule)] = only_rules_acc_KNN\n",
    "                res_rul[(classification_dataset,model + \"_KNN_rules_and_features\",it,len_c)] = rules_and_features_acc_KNN\n",
    "\n",
    "\n",
    "        res_rul[(classification_dataset,'Logistic_Regression',it,1)] = log_regression_pipeline(X_train, X_test, y_train, y_test)\n",
    "        res_rul[(classification_dataset,\"Support Vector Machine\",it,1)] = SVM_pipeline(X_train, X_test, y_train, y_test)\n",
    "        res_rul[(classification_dataset,\"Naive Bayes\",it,1)] = NB_pipeline(X_train, X_test, y_train, y_test)\n",
    "        res_rul[(classification_dataset,\"K-Nearest-Neighbor\",it,1)] = KNN_pipeline(X_train, X_test, y_train, y_test)"
   ],
   "metadata": {
    "collapsed": false
   }
  },
  {
   "cell_type": "code",
   "execution_count": null,
   "outputs": [],
   "source": [
    "res_rul"
   ],
   "metadata": {
    "collapsed": false
   }
  },
  {
   "cell_type": "code",
   "execution_count": null,
   "outputs": [],
   "source": [],
   "metadata": {
    "collapsed": false
   }
  }
 ],
 "metadata": {
  "kernelspec": {
   "display_name": "Python 3.10.8 64-bit",
   "language": "python",
   "name": "python3"
  },
  "language_info": {
   "codemirror_mode": {
    "name": "ipython",
    "version": 3
   },
   "file_extension": ".py",
   "mimetype": "text/x-python",
   "name": "python",
   "nbconvert_exporter": "python",
   "pygments_lexer": "ipython3",
   "version": "3.10.8"
  },
  "vscode": {
   "interpreter": {
    "hash": "aee8b7b246df8f9039afb4144a1f6fd8d2ca17a180786b69acc140d282b71a49"
   }
  }
 },
 "nbformat": 4,
 "nbformat_minor": 5
}
