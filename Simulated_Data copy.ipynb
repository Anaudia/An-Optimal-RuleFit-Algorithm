{
 "cells": [
  {
   "cell_type": "code",
   "execution_count": 20,
   "metadata": {},
   "outputs": [],
   "source": [
    "import numpy as np\n",
    "import pandas as pd"
   ]
  },
  {
   "cell_type": "markdown",
   "id": "88a4e4e5",
   "metadata": {},
   "source": [
    "### Classification"
   ]
  },
  {
   "cell_type": "code",
   "execution_count": 47,
   "metadata": {},
   "outputs": [],
   "source": [
    "## Create artificial data set with\n",
    "n = 2000\n",
    "x1 = np.random.normal(loc = 0,scale=1, size=n)\n",
    "x2 = np.random.normal(loc=0, scale=1, size=n)\n",
    "x3 = np.random.normal(loc=0, scale=1, size=n)\n",
    "x4 = np.random.normal(loc=0, scale=1, size=n)\n",
    "eps = np.random.normal(loc=0, scale=0.05, size=n)\n",
    "\n",
    "label_not_flipped = np.random.choice([1,0], replace = True, size = n, p = [0.9, 0.1])\n",
    "\n",
    "y = ((x1 > 0.5).astype(float) * (x2 <  -0.4).astype(float))*label_not_flipped\n",
    "y_bar = ((x1 > 0.5).astype(float) * (x2 <  -0.4).astype(float)) \n",
    "\n",
    "X = pd.DataFrame({'x1': x1, 'x2': x2, 'x3': x3, 'x4': x4, 'y': y, 'y_bar': y_bar})"
   ]
  },
  {
   "cell_type": "code",
   "execution_count": 42,
   "metadata": {
    "collapsed": false
   },
   "outputs": [
    {
     "data": {
      "text/html": [
       "<div>\n",
       "<style scoped>\n",
       "    .dataframe tbody tr th:only-of-type {\n",
       "        vertical-align: middle;\n",
       "    }\n",
       "\n",
       "    .dataframe tbody tr th {\n",
       "        vertical-align: top;\n",
       "    }\n",
       "\n",
       "    .dataframe thead th {\n",
       "        text-align: right;\n",
       "    }\n",
       "</style>\n",
       "<table border=\"1\" class=\"dataframe\">\n",
       "  <thead>\n",
       "    <tr style=\"text-align: right;\">\n",
       "      <th></th>\n",
       "      <th>x1</th>\n",
       "      <th>x2</th>\n",
       "      <th>x3</th>\n",
       "      <th>x4</th>\n",
       "      <th>y</th>\n",
       "      <th>y_bar</th>\n",
       "    </tr>\n",
       "  </thead>\n",
       "  <tbody>\n",
       "    <tr>\n",
       "      <th>x1</th>\n",
       "      <td>1.000000</td>\n",
       "      <td>0.012272</td>\n",
       "      <td>0.012171</td>\n",
       "      <td>0.008543</td>\n",
       "      <td>0.396527</td>\n",
       "      <td>0.393635</td>\n",
       "    </tr>\n",
       "    <tr>\n",
       "      <th>x2</th>\n",
       "      <td>0.012272</td>\n",
       "      <td>1.000000</td>\n",
       "      <td>0.032529</td>\n",
       "      <td>-0.011087</td>\n",
       "      <td>-0.332178</td>\n",
       "      <td>-0.338688</td>\n",
       "    </tr>\n",
       "    <tr>\n",
       "      <th>x3</th>\n",
       "      <td>0.012171</td>\n",
       "      <td>0.032529</td>\n",
       "      <td>1.000000</td>\n",
       "      <td>0.010324</td>\n",
       "      <td>0.014887</td>\n",
       "      <td>0.021336</td>\n",
       "    </tr>\n",
       "    <tr>\n",
       "      <th>x4</th>\n",
       "      <td>0.008543</td>\n",
       "      <td>-0.011087</td>\n",
       "      <td>0.010324</td>\n",
       "      <td>1.000000</td>\n",
       "      <td>0.025338</td>\n",
       "      <td>0.028582</td>\n",
       "    </tr>\n",
       "    <tr>\n",
       "      <th>y</th>\n",
       "      <td>0.396527</td>\n",
       "      <td>-0.332178</td>\n",
       "      <td>0.014887</td>\n",
       "      <td>0.025338</td>\n",
       "      <td>1.000000</td>\n",
       "      <td>0.986740</td>\n",
       "    </tr>\n",
       "    <tr>\n",
       "      <th>y_bar</th>\n",
       "      <td>0.393635</td>\n",
       "      <td>-0.338688</td>\n",
       "      <td>0.021336</td>\n",
       "      <td>0.028582</td>\n",
       "      <td>0.986740</td>\n",
       "      <td>1.000000</td>\n",
       "    </tr>\n",
       "  </tbody>\n",
       "</table>\n",
       "</div>"
      ],
      "text/plain": [
       "             x1        x2        x3        x4         y     y_bar\n",
       "x1     1.000000  0.012272  0.012171  0.008543  0.396527  0.393635\n",
       "x2     0.012272  1.000000  0.032529 -0.011087 -0.332178 -0.338688\n",
       "x3     0.012171  0.032529  1.000000  0.010324  0.014887  0.021336\n",
       "x4     0.008543 -0.011087  0.010324  1.000000  0.025338  0.028582\n",
       "y      0.396527 -0.332178  0.014887  0.025338  1.000000  0.986740\n",
       "y_bar  0.393635 -0.338688  0.021336  0.028582  0.986740  1.000000"
      ]
     },
     "execution_count": 42,
     "metadata": {},
     "output_type": "execute_result"
    }
   ],
   "source": [
    "X.corr()"
   ]
  },
  {
   "cell_type": "code",
   "execution_count": 60,
   "metadata": {
    "collapsed": false
   },
   "outputs": [],
   "source": [
    "X.to_csv(\"simulated_data.csv\")"
   ]
  },
  {
   "cell_type": "markdown",
   "metadata": {
    "collapsed": false
   },
   "source": []
  },
  {
   "cell_type": "markdown",
   "id": "3df94fab",
   "metadata": {},
   "source": [
    "### Regression"
   ]
  },
  {
   "cell_type": "code",
   "execution_count": 48,
   "id": "81abf3da",
   "metadata": {},
   "outputs": [],
   "source": [
    "## Create artificial data set with\n",
    "n = 2000\n",
    "x1 = np.random.normal(loc = 0,scale=1, size=n)\n",
    "x2 = np.random.normal(loc=0, scale=1, size=n)\n",
    "x3 = np.random.normal(loc=0, scale=1, size=n)\n",
    "x4 = np.random.normal(loc=0, scale=1, size=n)\n",
    "eps = np.random.normal(loc=0, scale=0.05, size=n)\n",
    "mu = np.random.normal(loc = 0, scale = 1, size = 1)\n",
    "y = mu + ((x1 > 0.5).astype(float) * (x2 <  -0.4).astype(float)) + eps\n",
    "y_bar = mu + ((x1 > 0.5).astype(float) * (x2 <  -0.4).astype(float)) \n",
    "\n",
    "X = pd.DataFrame({'x1': x1, 'x2': x2, 'x3': x3, 'x4': x4, 'y': y, 'y_bar': y_bar})"
   ]
  }
 ],
 "metadata": {
  "kernelspec": {
   "display_name": "Python 3.10.8 64-bit",
   "language": "python",
   "name": "python3"
  },
  "language_info": {
   "codemirror_mode": {
    "name": "ipython",
    "version": 3
   },
   "file_extension": ".py",
   "mimetype": "text/x-python",
   "name": "python",
   "nbconvert_exporter": "python",
   "pygments_lexer": "ipython3",
   "version": "3.10.8"
  },
  "vscode": {
   "interpreter": {
    "hash": "aee8b7b246df8f9039afb4144a1f6fd8d2ca17a180786b69acc140d282b71a49"
   }
  }
 },
 "nbformat": 4,
 "nbformat_minor": 5
}
