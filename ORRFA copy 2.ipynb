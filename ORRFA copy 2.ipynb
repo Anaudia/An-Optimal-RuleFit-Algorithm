{
 "cells": [
  {
   "cell_type": "code",
   "execution_count": 1,
   "id": "2042e7c0",
   "metadata": {
    "pycharm": {
     "name": "#%%\n"
    }
   },
   "outputs": [
    {
     "name": "stderr",
     "output_type": "stream",
     "text": [
      "WARNING:root:This copy of Interpretable AI software is for academic purposes only and not for commercial use.\n"
     ]
    }
   ],
   "source": [
    "import numpy as np\n",
    "import matplotlib.pyplot as plt\n",
    "from ORRFA import *\n",
    "import interpretableai\n",
    "from interpretableai import iai\n",
    "import pandas as pd\n",
    "import json\n",
    "from HR import *"
   ]
  },
  {
   "cell_type": "code",
   "execution_count": 2,
   "outputs": [],
   "source": [
    "dataset = pd.read_csv(\"/Users/ryanlucas/Desktop/Steel_industry_data.csv\")\n",
    "\n",
    "train_idx = np.arange(0, int(0.2*len(dataset)))\n",
    "test_idx = np.arange(int(0.2*len(dataset)), int(0.3*len(dataset)))\n",
    "\n",
    "features = dataset.loc[train_idx].iloc[:, 2:-4]\n",
    "diagnosis = dataset.loc[train_idx].iloc[:, 1]\n",
    "\n",
    "orig_features_size = features.copy().shape[1]"
   ],
   "metadata": {
    "collapsed": false,
    "pycharm": {
     "name": "#%%\n"
    }
   }
  },
  {
   "cell_type": "code",
   "execution_count": 3,
   "outputs": [],
   "source": [
    "features_test = dataset.loc[test_idx].iloc[:, 2:-4]\n",
    "diagnosis_test = dataset.loc[test_idx].iloc[:, 1]"
   ],
   "metadata": {
    "collapsed": false,
    "pycharm": {
     "name": "#%%\n"
    }
   }
  },
  {
   "cell_type": "code",
   "execution_count": 4,
   "outputs": [
    {
     "data": {
      "text/plain": "0       3.17\n1       4.00\n2       3.24\n3       3.31\n4       3.82\n        ... \n7003    4.07\n7004    3.96\n7005    3.96\n7006    3.96\n7007    4.03\nName: Usage_kWh, Length: 7008, dtype: float64"
     },
     "execution_count": 4,
     "metadata": {},
     "output_type": "execute_result"
    }
   ],
   "source": [
    "diagnosis"
   ],
   "metadata": {
    "collapsed": false,
    "pycharm": {
     "name": "#%%\n"
    }
   }
  },
  {
   "cell_type": "code",
   "execution_count": 5,
   "outputs": [
    {
     "name": "stdout",
     "output_type": "stream",
     "text": [
      "35040\n",
      "7008\n",
      "3504\n"
     ]
    }
   ],
   "source": [
    "print(len(dataset))\n",
    "print(len(features))\n",
    "print(len(features_test))"
   ],
   "metadata": {
    "collapsed": false,
    "pycharm": {
     "name": "#%%\n"
    }
   }
  },
  {
   "cell_type": "code",
   "execution_count": 6,
   "outputs": [
    {
     "data": {
      "text/plain": "      Lagging_Current_Reactive.Power_kVarh  \\\n0                                     2.95   \n1                                     4.46   \n2                                     3.28   \n3                                     3.56   \n4                                     4.50   \n...                                    ...   \n7003                                  6.48   \n7004                                  5.65   \n7005                                  5.76   \n7006                                  5.58   \n7007                                  6.05   \n\n      Leading_Current_Reactive_Power_kVarh  CO2(tCO2)  \\\n0                                      0.0        0.0   \n1                                      0.0        0.0   \n2                                      0.0        0.0   \n3                                      0.0        0.0   \n4                                      0.0        0.0   \n...                                    ...        ...   \n7003                                   0.0        0.0   \n7004                                   0.0        0.0   \n7005                                   0.0        0.0   \n7006                                   0.0        0.0   \n7007                                   0.0        0.0   \n\n      Lagging_Current_Power_Factor  Leading_Current_Power_Factor  \n0                            73.21                         100.0  \n1                            66.77                         100.0  \n2                            70.28                         100.0  \n3                            68.09                         100.0  \n4                            64.72                         100.0  \n...                            ...                           ...  \n7003                         53.19                         100.0  \n7004                         57.39                         100.0  \n7005                         56.65                         100.0  \n7006                         57.87                         100.0  \n7007                         55.44                         100.0  \n\n[7008 rows x 5 columns]",
      "text/html": "<div>\n<style scoped>\n    .dataframe tbody tr th:only-of-type {\n        vertical-align: middle;\n    }\n\n    .dataframe tbody tr th {\n        vertical-align: top;\n    }\n\n    .dataframe thead th {\n        text-align: right;\n    }\n</style>\n<table border=\"1\" class=\"dataframe\">\n  <thead>\n    <tr style=\"text-align: right;\">\n      <th></th>\n      <th>Lagging_Current_Reactive.Power_kVarh</th>\n      <th>Leading_Current_Reactive_Power_kVarh</th>\n      <th>CO2(tCO2)</th>\n      <th>Lagging_Current_Power_Factor</th>\n      <th>Leading_Current_Power_Factor</th>\n    </tr>\n  </thead>\n  <tbody>\n    <tr>\n      <th>0</th>\n      <td>2.95</td>\n      <td>0.0</td>\n      <td>0.0</td>\n      <td>73.21</td>\n      <td>100.0</td>\n    </tr>\n    <tr>\n      <th>1</th>\n      <td>4.46</td>\n      <td>0.0</td>\n      <td>0.0</td>\n      <td>66.77</td>\n      <td>100.0</td>\n    </tr>\n    <tr>\n      <th>2</th>\n      <td>3.28</td>\n      <td>0.0</td>\n      <td>0.0</td>\n      <td>70.28</td>\n      <td>100.0</td>\n    </tr>\n    <tr>\n      <th>3</th>\n      <td>3.56</td>\n      <td>0.0</td>\n      <td>0.0</td>\n      <td>68.09</td>\n      <td>100.0</td>\n    </tr>\n    <tr>\n      <th>4</th>\n      <td>4.50</td>\n      <td>0.0</td>\n      <td>0.0</td>\n      <td>64.72</td>\n      <td>100.0</td>\n    </tr>\n    <tr>\n      <th>...</th>\n      <td>...</td>\n      <td>...</td>\n      <td>...</td>\n      <td>...</td>\n      <td>...</td>\n    </tr>\n    <tr>\n      <th>7003</th>\n      <td>6.48</td>\n      <td>0.0</td>\n      <td>0.0</td>\n      <td>53.19</td>\n      <td>100.0</td>\n    </tr>\n    <tr>\n      <th>7004</th>\n      <td>5.65</td>\n      <td>0.0</td>\n      <td>0.0</td>\n      <td>57.39</td>\n      <td>100.0</td>\n    </tr>\n    <tr>\n      <th>7005</th>\n      <td>5.76</td>\n      <td>0.0</td>\n      <td>0.0</td>\n      <td>56.65</td>\n      <td>100.0</td>\n    </tr>\n    <tr>\n      <th>7006</th>\n      <td>5.58</td>\n      <td>0.0</td>\n      <td>0.0</td>\n      <td>57.87</td>\n      <td>100.0</td>\n    </tr>\n    <tr>\n      <th>7007</th>\n      <td>6.05</td>\n      <td>0.0</td>\n      <td>0.0</td>\n      <td>55.44</td>\n      <td>100.0</td>\n    </tr>\n  </tbody>\n</table>\n<p>7008 rows × 5 columns</p>\n</div>"
     },
     "execution_count": 6,
     "metadata": {},
     "output_type": "execute_result"
    }
   ],
   "source": [
    "features"
   ],
   "metadata": {
    "collapsed": false,
    "pycharm": {
     "name": "#%%\n"
    }
   }
  },
  {
   "cell_type": "code",
   "execution_count": 7,
   "outputs": [],
   "source": [
    "def gen_features(sub_paths, data, features, orig_feature_size):\n",
    "    new_features = features.copy()\n",
    "    for path in sub_paths:\n",
    "        statement = gen_statement(path, data, features)\n",
    "        if statement != '(0 < 0.0)' and statement != '(0 >= 0.0)':\n",
    "\n",
    "            try:\n",
    "                index_feature = features.loc[eval(statement)].index\n",
    "\n",
    "\n",
    "                new_feature = [1 if i in index_feature else 0 for i in range(len(features))]\n",
    "\n",
    "                if sum(new_feature) >= 1:\n",
    "                    new_features[statement] = new_feature\n",
    "\n",
    "            except:\n",
    "                print(statement)\n",
    "    return new_features.iloc[:, orig_feature_size:]"
   ],
   "metadata": {
    "collapsed": false,
    "pycharm": {
     "name": "#%%\n"
    }
   }
  },
  {
   "cell_type": "code",
   "execution_count": 8,
   "outputs": [
    {
     "name": "stderr",
     "output_type": "stream",
     "text": [
      "[ Warning: This copy of Interpretable AI software is for academic purposes only and not for commercial use.\n"
     ]
    },
    {
     "name": "stdout",
     "output_type": "stream",
     "text": [
      "Tree: 1\n",
      "Tree: 2\n",
      "Tree: 3\n",
      "Tree: 4\n",
      "Tree: 5\n",
      "Tree: 6\n",
      "Tree: 7\n",
      "Tree: 8\n",
      "Tree: 9\n",
      "Tree: 10\n",
      "Tree: 11\n",
      "Tree: 12\n",
      "Tree: 13\n",
      "Tree: 14\n"
     ]
    }
   ],
   "source": [
    "np.random.seed(1)\n",
    "n = 5\n",
    "rules = {}\n",
    "for i in range(1,15):\n",
    "\n",
    "    #################\n",
    "    sampled_features = features.copy().sample(n=int(n),axis='columns')\n",
    "\n",
    "    OCT_H = iai.GridSearch(\n",
    "          iai.OptimalTreeRegressor(\n",
    "              max_depth = 3, cp = 0.00000000001))\n",
    "\n",
    "    OCT_H.fit(sampled_features, diagnosis)\n",
    "    OCT_H.write_json(f\"tre_{i}.json\")\n",
    "\n",
    "    ######################\n",
    "    f = open(f\"tre_{i}.json\")\n",
    "    data = json.load(f)\n",
    "\n",
    "    paths = gen_paths(data)\n",
    "\n",
    "    rule_features_new = gen_features(\n",
    "            paths, data, features, orig_features_size)\n",
    "\n",
    "    rules[f\"tre_{i}\"] = rule_features_new\n",
    "\n",
    "    print(f\"Tree: {i}\")\n"
   ],
   "metadata": {
    "collapsed": false,
    "pycharm": {
     "name": "#%%\n"
    }
   }
  },
  {
   "cell_type": "code",
   "execution_count": 9,
   "outputs": [
    {
     "data": {
      "text/plain": "Index(['Lagging_Current_Reactive.Power_kVarh',\n       'Leading_Current_Reactive_Power_kVarh', 'CO2(tCO2)',\n       'Lagging_Current_Power_Factor', 'Leading_Current_Power_Factor'],\n      dtype='object')"
     },
     "execution_count": 9,
     "metadata": {},
     "output_type": "execute_result"
    }
   ],
   "source": [
    "features.columns"
   ],
   "metadata": {
    "collapsed": false,
    "pycharm": {
     "name": "#%%\n"
    }
   }
  },
  {
   "cell_type": "code",
   "execution_count": 10,
   "outputs": [],
   "source": [
    "big_df = pd.DataFrame()\n",
    "for tree in rules.keys():\n",
    "\n",
    "    big_df = pd.concat([big_df, rules[tree]],axis =1)\n"
   ],
   "metadata": {
    "collapsed": false,
    "pycharm": {
     "name": "#%%\n"
    }
   }
  },
  {
   "cell_type": "code",
   "execution_count": 11,
   "outputs": [],
   "source": [
    "df = big_df.loc[:,~big_df.columns.duplicated()].copy()"
   ],
   "metadata": {
    "collapsed": false,
    "pycharm": {
     "name": "#%%\n"
    }
   }
  },
  {
   "cell_type": "code",
   "execution_count": 12,
   "outputs": [
    {
     "data": {
      "text/plain": "      (features['Lagging_Current_Reactive.Power_kVarh'] >= 0.045) & (features['Lagging_Current_Reactive.Power_kVarh'] >= 0.05499999999999999) & (0 >= 0.0)  \\\n0                                                     1                                                                                                      \n1                                                     1                                                                                                      \n2                                                     1                                                                                                      \n3                                                     1                                                                                                      \n4                                                     1                                                                                                      \n...                                                 ...                                                                                                      \n7003                                                  1                                                                                                      \n7004                                                  1                                                                                                      \n7005                                                  1                                                                                                      \n7006                                                  1                                                                                                      \n7007                                                  1                                                                                                      \n\n      (features['Leading_Current_Reactive_Power_kVarh'] < 0.005) & (features['Lagging_Current_Reactive.Power_kVarh'] < 22.714999999999996) & (0 >= 0.0)  \\\n0                                                     1                                                                                                   \n1                                                     1                                                                                                   \n2                                                     1                                                                                                   \n3                                                     1                                                                                                   \n4                                                     1                                                                                                   \n...                                                 ...                                                                                                   \n7003                                                  1                                                                                                   \n7004                                                  1                                                                                                   \n7005                                                  1                                                                                                   \n7006                                                  1                                                                                                   \n7007                                                  1                                                                                                   \n\n      (features['Leading_Current_Reactive_Power_kVarh'] >= 0.045) & (features['Leading_Current_Reactive_Power_kVarh'] >= 0.05499999999999999) & (0 >= 0.0)  \\\n0                                                     0                                                                                                      \n1                                                     0                                                                                                      \n2                                                     0                                                                                                      \n3                                                     0                                                                                                      \n4                                                     0                                                                                                      \n...                                                 ...                                                                                                      \n7003                                                  0                                                                                                      \n7004                                                  0                                                                                                      \n7005                                                  0                                                                                                      \n7006                                                  0                                                                                                      \n7007                                                  0                                                                                                      \n\n      (features['Lagging_Current_Reactive.Power_kVarh'] < 0.005) & (features['Leading_Current_Power_Factor'] < 22.714999999999996) & (0 >= 0.0)  \\\n0                                                     0                                                                                           \n1                                                     0                                                                                           \n2                                                     0                                                                                           \n3                                                     0                                                                                           \n4                                                     0                                                                                           \n...                                                 ...                                                                                           \n7003                                                  0                                                                                           \n7004                                                  0                                                                                           \n7005                                                  0                                                                                           \n7006                                                  0                                                                                           \n7007                                                  0                                                                                           \n\n      (features['Lagging_Current_Power_Factor'] >= 0.045) & (features['Lagging_Current_Power_Factor'] >= 0.05499999999999999) & (0 >= 0.0)  \\\n0                                                     1                                                                                      \n1                                                     1                                                                                      \n2                                                     1                                                                                      \n3                                                     1                                                                                      \n4                                                     1                                                                                      \n...                                                 ...                                                                                      \n7003                                                  1                                                                                      \n7004                                                  1                                                                                      \n7005                                                  1                                                                                      \n7006                                                  1                                                                                      \n7007                                                  1                                                                                      \n\n      (features['Leading_Current_Reactive_Power_kVarh'] < 0.005) & (features['CO2(tCO2)'] < 22.714999999999996) & (0 >= 0.0)  \\\n0                                                     1                                                                        \n1                                                     1                                                                        \n2                                                     1                                                                        \n3                                                     1                                                                        \n4                                                     1                                                                        \n...                                                 ...                                                                        \n7003                                                  1                                                                        \n7004                                                  1                                                                        \n7005                                                  1                                                                        \n7006                                                  1                                                                        \n7007                                                  1                                                                        \n\n      (features['CO2(tCO2)'] < 0.005) & (features['Leading_Current_Reactive_Power_kVarh'] < 22.714999999999996) & (0 >= 0.0)  \\\n0                                                     1                                                                        \n1                                                     1                                                                        \n2                                                     1                                                                        \n3                                                     1                                                                        \n4                                                     1                                                                        \n...                                                 ...                                                                        \n7003                                                  1                                                                        \n7004                                                  1                                                                        \n7005                                                  1                                                                        \n7006                                                  1                                                                        \n7007                                                  1                                                                        \n\n      (features['CO2(tCO2)'] >= 0.045) & (features['CO2(tCO2)'] >= 0.05499999999999999) & (0 >= 0.0)  \\\n0                                                     0                                                \n1                                                     0                                                \n2                                                     0                                                \n3                                                     0                                                \n4                                                     0                                                \n...                                                 ...                                                \n7003                                                  0                                                \n7004                                                  0                                                \n7005                                                  0                                                \n7006                                                  0                                                \n7007                                                  0                                                \n\n      (features['Lagging_Current_Reactive.Power_kVarh'] < 0.005) & (features['Leading_Current_Reactive_Power_kVarh'] < 22.714999999999996) & (0 >= 0.0)  \\\n0                                                     0                                                                                                   \n1                                                     0                                                                                                   \n2                                                     0                                                                                                   \n3                                                     0                                                                                                   \n4                                                     0                                                                                                   \n...                                                 ...                                                                                                   \n7003                                                  0                                                                                                   \n7004                                                  0                                                                                                   \n7005                                                  0                                                                                                   \n7006                                                  0                                                                                                   \n7007                                                  0                                                                                                   \n\n      (features['CO2(tCO2)'] < 0.005) & (features['Lagging_Current_Reactive.Power_kVarh'] < 22.714999999999996) & (0 >= 0.0)  \n0                                                     1                                                                       \n1                                                     1                                                                       \n2                                                     1                                                                       \n3                                                     1                                                                       \n4                                                     1                                                                       \n...                                                 ...                                                                       \n7003                                                  1                                                                       \n7004                                                  1                                                                       \n7005                                                  1                                                                       \n7006                                                  1                                                                       \n7007                                                  1                                                                       \n\n[7008 rows x 10 columns]",
      "text/html": "<div>\n<style scoped>\n    .dataframe tbody tr th:only-of-type {\n        vertical-align: middle;\n    }\n\n    .dataframe tbody tr th {\n        vertical-align: top;\n    }\n\n    .dataframe thead th {\n        text-align: right;\n    }\n</style>\n<table border=\"1\" class=\"dataframe\">\n  <thead>\n    <tr style=\"text-align: right;\">\n      <th></th>\n      <th>(features['Lagging_Current_Reactive.Power_kVarh'] &gt;= 0.045) &amp; (features['Lagging_Current_Reactive.Power_kVarh'] &gt;= 0.05499999999999999) &amp; (0 &gt;= 0.0)</th>\n      <th>(features['Leading_Current_Reactive_Power_kVarh'] &lt; 0.005) &amp; (features['Lagging_Current_Reactive.Power_kVarh'] &lt; 22.714999999999996) &amp; (0 &gt;= 0.0)</th>\n      <th>(features['Leading_Current_Reactive_Power_kVarh'] &gt;= 0.045) &amp; (features['Leading_Current_Reactive_Power_kVarh'] &gt;= 0.05499999999999999) &amp; (0 &gt;= 0.0)</th>\n      <th>(features['Lagging_Current_Reactive.Power_kVarh'] &lt; 0.005) &amp; (features['Leading_Current_Power_Factor'] &lt; 22.714999999999996) &amp; (0 &gt;= 0.0)</th>\n      <th>(features['Lagging_Current_Power_Factor'] &gt;= 0.045) &amp; (features['Lagging_Current_Power_Factor'] &gt;= 0.05499999999999999) &amp; (0 &gt;= 0.0)</th>\n      <th>(features['Leading_Current_Reactive_Power_kVarh'] &lt; 0.005) &amp; (features['CO2(tCO2)'] &lt; 22.714999999999996) &amp; (0 &gt;= 0.0)</th>\n      <th>(features['CO2(tCO2)'] &lt; 0.005) &amp; (features['Leading_Current_Reactive_Power_kVarh'] &lt; 22.714999999999996) &amp; (0 &gt;= 0.0)</th>\n      <th>(features['CO2(tCO2)'] &gt;= 0.045) &amp; (features['CO2(tCO2)'] &gt;= 0.05499999999999999) &amp; (0 &gt;= 0.0)</th>\n      <th>(features['Lagging_Current_Reactive.Power_kVarh'] &lt; 0.005) &amp; (features['Leading_Current_Reactive_Power_kVarh'] &lt; 22.714999999999996) &amp; (0 &gt;= 0.0)</th>\n      <th>(features['CO2(tCO2)'] &lt; 0.005) &amp; (features['Lagging_Current_Reactive.Power_kVarh'] &lt; 22.714999999999996) &amp; (0 &gt;= 0.0)</th>\n    </tr>\n  </thead>\n  <tbody>\n    <tr>\n      <th>0</th>\n      <td>1</td>\n      <td>1</td>\n      <td>0</td>\n      <td>0</td>\n      <td>1</td>\n      <td>1</td>\n      <td>1</td>\n      <td>0</td>\n      <td>0</td>\n      <td>1</td>\n    </tr>\n    <tr>\n      <th>1</th>\n      <td>1</td>\n      <td>1</td>\n      <td>0</td>\n      <td>0</td>\n      <td>1</td>\n      <td>1</td>\n      <td>1</td>\n      <td>0</td>\n      <td>0</td>\n      <td>1</td>\n    </tr>\n    <tr>\n      <th>2</th>\n      <td>1</td>\n      <td>1</td>\n      <td>0</td>\n      <td>0</td>\n      <td>1</td>\n      <td>1</td>\n      <td>1</td>\n      <td>0</td>\n      <td>0</td>\n      <td>1</td>\n    </tr>\n    <tr>\n      <th>3</th>\n      <td>1</td>\n      <td>1</td>\n      <td>0</td>\n      <td>0</td>\n      <td>1</td>\n      <td>1</td>\n      <td>1</td>\n      <td>0</td>\n      <td>0</td>\n      <td>1</td>\n    </tr>\n    <tr>\n      <th>4</th>\n      <td>1</td>\n      <td>1</td>\n      <td>0</td>\n      <td>0</td>\n      <td>1</td>\n      <td>1</td>\n      <td>1</td>\n      <td>0</td>\n      <td>0</td>\n      <td>1</td>\n    </tr>\n    <tr>\n      <th>...</th>\n      <td>...</td>\n      <td>...</td>\n      <td>...</td>\n      <td>...</td>\n      <td>...</td>\n      <td>...</td>\n      <td>...</td>\n      <td>...</td>\n      <td>...</td>\n      <td>...</td>\n    </tr>\n    <tr>\n      <th>7003</th>\n      <td>1</td>\n      <td>1</td>\n      <td>0</td>\n      <td>0</td>\n      <td>1</td>\n      <td>1</td>\n      <td>1</td>\n      <td>0</td>\n      <td>0</td>\n      <td>1</td>\n    </tr>\n    <tr>\n      <th>7004</th>\n      <td>1</td>\n      <td>1</td>\n      <td>0</td>\n      <td>0</td>\n      <td>1</td>\n      <td>1</td>\n      <td>1</td>\n      <td>0</td>\n      <td>0</td>\n      <td>1</td>\n    </tr>\n    <tr>\n      <th>7005</th>\n      <td>1</td>\n      <td>1</td>\n      <td>0</td>\n      <td>0</td>\n      <td>1</td>\n      <td>1</td>\n      <td>1</td>\n      <td>0</td>\n      <td>0</td>\n      <td>1</td>\n    </tr>\n    <tr>\n      <th>7006</th>\n      <td>1</td>\n      <td>1</td>\n      <td>0</td>\n      <td>0</td>\n      <td>1</td>\n      <td>1</td>\n      <td>1</td>\n      <td>0</td>\n      <td>0</td>\n      <td>1</td>\n    </tr>\n    <tr>\n      <th>7007</th>\n      <td>1</td>\n      <td>1</td>\n      <td>0</td>\n      <td>0</td>\n      <td>1</td>\n      <td>1</td>\n      <td>1</td>\n      <td>0</td>\n      <td>0</td>\n      <td>1</td>\n    </tr>\n  </tbody>\n</table>\n<p>7008 rows × 10 columns</p>\n</div>"
     },
     "execution_count": 12,
     "metadata": {},
     "output_type": "execute_result"
    }
   ],
   "source": [
    "df"
   ],
   "metadata": {
    "collapsed": false,
    "pycharm": {
     "name": "#%%\n"
    }
   }
  },
  {
   "cell_type": "code",
   "execution_count": 13,
   "outputs": [],
   "source": [
    "for column in df.columns[1:]:\n",
    "    if df[column].sum() == len(df):\n",
    "        del df[column]\n"
   ],
   "metadata": {
    "collapsed": false,
    "pycharm": {
     "name": "#%%\n"
    }
   }
  },
  {
   "cell_type": "code",
   "execution_count": 14,
   "outputs": [
    {
     "data": {
      "text/plain": "      (features['Lagging_Current_Reactive.Power_kVarh'] >= 0.045) & (features['Lagging_Current_Reactive.Power_kVarh'] >= 0.05499999999999999) & (0 >= 0.0)  \\\n0                                                     1                                                                                                      \n1                                                     1                                                                                                      \n2                                                     1                                                                                                      \n3                                                     1                                                                                                      \n4                                                     1                                                                                                      \n...                                                 ...                                                                                                      \n7003                                                  1                                                                                                      \n7004                                                  1                                                                                                      \n7005                                                  1                                                                                                      \n7006                                                  1                                                                                                      \n7007                                                  1                                                                                                      \n\n      (features['Leading_Current_Reactive_Power_kVarh'] < 0.005) & (features['Lagging_Current_Reactive.Power_kVarh'] < 22.714999999999996) & (0 >= 0.0)  \\\n0                                                     1                                                                                                   \n1                                                     1                                                                                                   \n2                                                     1                                                                                                   \n3                                                     1                                                                                                   \n4                                                     1                                                                                                   \n...                                                 ...                                                                                                   \n7003                                                  1                                                                                                   \n7004                                                  1                                                                                                   \n7005                                                  1                                                                                                   \n7006                                                  1                                                                                                   \n7007                                                  1                                                                                                   \n\n      (features['Leading_Current_Reactive_Power_kVarh'] >= 0.045) & (features['Leading_Current_Reactive_Power_kVarh'] >= 0.05499999999999999) & (0 >= 0.0)  \\\n0                                                     0                                                                                                      \n1                                                     0                                                                                                      \n2                                                     0                                                                                                      \n3                                                     0                                                                                                      \n4                                                     0                                                                                                      \n...                                                 ...                                                                                                      \n7003                                                  0                                                                                                      \n7004                                                  0                                                                                                      \n7005                                                  0                                                                                                      \n7006                                                  0                                                                                                      \n7007                                                  0                                                                                                      \n\n      (features['Lagging_Current_Reactive.Power_kVarh'] < 0.005) & (features['Leading_Current_Power_Factor'] < 22.714999999999996) & (0 >= 0.0)  \\\n0                                                     0                                                                                           \n1                                                     0                                                                                           \n2                                                     0                                                                                           \n3                                                     0                                                                                           \n4                                                     0                                                                                           \n...                                                 ...                                                                                           \n7003                                                  0                                                                                           \n7004                                                  0                                                                                           \n7005                                                  0                                                                                           \n7006                                                  0                                                                                           \n7007                                                  0                                                                                           \n\n      (features['Leading_Current_Reactive_Power_kVarh'] < 0.005) & (features['CO2(tCO2)'] < 22.714999999999996) & (0 >= 0.0)  \\\n0                                                     1                                                                        \n1                                                     1                                                                        \n2                                                     1                                                                        \n3                                                     1                                                                        \n4                                                     1                                                                        \n...                                                 ...                                                                        \n7003                                                  1                                                                        \n7004                                                  1                                                                        \n7005                                                  1                                                                        \n7006                                                  1                                                                        \n7007                                                  1                                                                        \n\n      (features['CO2(tCO2)'] < 0.005) & (features['Leading_Current_Reactive_Power_kVarh'] < 22.714999999999996) & (0 >= 0.0)  \\\n0                                                     1                                                                        \n1                                                     1                                                                        \n2                                                     1                                                                        \n3                                                     1                                                                        \n4                                                     1                                                                        \n...                                                 ...                                                                        \n7003                                                  1                                                                        \n7004                                                  1                                                                        \n7005                                                  1                                                                        \n7006                                                  1                                                                        \n7007                                                  1                                                                        \n\n      (features['CO2(tCO2)'] >= 0.045) & (features['CO2(tCO2)'] >= 0.05499999999999999) & (0 >= 0.0)  \\\n0                                                     0                                                \n1                                                     0                                                \n2                                                     0                                                \n3                                                     0                                                \n4                                                     0                                                \n...                                                 ...                                                \n7003                                                  0                                                \n7004                                                  0                                                \n7005                                                  0                                                \n7006                                                  0                                                \n7007                                                  0                                                \n\n      (features['Lagging_Current_Reactive.Power_kVarh'] < 0.005) & (features['Leading_Current_Reactive_Power_kVarh'] < 22.714999999999996) & (0 >= 0.0)  \\\n0                                                     0                                                                                                   \n1                                                     0                                                                                                   \n2                                                     0                                                                                                   \n3                                                     0                                                                                                   \n4                                                     0                                                                                                   \n...                                                 ...                                                                                                   \n7003                                                  0                                                                                                   \n7004                                                  0                                                                                                   \n7005                                                  0                                                                                                   \n7006                                                  0                                                                                                   \n7007                                                  0                                                                                                   \n\n      (features['CO2(tCO2)'] < 0.005) & (features['Lagging_Current_Reactive.Power_kVarh'] < 22.714999999999996) & (0 >= 0.0)  \n0                                                     1                                                                       \n1                                                     1                                                                       \n2                                                     1                                                                       \n3                                                     1                                                                       \n4                                                     1                                                                       \n...                                                 ...                                                                       \n7003                                                  1                                                                       \n7004                                                  1                                                                       \n7005                                                  1                                                                       \n7006                                                  1                                                                       \n7007                                                  1                                                                       \n\n[7008 rows x 9 columns]",
      "text/html": "<div>\n<style scoped>\n    .dataframe tbody tr th:only-of-type {\n        vertical-align: middle;\n    }\n\n    .dataframe tbody tr th {\n        vertical-align: top;\n    }\n\n    .dataframe thead th {\n        text-align: right;\n    }\n</style>\n<table border=\"1\" class=\"dataframe\">\n  <thead>\n    <tr style=\"text-align: right;\">\n      <th></th>\n      <th>(features['Lagging_Current_Reactive.Power_kVarh'] &gt;= 0.045) &amp; (features['Lagging_Current_Reactive.Power_kVarh'] &gt;= 0.05499999999999999) &amp; (0 &gt;= 0.0)</th>\n      <th>(features['Leading_Current_Reactive_Power_kVarh'] &lt; 0.005) &amp; (features['Lagging_Current_Reactive.Power_kVarh'] &lt; 22.714999999999996) &amp; (0 &gt;= 0.0)</th>\n      <th>(features['Leading_Current_Reactive_Power_kVarh'] &gt;= 0.045) &amp; (features['Leading_Current_Reactive_Power_kVarh'] &gt;= 0.05499999999999999) &amp; (0 &gt;= 0.0)</th>\n      <th>(features['Lagging_Current_Reactive.Power_kVarh'] &lt; 0.005) &amp; (features['Leading_Current_Power_Factor'] &lt; 22.714999999999996) &amp; (0 &gt;= 0.0)</th>\n      <th>(features['Leading_Current_Reactive_Power_kVarh'] &lt; 0.005) &amp; (features['CO2(tCO2)'] &lt; 22.714999999999996) &amp; (0 &gt;= 0.0)</th>\n      <th>(features['CO2(tCO2)'] &lt; 0.005) &amp; (features['Leading_Current_Reactive_Power_kVarh'] &lt; 22.714999999999996) &amp; (0 &gt;= 0.0)</th>\n      <th>(features['CO2(tCO2)'] &gt;= 0.045) &amp; (features['CO2(tCO2)'] &gt;= 0.05499999999999999) &amp; (0 &gt;= 0.0)</th>\n      <th>(features['Lagging_Current_Reactive.Power_kVarh'] &lt; 0.005) &amp; (features['Leading_Current_Reactive_Power_kVarh'] &lt; 22.714999999999996) &amp; (0 &gt;= 0.0)</th>\n      <th>(features['CO2(tCO2)'] &lt; 0.005) &amp; (features['Lagging_Current_Reactive.Power_kVarh'] &lt; 22.714999999999996) &amp; (0 &gt;= 0.0)</th>\n    </tr>\n  </thead>\n  <tbody>\n    <tr>\n      <th>0</th>\n      <td>1</td>\n      <td>1</td>\n      <td>0</td>\n      <td>0</td>\n      <td>1</td>\n      <td>1</td>\n      <td>0</td>\n      <td>0</td>\n      <td>1</td>\n    </tr>\n    <tr>\n      <th>1</th>\n      <td>1</td>\n      <td>1</td>\n      <td>0</td>\n      <td>0</td>\n      <td>1</td>\n      <td>1</td>\n      <td>0</td>\n      <td>0</td>\n      <td>1</td>\n    </tr>\n    <tr>\n      <th>2</th>\n      <td>1</td>\n      <td>1</td>\n      <td>0</td>\n      <td>0</td>\n      <td>1</td>\n      <td>1</td>\n      <td>0</td>\n      <td>0</td>\n      <td>1</td>\n    </tr>\n    <tr>\n      <th>3</th>\n      <td>1</td>\n      <td>1</td>\n      <td>0</td>\n      <td>0</td>\n      <td>1</td>\n      <td>1</td>\n      <td>0</td>\n      <td>0</td>\n      <td>1</td>\n    </tr>\n    <tr>\n      <th>4</th>\n      <td>1</td>\n      <td>1</td>\n      <td>0</td>\n      <td>0</td>\n      <td>1</td>\n      <td>1</td>\n      <td>0</td>\n      <td>0</td>\n      <td>1</td>\n    </tr>\n    <tr>\n      <th>...</th>\n      <td>...</td>\n      <td>...</td>\n      <td>...</td>\n      <td>...</td>\n      <td>...</td>\n      <td>...</td>\n      <td>...</td>\n      <td>...</td>\n      <td>...</td>\n    </tr>\n    <tr>\n      <th>7003</th>\n      <td>1</td>\n      <td>1</td>\n      <td>0</td>\n      <td>0</td>\n      <td>1</td>\n      <td>1</td>\n      <td>0</td>\n      <td>0</td>\n      <td>1</td>\n    </tr>\n    <tr>\n      <th>7004</th>\n      <td>1</td>\n      <td>1</td>\n      <td>0</td>\n      <td>0</td>\n      <td>1</td>\n      <td>1</td>\n      <td>0</td>\n      <td>0</td>\n      <td>1</td>\n    </tr>\n    <tr>\n      <th>7005</th>\n      <td>1</td>\n      <td>1</td>\n      <td>0</td>\n      <td>0</td>\n      <td>1</td>\n      <td>1</td>\n      <td>0</td>\n      <td>0</td>\n      <td>1</td>\n    </tr>\n    <tr>\n      <th>7006</th>\n      <td>1</td>\n      <td>1</td>\n      <td>0</td>\n      <td>0</td>\n      <td>1</td>\n      <td>1</td>\n      <td>0</td>\n      <td>0</td>\n      <td>1</td>\n    </tr>\n    <tr>\n      <th>7007</th>\n      <td>1</td>\n      <td>1</td>\n      <td>0</td>\n      <td>0</td>\n      <td>1</td>\n      <td>1</td>\n      <td>0</td>\n      <td>0</td>\n      <td>1</td>\n    </tr>\n  </tbody>\n</table>\n<p>7008 rows × 9 columns</p>\n</div>"
     },
     "execution_count": 14,
     "metadata": {},
     "output_type": "execute_result"
    }
   ],
   "source": [
    "df"
   ],
   "metadata": {
    "collapsed": false,
    "pycharm": {
     "name": "#%%\n"
    }
   }
  },
  {
   "cell_type": "code",
   "execution_count": 15,
   "outputs": [],
   "source": [
    "features_for_robust_reg = df"
   ],
   "metadata": {
    "collapsed": false,
    "pycharm": {
     "name": "#%%\n"
    }
   }
  },
  {
   "cell_type": "code",
   "execution_count": 16,
   "outputs": [],
   "source": [
    "rule_features = features_for_robust_reg.copy()\n",
    "features_for_robust_reg = pd.concat([features, features_for_robust_reg], axis = 1)"
   ],
   "metadata": {
    "collapsed": false,
    "pycharm": {
     "name": "#%%\n"
    }
   }
  },
  {
   "cell_type": "code",
   "execution_count": 17,
   "outputs": [
    {
     "data": {
      "text/plain": "Lagging_Current_Reactive.Power_kVarh                                                                                                                    103483.07\nLeading_Current_Reactive_Power_kVarh                                                                                                                     29470.59\nCO2(tCO2)                                                                                                                                                  107.82\nLagging_Current_Power_Factor                                                                                                                            603676.42\nLeading_Current_Power_Factor                                                                                                                            604126.91\n(features['Lagging_Current_Reactive.Power_kVarh'] >= 0.045) & (features['Lagging_Current_Reactive.Power_kVarh'] >= 0.05499999999999999) & (0 >= 0.0)      5701.00\n(features['Leading_Current_Reactive_Power_kVarh'] < 0.005) & (features['Lagging_Current_Reactive.Power_kVarh'] < 22.714999999999996) & (0 >= 0.0)         2792.00\n(features['Leading_Current_Reactive_Power_kVarh'] >= 0.045) & (features['Leading_Current_Reactive_Power_kVarh'] >= 0.05499999999999999) & (0 >= 0.0)      2125.00\n(features['Lagging_Current_Reactive.Power_kVarh'] < 0.005) & (features['Leading_Current_Power_Factor'] < 22.714999999999996) & (0 >= 0.0)                  774.00\n(features['Leading_Current_Reactive_Power_kVarh'] < 0.005) & (features['CO2(tCO2)'] < 22.714999999999996) & (0 >= 0.0)                                    4827.00\n(features['CO2(tCO2)'] < 0.005) & (features['Leading_Current_Reactive_Power_kVarh'] < 22.714999999999996) & (0 >= 0.0)                                    3039.00\n(features['CO2(tCO2)'] >= 0.045) & (features['CO2(tCO2)'] >= 0.05499999999999999) & (0 >= 0.0)                                                             246.00\n(features['Lagging_Current_Reactive.Power_kVarh'] < 0.005) & (features['Leading_Current_Reactive_Power_kVarh'] < 22.714999999999996) & (0 >= 0.0)          694.00\n(features['CO2(tCO2)'] < 0.005) & (features['Lagging_Current_Reactive.Power_kVarh'] < 22.714999999999996) & (0 >= 0.0)                                    3590.00\ndtype: float64"
     },
     "execution_count": 17,
     "metadata": {},
     "output_type": "execute_result"
    }
   ],
   "source": [
    "features_for_robust_reg.sum()"
   ],
   "metadata": {
    "collapsed": false,
    "pycharm": {
     "name": "#%%\n"
    }
   }
  },
  {
   "cell_type": "code",
   "execution_count": 18,
   "outputs": [],
   "source": [
    "features_for_robust_reg.insert(loc = 0, column = 'Intercept', value = [1 for i in range(len(features_for_robust_reg))])"
   ],
   "metadata": {
    "collapsed": false,
    "pycharm": {
     "name": "#%%\n"
    }
   }
  },
  {
   "cell_type": "code",
   "execution_count": 19,
   "outputs": [
    {
     "data": {
      "text/plain": "      Intercept  Lagging_Current_Reactive.Power_kVarh  \\\n0             1                                  2.95   \n1             1                                  4.46   \n2             1                                  3.28   \n3             1                                  3.56   \n4             1                                  4.50   \n...         ...                                   ...   \n7003          1                                  6.48   \n7004          1                                  5.65   \n7005          1                                  5.76   \n7006          1                                  5.58   \n7007          1                                  6.05   \n\n      Leading_Current_Reactive_Power_kVarh  CO2(tCO2)  \\\n0                                      0.0        0.0   \n1                                      0.0        0.0   \n2                                      0.0        0.0   \n3                                      0.0        0.0   \n4                                      0.0        0.0   \n...                                    ...        ...   \n7003                                   0.0        0.0   \n7004                                   0.0        0.0   \n7005                                   0.0        0.0   \n7006                                   0.0        0.0   \n7007                                   0.0        0.0   \n\n      Lagging_Current_Power_Factor  Leading_Current_Power_Factor  \\\n0                            73.21                         100.0   \n1                            66.77                         100.0   \n2                            70.28                         100.0   \n3                            68.09                         100.0   \n4                            64.72                         100.0   \n...                            ...                           ...   \n7003                         53.19                         100.0   \n7004                         57.39                         100.0   \n7005                         56.65                         100.0   \n7006                         57.87                         100.0   \n7007                         55.44                         100.0   \n\n      (features['Lagging_Current_Reactive.Power_kVarh'] >= 0.045) & (features['Lagging_Current_Reactive.Power_kVarh'] >= 0.05499999999999999) & (0 >= 0.0)  \\\n0                                                     1                                                                                                      \n1                                                     1                                                                                                      \n2                                                     1                                                                                                      \n3                                                     1                                                                                                      \n4                                                     1                                                                                                      \n...                                                 ...                                                                                                      \n7003                                                  1                                                                                                      \n7004                                                  1                                                                                                      \n7005                                                  1                                                                                                      \n7006                                                  1                                                                                                      \n7007                                                  1                                                                                                      \n\n      (features['Leading_Current_Reactive_Power_kVarh'] < 0.005) & (features['Lagging_Current_Reactive.Power_kVarh'] < 22.714999999999996) & (0 >= 0.0)  \\\n0                                                     1                                                                                                   \n1                                                     1                                                                                                   \n2                                                     1                                                                                                   \n3                                                     1                                                                                                   \n4                                                     1                                                                                                   \n...                                                 ...                                                                                                   \n7003                                                  1                                                                                                   \n7004                                                  1                                                                                                   \n7005                                                  1                                                                                                   \n7006                                                  1                                                                                                   \n7007                                                  1                                                                                                   \n\n      (features['Leading_Current_Reactive_Power_kVarh'] >= 0.045) & (features['Leading_Current_Reactive_Power_kVarh'] >= 0.05499999999999999) & (0 >= 0.0)  \\\n0                                                     0                                                                                                      \n1                                                     0                                                                                                      \n2                                                     0                                                                                                      \n3                                                     0                                                                                                      \n4                                                     0                                                                                                      \n...                                                 ...                                                                                                      \n7003                                                  0                                                                                                      \n7004                                                  0                                                                                                      \n7005                                                  0                                                                                                      \n7006                                                  0                                                                                                      \n7007                                                  0                                                                                                      \n\n      (features['Lagging_Current_Reactive.Power_kVarh'] < 0.005) & (features['Leading_Current_Power_Factor'] < 22.714999999999996) & (0 >= 0.0)  \\\n0                                                     0                                                                                           \n1                                                     0                                                                                           \n2                                                     0                                                                                           \n3                                                     0                                                                                           \n4                                                     0                                                                                           \n...                                                 ...                                                                                           \n7003                                                  0                                                                                           \n7004                                                  0                                                                                           \n7005                                                  0                                                                                           \n7006                                                  0                                                                                           \n7007                                                  0                                                                                           \n\n      (features['Leading_Current_Reactive_Power_kVarh'] < 0.005) & (features['CO2(tCO2)'] < 22.714999999999996) & (0 >= 0.0)  \\\n0                                                     1                                                                        \n1                                                     1                                                                        \n2                                                     1                                                                        \n3                                                     1                                                                        \n4                                                     1                                                                        \n...                                                 ...                                                                        \n7003                                                  1                                                                        \n7004                                                  1                                                                        \n7005                                                  1                                                                        \n7006                                                  1                                                                        \n7007                                                  1                                                                        \n\n      (features['CO2(tCO2)'] < 0.005) & (features['Leading_Current_Reactive_Power_kVarh'] < 22.714999999999996) & (0 >= 0.0)  \\\n0                                                     1                                                                        \n1                                                     1                                                                        \n2                                                     1                                                                        \n3                                                     1                                                                        \n4                                                     1                                                                        \n...                                                 ...                                                                        \n7003                                                  1                                                                        \n7004                                                  1                                                                        \n7005                                                  1                                                                        \n7006                                                  1                                                                        \n7007                                                  1                                                                        \n\n      (features['CO2(tCO2)'] >= 0.045) & (features['CO2(tCO2)'] >= 0.05499999999999999) & (0 >= 0.0)  \\\n0                                                     0                                                \n1                                                     0                                                \n2                                                     0                                                \n3                                                     0                                                \n4                                                     0                                                \n...                                                 ...                                                \n7003                                                  0                                                \n7004                                                  0                                                \n7005                                                  0                                                \n7006                                                  0                                                \n7007                                                  0                                                \n\n      (features['Lagging_Current_Reactive.Power_kVarh'] < 0.005) & (features['Leading_Current_Reactive_Power_kVarh'] < 22.714999999999996) & (0 >= 0.0)  \\\n0                                                     0                                                                                                   \n1                                                     0                                                                                                   \n2                                                     0                                                                                                   \n3                                                     0                                                                                                   \n4                                                     0                                                                                                   \n...                                                 ...                                                                                                   \n7003                                                  0                                                                                                   \n7004                                                  0                                                                                                   \n7005                                                  0                                                                                                   \n7006                                                  0                                                                                                   \n7007                                                  0                                                                                                   \n\n      (features['CO2(tCO2)'] < 0.005) & (features['Lagging_Current_Reactive.Power_kVarh'] < 22.714999999999996) & (0 >= 0.0)  \n0                                                     1                                                                       \n1                                                     1                                                                       \n2                                                     1                                                                       \n3                                                     1                                                                       \n4                                                     1                                                                       \n...                                                 ...                                                                       \n7003                                                  1                                                                       \n7004                                                  1                                                                       \n7005                                                  1                                                                       \n7006                                                  1                                                                       \n7007                                                  1                                                                       \n\n[7008 rows x 15 columns]",
      "text/html": "<div>\n<style scoped>\n    .dataframe tbody tr th:only-of-type {\n        vertical-align: middle;\n    }\n\n    .dataframe tbody tr th {\n        vertical-align: top;\n    }\n\n    .dataframe thead th {\n        text-align: right;\n    }\n</style>\n<table border=\"1\" class=\"dataframe\">\n  <thead>\n    <tr style=\"text-align: right;\">\n      <th></th>\n      <th>Intercept</th>\n      <th>Lagging_Current_Reactive.Power_kVarh</th>\n      <th>Leading_Current_Reactive_Power_kVarh</th>\n      <th>CO2(tCO2)</th>\n      <th>Lagging_Current_Power_Factor</th>\n      <th>Leading_Current_Power_Factor</th>\n      <th>(features['Lagging_Current_Reactive.Power_kVarh'] &gt;= 0.045) &amp; (features['Lagging_Current_Reactive.Power_kVarh'] &gt;= 0.05499999999999999) &amp; (0 &gt;= 0.0)</th>\n      <th>(features['Leading_Current_Reactive_Power_kVarh'] &lt; 0.005) &amp; (features['Lagging_Current_Reactive.Power_kVarh'] &lt; 22.714999999999996) &amp; (0 &gt;= 0.0)</th>\n      <th>(features['Leading_Current_Reactive_Power_kVarh'] &gt;= 0.045) &amp; (features['Leading_Current_Reactive_Power_kVarh'] &gt;= 0.05499999999999999) &amp; (0 &gt;= 0.0)</th>\n      <th>(features['Lagging_Current_Reactive.Power_kVarh'] &lt; 0.005) &amp; (features['Leading_Current_Power_Factor'] &lt; 22.714999999999996) &amp; (0 &gt;= 0.0)</th>\n      <th>(features['Leading_Current_Reactive_Power_kVarh'] &lt; 0.005) &amp; (features['CO2(tCO2)'] &lt; 22.714999999999996) &amp; (0 &gt;= 0.0)</th>\n      <th>(features['CO2(tCO2)'] &lt; 0.005) &amp; (features['Leading_Current_Reactive_Power_kVarh'] &lt; 22.714999999999996) &amp; (0 &gt;= 0.0)</th>\n      <th>(features['CO2(tCO2)'] &gt;= 0.045) &amp; (features['CO2(tCO2)'] &gt;= 0.05499999999999999) &amp; (0 &gt;= 0.0)</th>\n      <th>(features['Lagging_Current_Reactive.Power_kVarh'] &lt; 0.005) &amp; (features['Leading_Current_Reactive_Power_kVarh'] &lt; 22.714999999999996) &amp; (0 &gt;= 0.0)</th>\n      <th>(features['CO2(tCO2)'] &lt; 0.005) &amp; (features['Lagging_Current_Reactive.Power_kVarh'] &lt; 22.714999999999996) &amp; (0 &gt;= 0.0)</th>\n    </tr>\n  </thead>\n  <tbody>\n    <tr>\n      <th>0</th>\n      <td>1</td>\n      <td>2.95</td>\n      <td>0.0</td>\n      <td>0.0</td>\n      <td>73.21</td>\n      <td>100.0</td>\n      <td>1</td>\n      <td>1</td>\n      <td>0</td>\n      <td>0</td>\n      <td>1</td>\n      <td>1</td>\n      <td>0</td>\n      <td>0</td>\n      <td>1</td>\n    </tr>\n    <tr>\n      <th>1</th>\n      <td>1</td>\n      <td>4.46</td>\n      <td>0.0</td>\n      <td>0.0</td>\n      <td>66.77</td>\n      <td>100.0</td>\n      <td>1</td>\n      <td>1</td>\n      <td>0</td>\n      <td>0</td>\n      <td>1</td>\n      <td>1</td>\n      <td>0</td>\n      <td>0</td>\n      <td>1</td>\n    </tr>\n    <tr>\n      <th>2</th>\n      <td>1</td>\n      <td>3.28</td>\n      <td>0.0</td>\n      <td>0.0</td>\n      <td>70.28</td>\n      <td>100.0</td>\n      <td>1</td>\n      <td>1</td>\n      <td>0</td>\n      <td>0</td>\n      <td>1</td>\n      <td>1</td>\n      <td>0</td>\n      <td>0</td>\n      <td>1</td>\n    </tr>\n    <tr>\n      <th>3</th>\n      <td>1</td>\n      <td>3.56</td>\n      <td>0.0</td>\n      <td>0.0</td>\n      <td>68.09</td>\n      <td>100.0</td>\n      <td>1</td>\n      <td>1</td>\n      <td>0</td>\n      <td>0</td>\n      <td>1</td>\n      <td>1</td>\n      <td>0</td>\n      <td>0</td>\n      <td>1</td>\n    </tr>\n    <tr>\n      <th>4</th>\n      <td>1</td>\n      <td>4.50</td>\n      <td>0.0</td>\n      <td>0.0</td>\n      <td>64.72</td>\n      <td>100.0</td>\n      <td>1</td>\n      <td>1</td>\n      <td>0</td>\n      <td>0</td>\n      <td>1</td>\n      <td>1</td>\n      <td>0</td>\n      <td>0</td>\n      <td>1</td>\n    </tr>\n    <tr>\n      <th>...</th>\n      <td>...</td>\n      <td>...</td>\n      <td>...</td>\n      <td>...</td>\n      <td>...</td>\n      <td>...</td>\n      <td>...</td>\n      <td>...</td>\n      <td>...</td>\n      <td>...</td>\n      <td>...</td>\n      <td>...</td>\n      <td>...</td>\n      <td>...</td>\n      <td>...</td>\n    </tr>\n    <tr>\n      <th>7003</th>\n      <td>1</td>\n      <td>6.48</td>\n      <td>0.0</td>\n      <td>0.0</td>\n      <td>53.19</td>\n      <td>100.0</td>\n      <td>1</td>\n      <td>1</td>\n      <td>0</td>\n      <td>0</td>\n      <td>1</td>\n      <td>1</td>\n      <td>0</td>\n      <td>0</td>\n      <td>1</td>\n    </tr>\n    <tr>\n      <th>7004</th>\n      <td>1</td>\n      <td>5.65</td>\n      <td>0.0</td>\n      <td>0.0</td>\n      <td>57.39</td>\n      <td>100.0</td>\n      <td>1</td>\n      <td>1</td>\n      <td>0</td>\n      <td>0</td>\n      <td>1</td>\n      <td>1</td>\n      <td>0</td>\n      <td>0</td>\n      <td>1</td>\n    </tr>\n    <tr>\n      <th>7005</th>\n      <td>1</td>\n      <td>5.76</td>\n      <td>0.0</td>\n      <td>0.0</td>\n      <td>56.65</td>\n      <td>100.0</td>\n      <td>1</td>\n      <td>1</td>\n      <td>0</td>\n      <td>0</td>\n      <td>1</td>\n      <td>1</td>\n      <td>0</td>\n      <td>0</td>\n      <td>1</td>\n    </tr>\n    <tr>\n      <th>7006</th>\n      <td>1</td>\n      <td>5.58</td>\n      <td>0.0</td>\n      <td>0.0</td>\n      <td>57.87</td>\n      <td>100.0</td>\n      <td>1</td>\n      <td>1</td>\n      <td>0</td>\n      <td>0</td>\n      <td>1</td>\n      <td>1</td>\n      <td>0</td>\n      <td>0</td>\n      <td>1</td>\n    </tr>\n    <tr>\n      <th>7007</th>\n      <td>1</td>\n      <td>6.05</td>\n      <td>0.0</td>\n      <td>0.0</td>\n      <td>55.44</td>\n      <td>100.0</td>\n      <td>1</td>\n      <td>1</td>\n      <td>0</td>\n      <td>0</td>\n      <td>1</td>\n      <td>1</td>\n      <td>0</td>\n      <td>0</td>\n      <td>1</td>\n    </tr>\n  </tbody>\n</table>\n<p>7008 rows × 15 columns</p>\n</div>"
     },
     "execution_count": 19,
     "metadata": {},
     "output_type": "execute_result"
    }
   ],
   "source": [
    "features_for_robust_reg"
   ],
   "metadata": {
    "collapsed": false,
    "pycharm": {
     "name": "#%%\n"
    }
   }
  },
  {
   "cell_type": "code",
   "execution_count": 22,
   "outputs": [],
   "source": [
    "model = HolisticRobust(\n",
    "                       α = 0,\n",
    "                       ϵ = 0,\n",
    "                       r = 0,\n",
    "                       classifier = \"Linear\",\n",
    "                       learning_approach = \"HR\") # Could be ERM either"
   ],
   "metadata": {
    "collapsed": false,
    "pycharm": {
     "name": "#%%\n"
    }
   }
  },
  {
   "cell_type": "code",
   "execution_count": null,
   "outputs": [],
   "source": [
    "θ, obj_value = model.fit(ξ = (np.matrix(features_for_robust_reg), np.array(diagnosis)))"
   ],
   "metadata": {
    "collapsed": false,
    "pycharm": {
     "name": "#%%\n",
     "is_executing": true
    }
   }
  },
  {
   "cell_type": "code",
   "execution_count": null,
   "outputs": [],
   "source": [
    "predictions = np.multiply(θ, features_for_robust_reg\n",
    "                          ).sum(axis = 1)"
   ],
   "metadata": {
    "collapsed": false,
    "pycharm": {
     "name": "#%%\n",
     "is_executing": true
    }
   }
  },
  {
   "cell_type": "code",
   "execution_count": null,
   "outputs": [],
   "source": [
    "diagnosis.plot()"
   ],
   "metadata": {
    "collapsed": false,
    "pycharm": {
     "name": "#%%\n",
     "is_executing": true
    }
   }
  },
  {
   "cell_type": "code",
   "execution_count": null,
   "outputs": [],
   "source": [
    "(diagnosis - predictions).describe()"
   ],
   "metadata": {
    "collapsed": false,
    "pycharm": {
     "name": "#%%\n",
     "is_executing": true
    }
   }
  },
  {
   "cell_type": "code",
   "execution_count": null,
   "outputs": [],
   "source": [
    "SSE_model = sum((diagnosis - predictions)**2)\n",
    "SSE_mean = sum((diagnosis - diagnosis.mean())**2)\n",
    "\n",
    "1 - SSE_model/SSE_mean"
   ],
   "metadata": {
    "collapsed": false,
    "pycharm": {
     "name": "#%%\n",
     "is_executing": true
    }
   }
  },
  {
   "cell_type": "code",
   "execution_count": null,
   "outputs": [],
   "source": [
    "features"
   ],
   "metadata": {
    "collapsed": false,
    "pycharm": {
     "name": "#%%\n",
     "is_executing": true
    }
   }
  },
  {
   "cell_type": "code",
   "execution_count": null,
   "outputs": [],
   "source": [
    "rule_features"
   ],
   "metadata": {
    "collapsed": false,
    "pycharm": {
     "name": "#%%\n",
     "is_executing": true
    }
   }
  },
  {
   "cell_type": "code",
   "execution_count": null,
   "outputs": [],
   "source": [
    "features = features_test\n",
    "\n",
    "for rule in rule_features.columns:\n",
    "\n",
    "    index_feature = features.loc[eval(rule)].index\n",
    "\n",
    "    new_feature = [1 if i in index_feature else 0 for i in range(len(features))]\n",
    "\n",
    "    if sum(new_feature) >= 1:\n",
    "        features[rule] = new_feature\n"
   ],
   "metadata": {
    "collapsed": false,
    "pycharm": {
     "name": "#%%\n",
     "is_executing": true
    }
   }
  },
  {
   "cell_type": "code",
   "execution_count": null,
   "outputs": [],
   "source": [
    "features"
   ],
   "metadata": {
    "collapsed": false,
    "pycharm": {
     "name": "#%%\n"
    }
   }
  }
 ],
 "metadata": {
  "kernelspec": {
   "display_name": "Python 3",
   "language": "python",
   "name": "python3"
  },
  "language_info": {
   "codemirror_mode": {
    "name": "ipython",
    "version": 3
   },
   "file_extension": ".py",
   "mimetype": "text/x-python",
   "name": "python",
   "nbconvert_exporter": "python",
   "pygments_lexer": "ipython3",
   "version": "3.8.8"
  }
 },
 "nbformat": 4,
 "nbformat_minor": 5
}