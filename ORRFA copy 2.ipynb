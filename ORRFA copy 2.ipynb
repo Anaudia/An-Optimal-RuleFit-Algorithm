{
 "cells": [
  {
   "cell_type": "code",
   "execution_count": 15,
   "id": "2042e7c0",
   "metadata": {
    "pycharm": {
     "name": "#%%\n"
    }
   },
   "outputs": [],
   "source": [
    "import numpy as np\n",
    "import matplotlib.pyplot as plt\n",
    "from ORRFA import *\n",
    "import interpretableai\n",
    "from interpretableai import iai\n",
    "import pandas as pd\n",
    "import json\n",
    "from HR import *"
   ]
  },
  {
   "cell_type": "code",
   "execution_count": 16,
   "id": "d76e17cc",
   "metadata": {
    "pycharm": {
     "name": "#%%\n"
    }
   },
   "outputs": [],
   "source": [
    "dataset = pd.read_csv(\"/Users/ryanlucas/Desktop/kc_house_data.csv\")"
   ]
  },
  {
   "cell_type": "code",
   "execution_count": 64,
   "id": "6dfe9a87",
   "metadata": {
    "pycharm": {
     "name": "#%%\n"
    }
   },
   "outputs": [
    {
     "data": {
      "text/html": [
       "<div>\n",
       "<style scoped>\n",
       "    .dataframe tbody tr th:only-of-type {\n",
       "        vertical-align: middle;\n",
       "    }\n",
       "\n",
       "    .dataframe tbody tr th {\n",
       "        vertical-align: top;\n",
       "    }\n",
       "\n",
       "    .dataframe thead th {\n",
       "        text-align: right;\n",
       "    }\n",
       "</style>\n",
       "<table border=\"1\" class=\"dataframe\">\n",
       "  <thead>\n",
       "    <tr style=\"text-align: right;\">\n",
       "      <th></th>\n",
       "      <th>id</th>\n",
       "      <th>date</th>\n",
       "      <th>price</th>\n",
       "      <th>bedrooms</th>\n",
       "      <th>bathrooms</th>\n",
       "      <th>sqft_living</th>\n",
       "      <th>sqft_lot</th>\n",
       "      <th>floors</th>\n",
       "      <th>waterfront</th>\n",
       "      <th>view</th>\n",
       "      <th>...</th>\n",
       "      <th>grade</th>\n",
       "      <th>sqft_above</th>\n",
       "      <th>sqft_basement</th>\n",
       "      <th>yr_built</th>\n",
       "      <th>yr_renovated</th>\n",
       "      <th>zipcode</th>\n",
       "      <th>lat</th>\n",
       "      <th>long</th>\n",
       "      <th>sqft_living15</th>\n",
       "      <th>sqft_lot15</th>\n",
       "    </tr>\n",
       "  </thead>\n",
       "  <tbody>\n",
       "    <tr>\n",
       "      <th>0</th>\n",
       "      <td>7129300520</td>\n",
       "      <td>20141013T000000</td>\n",
       "      <td>221900.0</td>\n",
       "      <td>3</td>\n",
       "      <td>1.00</td>\n",
       "      <td>1180</td>\n",
       "      <td>5650</td>\n",
       "      <td>1.0</td>\n",
       "      <td>0</td>\n",
       "      <td>0</td>\n",
       "      <td>...</td>\n",
       "      <td>7</td>\n",
       "      <td>1180</td>\n",
       "      <td>0</td>\n",
       "      <td>1955</td>\n",
       "      <td>0</td>\n",
       "      <td>98178</td>\n",
       "      <td>47.5112</td>\n",
       "      <td>-122.257</td>\n",
       "      <td>1340</td>\n",
       "      <td>5650</td>\n",
       "    </tr>\n",
       "    <tr>\n",
       "      <th>1</th>\n",
       "      <td>6414100192</td>\n",
       "      <td>20141209T000000</td>\n",
       "      <td>538000.0</td>\n",
       "      <td>3</td>\n",
       "      <td>2.25</td>\n",
       "      <td>2570</td>\n",
       "      <td>7242</td>\n",
       "      <td>2.0</td>\n",
       "      <td>0</td>\n",
       "      <td>0</td>\n",
       "      <td>...</td>\n",
       "      <td>7</td>\n",
       "      <td>2170</td>\n",
       "      <td>400</td>\n",
       "      <td>1951</td>\n",
       "      <td>1991</td>\n",
       "      <td>98125</td>\n",
       "      <td>47.7210</td>\n",
       "      <td>-122.319</td>\n",
       "      <td>1690</td>\n",
       "      <td>7639</td>\n",
       "    </tr>\n",
       "    <tr>\n",
       "      <th>2</th>\n",
       "      <td>5631500400</td>\n",
       "      <td>20150225T000000</td>\n",
       "      <td>180000.0</td>\n",
       "      <td>2</td>\n",
       "      <td>1.00</td>\n",
       "      <td>770</td>\n",
       "      <td>10000</td>\n",
       "      <td>1.0</td>\n",
       "      <td>0</td>\n",
       "      <td>0</td>\n",
       "      <td>...</td>\n",
       "      <td>6</td>\n",
       "      <td>770</td>\n",
       "      <td>0</td>\n",
       "      <td>1933</td>\n",
       "      <td>0</td>\n",
       "      <td>98028</td>\n",
       "      <td>47.7379</td>\n",
       "      <td>-122.233</td>\n",
       "      <td>2720</td>\n",
       "      <td>8062</td>\n",
       "    </tr>\n",
       "    <tr>\n",
       "      <th>3</th>\n",
       "      <td>2487200875</td>\n",
       "      <td>20141209T000000</td>\n",
       "      <td>604000.0</td>\n",
       "      <td>4</td>\n",
       "      <td>3.00</td>\n",
       "      <td>1960</td>\n",
       "      <td>5000</td>\n",
       "      <td>1.0</td>\n",
       "      <td>0</td>\n",
       "      <td>0</td>\n",
       "      <td>...</td>\n",
       "      <td>7</td>\n",
       "      <td>1050</td>\n",
       "      <td>910</td>\n",
       "      <td>1965</td>\n",
       "      <td>0</td>\n",
       "      <td>98136</td>\n",
       "      <td>47.5208</td>\n",
       "      <td>-122.393</td>\n",
       "      <td>1360</td>\n",
       "      <td>5000</td>\n",
       "    </tr>\n",
       "    <tr>\n",
       "      <th>4</th>\n",
       "      <td>1954400510</td>\n",
       "      <td>20150218T000000</td>\n",
       "      <td>510000.0</td>\n",
       "      <td>3</td>\n",
       "      <td>2.00</td>\n",
       "      <td>1680</td>\n",
       "      <td>8080</td>\n",
       "      <td>1.0</td>\n",
       "      <td>0</td>\n",
       "      <td>0</td>\n",
       "      <td>...</td>\n",
       "      <td>8</td>\n",
       "      <td>1680</td>\n",
       "      <td>0</td>\n",
       "      <td>1987</td>\n",
       "      <td>0</td>\n",
       "      <td>98074</td>\n",
       "      <td>47.6168</td>\n",
       "      <td>-122.045</td>\n",
       "      <td>1800</td>\n",
       "      <td>7503</td>\n",
       "    </tr>\n",
       "    <tr>\n",
       "      <th>...</th>\n",
       "      <td>...</td>\n",
       "      <td>...</td>\n",
       "      <td>...</td>\n",
       "      <td>...</td>\n",
       "      <td>...</td>\n",
       "      <td>...</td>\n",
       "      <td>...</td>\n",
       "      <td>...</td>\n",
       "      <td>...</td>\n",
       "      <td>...</td>\n",
       "      <td>...</td>\n",
       "      <td>...</td>\n",
       "      <td>...</td>\n",
       "      <td>...</td>\n",
       "      <td>...</td>\n",
       "      <td>...</td>\n",
       "      <td>...</td>\n",
       "      <td>...</td>\n",
       "      <td>...</td>\n",
       "      <td>...</td>\n",
       "      <td>...</td>\n",
       "    </tr>\n",
       "    <tr>\n",
       "      <th>21608</th>\n",
       "      <td>263000018</td>\n",
       "      <td>20140521T000000</td>\n",
       "      <td>360000.0</td>\n",
       "      <td>3</td>\n",
       "      <td>2.50</td>\n",
       "      <td>1530</td>\n",
       "      <td>1131</td>\n",
       "      <td>3.0</td>\n",
       "      <td>0</td>\n",
       "      <td>0</td>\n",
       "      <td>...</td>\n",
       "      <td>8</td>\n",
       "      <td>1530</td>\n",
       "      <td>0</td>\n",
       "      <td>2009</td>\n",
       "      <td>0</td>\n",
       "      <td>98103</td>\n",
       "      <td>47.6993</td>\n",
       "      <td>-122.346</td>\n",
       "      <td>1530</td>\n",
       "      <td>1509</td>\n",
       "    </tr>\n",
       "    <tr>\n",
       "      <th>21609</th>\n",
       "      <td>6600060120</td>\n",
       "      <td>20150223T000000</td>\n",
       "      <td>400000.0</td>\n",
       "      <td>4</td>\n",
       "      <td>2.50</td>\n",
       "      <td>2310</td>\n",
       "      <td>5813</td>\n",
       "      <td>2.0</td>\n",
       "      <td>0</td>\n",
       "      <td>0</td>\n",
       "      <td>...</td>\n",
       "      <td>8</td>\n",
       "      <td>2310</td>\n",
       "      <td>0</td>\n",
       "      <td>2014</td>\n",
       "      <td>0</td>\n",
       "      <td>98146</td>\n",
       "      <td>47.5107</td>\n",
       "      <td>-122.362</td>\n",
       "      <td>1830</td>\n",
       "      <td>7200</td>\n",
       "    </tr>\n",
       "    <tr>\n",
       "      <th>21610</th>\n",
       "      <td>1523300141</td>\n",
       "      <td>20140623T000000</td>\n",
       "      <td>402101.0</td>\n",
       "      <td>2</td>\n",
       "      <td>0.75</td>\n",
       "      <td>1020</td>\n",
       "      <td>1350</td>\n",
       "      <td>2.0</td>\n",
       "      <td>0</td>\n",
       "      <td>0</td>\n",
       "      <td>...</td>\n",
       "      <td>7</td>\n",
       "      <td>1020</td>\n",
       "      <td>0</td>\n",
       "      <td>2009</td>\n",
       "      <td>0</td>\n",
       "      <td>98144</td>\n",
       "      <td>47.5944</td>\n",
       "      <td>-122.299</td>\n",
       "      <td>1020</td>\n",
       "      <td>2007</td>\n",
       "    </tr>\n",
       "    <tr>\n",
       "      <th>21611</th>\n",
       "      <td>291310100</td>\n",
       "      <td>20150116T000000</td>\n",
       "      <td>400000.0</td>\n",
       "      <td>3</td>\n",
       "      <td>2.50</td>\n",
       "      <td>1600</td>\n",
       "      <td>2388</td>\n",
       "      <td>2.0</td>\n",
       "      <td>0</td>\n",
       "      <td>0</td>\n",
       "      <td>...</td>\n",
       "      <td>8</td>\n",
       "      <td>1600</td>\n",
       "      <td>0</td>\n",
       "      <td>2004</td>\n",
       "      <td>0</td>\n",
       "      <td>98027</td>\n",
       "      <td>47.5345</td>\n",
       "      <td>-122.069</td>\n",
       "      <td>1410</td>\n",
       "      <td>1287</td>\n",
       "    </tr>\n",
       "    <tr>\n",
       "      <th>21612</th>\n",
       "      <td>1523300157</td>\n",
       "      <td>20141015T000000</td>\n",
       "      <td>325000.0</td>\n",
       "      <td>2</td>\n",
       "      <td>0.75</td>\n",
       "      <td>1020</td>\n",
       "      <td>1076</td>\n",
       "      <td>2.0</td>\n",
       "      <td>0</td>\n",
       "      <td>0</td>\n",
       "      <td>...</td>\n",
       "      <td>7</td>\n",
       "      <td>1020</td>\n",
       "      <td>0</td>\n",
       "      <td>2008</td>\n",
       "      <td>0</td>\n",
       "      <td>98144</td>\n",
       "      <td>47.5941</td>\n",
       "      <td>-122.299</td>\n",
       "      <td>1020</td>\n",
       "      <td>1357</td>\n",
       "    </tr>\n",
       "  </tbody>\n",
       "</table>\n",
       "<p>21613 rows × 21 columns</p>\n",
       "</div>"
      ],
      "text/plain": [
       "               id             date     price  bedrooms  bathrooms  \\\n",
       "0      7129300520  20141013T000000  221900.0         3       1.00   \n",
       "1      6414100192  20141209T000000  538000.0         3       2.25   \n",
       "2      5631500400  20150225T000000  180000.0         2       1.00   \n",
       "3      2487200875  20141209T000000  604000.0         4       3.00   \n",
       "4      1954400510  20150218T000000  510000.0         3       2.00   \n",
       "...           ...              ...       ...       ...        ...   \n",
       "21608   263000018  20140521T000000  360000.0         3       2.50   \n",
       "21609  6600060120  20150223T000000  400000.0         4       2.50   \n",
       "21610  1523300141  20140623T000000  402101.0         2       0.75   \n",
       "21611   291310100  20150116T000000  400000.0         3       2.50   \n",
       "21612  1523300157  20141015T000000  325000.0         2       0.75   \n",
       "\n",
       "       sqft_living  sqft_lot  floors  waterfront  view  ...  grade  \\\n",
       "0             1180      5650     1.0           0     0  ...      7   \n",
       "1             2570      7242     2.0           0     0  ...      7   \n",
       "2              770     10000     1.0           0     0  ...      6   \n",
       "3             1960      5000     1.0           0     0  ...      7   \n",
       "4             1680      8080     1.0           0     0  ...      8   \n",
       "...            ...       ...     ...         ...   ...  ...    ...   \n",
       "21608         1530      1131     3.0           0     0  ...      8   \n",
       "21609         2310      5813     2.0           0     0  ...      8   \n",
       "21610         1020      1350     2.0           0     0  ...      7   \n",
       "21611         1600      2388     2.0           0     0  ...      8   \n",
       "21612         1020      1076     2.0           0     0  ...      7   \n",
       "\n",
       "       sqft_above  sqft_basement  yr_built  yr_renovated  zipcode      lat  \\\n",
       "0            1180              0      1955             0    98178  47.5112   \n",
       "1            2170            400      1951          1991    98125  47.7210   \n",
       "2             770              0      1933             0    98028  47.7379   \n",
       "3            1050            910      1965             0    98136  47.5208   \n",
       "4            1680              0      1987             0    98074  47.6168   \n",
       "...           ...            ...       ...           ...      ...      ...   \n",
       "21608        1530              0      2009             0    98103  47.6993   \n",
       "21609        2310              0      2014             0    98146  47.5107   \n",
       "21610        1020              0      2009             0    98144  47.5944   \n",
       "21611        1600              0      2004             0    98027  47.5345   \n",
       "21612        1020              0      2008             0    98144  47.5941   \n",
       "\n",
       "          long  sqft_living15  sqft_lot15  \n",
       "0     -122.257           1340        5650  \n",
       "1     -122.319           1690        7639  \n",
       "2     -122.233           2720        8062  \n",
       "3     -122.393           1360        5000  \n",
       "4     -122.045           1800        7503  \n",
       "...        ...            ...         ...  \n",
       "21608 -122.346           1530        1509  \n",
       "21609 -122.362           1830        7200  \n",
       "21610 -122.299           1020        2007  \n",
       "21611 -122.069           1410        1287  \n",
       "21612 -122.299           1020        1357  \n",
       "\n",
       "[21613 rows x 21 columns]"
      ]
     },
     "execution_count": 64,
     "metadata": {},
     "output_type": "execute_result"
    }
   ],
   "source": [
    "dataset"
   ]
  },
  {
   "cell_type": "code",
   "execution_count": null,
   "outputs": [],
   "source": [
    "train_idx = np.arange(0, int(0.2*len(dataset)))\n",
    "test_idx = np.arange(int(0.2*len(dataset)), int(0.3*len(dataset)))\n",
    "\n",
    "features = dataset.loc[train_idx, [\"floors\", \"bedrooms\",\n",
    "    \"bathrooms\",\n",
    "    \"sqft_above\",\n",
    "    \"sqft_basement\",\n",
    "    \"yr_built\",\n",
    "    \"yr_renovated\",\n",
    "    \"sqft_living\",\n",
    "    \"sqft_lot\",\n",
    "    \"lat\",\n",
    "    \"long\",\n",
    "    \"sqft_living15\",\n",
    "    \"sqft_lot15\"]]\n",
    "\n",
    "diagnosis = dataset.loc[train_idx, \"price\"]\n",
    "\n",
    "orig_features_size = features.copy().shape[1]"
   ],
   "metadata": {
    "collapsed": false,
    "pycharm": {
     "name": "#%%\n"
    }
   }
  },
  {
   "cell_type": "code",
   "execution_count": null,
   "outputs": [],
   "source": [
    "features_test = dataset.loc[test_idx, [\"floors\", \"bedrooms\",\n",
    "    \"bathrooms\",\n",
    "    \"sqft_above\",\n",
    "    \"sqft_basement\",\n",
    "    \"yr_built\",\n",
    "    \"yr_renovated\",\n",
    "    \"sqft_living\",\n",
    "    \"sqft_lot\",\n",
    "    \"lat\",\n",
    "    \"long\",\n",
    "    \"sqft_living15\",\n",
    "    \"sqft_lot15\"]]\n",
    "diagnosis_test = dataset.loc[test_idx, 'price']"
   ],
   "metadata": {
    "collapsed": false,
    "pycharm": {
     "name": "#%%\n"
    }
   }
  },
  {
   "cell_type": "code",
   "execution_count": null,
   "outputs": [],
   "source": [
    "diagnosis"
   ],
   "metadata": {
    "collapsed": false,
    "pycharm": {
     "name": "#%%\n"
    }
   }
  },
  {
   "cell_type": "code",
   "execution_count": null,
   "outputs": [],
   "source": [
    "print(len(dataset))\n",
    "print(len(features))\n",
    "print(len(features_test))"
   ],
   "metadata": {
    "collapsed": false,
    "pycharm": {
     "name": "#%%\n"
    }
   }
  },
  {
   "cell_type": "code",
   "execution_count": null,
   "outputs": [],
   "source": [
    "features"
   ],
   "metadata": {
    "collapsed": false,
    "pycharm": {
     "name": "#%%\n"
    }
   }
  },
  {
   "cell_type": "code",
   "execution_count": null,
   "outputs": [],
   "source": [
    "def gen_features(sub_paths, data, features, orig_feature_size):\n",
    "    new_features = features.copy()\n",
    "    for path in sub_paths:\n",
    "        statement = gen_statement(path, data, features)\n",
    "        if statement != '(0 < 0.0)' and statement != '(0 >= 0.0)':\n",
    "\n",
    "            try:\n",
    "                index_feature = features.loc[eval(statement)].index\n",
    "\n",
    "\n",
    "                new_feature = [1 if i in index_feature else 0 for i in range(len(features))]\n",
    "\n",
    "                if sum(new_feature) >= 1:\n",
    "                    new_features[statement] = new_feature\n",
    "\n",
    "            except:\n",
    "                print(statement)\n",
    "    return new_features.iloc[:, orig_feature_size:]"
   ],
   "metadata": {
    "collapsed": false,
    "pycharm": {
     "name": "#%%\n"
    }
   }
  },
  {
   "cell_type": "code",
   "execution_count": null,
   "outputs": [],
   "source": [
    "np.random.seed(1)\n",
    "n = 5\n",
    "rules = {}\n",
    "for i in range(1,15):\n",
    "\n",
    "    #################\n",
    "    sampled_features = features.copy().sample(n=int(n),axis='columns')\n",
    "\n",
    "    OCT_H = iai.GridSearch(\n",
    "          iai.OptimalTreeRegressor(\n",
    "              max_depth = 3, cp = 0.00000000001))\n",
    "\n",
    "    OCT_H.fit(sampled_features, diagnosis)\n",
    "    OCT_H.write_json(f\"tre_{i}.json\")\n",
    "\n",
    "    ######################\n",
    "    f = open(f\"tre_{i}.json\")\n",
    "    data = json.load(f)\n",
    "\n",
    "    paths = gen_paths(data)\n",
    "\n",
    "    rule_features_new = gen_features(\n",
    "            paths, data, features, orig_features_size)\n",
    "\n",
    "    rules[f\"tre_{i}\"] = rule_features_new\n",
    "\n",
    "    print(f\"Tree: {i}\")\n"
   ],
   "metadata": {
    "collapsed": false,
    "pycharm": {
     "name": "#%%\n"
    }
   }
  },
  {
   "cell_type": "code",
   "execution_count": 11,
   "outputs": [
    {
     "name": "stdout",
     "output_type": "stream",
     "text": [
      "Tree: 25\n",
      "Tree: 26\n",
      "Tree: 27\n",
      "Tree: 28\n",
      "Tree: 29\n",
      "Tree: 30\n",
      "Tree: 31\n",
      "Tree: 32\n",
      "Tree: 33\n",
      "Tree: 34\n",
      "Tree: 35\n",
      "Tree: 36\n",
      "Tree: 37\n",
      "Tree: 38\n",
      "Tree: 39\n",
      "Tree: 40\n",
      "Tree: 41\n",
      "Tree: 42\n",
      "Tree: 43\n",
      "Tree: 44\n",
      "Tree: 45\n",
      "Tree: 46\n",
      "Tree: 47\n",
      "Tree: 48\n",
      "Tree: 49\n"
     ]
    }
   ],
   "source": [
    "OCT_H.get_learner()"
   ],
   "metadata": {
    "collapsed": false,
    "pycharm": {
     "name": "#%%\n"
    }
   }
  },
  {
   "cell_type": "code",
   "execution_count": 41,
   "outputs": [
    {
     "data": {
      "text/plain": "Index(['Intercept', 'floors', 'bedrooms', 'bathrooms', 'sqft_above',\n       'sqft_basement', 'yr_built', 'yr_renovated', 'sqft_living', 'sqft_lot',\n       'lat', 'long', 'sqft_living15', 'sqft_lot15',\n       '(features['long'] >= -0.5318101220723337)',\n       '(features['long'] >= -0.5318101220723337) & (features['bathrooms'] < 7.503080016073889)',\n       '(features['long'] >= -0.5318101220723337) & (features['bathrooms'] < 7.503080016073889) & (0 >= 0.0)',\n       '(features['yr_built'] < -0.9539948558207259)',\n       '(features['yr_built'] < -0.9539948558207259) & (features['long'] < -0.38450789661067586)',\n       '(features['yr_built'] < -0.9539948558207259) & (features['long'] < -0.38450789661067586) & (0 >= 0.0)',\n       '(features['sqft_above'] < -0.40000227641001507)',\n       '(features['sqft_above'] < -0.40000227641001507) & (features['bathrooms'] < -0.5724146753574244)',\n       '(features['sqft_above'] < -0.40000227641001507) & (features['bathrooms'] < -0.5724146753574244) & (0 >= 0.0)',\n       '(features['bathrooms'] >= 2.723705606859437)',\n       '(features['lat'] < -0.20441814638872025)',\n       '(features['lat'] < -0.20441814638872025) & (features['sqft_living'] < 0.17906750351277334)',\n       '(features['lat'] < -0.20441814638872025) & (features['sqft_living'] < 0.17906750351277334) & (0 >= 0.0)',\n       '(features['sqft_living'] >= 4.531003639864835)',\n       '(features['sqft_living'] >= 4.531003639864835) & (features['lat'] < -0.28527549216403436)',\n       '(features['sqft_living'] >= 4.531003639864835) & (features['sqft_living'] >= 6.501629211500662)',\n       '(features['sqft_living15'] < 0.1848200817761123)',\n       '(features['sqft_living15'] < 0.1848200817761123) & (features['lat'] >= -0.26846002644972344)',\n       '(features['sqft_above'] >= 2.675740113737489)',\n       '(features['sqft_above'] >= 2.675740113737489) & (features['lat'] < -0.4101392694896475)',\n       '(features['bathrooms'] >= 3.38292966330281)',\n       '(features['bathrooms'] >= 3.38292966330281) & (features['lat'] < -0.3110353545349498)',\n       '(features['sqft_living'] < -0.635678531146745)',\n       '(features['sqft_living'] >= 4.531003639864835) & (features['sqft_lot'] >= 0.8077444289047583)',\n       '(features['sqft_living'] >= 4.531003639864835) & (features['sqft_lot'] >= 0.8077444289047583) & (0 >= 0.0)',\n       '(features['long'] < -0.18331461305323282)',\n       '(features['long'] < -0.18331461305323282) & (features['long'] < -1.2108374540785394)',\n       '(features['sqft_living'] < 0.8988702333203695)',\n       '(features['sqft_living'] < 0.8988702333203695) & (features['lat'] >= -0.23697575021859496)',\n       '(features['sqft_living'] >= 4.531003639864835) & (features['lat'] < -0.24162683648000938)',\n       '(features['sqft_living15'] >= 2.631907439115192)',\n       '(features['sqft_living15'] >= 2.631907439115192) & (features['sqft_living15'] >= 3.9241478038405315)',\n       '(features['sqft_living15'] >= 2.631907439115192) & (features['sqft_living15'] >= 3.9241478038405315) & (0 >= 0.0)'],\n      dtype='object')"
     },
     "execution_count": 41,
     "metadata": {},
     "output_type": "execute_result"
    }
   ],
   "source": [
    "features.columns"
   ],
   "metadata": {
    "collapsed": false,
    "pycharm": {
     "name": "#%%\n"
    }
   }
  },
  {
   "cell_type": "code",
   "execution_count": 42,
   "outputs": [
    {
     "data": {
      "text/plain": "{'id': 12,\n 'parent': 11,\n 'lower_child': -2,\n 'upper_child': -2,\n 'depth': 4,\n 'split_type': 'LEAF',\n 'split_mixed': {'parallel_split': {'feature': 0, 'threshold': 0.0},\n  'ordinal_split': {'feature': 0, 'split': []},\n  'categoric_split': {'feature': 0, 'split': [False]},\n  'do_parallel': False,\n  'do_ordinal': False},\n 'split_hyperplane': {'standardized_weights': {'n': 5,\n   'nzval': [],\n   'nzind': []},\n  'threshold': 0.0,\n  'weights': {'n': 5, 'nzval': [], 'nzind': []},\n  'complexity': 0.0},\n 'missingdatamode': 'NONE',\n 'raw_error': 150705677230466.4,\n 'baseline_error': 150705677230466.4,\n 'subtree_complexity': 0.0,\n 'n_node_samples': 3227,\n 'weighted_n_node_samples': 3227.0,\n 'orig_raw_error': 150705677230466.4,\n 'orig_baseline_error': 150705677230466.4,\n 'dirty': True,\n 'fit': {'beta': {'n': 5, 'nzval': [], 'nzind': []},\n  'offset': 523524.58723272354,\n  'standardized_beta': {'n': 5, 'nzval': [], 'nzind': []},\n  'constant_offset': 523524.58723272354,\n  'constant_error': 150705677230466.4}}"
     },
     "execution_count": 42,
     "metadata": {},
     "output_type": "execute_result"
    }
   ],
   "source": [
    "data['lnr']['tree_']['nodes'][11]"
   ],
   "metadata": {
    "collapsed": false,
    "pycharm": {
     "name": "#%%\n"
    }
   }
  },
  {
   "cell_type": "code",
   "execution_count": 43,
   "outputs": [
    {
     "data": {
      "text/plain": "Index(['Intercept', 'floors', 'bedrooms', 'bathrooms', 'sqft_above',\n       'sqft_basement', 'yr_built', 'yr_renovated', 'sqft_living', 'sqft_lot',\n       'lat', 'long', 'sqft_living15', 'sqft_lot15',\n       '(features['long'] >= -0.5318101220723337)',\n       '(features['long'] >= -0.5318101220723337) & (features['bathrooms'] < 7.503080016073889)',\n       '(features['long'] >= -0.5318101220723337) & (features['bathrooms'] < 7.503080016073889) & (0 >= 0.0)',\n       '(features['yr_built'] < -0.9539948558207259)',\n       '(features['yr_built'] < -0.9539948558207259) & (features['long'] < -0.38450789661067586)',\n       '(features['yr_built'] < -0.9539948558207259) & (features['long'] < -0.38450789661067586) & (0 >= 0.0)',\n       '(features['sqft_above'] < -0.40000227641001507)',\n       '(features['sqft_above'] < -0.40000227641001507) & (features['bathrooms'] < -0.5724146753574244)',\n       '(features['sqft_above'] < -0.40000227641001507) & (features['bathrooms'] < -0.5724146753574244) & (0 >= 0.0)',\n       '(features['bathrooms'] >= 2.723705606859437)',\n       '(features['lat'] < -0.20441814638872025)',\n       '(features['lat'] < -0.20441814638872025) & (features['sqft_living'] < 0.17906750351277334)',\n       '(features['lat'] < -0.20441814638872025) & (features['sqft_living'] < 0.17906750351277334) & (0 >= 0.0)',\n       '(features['sqft_living'] >= 4.531003639864835)',\n       '(features['sqft_living'] >= 4.531003639864835) & (features['lat'] < -0.28527549216403436)',\n       '(features['sqft_living'] >= 4.531003639864835) & (features['sqft_living'] >= 6.501629211500662)',\n       '(features['sqft_living15'] < 0.1848200817761123)',\n       '(features['sqft_living15'] < 0.1848200817761123) & (features['lat'] >= -0.26846002644972344)',\n       '(features['sqft_above'] >= 2.675740113737489)',\n       '(features['sqft_above'] >= 2.675740113737489) & (features['lat'] < -0.4101392694896475)',\n       '(features['bathrooms'] >= 3.38292966330281)',\n       '(features['bathrooms'] >= 3.38292966330281) & (features['lat'] < -0.3110353545349498)',\n       '(features['sqft_living'] < -0.635678531146745)',\n       '(features['sqft_living'] >= 4.531003639864835) & (features['sqft_lot'] >= 0.8077444289047583)',\n       '(features['sqft_living'] >= 4.531003639864835) & (features['sqft_lot'] >= 0.8077444289047583) & (0 >= 0.0)',\n       '(features['long'] < -0.18331461305323282)',\n       '(features['long'] < -0.18331461305323282) & (features['long'] < -1.2108374540785394)',\n       '(features['sqft_living'] < 0.8988702333203695)',\n       '(features['sqft_living'] < 0.8988702333203695) & (features['lat'] >= -0.23697575021859496)',\n       '(features['sqft_living'] >= 4.531003639864835) & (features['lat'] < -0.24162683648000938)',\n       '(features['sqft_living15'] >= 2.631907439115192)',\n       '(features['sqft_living15'] >= 2.631907439115192) & (features['sqft_living15'] >= 3.9241478038405315)',\n       '(features['sqft_living15'] >= 2.631907439115192) & (features['sqft_living15'] >= 3.9241478038405315) & (0 >= 0.0)'],\n      dtype='object')"
     },
     "execution_count": 43,
     "metadata": {},
     "output_type": "execute_result"
    }
   ],
   "source": [
    "features.columns"
   ],
   "metadata": {
    "collapsed": false,
    "pycharm": {
     "name": "#%%\n"
    }
   }
  },
  {
   "cell_type": "code",
   "execution_count": 44,
   "outputs": [],
   "source": [
    "big_df = pd.DataFrame()\n",
    "for tree in rules.keys():\n",
    "\n",
    "    big_df = pd.concat([big_df, rules[tree]],axis =1)\n"
   ],
   "metadata": {
    "collapsed": false,
    "pycharm": {
     "name": "#%%\n"
    }
   }
  },
  {
   "cell_type": "code",
   "execution_count": 45,
   "outputs": [],
   "source": [
    "df = big_df.loc[:,~big_df.columns.duplicated()].copy()"
   ],
   "metadata": {
    "collapsed": false,
    "pycharm": {
     "name": "#%%\n"
    }
   }
  },
  {
   "cell_type": "code",
   "execution_count": 46,
   "outputs": [
    {
     "data": {
      "text/plain": "       (features['long'] >= -0.5318101220723337)  \\\n0                                              1   \n1                                              0   \n2                                              1   \n3                                              0   \n4                                              1   \n...                                          ...   \n15124                                          1   \n15125                                          1   \n15126                                          1   \n15127                                          0   \n15128                                          1   \n\n       (features['long'] >= -0.5318101220723337) & (features['bathrooms'] < 7.503080016073889)  \\\n0                                                      1                                         \n1                                                      0                                         \n2                                                      1                                         \n3                                                      0                                         \n4                                                      1                                         \n...                                                  ...                                         \n15124                                                  1                                         \n15125                                                  1                                         \n15126                                                  1                                         \n15127                                                  0                                         \n15128                                                  1                                         \n\n       (features['long'] >= -0.5318101220723337) & (features['bathrooms'] < 7.503080016073889) & (0 >= 0.0)  \\\n0                                                      1                                                      \n1                                                      0                                                      \n2                                                      1                                                      \n3                                                      0                                                      \n4                                                      1                                                      \n...                                                  ...                                                      \n15124                                                  1                                                      \n15125                                                  1                                                      \n15126                                                  1                                                      \n15127                                                  0                                                      \n15128                                                  1                                                      \n\n       (features['yr_built'] < -0.9539948558207259)  \\\n0                                                 0   \n1                                                 0   \n2                                                 1   \n3                                                 0   \n4                                                 0   \n...                                             ...   \n15124                                             0   \n15125                                             0   \n15126                                             0   \n15127                                             0   \n15128                                             0   \n\n       (features['yr_built'] < -0.9539948558207259) & (features['long'] < -0.38450789661067586)  \\\n0                                                      0                                          \n1                                                      0                                          \n2                                                      0                                          \n3                                                      0                                          \n4                                                      0                                          \n...                                                  ...                                          \n15124                                                  0                                          \n15125                                                  0                                          \n15126                                                  0                                          \n15127                                                  0                                          \n15128                                                  0                                          \n\n       (features['yr_built'] < -0.9539948558207259) & (features['long'] < -0.38450789661067586) & (0 >= 0.0)  \\\n0                                                      0                                                       \n1                                                      0                                                       \n2                                                      0                                                       \n3                                                      0                                                       \n4                                                      0                                                       \n...                                                  ...                                                       \n15124                                                  0                                                       \n15125                                                  0                                                       \n15126                                                  0                                                       \n15127                                                  0                                                       \n15128                                                  0                                                       \n\n       (features['sqft_above'] < -0.40000227641001507)  \\\n0                                                    1   \n1                                                    0   \n2                                                    1   \n3                                                    1   \n4                                                    0   \n...                                                ...   \n15124                                                0   \n15125                                                0   \n15126                                                0   \n15127                                                1   \n15128                                                0   \n\n       (features['sqft_above'] < -0.40000227641001507) & (features['bathrooms'] < -0.5724146753574244)  \\\n0                                                      1                                                 \n1                                                      0                                                 \n2                                                      1                                                 \n3                                                      0                                                 \n4                                                      0                                                 \n...                                                  ...                                                 \n15124                                                  0                                                 \n15125                                                  0                                                 \n15126                                                  0                                                 \n15127                                                  1                                                 \n15128                                                  0                                                 \n\n       (features['sqft_above'] < -0.40000227641001507) & (features['bathrooms'] < -0.5724146753574244) & (0 >= 0.0)  \\\n0                                                      1                                                              \n1                                                      0                                                              \n2                                                      1                                                              \n3                                                      0                                                              \n4                                                      0                                                              \n...                                                  ...                                                              \n15124                                                  0                                                              \n15125                                                  0                                                              \n15126                                                  0                                                              \n15127                                                  1                                                              \n15128                                                  0                                                              \n\n       (features['bathrooms'] >= 2.723705606859437)  ...  \\\n0                                                 0  ...   \n1                                                 0  ...   \n2                                                 0  ...   \n3                                                 0  ...   \n4                                                 0  ...   \n...                                             ...  ...   \n15124                                             0  ...   \n15125                                             0  ...   \n15126                                             0  ...   \n15127                                             0  ...   \n15128                                             0  ...   \n\n       (features['sqft_living'] >= 4.531003639864835) & (features['sqft_lot'] >= 0.8077444289047583)  \\\n0                                                      0                                               \n1                                                      0                                               \n2                                                      0                                               \n3                                                      0                                               \n4                                                      0                                               \n...                                                  ...                                               \n15124                                                  0                                               \n15125                                                  0                                               \n15126                                                  0                                               \n15127                                                  0                                               \n15128                                                  0                                               \n\n       (features['sqft_living'] >= 4.531003639864835) & (features['sqft_lot'] >= 0.8077444289047583) & (0 >= 0.0)  \\\n0                                                      0                                                            \n1                                                      0                                                            \n2                                                      0                                                            \n3                                                      0                                                            \n4                                                      0                                                            \n...                                                  ...                                                            \n15124                                                  0                                                            \n15125                                                  0                                                            \n15126                                                  0                                                            \n15127                                                  0                                                            \n15128                                                  0                                                            \n\n       (features['long'] < -0.18331461305323282)  \\\n0                                              1   \n1                                              1   \n2                                              0   \n3                                              1   \n4                                              0   \n...                                          ...   \n15124                                          0   \n15125                                          0   \n15126                                          1   \n15127                                          1   \n15128                                          0   \n\n       (features['long'] < -0.18331461305323282) & (features['long'] < -1.2108374540785394)  \\\n0                                                      0                                      \n1                                                      0                                      \n2                                                      0                                      \n3                                                      1                                      \n4                                                      0                                      \n...                                                  ...                                      \n15124                                                  0                                      \n15125                                                  0                                      \n15126                                                  0                                      \n15127                                                  0                                      \n15128                                                  0                                      \n\n       (features['sqft_living'] < 0.8988702333203695)  \\\n0                                                   1   \n1                                                   1   \n2                                                   1   \n3                                                   1   \n4                                                   1   \n...                                               ...   \n15124                                               1   \n15125                                               0   \n15126                                               1   \n15127                                               1   \n15128                                               1   \n\n       (features['sqft_living'] < 0.8988702333203695) & (features['lat'] >= -0.23697575021859496)  \\\n0                                                      0                                            \n1                                                      1                                            \n2                                                      1                                            \n3                                                      0                                            \n4                                                      1                                            \n...                                                  ...                                            \n15124                                                  1                                            \n15125                                                  0                                            \n15126                                                  1                                            \n15127                                                  1                                            \n15128                                                  0                                            \n\n       (features['sqft_living'] >= 4.531003639864835) & (features['lat'] < -0.24162683648000938)  \\\n0                                                      0                                           \n1                                                      0                                           \n2                                                      0                                           \n3                                                      0                                           \n4                                                      0                                           \n...                                                  ...                                           \n15124                                                  0                                           \n15125                                                  0                                           \n15126                                                  0                                           \n15127                                                  0                                           \n15128                                                  0                                           \n\n       (features['sqft_living15'] >= 2.631907439115192)  \\\n0                                                     0   \n1                                                     0   \n2                                                     0   \n3                                                     0   \n4                                                     0   \n...                                                 ...   \n15124                                                 0   \n15125                                                 0   \n15126                                                 0   \n15127                                                 0   \n15128                                                 0   \n\n       (features['sqft_living15'] >= 2.631907439115192) & (features['sqft_living15'] >= 3.9241478038405315)  \\\n0                                                      0                                                      \n1                                                      0                                                      \n2                                                      0                                                      \n3                                                      0                                                      \n4                                                      0                                                      \n...                                                  ...                                                      \n15124                                                  0                                                      \n15125                                                  0                                                      \n15126                                                  0                                                      \n15127                                                  0                                                      \n15128                                                  0                                                      \n\n       (features['sqft_living15'] >= 2.631907439115192) & (features['sqft_living15'] >= 3.9241478038405315) & (0 >= 0.0)  \n0                                                      0                                                                  \n1                                                      0                                                                  \n2                                                      0                                                                  \n3                                                      0                                                                  \n4                                                      0                                                                  \n...                                                  ...                                                                  \n15124                                                  0                                                                  \n15125                                                  0                                                                  \n15126                                                  0                                                                  \n15127                                                  0                                                                  \n15128                                                  0                                                                  \n\n[15129 rows x 33 columns]",
      "text/html": "<div>\n<style scoped>\n    .dataframe tbody tr th:only-of-type {\n        vertical-align: middle;\n    }\n\n    .dataframe tbody tr th {\n        vertical-align: top;\n    }\n\n    .dataframe thead th {\n        text-align: right;\n    }\n</style>\n<table border=\"1\" class=\"dataframe\">\n  <thead>\n    <tr style=\"text-align: right;\">\n      <th></th>\n      <th>(features['long'] &gt;= -0.5318101220723337)</th>\n      <th>(features['long'] &gt;= -0.5318101220723337) &amp; (features['bathrooms'] &lt; 7.503080016073889)</th>\n      <th>(features['long'] &gt;= -0.5318101220723337) &amp; (features['bathrooms'] &lt; 7.503080016073889) &amp; (0 &gt;= 0.0)</th>\n      <th>(features['yr_built'] &lt; -0.9539948558207259)</th>\n      <th>(features['yr_built'] &lt; -0.9539948558207259) &amp; (features['long'] &lt; -0.38450789661067586)</th>\n      <th>(features['yr_built'] &lt; -0.9539948558207259) &amp; (features['long'] &lt; -0.38450789661067586) &amp; (0 &gt;= 0.0)</th>\n      <th>(features['sqft_above'] &lt; -0.40000227641001507)</th>\n      <th>(features['sqft_above'] &lt; -0.40000227641001507) &amp; (features['bathrooms'] &lt; -0.5724146753574244)</th>\n      <th>(features['sqft_above'] &lt; -0.40000227641001507) &amp; (features['bathrooms'] &lt; -0.5724146753574244) &amp; (0 &gt;= 0.0)</th>\n      <th>(features['bathrooms'] &gt;= 2.723705606859437)</th>\n      <th>...</th>\n      <th>(features['sqft_living'] &gt;= 4.531003639864835) &amp; (features['sqft_lot'] &gt;= 0.8077444289047583)</th>\n      <th>(features['sqft_living'] &gt;= 4.531003639864835) &amp; (features['sqft_lot'] &gt;= 0.8077444289047583) &amp; (0 &gt;= 0.0)</th>\n      <th>(features['long'] &lt; -0.18331461305323282)</th>\n      <th>(features['long'] &lt; -0.18331461305323282) &amp; (features['long'] &lt; -1.2108374540785394)</th>\n      <th>(features['sqft_living'] &lt; 0.8988702333203695)</th>\n      <th>(features['sqft_living'] &lt; 0.8988702333203695) &amp; (features['lat'] &gt;= -0.23697575021859496)</th>\n      <th>(features['sqft_living'] &gt;= 4.531003639864835) &amp; (features['lat'] &lt; -0.24162683648000938)</th>\n      <th>(features['sqft_living15'] &gt;= 2.631907439115192)</th>\n      <th>(features['sqft_living15'] &gt;= 2.631907439115192) &amp; (features['sqft_living15'] &gt;= 3.9241478038405315)</th>\n      <th>(features['sqft_living15'] &gt;= 2.631907439115192) &amp; (features['sqft_living15'] &gt;= 3.9241478038405315) &amp; (0 &gt;= 0.0)</th>\n    </tr>\n  </thead>\n  <tbody>\n    <tr>\n      <th>0</th>\n      <td>1</td>\n      <td>1</td>\n      <td>1</td>\n      <td>0</td>\n      <td>0</td>\n      <td>0</td>\n      <td>1</td>\n      <td>1</td>\n      <td>1</td>\n      <td>0</td>\n      <td>...</td>\n      <td>0</td>\n      <td>0</td>\n      <td>1</td>\n      <td>0</td>\n      <td>1</td>\n      <td>0</td>\n      <td>0</td>\n      <td>0</td>\n      <td>0</td>\n      <td>0</td>\n    </tr>\n    <tr>\n      <th>1</th>\n      <td>0</td>\n      <td>0</td>\n      <td>0</td>\n      <td>0</td>\n      <td>0</td>\n      <td>0</td>\n      <td>0</td>\n      <td>0</td>\n      <td>0</td>\n      <td>0</td>\n      <td>...</td>\n      <td>0</td>\n      <td>0</td>\n      <td>1</td>\n      <td>0</td>\n      <td>1</td>\n      <td>1</td>\n      <td>0</td>\n      <td>0</td>\n      <td>0</td>\n      <td>0</td>\n    </tr>\n    <tr>\n      <th>2</th>\n      <td>1</td>\n      <td>1</td>\n      <td>1</td>\n      <td>1</td>\n      <td>0</td>\n      <td>0</td>\n      <td>1</td>\n      <td>1</td>\n      <td>1</td>\n      <td>0</td>\n      <td>...</td>\n      <td>0</td>\n      <td>0</td>\n      <td>0</td>\n      <td>0</td>\n      <td>1</td>\n      <td>1</td>\n      <td>0</td>\n      <td>0</td>\n      <td>0</td>\n      <td>0</td>\n    </tr>\n    <tr>\n      <th>3</th>\n      <td>0</td>\n      <td>0</td>\n      <td>0</td>\n      <td>0</td>\n      <td>0</td>\n      <td>0</td>\n      <td>1</td>\n      <td>0</td>\n      <td>0</td>\n      <td>0</td>\n      <td>...</td>\n      <td>0</td>\n      <td>0</td>\n      <td>1</td>\n      <td>1</td>\n      <td>1</td>\n      <td>0</td>\n      <td>0</td>\n      <td>0</td>\n      <td>0</td>\n      <td>0</td>\n    </tr>\n    <tr>\n      <th>4</th>\n      <td>1</td>\n      <td>1</td>\n      <td>1</td>\n      <td>0</td>\n      <td>0</td>\n      <td>0</td>\n      <td>0</td>\n      <td>0</td>\n      <td>0</td>\n      <td>0</td>\n      <td>...</td>\n      <td>0</td>\n      <td>0</td>\n      <td>0</td>\n      <td>0</td>\n      <td>1</td>\n      <td>1</td>\n      <td>0</td>\n      <td>0</td>\n      <td>0</td>\n      <td>0</td>\n    </tr>\n    <tr>\n      <th>...</th>\n      <td>...</td>\n      <td>...</td>\n      <td>...</td>\n      <td>...</td>\n      <td>...</td>\n      <td>...</td>\n      <td>...</td>\n      <td>...</td>\n      <td>...</td>\n      <td>...</td>\n      <td>...</td>\n      <td>...</td>\n      <td>...</td>\n      <td>...</td>\n      <td>...</td>\n      <td>...</td>\n      <td>...</td>\n      <td>...</td>\n      <td>...</td>\n      <td>...</td>\n      <td>...</td>\n    </tr>\n    <tr>\n      <th>15124</th>\n      <td>1</td>\n      <td>1</td>\n      <td>1</td>\n      <td>0</td>\n      <td>0</td>\n      <td>0</td>\n      <td>0</td>\n      <td>0</td>\n      <td>0</td>\n      <td>0</td>\n      <td>...</td>\n      <td>0</td>\n      <td>0</td>\n      <td>0</td>\n      <td>0</td>\n      <td>1</td>\n      <td>1</td>\n      <td>0</td>\n      <td>0</td>\n      <td>0</td>\n      <td>0</td>\n    </tr>\n    <tr>\n      <th>15125</th>\n      <td>1</td>\n      <td>1</td>\n      <td>1</td>\n      <td>0</td>\n      <td>0</td>\n      <td>0</td>\n      <td>0</td>\n      <td>0</td>\n      <td>0</td>\n      <td>0</td>\n      <td>...</td>\n      <td>0</td>\n      <td>0</td>\n      <td>0</td>\n      <td>0</td>\n      <td>0</td>\n      <td>0</td>\n      <td>0</td>\n      <td>0</td>\n      <td>0</td>\n      <td>0</td>\n    </tr>\n    <tr>\n      <th>15126</th>\n      <td>1</td>\n      <td>1</td>\n      <td>1</td>\n      <td>0</td>\n      <td>0</td>\n      <td>0</td>\n      <td>0</td>\n      <td>0</td>\n      <td>0</td>\n      <td>0</td>\n      <td>...</td>\n      <td>0</td>\n      <td>0</td>\n      <td>1</td>\n      <td>0</td>\n      <td>1</td>\n      <td>1</td>\n      <td>0</td>\n      <td>0</td>\n      <td>0</td>\n      <td>0</td>\n    </tr>\n    <tr>\n      <th>15127</th>\n      <td>0</td>\n      <td>0</td>\n      <td>0</td>\n      <td>0</td>\n      <td>0</td>\n      <td>0</td>\n      <td>1</td>\n      <td>1</td>\n      <td>1</td>\n      <td>0</td>\n      <td>...</td>\n      <td>0</td>\n      <td>0</td>\n      <td>1</td>\n      <td>0</td>\n      <td>1</td>\n      <td>1</td>\n      <td>0</td>\n      <td>0</td>\n      <td>0</td>\n      <td>0</td>\n    </tr>\n    <tr>\n      <th>15128</th>\n      <td>1</td>\n      <td>1</td>\n      <td>1</td>\n      <td>0</td>\n      <td>0</td>\n      <td>0</td>\n      <td>0</td>\n      <td>0</td>\n      <td>0</td>\n      <td>0</td>\n      <td>...</td>\n      <td>0</td>\n      <td>0</td>\n      <td>0</td>\n      <td>0</td>\n      <td>1</td>\n      <td>0</td>\n      <td>0</td>\n      <td>0</td>\n      <td>0</td>\n      <td>0</td>\n    </tr>\n  </tbody>\n</table>\n<p>15129 rows × 33 columns</p>\n</div>"
     },
     "execution_count": 46,
     "metadata": {},
     "output_type": "execute_result"
    }
   ],
   "source": [
    "df"
   ],
   "metadata": {
    "collapsed": false,
    "pycharm": {
     "name": "#%%\n"
    }
   }
  },
  {
   "cell_type": "code",
   "execution_count": 47,
   "outputs": [],
   "source": [
    "for column in df.columns[1:]:\n",
    "    if df[column].sum() == len(df):\n",
    "        del df[column]\n"
   ],
   "metadata": {
    "collapsed": false,
    "pycharm": {
     "name": "#%%\n"
    }
   }
  },
  {
   "cell_type": "code",
   "execution_count": 48,
   "outputs": [
    {
     "data": {
      "text/plain": "       (features['long'] >= -0.5318101220723337)  \\\n0                                              1   \n1                                              0   \n2                                              1   \n3                                              0   \n4                                              1   \n...                                          ...   \n15124                                          1   \n15125                                          1   \n15126                                          1   \n15127                                          0   \n15128                                          1   \n\n       (features['long'] >= -0.5318101220723337) & (features['bathrooms'] < 7.503080016073889)  \\\n0                                                      1                                         \n1                                                      0                                         \n2                                                      1                                         \n3                                                      0                                         \n4                                                      1                                         \n...                                                  ...                                         \n15124                                                  1                                         \n15125                                                  1                                         \n15126                                                  1                                         \n15127                                                  0                                         \n15128                                                  1                                         \n\n       (features['long'] >= -0.5318101220723337) & (features['bathrooms'] < 7.503080016073889) & (0 >= 0.0)  \\\n0                                                      1                                                      \n1                                                      0                                                      \n2                                                      1                                                      \n3                                                      0                                                      \n4                                                      1                                                      \n...                                                  ...                                                      \n15124                                                  1                                                      \n15125                                                  1                                                      \n15126                                                  1                                                      \n15127                                                  0                                                      \n15128                                                  1                                                      \n\n       (features['yr_built'] < -0.9539948558207259)  \\\n0                                                 0   \n1                                                 0   \n2                                                 1   \n3                                                 0   \n4                                                 0   \n...                                             ...   \n15124                                             0   \n15125                                             0   \n15126                                             0   \n15127                                             0   \n15128                                             0   \n\n       (features['yr_built'] < -0.9539948558207259) & (features['long'] < -0.38450789661067586)  \\\n0                                                      0                                          \n1                                                      0                                          \n2                                                      0                                          \n3                                                      0                                          \n4                                                      0                                          \n...                                                  ...                                          \n15124                                                  0                                          \n15125                                                  0                                          \n15126                                                  0                                          \n15127                                                  0                                          \n15128                                                  0                                          \n\n       (features['yr_built'] < -0.9539948558207259) & (features['long'] < -0.38450789661067586) & (0 >= 0.0)  \\\n0                                                      0                                                       \n1                                                      0                                                       \n2                                                      0                                                       \n3                                                      0                                                       \n4                                                      0                                                       \n...                                                  ...                                                       \n15124                                                  0                                                       \n15125                                                  0                                                       \n15126                                                  0                                                       \n15127                                                  0                                                       \n15128                                                  0                                                       \n\n       (features['sqft_above'] < -0.40000227641001507)  \\\n0                                                    1   \n1                                                    0   \n2                                                    1   \n3                                                    1   \n4                                                    0   \n...                                                ...   \n15124                                                0   \n15125                                                0   \n15126                                                0   \n15127                                                1   \n15128                                                0   \n\n       (features['sqft_above'] < -0.40000227641001507) & (features['bathrooms'] < -0.5724146753574244)  \\\n0                                                      1                                                 \n1                                                      0                                                 \n2                                                      1                                                 \n3                                                      0                                                 \n4                                                      0                                                 \n...                                                  ...                                                 \n15124                                                  0                                                 \n15125                                                  0                                                 \n15126                                                  0                                                 \n15127                                                  1                                                 \n15128                                                  0                                                 \n\n       (features['sqft_above'] < -0.40000227641001507) & (features['bathrooms'] < -0.5724146753574244) & (0 >= 0.0)  \\\n0                                                      1                                                              \n1                                                      0                                                              \n2                                                      1                                                              \n3                                                      0                                                              \n4                                                      0                                                              \n...                                                  ...                                                              \n15124                                                  0                                                              \n15125                                                  0                                                              \n15126                                                  0                                                              \n15127                                                  1                                                              \n15128                                                  0                                                              \n\n       (features['bathrooms'] >= 2.723705606859437)  ...  \\\n0                                                 0  ...   \n1                                                 0  ...   \n2                                                 0  ...   \n3                                                 0  ...   \n4                                                 0  ...   \n...                                             ...  ...   \n15124                                             0  ...   \n15125                                             0  ...   \n15126                                             0  ...   \n15127                                             0  ...   \n15128                                             0  ...   \n\n       (features['sqft_living'] >= 4.531003639864835) & (features['sqft_lot'] >= 0.8077444289047583)  \\\n0                                                      0                                               \n1                                                      0                                               \n2                                                      0                                               \n3                                                      0                                               \n4                                                      0                                               \n...                                                  ...                                               \n15124                                                  0                                               \n15125                                                  0                                               \n15126                                                  0                                               \n15127                                                  0                                               \n15128                                                  0                                               \n\n       (features['sqft_living'] >= 4.531003639864835) & (features['sqft_lot'] >= 0.8077444289047583) & (0 >= 0.0)  \\\n0                                                      0                                                            \n1                                                      0                                                            \n2                                                      0                                                            \n3                                                      0                                                            \n4                                                      0                                                            \n...                                                  ...                                                            \n15124                                                  0                                                            \n15125                                                  0                                                            \n15126                                                  0                                                            \n15127                                                  0                                                            \n15128                                                  0                                                            \n\n       (features['long'] < -0.18331461305323282)  \\\n0                                              1   \n1                                              1   \n2                                              0   \n3                                              1   \n4                                              0   \n...                                          ...   \n15124                                          0   \n15125                                          0   \n15126                                          1   \n15127                                          1   \n15128                                          0   \n\n       (features['long'] < -0.18331461305323282) & (features['long'] < -1.2108374540785394)  \\\n0                                                      0                                      \n1                                                      0                                      \n2                                                      0                                      \n3                                                      1                                      \n4                                                      0                                      \n...                                                  ...                                      \n15124                                                  0                                      \n15125                                                  0                                      \n15126                                                  0                                      \n15127                                                  0                                      \n15128                                                  0                                      \n\n       (features['sqft_living'] < 0.8988702333203695)  \\\n0                                                   1   \n1                                                   1   \n2                                                   1   \n3                                                   1   \n4                                                   1   \n...                                               ...   \n15124                                               1   \n15125                                               0   \n15126                                               1   \n15127                                               1   \n15128                                               1   \n\n       (features['sqft_living'] < 0.8988702333203695) & (features['lat'] >= -0.23697575021859496)  \\\n0                                                      0                                            \n1                                                      1                                            \n2                                                      1                                            \n3                                                      0                                            \n4                                                      1                                            \n...                                                  ...                                            \n15124                                                  1                                            \n15125                                                  0                                            \n15126                                                  1                                            \n15127                                                  1                                            \n15128                                                  0                                            \n\n       (features['sqft_living'] >= 4.531003639864835) & (features['lat'] < -0.24162683648000938)  \\\n0                                                      0                                           \n1                                                      0                                           \n2                                                      0                                           \n3                                                      0                                           \n4                                                      0                                           \n...                                                  ...                                           \n15124                                                  0                                           \n15125                                                  0                                           \n15126                                                  0                                           \n15127                                                  0                                           \n15128                                                  0                                           \n\n       (features['sqft_living15'] >= 2.631907439115192)  \\\n0                                                     0   \n1                                                     0   \n2                                                     0   \n3                                                     0   \n4                                                     0   \n...                                                 ...   \n15124                                                 0   \n15125                                                 0   \n15126                                                 0   \n15127                                                 0   \n15128                                                 0   \n\n       (features['sqft_living15'] >= 2.631907439115192) & (features['sqft_living15'] >= 3.9241478038405315)  \\\n0                                                      0                                                      \n1                                                      0                                                      \n2                                                      0                                                      \n3                                                      0                                                      \n4                                                      0                                                      \n...                                                  ...                                                      \n15124                                                  0                                                      \n15125                                                  0                                                      \n15126                                                  0                                                      \n15127                                                  0                                                      \n15128                                                  0                                                      \n\n       (features['sqft_living15'] >= 2.631907439115192) & (features['sqft_living15'] >= 3.9241478038405315) & (0 >= 0.0)  \n0                                                      0                                                                  \n1                                                      0                                                                  \n2                                                      0                                                                  \n3                                                      0                                                                  \n4                                                      0                                                                  \n...                                                  ...                                                                  \n15124                                                  0                                                                  \n15125                                                  0                                                                  \n15126                                                  0                                                                  \n15127                                                  0                                                                  \n15128                                                  0                                                                  \n\n[15129 rows x 33 columns]",
      "text/html": "<div>\n<style scoped>\n    .dataframe tbody tr th:only-of-type {\n        vertical-align: middle;\n    }\n\n    .dataframe tbody tr th {\n        vertical-align: top;\n    }\n\n    .dataframe thead th {\n        text-align: right;\n    }\n</style>\n<table border=\"1\" class=\"dataframe\">\n  <thead>\n    <tr style=\"text-align: right;\">\n      <th></th>\n      <th>(features['long'] &gt;= -0.5318101220723337)</th>\n      <th>(features['long'] &gt;= -0.5318101220723337) &amp; (features['bathrooms'] &lt; 7.503080016073889)</th>\n      <th>(features['long'] &gt;= -0.5318101220723337) &amp; (features['bathrooms'] &lt; 7.503080016073889) &amp; (0 &gt;= 0.0)</th>\n      <th>(features['yr_built'] &lt; -0.9539948558207259)</th>\n      <th>(features['yr_built'] &lt; -0.9539948558207259) &amp; (features['long'] &lt; -0.38450789661067586)</th>\n      <th>(features['yr_built'] &lt; -0.9539948558207259) &amp; (features['long'] &lt; -0.38450789661067586) &amp; (0 &gt;= 0.0)</th>\n      <th>(features['sqft_above'] &lt; -0.40000227641001507)</th>\n      <th>(features['sqft_above'] &lt; -0.40000227641001507) &amp; (features['bathrooms'] &lt; -0.5724146753574244)</th>\n      <th>(features['sqft_above'] &lt; -0.40000227641001507) &amp; (features['bathrooms'] &lt; -0.5724146753574244) &amp; (0 &gt;= 0.0)</th>\n      <th>(features['bathrooms'] &gt;= 2.723705606859437)</th>\n      <th>...</th>\n      <th>(features['sqft_living'] &gt;= 4.531003639864835) &amp; (features['sqft_lot'] &gt;= 0.8077444289047583)</th>\n      <th>(features['sqft_living'] &gt;= 4.531003639864835) &amp; (features['sqft_lot'] &gt;= 0.8077444289047583) &amp; (0 &gt;= 0.0)</th>\n      <th>(features['long'] &lt; -0.18331461305323282)</th>\n      <th>(features['long'] &lt; -0.18331461305323282) &amp; (features['long'] &lt; -1.2108374540785394)</th>\n      <th>(features['sqft_living'] &lt; 0.8988702333203695)</th>\n      <th>(features['sqft_living'] &lt; 0.8988702333203695) &amp; (features['lat'] &gt;= -0.23697575021859496)</th>\n      <th>(features['sqft_living'] &gt;= 4.531003639864835) &amp; (features['lat'] &lt; -0.24162683648000938)</th>\n      <th>(features['sqft_living15'] &gt;= 2.631907439115192)</th>\n      <th>(features['sqft_living15'] &gt;= 2.631907439115192) &amp; (features['sqft_living15'] &gt;= 3.9241478038405315)</th>\n      <th>(features['sqft_living15'] &gt;= 2.631907439115192) &amp; (features['sqft_living15'] &gt;= 3.9241478038405315) &amp; (0 &gt;= 0.0)</th>\n    </tr>\n  </thead>\n  <tbody>\n    <tr>\n      <th>0</th>\n      <td>1</td>\n      <td>1</td>\n      <td>1</td>\n      <td>0</td>\n      <td>0</td>\n      <td>0</td>\n      <td>1</td>\n      <td>1</td>\n      <td>1</td>\n      <td>0</td>\n      <td>...</td>\n      <td>0</td>\n      <td>0</td>\n      <td>1</td>\n      <td>0</td>\n      <td>1</td>\n      <td>0</td>\n      <td>0</td>\n      <td>0</td>\n      <td>0</td>\n      <td>0</td>\n    </tr>\n    <tr>\n      <th>1</th>\n      <td>0</td>\n      <td>0</td>\n      <td>0</td>\n      <td>0</td>\n      <td>0</td>\n      <td>0</td>\n      <td>0</td>\n      <td>0</td>\n      <td>0</td>\n      <td>0</td>\n      <td>...</td>\n      <td>0</td>\n      <td>0</td>\n      <td>1</td>\n      <td>0</td>\n      <td>1</td>\n      <td>1</td>\n      <td>0</td>\n      <td>0</td>\n      <td>0</td>\n      <td>0</td>\n    </tr>\n    <tr>\n      <th>2</th>\n      <td>1</td>\n      <td>1</td>\n      <td>1</td>\n      <td>1</td>\n      <td>0</td>\n      <td>0</td>\n      <td>1</td>\n      <td>1</td>\n      <td>1</td>\n      <td>0</td>\n      <td>...</td>\n      <td>0</td>\n      <td>0</td>\n      <td>0</td>\n      <td>0</td>\n      <td>1</td>\n      <td>1</td>\n      <td>0</td>\n      <td>0</td>\n      <td>0</td>\n      <td>0</td>\n    </tr>\n    <tr>\n      <th>3</th>\n      <td>0</td>\n      <td>0</td>\n      <td>0</td>\n      <td>0</td>\n      <td>0</td>\n      <td>0</td>\n      <td>1</td>\n      <td>0</td>\n      <td>0</td>\n      <td>0</td>\n      <td>...</td>\n      <td>0</td>\n      <td>0</td>\n      <td>1</td>\n      <td>1</td>\n      <td>1</td>\n      <td>0</td>\n      <td>0</td>\n      <td>0</td>\n      <td>0</td>\n      <td>0</td>\n    </tr>\n    <tr>\n      <th>4</th>\n      <td>1</td>\n      <td>1</td>\n      <td>1</td>\n      <td>0</td>\n      <td>0</td>\n      <td>0</td>\n      <td>0</td>\n      <td>0</td>\n      <td>0</td>\n      <td>0</td>\n      <td>...</td>\n      <td>0</td>\n      <td>0</td>\n      <td>0</td>\n      <td>0</td>\n      <td>1</td>\n      <td>1</td>\n      <td>0</td>\n      <td>0</td>\n      <td>0</td>\n      <td>0</td>\n    </tr>\n    <tr>\n      <th>...</th>\n      <td>...</td>\n      <td>...</td>\n      <td>...</td>\n      <td>...</td>\n      <td>...</td>\n      <td>...</td>\n      <td>...</td>\n      <td>...</td>\n      <td>...</td>\n      <td>...</td>\n      <td>...</td>\n      <td>...</td>\n      <td>...</td>\n      <td>...</td>\n      <td>...</td>\n      <td>...</td>\n      <td>...</td>\n      <td>...</td>\n      <td>...</td>\n      <td>...</td>\n      <td>...</td>\n    </tr>\n    <tr>\n      <th>15124</th>\n      <td>1</td>\n      <td>1</td>\n      <td>1</td>\n      <td>0</td>\n      <td>0</td>\n      <td>0</td>\n      <td>0</td>\n      <td>0</td>\n      <td>0</td>\n      <td>0</td>\n      <td>...</td>\n      <td>0</td>\n      <td>0</td>\n      <td>0</td>\n      <td>0</td>\n      <td>1</td>\n      <td>1</td>\n      <td>0</td>\n      <td>0</td>\n      <td>0</td>\n      <td>0</td>\n    </tr>\n    <tr>\n      <th>15125</th>\n      <td>1</td>\n      <td>1</td>\n      <td>1</td>\n      <td>0</td>\n      <td>0</td>\n      <td>0</td>\n      <td>0</td>\n      <td>0</td>\n      <td>0</td>\n      <td>0</td>\n      <td>...</td>\n      <td>0</td>\n      <td>0</td>\n      <td>0</td>\n      <td>0</td>\n      <td>0</td>\n      <td>0</td>\n      <td>0</td>\n      <td>0</td>\n      <td>0</td>\n      <td>0</td>\n    </tr>\n    <tr>\n      <th>15126</th>\n      <td>1</td>\n      <td>1</td>\n      <td>1</td>\n      <td>0</td>\n      <td>0</td>\n      <td>0</td>\n      <td>0</td>\n      <td>0</td>\n      <td>0</td>\n      <td>0</td>\n      <td>...</td>\n      <td>0</td>\n      <td>0</td>\n      <td>1</td>\n      <td>0</td>\n      <td>1</td>\n      <td>1</td>\n      <td>0</td>\n      <td>0</td>\n      <td>0</td>\n      <td>0</td>\n    </tr>\n    <tr>\n      <th>15127</th>\n      <td>0</td>\n      <td>0</td>\n      <td>0</td>\n      <td>0</td>\n      <td>0</td>\n      <td>0</td>\n      <td>1</td>\n      <td>1</td>\n      <td>1</td>\n      <td>0</td>\n      <td>...</td>\n      <td>0</td>\n      <td>0</td>\n      <td>1</td>\n      <td>0</td>\n      <td>1</td>\n      <td>1</td>\n      <td>0</td>\n      <td>0</td>\n      <td>0</td>\n      <td>0</td>\n    </tr>\n    <tr>\n      <th>15128</th>\n      <td>1</td>\n      <td>1</td>\n      <td>1</td>\n      <td>0</td>\n      <td>0</td>\n      <td>0</td>\n      <td>0</td>\n      <td>0</td>\n      <td>0</td>\n      <td>0</td>\n      <td>...</td>\n      <td>0</td>\n      <td>0</td>\n      <td>0</td>\n      <td>0</td>\n      <td>1</td>\n      <td>0</td>\n      <td>0</td>\n      <td>0</td>\n      <td>0</td>\n      <td>0</td>\n    </tr>\n  </tbody>\n</table>\n<p>15129 rows × 33 columns</p>\n</div>"
     },
     "execution_count": 48,
     "metadata": {},
     "output_type": "execute_result"
    }
   ],
   "source": [
    "df"
   ],
   "metadata": {
    "collapsed": false,
    "pycharm": {
     "name": "#%%\n"
    }
   }
  },
  {
   "cell_type": "code",
   "execution_count": 49,
   "outputs": [],
   "source": [
    "features_for_robust_reg = df"
   ],
   "metadata": {
    "collapsed": false,
    "pycharm": {
     "name": "#%%\n"
    }
   }
  },
  {
   "cell_type": "code",
   "execution_count": 50,
   "outputs": [],
   "source": [
    "rule_features = features_for_robust_reg.copy()\n",
    "features_for_robust_reg = pd.concat([features, features_for_robust_reg], axis = 1)"
   ],
   "metadata": {
    "collapsed": false,
    "pycharm": {
     "name": "#%%\n"
    }
   }
  },
  {
   "cell_type": "code",
   "execution_count": 51,
   "outputs": [
    {
     "data": {
      "text/plain": "Intercept                                                                                                            6.484000e+03\nfloors                                                                                                              -2.273737e-13\nbedrooms                                                                                                             1.065814e-12\nbathrooms                                                                                                            0.000000e+00\nsqft_above                                                                                                           4.547474e-13\n                                                                                                                         ...     \n(features['sqft_living'] < 0.8988702333203695) & (features['lat'] >= -0.23697575021859496)                           7.788000e+03\n(features['sqft_living'] >= 4.531003639864835) & (features['lat'] < -0.24162683648000938)                            3.000000e+00\n(features['sqft_living15'] >= 2.631907439115192)                                                                     2.980000e+02\n(features['sqft_living15'] >= 2.631907439115192) & (features['sqft_living15'] >= 3.9241478038405315)                 4.700000e+01\n(features['sqft_living15'] >= 2.631907439115192) & (features['sqft_living15'] >= 3.9241478038405315) & (0 >= 0.0)    4.700000e+01\nLength: 80, dtype: float64"
     },
     "execution_count": 51,
     "metadata": {},
     "output_type": "execute_result"
    }
   ],
   "source": [
    "features_for_robust_reg.sum()"
   ],
   "metadata": {
    "collapsed": false,
    "pycharm": {
     "name": "#%%\n"
    }
   }
  },
  {
   "cell_type": "code",
   "execution_count": 52,
   "outputs": [
    {
     "ename": "ValueError",
     "evalue": "cannot insert Intercept, already exists",
     "output_type": "error",
     "traceback": [
      "\u001B[0;31m---------------------------------------------------------------------------\u001B[0m",
      "\u001B[0;31mValueError\u001B[0m                                Traceback (most recent call last)",
      "\u001B[0;32m/var/folders/bs/b4wxnr6x4rs1cd3wk97bhy6r0000gn/T/ipykernel_7009/1546426262.py\u001B[0m in \u001B[0;36m<module>\u001B[0;34m\u001B[0m\n\u001B[0;32m----> 1\u001B[0;31m \u001B[0mfeatures_for_robust_reg\u001B[0m\u001B[0;34m.\u001B[0m\u001B[0minsert\u001B[0m\u001B[0;34m(\u001B[0m\u001B[0mloc\u001B[0m \u001B[0;34m=\u001B[0m \u001B[0;36m0\u001B[0m\u001B[0;34m,\u001B[0m \u001B[0mcolumn\u001B[0m \u001B[0;34m=\u001B[0m \u001B[0;34m'Intercept'\u001B[0m\u001B[0;34m,\u001B[0m \u001B[0mvalue\u001B[0m \u001B[0;34m=\u001B[0m \u001B[0;34m[\u001B[0m\u001B[0;36m1\u001B[0m \u001B[0;32mfor\u001B[0m \u001B[0mi\u001B[0m \u001B[0;32min\u001B[0m \u001B[0mrange\u001B[0m\u001B[0;34m(\u001B[0m\u001B[0mlen\u001B[0m\u001B[0;34m(\u001B[0m\u001B[0mfeatures_for_robust_reg\u001B[0m\u001B[0;34m)\u001B[0m\u001B[0;34m)\u001B[0m\u001B[0;34m]\u001B[0m\u001B[0;34m)\u001B[0m\u001B[0;34m\u001B[0m\u001B[0;34m\u001B[0m\u001B[0m\n\u001B[0m",
      "\u001B[0;32m~/Desktop/pythonProject/venv/lib/python3.7/site-packages/pandas/core/frame.py\u001B[0m in \u001B[0;36minsert\u001B[0;34m(self, loc, column, value, allow_duplicates)\u001B[0m\n\u001B[1;32m   4412\u001B[0m         \u001B[0;32mif\u001B[0m \u001B[0;32mnot\u001B[0m \u001B[0mallow_duplicates\u001B[0m \u001B[0;32mand\u001B[0m \u001B[0mcolumn\u001B[0m \u001B[0;32min\u001B[0m \u001B[0mself\u001B[0m\u001B[0;34m.\u001B[0m\u001B[0mcolumns\u001B[0m\u001B[0;34m:\u001B[0m\u001B[0;34m\u001B[0m\u001B[0;34m\u001B[0m\u001B[0m\n\u001B[1;32m   4413\u001B[0m             \u001B[0;31m# Should this be a different kind of error??\u001B[0m\u001B[0;34m\u001B[0m\u001B[0;34m\u001B[0m\u001B[0;34m\u001B[0m\u001B[0m\n\u001B[0;32m-> 4414\u001B[0;31m             \u001B[0;32mraise\u001B[0m \u001B[0mValueError\u001B[0m\u001B[0;34m(\u001B[0m\u001B[0;34mf\"cannot insert {column}, already exists\"\u001B[0m\u001B[0;34m)\u001B[0m\u001B[0;34m\u001B[0m\u001B[0;34m\u001B[0m\u001B[0m\n\u001B[0m\u001B[1;32m   4415\u001B[0m         \u001B[0;32mif\u001B[0m \u001B[0;32mnot\u001B[0m \u001B[0misinstance\u001B[0m\u001B[0;34m(\u001B[0m\u001B[0mloc\u001B[0m\u001B[0;34m,\u001B[0m \u001B[0mint\u001B[0m\u001B[0;34m)\u001B[0m\u001B[0;34m:\u001B[0m\u001B[0;34m\u001B[0m\u001B[0;34m\u001B[0m\u001B[0m\n\u001B[1;32m   4416\u001B[0m             \u001B[0;32mraise\u001B[0m \u001B[0mTypeError\u001B[0m\u001B[0;34m(\u001B[0m\u001B[0;34m\"loc must be int\"\u001B[0m\u001B[0;34m)\u001B[0m\u001B[0;34m\u001B[0m\u001B[0;34m\u001B[0m\u001B[0m\n",
      "\u001B[0;31mValueError\u001B[0m: cannot insert Intercept, already exists"
     ]
    }
   ],
   "source": [
    "features_for_robust_reg.insert(loc = 0, column = 'Intercept', value = [1 for i in range(len(features_for_robust_reg))])"
   ],
   "metadata": {
    "collapsed": false,
    "pycharm": {
     "name": "#%%\n"
    }
   }
  },
  {
   "cell_type": "code",
   "execution_count": 53,
   "outputs": [
    {
     "data": {
      "text/plain": "       Intercept    floors  bedrooms  bathrooms  sqft_above  sqft_basement  \\\n0            1.0 -0.239863  0.619419   0.646855   -0.201145       1.435266   \n1            1.0  0.623698  0.619419   0.326955    1.513861      -0.622013   \n2            1.0 -1.103424 -0.404890  -1.592446   -1.202525      -0.622013   \n3            1.0 -1.103424  0.619419   0.326955    0.155668       1.624441   \n4            1.0 -1.103424 -1.429198  -1.592446   -1.260076      -0.622013   \n...          ...       ...       ...        ...         ...            ...   \n15124        NaN       NaN       NaN        NaN         NaN            NaN   \n15125        NaN       NaN       NaN        NaN         NaN            NaN   \n15126        NaN       NaN       NaN        NaN         NaN            NaN   \n15127        NaN       NaN       NaN        NaN         NaN            NaN   \n15128        NaN       NaN       NaN        NaN         NaN            NaN   \n\n       yr_built  yr_renovated  sqft_living  sqft_lot  ...  \\\n0     -2.056083     -0.192198     0.457977 -0.256426  ...   \n1      0.593992     -0.192198     1.114952 -0.025031  ...   \n2     -1.205442     -0.192198    -1.385790 -0.271136  ...   \n3     -0.354801     -0.192198     0.871235 -0.140820  ...   \n4     -0.976423     -0.192198    -1.438772 -0.152930  ...   \n...         ...           ...          ...       ...  ...   \n15124       NaN           NaN          NaN       NaN  ...   \n15125       NaN           NaN          NaN       NaN  ...   \n15126       NaN           NaN          NaN       NaN  ...   \n15127       NaN           NaN          NaN       NaN  ...   \n15128       NaN           NaN          NaN       NaN  ...   \n\n       (features['sqft_living'] >= 4.531003639864835) & (features['sqft_lot'] >= 0.8077444289047583)  \\\n0                                                      0                                               \n1                                                      0                                               \n2                                                      0                                               \n3                                                      0                                               \n4                                                      0                                               \n...                                                  ...                                               \n15124                                                  0                                               \n15125                                                  0                                               \n15126                                                  0                                               \n15127                                                  0                                               \n15128                                                  0                                               \n\n       (features['sqft_living'] >= 4.531003639864835) & (features['sqft_lot'] >= 0.8077444289047583) & (0 >= 0.0)  \\\n0                                                      0                                                            \n1                                                      0                                                            \n2                                                      0                                                            \n3                                                      0                                                            \n4                                                      0                                                            \n...                                                  ...                                                            \n15124                                                  0                                                            \n15125                                                  0                                                            \n15126                                                  0                                                            \n15127                                                  0                                                            \n15128                                                  0                                                            \n\n       (features['long'] < -0.18331461305323282)  \\\n0                                              1   \n1                                              1   \n2                                              0   \n3                                              1   \n4                                              0   \n...                                          ...   \n15124                                          0   \n15125                                          0   \n15126                                          1   \n15127                                          1   \n15128                                          0   \n\n       (features['long'] < -0.18331461305323282) & (features['long'] < -1.2108374540785394)  \\\n0                                                      0                                      \n1                                                      0                                      \n2                                                      0                                      \n3                                                      1                                      \n4                                                      0                                      \n...                                                  ...                                      \n15124                                                  0                                      \n15125                                                  0                                      \n15126                                                  0                                      \n15127                                                  0                                      \n15128                                                  0                                      \n\n       (features['sqft_living'] < 0.8988702333203695)  \\\n0                                                   1   \n1                                                   1   \n2                                                   1   \n3                                                   1   \n4                                                   1   \n...                                               ...   \n15124                                               1   \n15125                                               0   \n15126                                               1   \n15127                                               1   \n15128                                               1   \n\n       (features['sqft_living'] < 0.8988702333203695) & (features['lat'] >= -0.23697575021859496)  \\\n0                                                      0                                            \n1                                                      1                                            \n2                                                      1                                            \n3                                                      0                                            \n4                                                      1                                            \n...                                                  ...                                            \n15124                                                  1                                            \n15125                                                  0                                            \n15126                                                  1                                            \n15127                                                  1                                            \n15128                                                  0                                            \n\n       (features['sqft_living'] >= 4.531003639864835) & (features['lat'] < -0.24162683648000938)  \\\n0                                                      0                                           \n1                                                      0                                           \n2                                                      0                                           \n3                                                      0                                           \n4                                                      0                                           \n...                                                  ...                                           \n15124                                                  0                                           \n15125                                                  0                                           \n15126                                                  0                                           \n15127                                                  0                                           \n15128                                                  0                                           \n\n       (features['sqft_living15'] >= 2.631907439115192)  \\\n0                                                     0   \n1                                                     0   \n2                                                     0   \n3                                                     0   \n4                                                     0   \n...                                                 ...   \n15124                                                 0   \n15125                                                 0   \n15126                                                 0   \n15127                                                 0   \n15128                                                 0   \n\n       (features['sqft_living15'] >= 2.631907439115192) & (features['sqft_living15'] >= 3.9241478038405315)  \\\n0                                                      0                                                      \n1                                                      0                                                      \n2                                                      0                                                      \n3                                                      0                                                      \n4                                                      0                                                      \n...                                                  ...                                                      \n15124                                                  0                                                      \n15125                                                  0                                                      \n15126                                                  0                                                      \n15127                                                  0                                                      \n15128                                                  0                                                      \n\n       (features['sqft_living15'] >= 2.631907439115192) & (features['sqft_living15'] >= 3.9241478038405315) & (0 >= 0.0)  \n0                                                      0                                                                  \n1                                                      0                                                                  \n2                                                      0                                                                  \n3                                                      0                                                                  \n4                                                      0                                                                  \n...                                                  ...                                                                  \n15124                                                  0                                                                  \n15125                                                  0                                                                  \n15126                                                  0                                                                  \n15127                                                  0                                                                  \n15128                                                  0                                                                  \n\n[15129 rows x 80 columns]",
      "text/html": "<div>\n<style scoped>\n    .dataframe tbody tr th:only-of-type {\n        vertical-align: middle;\n    }\n\n    .dataframe tbody tr th {\n        vertical-align: top;\n    }\n\n    .dataframe thead th {\n        text-align: right;\n    }\n</style>\n<table border=\"1\" class=\"dataframe\">\n  <thead>\n    <tr style=\"text-align: right;\">\n      <th></th>\n      <th>Intercept</th>\n      <th>floors</th>\n      <th>bedrooms</th>\n      <th>bathrooms</th>\n      <th>sqft_above</th>\n      <th>sqft_basement</th>\n      <th>yr_built</th>\n      <th>yr_renovated</th>\n      <th>sqft_living</th>\n      <th>sqft_lot</th>\n      <th>...</th>\n      <th>(features['sqft_living'] &gt;= 4.531003639864835) &amp; (features['sqft_lot'] &gt;= 0.8077444289047583)</th>\n      <th>(features['sqft_living'] &gt;= 4.531003639864835) &amp; (features['sqft_lot'] &gt;= 0.8077444289047583) &amp; (0 &gt;= 0.0)</th>\n      <th>(features['long'] &lt; -0.18331461305323282)</th>\n      <th>(features['long'] &lt; -0.18331461305323282) &amp; (features['long'] &lt; -1.2108374540785394)</th>\n      <th>(features['sqft_living'] &lt; 0.8988702333203695)</th>\n      <th>(features['sqft_living'] &lt; 0.8988702333203695) &amp; (features['lat'] &gt;= -0.23697575021859496)</th>\n      <th>(features['sqft_living'] &gt;= 4.531003639864835) &amp; (features['lat'] &lt; -0.24162683648000938)</th>\n      <th>(features['sqft_living15'] &gt;= 2.631907439115192)</th>\n      <th>(features['sqft_living15'] &gt;= 2.631907439115192) &amp; (features['sqft_living15'] &gt;= 3.9241478038405315)</th>\n      <th>(features['sqft_living15'] &gt;= 2.631907439115192) &amp; (features['sqft_living15'] &gt;= 3.9241478038405315) &amp; (0 &gt;= 0.0)</th>\n    </tr>\n  </thead>\n  <tbody>\n    <tr>\n      <th>0</th>\n      <td>1.0</td>\n      <td>-0.239863</td>\n      <td>0.619419</td>\n      <td>0.646855</td>\n      <td>-0.201145</td>\n      <td>1.435266</td>\n      <td>-2.056083</td>\n      <td>-0.192198</td>\n      <td>0.457977</td>\n      <td>-0.256426</td>\n      <td>...</td>\n      <td>0</td>\n      <td>0</td>\n      <td>1</td>\n      <td>0</td>\n      <td>1</td>\n      <td>0</td>\n      <td>0</td>\n      <td>0</td>\n      <td>0</td>\n      <td>0</td>\n    </tr>\n    <tr>\n      <th>1</th>\n      <td>1.0</td>\n      <td>0.623698</td>\n      <td>0.619419</td>\n      <td>0.326955</td>\n      <td>1.513861</td>\n      <td>-0.622013</td>\n      <td>0.593992</td>\n      <td>-0.192198</td>\n      <td>1.114952</td>\n      <td>-0.025031</td>\n      <td>...</td>\n      <td>0</td>\n      <td>0</td>\n      <td>1</td>\n      <td>0</td>\n      <td>1</td>\n      <td>1</td>\n      <td>0</td>\n      <td>0</td>\n      <td>0</td>\n      <td>0</td>\n    </tr>\n    <tr>\n      <th>2</th>\n      <td>1.0</td>\n      <td>-1.103424</td>\n      <td>-0.404890</td>\n      <td>-1.592446</td>\n      <td>-1.202525</td>\n      <td>-0.622013</td>\n      <td>-1.205442</td>\n      <td>-0.192198</td>\n      <td>-1.385790</td>\n      <td>-0.271136</td>\n      <td>...</td>\n      <td>0</td>\n      <td>0</td>\n      <td>0</td>\n      <td>0</td>\n      <td>1</td>\n      <td>1</td>\n      <td>0</td>\n      <td>0</td>\n      <td>0</td>\n      <td>0</td>\n    </tr>\n    <tr>\n      <th>3</th>\n      <td>1.0</td>\n      <td>-1.103424</td>\n      <td>0.619419</td>\n      <td>0.326955</td>\n      <td>0.155668</td>\n      <td>1.624441</td>\n      <td>-0.354801</td>\n      <td>-0.192198</td>\n      <td>0.871235</td>\n      <td>-0.140820</td>\n      <td>...</td>\n      <td>0</td>\n      <td>0</td>\n      <td>1</td>\n      <td>1</td>\n      <td>1</td>\n      <td>0</td>\n      <td>0</td>\n      <td>0</td>\n      <td>0</td>\n      <td>0</td>\n    </tr>\n    <tr>\n      <th>4</th>\n      <td>1.0</td>\n      <td>-1.103424</td>\n      <td>-1.429198</td>\n      <td>-1.592446</td>\n      <td>-1.260076</td>\n      <td>-0.622013</td>\n      <td>-0.976423</td>\n      <td>-0.192198</td>\n      <td>-1.438772</td>\n      <td>-0.152930</td>\n      <td>...</td>\n      <td>0</td>\n      <td>0</td>\n      <td>0</td>\n      <td>0</td>\n      <td>1</td>\n      <td>1</td>\n      <td>0</td>\n      <td>0</td>\n      <td>0</td>\n      <td>0</td>\n    </tr>\n    <tr>\n      <th>...</th>\n      <td>...</td>\n      <td>...</td>\n      <td>...</td>\n      <td>...</td>\n      <td>...</td>\n      <td>...</td>\n      <td>...</td>\n      <td>...</td>\n      <td>...</td>\n      <td>...</td>\n      <td>...</td>\n      <td>...</td>\n      <td>...</td>\n      <td>...</td>\n      <td>...</td>\n      <td>...</td>\n      <td>...</td>\n      <td>...</td>\n      <td>...</td>\n      <td>...</td>\n      <td>...</td>\n    </tr>\n    <tr>\n      <th>15124</th>\n      <td>NaN</td>\n      <td>NaN</td>\n      <td>NaN</td>\n      <td>NaN</td>\n      <td>NaN</td>\n      <td>NaN</td>\n      <td>NaN</td>\n      <td>NaN</td>\n      <td>NaN</td>\n      <td>NaN</td>\n      <td>...</td>\n      <td>0</td>\n      <td>0</td>\n      <td>0</td>\n      <td>0</td>\n      <td>1</td>\n      <td>1</td>\n      <td>0</td>\n      <td>0</td>\n      <td>0</td>\n      <td>0</td>\n    </tr>\n    <tr>\n      <th>15125</th>\n      <td>NaN</td>\n      <td>NaN</td>\n      <td>NaN</td>\n      <td>NaN</td>\n      <td>NaN</td>\n      <td>NaN</td>\n      <td>NaN</td>\n      <td>NaN</td>\n      <td>NaN</td>\n      <td>NaN</td>\n      <td>...</td>\n      <td>0</td>\n      <td>0</td>\n      <td>0</td>\n      <td>0</td>\n      <td>0</td>\n      <td>0</td>\n      <td>0</td>\n      <td>0</td>\n      <td>0</td>\n      <td>0</td>\n    </tr>\n    <tr>\n      <th>15126</th>\n      <td>NaN</td>\n      <td>NaN</td>\n      <td>NaN</td>\n      <td>NaN</td>\n      <td>NaN</td>\n      <td>NaN</td>\n      <td>NaN</td>\n      <td>NaN</td>\n      <td>NaN</td>\n      <td>NaN</td>\n      <td>...</td>\n      <td>0</td>\n      <td>0</td>\n      <td>1</td>\n      <td>0</td>\n      <td>1</td>\n      <td>1</td>\n      <td>0</td>\n      <td>0</td>\n      <td>0</td>\n      <td>0</td>\n    </tr>\n    <tr>\n      <th>15127</th>\n      <td>NaN</td>\n      <td>NaN</td>\n      <td>NaN</td>\n      <td>NaN</td>\n      <td>NaN</td>\n      <td>NaN</td>\n      <td>NaN</td>\n      <td>NaN</td>\n      <td>NaN</td>\n      <td>NaN</td>\n      <td>...</td>\n      <td>0</td>\n      <td>0</td>\n      <td>1</td>\n      <td>0</td>\n      <td>1</td>\n      <td>1</td>\n      <td>0</td>\n      <td>0</td>\n      <td>0</td>\n      <td>0</td>\n    </tr>\n    <tr>\n      <th>15128</th>\n      <td>NaN</td>\n      <td>NaN</td>\n      <td>NaN</td>\n      <td>NaN</td>\n      <td>NaN</td>\n      <td>NaN</td>\n      <td>NaN</td>\n      <td>NaN</td>\n      <td>NaN</td>\n      <td>NaN</td>\n      <td>...</td>\n      <td>0</td>\n      <td>0</td>\n      <td>0</td>\n      <td>0</td>\n      <td>1</td>\n      <td>0</td>\n      <td>0</td>\n      <td>0</td>\n      <td>0</td>\n      <td>0</td>\n    </tr>\n  </tbody>\n</table>\n<p>15129 rows × 80 columns</p>\n</div>"
     },
     "execution_count": 53,
     "metadata": {},
     "output_type": "execute_result"
    }
   ],
   "source": [
    "features_for_robust_reg"
   ],
   "metadata": {
    "collapsed": false,
    "pycharm": {
     "name": "#%%\n"
    }
   }
  },
  {
   "cell_type": "code",
   "execution_count": 54,
   "outputs": [
    {
     "data": {
      "text/plain": "       Intercept    floors  bedrooms  bathrooms  sqft_above  sqft_basement  \\\n0            1.0 -0.239863  0.619419   0.646855   -0.201145       1.435266   \n1            1.0  0.623698  0.619419   0.326955    1.513861      -0.622013   \n2            1.0 -1.103424 -0.404890  -1.592446   -1.202525      -0.622013   \n3            1.0 -1.103424  0.619419   0.326955    0.155668       1.624441   \n4            1.0 -1.103424 -1.429198  -1.592446   -1.260076      -0.622013   \n...          ...       ...       ...        ...         ...            ...   \n15124        NaN       NaN       NaN        NaN         NaN            NaN   \n15125        NaN       NaN       NaN        NaN         NaN            NaN   \n15126        NaN       NaN       NaN        NaN         NaN            NaN   \n15127        NaN       NaN       NaN        NaN         NaN            NaN   \n15128        NaN       NaN       NaN        NaN         NaN            NaN   \n\n       yr_built  yr_renovated  sqft_living  sqft_lot  ...  \\\n0     -2.056083     -0.192198     0.457977 -0.256426  ...   \n1      0.593992     -0.192198     1.114952 -0.025031  ...   \n2     -1.205442     -0.192198    -1.385790 -0.271136  ...   \n3     -0.354801     -0.192198     0.871235 -0.140820  ...   \n4     -0.976423     -0.192198    -1.438772 -0.152930  ...   \n...         ...           ...          ...       ...  ...   \n15124       NaN           NaN          NaN       NaN  ...   \n15125       NaN           NaN          NaN       NaN  ...   \n15126       NaN           NaN          NaN       NaN  ...   \n15127       NaN           NaN          NaN       NaN  ...   \n15128       NaN           NaN          NaN       NaN  ...   \n\n       (features['sqft_living'] >= 4.531003639864835) & (features['sqft_lot'] >= 0.8077444289047583)  \\\n0                                                      0                                               \n1                                                      0                                               \n2                                                      0                                               \n3                                                      0                                               \n4                                                      0                                               \n...                                                  ...                                               \n15124                                                  0                                               \n15125                                                  0                                               \n15126                                                  0                                               \n15127                                                  0                                               \n15128                                                  0                                               \n\n       (features['sqft_living'] >= 4.531003639864835) & (features['sqft_lot'] >= 0.8077444289047583) & (0 >= 0.0)  \\\n0                                                      0                                                            \n1                                                      0                                                            \n2                                                      0                                                            \n3                                                      0                                                            \n4                                                      0                                                            \n...                                                  ...                                                            \n15124                                                  0                                                            \n15125                                                  0                                                            \n15126                                                  0                                                            \n15127                                                  0                                                            \n15128                                                  0                                                            \n\n       (features['long'] < -0.18331461305323282)  \\\n0                                              1   \n1                                              1   \n2                                              0   \n3                                              1   \n4                                              0   \n...                                          ...   \n15124                                          0   \n15125                                          0   \n15126                                          1   \n15127                                          1   \n15128                                          0   \n\n       (features['long'] < -0.18331461305323282) & (features['long'] < -1.2108374540785394)  \\\n0                                                      0                                      \n1                                                      0                                      \n2                                                      0                                      \n3                                                      1                                      \n4                                                      0                                      \n...                                                  ...                                      \n15124                                                  0                                      \n15125                                                  0                                      \n15126                                                  0                                      \n15127                                                  0                                      \n15128                                                  0                                      \n\n       (features['sqft_living'] < 0.8988702333203695)  \\\n0                                                   1   \n1                                                   1   \n2                                                   1   \n3                                                   1   \n4                                                   1   \n...                                               ...   \n15124                                               1   \n15125                                               0   \n15126                                               1   \n15127                                               1   \n15128                                               1   \n\n       (features['sqft_living'] < 0.8988702333203695) & (features['lat'] >= -0.23697575021859496)  \\\n0                                                      0                                            \n1                                                      1                                            \n2                                                      1                                            \n3                                                      0                                            \n4                                                      1                                            \n...                                                  ...                                            \n15124                                                  1                                            \n15125                                                  0                                            \n15126                                                  1                                            \n15127                                                  1                                            \n15128                                                  0                                            \n\n       (features['sqft_living'] >= 4.531003639864835) & (features['lat'] < -0.24162683648000938)  \\\n0                                                      0                                           \n1                                                      0                                           \n2                                                      0                                           \n3                                                      0                                           \n4                                                      0                                           \n...                                                  ...                                           \n15124                                                  0                                           \n15125                                                  0                                           \n15126                                                  0                                           \n15127                                                  0                                           \n15128                                                  0                                           \n\n       (features['sqft_living15'] >= 2.631907439115192)  \\\n0                                                     0   \n1                                                     0   \n2                                                     0   \n3                                                     0   \n4                                                     0   \n...                                                 ...   \n15124                                                 0   \n15125                                                 0   \n15126                                                 0   \n15127                                                 0   \n15128                                                 0   \n\n       (features['sqft_living15'] >= 2.631907439115192) & (features['sqft_living15'] >= 3.9241478038405315)  \\\n0                                                      0                                                      \n1                                                      0                                                      \n2                                                      0                                                      \n3                                                      0                                                      \n4                                                      0                                                      \n...                                                  ...                                                      \n15124                                                  0                                                      \n15125                                                  0                                                      \n15126                                                  0                                                      \n15127                                                  0                                                      \n15128                                                  0                                                      \n\n       (features['sqft_living15'] >= 2.631907439115192) & (features['sqft_living15'] >= 3.9241478038405315) & (0 >= 0.0)  \n0                                                      0                                                                  \n1                                                      0                                                                  \n2                                                      0                                                                  \n3                                                      0                                                                  \n4                                                      0                                                                  \n...                                                  ...                                                                  \n15124                                                  0                                                                  \n15125                                                  0                                                                  \n15126                                                  0                                                                  \n15127                                                  0                                                                  \n15128                                                  0                                                                  \n\n[15129 rows x 80 columns]",
      "text/html": "<div>\n<style scoped>\n    .dataframe tbody tr th:only-of-type {\n        vertical-align: middle;\n    }\n\n    .dataframe tbody tr th {\n        vertical-align: top;\n    }\n\n    .dataframe thead th {\n        text-align: right;\n    }\n</style>\n<table border=\"1\" class=\"dataframe\">\n  <thead>\n    <tr style=\"text-align: right;\">\n      <th></th>\n      <th>Intercept</th>\n      <th>floors</th>\n      <th>bedrooms</th>\n      <th>bathrooms</th>\n      <th>sqft_above</th>\n      <th>sqft_basement</th>\n      <th>yr_built</th>\n      <th>yr_renovated</th>\n      <th>sqft_living</th>\n      <th>sqft_lot</th>\n      <th>...</th>\n      <th>(features['sqft_living'] &gt;= 4.531003639864835) &amp; (features['sqft_lot'] &gt;= 0.8077444289047583)</th>\n      <th>(features['sqft_living'] &gt;= 4.531003639864835) &amp; (features['sqft_lot'] &gt;= 0.8077444289047583) &amp; (0 &gt;= 0.0)</th>\n      <th>(features['long'] &lt; -0.18331461305323282)</th>\n      <th>(features['long'] &lt; -0.18331461305323282) &amp; (features['long'] &lt; -1.2108374540785394)</th>\n      <th>(features['sqft_living'] &lt; 0.8988702333203695)</th>\n      <th>(features['sqft_living'] &lt; 0.8988702333203695) &amp; (features['lat'] &gt;= -0.23697575021859496)</th>\n      <th>(features['sqft_living'] &gt;= 4.531003639864835) &amp; (features['lat'] &lt; -0.24162683648000938)</th>\n      <th>(features['sqft_living15'] &gt;= 2.631907439115192)</th>\n      <th>(features['sqft_living15'] &gt;= 2.631907439115192) &amp; (features['sqft_living15'] &gt;= 3.9241478038405315)</th>\n      <th>(features['sqft_living15'] &gt;= 2.631907439115192) &amp; (features['sqft_living15'] &gt;= 3.9241478038405315) &amp; (0 &gt;= 0.0)</th>\n    </tr>\n  </thead>\n  <tbody>\n    <tr>\n      <th>0</th>\n      <td>1.0</td>\n      <td>-0.239863</td>\n      <td>0.619419</td>\n      <td>0.646855</td>\n      <td>-0.201145</td>\n      <td>1.435266</td>\n      <td>-2.056083</td>\n      <td>-0.192198</td>\n      <td>0.457977</td>\n      <td>-0.256426</td>\n      <td>...</td>\n      <td>0</td>\n      <td>0</td>\n      <td>1</td>\n      <td>0</td>\n      <td>1</td>\n      <td>0</td>\n      <td>0</td>\n      <td>0</td>\n      <td>0</td>\n      <td>0</td>\n    </tr>\n    <tr>\n      <th>1</th>\n      <td>1.0</td>\n      <td>0.623698</td>\n      <td>0.619419</td>\n      <td>0.326955</td>\n      <td>1.513861</td>\n      <td>-0.622013</td>\n      <td>0.593992</td>\n      <td>-0.192198</td>\n      <td>1.114952</td>\n      <td>-0.025031</td>\n      <td>...</td>\n      <td>0</td>\n      <td>0</td>\n      <td>1</td>\n      <td>0</td>\n      <td>1</td>\n      <td>1</td>\n      <td>0</td>\n      <td>0</td>\n      <td>0</td>\n      <td>0</td>\n    </tr>\n    <tr>\n      <th>2</th>\n      <td>1.0</td>\n      <td>-1.103424</td>\n      <td>-0.404890</td>\n      <td>-1.592446</td>\n      <td>-1.202525</td>\n      <td>-0.622013</td>\n      <td>-1.205442</td>\n      <td>-0.192198</td>\n      <td>-1.385790</td>\n      <td>-0.271136</td>\n      <td>...</td>\n      <td>0</td>\n      <td>0</td>\n      <td>0</td>\n      <td>0</td>\n      <td>1</td>\n      <td>1</td>\n      <td>0</td>\n      <td>0</td>\n      <td>0</td>\n      <td>0</td>\n    </tr>\n    <tr>\n      <th>3</th>\n      <td>1.0</td>\n      <td>-1.103424</td>\n      <td>0.619419</td>\n      <td>0.326955</td>\n      <td>0.155668</td>\n      <td>1.624441</td>\n      <td>-0.354801</td>\n      <td>-0.192198</td>\n      <td>0.871235</td>\n      <td>-0.140820</td>\n      <td>...</td>\n      <td>0</td>\n      <td>0</td>\n      <td>1</td>\n      <td>1</td>\n      <td>1</td>\n      <td>0</td>\n      <td>0</td>\n      <td>0</td>\n      <td>0</td>\n      <td>0</td>\n    </tr>\n    <tr>\n      <th>4</th>\n      <td>1.0</td>\n      <td>-1.103424</td>\n      <td>-1.429198</td>\n      <td>-1.592446</td>\n      <td>-1.260076</td>\n      <td>-0.622013</td>\n      <td>-0.976423</td>\n      <td>-0.192198</td>\n      <td>-1.438772</td>\n      <td>-0.152930</td>\n      <td>...</td>\n      <td>0</td>\n      <td>0</td>\n      <td>0</td>\n      <td>0</td>\n      <td>1</td>\n      <td>1</td>\n      <td>0</td>\n      <td>0</td>\n      <td>0</td>\n      <td>0</td>\n    </tr>\n    <tr>\n      <th>...</th>\n      <td>...</td>\n      <td>...</td>\n      <td>...</td>\n      <td>...</td>\n      <td>...</td>\n      <td>...</td>\n      <td>...</td>\n      <td>...</td>\n      <td>...</td>\n      <td>...</td>\n      <td>...</td>\n      <td>...</td>\n      <td>...</td>\n      <td>...</td>\n      <td>...</td>\n      <td>...</td>\n      <td>...</td>\n      <td>...</td>\n      <td>...</td>\n      <td>...</td>\n      <td>...</td>\n    </tr>\n    <tr>\n      <th>15124</th>\n      <td>NaN</td>\n      <td>NaN</td>\n      <td>NaN</td>\n      <td>NaN</td>\n      <td>NaN</td>\n      <td>NaN</td>\n      <td>NaN</td>\n      <td>NaN</td>\n      <td>NaN</td>\n      <td>NaN</td>\n      <td>...</td>\n      <td>0</td>\n      <td>0</td>\n      <td>0</td>\n      <td>0</td>\n      <td>1</td>\n      <td>1</td>\n      <td>0</td>\n      <td>0</td>\n      <td>0</td>\n      <td>0</td>\n    </tr>\n    <tr>\n      <th>15125</th>\n      <td>NaN</td>\n      <td>NaN</td>\n      <td>NaN</td>\n      <td>NaN</td>\n      <td>NaN</td>\n      <td>NaN</td>\n      <td>NaN</td>\n      <td>NaN</td>\n      <td>NaN</td>\n      <td>NaN</td>\n      <td>...</td>\n      <td>0</td>\n      <td>0</td>\n      <td>0</td>\n      <td>0</td>\n      <td>0</td>\n      <td>0</td>\n      <td>0</td>\n      <td>0</td>\n      <td>0</td>\n      <td>0</td>\n    </tr>\n    <tr>\n      <th>15126</th>\n      <td>NaN</td>\n      <td>NaN</td>\n      <td>NaN</td>\n      <td>NaN</td>\n      <td>NaN</td>\n      <td>NaN</td>\n      <td>NaN</td>\n      <td>NaN</td>\n      <td>NaN</td>\n      <td>NaN</td>\n      <td>...</td>\n      <td>0</td>\n      <td>0</td>\n      <td>1</td>\n      <td>0</td>\n      <td>1</td>\n      <td>1</td>\n      <td>0</td>\n      <td>0</td>\n      <td>0</td>\n      <td>0</td>\n    </tr>\n    <tr>\n      <th>15127</th>\n      <td>NaN</td>\n      <td>NaN</td>\n      <td>NaN</td>\n      <td>NaN</td>\n      <td>NaN</td>\n      <td>NaN</td>\n      <td>NaN</td>\n      <td>NaN</td>\n      <td>NaN</td>\n      <td>NaN</td>\n      <td>...</td>\n      <td>0</td>\n      <td>0</td>\n      <td>1</td>\n      <td>0</td>\n      <td>1</td>\n      <td>1</td>\n      <td>0</td>\n      <td>0</td>\n      <td>0</td>\n      <td>0</td>\n    </tr>\n    <tr>\n      <th>15128</th>\n      <td>NaN</td>\n      <td>NaN</td>\n      <td>NaN</td>\n      <td>NaN</td>\n      <td>NaN</td>\n      <td>NaN</td>\n      <td>NaN</td>\n      <td>NaN</td>\n      <td>NaN</td>\n      <td>NaN</td>\n      <td>...</td>\n      <td>0</td>\n      <td>0</td>\n      <td>0</td>\n      <td>0</td>\n      <td>1</td>\n      <td>0</td>\n      <td>0</td>\n      <td>0</td>\n      <td>0</td>\n      <td>0</td>\n    </tr>\n  </tbody>\n</table>\n<p>15129 rows × 80 columns</p>\n</div>"
     },
     "execution_count": 54,
     "metadata": {},
     "output_type": "execute_result"
    }
   ],
   "source": [
    "features_for_robust_reg"
   ],
   "metadata": {
    "collapsed": false,
    "pycharm": {
     "name": "#%%\n"
    }
   }
  },
  {
   "cell_type": "code",
   "execution_count": 55,
   "outputs": [],
   "source": [
    "model = HolisticRobust(\n",
    "                       α = 0,\n",
    "                       ϵ = 0,\n",
    "                       r = 0.05,\n",
    "                       classifier = \"Linear\",\n",
    "                       learning_approach = \"HR\") # Could be ERM either"
   ],
   "metadata": {
    "collapsed": false,
    "pycharm": {
     "name": "#%%\n"
    }
   }
  },
  {
   "cell_type": "code",
   "execution_count": 56,
   "outputs": [
    {
     "ename": "KeyboardInterrupt",
     "evalue": "",
     "output_type": "error",
     "traceback": [
      "\u001B[0;31m---------------------------------------------------------------------------\u001B[0m",
      "\u001B[0;31mKeyboardInterrupt\u001B[0m                         Traceback (most recent call last)",
      "\u001B[0;32m/var/folders/bs/b4wxnr6x4rs1cd3wk97bhy6r0000gn/T/ipykernel_7009/3345927088.py\u001B[0m in \u001B[0;36m<module>\u001B[0;34m\u001B[0m\n\u001B[0;32m----> 1\u001B[0;31m \u001B[0mθ\u001B[0m\u001B[0;34m,\u001B[0m \u001B[0mobj_value\u001B[0m \u001B[0;34m=\u001B[0m \u001B[0mmodel\u001B[0m\u001B[0;34m.\u001B[0m\u001B[0mfit\u001B[0m\u001B[0;34m(\u001B[0m\u001B[0mξ\u001B[0m \u001B[0;34m=\u001B[0m \u001B[0;34m(\u001B[0m\u001B[0mnp\u001B[0m\u001B[0;34m.\u001B[0m\u001B[0mmatrix\u001B[0m\u001B[0;34m(\u001B[0m\u001B[0mfeatures_for_robust_reg\u001B[0m\u001B[0;34m)\u001B[0m\u001B[0;34m,\u001B[0m \u001B[0mnp\u001B[0m\u001B[0;34m.\u001B[0m\u001B[0marray\u001B[0m\u001B[0;34m(\u001B[0m\u001B[0mdiagnosis\u001B[0m\u001B[0;34m)\u001B[0m\u001B[0;34m)\u001B[0m\u001B[0;34m)\u001B[0m\u001B[0;34m\u001B[0m\u001B[0;34m\u001B[0m\u001B[0m\n\u001B[0m",
      "\u001B[0;32m~/Desktop/pythonProject/HR.py\u001B[0m in \u001B[0;36mfit\u001B[0;34m(self, ξ)\u001B[0m\n\u001B[1;32m     30\u001B[0m \u001B[0;34m\u001B[0m\u001B[0m\n\u001B[1;32m     31\u001B[0m         \u001B[0;32mif\u001B[0m \u001B[0mself\u001B[0m\u001B[0;34m.\u001B[0m\u001B[0mlearning_approach\u001B[0m \u001B[0;34m==\u001B[0m \u001B[0;34m\"HR\"\u001B[0m\u001B[0;34m:\u001B[0m\u001B[0;34m\u001B[0m\u001B[0;34m\u001B[0m\u001B[0m\n\u001B[0;32m---> 32\u001B[0;31m             \u001B[0mself\u001B[0m\u001B[0;34m.\u001B[0m\u001B[0mθ\u001B[0m\u001B[0;34m,\u001B[0m \u001B[0mself\u001B[0m\u001B[0;34m.\u001B[0m\u001B[0mobj_value\u001B[0m \u001B[0;34m=\u001B[0m \u001B[0mself\u001B[0m\u001B[0;34m.\u001B[0m\u001B[0mHR\u001B[0m\u001B[0;34m(\u001B[0m\u001B[0mξ\u001B[0m\u001B[0;34m)\u001B[0m\u001B[0;34m\u001B[0m\u001B[0;34m\u001B[0m\u001B[0m\n\u001B[0m\u001B[1;32m     33\u001B[0m \u001B[0;34m\u001B[0m\u001B[0m\n\u001B[1;32m     34\u001B[0m         \u001B[0;32melif\u001B[0m \u001B[0mself\u001B[0m\u001B[0;34m.\u001B[0m\u001B[0mlearning_approach\u001B[0m \u001B[0;34m==\u001B[0m \u001B[0;34m\"ERM\"\u001B[0m\u001B[0;34m:\u001B[0m\u001B[0;34m\u001B[0m\u001B[0;34m\u001B[0m\u001B[0m\n",
      "\u001B[0;32m~/Desktop/pythonProject/HR.py\u001B[0m in \u001B[0;36mHR\u001B[0;34m(self, ξ)\u001B[0m\n\u001B[1;32m    116\u001B[0m             constraints=complete_constraints)\n\u001B[1;32m    117\u001B[0m \u001B[0;34m\u001B[0m\u001B[0m\n\u001B[0;32m--> 118\u001B[0;31m         \u001B[0mmodel\u001B[0m\u001B[0;34m.\u001B[0m\u001B[0msolve\u001B[0m\u001B[0;34m(\u001B[0m\u001B[0;34m)\u001B[0m\u001B[0;34m\u001B[0m\u001B[0;34m\u001B[0m\u001B[0m\n\u001B[0m\u001B[1;32m    119\u001B[0m \u001B[0;34m\u001B[0m\u001B[0m\n\u001B[1;32m    120\u001B[0m         \u001B[0;31m# Other attributes of the model (may want them later)\u001B[0m\u001B[0;34m\u001B[0m\u001B[0;34m\u001B[0m\u001B[0;34m\u001B[0m\u001B[0m\n",
      "\u001B[0;32m~/Desktop/pythonProject/venv/lib/python3.7/site-packages/cvxpy/problems/problem.py\u001B[0m in \u001B[0;36msolve\u001B[0;34m(self, *args, **kwargs)\u001B[0m\n\u001B[1;32m    479\u001B[0m         \u001B[0;32melse\u001B[0m\u001B[0;34m:\u001B[0m\u001B[0;34m\u001B[0m\u001B[0;34m\u001B[0m\u001B[0m\n\u001B[1;32m    480\u001B[0m             \u001B[0msolve_func\u001B[0m \u001B[0;34m=\u001B[0m \u001B[0mProblem\u001B[0m\u001B[0;34m.\u001B[0m\u001B[0m_solve\u001B[0m\u001B[0;34m\u001B[0m\u001B[0;34m\u001B[0m\u001B[0m\n\u001B[0;32m--> 481\u001B[0;31m         \u001B[0;32mreturn\u001B[0m \u001B[0msolve_func\u001B[0m\u001B[0;34m(\u001B[0m\u001B[0mself\u001B[0m\u001B[0;34m,\u001B[0m \u001B[0;34m*\u001B[0m\u001B[0margs\u001B[0m\u001B[0;34m,\u001B[0m \u001B[0;34m**\u001B[0m\u001B[0mkwargs\u001B[0m\u001B[0;34m)\u001B[0m\u001B[0;34m\u001B[0m\u001B[0;34m\u001B[0m\u001B[0m\n\u001B[0m\u001B[1;32m    482\u001B[0m \u001B[0;34m\u001B[0m\u001B[0m\n\u001B[1;32m    483\u001B[0m     \u001B[0;34m@\u001B[0m\u001B[0mclassmethod\u001B[0m\u001B[0;34m\u001B[0m\u001B[0;34m\u001B[0m\u001B[0m\n",
      "\u001B[0;32m~/Desktop/pythonProject/venv/lib/python3.7/site-packages/cvxpy/problems/problem.py\u001B[0m in \u001B[0;36m_solve\u001B[0;34m(self, solver, warm_start, verbose, gp, qcp, requires_grad, enforce_dpp, ignore_dpp, **kwargs)\u001B[0m\n\u001B[1;32m   1006\u001B[0m \u001B[0;34m\u001B[0m\u001B[0m\n\u001B[1;32m   1007\u001B[0m         data, solving_chain, inverse_data = self.get_problem_data(\n\u001B[0;32m-> 1008\u001B[0;31m             solver, gp, enforce_dpp, ignore_dpp, verbose)\n\u001B[0m\u001B[1;32m   1009\u001B[0m \u001B[0;34m\u001B[0m\u001B[0m\n\u001B[1;32m   1010\u001B[0m         \u001B[0;32mif\u001B[0m \u001B[0mverbose\u001B[0m\u001B[0;34m:\u001B[0m\u001B[0;34m\u001B[0m\u001B[0;34m\u001B[0m\u001B[0m\n",
      "\u001B[0;32m~/Desktop/pythonProject/venv/lib/python3.7/site-packages/cvxpy/problems/problem.py\u001B[0m in \u001B[0;36mget_problem_data\u001B[0;34m(self, solver, gp, enforce_dpp, ignore_dpp, verbose)\u001B[0m\n\u001B[1;32m    608\u001B[0m                 \u001B[0msolver\u001B[0m\u001B[0;34m=\u001B[0m\u001B[0msolver\u001B[0m\u001B[0;34m,\u001B[0m \u001B[0mgp\u001B[0m\u001B[0;34m=\u001B[0m\u001B[0mgp\u001B[0m\u001B[0;34m,\u001B[0m\u001B[0;34m\u001B[0m\u001B[0;34m\u001B[0m\u001B[0m\n\u001B[1;32m    609\u001B[0m                 \u001B[0menforce_dpp\u001B[0m\u001B[0;34m=\u001B[0m\u001B[0menforce_dpp\u001B[0m\u001B[0;34m,\u001B[0m\u001B[0;34m\u001B[0m\u001B[0;34m\u001B[0m\u001B[0m\n\u001B[0;32m--> 610\u001B[0;31m                 ignore_dpp=ignore_dpp)\n\u001B[0m\u001B[1;32m    611\u001B[0m             \u001B[0mself\u001B[0m\u001B[0;34m.\u001B[0m\u001B[0m_cache\u001B[0m\u001B[0;34m.\u001B[0m\u001B[0mkey\u001B[0m \u001B[0;34m=\u001B[0m \u001B[0mkey\u001B[0m\u001B[0;34m\u001B[0m\u001B[0;34m\u001B[0m\u001B[0m\n\u001B[1;32m    612\u001B[0m             \u001B[0mself\u001B[0m\u001B[0;34m.\u001B[0m\u001B[0m_cache\u001B[0m\u001B[0;34m.\u001B[0m\u001B[0msolving_chain\u001B[0m \u001B[0;34m=\u001B[0m \u001B[0msolving_chain\u001B[0m\u001B[0;34m\u001B[0m\u001B[0;34m\u001B[0m\u001B[0m\n",
      "\u001B[0;32m~/Desktop/pythonProject/venv/lib/python3.7/site-packages/cvxpy/problems/problem.py\u001B[0m in \u001B[0;36m_construct_chain\u001B[0;34m(self, solver, gp, enforce_dpp, ignore_dpp)\u001B[0m\n\u001B[1;32m    845\u001B[0m         return construct_solving_chain(self, candidate_solvers, gp=gp,\n\u001B[1;32m    846\u001B[0m                                        \u001B[0menforce_dpp\u001B[0m\u001B[0;34m=\u001B[0m\u001B[0menforce_dpp\u001B[0m\u001B[0;34m,\u001B[0m\u001B[0;34m\u001B[0m\u001B[0;34m\u001B[0m\u001B[0m\n\u001B[0;32m--> 847\u001B[0;31m                                        ignore_dpp=ignore_dpp)\n\u001B[0m\u001B[1;32m    848\u001B[0m \u001B[0;34m\u001B[0m\u001B[0m\n\u001B[1;32m    849\u001B[0m     \u001B[0;34m@\u001B[0m\u001B[0mstaticmethod\u001B[0m\u001B[0;34m\u001B[0m\u001B[0;34m\u001B[0m\u001B[0m\n",
      "\u001B[0;32m~/Desktop/pythonProject/venv/lib/python3.7/site-packages/cvxpy/reductions/solvers/solving_chain.py\u001B[0m in \u001B[0;36mconstruct_solving_chain\u001B[0;34m(problem, candidates, gp, enforce_dpp, ignore_dpp)\u001B[0m\n\u001B[1;32m    160\u001B[0m     \u001B[0;32mif\u001B[0m \u001B[0mlen\u001B[0m\u001B[0;34m(\u001B[0m\u001B[0mproblem\u001B[0m\u001B[0;34m.\u001B[0m\u001B[0mvariables\u001B[0m\u001B[0;34m(\u001B[0m\u001B[0;34m)\u001B[0m\u001B[0;34m)\u001B[0m \u001B[0;34m==\u001B[0m \u001B[0;36m0\u001B[0m\u001B[0;34m:\u001B[0m\u001B[0;34m\u001B[0m\u001B[0;34m\u001B[0m\u001B[0m\n\u001B[1;32m    161\u001B[0m         \u001B[0;32mreturn\u001B[0m \u001B[0mSolvingChain\u001B[0m\u001B[0;34m(\u001B[0m\u001B[0mreductions\u001B[0m\u001B[0;34m=\u001B[0m\u001B[0;34m[\u001B[0m\u001B[0mConstantSolver\u001B[0m\u001B[0;34m(\u001B[0m\u001B[0;34m)\u001B[0m\u001B[0;34m]\u001B[0m\u001B[0;34m)\u001B[0m\u001B[0;34m\u001B[0m\u001B[0;34m\u001B[0m\u001B[0m\n\u001B[0;32m--> 162\u001B[0;31m     \u001B[0mreductions\u001B[0m \u001B[0;34m=\u001B[0m \u001B[0m_reductions_for_problem_class\u001B[0m\u001B[0;34m(\u001B[0m\u001B[0mproblem\u001B[0m\u001B[0;34m,\u001B[0m \u001B[0mcandidates\u001B[0m\u001B[0;34m,\u001B[0m \u001B[0mgp\u001B[0m\u001B[0;34m)\u001B[0m\u001B[0;34m\u001B[0m\u001B[0;34m\u001B[0m\u001B[0m\n\u001B[0m\u001B[1;32m    163\u001B[0m \u001B[0;34m\u001B[0m\u001B[0m\n\u001B[1;32m    164\u001B[0m     \u001B[0;31m# Process DPP status of the problem.\u001B[0m\u001B[0;34m\u001B[0m\u001B[0;34m\u001B[0m\u001B[0;34m\u001B[0m\u001B[0m\n",
      "\u001B[0;32m~/Desktop/pythonProject/venv/lib/python3.7/site-packages/cvxpy/reductions/solvers/solving_chain.py\u001B[0m in \u001B[0;36m_reductions_for_problem_class\u001B[0;34m(problem, candidates, gp)\u001B[0m\n\u001B[1;32m     84\u001B[0m         \u001B[0mreductions\u001B[0m \u001B[0;34m+=\u001B[0m \u001B[0;34m[\u001B[0m\u001B[0mDgp2Dcp\u001B[0m\u001B[0;34m(\u001B[0m\u001B[0;34m)\u001B[0m\u001B[0;34m]\u001B[0m\u001B[0;34m\u001B[0m\u001B[0;34m\u001B[0m\u001B[0m\n\u001B[1;32m     85\u001B[0m \u001B[0;34m\u001B[0m\u001B[0m\n\u001B[0;32m---> 86\u001B[0;31m     \u001B[0;32mif\u001B[0m \u001B[0;32mnot\u001B[0m \u001B[0mgp\u001B[0m \u001B[0;32mand\u001B[0m \u001B[0;32mnot\u001B[0m \u001B[0mproblem\u001B[0m\u001B[0;34m.\u001B[0m\u001B[0mis_dcp\u001B[0m\u001B[0;34m(\u001B[0m\u001B[0;34m)\u001B[0m\u001B[0;34m:\u001B[0m\u001B[0;34m\u001B[0m\u001B[0;34m\u001B[0m\u001B[0m\n\u001B[0m\u001B[1;32m     87\u001B[0m         \u001B[0mappend\u001B[0m \u001B[0;34m=\u001B[0m \u001B[0mbuild_non_disciplined_error_msg\u001B[0m\u001B[0;34m(\u001B[0m\u001B[0mproblem\u001B[0m\u001B[0;34m,\u001B[0m \u001B[0;34m'DCP'\u001B[0m\u001B[0;34m)\u001B[0m\u001B[0;34m\u001B[0m\u001B[0;34m\u001B[0m\u001B[0m\n\u001B[1;32m     88\u001B[0m         \u001B[0;32mif\u001B[0m \u001B[0mproblem\u001B[0m\u001B[0;34m.\u001B[0m\u001B[0mis_dgp\u001B[0m\u001B[0;34m(\u001B[0m\u001B[0;34m)\u001B[0m\u001B[0;34m:\u001B[0m\u001B[0;34m\u001B[0m\u001B[0;34m\u001B[0m\u001B[0m\n",
      "\u001B[0;32m~/Desktop/pythonProject/venv/lib/python3.7/site-packages/cvxpy/utilities/performance_utils.py\u001B[0m in \u001B[0;36m_compute_once\u001B[0;34m(self, *args, **kwargs)\u001B[0m\n\u001B[1;32m     71\u001B[0m         \u001B[0;32mif\u001B[0m \u001B[0mkey\u001B[0m \u001B[0;32min\u001B[0m \u001B[0mcache\u001B[0m\u001B[0;34m:\u001B[0m\u001B[0;34m\u001B[0m\u001B[0;34m\u001B[0m\u001B[0m\n\u001B[1;32m     72\u001B[0m             \u001B[0;32mreturn\u001B[0m \u001B[0mcache\u001B[0m\u001B[0;34m[\u001B[0m\u001B[0mkey\u001B[0m\u001B[0;34m]\u001B[0m\u001B[0;34m\u001B[0m\u001B[0;34m\u001B[0m\u001B[0m\n\u001B[0;32m---> 73\u001B[0;31m         \u001B[0mresult\u001B[0m \u001B[0;34m=\u001B[0m \u001B[0mfunc\u001B[0m\u001B[0;34m(\u001B[0m\u001B[0mself\u001B[0m\u001B[0;34m,\u001B[0m \u001B[0;34m*\u001B[0m\u001B[0margs\u001B[0m\u001B[0;34m,\u001B[0m \u001B[0;34m**\u001B[0m\u001B[0mkwargs\u001B[0m\u001B[0;34m)\u001B[0m\u001B[0;34m\u001B[0m\u001B[0;34m\u001B[0m\u001B[0m\n\u001B[0m\u001B[1;32m     74\u001B[0m         \u001B[0mcache\u001B[0m\u001B[0;34m[\u001B[0m\u001B[0mkey\u001B[0m\u001B[0;34m]\u001B[0m \u001B[0;34m=\u001B[0m \u001B[0mresult\u001B[0m\u001B[0;34m\u001B[0m\u001B[0;34m\u001B[0m\u001B[0m\n\u001B[1;32m     75\u001B[0m         \u001B[0;32mreturn\u001B[0m \u001B[0mresult\u001B[0m\u001B[0;34m\u001B[0m\u001B[0;34m\u001B[0m\u001B[0m\n",
      "\u001B[0;32m~/Desktop/pythonProject/venv/lib/python3.7/site-packages/cvxpy/problems/problem.py\u001B[0m in \u001B[0;36mis_dcp\u001B[0;34m(self, dpp)\u001B[0m\n\u001B[1;32m    241\u001B[0m         \"\"\"\n\u001B[1;32m    242\u001B[0m         return all(\n\u001B[0;32m--> 243\u001B[0;31m           expr.is_dcp(dpp) for expr in self.constraints + [self.objective])\n\u001B[0m\u001B[1;32m    244\u001B[0m \u001B[0;34m\u001B[0m\u001B[0m\n\u001B[1;32m    245\u001B[0m     \u001B[0;34m@\u001B[0m\u001B[0mperf\u001B[0m\u001B[0;34m.\u001B[0m\u001B[0mcompute_once\u001B[0m\u001B[0;34m\u001B[0m\u001B[0;34m\u001B[0m\u001B[0m\n",
      "\u001B[0;32m~/Desktop/pythonProject/venv/lib/python3.7/site-packages/cvxpy/problems/problem.py\u001B[0m in \u001B[0;36m<genexpr>\u001B[0;34m(.0)\u001B[0m\n\u001B[1;32m    241\u001B[0m         \"\"\"\n\u001B[1;32m    242\u001B[0m         return all(\n\u001B[0;32m--> 243\u001B[0;31m           expr.is_dcp(dpp) for expr in self.constraints + [self.objective])\n\u001B[0m\u001B[1;32m    244\u001B[0m \u001B[0;34m\u001B[0m\u001B[0m\n\u001B[1;32m    245\u001B[0m     \u001B[0;34m@\u001B[0m\u001B[0mperf\u001B[0m\u001B[0;34m.\u001B[0m\u001B[0mcompute_once\u001B[0m\u001B[0;34m\u001B[0m\u001B[0;34m\u001B[0m\u001B[0m\n",
      "\u001B[0;32m~/Desktop/pythonProject/venv/lib/python3.7/site-packages/cvxpy/constraints/nonpos.py\u001B[0m in \u001B[0;36mis_dcp\u001B[0;34m(self, dpp)\u001B[0m\n\u001B[1;32m    183\u001B[0m             \u001B[0;32mwith\u001B[0m \u001B[0mscopes\u001B[0m\u001B[0;34m.\u001B[0m\u001B[0mdpp_scope\u001B[0m\u001B[0;34m(\u001B[0m\u001B[0;34m)\u001B[0m\u001B[0;34m:\u001B[0m\u001B[0;34m\u001B[0m\u001B[0;34m\u001B[0m\u001B[0m\n\u001B[1;32m    184\u001B[0m                 \u001B[0;32mreturn\u001B[0m \u001B[0mself\u001B[0m\u001B[0;34m.\u001B[0m\u001B[0mexpr\u001B[0m\u001B[0;34m.\u001B[0m\u001B[0mis_convex\u001B[0m\u001B[0;34m(\u001B[0m\u001B[0;34m)\u001B[0m\u001B[0;34m\u001B[0m\u001B[0;34m\u001B[0m\u001B[0m\n\u001B[0;32m--> 185\u001B[0;31m         \u001B[0;32mreturn\u001B[0m \u001B[0mself\u001B[0m\u001B[0;34m.\u001B[0m\u001B[0mexpr\u001B[0m\u001B[0;34m.\u001B[0m\u001B[0mis_convex\u001B[0m\u001B[0;34m(\u001B[0m\u001B[0;34m)\u001B[0m\u001B[0;34m\u001B[0m\u001B[0;34m\u001B[0m\u001B[0m\n\u001B[0m\u001B[1;32m    186\u001B[0m \u001B[0;34m\u001B[0m\u001B[0m\n\u001B[1;32m    187\u001B[0m     \u001B[0;32mdef\u001B[0m \u001B[0mis_dgp\u001B[0m\u001B[0;34m(\u001B[0m\u001B[0mself\u001B[0m\u001B[0;34m,\u001B[0m \u001B[0mdpp\u001B[0m\u001B[0;34m:\u001B[0m \u001B[0mbool\u001B[0m \u001B[0;34m=\u001B[0m \u001B[0;32mFalse\u001B[0m\u001B[0;34m)\u001B[0m \u001B[0;34m->\u001B[0m \u001B[0mbool\u001B[0m\u001B[0;34m:\u001B[0m\u001B[0;34m\u001B[0m\u001B[0;34m\u001B[0m\u001B[0m\n",
      "\u001B[0;32m~/Desktop/pythonProject/venv/lib/python3.7/site-packages/cvxpy/utilities/performance_utils.py\u001B[0m in \u001B[0;36m_compute_once\u001B[0;34m(self, *args, **kwargs)\u001B[0m\n\u001B[1;32m     71\u001B[0m         \u001B[0;32mif\u001B[0m \u001B[0mkey\u001B[0m \u001B[0;32min\u001B[0m \u001B[0mcache\u001B[0m\u001B[0;34m:\u001B[0m\u001B[0;34m\u001B[0m\u001B[0;34m\u001B[0m\u001B[0m\n\u001B[1;32m     72\u001B[0m             \u001B[0;32mreturn\u001B[0m \u001B[0mcache\u001B[0m\u001B[0;34m[\u001B[0m\u001B[0mkey\u001B[0m\u001B[0;34m]\u001B[0m\u001B[0;34m\u001B[0m\u001B[0;34m\u001B[0m\u001B[0m\n\u001B[0;32m---> 73\u001B[0;31m         \u001B[0mresult\u001B[0m \u001B[0;34m=\u001B[0m \u001B[0mfunc\u001B[0m\u001B[0;34m(\u001B[0m\u001B[0mself\u001B[0m\u001B[0;34m,\u001B[0m \u001B[0;34m*\u001B[0m\u001B[0margs\u001B[0m\u001B[0;34m,\u001B[0m \u001B[0;34m**\u001B[0m\u001B[0mkwargs\u001B[0m\u001B[0;34m)\u001B[0m\u001B[0;34m\u001B[0m\u001B[0;34m\u001B[0m\u001B[0m\n\u001B[0m\u001B[1;32m     74\u001B[0m         \u001B[0mcache\u001B[0m\u001B[0;34m[\u001B[0m\u001B[0mkey\u001B[0m\u001B[0;34m]\u001B[0m \u001B[0;34m=\u001B[0m \u001B[0mresult\u001B[0m\u001B[0;34m\u001B[0m\u001B[0;34m\u001B[0m\u001B[0m\n\u001B[1;32m     75\u001B[0m         \u001B[0;32mreturn\u001B[0m \u001B[0mresult\u001B[0m\u001B[0;34m\u001B[0m\u001B[0;34m\u001B[0m\u001B[0m\n",
      "\u001B[0;32m~/Desktop/pythonProject/venv/lib/python3.7/site-packages/cvxpy/atoms/atom.py\u001B[0m in \u001B[0;36mis_convex\u001B[0;34m(self)\u001B[0m\n\u001B[1;32m    176\u001B[0m         \u001B[0;32melif\u001B[0m \u001B[0mself\u001B[0m\u001B[0;34m.\u001B[0m\u001B[0mis_atom_convex\u001B[0m\u001B[0;34m(\u001B[0m\u001B[0;34m)\u001B[0m\u001B[0;34m:\u001B[0m\u001B[0;34m\u001B[0m\u001B[0;34m\u001B[0m\u001B[0m\n\u001B[1;32m    177\u001B[0m             \u001B[0;32mfor\u001B[0m \u001B[0midx\u001B[0m\u001B[0;34m,\u001B[0m \u001B[0marg\u001B[0m \u001B[0;32min\u001B[0m \u001B[0menumerate\u001B[0m\u001B[0;34m(\u001B[0m\u001B[0mself\u001B[0m\u001B[0;34m.\u001B[0m\u001B[0margs\u001B[0m\u001B[0;34m)\u001B[0m\u001B[0;34m:\u001B[0m\u001B[0;34m\u001B[0m\u001B[0;34m\u001B[0m\u001B[0m\n\u001B[0;32m--> 178\u001B[0;31m                 if not (arg.is_affine() or\n\u001B[0m\u001B[1;32m    179\u001B[0m                         \u001B[0;34m(\u001B[0m\u001B[0marg\u001B[0m\u001B[0;34m.\u001B[0m\u001B[0mis_convex\u001B[0m\u001B[0;34m(\u001B[0m\u001B[0;34m)\u001B[0m \u001B[0;32mand\u001B[0m \u001B[0mself\u001B[0m\u001B[0;34m.\u001B[0m\u001B[0mis_incr\u001B[0m\u001B[0;34m(\u001B[0m\u001B[0midx\u001B[0m\u001B[0;34m)\u001B[0m\u001B[0;34m)\u001B[0m \u001B[0;32mor\u001B[0m\u001B[0;34m\u001B[0m\u001B[0;34m\u001B[0m\u001B[0m\n\u001B[1;32m    180\u001B[0m                         (arg.is_concave() and self.is_decr(idx))):\n",
      "\u001B[0;32m~/Desktop/pythonProject/venv/lib/python3.7/site-packages/cvxpy/utilities/performance_utils.py\u001B[0m in \u001B[0;36m_compute_once\u001B[0;34m(self, *args, **kwargs)\u001B[0m\n\u001B[1;32m     71\u001B[0m         \u001B[0;32mif\u001B[0m \u001B[0mkey\u001B[0m \u001B[0;32min\u001B[0m \u001B[0mcache\u001B[0m\u001B[0;34m:\u001B[0m\u001B[0;34m\u001B[0m\u001B[0;34m\u001B[0m\u001B[0m\n\u001B[1;32m     72\u001B[0m             \u001B[0;32mreturn\u001B[0m \u001B[0mcache\u001B[0m\u001B[0;34m[\u001B[0m\u001B[0mkey\u001B[0m\u001B[0;34m]\u001B[0m\u001B[0;34m\u001B[0m\u001B[0;34m\u001B[0m\u001B[0m\n\u001B[0;32m---> 73\u001B[0;31m         \u001B[0mresult\u001B[0m \u001B[0;34m=\u001B[0m \u001B[0mfunc\u001B[0m\u001B[0;34m(\u001B[0m\u001B[0mself\u001B[0m\u001B[0;34m,\u001B[0m \u001B[0;34m*\u001B[0m\u001B[0margs\u001B[0m\u001B[0;34m,\u001B[0m \u001B[0;34m**\u001B[0m\u001B[0mkwargs\u001B[0m\u001B[0;34m)\u001B[0m\u001B[0;34m\u001B[0m\u001B[0;34m\u001B[0m\u001B[0m\n\u001B[0m\u001B[1;32m     74\u001B[0m         \u001B[0mcache\u001B[0m\u001B[0;34m[\u001B[0m\u001B[0mkey\u001B[0m\u001B[0;34m]\u001B[0m \u001B[0;34m=\u001B[0m \u001B[0mresult\u001B[0m\u001B[0;34m\u001B[0m\u001B[0;34m\u001B[0m\u001B[0m\n\u001B[1;32m     75\u001B[0m         \u001B[0;32mreturn\u001B[0m \u001B[0mresult\u001B[0m\u001B[0;34m\u001B[0m\u001B[0;34m\u001B[0m\u001B[0m\n",
      "\u001B[0;32m~/Desktop/pythonProject/venv/lib/python3.7/site-packages/cvxpy/expressions/expression.py\u001B[0m in \u001B[0;36mis_affine\u001B[0;34m(self)\u001B[0m\n\u001B[1;32m    209\u001B[0m         \"\"\"Is the expression affine?\n\u001B[1;32m    210\u001B[0m         \"\"\"\n\u001B[0;32m--> 211\u001B[0;31m         \u001B[0;32mreturn\u001B[0m \u001B[0mself\u001B[0m\u001B[0;34m.\u001B[0m\u001B[0mis_constant\u001B[0m\u001B[0;34m(\u001B[0m\u001B[0;34m)\u001B[0m \u001B[0;32mor\u001B[0m \u001B[0;34m(\u001B[0m\u001B[0mself\u001B[0m\u001B[0;34m.\u001B[0m\u001B[0mis_convex\u001B[0m\u001B[0;34m(\u001B[0m\u001B[0;34m)\u001B[0m \u001B[0;32mand\u001B[0m \u001B[0mself\u001B[0m\u001B[0;34m.\u001B[0m\u001B[0mis_concave\u001B[0m\u001B[0;34m(\u001B[0m\u001B[0;34m)\u001B[0m\u001B[0;34m)\u001B[0m\u001B[0;34m\u001B[0m\u001B[0;34m\u001B[0m\u001B[0m\n\u001B[0m\u001B[1;32m    212\u001B[0m \u001B[0;34m\u001B[0m\u001B[0m\n\u001B[1;32m    213\u001B[0m     \u001B[0;34m@\u001B[0m\u001B[0mabc\u001B[0m\u001B[0;34m.\u001B[0m\u001B[0mabstractmethod\u001B[0m\u001B[0;34m\u001B[0m\u001B[0;34m\u001B[0m\u001B[0m\n",
      "\u001B[0;32m~/Desktop/pythonProject/venv/lib/python3.7/site-packages/cvxpy/utilities/performance_utils.py\u001B[0m in \u001B[0;36m_compute_once\u001B[0;34m(self, *args, **kwargs)\u001B[0m\n\u001B[1;32m     71\u001B[0m         \u001B[0;32mif\u001B[0m \u001B[0mkey\u001B[0m \u001B[0;32min\u001B[0m \u001B[0mcache\u001B[0m\u001B[0;34m:\u001B[0m\u001B[0;34m\u001B[0m\u001B[0;34m\u001B[0m\u001B[0m\n\u001B[1;32m     72\u001B[0m             \u001B[0;32mreturn\u001B[0m \u001B[0mcache\u001B[0m\u001B[0;34m[\u001B[0m\u001B[0mkey\u001B[0m\u001B[0;34m]\u001B[0m\u001B[0;34m\u001B[0m\u001B[0;34m\u001B[0m\u001B[0m\n\u001B[0;32m---> 73\u001B[0;31m         \u001B[0mresult\u001B[0m \u001B[0;34m=\u001B[0m \u001B[0mfunc\u001B[0m\u001B[0;34m(\u001B[0m\u001B[0mself\u001B[0m\u001B[0;34m,\u001B[0m \u001B[0;34m*\u001B[0m\u001B[0margs\u001B[0m\u001B[0;34m,\u001B[0m \u001B[0;34m**\u001B[0m\u001B[0mkwargs\u001B[0m\u001B[0;34m)\u001B[0m\u001B[0;34m\u001B[0m\u001B[0;34m\u001B[0m\u001B[0m\n\u001B[0m\u001B[1;32m     74\u001B[0m         \u001B[0mcache\u001B[0m\u001B[0;34m[\u001B[0m\u001B[0mkey\u001B[0m\u001B[0;34m]\u001B[0m \u001B[0;34m=\u001B[0m \u001B[0mresult\u001B[0m\u001B[0;34m\u001B[0m\u001B[0;34m\u001B[0m\u001B[0m\n\u001B[1;32m     75\u001B[0m         \u001B[0;32mreturn\u001B[0m \u001B[0mresult\u001B[0m\u001B[0;34m\u001B[0m\u001B[0;34m\u001B[0m\u001B[0m\n",
      "\u001B[0;32m~/Desktop/pythonProject/venv/lib/python3.7/site-packages/cvxpy/atoms/atom.py\u001B[0m in \u001B[0;36mis_convex\u001B[0;34m(self)\u001B[0m\n\u001B[1;32m    174\u001B[0m         \u001B[0;32mif\u001B[0m \u001B[0mself\u001B[0m\u001B[0;34m.\u001B[0m\u001B[0mis_constant\u001B[0m\u001B[0;34m(\u001B[0m\u001B[0;34m)\u001B[0m\u001B[0;34m:\u001B[0m\u001B[0;34m\u001B[0m\u001B[0;34m\u001B[0m\u001B[0m\n\u001B[1;32m    175\u001B[0m             \u001B[0;32mreturn\u001B[0m \u001B[0;32mTrue\u001B[0m\u001B[0;34m\u001B[0m\u001B[0;34m\u001B[0m\u001B[0m\n\u001B[0;32m--> 176\u001B[0;31m         \u001B[0;32melif\u001B[0m \u001B[0mself\u001B[0m\u001B[0;34m.\u001B[0m\u001B[0mis_atom_convex\u001B[0m\u001B[0;34m(\u001B[0m\u001B[0;34m)\u001B[0m\u001B[0;34m:\u001B[0m\u001B[0;34m\u001B[0m\u001B[0;34m\u001B[0m\u001B[0m\n\u001B[0m\u001B[1;32m    177\u001B[0m             \u001B[0;32mfor\u001B[0m \u001B[0midx\u001B[0m\u001B[0;34m,\u001B[0m \u001B[0marg\u001B[0m \u001B[0;32min\u001B[0m \u001B[0menumerate\u001B[0m\u001B[0;34m(\u001B[0m\u001B[0mself\u001B[0m\u001B[0;34m.\u001B[0m\u001B[0margs\u001B[0m\u001B[0;34m)\u001B[0m\u001B[0;34m:\u001B[0m\u001B[0;34m\u001B[0m\u001B[0;34m\u001B[0m\u001B[0m\n\u001B[1;32m    178\u001B[0m                 if not (arg.is_affine() or\n",
      "\u001B[0;31mKeyboardInterrupt\u001B[0m: "
     ]
    }
   ],
   "source": [
    "θ, obj_value = model.fit(ξ = (np.matrix(features_for_robust_reg), np.array(diagnosis)))"
   ],
   "metadata": {
    "collapsed": false,
    "pycharm": {
     "name": "#%%\n"
    }
   }
  },
  {
   "cell_type": "code",
   "execution_count": null,
   "outputs": [],
   "source": [
    "predictions = np.multiply(θ, features_for_robust_reg\n",
    "                          ).sum(axis = 1)"
   ],
   "metadata": {
    "collapsed": false,
    "pycharm": {
     "name": "#%%\n"
    }
   }
  },
  {
   "cell_type": "code",
   "execution_count": null,
   "outputs": [],
   "source": [
    "diagnosis.plot()"
   ],
   "metadata": {
    "collapsed": false,
    "pycharm": {
     "name": "#%%\n"
    }
   }
  },
  {
   "cell_type": "code",
   "execution_count": null,
   "outputs": [],
   "source": [
    "(diagnosis - predictions).describe()"
   ],
   "metadata": {
    "collapsed": false,
    "pycharm": {
     "name": "#%%\n"
    }
   }
  },
  {
   "cell_type": "code",
   "execution_count": null,
   "outputs": [],
   "source": [
    "SSE_model = sum((diagnosis - predictions)**2)\n",
    "SSE_mean = sum((diagnosis - diagnosis.mean())**2)\n",
    "\n",
    "1 - SSE_model/SSE_mean"
   ],
   "metadata": {
    "collapsed": false,
    "pycharm": {
     "name": "#%%\n"
    }
   }
  },
  {
   "cell_type": "code",
   "execution_count": 32,
   "outputs": [
    {
     "data": {
      "text/plain": "-1.256205050439164e+23"
     },
     "execution_count": 32,
     "metadata": {},
     "output_type": "execute_result"
    }
   ],
   "source": [
    "features"
   ],
   "metadata": {
    "collapsed": false,
    "pycharm": {
     "name": "#%%\n"
    }
   }
  },
  {
   "cell_type": "code",
   "execution_count": 33,
   "outputs": [],
   "source": [
    "rule_features"
   ],
   "metadata": {
    "collapsed": false,
    "pycharm": {
     "name": "#%%\n"
    }
   }
  },
  {
   "cell_type": "code",
   "execution_count": 34,
   "outputs": [],
   "source": [
    "features = features_test\n",
    "\n",
    "for rule in rule_features.columns:\n",
    "\n",
    "    index_feature = features.loc[eval(rule)].index\n",
    "\n",
    "    new_feature = [1 if i in index_feature else 0 for i in range(len(features))]\n",
    "\n",
    "    if sum(new_feature) >= 1:\n",
    "        features[rule] = new_feature\n"
   ],
   "metadata": {
    "collapsed": false,
    "pycharm": {
     "name": "#%%\n"
    }
   }
  },
  {
   "cell_type": "code",
   "execution_count": 35,
   "outputs": [],
   "source": [
    "new_features = features_test"
   ],
   "metadata": {
    "collapsed": false,
    "pycharm": {
     "name": "#%%\n"
    }
   }
  },
  {
   "cell_type": "code",
   "execution_count": 57,
   "outputs": [
    {
     "ename": "ValueError",
     "evalue": "cannot insert Intercept, already exists",
     "output_type": "error",
     "traceback": [
      "\u001B[0;31m---------------------------------------------------------------------------\u001B[0m",
      "\u001B[0;31mValueError\u001B[0m                                Traceback (most recent call last)",
      "\u001B[0;32m/var/folders/bs/b4wxnr6x4rs1cd3wk97bhy6r0000gn/T/ipykernel_7009/3932378849.py\u001B[0m in \u001B[0;36m<module>\u001B[0;34m\u001B[0m\n\u001B[0;32m----> 1\u001B[0;31m \u001B[0mnew_features\u001B[0m\u001B[0;34m.\u001B[0m\u001B[0minsert\u001B[0m\u001B[0;34m(\u001B[0m\u001B[0mloc\u001B[0m \u001B[0;34m=\u001B[0m \u001B[0;36m0\u001B[0m\u001B[0;34m,\u001B[0m \u001B[0mcolumn\u001B[0m \u001B[0;34m=\u001B[0m \u001B[0;34m'Intercept'\u001B[0m\u001B[0;34m,\u001B[0m \u001B[0mvalue\u001B[0m \u001B[0;34m=\u001B[0m \u001B[0;34m[\u001B[0m\u001B[0;36m1\u001B[0m \u001B[0;32mfor\u001B[0m \u001B[0mi\u001B[0m \u001B[0;32min\u001B[0m \u001B[0mrange\u001B[0m\u001B[0;34m(\u001B[0m\u001B[0mlen\u001B[0m\u001B[0;34m(\u001B[0m\u001B[0mnew_features\u001B[0m\u001B[0;34m)\u001B[0m\u001B[0;34m)\u001B[0m\u001B[0;34m]\u001B[0m\u001B[0;34m)\u001B[0m\u001B[0;34m\u001B[0m\u001B[0;34m\u001B[0m\u001B[0m\n\u001B[0m",
      "\u001B[0;32m~/Desktop/pythonProject/venv/lib/python3.7/site-packages/pandas/core/frame.py\u001B[0m in \u001B[0;36minsert\u001B[0;34m(self, loc, column, value, allow_duplicates)\u001B[0m\n\u001B[1;32m   4412\u001B[0m         \u001B[0;32mif\u001B[0m \u001B[0;32mnot\u001B[0m \u001B[0mallow_duplicates\u001B[0m \u001B[0;32mand\u001B[0m \u001B[0mcolumn\u001B[0m \u001B[0;32min\u001B[0m \u001B[0mself\u001B[0m\u001B[0;34m.\u001B[0m\u001B[0mcolumns\u001B[0m\u001B[0;34m:\u001B[0m\u001B[0;34m\u001B[0m\u001B[0;34m\u001B[0m\u001B[0m\n\u001B[1;32m   4413\u001B[0m             \u001B[0;31m# Should this be a different kind of error??\u001B[0m\u001B[0;34m\u001B[0m\u001B[0;34m\u001B[0m\u001B[0;34m\u001B[0m\u001B[0m\n\u001B[0;32m-> 4414\u001B[0;31m             \u001B[0;32mraise\u001B[0m \u001B[0mValueError\u001B[0m\u001B[0;34m(\u001B[0m\u001B[0;34mf\"cannot insert {column}, already exists\"\u001B[0m\u001B[0;34m)\u001B[0m\u001B[0;34m\u001B[0m\u001B[0;34m\u001B[0m\u001B[0m\n\u001B[0m\u001B[1;32m   4415\u001B[0m         \u001B[0;32mif\u001B[0m \u001B[0;32mnot\u001B[0m \u001B[0misinstance\u001B[0m\u001B[0;34m(\u001B[0m\u001B[0mloc\u001B[0m\u001B[0;34m,\u001B[0m \u001B[0mint\u001B[0m\u001B[0;34m)\u001B[0m\u001B[0;34m:\u001B[0m\u001B[0;34m\u001B[0m\u001B[0;34m\u001B[0m\u001B[0m\n\u001B[1;32m   4416\u001B[0m             \u001B[0;32mraise\u001B[0m \u001B[0mTypeError\u001B[0m\u001B[0;34m(\u001B[0m\u001B[0;34m\"loc must be int\"\u001B[0m\u001B[0;34m)\u001B[0m\u001B[0;34m\u001B[0m\u001B[0;34m\u001B[0m\u001B[0m\n",
      "\u001B[0;31mValueError\u001B[0m: cannot insert Intercept, already exists"
     ]
    }
   ],
   "source": [
    "new_features.insert(loc = 0, column = 'Intercept', value = [1 for i in range(len(new_features))])"
   ],
   "metadata": {
    "collapsed": false,
    "pycharm": {
     "name": "#%%\n"
    }
   }
  },
  {
   "cell_type": "code",
   "execution_count": 58,
   "outputs": [],
   "source": [
    "predictions_test = lasso_trees.predict(features_test)"
   ],
   "metadata": {
    "collapsed": false,
    "pycharm": {
     "name": "#%%\n"
    }
   }
  },
  {
   "cell_type": "code",
   "execution_count": null,
   "outputs": [],
   "source": [],
   "metadata": {
    "collapsed": false,
    "pycharm": {
     "name": "#%%\n"
    }
   }
  }
 ],
 "metadata": {
  "kernelspec": {
   "display_name": "Python 3 (ipykernel)",
   "language": "python",
   "name": "python3"
  },
  "language_info": {
   "codemirror_mode": {
    "name": "ipython",
    "version": 3
   },
   "file_extension": ".py",
   "mimetype": "text/x-python",
   "name": "python",
   "nbconvert_exporter": "python",
   "pygments_lexer": "ipython3",
   "version": "3.7.4"
  }
 },
 "nbformat": 4,
 "nbformat_minor": 5
}