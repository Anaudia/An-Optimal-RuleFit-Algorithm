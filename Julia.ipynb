{
 "cells": [
  {
   "cell_type": "code",
   "execution_count": null,
   "source": [
    "using Jump"
   ],
   "outputs": [],
   "metadata": {
    "pycharm": {
     "name": "#%%\n"
    }
   }
  },
  {
   "cell_type": "code",
   "execution_count": null,
   "source": [
    "using CSV, Tables, LinearAlgebra, Random, Gurobi, JuMP\n",
    "\n",
    "function load_data(fname = \"Users/ryanlucas/Desktop/data.txt\")\n",
    "    data = CSV.File(fname, header=false) |> Tables.matrix;\n",
    "\n",
    "    n,p = size(data)[1], size(data)[2]-1\n",
    "\n",
    "    X_train, y_train = data[1:50,1:p], data[1:50,p+1]\n",
    "    X_valid, y_valid = data[51:75, 1:p], data[51:75, p+1] \n",
    "    X_test, y_test = data[76:n, 1:p], data[76:n, p+1];\n",
    "    \n",
    "    return X_train, X_valid, X_test, y_train, y_valid, y_test\n",
    "end;\n",
    "\n",
    "X_train, X_valid, X_test, y_train, y_valid, y_test = load_data();"
   ],
   "outputs": [],
   "metadata": {}
  },
  {
   "cell_type": "code",
   "execution_count": null,
   "source": [],
   "outputs": [],
   "metadata": {}
  }
 ],
 "metadata": {
  "kernelspec": {
   "display_name": "Julia 1.7.2",
   "language": "julia",
   "name": "julia-1.7"
  },
  "language_info": {
   "codemirror_mode": {
    "name": "ipython",
    "version": 3
   },
   "file_extension": ".py",
   "mimetype": "text/x-python",
   "name": "julia",
   "nbconvert_exporter": "python",
   "pygments_lexer": "ipython3",
   "version": "3.8.8"
  }
 },
 "nbformat": 4,
 "nbformat_minor": 5
}