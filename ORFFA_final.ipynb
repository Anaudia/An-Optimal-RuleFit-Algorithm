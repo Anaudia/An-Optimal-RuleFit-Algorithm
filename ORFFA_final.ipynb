{
 "cells": [
  {
   "cell_type": "code",
   "execution_count": 1,
   "source": [
    "# !pip install interpretableai"
   ],
   "outputs": [],
   "metadata": {
    "pycharm": {
     "name": "#%%\n"
    }
   }
  },
  {
   "cell_type": "code",
   "execution_count": 2,
   "source": [
    "from pauls_functions import *"
   ],
   "outputs": [
    {
     "ename": "ImportError",
     "evalue": "JULIA: LoadError: IAI is not present in your Julia installation. Please follow the instructions at https://docs.interpretable.ai/stable/IAI-Python/installation",
     "output_type": "error",
     "traceback": [
      "\u001B[0;31m---------------------------------------------------------------------------\u001B[0m",
      "\u001B[0;31mImportError\u001B[0m                               Traceback (most recent call last)",
      "\u001B[0;32m/var/folders/bs/b4wxnr6x4rs1cd3wk97bhy6r0000gn/T/ipykernel_7998/1715713658.py\u001B[0m in \u001B[0;36m<module>\u001B[0;34m\u001B[0m\n\u001B[0;32m----> 1\u001B[0;31m \u001B[0;32mfrom\u001B[0m \u001B[0mpauls_functions\u001B[0m \u001B[0;32mimport\u001B[0m \u001B[0;34m*\u001B[0m\u001B[0;34m\u001B[0m\u001B[0;34m\u001B[0m\u001B[0m\n\u001B[0m",
      "\u001B[0;32m~/Desktop/pythonProject/pauls_functions.py\u001B[0m in \u001B[0;36m<module>\u001B[0;34m\u001B[0m\n\u001B[1;32m      9\u001B[0m \u001B[0;32mfrom\u001B[0m \u001B[0mjulia\u001B[0m\u001B[0;34m.\u001B[0m\u001B[0mapi\u001B[0m \u001B[0;32mimport\u001B[0m \u001B[0mJulia\u001B[0m\u001B[0;34m\u001B[0m\u001B[0;34m\u001B[0m\u001B[0m\n\u001B[1;32m     10\u001B[0m \u001B[0mjl\u001B[0m \u001B[0;34m=\u001B[0m \u001B[0mJulia\u001B[0m\u001B[0;34m(\u001B[0m\u001B[0mcompiled_modules\u001B[0m\u001B[0;34m=\u001B[0m\u001B[0;32mFalse\u001B[0m\u001B[0;34m)\u001B[0m\u001B[0;34m\u001B[0m\u001B[0;34m\u001B[0m\u001B[0m\n\u001B[0;32m---> 11\u001B[0;31m \u001B[0;32mfrom\u001B[0m \u001B[0minterpretableai\u001B[0m \u001B[0;32mimport\u001B[0m \u001B[0miai\u001B[0m\u001B[0;34m\u001B[0m\u001B[0;34m\u001B[0m\u001B[0m\n\u001B[0m\u001B[1;32m     12\u001B[0m \u001B[0;32mimport\u001B[0m \u001B[0mnumpy\u001B[0m \u001B[0;32mas\u001B[0m \u001B[0mnp\u001B[0m\u001B[0;34m\u001B[0m\u001B[0;34m\u001B[0m\u001B[0m\n\u001B[1;32m     13\u001B[0m \u001B[0;32mimport\u001B[0m \u001B[0mmatplotlib\u001B[0m\u001B[0;34m.\u001B[0m\u001B[0mpyplot\u001B[0m \u001B[0;32mas\u001B[0m \u001B[0mplt\u001B[0m\u001B[0;34m\u001B[0m\u001B[0;34m\u001B[0m\u001B[0m\n",
      "\u001B[0;32m~/Desktop/pythonProject/venv/lib/python3.7/site-packages/interpretableai/iai.py\u001B[0m in \u001B[0;36m<module>\u001B[0;34m\u001B[0m\n\u001B[1;32m     57\u001B[0m \u001B[0;34m\u001B[0m\u001B[0m\n\u001B[1;32m     58\u001B[0m     \u001B[0;32mfrom\u001B[0m \u001B[0mfuture\u001B[0m\u001B[0;34m.\u001B[0m\u001B[0mutils\u001B[0m \u001B[0;32mimport\u001B[0m \u001B[0mraise_from\u001B[0m\u001B[0;34m\u001B[0m\u001B[0;34m\u001B[0m\u001B[0m\n\u001B[0;32m---> 59\u001B[0;31m     \u001B[0mraise_from\u001B[0m\u001B[0;34m(\u001B[0m\u001B[0mImportError\u001B[0m\u001B[0;34m(\u001B[0m\u001B[0mmsg\u001B[0m\u001B[0;34m)\u001B[0m\u001B[0;34m,\u001B[0m \u001B[0;32mNone\u001B[0m\u001B[0;34m)\u001B[0m\u001B[0;34m\u001B[0m\u001B[0;34m\u001B[0m\u001B[0m\n\u001B[0m\u001B[1;32m     60\u001B[0m \u001B[0;31m# Restore update check\u001B[0m\u001B[0;34m\u001B[0m\u001B[0;34m\u001B[0m\u001B[0;34m\u001B[0m\u001B[0m\n\u001B[1;32m     61\u001B[0m \u001B[0;32mif\u001B[0m \u001B[0m_isnotebook\u001B[0m\u001B[0;34m(\u001B[0m\u001B[0;34m)\u001B[0m\u001B[0;34m:\u001B[0m  \u001B[0;31m# pragma: no cover\u001B[0m\u001B[0;34m\u001B[0m\u001B[0;34m\u001B[0m\u001B[0m\n",
      "\u001B[0;32m~/Desktop/pythonProject/venv/lib/python3.7/site-packages/future/utils/__init__.py\u001B[0m in \u001B[0;36mraise_from\u001B[0;34m(exc, cause)\u001B[0m\n\u001B[1;32m    401\u001B[0m         \u001B[0mmyglobals\u001B[0m\u001B[0;34m[\u001B[0m\u001B[0;34m'__python_future_raise_from_cause'\u001B[0m\u001B[0;34m]\u001B[0m \u001B[0;34m=\u001B[0m \u001B[0mcause\u001B[0m\u001B[0;34m\u001B[0m\u001B[0;34m\u001B[0m\u001B[0m\n\u001B[1;32m    402\u001B[0m         \u001B[0mexecstr\u001B[0m \u001B[0;34m=\u001B[0m \u001B[0;34m\"raise __python_future_raise_from_exc from __python_future_raise_from_cause\"\u001B[0m\u001B[0;34m\u001B[0m\u001B[0;34m\u001B[0m\u001B[0m\n\u001B[0;32m--> 403\u001B[0;31m         \u001B[0mexec\u001B[0m\u001B[0;34m(\u001B[0m\u001B[0mexecstr\u001B[0m\u001B[0;34m,\u001B[0m \u001B[0mmyglobals\u001B[0m\u001B[0;34m,\u001B[0m \u001B[0mmylocals\u001B[0m\u001B[0;34m)\u001B[0m\u001B[0;34m\u001B[0m\u001B[0;34m\u001B[0m\u001B[0m\n\u001B[0m\u001B[1;32m    404\u001B[0m \u001B[0;34m\u001B[0m\u001B[0m\n\u001B[1;32m    405\u001B[0m     \u001B[0;32mdef\u001B[0m \u001B[0mraise_\u001B[0m\u001B[0;34m(\u001B[0m\u001B[0mtp\u001B[0m\u001B[0;34m,\u001B[0m \u001B[0mvalue\u001B[0m\u001B[0;34m=\u001B[0m\u001B[0;32mNone\u001B[0m\u001B[0;34m,\u001B[0m \u001B[0mtb\u001B[0m\u001B[0;34m=\u001B[0m\u001B[0;32mNone\u001B[0m\u001B[0;34m)\u001B[0m\u001B[0;34m:\u001B[0m\u001B[0;34m\u001B[0m\u001B[0;34m\u001B[0m\u001B[0m\n",
      "\u001B[0;32m~/Desktop/pythonProject/venv/lib/python3.7/site-packages/interpretableai/iai.py\u001B[0m in \u001B[0;36m<module>\u001B[0;34m\u001B[0m\n",
      "\u001B[0;31mImportError\u001B[0m: JULIA: LoadError: IAI is not present in your Julia installation. Please follow the instructions at https://docs.interpretable.ai/stable/IAI-Python/installation"
     ]
    }
   ],
   "metadata": {
    "pycharm": {
     "name": "#%%\n"
    }
   }
  },
  {
   "cell_type": "code",
   "execution_count": null,
   "source": [
    "from sklearn.datasets import load_breast_cancer\n",
    "data = load_breast_cancer()\n",
    "data_df = pd.DataFrame(data.data, columns=data.feature_names)\n",
    "data_df['diagnosis'] = data.target\n",
    "features = data_df.iloc[:, 0:30].values\n",
    "diagnosis = data_df.iloc[:, 30].values\n",
    "random = 20 #random number to fix seed\n",
    "from sklearn.model_selection import train_test_split\n",
    "X_train, X_test, y_train, y_test = train_test_split(features, diagnosis, test_size = 0.2, random_state = random, stratify=diagnosis)\n",
    "\n",
    "\n",
    "# OCT = iai.GridSearch(iai.OptimalTreeClassifier(max_depth = 2))\n",
    "# OCT.fit(X_train, y_train)\n",
    "# print(\"OCT OSR:\",OCT.score(X_test,y_test))\n",
    "# model = iai.OptimalTreeClassifier(**OCT.get_best_params(),max_depth = 3)\n",
    "# model.fit(X_train, y_train)"
   ],
   "outputs": [],
   "metadata": {
    "pycharm": {
     "name": "#%%\n"
    }
   }
  },
  {
   "cell_type": "code",
   "execution_count": null,
   "source": [
    "X_train = pd.DataFrame(X_train)"
   ],
   "outputs": [],
   "metadata": {
    "pycharm": {
     "name": "#%%\n"
    }
   }
  },
  {
   "cell_type": "code",
   "execution_count": null,
   "source": [
    "dt_rules_cla_cart , dt_rules_reg_cart, dt_rules_reg_ort, dt_rules_cla_oct = generate_tree(X_train, y_train, X_test, y_test, 2 , 1)"
   ],
   "outputs": [],
   "metadata": {
    "pycharm": {
     "name": "#%%\n"
    }
   }
  }
 ],
 "metadata": {
  "kernelspec": {
   "name": "python3",
   "display_name": "Python 3.8.8 64-bit (conda)"
  },
  "language_info": {
   "codemirror_mode": {
    "name": "ipython",
    "version": 3
   },
   "file_extension": ".py",
   "mimetype": "text/x-python",
   "name": "python",
   "nbconvert_exporter": "python",
   "pygments_lexer": "ipython3",
   "version": "3.8.8"
  },
  "interpreter": {
   "hash": "4e7a58de4b7e505b0e82f0adcc21bb9621f61c2c1c0bdf66b0394a18a0c298a7"
  }
 },
 "nbformat": 4,
 "nbformat_minor": 5
}