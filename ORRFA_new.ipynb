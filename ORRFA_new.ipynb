{
 "cells": [
  {
   "cell_type": "code",
   "execution_count": 1,
   "id": "2042e7c0",
   "metadata": {
    "pycharm": {
     "name": "#%%\n"
    }
   },
   "outputs": [
    {
     "name": "stderr",
     "output_type": "stream",
     "text": [
      "WARNING:root:This copy of Interpretable AI software is for academic purposes only and not for commercial use.\n"
     ]
    }
   ],
   "source": [
    "import numpy as np\n",
    "import matplotlib.pyplot as plt\n",
    "from ORRFA import *\n",
    "import interpretableai\n",
    "from interpretableai import iai\n",
    "import pandas as pd\n",
    "import json\n",
    "from HR import *"
   ]
  },
  {
   "cell_type": "code",
   "execution_count": 2,
   "outputs": [],
   "source": [
    "dataset = pd.read_csv(\"/Users/ryanlucas/Desktop/kc_house_data.csv\")"
   ],
   "metadata": {
    "collapsed": false,
    "pycharm": {
     "name": "#%%\n"
    }
   }
  },
  {
   "cell_type": "code",
   "execution_count": 3,
   "outputs": [
    {
     "data": {
      "text/plain": "               id             date     price  bedrooms  bathrooms  \\\n0      7129300520  20141013T000000  221900.0         3       1.00   \n1      6414100192  20141209T000000  538000.0         3       2.25   \n2      5631500400  20150225T000000  180000.0         2       1.00   \n3      2487200875  20141209T000000  604000.0         4       3.00   \n4      1954400510  20150218T000000  510000.0         3       2.00   \n...           ...              ...       ...       ...        ...   \n21608   263000018  20140521T000000  360000.0         3       2.50   \n21609  6600060120  20150223T000000  400000.0         4       2.50   \n21610  1523300141  20140623T000000  402101.0         2       0.75   \n21611   291310100  20150116T000000  400000.0         3       2.50   \n21612  1523300157  20141015T000000  325000.0         2       0.75   \n\n       sqft_living  sqft_lot  floors  waterfront  view  ...  grade  \\\n0             1180      5650     1.0           0     0  ...      7   \n1             2570      7242     2.0           0     0  ...      7   \n2              770     10000     1.0           0     0  ...      6   \n3             1960      5000     1.0           0     0  ...      7   \n4             1680      8080     1.0           0     0  ...      8   \n...            ...       ...     ...         ...   ...  ...    ...   \n21608         1530      1131     3.0           0     0  ...      8   \n21609         2310      5813     2.0           0     0  ...      8   \n21610         1020      1350     2.0           0     0  ...      7   \n21611         1600      2388     2.0           0     0  ...      8   \n21612         1020      1076     2.0           0     0  ...      7   \n\n       sqft_above  sqft_basement  yr_built  yr_renovated  zipcode      lat  \\\n0            1180              0      1955             0    98178  47.5112   \n1            2170            400      1951          1991    98125  47.7210   \n2             770              0      1933             0    98028  47.7379   \n3            1050            910      1965             0    98136  47.5208   \n4            1680              0      1987             0    98074  47.6168   \n...           ...            ...       ...           ...      ...      ...   \n21608        1530              0      2009             0    98103  47.6993   \n21609        2310              0      2014             0    98146  47.5107   \n21610        1020              0      2009             0    98144  47.5944   \n21611        1600              0      2004             0    98027  47.5345   \n21612        1020              0      2008             0    98144  47.5941   \n\n          long  sqft_living15  sqft_lot15  \n0     -122.257           1340        5650  \n1     -122.319           1690        7639  \n2     -122.233           2720        8062  \n3     -122.393           1360        5000  \n4     -122.045           1800        7503  \n...        ...            ...         ...  \n21608 -122.346           1530        1509  \n21609 -122.362           1830        7200  \n21610 -122.299           1020        2007  \n21611 -122.069           1410        1287  \n21612 -122.299           1020        1357  \n\n[21613 rows x 21 columns]",
      "text/html": "<div>\n<style scoped>\n    .dataframe tbody tr th:only-of-type {\n        vertical-align: middle;\n    }\n\n    .dataframe tbody tr th {\n        vertical-align: top;\n    }\n\n    .dataframe thead th {\n        text-align: right;\n    }\n</style>\n<table border=\"1\" class=\"dataframe\">\n  <thead>\n    <tr style=\"text-align: right;\">\n      <th></th>\n      <th>id</th>\n      <th>date</th>\n      <th>price</th>\n      <th>bedrooms</th>\n      <th>bathrooms</th>\n      <th>sqft_living</th>\n      <th>sqft_lot</th>\n      <th>floors</th>\n      <th>waterfront</th>\n      <th>view</th>\n      <th>...</th>\n      <th>grade</th>\n      <th>sqft_above</th>\n      <th>sqft_basement</th>\n      <th>yr_built</th>\n      <th>yr_renovated</th>\n      <th>zipcode</th>\n      <th>lat</th>\n      <th>long</th>\n      <th>sqft_living15</th>\n      <th>sqft_lot15</th>\n    </tr>\n  </thead>\n  <tbody>\n    <tr>\n      <th>0</th>\n      <td>7129300520</td>\n      <td>20141013T000000</td>\n      <td>221900.0</td>\n      <td>3</td>\n      <td>1.00</td>\n      <td>1180</td>\n      <td>5650</td>\n      <td>1.0</td>\n      <td>0</td>\n      <td>0</td>\n      <td>...</td>\n      <td>7</td>\n      <td>1180</td>\n      <td>0</td>\n      <td>1955</td>\n      <td>0</td>\n      <td>98178</td>\n      <td>47.5112</td>\n      <td>-122.257</td>\n      <td>1340</td>\n      <td>5650</td>\n    </tr>\n    <tr>\n      <th>1</th>\n      <td>6414100192</td>\n      <td>20141209T000000</td>\n      <td>538000.0</td>\n      <td>3</td>\n      <td>2.25</td>\n      <td>2570</td>\n      <td>7242</td>\n      <td>2.0</td>\n      <td>0</td>\n      <td>0</td>\n      <td>...</td>\n      <td>7</td>\n      <td>2170</td>\n      <td>400</td>\n      <td>1951</td>\n      <td>1991</td>\n      <td>98125</td>\n      <td>47.7210</td>\n      <td>-122.319</td>\n      <td>1690</td>\n      <td>7639</td>\n    </tr>\n    <tr>\n      <th>2</th>\n      <td>5631500400</td>\n      <td>20150225T000000</td>\n      <td>180000.0</td>\n      <td>2</td>\n      <td>1.00</td>\n      <td>770</td>\n      <td>10000</td>\n      <td>1.0</td>\n      <td>0</td>\n      <td>0</td>\n      <td>...</td>\n      <td>6</td>\n      <td>770</td>\n      <td>0</td>\n      <td>1933</td>\n      <td>0</td>\n      <td>98028</td>\n      <td>47.7379</td>\n      <td>-122.233</td>\n      <td>2720</td>\n      <td>8062</td>\n    </tr>\n    <tr>\n      <th>3</th>\n      <td>2487200875</td>\n      <td>20141209T000000</td>\n      <td>604000.0</td>\n      <td>4</td>\n      <td>3.00</td>\n      <td>1960</td>\n      <td>5000</td>\n      <td>1.0</td>\n      <td>0</td>\n      <td>0</td>\n      <td>...</td>\n      <td>7</td>\n      <td>1050</td>\n      <td>910</td>\n      <td>1965</td>\n      <td>0</td>\n      <td>98136</td>\n      <td>47.5208</td>\n      <td>-122.393</td>\n      <td>1360</td>\n      <td>5000</td>\n    </tr>\n    <tr>\n      <th>4</th>\n      <td>1954400510</td>\n      <td>20150218T000000</td>\n      <td>510000.0</td>\n      <td>3</td>\n      <td>2.00</td>\n      <td>1680</td>\n      <td>8080</td>\n      <td>1.0</td>\n      <td>0</td>\n      <td>0</td>\n      <td>...</td>\n      <td>8</td>\n      <td>1680</td>\n      <td>0</td>\n      <td>1987</td>\n      <td>0</td>\n      <td>98074</td>\n      <td>47.6168</td>\n      <td>-122.045</td>\n      <td>1800</td>\n      <td>7503</td>\n    </tr>\n    <tr>\n      <th>...</th>\n      <td>...</td>\n      <td>...</td>\n      <td>...</td>\n      <td>...</td>\n      <td>...</td>\n      <td>...</td>\n      <td>...</td>\n      <td>...</td>\n      <td>...</td>\n      <td>...</td>\n      <td>...</td>\n      <td>...</td>\n      <td>...</td>\n      <td>...</td>\n      <td>...</td>\n      <td>...</td>\n      <td>...</td>\n      <td>...</td>\n      <td>...</td>\n      <td>...</td>\n      <td>...</td>\n    </tr>\n    <tr>\n      <th>21608</th>\n      <td>263000018</td>\n      <td>20140521T000000</td>\n      <td>360000.0</td>\n      <td>3</td>\n      <td>2.50</td>\n      <td>1530</td>\n      <td>1131</td>\n      <td>3.0</td>\n      <td>0</td>\n      <td>0</td>\n      <td>...</td>\n      <td>8</td>\n      <td>1530</td>\n      <td>0</td>\n      <td>2009</td>\n      <td>0</td>\n      <td>98103</td>\n      <td>47.6993</td>\n      <td>-122.346</td>\n      <td>1530</td>\n      <td>1509</td>\n    </tr>\n    <tr>\n      <th>21609</th>\n      <td>6600060120</td>\n      <td>20150223T000000</td>\n      <td>400000.0</td>\n      <td>4</td>\n      <td>2.50</td>\n      <td>2310</td>\n      <td>5813</td>\n      <td>2.0</td>\n      <td>0</td>\n      <td>0</td>\n      <td>...</td>\n      <td>8</td>\n      <td>2310</td>\n      <td>0</td>\n      <td>2014</td>\n      <td>0</td>\n      <td>98146</td>\n      <td>47.5107</td>\n      <td>-122.362</td>\n      <td>1830</td>\n      <td>7200</td>\n    </tr>\n    <tr>\n      <th>21610</th>\n      <td>1523300141</td>\n      <td>20140623T000000</td>\n      <td>402101.0</td>\n      <td>2</td>\n      <td>0.75</td>\n      <td>1020</td>\n      <td>1350</td>\n      <td>2.0</td>\n      <td>0</td>\n      <td>0</td>\n      <td>...</td>\n      <td>7</td>\n      <td>1020</td>\n      <td>0</td>\n      <td>2009</td>\n      <td>0</td>\n      <td>98144</td>\n      <td>47.5944</td>\n      <td>-122.299</td>\n      <td>1020</td>\n      <td>2007</td>\n    </tr>\n    <tr>\n      <th>21611</th>\n      <td>291310100</td>\n      <td>20150116T000000</td>\n      <td>400000.0</td>\n      <td>3</td>\n      <td>2.50</td>\n      <td>1600</td>\n      <td>2388</td>\n      <td>2.0</td>\n      <td>0</td>\n      <td>0</td>\n      <td>...</td>\n      <td>8</td>\n      <td>1600</td>\n      <td>0</td>\n      <td>2004</td>\n      <td>0</td>\n      <td>98027</td>\n      <td>47.5345</td>\n      <td>-122.069</td>\n      <td>1410</td>\n      <td>1287</td>\n    </tr>\n    <tr>\n      <th>21612</th>\n      <td>1523300157</td>\n      <td>20141015T000000</td>\n      <td>325000.0</td>\n      <td>2</td>\n      <td>0.75</td>\n      <td>1020</td>\n      <td>1076</td>\n      <td>2.0</td>\n      <td>0</td>\n      <td>0</td>\n      <td>...</td>\n      <td>7</td>\n      <td>1020</td>\n      <td>0</td>\n      <td>2008</td>\n      <td>0</td>\n      <td>98144</td>\n      <td>47.5941</td>\n      <td>-122.299</td>\n      <td>1020</td>\n      <td>1357</td>\n    </tr>\n  </tbody>\n</table>\n<p>21613 rows × 21 columns</p>\n</div>"
     },
     "execution_count": 3,
     "metadata": {},
     "output_type": "execute_result"
    }
   ],
   "source": [
    "dataset"
   ],
   "metadata": {
    "collapsed": false,
    "pycharm": {
     "name": "#%%\n"
    }
   }
  },
  {
   "cell_type": "code",
   "execution_count": 4,
   "outputs": [],
   "source": [
    "train_idx = np.arange(0, int(0.7*len(dataset)))\n",
    "test_idx = np.arange(int(0.7*len(dataset)), int(1*len(dataset)))\n",
    "\n",
    "features = dataset.loc[train_idx, [\"floors\", \"bedrooms\",\n",
    "    \"bathrooms\",\n",
    "    \"sqft_above\",\n",
    "    \"sqft_basement\",\n",
    "    \"yr_built\",\n",
    "    \"yr_renovated\",\n",
    "    \"sqft_living\",\n",
    "    \"sqft_lot\",\n",
    "    \"lat\",\n",
    "    \"long\",\n",
    "    \"sqft_living15\",\n",
    "    \"sqft_lot15\"]]\n",
    "\n",
    "diagnosis = dataset.loc[train_idx, \"price\"]\n",
    "orig_columns = features.copy().columns\n",
    "orig_features_size = features.copy().shape[1]"
   ],
   "metadata": {
    "collapsed": false,
    "pycharm": {
     "name": "#%%\n"
    }
   }
  },
  {
   "cell_type": "code",
   "execution_count": 5,
   "outputs": [],
   "source": [
    "from sklearn.preprocessing import StandardScaler\n",
    "sc = StandardScaler()\n",
    "features = pd.DataFrame(sc.fit_transform(features))\n",
    "features.columns = orig_columns"
   ],
   "metadata": {
    "collapsed": false,
    "pycharm": {
     "name": "#%%\n"
    }
   }
  },
  {
   "cell_type": "code",
   "execution_count": 6,
   "outputs": [],
   "source": [
    "features_test = dataset.loc[test_idx, [\"floors\", \"bedrooms\",\n",
    "    \"bathrooms\",\n",
    "    \"sqft_above\",\n",
    "    \"sqft_basement\",\n",
    "    \"yr_built\",\n",
    "    \"yr_renovated\",\n",
    "    \"sqft_living\",\n",
    "    \"sqft_lot\",\n",
    "    \"lat\",\n",
    "    \"long\",\n",
    "    \"sqft_living15\",\n",
    "    \"sqft_lot15\"]]\n",
    "diagnosis_test = dataset.loc[test_idx, 'price']"
   ],
   "metadata": {
    "collapsed": false,
    "pycharm": {
     "name": "#%%\n"
    }
   }
  },
  {
   "cell_type": "code",
   "execution_count": 7,
   "outputs": [],
   "source": [
    "features_test = pd.DataFrame(sc.fit_transform(features_test))\n",
    "features_test.columns = orig_columns"
   ],
   "metadata": {
    "collapsed": false,
    "pycharm": {
     "name": "#%%\n"
    }
   }
  },
  {
   "cell_type": "code",
   "execution_count": 8,
   "outputs": [
    {
     "data": {
      "text/plain": "0        221900.0\n1        538000.0\n2        180000.0\n3        604000.0\n4        510000.0\n           ...   \n15124    555700.0\n15125    690000.0\n15126    449000.0\n15127    308500.0\n15128    340000.0\nName: price, Length: 15129, dtype: float64"
     },
     "execution_count": 8,
     "metadata": {},
     "output_type": "execute_result"
    }
   ],
   "source": [
    "diagnosis"
   ],
   "metadata": {
    "collapsed": false,
    "pycharm": {
     "name": "#%%\n"
    }
   }
  },
  {
   "cell_type": "code",
   "execution_count": 9,
   "outputs": [
    {
     "name": "stdout",
     "output_type": "stream",
     "text": [
      "21613\n",
      "15129\n",
      "6484\n"
     ]
    }
   ],
   "source": [
    "print(len(dataset))\n",
    "print(len(features))\n",
    "print(len(features_test))"
   ],
   "metadata": {
    "collapsed": false,
    "pycharm": {
     "name": "#%%\n"
    }
   }
  },
  {
   "cell_type": "code",
   "execution_count": 10,
   "outputs": [
    {
     "data": {
      "text/plain": "         floors  bedrooms  bathrooms  sqft_above  sqft_basement  yr_built  \\\n0     -0.847801 -0.396310  -1.396445   -0.703175      -0.674634 -0.436232   \n1      1.113119 -0.396310   0.251615    0.524394       0.213892 -0.579063   \n2     -0.847801 -1.496047  -1.396445   -1.211562      -0.674634 -1.221803   \n3     -0.847801  0.703428   1.240451   -0.864371       1.346762 -0.079155   \n4     -0.847801 -0.396310  -0.077997   -0.083190      -0.674634  0.706416   \n...         ...       ...        ...         ...            ...       ...   \n15124 -0.847801 -0.396310  -0.077997    0.078006      -0.674634 -0.364817   \n15125  1.113119  0.703428   0.581227    1.826362      -0.674634  0.849247   \n15126 -0.847801 -0.396310  -0.407609   -0.107990      -0.674634 -0.543356   \n15127 -0.847801 -1.496047  -1.396445   -1.112364      -0.674634 -0.614771   \n15128  1.113119  0.703428   0.581227    1.138179      -0.674634  1.384864   \n\n       yr_renovated  sqft_living  sqft_lot       lat      long  sqft_living15  \\\n0         -0.217431    -0.961356 -0.239098 -0.348602 -0.301875      -0.940320   \n1          4.587486     0.573193 -0.201860  1.152626 -0.747374      -0.420453   \n2         -0.217431    -1.413993 -0.137349  1.273554 -0.129424       1.109440   \n3         -0.217431    -0.100242 -0.254302 -0.279909 -1.279099      -0.910614   \n4         -0.217431    -0.409360 -0.182259  0.407021  1.221446      -0.257067   \n...             ...          ...       ...       ...       ...            ...   \n15124     -0.217431    -0.265841 -0.080744  0.206666  0.632237       0.381627   \n15125     -0.217431     1.290787  0.456770  1.393767  0.725648       1.599600   \n15126     -0.217431    -0.431440 -0.144436  1.405931 -0.510254       0.129120   \n15127     -0.217431    -1.325673 -0.226841  1.254234 -0.812044      -1.296800   \n15128     -0.217431     0.678072 -0.233999 -1.265224  0.215479       1.027747   \n\n       sqft_lot15  \n0       -0.278087  \n1       -0.206627  \n2       -0.191429  \n3       -0.301440  \n4       -0.211513  \n...           ...  \n15124   -0.038090  \n15125    0.785444  \n15126    0.259894  \n15127   -0.259261  \n15128   -0.262207  \n\n[15129 rows x 13 columns]",
      "text/html": "<div>\n<style scoped>\n    .dataframe tbody tr th:only-of-type {\n        vertical-align: middle;\n    }\n\n    .dataframe tbody tr th {\n        vertical-align: top;\n    }\n\n    .dataframe thead th {\n        text-align: right;\n    }\n</style>\n<table border=\"1\" class=\"dataframe\">\n  <thead>\n    <tr style=\"text-align: right;\">\n      <th></th>\n      <th>floors</th>\n      <th>bedrooms</th>\n      <th>bathrooms</th>\n      <th>sqft_above</th>\n      <th>sqft_basement</th>\n      <th>yr_built</th>\n      <th>yr_renovated</th>\n      <th>sqft_living</th>\n      <th>sqft_lot</th>\n      <th>lat</th>\n      <th>long</th>\n      <th>sqft_living15</th>\n      <th>sqft_lot15</th>\n    </tr>\n  </thead>\n  <tbody>\n    <tr>\n      <th>0</th>\n      <td>-0.847801</td>\n      <td>-0.396310</td>\n      <td>-1.396445</td>\n      <td>-0.703175</td>\n      <td>-0.674634</td>\n      <td>-0.436232</td>\n      <td>-0.217431</td>\n      <td>-0.961356</td>\n      <td>-0.239098</td>\n      <td>-0.348602</td>\n      <td>-0.301875</td>\n      <td>-0.940320</td>\n      <td>-0.278087</td>\n    </tr>\n    <tr>\n      <th>1</th>\n      <td>1.113119</td>\n      <td>-0.396310</td>\n      <td>0.251615</td>\n      <td>0.524394</td>\n      <td>0.213892</td>\n      <td>-0.579063</td>\n      <td>4.587486</td>\n      <td>0.573193</td>\n      <td>-0.201860</td>\n      <td>1.152626</td>\n      <td>-0.747374</td>\n      <td>-0.420453</td>\n      <td>-0.206627</td>\n    </tr>\n    <tr>\n      <th>2</th>\n      <td>-0.847801</td>\n      <td>-1.496047</td>\n      <td>-1.396445</td>\n      <td>-1.211562</td>\n      <td>-0.674634</td>\n      <td>-1.221803</td>\n      <td>-0.217431</td>\n      <td>-1.413993</td>\n      <td>-0.137349</td>\n      <td>1.273554</td>\n      <td>-0.129424</td>\n      <td>1.109440</td>\n      <td>-0.191429</td>\n    </tr>\n    <tr>\n      <th>3</th>\n      <td>-0.847801</td>\n      <td>0.703428</td>\n      <td>1.240451</td>\n      <td>-0.864371</td>\n      <td>1.346762</td>\n      <td>-0.079155</td>\n      <td>-0.217431</td>\n      <td>-0.100242</td>\n      <td>-0.254302</td>\n      <td>-0.279909</td>\n      <td>-1.279099</td>\n      <td>-0.910614</td>\n      <td>-0.301440</td>\n    </tr>\n    <tr>\n      <th>4</th>\n      <td>-0.847801</td>\n      <td>-0.396310</td>\n      <td>-0.077997</td>\n      <td>-0.083190</td>\n      <td>-0.674634</td>\n      <td>0.706416</td>\n      <td>-0.217431</td>\n      <td>-0.409360</td>\n      <td>-0.182259</td>\n      <td>0.407021</td>\n      <td>1.221446</td>\n      <td>-0.257067</td>\n      <td>-0.211513</td>\n    </tr>\n    <tr>\n      <th>...</th>\n      <td>...</td>\n      <td>...</td>\n      <td>...</td>\n      <td>...</td>\n      <td>...</td>\n      <td>...</td>\n      <td>...</td>\n      <td>...</td>\n      <td>...</td>\n      <td>...</td>\n      <td>...</td>\n      <td>...</td>\n      <td>...</td>\n    </tr>\n    <tr>\n      <th>15124</th>\n      <td>-0.847801</td>\n      <td>-0.396310</td>\n      <td>-0.077997</td>\n      <td>0.078006</td>\n      <td>-0.674634</td>\n      <td>-0.364817</td>\n      <td>-0.217431</td>\n      <td>-0.265841</td>\n      <td>-0.080744</td>\n      <td>0.206666</td>\n      <td>0.632237</td>\n      <td>0.381627</td>\n      <td>-0.038090</td>\n    </tr>\n    <tr>\n      <th>15125</th>\n      <td>1.113119</td>\n      <td>0.703428</td>\n      <td>0.581227</td>\n      <td>1.826362</td>\n      <td>-0.674634</td>\n      <td>0.849247</td>\n      <td>-0.217431</td>\n      <td>1.290787</td>\n      <td>0.456770</td>\n      <td>1.393767</td>\n      <td>0.725648</td>\n      <td>1.599600</td>\n      <td>0.785444</td>\n    </tr>\n    <tr>\n      <th>15126</th>\n      <td>-0.847801</td>\n      <td>-0.396310</td>\n      <td>-0.407609</td>\n      <td>-0.107990</td>\n      <td>-0.674634</td>\n      <td>-0.543356</td>\n      <td>-0.217431</td>\n      <td>-0.431440</td>\n      <td>-0.144436</td>\n      <td>1.405931</td>\n      <td>-0.510254</td>\n      <td>0.129120</td>\n      <td>0.259894</td>\n    </tr>\n    <tr>\n      <th>15127</th>\n      <td>-0.847801</td>\n      <td>-1.496047</td>\n      <td>-1.396445</td>\n      <td>-1.112364</td>\n      <td>-0.674634</td>\n      <td>-0.614771</td>\n      <td>-0.217431</td>\n      <td>-1.325673</td>\n      <td>-0.226841</td>\n      <td>1.254234</td>\n      <td>-0.812044</td>\n      <td>-1.296800</td>\n      <td>-0.259261</td>\n    </tr>\n    <tr>\n      <th>15128</th>\n      <td>1.113119</td>\n      <td>0.703428</td>\n      <td>0.581227</td>\n      <td>1.138179</td>\n      <td>-0.674634</td>\n      <td>1.384864</td>\n      <td>-0.217431</td>\n      <td>0.678072</td>\n      <td>-0.233999</td>\n      <td>-1.265224</td>\n      <td>0.215479</td>\n      <td>1.027747</td>\n      <td>-0.262207</td>\n    </tr>\n  </tbody>\n</table>\n<p>15129 rows × 13 columns</p>\n</div>"
     },
     "execution_count": 10,
     "metadata": {},
     "output_type": "execute_result"
    }
   ],
   "source": [
    "features"
   ],
   "metadata": {
    "collapsed": false,
    "pycharm": {
     "name": "#%%\n"
    }
   }
  },
  {
   "cell_type": "code",
   "execution_count": null,
   "outputs": [],
   "source": [
    "np.random.seed(1)\n",
    "n = 5\n",
    "rules = {}\n",
    "for i in range(1,20):\n",
    "\n",
    "    #################\n",
    "    sampled_features = features.copy().sample(n=int(n),axis='columns')\n",
    "\n",
    "    OCT_H = iai.GridSearch(\n",
    "          iai.OptimalTreeRegressor(\n",
    "              max_depth = 3, cp = 0.00000000001))\n",
    "\n",
    "    OCT_H.fit(sampled_features, diagnosis)\n",
    "    OCT_H.write_json(f\"tre_{i}.json\")\n",
    "\n",
    "    ######################\n",
    "    f = open(f\"tre_{i}.json\")\n",
    "    data = json.load(f)\n",
    "\n",
    "    paths = gen_paths(data)\n",
    "\n",
    "    sub_paths = gen_subpaths(paths)\n",
    "\n",
    "    names = sampled_features.columns\n",
    "\n",
    "    rule_features_new = gen_features(\n",
    "            paths, data, sampled_features, names)\n",
    "\n",
    "    rules[f\"tre_{i}\"] = rule_features_new\n",
    "\n",
    "    print(f\"Tree: {i}\")\n"
   ],
   "metadata": {
    "collapsed": false,
    "pycharm": {
     "name": "#%%\n",
     "is_executing": true
    }
   }
  },
  {
   "cell_type": "code",
   "execution_count": null,
   "outputs": [],
   "source": [
    "features.columns"
   ],
   "metadata": {
    "collapsed": false,
    "pycharm": {
     "name": "#%%\n",
     "is_executing": true
    }
   }
  },
  {
   "cell_type": "code",
   "execution_count": null,
   "outputs": [],
   "source": [
    "big_df = pd.DataFrame()\n",
    "for tree in rules.keys():\n",
    "\n",
    "    big_df = pd.concat([big_df, rules[tree]],axis =1)\n"
   ],
   "metadata": {
    "collapsed": false,
    "pycharm": {
     "name": "#%%\n",
     "is_executing": true
    }
   }
  },
  {
   "cell_type": "code",
   "execution_count": null,
   "outputs": [],
   "source": [
    "df = big_df.loc[:,~big_df.columns.duplicated()].copy()"
   ],
   "metadata": {
    "collapsed": false,
    "pycharm": {
     "name": "#%%\n",
     "is_executing": true
    }
   }
  },
  {
   "cell_type": "code",
   "execution_count": null,
   "outputs": [],
   "source": [
    "for column in df.columns[1:]:\n",
    "    if df[column].sum() == len(df):\n",
    "        del df[column]\n"
   ],
   "metadata": {
    "collapsed": false,
    "pycharm": {
     "name": "#%%\n",
     "is_executing": true
    }
   }
  },
  {
   "cell_type": "code",
   "execution_count": null,
   "outputs": [],
   "source": [
    "df"
   ],
   "metadata": {
    "collapsed": false,
    "pycharm": {
     "name": "#%%\n",
     "is_executing": true
    }
   }
  },
  {
   "cell_type": "code",
   "execution_count": null,
   "outputs": [],
   "source": [
    "features_for_robust_reg = df"
   ],
   "metadata": {
    "collapsed": false,
    "pycharm": {
     "name": "#%%\n",
     "is_executing": true
    }
   }
  },
  {
   "cell_type": "code",
   "execution_count": null,
   "outputs": [],
   "source": [
    "rule_features = features_for_robust_reg.copy()\n",
    "features_for_robust_reg = pd.concat([features, features_for_robust_reg], axis = 1)"
   ],
   "metadata": {
    "collapsed": false,
    "pycharm": {
     "name": "#%%\n",
     "is_executing": true
    }
   }
  },
  {
   "cell_type": "code",
   "execution_count": null,
   "outputs": [],
   "source": [
    "features_for_robust_reg.sum()"
   ],
   "metadata": {
    "collapsed": false,
    "pycharm": {
     "name": "#%%\n",
     "is_executing": true
    }
   }
  },
  {
   "cell_type": "code",
   "execution_count": null,
   "outputs": [],
   "source": [
    "features_for_robust_reg.insert(loc = 0, column = 'Intercept', value = [1 for i in range(len(features_for_robust_reg))])"
   ],
   "metadata": {
    "collapsed": false,
    "pycharm": {
     "name": "#%%\n",
     "is_executing": true
    }
   }
  },
  {
   "cell_type": "code",
   "execution_count": null,
   "outputs": [],
   "source": [
    "features_for_robust_reg"
   ],
   "metadata": {
    "collapsed": false,
    "pycharm": {
     "name": "#%%\n",
     "is_executing": true
    }
   }
  },
  {
   "cell_type": "code",
   "execution_count": null,
   "outputs": [],
   "source": [
    "features_for_robust_reg"
   ],
   "metadata": {
    "collapsed": false,
    "pycharm": {
     "name": "#%%\n",
     "is_executing": true
    }
   }
  },
  {
   "cell_type": "code",
   "execution_count": null,
   "outputs": [],
   "source": [
    "from sklearn.linear_model import LinearRegression"
   ],
   "metadata": {
    "collapsed": false,
    "pycharm": {
     "name": "#%%\n",
     "is_executing": true
    }
   }
  },
  {
   "cell_type": "code",
   "execution_count": null,
   "outputs": [],
   "source": [
    "features.insert(loc = 0, column = 'Intercept', value = [1 for i in range(len(features))])"
   ],
   "metadata": {
    "collapsed": false,
    "pycharm": {
     "name": "#%%\n",
     "is_executing": true
    }
   }
  },
  {
   "cell_type": "code",
   "execution_count": null,
   "outputs": [],
   "source": [
    "reg_baseline = LinearRegression().fit(features.copy()\n",
    ", diagnosis)"
   ],
   "metadata": {
    "collapsed": false,
    "pycharm": {
     "name": "#%%\n",
     "is_executing": true
    }
   }
  },
  {
   "cell_type": "code",
   "execution_count": null,
   "outputs": [],
   "source": [
    "θ_baseline = reg_baseline.coef_"
   ],
   "metadata": {
    "collapsed": false,
    "pycharm": {
     "name": "#%%\n",
     "is_executing": true
    }
   }
  },
  {
   "cell_type": "code",
   "execution_count": null,
   "outputs": [],
   "source": [
    "predictions_baseline = reg_baseline.predict(features.copy())"
   ],
   "metadata": {
    "collapsed": false,
    "pycharm": {
     "name": "#%%\n",
     "is_executing": true
    }
   }
  },
  {
   "cell_type": "code",
   "execution_count": null,
   "outputs": [],
   "source": [
    "(diagnosis - predictions_baseline).describe()"
   ],
   "metadata": {
    "collapsed": false,
    "pycharm": {
     "name": "#%%\n",
     "is_executing": true
    }
   }
  },
  {
   "cell_type": "code",
   "execution_count": null,
   "outputs": [],
   "source": [
    "SSE_model = sum((diagnosis - predictions_baseline)**2)\n",
    "SSE_mean = sum((diagnosis - diagnosis.mean())**2)\n",
    "\n",
    "1 - SSE_model/SSE_mean"
   ],
   "metadata": {
    "collapsed": false,
    "pycharm": {
     "name": "#%%\n",
     "is_executing": true
    }
   }
  },
  {
   "cell_type": "code",
   "execution_count": null,
   "outputs": [],
   "source": [
    "features_test.insert(loc = 0, column = 'Intercept', value = [1 for i in range(len(features_test))])"
   ],
   "metadata": {
    "collapsed": false,
    "pycharm": {
     "name": "#%%\n",
     "is_executing": true
    }
   }
  },
  {
   "cell_type": "code",
   "execution_count": null,
   "outputs": [],
   "source": [
    "predictions_test_baseline = reg_baseline.predict(features_test)"
   ],
   "metadata": {
    "collapsed": false,
    "pycharm": {
     "name": "#%%\n",
     "is_executing": true
    }
   }
  },
  {
   "cell_type": "code",
   "execution_count": null,
   "outputs": [],
   "source": [
    "SSE_model = sum((diagnosis_test - predictions_test_baseline)**2)\n",
    "SSE_mean = sum((diagnosis_test - diagnosis.mean())**2)\n",
    "\n",
    "1 - SSE_model/SSE_mean"
   ],
   "metadata": {
    "collapsed": false,
    "pycharm": {
     "name": "#%%\n",
     "is_executing": true
    }
   }
  },
  {
   "cell_type": "code",
   "execution_count": null,
   "outputs": [],
   "source": [
    "reg_trees = LinearRegression().fit(features.copy()\n",
    ", diagnosis)"
   ],
   "metadata": {
    "collapsed": false,
    "pycharm": {
     "name": "#%%\n",
     "is_executing": true
    }
   }
  },
  {
   "cell_type": "code",
   "execution_count": null,
   "outputs": [],
   "source": [
    "from sklearn import linear_model"
   ],
   "metadata": {
    "collapsed": false,
    "pycharm": {
     "name": "#%%\n",
     "is_executing": true
    }
   }
  },
  {
   "cell_type": "code",
   "execution_count": null,
   "outputs": [],
   "source": [
    "lasso_trees = linear_model.Ridge(alpha = 1).fit(features_for_robust_reg.copy()\n",
    ", diagnosis)"
   ],
   "metadata": {
    "collapsed": false,
    "pycharm": {
     "name": "#%%\n",
     "is_executing": true
    }
   }
  },
  {
   "cell_type": "code",
   "execution_count": null,
   "outputs": [],
   "source": [
    "predictions_lasso_trees = lasso_trees.predict(features_for_robust_reg)"
   ],
   "metadata": {
    "collapsed": false,
    "pycharm": {
     "name": "#%%\n",
     "is_executing": true
    }
   }
  },
  {
   "cell_type": "code",
   "execution_count": null,
   "outputs": [],
   "source": [
    "SSE_model = sum((predictions_lasso_trees - diagnosis)**2)\n",
    "SSE_mean = sum((diagnosis - diagnosis.mean())**2)\n",
    "\n",
    "1 - SSE_model/SSE_mean"
   ],
   "metadata": {
    "collapsed": false,
    "pycharm": {
     "name": "#%%\n",
     "is_executing": true
    }
   }
  },
  {
   "cell_type": "code",
   "execution_count": null,
   "outputs": [],
   "source": [
    "features = features_test\n",
    "for rule in rule_features.columns:\n",
    "\n",
    "    index_feature = list(features.loc[eval(rule)].index)\n",
    "\n",
    "    print(index_feature)\n",
    "    new_feature = [1 if i in index_feature else 0 for i in range(features.index[0], features.index[-1]+1)]\n",
    "\n",
    "    features[rule] = new_feature\n",
    "\n",
    "\n"
   ],
   "metadata": {
    "collapsed": false,
    "pycharm": {
     "name": "#%%\n",
     "is_executing": true
    }
   }
  },
  {
   "cell_type": "code",
   "execution_count": null,
   "outputs": [],
   "source": [
    "new_features = features_test"
   ],
   "metadata": {
    "collapsed": false,
    "pycharm": {
     "name": "#%%\n",
     "is_executing": true
    }
   }
  },
  {
   "cell_type": "code",
   "execution_count": null,
   "outputs": [],
   "source": [
    "new_features.insert(loc = 0, column = 'Intercept', value = [1 for i in range(len(new_features))])"
   ],
   "metadata": {
    "collapsed": false,
    "pycharm": {
     "name": "#%%\n",
     "is_executing": true
    }
   }
  },
  {
   "cell_type": "code",
   "execution_count": null,
   "outputs": [],
   "source": [
    "predictions_test = lasso_trees.predict(features_test)"
   ],
   "metadata": {
    "collapsed": false,
    "pycharm": {
     "name": "#%%\n",
     "is_executing": true
    }
   }
  },
  {
   "cell_type": "code",
   "execution_count": null,
   "outputs": [],
   "source": [
    "plt.scatter(predictions_test, diagnosis_test)"
   ],
   "metadata": {
    "collapsed": false,
    "pycharm": {
     "name": "#%%\n",
     "is_executing": true
    }
   }
  },
  {
   "cell_type": "code",
   "execution_count": null,
   "outputs": [],
   "source": [
    "SSE_model = sum((diagnosis_test - predictions_test)**2)\n",
    "SSE_mean = sum((diagnosis_test - diagnosis.mean())**2)\n",
    "\n",
    "1 - SSE_model/SSE_mean"
   ],
   "metadata": {
    "collapsed": false,
    "pycharm": {
     "name": "#%%\n",
     "is_executing": true
    }
   }
  }
 ],
 "metadata": {
  "kernelspec": {
   "display_name": "Python 3",
   "language": "python",
   "name": "python3"
  },
  "language_info": {
   "codemirror_mode": {
    "name": "ipython",
    "version": 3
   },
   "file_extension": ".py",
   "mimetype": "text/x-python",
   "name": "python",
   "nbconvert_exporter": "python",
   "pygments_lexer": "ipython3",
   "version": "3.8.8"
  }
 },
 "nbformat": 4,
 "nbformat_minor": 5
}