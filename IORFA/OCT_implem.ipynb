{
 "cells": [
  {
   "cell_type": "code",
   "execution_count": 6,
   "metadata": {},
   "outputs": [],
   "source": [
    "import gurobipy\n",
    "import pandas as pd\n",
    "from OCT import *"
   ]
  },
  {
   "cell_type": "code",
   "execution_count": 7,
   "metadata": {},
   "outputs": [],
   "source": [
    "odt = optimalDecisionTreeClassifier(max_depth=2)"
   ]
  },
  {
   "cell_type": "code",
   "execution_count": 8,
   "metadata": {},
   "outputs": [],
   "source": [
    "X = np.random.normal(size = (1000, 10))\n",
    "\n",
    "X = (X - np.min(X)) / (np.max(X) - np.min(X))\n",
    "\n",
    "x1 = X[:, 0]\n",
    "x2 = X[:, 1]\n",
    "\n",
    "y = np.random.choice([0,1], size = X.shape[0])"
   ]
  },
  {
   "cell_type": "code",
   "execution_count": 9,
   "metadata": {},
   "outputs": [
    {
     "name": "stdout",
     "output_type": "stream",
     "text": [
      "Training data include 1000 instances, 10 features.\n",
      "Set parameter TimeLimit to value 600\n"
     ]
    },
    {
     "name": "stderr",
     "output_type": "stream",
     "text": [
      "/Users/ryandeclanlucus/Desktop/ORRFA-2/IORFA/OCT.py:180: FutureWarning: Unlike other reduction functions (e.g. `skew`, `kurtosis`), the default behavior of `mode` typically preserves the axis it acts along. In SciPy 1.11.0, this behavior will change: the default value of `keepdims` will become False, the `axis` over which the statistic is taken will be eliminated, and the value None will no longer be accepted. Set `keepdims` to True or False to avoid this warning.\n",
      "  mode = stats.mode(y)[0][0]\n"
     ]
    },
    {
     "name": "stdout",
     "output_type": "stream",
     "text": [
      "Gurobi Optimizer version 10.0.0 build v10.0.0rc2 (mac64[x86])\n",
      "\n",
      "CPU model: Intel(R) Core(TM) i7-9750H CPU @ 2.60GHz\n",
      "Thread count: 6 physical cores, 12 logical processors, using up to 12 threads\n",
      "\n",
      "Optimize a model with 13044 rows, 4064 columns and 124131 nonzeros\n",
      "Model fingerprint: 0xcbe515bb\n",
      "Variable types: 19 continuous, 4045 integer (4045 binary)\n",
      "Coefficient statistics:\n",
      "  Matrix range     [1e-07, 1e+03]\n",
      "  Objective range  [2e-03, 2e-03]\n",
      "  Bounds range     [1e+00, 1e+00]\n",
      "  RHS range        [1e+00, 1e+03]\n",
      "\n",
      "Warning: Completing partial solution with 4000 unfixed non-continuous variables out of 4045\n",
      "User MIP start produced solution with objective 0.968379 (1.27s)\n",
      "User MIP start produced solution with objective 0.966403 (1.29s)\n",
      "User MIP start produced solution with objective 0.960474 (1.38s)\n",
      "User MIP start produced solution with objective 0.956522 (1.88s)\n",
      "User MIP start produced solution with objective 0.948617 (3.34s)\n",
      "User MIP start produced solution with objective 0.936759 (4.34s)\n",
      "Processing user MIP start: 0 nodes explored in subMIP, total elapsed time 5s\n",
      "User MIP start produced solution with objective 0.922925 (5.33s)\n",
      "User MIP start produced solution with objective 0.920949 (5.88s)\n",
      "Processing user MIP start: 0 nodes explored in subMIP, total elapsed time 10s\n",
      "Processing user MIP start: 0 nodes explored in subMIP, total elapsed time 15s\n",
      "Processing user MIP start: 0 nodes explored in subMIP, total elapsed time 20s\n",
      "User MIP start produced solution with objective 0.91502 (22.85s)\n",
      "User MIP start produced solution with objective 0.887352 (23.06s)\n",
      "User MIP start produced solution with objective 0.885375 (24.33s)\n",
      "Processing user MIP start: 118 nodes explored in subMIP, total elapsed time 25s\n",
      "Processing user MIP start: 418 nodes explored in subMIP, total elapsed time 30s\n",
      "Loaded user MIP start with objective 0.885375\n",
      "Processed MIP start in 32.35 seconds (33.61 work units)\n",
      "\n",
      "Presolve removed 9 rows and 7 columns\n",
      "Presolve time: 0.27s\n",
      "Presolved: 13035 rows, 4057 columns, 112114 nonzeros\n",
      "Variable types: 3 continuous, 4054 integer (4042 binary)\n",
      "\n",
      "Root simplex log...\n",
      "\n",
      "Iteration    Objective       Primal Inf.    Dual Inf.      Time\n",
      "       0    0.0000000e+00   1.003000e+03   0.000000e+00     33s\n",
      "    3026    0.0000000e+00   0.000000e+00   0.000000e+00     33s\n",
      "\n",
      "Root relaxation: objective 0.000000e+00, 3026 iterations, 0.55 seconds (1.74 work units)\n",
      "\n",
      "    Nodes    |    Current Node    |     Objective Bounds      |     Work\n",
      " Expl Unexpl |  Obj  Depth IntInf | Incumbent    BestBd   Gap | It/Node Time\n",
      "\n",
      "     0     0    0.00000    0  921    0.88538    0.00000   100%     -   34s\n",
      "     0     0    0.00000    0 1904    0.88538    0.00000   100%     -   35s\n",
      "     0     0    0.00000    0 1893    0.88538    0.00000   100%     -   36s\n",
      "     0     0    0.00000    0 1155    0.88538    0.00000   100%     -   41s\n",
      "     0     0    0.00000    0 1121    0.88538    0.00000   100%     -   42s\n",
      "     0     0    0.00000    0 1099    0.88538    0.00000   100%     -   46s\n",
      "     0     0    0.00000    0 1220    0.88538    0.00000   100%     -   47s\n",
      "     0     0    0.00000    0 1230    0.88538    0.00000   100%     -   56s\n",
      "     0     0    0.00000    0 1247    0.88538    0.00000   100%     -   58s\n",
      "     0     0    0.00000    0 1209    0.88538    0.00000   100%     -   61s\n",
      "     0     0    0.00000    0 1197    0.88538    0.00000   100%     -   62s\n",
      "     0     0    0.00000    0 1220    0.88538    0.00000   100%     -   64s\n",
      "     0     0    0.00000    0 1220    0.88538    0.00000   100%     -   65s\n",
      "     0     2    0.00000    0 1220    0.88538    0.00000   100%     -   67s\n",
      "    66    73    0.00000    8 1192    0.88538    0.00000   100%   529   70s\n",
      "   446   392    0.49820   41 1039    0.88538    0.00000   100%   293   75s\n",
      "  2397  1112    0.00249   17  247    0.88538    0.00000   100%   108   81s\n",
      "  2694  1114    0.57708   28 1281    0.88538    0.00000   100%   101   87s\n",
      "  2695  1115    0.28830  121  548    0.88538    0.00000   100%   101   92s\n",
      "  2697  1116    0.67126   43  527    0.88538    0.00000   100%   101   98s\n",
      "  2699  1118    0.21219   88  583    0.88538    0.00000   100%   101  102s\n",
      "  2701  1119    0.63241   39 1342    0.88538    0.00000   100%   101  109s\n",
      "  2702  1120    0.00000   12 1309    0.88538    0.00000   100%   101  111s\n",
      "  2704  1121    0.00014   15 1232    0.88538    0.00000   100%   101  115s\n",
      "  2706  1122    0.00000    8  781    0.88538    0.00000   100%   101  121s\n",
      "  2708  1124    0.12111   45  526    0.88538    0.00000   100%   101  125s\n",
      "  2710  1125    0.61413  174 1270    0.88538    0.00000   100%   101  130s\n",
      "  2711  1126    0.00602   25 1037    0.88538    0.00000   100%   101  135s\n",
      "  2713  1127    0.00010   12 1144    0.88538    0.00000   100%   101  142s\n",
      "  2716  1132    0.00000   12 1102    0.88538    0.00000   100%   142  147s\n",
      "  2746  1156    0.00000   16 1392    0.88538    0.00000   100%   148  150s\n",
      "  2889  1255 infeasible   25         0.88538    0.00000   100%   153  155s\n",
      "H 2965  1173                       0.8794466    0.00000   100%   157  155s\n",
      "H 3029  1140                       0.8695652    0.00000   100%   164  158s\n",
      "  3073  1181    0.00000   27 1441    0.86957    0.00000   100%   165  163s\n",
      "  3200  1699    0.13834   30 1203    0.86957    0.00000   100%   167  171s\n",
      "  4081  1925    0.01563   56 1094    0.86957    0.00000   100%   171  176s\n",
      "  5140  1551 infeasible   45         0.86957    0.00000   100%   160  181s\n",
      "  5177  1834 infeasible   25         0.86957    0.00000   100%   163  185s\n",
      "  5823  1620 infeasible   52         0.86957    0.00000   100%   160  192s\n",
      "  5862  1901 infeasible   20         0.86957    0.00000   100%   164  196s\n",
      "  6583  2187    0.00000   24 1253    0.86957    0.00000   100%   159  205s\n",
      "  7389  2175 infeasible   54         0.86957    0.00000   100%   151  215s\n",
      "  7501  2382    0.41502   32  283    0.86957    0.00000   100%   153  225s\n",
      "  7970  2886    0.20981   86  749    0.86957    0.00000   100%   149  231s\n",
      "\n",
      "Interrupt request received\n",
      "  9247  2869 infeasible   62         0.86957    0.00000   100%   136  242s\n",
      "\n",
      "Cutting planes:\n",
      "  Cover: 1\n",
      "  StrongCG: 1\n",
      "  Flow cover: 9\n",
      "  GUB cover: 1\n",
      "  RLT: 1\n",
      "\n",
      "Explored 9309 nodes (1323208 simplex iterations) in 242.06 seconds (394.81 work units)\n",
      "Thread count was 12 (of 12 available processors)\n",
      "\n",
      "Solution count 10: 0.869565 0.879447 0.885375 ... 0.956522\n",
      "\n",
      "Solve interrupted\n",
      "Best objective 8.695652173913e-01, best bound 0.000000000000e+00, gap 100.0000%\n"
     ]
    }
   ],
   "source": [
    "odt.fit(X, y)"
   ]
  },
  {
   "cell_type": "code",
   "execution_count": null,
   "metadata": {},
   "outputs": [
    {
     "data": {
      "text/plain": [
       "array([0, 1, 0, 1, 1, 1, 0, 1, 1, 1, 1, 0, 1, 1, 1, 1, 0, 1, 1, 0, 0, 0,\n",
       "       1, 1, 1, 1, 0, 1, 0, 0, 0, 0, 0, 1, 0, 0, 1, 1, 0, 0, 1, 1, 1, 1,\n",
       "       0, 1, 0, 1, 1, 0])"
      ]
     },
     "execution_count": 29,
     "metadata": {},
     "output_type": "execute_result"
    }
   ],
   "source": [
    "odt.predict(X)"
   ]
  }
 ],
 "metadata": {
  "kernelspec": {
   "display_name": "Python 3.10.8 64-bit",
   "language": "python",
   "name": "python3"
  },
  "language_info": {
   "codemirror_mode": {
    "name": "ipython",
    "version": 3
   },
   "file_extension": ".py",
   "mimetype": "text/x-python",
   "name": "python",
   "nbconvert_exporter": "python",
   "pygments_lexer": "ipython3",
   "version": "3.10.8"
  },
  "orig_nbformat": 4,
  "vscode": {
   "interpreter": {
    "hash": "aee8b7b246df8f9039afb4144a1f6fd8d2ca17a180786b69acc140d282b71a49"
   }
  }
 },
 "nbformat": 4,
 "nbformat_minor": 2
}
