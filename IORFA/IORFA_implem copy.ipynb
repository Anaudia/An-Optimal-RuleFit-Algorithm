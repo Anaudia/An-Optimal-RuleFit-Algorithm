{
 "cells": [
  {
   "cell_type": "code",
   "execution_count": 5,
   "metadata": {},
   "outputs": [],
   "source": [
    "import gurobipy\n",
    "import pandas as pd\n",
    "from OCT import *"
   ]
  },
  {
   "cell_type": "code",
   "execution_count": 16,
   "metadata": {},
   "outputs": [],
   "source": [
    "odt = optimalDecisionTreeClassifier(max_depth=3)"
   ]
  },
  {
   "cell_type": "code",
   "execution_count": 23,
   "metadata": {},
   "outputs": [],
   "source": [
    "X = np.random.normal(size = (50, 5))\n",
    "y = np.random.choice([0, 1], size = 50, replace = True)"
   ]
  },
  {
   "cell_type": "code",
   "execution_count": 24,
   "metadata": {},
   "outputs": [
    {
     "name": "stdout",
     "output_type": "stream",
     "text": [
      "Training data include 50 instances, 5 features.\n",
      "Set parameter TimeLimit to value 600\n",
      "Gurobi Optimizer version 10.0.0 build v10.0.0rc2 (mac64[x86])\n",
      "\n",
      "CPU model: Intel(R) Core(TM) i7-9750H CPU @ 2.60GHz\n",
      "Thread count: 6 physical cores, 12 logical processors, using up to 12 threads\n",
      "\n",
      "Optimize a model with 1742 rows, 505 columns and 11652 nonzeros\n",
      "Model fingerprint: 0x511c492d\n",
      "Variable types: 39 continuous, 466 integer (466 binary)\n",
      "Coefficient statistics:\n",
      "  Matrix range     [3e-04, 5e+01]\n",
      "  Objective range  [3e-02, 3e-02]\n",
      "  Bounds range     [1e+00, 1e+00]\n",
      "  RHS range        [1e+00, 5e+01]\n",
      "\n",
      "User MIP start did not produce a new incumbent solution\n",
      "User MIP start violates constraint R224 by 0.355856980\n",
      "\n"
     ]
    },
    {
     "name": "stderr",
     "output_type": "stream",
     "text": [
      "/Users/ryandeclanlucus/Desktop/OCT.py:180: FutureWarning: Unlike other reduction functions (e.g. `skew`, `kurtosis`), the default behavior of `mode` typically preserves the axis it acts along. In SciPy 1.11.0, this behavior will change: the default value of `keepdims` will become False, the `axis` over which the statistic is taken will be eliminated, and the value None will no longer be accepted. Set `keepdims` to True or False to avoid this warning.\n",
      "  mode = stats.mode(y)[0][0]\n"
     ]
    },
    {
     "name": "stdout",
     "output_type": "stream",
     "text": [
      "Presolve removed 36 rows and 23 columns\n",
      "Presolve time: 0.07s\n",
      "Presolved: 1706 rows, 482 columns, 8530 nonzeros\n",
      "Variable types: 7 continuous, 475 integer (451 binary)\n",
      "Found heuristic solution: objective 0.7241379\n",
      "\n",
      "Root relaxation: objective 0.000000e+00, 396 iterations, 0.02 seconds (0.02 work units)\n",
      "Another try with MIP start\n",
      "\n",
      "    Nodes    |    Current Node    |     Objective Bounds      |     Work\n",
      " Expl Unexpl |  Obj  Depth IntInf | Incumbent    BestBd   Gap | It/Node Time\n",
      "\n",
      "     0     0    0.00000    0   75    0.72414    0.00000   100%     -    0s\n",
      "     0     0    0.00000    0  146    0.72414    0.00000   100%     -    0s\n",
      "     0     0    0.00000    0  120    0.72414    0.00000   100%     -    0s\n",
      "H    0     0                       0.6896552    0.00000   100%     -    0s\n",
      "H    0     0                       0.6206897    0.00000   100%     -    0s\n",
      "H    0     0                       0.5172414    0.00000   100%     -    0s\n",
      "H    0     0                       0.4827586    0.00000   100%     -    0s\n",
      "     0     0    0.00000    0   59    0.48276    0.00000   100%     -    0s\n",
      "     0     0    0.00000    0   64    0.48276    0.00000   100%     -    0s\n",
      "H    0     0                       0.4137931    0.00000   100%     -    0s\n",
      "     0     0    0.00000    0   63    0.41379    0.00000   100%     -    0s\n",
      "     0     0    0.00000    0   58    0.41379    0.00000   100%     -    0s\n",
      "     0     0    0.00000    0   95    0.41379    0.00000   100%     -    0s\n",
      "     0     0    0.00000    0   58    0.41379    0.00000   100%     -    0s\n",
      "     0     0    0.00000    0   43    0.41379    0.00000   100%     -    0s\n",
      "     0     2    0.00000    0   38    0.41379    0.00000   100%     -    0s\n",
      "H  999   506                       0.3793103    0.00000   100%  40.2    2s\n",
      "  2655  1255    0.00150   22  126    0.37931    0.00150   100%  39.9    5s\n",
      "H 3630  1297                       0.3448276    0.00150   100%  39.1    6s\n",
      "H 3645  1244                       0.3103448    0.00150   100%  39.4    6s\n",
      "  5695  1080 infeasible   30         0.31034    0.00150   100%  45.9   10s\n",
      " 17900  3110    0.20690   33   52    0.31034    0.10345  66.7%  40.2   15s\n",
      "*34061  2224              40       0.2758621    0.17241  37.5%  37.0   19s\n",
      " 34589  1697     cutoff   33         0.27586    0.17241  37.5%  36.9   20s\n",
      "\n",
      "Explored 40284 nodes (1426225 simplex iterations) in 20.76 seconds (19.94 work units)\n",
      "Thread count was 12 (of 12 available processors)\n",
      "\n",
      "Solution count 10: 0.275862 0.275862 0.310345 ... 0.689655\n",
      "\n",
      "Optimal solution found (tolerance 1.00e-04)\n",
      "Best objective 2.758620689655e-01, best bound 2.758620689655e-01, gap 0.0000%\n"
     ]
    }
   ],
   "source": [
    "odt.fit(X, y)"
   ]
  },
  {
   "cell_type": "code",
   "execution_count": 29,
   "metadata": {},
   "outputs": [
    {
     "data": {
      "text/plain": [
       "array([0, 1, 0, 1, 1, 1, 0, 1, 1, 1, 1, 0, 1, 1, 1, 1, 0, 1, 1, 0, 0, 0,\n",
       "       1, 1, 1, 1, 0, 1, 0, 0, 0, 0, 0, 1, 0, 0, 1, 1, 0, 0, 1, 1, 1, 1,\n",
       "       0, 1, 0, 1, 1, 0])"
      ]
     },
     "execution_count": 29,
     "metadata": {},
     "output_type": "execute_result"
    }
   ],
   "source": [
    "odt.predict(X)"
   ]
  }
 ],
 "metadata": {
  "kernelspec": {
   "display_name": "Python 3.10.8 64-bit",
   "language": "python",
   "name": "python3"
  },
  "language_info": {
   "codemirror_mode": {
    "name": "ipython",
    "version": 3
   },
   "file_extension": ".py",
   "mimetype": "text/x-python",
   "name": "python",
   "nbconvert_exporter": "python",
   "pygments_lexer": "ipython3",
   "version": "3.10.8"
  },
  "orig_nbformat": 4,
  "vscode": {
   "interpreter": {
    "hash": "aee8b7b246df8f9039afb4144a1f6fd8d2ca17a180786b69acc140d282b71a49"
   }
  }
 },
 "nbformat": 4,
 "nbformat_minor": 2
}
