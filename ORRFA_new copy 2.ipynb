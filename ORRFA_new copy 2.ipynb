{
 "cells": [
  {
   "cell_type": "code",
   "execution_count": 1,
   "id": "2042e7c0",
   "metadata": {
    "pycharm": {
     "name": "#%%\n"
    }
   },
   "outputs": [
    {
     "name": "stderr",
     "output_type": "stream",
     "text": [
      "WARNING:root:Error while checking for IAI updates:\n",
      "  HTTP.Exceptions.RequestError(HTTP.Messages.Request:\n",
      "\"\"\"\n",
      "GET /versions.json HTTP/1.1\r\n",
      "Host: docs.interpretable.ai\r\n",
      "Accept: */*\r\n",
      "User-Agent: HTTP.jl/1.8.1\r\n",
      "Content-Length: 0\r\n",
      "Accept-Encoding: gzip\r\n",
      "\r\n",
      "\"\"\", EOFError())\n",
      "WARNING:root:This copy of Interpretable AI software is for academic purposes only and not for commercial use.\n"
     ]
    }
   ],
   "source": [
    "import numpy as np\n",
    "import matplotlib.pyplot as plt\n",
    "from ORRFA import *\n",
    "import pandas as pd\n",
    "import interpretableai\n",
    "from interpretableai import iai\n",
    "import pandas as pd\n",
    "import json\n",
    "from HR import *\n",
    "from sklearn.tree import DecisionTreeRegressor\n",
    "from sklearn import linear_model\n",
    "from sklearn.linear_model import LinearRegression"
   ]
  },
  {
   "cell_type": "code",
   "execution_count": 2,
   "outputs": [],
   "source": [
    "dataset = pd.read_csv(\"/Users/ryanlucas/Desktop/kc_house_data.csv\")"
   ],
   "metadata": {
    "collapsed": false,
    "pycharm": {
     "name": "#%%\n"
    }
   }
  },
  {
   "cell_type": "markdown",
   "source": [],
   "metadata": {
    "collapsed": false,
    "pycharm": {
     "name": "#%% md\n"
    }
   }
  },
  {
   "cell_type": "code",
   "execution_count": 3,
   "outputs": [],
   "source": [
    "features, diagnosis, features_test, diagnosis_test = data_processing(dataset)"
   ],
   "metadata": {
    "collapsed": false,
    "pycharm": {
     "name": "#%%\n"
    }
   }
  },
  {
   "cell_type": "code",
   "execution_count": 4,
   "outputs": [
    {
     "name": "stdout",
     "output_type": "stream",
     "text": [
      "21613\n",
      "15129\n",
      "6484\n"
     ]
    }
   ],
   "source": [
    "print(len(dataset))\n",
    "print(len(features))\n",
    "print(len(features_test))"
   ],
   "metadata": {
    "collapsed": false,
    "pycharm": {
     "name": "#%%\n"
    }
   }
  },
  {
   "cell_type": "code",
   "execution_count": 5,
   "outputs": [],
   "source": [
    "# Fit the regressor, set max_depth = 3\n",
    "\n",
    "regr = DecisionTreeRegressor(max_depth=4, random_state=1234)\n",
    "model = regr.fit(features, diagnosis)\n",
    "# Print rules\n",
    "dt_rules = get_rules(model,features.columns,\"class_names\", features)"
   ],
   "metadata": {
    "collapsed": false,
    "pycharm": {
     "name": "#%%\n"
    }
   }
  },
  {
   "cell_type": "code",
   "execution_count": 6,
   "outputs": [
    {
     "data": {
      "text/plain": "[\"(features['grade'] < 0.708) & (features['lat'] >= -0.192) & (features['sqft_living'] < -0.059) & (features['sqft_living'] >= -0.689)\",\n \"(features['grade'] < 0.708) & (features['lat'] >= -0.192) & (features['sqft_living'] >= -0.059) & (features['waterfront'] < 5.524)\",\n \"(features['grade'] < 0.708) & (features['lat'] >= -0.192) & (features['sqft_living'] < -0.059) & (features['sqft_living'] < -0.689)\",\n \"(features['grade'] >= 0.708) & (features['sqft_living'] < 2.272) & (features['lat'] >= -0.315) & (features['yr_built'] >= 0.076)\",\n \"(features['grade'] < 0.708) & (features['lat'] < -0.192) & (features['sqft_living'] < -0.164) & (features['sqft_living'] < -0.702)\",\n \"(features['grade'] < 0.708) & (features['lat'] < -0.192) & (features['sqft_living'] < -0.164) & (features['sqft_living'] >= -0.702)\",\n \"(features['grade'] < 0.708) & (features['lat'] < -0.192) & (features['sqft_living'] >= -0.164) & (features['lat'] >= -1.056)\",\n \"(features['grade'] < 0.708) & (features['lat'] < -0.192) & (features['sqft_living'] >= -0.164) & (features['lat'] < -1.056)\",\n \"(features['grade'] >= 0.708) & (features['sqft_living'] < 2.272) & (features['lat'] < -0.315) & (features['waterfront'] < 5.524)\",\n \"(features['grade'] >= 0.708) & (features['sqft_living'] < 2.272) & (features['lat'] >= -0.315) & (features['yr_built'] < 0.076)\",\n \"(features['grade'] >= 0.708) & (features['sqft_living'] >= 2.272) & (features['sqft_living'] < 6.326) & (features['long'] >= 0.089)\",\n \"(features['grade'] >= 0.708) & (features['sqft_living'] >= 2.272) & (features['sqft_living'] < 6.326) & (features['long'] < 0.089)\",\n \"(features['grade'] >= 0.708) & (features['sqft_living'] < 2.272) & (features['lat'] < -0.315) & (features['waterfront'] >= 5.524)\",\n \"(features['grade'] < 0.708) & (features['lat'] >= -0.192) & (features['sqft_living'] >= -0.059) & (features['waterfront'] >= 5.524)\",\n \"(features['grade'] >= 0.708) & (features['sqft_living'] >= 2.272) & (features['sqft_living'] >= 6.326) & (features['long'] < 0.096)\",\n \"(features['grade'] >= 0.708) & (features['sqft_living'] >= 2.272) & (features['sqft_living'] >= 6.326) & (features['long'] >= 0.096)\"]"
     },
     "execution_count": 6,
     "metadata": {},
     "output_type": "execute_result"
    }
   ],
   "source": [
    "dt_rules"
   ],
   "metadata": {
    "collapsed": false,
    "pycharm": {
     "name": "#%%\n"
    }
   }
  },
  {
   "cell_type": "code",
   "execution_count": 7,
   "outputs": [],
   "source": [
    "dt_df = pd.DataFrame()\n",
    "for rule in dt_rules:\n",
    "    index_feature = features.loc[eval(rule)].index\n",
    "    new_feature = [1 if i in index_feature else 0 for i in range(len(features))]\n",
    "    dt_df[rule] = new_feature"
   ],
   "metadata": {
    "collapsed": false,
    "pycharm": {
     "name": "#%%\n"
    }
   }
  },
  {
   "cell_type": "code",
   "execution_count": 8,
   "outputs": [
    {
     "data": {
      "text/plain": "       (features['grade'] < 0.708) & (features['lat'] >= -0.192) & (features['sqft_living'] < -0.059) & (features['sqft_living'] >= -0.689)  \\\n0                                                      0                                                                                      \n1                                                      0                                                                                      \n2                                                      1                                                                                      \n3                                                      1                                                                                      \n4                                                      0                                                                                      \n...                                                  ...                                                                                      \n15124                                                  0                                                                                      \n15125                                                  0                                                                                      \n15126                                                  0                                                                                      \n15127                                                  0                                                                                      \n15128                                                  0                                                                                      \n\n       (features['grade'] < 0.708) & (features['lat'] >= -0.192) & (features['sqft_living'] >= -0.059) & (features['waterfront'] < 5.524)  \\\n0                                                      0                                                                                    \n1                                                      0                                                                                    \n2                                                      0                                                                                    \n3                                                      0                                                                                    \n4                                                      0                                                                                    \n...                                                  ...                                                                                    \n15124                                                  0                                                                                    \n15125                                                  0                                                                                    \n15126                                                  0                                                                                    \n15127                                                  0                                                                                    \n15128                                                  0                                                                                    \n\n       (features['grade'] < 0.708) & (features['lat'] >= -0.192) & (features['sqft_living'] < -0.059) & (features['sqft_living'] < -0.689)  \\\n0                                                      0                                                                                     \n1                                                      0                                                                                     \n2                                                      0                                                                                     \n3                                                      0                                                                                     \n4                                                      0                                                                                     \n...                                                  ...                                                                                     \n15124                                                  1                                                                                     \n15125                                                  1                                                                                     \n15126                                                  1                                                                                     \n15127                                                  0                                                                                     \n15128                                                  0                                                                                     \n\n       (features['grade'] >= 0.708) & (features['sqft_living'] < 2.272) & (features['lat'] >= -0.315) & (features['yr_built'] >= 0.076)  \\\n0                                                      0                                                                                  \n1                                                      0                                                                                  \n2                                                      0                                                                                  \n3                                                      0                                                                                  \n4                                                      0                                                                                  \n...                                                  ...                                                                                  \n15124                                                  0                                                                                  \n15125                                                  0                                                                                  \n15126                                                  0                                                                                  \n15127                                                  1                                                                                  \n15128                                                  0                                                                                  \n\n       (features['grade'] < 0.708) & (features['lat'] < -0.192) & (features['sqft_living'] < -0.164) & (features['sqft_living'] < -0.702)  \\\n0                                                      1                                                                                    \n1                                                      1                                                                                    \n2                                                      0                                                                                    \n3                                                      0                                                                                    \n4                                                      1                                                                                    \n...                                                  ...                                                                                    \n15124                                                  0                                                                                    \n15125                                                  0                                                                                    \n15126                                                  0                                                                                    \n15127                                                  0                                                                                    \n15128                                                  0                                                                                    \n\n       (features['grade'] < 0.708) & (features['lat'] < -0.192) & (features['sqft_living'] < -0.164) & (features['sqft_living'] >= -0.702)  \\\n0                                                      0                                                                                     \n1                                                      0                                                                                     \n2                                                      0                                                                                     \n3                                                      0                                                                                     \n4                                                      0                                                                                     \n...                                                  ...                                                                                     \n15124                                                  0                                                                                     \n15125                                                  0                                                                                     \n15126                                                  0                                                                                     \n15127                                                  0                                                                                     \n15128                                                  0                                                                                     \n\n       (features['grade'] < 0.708) & (features['lat'] < -0.192) & (features['sqft_living'] >= -0.164) & (features['lat'] >= -1.056)  \\\n0                                                      0                                                                              \n1                                                      0                                                                              \n2                                                      0                                                                              \n3                                                      0                                                                              \n4                                                      0                                                                              \n...                                                  ...                                                                              \n15124                                                  0                                                                              \n15125                                                  0                                                                              \n15126                                                  0                                                                              \n15127                                                  0                                                                              \n15128                                                  0                                                                              \n\n       (features['grade'] < 0.708) & (features['lat'] < -0.192) & (features['sqft_living'] >= -0.164) & (features['lat'] < -1.056)  \\\n0                                                      0                                                                             \n1                                                      0                                                                             \n2                                                      0                                                                             \n3                                                      0                                                                             \n4                                                      0                                                                             \n...                                                  ...                                                                             \n15124                                                  0                                                                             \n15125                                                  0                                                                             \n15126                                                  0                                                                             \n15127                                                  0                                                                             \n15128                                                  1                                                                             \n\n       (features['grade'] >= 0.708) & (features['sqft_living'] < 2.272) & (features['lat'] < -0.315) & (features['waterfront'] < 5.524)  \\\n0                                                      0                                                                                  \n1                                                      0                                                                                  \n2                                                      0                                                                                  \n3                                                      0                                                                                  \n4                                                      0                                                                                  \n...                                                  ...                                                                                  \n15124                                                  0                                                                                  \n15125                                                  0                                                                                  \n15126                                                  0                                                                                  \n15127                                                  0                                                                                  \n15128                                                  0                                                                                  \n\n       (features['grade'] >= 0.708) & (features['sqft_living'] < 2.272) & (features['lat'] >= -0.315) & (features['yr_built'] < 0.076)  \\\n0                                                      0                                                                                 \n1                                                      0                                                                                 \n2                                                      0                                                                                 \n3                                                      0                                                                                 \n4                                                      0                                                                                 \n...                                                  ...                                                                                 \n15124                                                  0                                                                                 \n15125                                                  0                                                                                 \n15126                                                  0                                                                                 \n15127                                                  0                                                                                 \n15128                                                  0                                                                                 \n\n       (features['grade'] >= 0.708) & (features['sqft_living'] >= 2.272) & (features['sqft_living'] < 6.326) & (features['long'] >= 0.089)  \\\n0                                                      0                                                                                     \n1                                                      0                                                                                     \n2                                                      0                                                                                     \n3                                                      0                                                                                     \n4                                                      0                                                                                     \n...                                                  ...                                                                                     \n15124                                                  0                                                                                     \n15125                                                  0                                                                                     \n15126                                                  0                                                                                     \n15127                                                  0                                                                                     \n15128                                                  0                                                                                     \n\n       (features['grade'] >= 0.708) & (features['sqft_living'] >= 2.272) & (features['sqft_living'] < 6.326) & (features['long'] < 0.089)  \\\n0                                                      0                                                                                    \n1                                                      0                                                                                    \n2                                                      0                                                                                    \n3                                                      0                                                                                    \n4                                                      0                                                                                    \n...                                                  ...                                                                                    \n15124                                                  0                                                                                    \n15125                                                  0                                                                                    \n15126                                                  0                                                                                    \n15127                                                  0                                                                                    \n15128                                                  0                                                                                    \n\n       (features['grade'] >= 0.708) & (features['sqft_living'] < 2.272) & (features['lat'] < -0.315) & (features['waterfront'] >= 5.524)  \\\n0                                                      0                                                                                   \n1                                                      0                                                                                   \n2                                                      0                                                                                   \n3                                                      0                                                                                   \n4                                                      0                                                                                   \n...                                                  ...                                                                                   \n15124                                                  0                                                                                   \n15125                                                  0                                                                                   \n15126                                                  0                                                                                   \n15127                                                  0                                                                                   \n15128                                                  0                                                                                   \n\n       (features['grade'] < 0.708) & (features['lat'] >= -0.192) & (features['sqft_living'] >= -0.059) & (features['waterfront'] >= 5.524)  \\\n0                                                      0                                                                                     \n1                                                      0                                                                                     \n2                                                      0                                                                                     \n3                                                      0                                                                                     \n4                                                      0                                                                                     \n...                                                  ...                                                                                     \n15124                                                  0                                                                                     \n15125                                                  0                                                                                     \n15126                                                  0                                                                                     \n15127                                                  0                                                                                     \n15128                                                  0                                                                                     \n\n       (features['grade'] >= 0.708) & (features['sqft_living'] >= 2.272) & (features['sqft_living'] >= 6.326) & (features['long'] < 0.096)  \\\n0                                                      0                                                                                     \n1                                                      0                                                                                     \n2                                                      0                                                                                     \n3                                                      0                                                                                     \n4                                                      0                                                                                     \n...                                                  ...                                                                                     \n15124                                                  0                                                                                     \n15125                                                  0                                                                                     \n15126                                                  0                                                                                     \n15127                                                  0                                                                                     \n15128                                                  0                                                                                     \n\n       (features['grade'] >= 0.708) & (features['sqft_living'] >= 2.272) & (features['sqft_living'] >= 6.326) & (features['long'] >= 0.096)  \n0                                                      0                                                                                     \n1                                                      0                                                                                     \n2                                                      0                                                                                     \n3                                                      0                                                                                     \n4                                                      0                                                                                     \n...                                                  ...                                                                                     \n15124                                                  0                                                                                     \n15125                                                  0                                                                                     \n15126                                                  0                                                                                     \n15127                                                  0                                                                                     \n15128                                                  0                                                                                     \n\n[15129 rows x 16 columns]",
      "text/html": "<div>\n<style scoped>\n    .dataframe tbody tr th:only-of-type {\n        vertical-align: middle;\n    }\n\n    .dataframe tbody tr th {\n        vertical-align: top;\n    }\n\n    .dataframe thead th {\n        text-align: right;\n    }\n</style>\n<table border=\"1\" class=\"dataframe\">\n  <thead>\n    <tr style=\"text-align: right;\">\n      <th></th>\n      <th>(features['grade'] &lt; 0.708) &amp; (features['lat'] &gt;= -0.192) &amp; (features['sqft_living'] &lt; -0.059) &amp; (features['sqft_living'] &gt;= -0.689)</th>\n      <th>(features['grade'] &lt; 0.708) &amp; (features['lat'] &gt;= -0.192) &amp; (features['sqft_living'] &gt;= -0.059) &amp; (features['waterfront'] &lt; 5.524)</th>\n      <th>(features['grade'] &lt; 0.708) &amp; (features['lat'] &gt;= -0.192) &amp; (features['sqft_living'] &lt; -0.059) &amp; (features['sqft_living'] &lt; -0.689)</th>\n      <th>(features['grade'] &gt;= 0.708) &amp; (features['sqft_living'] &lt; 2.272) &amp; (features['lat'] &gt;= -0.315) &amp; (features['yr_built'] &gt;= 0.076)</th>\n      <th>(features['grade'] &lt; 0.708) &amp; (features['lat'] &lt; -0.192) &amp; (features['sqft_living'] &lt; -0.164) &amp; (features['sqft_living'] &lt; -0.702)</th>\n      <th>(features['grade'] &lt; 0.708) &amp; (features['lat'] &lt; -0.192) &amp; (features['sqft_living'] &lt; -0.164) &amp; (features['sqft_living'] &gt;= -0.702)</th>\n      <th>(features['grade'] &lt; 0.708) &amp; (features['lat'] &lt; -0.192) &amp; (features['sqft_living'] &gt;= -0.164) &amp; (features['lat'] &gt;= -1.056)</th>\n      <th>(features['grade'] &lt; 0.708) &amp; (features['lat'] &lt; -0.192) &amp; (features['sqft_living'] &gt;= -0.164) &amp; (features['lat'] &lt; -1.056)</th>\n      <th>(features['grade'] &gt;= 0.708) &amp; (features['sqft_living'] &lt; 2.272) &amp; (features['lat'] &lt; -0.315) &amp; (features['waterfront'] &lt; 5.524)</th>\n      <th>(features['grade'] &gt;= 0.708) &amp; (features['sqft_living'] &lt; 2.272) &amp; (features['lat'] &gt;= -0.315) &amp; (features['yr_built'] &lt; 0.076)</th>\n      <th>(features['grade'] &gt;= 0.708) &amp; (features['sqft_living'] &gt;= 2.272) &amp; (features['sqft_living'] &lt; 6.326) &amp; (features['long'] &gt;= 0.089)</th>\n      <th>(features['grade'] &gt;= 0.708) &amp; (features['sqft_living'] &gt;= 2.272) &amp; (features['sqft_living'] &lt; 6.326) &amp; (features['long'] &lt; 0.089)</th>\n      <th>(features['grade'] &gt;= 0.708) &amp; (features['sqft_living'] &lt; 2.272) &amp; (features['lat'] &lt; -0.315) &amp; (features['waterfront'] &gt;= 5.524)</th>\n      <th>(features['grade'] &lt; 0.708) &amp; (features['lat'] &gt;= -0.192) &amp; (features['sqft_living'] &gt;= -0.059) &amp; (features['waterfront'] &gt;= 5.524)</th>\n      <th>(features['grade'] &gt;= 0.708) &amp; (features['sqft_living'] &gt;= 2.272) &amp; (features['sqft_living'] &gt;= 6.326) &amp; (features['long'] &lt; 0.096)</th>\n      <th>(features['grade'] &gt;= 0.708) &amp; (features['sqft_living'] &gt;= 2.272) &amp; (features['sqft_living'] &gt;= 6.326) &amp; (features['long'] &gt;= 0.096)</th>\n    </tr>\n  </thead>\n  <tbody>\n    <tr>\n      <th>0</th>\n      <td>0</td>\n      <td>0</td>\n      <td>0</td>\n      <td>0</td>\n      <td>1</td>\n      <td>0</td>\n      <td>0</td>\n      <td>0</td>\n      <td>0</td>\n      <td>0</td>\n      <td>0</td>\n      <td>0</td>\n      <td>0</td>\n      <td>0</td>\n      <td>0</td>\n      <td>0</td>\n    </tr>\n    <tr>\n      <th>1</th>\n      <td>0</td>\n      <td>0</td>\n      <td>0</td>\n      <td>0</td>\n      <td>1</td>\n      <td>0</td>\n      <td>0</td>\n      <td>0</td>\n      <td>0</td>\n      <td>0</td>\n      <td>0</td>\n      <td>0</td>\n      <td>0</td>\n      <td>0</td>\n      <td>0</td>\n      <td>0</td>\n    </tr>\n    <tr>\n      <th>2</th>\n      <td>1</td>\n      <td>0</td>\n      <td>0</td>\n      <td>0</td>\n      <td>0</td>\n      <td>0</td>\n      <td>0</td>\n      <td>0</td>\n      <td>0</td>\n      <td>0</td>\n      <td>0</td>\n      <td>0</td>\n      <td>0</td>\n      <td>0</td>\n      <td>0</td>\n      <td>0</td>\n    </tr>\n    <tr>\n      <th>3</th>\n      <td>1</td>\n      <td>0</td>\n      <td>0</td>\n      <td>0</td>\n      <td>0</td>\n      <td>0</td>\n      <td>0</td>\n      <td>0</td>\n      <td>0</td>\n      <td>0</td>\n      <td>0</td>\n      <td>0</td>\n      <td>0</td>\n      <td>0</td>\n      <td>0</td>\n      <td>0</td>\n    </tr>\n    <tr>\n      <th>4</th>\n      <td>0</td>\n      <td>0</td>\n      <td>0</td>\n      <td>0</td>\n      <td>1</td>\n      <td>0</td>\n      <td>0</td>\n      <td>0</td>\n      <td>0</td>\n      <td>0</td>\n      <td>0</td>\n      <td>0</td>\n      <td>0</td>\n      <td>0</td>\n      <td>0</td>\n      <td>0</td>\n    </tr>\n    <tr>\n      <th>...</th>\n      <td>...</td>\n      <td>...</td>\n      <td>...</td>\n      <td>...</td>\n      <td>...</td>\n      <td>...</td>\n      <td>...</td>\n      <td>...</td>\n      <td>...</td>\n      <td>...</td>\n      <td>...</td>\n      <td>...</td>\n      <td>...</td>\n      <td>...</td>\n      <td>...</td>\n      <td>...</td>\n    </tr>\n    <tr>\n      <th>15124</th>\n      <td>0</td>\n      <td>0</td>\n      <td>1</td>\n      <td>0</td>\n      <td>0</td>\n      <td>0</td>\n      <td>0</td>\n      <td>0</td>\n      <td>0</td>\n      <td>0</td>\n      <td>0</td>\n      <td>0</td>\n      <td>0</td>\n      <td>0</td>\n      <td>0</td>\n      <td>0</td>\n    </tr>\n    <tr>\n      <th>15125</th>\n      <td>0</td>\n      <td>0</td>\n      <td>1</td>\n      <td>0</td>\n      <td>0</td>\n      <td>0</td>\n      <td>0</td>\n      <td>0</td>\n      <td>0</td>\n      <td>0</td>\n      <td>0</td>\n      <td>0</td>\n      <td>0</td>\n      <td>0</td>\n      <td>0</td>\n      <td>0</td>\n    </tr>\n    <tr>\n      <th>15126</th>\n      <td>0</td>\n      <td>0</td>\n      <td>1</td>\n      <td>0</td>\n      <td>0</td>\n      <td>0</td>\n      <td>0</td>\n      <td>0</td>\n      <td>0</td>\n      <td>0</td>\n      <td>0</td>\n      <td>0</td>\n      <td>0</td>\n      <td>0</td>\n      <td>0</td>\n      <td>0</td>\n    </tr>\n    <tr>\n      <th>15127</th>\n      <td>0</td>\n      <td>0</td>\n      <td>0</td>\n      <td>1</td>\n      <td>0</td>\n      <td>0</td>\n      <td>0</td>\n      <td>0</td>\n      <td>0</td>\n      <td>0</td>\n      <td>0</td>\n      <td>0</td>\n      <td>0</td>\n      <td>0</td>\n      <td>0</td>\n      <td>0</td>\n    </tr>\n    <tr>\n      <th>15128</th>\n      <td>0</td>\n      <td>0</td>\n      <td>0</td>\n      <td>0</td>\n      <td>0</td>\n      <td>0</td>\n      <td>0</td>\n      <td>1</td>\n      <td>0</td>\n      <td>0</td>\n      <td>0</td>\n      <td>0</td>\n      <td>0</td>\n      <td>0</td>\n      <td>0</td>\n      <td>0</td>\n    </tr>\n  </tbody>\n</table>\n<p>15129 rows × 16 columns</p>\n</div>"
     },
     "execution_count": 8,
     "metadata": {},
     "output_type": "execute_result"
    }
   ],
   "source": [
    "dt_df"
   ],
   "metadata": {
    "collapsed": false,
    "pycharm": {
     "name": "#%%\n"
    }
   }
  },
  {
   "cell_type": "code",
   "execution_count": 9,
   "outputs": [],
   "source": [
    "dt_df = dt_df.loc[:,~dt_df.columns.duplicated()].copy()"
   ],
   "metadata": {
    "collapsed": false,
    "pycharm": {
     "name": "#%%\n"
    }
   }
  },
  {
   "cell_type": "markdown",
   "source": [],
   "metadata": {
    "collapsed": false,
    "pycharm": {
     "name": "#%% md\n"
    }
   }
  },
  {
   "cell_type": "markdown",
   "source": [
    "np.random.seed(1)\n",
    "rules = {}\n",
    "\n",
    "# for j in range(2, 7):\n",
    "\n",
    "for j in [5]:\n",
    "\n",
    "    for i in range(1,51):\n",
    "\n",
    "        n = max(5, j+1)\n",
    "\n",
    "        #################\n",
    "        sampled_features = features.copy().sample(n=int(n),axis='columns')\n",
    "\n",
    "        OCT_H = iai.GridSearch(\n",
    "                  iai.OptimalTreeRegressor(\n",
    "                      max_depth = j, cp = 0.00000000001))\n",
    "\n",
    "        OCT_H.fit(sampled_features, diagnosis)\n",
    "        OCT_H.write_json(f\"tre.json\")\n",
    "\n",
    "        ######################\n",
    "        f = open(f\"tre.json\")\n",
    "        data = json.load(f)\n",
    "\n",
    "        paths = gen_paths(data)\n",
    "\n",
    "        sub_paths = gen_subpaths(paths)\n",
    "\n",
    "        names = sampled_features.columns\n",
    "\n",
    "        rule_features_new = gen_features(\n",
    "                    sub_paths, data, sampled_features, names)\n",
    "\n",
    "        rules[f\"tre_{i}_{j}\"] = rule_features_new\n",
    "\n",
    "        print(f\"Tree: {i}\")\n",
    "\n",
    "big_df = pd.DataFrame()\n",
    "for tree in rules.keys():\n",
    "    big_df = pd.concat([big_df, rules[tree]],axis =1)\n"
   ],
   "metadata": {
    "collapsed": false,
    "pycharm": {
     "name": "#%% md\n"
    }
   }
  },
  {
   "cell_type": "code",
   "execution_count": 10,
   "outputs": [],
   "source": [
    "generated_features = dt_df.loc[:,~dt_df.columns.duplicated()].copy()\n",
    "\n",
    "for column in generated_features.columns:\n",
    "    if generated_features[column].sum() == len(generated_features):\n",
    "        del generated_features[column]"
   ],
   "metadata": {
    "collapsed": false,
    "pycharm": {
     "name": "#%%\n"
    }
   }
  },
  {
   "cell_type": "code",
   "execution_count": 11,
   "outputs": [],
   "source": [
    "def gen_test_features(features_test, generated_features):\n",
    "    features = features_test\n",
    "    for rule in generated_features.columns:\n",
    "\n",
    "        print(rule)\n",
    "\n",
    "        index_feature = list(features.loc[eval(rule)].index)\n",
    "\n",
    "        new_feature = [1 if i in index_feature else 0 for i in range(features.index[0], features.index[-1]+1)]\n",
    "\n",
    "        features[rule] = new_feature\n",
    "\n",
    "    return features_test"
   ],
   "metadata": {
    "collapsed": false,
    "pycharm": {
     "name": "#%%\n"
    }
   }
  },
  {
   "cell_type": "code",
   "execution_count": 12,
   "outputs": [],
   "source": [
    "def reg_results(generated_features, features, diagnosis, features_test, diagnosis_test, gen = True):\n",
    "    if gen:\n",
    "        features = pd.concat([features, generated_features], axis = 1)\n",
    "\n",
    "    if \"Intercept\" not in features.columns:\n",
    "        features.insert(loc = 0, column = 'Intercept', value = [1 for i in range(len(features))])\n",
    "\n",
    "    reg = linear_model.Ridge(alpha = 1).fit(features.copy()\n",
    ", diagnosis)\n",
    "    predictions_baseline = reg.predict(features.copy())\n",
    "\n",
    "    SSE_model = sum((diagnosis - predictions_baseline)**2)\n",
    "    SSE_mean = sum((diagnosis - diagnosis.mean())**2)\n",
    "\n",
    "    IS_R2 = 1 - SSE_model/SSE_mean\n",
    "\n",
    "    if \"Intercept\" not in features_test.columns:\n",
    "        features_test.insert(loc = 0, column = 'Intercept', value = [1 for i in range(len(features_test))])\n",
    "\n",
    "    if gen:\n",
    "        features_test = gen_test_features(features_test, generated_features)\n",
    "    predictions_test = reg.predict(features_test.copy())\n",
    "\n",
    "    SSE_model_test = sum((diagnosis_test - predictions_test)**2)\n",
    "    SSE_mean_test = sum((diagnosis_test - diagnosis.mean())**2)\n",
    "\n",
    "    OOS_R2 = 1 - SSE_model_test/SSE_mean_test\n",
    "\n",
    "    return IS_R2, OOS_R2"
   ],
   "metadata": {
    "collapsed": false,
    "pycharm": {
     "name": "#%%\n"
    }
   }
  },
  {
   "cell_type": "code",
   "execution_count": 13,
   "outputs": [
    {
     "name": "stdout",
     "output_type": "stream",
     "text": [
      "(features['grade'] < 0.708) & (features['lat'] >= -0.192) & (features['sqft_living'] < -0.059) & (features['sqft_living'] >= -0.689)\n",
      "(features['grade'] < 0.708) & (features['lat'] >= -0.192) & (features['sqft_living'] >= -0.059) & (features['waterfront'] < 5.524)\n",
      "(features['grade'] < 0.708) & (features['lat'] >= -0.192) & (features['sqft_living'] < -0.059) & (features['sqft_living'] < -0.689)\n",
      "(features['grade'] >= 0.708) & (features['sqft_living'] < 2.272) & (features['lat'] >= -0.315) & (features['yr_built'] >= 0.076)\n",
      "(features['grade'] < 0.708) & (features['lat'] < -0.192) & (features['sqft_living'] < -0.164) & (features['sqft_living'] < -0.702)\n",
      "(features['grade'] < 0.708) & (features['lat'] < -0.192) & (features['sqft_living'] < -0.164) & (features['sqft_living'] >= -0.702)\n",
      "(features['grade'] < 0.708) & (features['lat'] < -0.192) & (features['sqft_living'] >= -0.164) & (features['lat'] >= -1.056)\n",
      "(features['grade'] < 0.708) & (features['lat'] < -0.192) & (features['sqft_living'] >= -0.164) & (features['lat'] < -1.056)\n",
      "(features['grade'] >= 0.708) & (features['sqft_living'] < 2.272) & (features['lat'] < -0.315) & (features['waterfront'] < 5.524)\n",
      "(features['grade'] >= 0.708) & (features['sqft_living'] < 2.272) & (features['lat'] >= -0.315) & (features['yr_built'] < 0.076)\n",
      "(features['grade'] >= 0.708) & (features['sqft_living'] >= 2.272) & (features['sqft_living'] < 6.326) & (features['long'] >= 0.089)\n",
      "(features['grade'] >= 0.708) & (features['sqft_living'] >= 2.272) & (features['sqft_living'] < 6.326) & (features['long'] < 0.089)\n",
      "(features['grade'] >= 0.708) & (features['sqft_living'] < 2.272) & (features['lat'] < -0.315) & (features['waterfront'] >= 5.524)\n",
      "(features['grade'] < 0.708) & (features['lat'] >= -0.192) & (features['sqft_living'] >= -0.059) & (features['waterfront'] >= 5.524)\n",
      "(features['grade'] >= 0.708) & (features['sqft_living'] >= 2.272) & (features['sqft_living'] >= 6.326) & (features['long'] < 0.096)\n",
      "(features['grade'] >= 0.708) & (features['sqft_living'] >= 2.272) & (features['sqft_living'] >= 6.326) & (features['long'] >= 0.096)\n"
     ]
    },
    {
     "data": {
      "text/plain": "(0.7873962756735616, 0.7625679273365368)"
     },
     "execution_count": 13,
     "metadata": {},
     "output_type": "execute_result"
    }
   ],
   "source": [
    "reg_results(dt_df, features, diagnosis, features_test, diagnosis_test, gen= True)"
   ],
   "metadata": {
    "collapsed": false,
    "pycharm": {
     "name": "#%%\n"
    }
   }
  }
 ],
 "metadata": {
  "kernelspec": {
   "display_name": "Python 3",
   "language": "python",
   "name": "python3"
  },
  "language_info": {
   "codemirror_mode": {
    "name": "ipython",
    "version": 3
   },
   "file_extension": ".py",
   "mimetype": "text/x-python",
   "name": "python",
   "nbconvert_exporter": "python",
   "pygments_lexer": "ipython3",
   "version": "3.8.8"
  }
 },
 "nbformat": 4,
 "nbformat_minor": 5
}