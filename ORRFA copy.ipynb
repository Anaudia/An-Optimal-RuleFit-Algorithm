{
 "cells": [
  {
   "cell_type": "code",
   "execution_count": 3,
   "id": "2042e7c0",
   "metadata": {
    "pycharm": {
     "name": "#%%\n"
    }
   },
   "outputs": [
    {
     "name": "stderr",
     "output_type": "stream",
     "text": [
      "WARNING:root:This copy of Interpretable AI software is for academic purposes only and not for commercial use.\n"
     ]
    }
   ],
   "source": [
    "import numpy as np\n",
    "import matplotlib.pyplot as plt\n",
    "from ORRFA import *\n",
    "import interpretableai\n",
    "from interpretableai import iai\n",
    "import pandas as pd\n",
    "import json\n",
    "from HR import *"
   ]
  },
  {
   "cell_type": "code",
   "execution_count": 15,
   "outputs": [
    {
     "data": {
      "text/plain": "RangeIndex(start=0, stop=308, step=1)"
     },
     "execution_count": 15,
     "metadata": {},
     "output_type": "execute_result"
    }
   ],
   "source": [
    "dataset.index"
   ],
   "metadata": {
    "collapsed": false,
    "pycharm": {
     "name": "#%%\n"
    }
   }
  },
  {
   "cell_type": "code",
   "execution_count": 26,
   "outputs": [],
   "source": [
    "dataset = pd.read_csv(\"climate_change.csv\")\n",
    "\n",
    "train_idx = np.random.choice(a = np.arange(0, len(dataset)), size = int(0.6*len(dataset)))\n",
    "test_idx = [i for i in np.arange(0, len(dataset)) if i not in train_idx]\n",
    "\n",
    "features = dataset.loc[train_idx].iloc[:, :-2]\n",
    "diagnosis = dataset.loc[train_idx].iloc[:, -1]\n",
    "\n",
    "orig_features_size = features.copy().shape[1]"
   ],
   "metadata": {
    "collapsed": false,
    "pycharm": {
     "name": "#%%\n"
    }
   }
  },
  {
   "cell_type": "code",
   "execution_count": 28,
   "outputs": [
    {
     "name": "stdout",
     "output_type": "stream",
     "text": [
      "184\n",
      "178\n"
     ]
    }
   ],
   "source": [
    "print(len(train_idx))\n",
    "print(len(test_idx))"
   ],
   "metadata": {
    "collapsed": false,
    "pycharm": {
     "name": "#%%\n"
    }
   }
  },
  {
   "cell_type": "code",
   "execution_count": 23,
   "outputs": [],
   "source": [
    "features_test = dataset.loc[test_idx].iloc[:, :-2]\n",
    "diagnosis_test = dataset.loc[test_idx].iloc[:, -1]"
   ],
   "metadata": {
    "collapsed": false,
    "pycharm": {
     "name": "#%%\n"
    }
   }
  },
  {
   "cell_type": "code",
   "execution_count": 24,
   "outputs": [
    {
     "name": "stdout",
     "output_type": "stream",
     "text": [
      "308\n",
      "184\n",
      "170\n"
     ]
    }
   ],
   "source": [
    "print(len(dataset))\n",
    "print(len(features))\n",
    "print(len(features_test))"
   ],
   "metadata": {
    "collapsed": false,
    "pycharm": {
     "name": "#%%\n"
    }
   }
  },
  {
   "cell_type": "code",
   "execution_count": 5,
   "outputs": [
    {
     "data": {
      "text/plain": "     Year  Month    MEI     CO2      CH4      N2O   CFC_11   CFC_12        TSI\n54   1987     11  1.253  347.96  1716.57  306.393  239.588  433.915  1365.9837\n154  1996      3 -0.264  364.17  1769.70  311.828  269.482  528.589  1365.5815\n32   1986      1 -0.307  346.54  1675.82  305.775  218.382  396.082  1365.6746\n158  1996      7 -0.208  363.53  1747.03  311.481  268.803  528.804  1365.5968\n250  2004      3 -0.125  378.73  1807.48  318.198  254.712  543.008  1366.1272\n..    ...    ...    ...     ...      ...      ...      ...      ...        ...\n274  2006      3 -0.591  382.66  1786.77  319.902  250.155  540.952  1365.7850\n130  1994      3  0.159  359.91  1754.63  310.030  270.676  515.302  1366.0304\n243  2003      8  0.241  374.32  1773.56  317.703  255.889  542.529  1366.2744\n98   1991      7  1.011  356.12  1730.94  308.789  267.250  493.348  1366.6668\n38   1986      7  0.384  348.11  1682.79  306.672  224.236  402.711  1365.6509\n\n[184 rows x 9 columns]",
      "text/html": "<div>\n<style scoped>\n    .dataframe tbody tr th:only-of-type {\n        vertical-align: middle;\n    }\n\n    .dataframe tbody tr th {\n        vertical-align: top;\n    }\n\n    .dataframe thead th {\n        text-align: right;\n    }\n</style>\n<table border=\"1\" class=\"dataframe\">\n  <thead>\n    <tr style=\"text-align: right;\">\n      <th></th>\n      <th>Year</th>\n      <th>Month</th>\n      <th>MEI</th>\n      <th>CO2</th>\n      <th>CH4</th>\n      <th>N2O</th>\n      <th>CFC_11</th>\n      <th>CFC_12</th>\n      <th>TSI</th>\n    </tr>\n  </thead>\n  <tbody>\n    <tr>\n      <th>54</th>\n      <td>1987</td>\n      <td>11</td>\n      <td>1.253</td>\n      <td>347.96</td>\n      <td>1716.57</td>\n      <td>306.393</td>\n      <td>239.588</td>\n      <td>433.915</td>\n      <td>1365.9837</td>\n    </tr>\n    <tr>\n      <th>154</th>\n      <td>1996</td>\n      <td>3</td>\n      <td>-0.264</td>\n      <td>364.17</td>\n      <td>1769.70</td>\n      <td>311.828</td>\n      <td>269.482</td>\n      <td>528.589</td>\n      <td>1365.5815</td>\n    </tr>\n    <tr>\n      <th>32</th>\n      <td>1986</td>\n      <td>1</td>\n      <td>-0.307</td>\n      <td>346.54</td>\n      <td>1675.82</td>\n      <td>305.775</td>\n      <td>218.382</td>\n      <td>396.082</td>\n      <td>1365.6746</td>\n    </tr>\n    <tr>\n      <th>158</th>\n      <td>1996</td>\n      <td>7</td>\n      <td>-0.208</td>\n      <td>363.53</td>\n      <td>1747.03</td>\n      <td>311.481</td>\n      <td>268.803</td>\n      <td>528.804</td>\n      <td>1365.5968</td>\n    </tr>\n    <tr>\n      <th>250</th>\n      <td>2004</td>\n      <td>3</td>\n      <td>-0.125</td>\n      <td>378.73</td>\n      <td>1807.48</td>\n      <td>318.198</td>\n      <td>254.712</td>\n      <td>543.008</td>\n      <td>1366.1272</td>\n    </tr>\n    <tr>\n      <th>...</th>\n      <td>...</td>\n      <td>...</td>\n      <td>...</td>\n      <td>...</td>\n      <td>...</td>\n      <td>...</td>\n      <td>...</td>\n      <td>...</td>\n      <td>...</td>\n    </tr>\n    <tr>\n      <th>274</th>\n      <td>2006</td>\n      <td>3</td>\n      <td>-0.591</td>\n      <td>382.66</td>\n      <td>1786.77</td>\n      <td>319.902</td>\n      <td>250.155</td>\n      <td>540.952</td>\n      <td>1365.7850</td>\n    </tr>\n    <tr>\n      <th>130</th>\n      <td>1994</td>\n      <td>3</td>\n      <td>0.159</td>\n      <td>359.91</td>\n      <td>1754.63</td>\n      <td>310.030</td>\n      <td>270.676</td>\n      <td>515.302</td>\n      <td>1366.0304</td>\n    </tr>\n    <tr>\n      <th>243</th>\n      <td>2003</td>\n      <td>8</td>\n      <td>0.241</td>\n      <td>374.32</td>\n      <td>1773.56</td>\n      <td>317.703</td>\n      <td>255.889</td>\n      <td>542.529</td>\n      <td>1366.2744</td>\n    </tr>\n    <tr>\n      <th>98</th>\n      <td>1991</td>\n      <td>7</td>\n      <td>1.011</td>\n      <td>356.12</td>\n      <td>1730.94</td>\n      <td>308.789</td>\n      <td>267.250</td>\n      <td>493.348</td>\n      <td>1366.6668</td>\n    </tr>\n    <tr>\n      <th>38</th>\n      <td>1986</td>\n      <td>7</td>\n      <td>0.384</td>\n      <td>348.11</td>\n      <td>1682.79</td>\n      <td>306.672</td>\n      <td>224.236</td>\n      <td>402.711</td>\n      <td>1365.6509</td>\n    </tr>\n  </tbody>\n</table>\n<p>184 rows × 9 columns</p>\n</div>"
     },
     "execution_count": 5,
     "metadata": {},
     "output_type": "execute_result"
    }
   ],
   "source": [
    "features"
   ],
   "metadata": {
    "collapsed": false,
    "pycharm": {
     "name": "#%%\n"
    }
   }
  },
  {
   "cell_type": "code",
   "execution_count": null,
   "outputs": [],
   "source": [
    "def gen_features(sub_paths, data, features, orig_feature_size):\n",
    "    new_features = features.copy()\n",
    "    for path in sub_paths:\n",
    "        statement = gen_statement(path, data, features)\n",
    "        if statement != '(0 < 0.0)' and statement != '(0 >= 0.0)':\n",
    "\n",
    "            try:\n",
    "                index_feature = features.loc[eval(statement)].index\n",
    "\n",
    "\n",
    "                new_feature = [1 if i in index_feature else 0 for i in range(len(features))]\n",
    "\n",
    "                if sum(new_feature) >= 1:\n",
    "                    new_features[statement] = new_feature\n",
    "\n",
    "            except:\n",
    "                print(statement)\n",
    "    return new_features.iloc[:, orig_feature_size:]"
   ],
   "metadata": {
    "collapsed": false,
    "pycharm": {
     "name": "#%%\n"
    }
   }
  },
  {
   "cell_type": "code",
   "execution_count": null,
   "outputs": [],
   "source": [
    "np.random.seed(1)\n",
    "n = 5\n",
    "rules = {}\n",
    "for i in range(1,15):\n",
    "    #################\n",
    "    dataset = dataset.sample(n=int(n),axis='columns')\n",
    "    OCT_H = iai.GridSearch(\n",
    "          iai.OptimalTreeRegressor(\n",
    "              max_depth = 3, cp = 0.00000000001))\n",
    "\n",
    "    OCT_H.fit(features, diagnosis)\n",
    "    OCT_H.write_json(f\"tre_{i}.json\")\n",
    "\n",
    "    ######################\n",
    "    f = open(f\"tre_{i}.json\")\n",
    "    data = json.load(f)\n",
    "\n",
    "    paths = gen_paths(data)\n",
    "\n",
    "    rule_features_new = gen_features(\n",
    "            paths, data, features, orig_features_size)\n",
    "\n",
    "    rules[f\"tre_{i}\"] = rule_features_new\n",
    "\n",
    "    print(f\"Tree: {i}\")\n"
   ],
   "metadata": {
    "collapsed": false,
    "pycharm": {
     "name": "#%%\n"
    }
   }
  },
  {
   "cell_type": "code",
   "execution_count": null,
   "outputs": [],
   "source": [
    "features.columns"
   ],
   "metadata": {
    "collapsed": false,
    "pycharm": {
     "name": "#%%\n"
    }
   }
  },
  {
   "cell_type": "code",
   "execution_count": null,
   "outputs": [],
   "source": [
    "big_df = pd.DataFrame()\n",
    "for tree in rules.keys():\n",
    "\n",
    "    big_df = pd.concat([big_df, rules[tree]],axis =1)\n"
   ],
   "metadata": {
    "collapsed": false,
    "pycharm": {
     "name": "#%%\n"
    }
   }
  },
  {
   "cell_type": "code",
   "execution_count": null,
   "outputs": [],
   "source": [
    "df = big_df.loc[:,~big_df.columns.duplicated()].copy()"
   ],
   "metadata": {
    "collapsed": false,
    "pycharm": {
     "name": "#%%\n"
    }
   }
  },
  {
   "cell_type": "code",
   "execution_count": null,
   "outputs": [],
   "source": [
    "df"
   ],
   "metadata": {
    "collapsed": false,
    "pycharm": {
     "name": "#%%\n"
    }
   }
  },
  {
   "cell_type": "code",
   "execution_count": null,
   "outputs": [],
   "source": [
    "for column in df.columns[1:]:\n",
    "    if df[column].sum() == len(df):\n",
    "        del df[column]\n"
   ],
   "metadata": {
    "collapsed": false,
    "pycharm": {
     "name": "#%%\n"
    }
   }
  },
  {
   "cell_type": "code",
   "execution_count": null,
   "outputs": [],
   "source": [
    "df"
   ],
   "metadata": {
    "collapsed": false,
    "pycharm": {
     "name": "#%%\n"
    }
   }
  },
  {
   "cell_type": "code",
   "execution_count": null,
   "outputs": [],
   "source": [
    "features_for_robust_reg = df"
   ],
   "metadata": {
    "collapsed": false,
    "pycharm": {
     "name": "#%%\n"
    }
   }
  },
  {
   "cell_type": "code",
   "execution_count": null,
   "outputs": [],
   "source": [
    "rule_features = features_for_robust_reg.copy()\n",
    "features_for_robust_reg = pd.concat([features, features_for_robust_reg], axis = 1)"
   ],
   "metadata": {
    "collapsed": false,
    "pycharm": {
     "name": "#%%\n"
    }
   }
  },
  {
   "cell_type": "code",
   "execution_count": null,
   "outputs": [],
   "source": [
    "model = HolisticRobust(\n",
    "                       α = 0,\n",
    "                       ϵ = 0,\n",
    "                       r = 0.05,\n",
    "                       classifier = \"Linear\",\n",
    "                       learning_approach = \"HR\") # Could be ERM either"
   ],
   "metadata": {
    "collapsed": false,
    "pycharm": {
     "name": "#%%\n"
    }
   }
  },
  {
   "cell_type": "code",
   "execution_count": null,
   "outputs": [],
   "source": [
    "features.insert(loc = 0, column = 'Intecept', value = [1 for i in range(len(features_for_robust_reg))])"
   ],
   "metadata": {
    "collapsed": false,
    "pycharm": {
     "name": "#%%\n"
    }
   }
  },
  {
   "cell_type": "code",
   "execution_count": null,
   "outputs": [],
   "source": [
    "θ, obj_value = model.fit(ξ = (np.matrix(features_for_robust_reg), np.array(diagnosis)))"
   ],
   "metadata": {
    "collapsed": false,
    "pycharm": {
     "name": "#%%\n"
    }
   }
  },
  {
   "cell_type": "code",
   "execution_count": null,
   "outputs": [],
   "source": [
    "θ"
   ],
   "metadata": {
    "collapsed": false,
    "pycharm": {
     "name": "#%%\n"
    }
   }
  },
  {
   "cell_type": "code",
   "execution_count": null,
   "outputs": [],
   "source": [
    "predictions = np.multiply(θ, features_for_robust_reg\n",
    "                          ).sum(axis = 1)"
   ],
   "metadata": {
    "collapsed": false,
    "pycharm": {
     "name": "#%%\n"
    }
   }
  },
  {
   "cell_type": "code",
   "execution_count": null,
   "outputs": [],
   "source": [
    "plt.plot(diagnosis - predictions)"
   ],
   "metadata": {
    "collapsed": false,
    "pycharm": {
     "name": "#%%\n"
    }
   }
  },
  {
   "cell_type": "code",
   "execution_count": null,
   "outputs": [],
   "source": [
    "(diagnosis - predictions).describe()"
   ],
   "metadata": {
    "collapsed": false,
    "pycharm": {
     "name": "#%%\n"
    }
   }
  },
  {
   "cell_type": "code",
   "execution_count": null,
   "outputs": [],
   "source": [
    "SSE_model = sum((diagnosis - predictions)**2)\n",
    "SSE_mean = sum((diagnosis - diagnosis.mean())**2)\n",
    "\n",
    "1 - SSE_model/SSE_mean"
   ],
   "metadata": {
    "collapsed": false,
    "pycharm": {
     "name": "#%%\n"
    }
   }
  },
  {
   "cell_type": "code",
   "execution_count": null,
   "outputs": [],
   "source": [
    "features['CFC_12'].describe()"
   ],
   "metadata": {
    "collapsed": false,
    "pycharm": {
     "name": "#%%\n"
    }
   }
  },
  {
   "cell_type": "code",
   "execution_count": null,
   "outputs": [],
   "source": [
    "features"
   ],
   "metadata": {
    "collapsed": false,
    "pycharm": {
     "name": "#%%\n"
    }
   }
  },
  {
   "cell_type": "code",
   "execution_count": null,
   "outputs": [],
   "source": [
    "rule_features"
   ],
   "metadata": {
    "collapsed": false,
    "pycharm": {
     "name": "#%%\n"
    }
   }
  },
  {
   "cell_type": "code",
   "execution_count": null,
   "outputs": [],
   "source": [
    "features = features_test\n",
    "\n",
    "for rule in rule_features.columns:\n",
    "\n",
    "    index_feature = features.loc[eval(rule)].index\n",
    "\n",
    "    new_feature = [1 if i in index_feature else 0 for i in range(len(features))]\n",
    "\n",
    "    if sum(new_feature) >= 1:\n",
    "        features[rule] = new_feature\n"
   ],
   "metadata": {
    "collapsed": false,
    "pycharm": {
     "name": "#%%\n"
    }
   }
  },
  {
   "cell_type": "code",
   "execution_count": null,
   "outputs": [],
   "source": [
    "features"
   ],
   "metadata": {
    "collapsed": false,
    "pycharm": {
     "name": "#%%\n"
    }
   }
  },
  {
   "cell_type": "code",
   "execution_count": null,
   "outputs": [],
   "source": [
    "θ"
   ],
   "metadata": {
    "collapsed": false,
    "pycharm": {
     "name": "#%%\n"
    }
   }
  }
 ],
 "metadata": {
  "kernelspec": {
   "display_name": "Python 3",
   "language": "python",
   "name": "python3"
  },
  "language_info": {
   "codemirror_mode": {
    "name": "ipython",
    "version": 3
   },
   "file_extension": ".py",
   "mimetype": "text/x-python",
   "name": "python",
   "nbconvert_exporter": "python",
   "pygments_lexer": "ipython3",
   "version": "3.8.8"
  }
 },
 "nbformat": 4,
 "nbformat_minor": 5
}