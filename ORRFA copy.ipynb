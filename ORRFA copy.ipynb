{
 "cells": [
  {
   "cell_type": "code",
   "execution_count": 3,
   "outputs": [],
   "source": [
    "from sklearn import linear_model\n",
    "clf = linear_model.Lasso(alpha=0.1)\n",
    "import pandas as pd\n",
    "data = pd.read_csv(\"/Users/ryanlucas/Desktop/data.txt\")"
   ],
   "metadata": {
    "collapsed": false,
    "pycharm": {
     "name": "#%%\n"
    }
   }
  },
  {
   "cell_type": "code",
   "execution_count": 4,
   "outputs": [
    {
     "data": {
      "text/plain": "    1.5810828331998978  0.5181222720002643  -0.9724619671119519  \\\n0             1.328935            1.736949             0.675889   \n1             0.377654            1.840704            -0.140614   \n2            -0.290730           -0.044641            -1.363276   \n3             1.633586           -0.249231            -1.735773   \n4             0.330985            0.313981            -0.860506   \n..                 ...                 ...                  ...   \n84           -0.518251           -0.343130             0.091291   \n85            0.041832           -0.268757            -0.080500   \n86           -0.782798           -0.218260            -0.729230   \n87            0.564503           -2.497466            -0.236964   \n88            0.400470            1.343463            -0.287076   \n\n    -0.32342100799057877  0.47856330188058094  0.7435985127930044  \\\n0               0.567583            -0.101260            0.217088   \n1               0.367754             0.131778           -0.176613   \n2              -0.793950             1.819112            0.197916   \n3               0.650323             1.686891           -0.681422   \n4              -0.625785            -0.916029           -0.934823   \n..                   ...                  ...                 ...   \n84              1.523779            -0.272264           -2.282331   \n85              2.073282             1.506978           -1.436940   \n86             -0.426695             0.497233            1.100274   \n87             -1.002636             1.650769            1.365555   \n88              1.208611            -0.358810            0.516680   \n\n    -1.0607809713068257  2.1224598038535203  -1.5581608855904352  \\\n0             -1.592356            0.128115            -0.451030   \n1              1.105349            0.604389            -0.381893   \n2             -1.594159           -1.094550            -2.826405   \n3             -1.492028           -1.631804             2.244545   \n4              0.758511            0.743869             1.528070   \n..                  ...                 ...                  ...   \n84            -0.339932           -1.299950            -0.646003   \n85             0.992781           -0.117167             1.997805   \n86             1.943464           -0.213494             0.360126   \n87             0.604733            0.109810             0.720042   \n88            -0.916815           -0.702546            -0.981154   \n\n    0.1736493189058492  ...  -0.3736140530934856  0.7042752305182134  \\\n0             0.854869  ...             0.418536            0.276344   \n1            -0.295357  ...             0.175379            1.303525   \n2            -0.655794  ...            -0.192565           -0.430415   \n3             1.191309  ...             0.771603           -0.745338   \n4            -0.511445  ...             0.852436            2.253527   \n..                 ...  ...                  ...                 ...   \n84           -1.983175  ...            -0.004744           -1.264818   \n85            0.947465  ...             0.040492            1.127498   \n86            0.195712  ...            -0.247535            0.019216   \n87           -0.167974  ...            -0.897618            0.398705   \n88           -1.409847  ...             1.168207            0.155807   \n\n    0.2272449723604331  -0.2127758762564793  0.6823385093076252  \\\n0            -1.050303            -0.113453           -0.769808   \n1            -0.471133            -0.748301            0.815985   \n2            -1.037553             0.409512           -0.250785   \n3             0.486279             2.619114           -0.648765   \n4             1.927473             0.106675           -3.212478   \n..                 ...                  ...                 ...   \n84           -2.018103            -1.672932           -0.630974   \n85            0.721117            -1.060879           -0.187579   \n86           -0.501547            -1.135792           -0.439500   \n87           -0.817448             0.640784            1.376505   \n88           -0.786981            -0.320640           -2.063562   \n\n    1.4153517223415064  0.7107040640427342  -1.4857154060395186  \\\n0            -0.643433           -0.922782            -0.153880   \n1            -0.909829            1.204626             1.398996   \n2            -0.828050           -0.761137            -0.831513   \n3             1.210504           -0.843763             0.576016   \n4             0.168696           -0.980612             0.995624   \n..                 ...                 ...                  ...   \n84            0.061483           -1.623576             1.763488   \n85           -0.902769           -0.815610            -0.509818   \n86           -0.706640           -0.345455             0.290259   \n87            0.548685            0.029814             0.454588   \n88            1.345609           -1.567425            -0.989730   \n\n    -2.061954017284855  -0.7587113445695803  \n0             0.044548             0.364653  \n1             0.235063             1.584296  \n2             0.017991            -1.257538  \n3             0.676923            -0.225019  \n4            -0.863955            -0.412397  \n..                 ...                  ...  \n84            0.476946            -1.740404  \n85            0.096542             0.749138  \n86            0.572359            -0.074525  \n87           -0.096630            -0.354064  \n88            0.002981             0.527111  \n\n[89 rows x 51 columns]",
      "text/html": "<div>\n<style scoped>\n    .dataframe tbody tr th:only-of-type {\n        vertical-align: middle;\n    }\n\n    .dataframe tbody tr th {\n        vertical-align: top;\n    }\n\n    .dataframe thead th {\n        text-align: right;\n    }\n</style>\n<table border=\"1\" class=\"dataframe\">\n  <thead>\n    <tr style=\"text-align: right;\">\n      <th></th>\n      <th>1.5810828331998978</th>\n      <th>0.5181222720002643</th>\n      <th>-0.9724619671119519</th>\n      <th>-0.32342100799057877</th>\n      <th>0.47856330188058094</th>\n      <th>0.7435985127930044</th>\n      <th>-1.0607809713068257</th>\n      <th>2.1224598038535203</th>\n      <th>-1.5581608855904352</th>\n      <th>0.1736493189058492</th>\n      <th>...</th>\n      <th>-0.3736140530934856</th>\n      <th>0.7042752305182134</th>\n      <th>0.2272449723604331</th>\n      <th>-0.2127758762564793</th>\n      <th>0.6823385093076252</th>\n      <th>1.4153517223415064</th>\n      <th>0.7107040640427342</th>\n      <th>-1.4857154060395186</th>\n      <th>-2.061954017284855</th>\n      <th>-0.7587113445695803</th>\n    </tr>\n  </thead>\n  <tbody>\n    <tr>\n      <th>0</th>\n      <td>1.328935</td>\n      <td>1.736949</td>\n      <td>0.675889</td>\n      <td>0.567583</td>\n      <td>-0.101260</td>\n      <td>0.217088</td>\n      <td>-1.592356</td>\n      <td>0.128115</td>\n      <td>-0.451030</td>\n      <td>0.854869</td>\n      <td>...</td>\n      <td>0.418536</td>\n      <td>0.276344</td>\n      <td>-1.050303</td>\n      <td>-0.113453</td>\n      <td>-0.769808</td>\n      <td>-0.643433</td>\n      <td>-0.922782</td>\n      <td>-0.153880</td>\n      <td>0.044548</td>\n      <td>0.364653</td>\n    </tr>\n    <tr>\n      <th>1</th>\n      <td>0.377654</td>\n      <td>1.840704</td>\n      <td>-0.140614</td>\n      <td>0.367754</td>\n      <td>0.131778</td>\n      <td>-0.176613</td>\n      <td>1.105349</td>\n      <td>0.604389</td>\n      <td>-0.381893</td>\n      <td>-0.295357</td>\n      <td>...</td>\n      <td>0.175379</td>\n      <td>1.303525</td>\n      <td>-0.471133</td>\n      <td>-0.748301</td>\n      <td>0.815985</td>\n      <td>-0.909829</td>\n      <td>1.204626</td>\n      <td>1.398996</td>\n      <td>0.235063</td>\n      <td>1.584296</td>\n    </tr>\n    <tr>\n      <th>2</th>\n      <td>-0.290730</td>\n      <td>-0.044641</td>\n      <td>-1.363276</td>\n      <td>-0.793950</td>\n      <td>1.819112</td>\n      <td>0.197916</td>\n      <td>-1.594159</td>\n      <td>-1.094550</td>\n      <td>-2.826405</td>\n      <td>-0.655794</td>\n      <td>...</td>\n      <td>-0.192565</td>\n      <td>-0.430415</td>\n      <td>-1.037553</td>\n      <td>0.409512</td>\n      <td>-0.250785</td>\n      <td>-0.828050</td>\n      <td>-0.761137</td>\n      <td>-0.831513</td>\n      <td>0.017991</td>\n      <td>-1.257538</td>\n    </tr>\n    <tr>\n      <th>3</th>\n      <td>1.633586</td>\n      <td>-0.249231</td>\n      <td>-1.735773</td>\n      <td>0.650323</td>\n      <td>1.686891</td>\n      <td>-0.681422</td>\n      <td>-1.492028</td>\n      <td>-1.631804</td>\n      <td>2.244545</td>\n      <td>1.191309</td>\n      <td>...</td>\n      <td>0.771603</td>\n      <td>-0.745338</td>\n      <td>0.486279</td>\n      <td>2.619114</td>\n      <td>-0.648765</td>\n      <td>1.210504</td>\n      <td>-0.843763</td>\n      <td>0.576016</td>\n      <td>0.676923</td>\n      <td>-0.225019</td>\n    </tr>\n    <tr>\n      <th>4</th>\n      <td>0.330985</td>\n      <td>0.313981</td>\n      <td>-0.860506</td>\n      <td>-0.625785</td>\n      <td>-0.916029</td>\n      <td>-0.934823</td>\n      <td>0.758511</td>\n      <td>0.743869</td>\n      <td>1.528070</td>\n      <td>-0.511445</td>\n      <td>...</td>\n      <td>0.852436</td>\n      <td>2.253527</td>\n      <td>1.927473</td>\n      <td>0.106675</td>\n      <td>-3.212478</td>\n      <td>0.168696</td>\n      <td>-0.980612</td>\n      <td>0.995624</td>\n      <td>-0.863955</td>\n      <td>-0.412397</td>\n    </tr>\n    <tr>\n      <th>...</th>\n      <td>...</td>\n      <td>...</td>\n      <td>...</td>\n      <td>...</td>\n      <td>...</td>\n      <td>...</td>\n      <td>...</td>\n      <td>...</td>\n      <td>...</td>\n      <td>...</td>\n      <td>...</td>\n      <td>...</td>\n      <td>...</td>\n      <td>...</td>\n      <td>...</td>\n      <td>...</td>\n      <td>...</td>\n      <td>...</td>\n      <td>...</td>\n      <td>...</td>\n      <td>...</td>\n    </tr>\n    <tr>\n      <th>84</th>\n      <td>-0.518251</td>\n      <td>-0.343130</td>\n      <td>0.091291</td>\n      <td>1.523779</td>\n      <td>-0.272264</td>\n      <td>-2.282331</td>\n      <td>-0.339932</td>\n      <td>-1.299950</td>\n      <td>-0.646003</td>\n      <td>-1.983175</td>\n      <td>...</td>\n      <td>-0.004744</td>\n      <td>-1.264818</td>\n      <td>-2.018103</td>\n      <td>-1.672932</td>\n      <td>-0.630974</td>\n      <td>0.061483</td>\n      <td>-1.623576</td>\n      <td>1.763488</td>\n      <td>0.476946</td>\n      <td>-1.740404</td>\n    </tr>\n    <tr>\n      <th>85</th>\n      <td>0.041832</td>\n      <td>-0.268757</td>\n      <td>-0.080500</td>\n      <td>2.073282</td>\n      <td>1.506978</td>\n      <td>-1.436940</td>\n      <td>0.992781</td>\n      <td>-0.117167</td>\n      <td>1.997805</td>\n      <td>0.947465</td>\n      <td>...</td>\n      <td>0.040492</td>\n      <td>1.127498</td>\n      <td>0.721117</td>\n      <td>-1.060879</td>\n      <td>-0.187579</td>\n      <td>-0.902769</td>\n      <td>-0.815610</td>\n      <td>-0.509818</td>\n      <td>0.096542</td>\n      <td>0.749138</td>\n    </tr>\n    <tr>\n      <th>86</th>\n      <td>-0.782798</td>\n      <td>-0.218260</td>\n      <td>-0.729230</td>\n      <td>-0.426695</td>\n      <td>0.497233</td>\n      <td>1.100274</td>\n      <td>1.943464</td>\n      <td>-0.213494</td>\n      <td>0.360126</td>\n      <td>0.195712</td>\n      <td>...</td>\n      <td>-0.247535</td>\n      <td>0.019216</td>\n      <td>-0.501547</td>\n      <td>-1.135792</td>\n      <td>-0.439500</td>\n      <td>-0.706640</td>\n      <td>-0.345455</td>\n      <td>0.290259</td>\n      <td>0.572359</td>\n      <td>-0.074525</td>\n    </tr>\n    <tr>\n      <th>87</th>\n      <td>0.564503</td>\n      <td>-2.497466</td>\n      <td>-0.236964</td>\n      <td>-1.002636</td>\n      <td>1.650769</td>\n      <td>1.365555</td>\n      <td>0.604733</td>\n      <td>0.109810</td>\n      <td>0.720042</td>\n      <td>-0.167974</td>\n      <td>...</td>\n      <td>-0.897618</td>\n      <td>0.398705</td>\n      <td>-0.817448</td>\n      <td>0.640784</td>\n      <td>1.376505</td>\n      <td>0.548685</td>\n      <td>0.029814</td>\n      <td>0.454588</td>\n      <td>-0.096630</td>\n      <td>-0.354064</td>\n    </tr>\n    <tr>\n      <th>88</th>\n      <td>0.400470</td>\n      <td>1.343463</td>\n      <td>-0.287076</td>\n      <td>1.208611</td>\n      <td>-0.358810</td>\n      <td>0.516680</td>\n      <td>-0.916815</td>\n      <td>-0.702546</td>\n      <td>-0.981154</td>\n      <td>-1.409847</td>\n      <td>...</td>\n      <td>1.168207</td>\n      <td>0.155807</td>\n      <td>-0.786981</td>\n      <td>-0.320640</td>\n      <td>-2.063562</td>\n      <td>1.345609</td>\n      <td>-1.567425</td>\n      <td>-0.989730</td>\n      <td>0.002981</td>\n      <td>0.527111</td>\n    </tr>\n  </tbody>\n</table>\n<p>89 rows × 51 columns</p>\n</div>"
     },
     "execution_count": 4,
     "metadata": {},
     "output_type": "execute_result"
    }
   ],
   "source": [
    "data"
   ],
   "metadata": {
    "collapsed": false,
    "pycharm": {
     "name": "#%%\n"
    }
   }
  },
  {
   "cell_type": "code",
   "execution_count": 3,
   "id": "2042e7c0",
   "metadata": {
    "pycharm": {
     "name": "#%%\n"
    }
   },
   "outputs": [
    {
     "name": "stderr",
     "output_type": "stream",
     "text": [
      "WARNING:root:This copy of Interpretable AI software is for academic purposes only and not for commercial use.\n"
     ]
    }
   ],
   "source": [
    "import numpy as np\n",
    "import matplotlib.pyplot as plt\n",
    "from ORRFA import *\n",
    "import interpretableai\n",
    "from interpretableai import iai\n",
    "import pandas as pd\n",
    "import json\n",
    "from HR import *"
   ]
  },
  {
   "cell_type": "code",
   "execution_count": 15,
   "outputs": [
    {
     "data": {
      "text/plain": "RangeIndex(start=0, stop=308, step=1)"
     },
     "execution_count": 15,
     "metadata": {},
     "output_type": "execute_result"
    }
   ],
   "source": [
    "dataset.index"
   ],
   "metadata": {
    "collapsed": false,
    "pycharm": {
     "name": "#%%\n"
    }
   }
  },
  {
   "cell_type": "code",
   "execution_count": 26,
   "outputs": [],
   "source": [
    "dataset = pd.read_csv(\"climate_change.csv\")\n",
    "\n",
    "train_idx = np.random.choice(a = np.arange(0, len(dataset)), size = int(0.6*len(dataset)))\n",
    "test_idx = [i for i in np.arange(0, len(dataset)) if i not in train_idx]\n",
    "\n",
    "features = dataset.loc[train_idx].iloc[:, :-2]\n",
    "diagnosis = dataset.loc[train_idx].iloc[:, -1]\n",
    "\n",
    "orig_features_size = features.copy().shape[1]"
   ],
   "metadata": {
    "collapsed": false,
    "pycharm": {
     "name": "#%%\n"
    }
   }
  },
  {
   "cell_type": "code",
   "execution_count": 28,
   "outputs": [
    {
     "name": "stdout",
     "output_type": "stream",
     "text": [
      "184\n",
      "178\n"
     ]
    }
   ],
   "source": [
    "print(len(train_idx))\n",
    "print(len(test_idx))"
   ],
   "metadata": {
    "collapsed": false,
    "pycharm": {
     "name": "#%%\n"
    }
   }
  },
  {
   "cell_type": "code",
   "execution_count": 23,
   "outputs": [],
   "source": [
    "features_test = dataset.loc[test_idx].iloc[:, :-2]\n",
    "diagnosis_test = dataset.loc[test_idx].iloc[:, -1]"
   ],
   "metadata": {
    "collapsed": false,
    "pycharm": {
     "name": "#%%\n"
    }
   }
  },
  {
   "cell_type": "code",
   "execution_count": 24,
   "outputs": [
    {
     "name": "stdout",
     "output_type": "stream",
     "text": [
      "308\n",
      "184\n",
      "170\n"
     ]
    }
   ],
   "source": [
    "print(len(dataset))\n",
    "print(len(features))\n",
    "print(len(features_test))"
   ],
   "metadata": {
    "collapsed": false,
    "pycharm": {
     "name": "#%%\n"
    }
   }
  },
  {
   "cell_type": "code",
   "execution_count": 5,
   "outputs": [
    {
     "data": {
      "text/plain": "     Year  Month    MEI     CO2      CH4      N2O   CFC_11   CFC_12        TSI\n54   1987     11  1.253  347.96  1716.57  306.393  239.588  433.915  1365.9837\n154  1996      3 -0.264  364.17  1769.70  311.828  269.482  528.589  1365.5815\n32   1986      1 -0.307  346.54  1675.82  305.775  218.382  396.082  1365.6746\n158  1996      7 -0.208  363.53  1747.03  311.481  268.803  528.804  1365.5968\n250  2004      3 -0.125  378.73  1807.48  318.198  254.712  543.008  1366.1272\n..    ...    ...    ...     ...      ...      ...      ...      ...        ...\n274  2006      3 -0.591  382.66  1786.77  319.902  250.155  540.952  1365.7850\n130  1994      3  0.159  359.91  1754.63  310.030  270.676  515.302  1366.0304\n243  2003      8  0.241  374.32  1773.56  317.703  255.889  542.529  1366.2744\n98   1991      7  1.011  356.12  1730.94  308.789  267.250  493.348  1366.6668\n38   1986      7  0.384  348.11  1682.79  306.672  224.236  402.711  1365.6509\n\n[184 rows x 9 columns]",
      "text/html": "<div>\n<style scoped>\n    .dataframe tbody tr th:only-of-type {\n        vertical-align: middle;\n    }\n\n    .dataframe tbody tr th {\n        vertical-align: top;\n    }\n\n    .dataframe thead th {\n        text-align: right;\n    }\n</style>\n<table border=\"1\" class=\"dataframe\">\n  <thead>\n    <tr style=\"text-align: right;\">\n      <th></th>\n      <th>Year</th>\n      <th>Month</th>\n      <th>MEI</th>\n      <th>CO2</th>\n      <th>CH4</th>\n      <th>N2O</th>\n      <th>CFC_11</th>\n      <th>CFC_12</th>\n      <th>TSI</th>\n    </tr>\n  </thead>\n  <tbody>\n    <tr>\n      <th>54</th>\n      <td>1987</td>\n      <td>11</td>\n      <td>1.253</td>\n      <td>347.96</td>\n      <td>1716.57</td>\n      <td>306.393</td>\n      <td>239.588</td>\n      <td>433.915</td>\n      <td>1365.9837</td>\n    </tr>\n    <tr>\n      <th>154</th>\n      <td>1996</td>\n      <td>3</td>\n      <td>-0.264</td>\n      <td>364.17</td>\n      <td>1769.70</td>\n      <td>311.828</td>\n      <td>269.482</td>\n      <td>528.589</td>\n      <td>1365.5815</td>\n    </tr>\n    <tr>\n      <th>32</th>\n      <td>1986</td>\n      <td>1</td>\n      <td>-0.307</td>\n      <td>346.54</td>\n      <td>1675.82</td>\n      <td>305.775</td>\n      <td>218.382</td>\n      <td>396.082</td>\n      <td>1365.6746</td>\n    </tr>\n    <tr>\n      <th>158</th>\n      <td>1996</td>\n      <td>7</td>\n      <td>-0.208</td>\n      <td>363.53</td>\n      <td>1747.03</td>\n      <td>311.481</td>\n      <td>268.803</td>\n      <td>528.804</td>\n      <td>1365.5968</td>\n    </tr>\n    <tr>\n      <th>250</th>\n      <td>2004</td>\n      <td>3</td>\n      <td>-0.125</td>\n      <td>378.73</td>\n      <td>1807.48</td>\n      <td>318.198</td>\n      <td>254.712</td>\n      <td>543.008</td>\n      <td>1366.1272</td>\n    </tr>\n    <tr>\n      <th>...</th>\n      <td>...</td>\n      <td>...</td>\n      <td>...</td>\n      <td>...</td>\n      <td>...</td>\n      <td>...</td>\n      <td>...</td>\n      <td>...</td>\n      <td>...</td>\n    </tr>\n    <tr>\n      <th>274</th>\n      <td>2006</td>\n      <td>3</td>\n      <td>-0.591</td>\n      <td>382.66</td>\n      <td>1786.77</td>\n      <td>319.902</td>\n      <td>250.155</td>\n      <td>540.952</td>\n      <td>1365.7850</td>\n    </tr>\n    <tr>\n      <th>130</th>\n      <td>1994</td>\n      <td>3</td>\n      <td>0.159</td>\n      <td>359.91</td>\n      <td>1754.63</td>\n      <td>310.030</td>\n      <td>270.676</td>\n      <td>515.302</td>\n      <td>1366.0304</td>\n    </tr>\n    <tr>\n      <th>243</th>\n      <td>2003</td>\n      <td>8</td>\n      <td>0.241</td>\n      <td>374.32</td>\n      <td>1773.56</td>\n      <td>317.703</td>\n      <td>255.889</td>\n      <td>542.529</td>\n      <td>1366.2744</td>\n    </tr>\n    <tr>\n      <th>98</th>\n      <td>1991</td>\n      <td>7</td>\n      <td>1.011</td>\n      <td>356.12</td>\n      <td>1730.94</td>\n      <td>308.789</td>\n      <td>267.250</td>\n      <td>493.348</td>\n      <td>1366.6668</td>\n    </tr>\n    <tr>\n      <th>38</th>\n      <td>1986</td>\n      <td>7</td>\n      <td>0.384</td>\n      <td>348.11</td>\n      <td>1682.79</td>\n      <td>306.672</td>\n      <td>224.236</td>\n      <td>402.711</td>\n      <td>1365.6509</td>\n    </tr>\n  </tbody>\n</table>\n<p>184 rows × 9 columns</p>\n</div>"
     },
     "execution_count": 5,
     "metadata": {},
     "output_type": "execute_result"
    }
   ],
   "source": [
    "features"
   ],
   "metadata": {
    "collapsed": false,
    "pycharm": {
     "name": "#%%\n"
    }
   }
  },
  {
   "cell_type": "code",
   "execution_count": null,
   "outputs": [],
   "source": [
    "def gen_features(sub_paths, data, features, orig_feature_size):\n",
    "    new_features = features.copy()\n",
    "    for path in sub_paths:\n",
    "        statement = gen_statement(path, data, features)\n",
    "        if statement != '(0 < 0.0)' and statement != '(0 >= 0.0)':\n",
    "\n",
    "            try:\n",
    "                index_feature = features.loc[eval(statement)].index\n",
    "\n",
    "\n",
    "                new_feature = [1 if i in index_feature else 0 for i in range(len(features))]\n",
    "\n",
    "                if sum(new_feature) >= 1:\n",
    "                    new_features[statement] = new_feature\n",
    "\n",
    "            except:\n",
    "                print(statement)\n",
    "    return new_features.iloc[:, orig_feature_size:]"
   ],
   "metadata": {
    "collapsed": false,
    "pycharm": {
     "name": "#%%\n"
    }
   }
  },
  {
   "cell_type": "code",
   "execution_count": null,
   "outputs": [],
   "source": [
    "np.random.seed(1)\n",
    "n = 5\n",
    "rules = {}\n",
    "for i in range(1,15):\n",
    "    #################\n",
    "    dataset = dataset.sample(n=int(n),axis='columns')\n",
    "    OCT_H = iai.GridSearch(\n",
    "          iai.OptimalTreeRegressor(\n",
    "              max_depth = 3, cp = 0.00000000001))\n",
    "\n",
    "    OCT_H.fit(features, diagnosis)\n",
    "    OCT_H.write_json(f\"tre_{i}.json\")\n",
    "\n",
    "    ######################\n",
    "    f = open(f\"tre_{i}.json\")\n",
    "    data = json.load(f)\n",
    "\n",
    "    paths = gen_paths(data)\n",
    "\n",
    "    rule_features_new = gen_features(\n",
    "            paths, data, features, orig_features_size)\n",
    "\n",
    "    rules[f\"tre_{i}\"] = rule_features_new\n",
    "\n",
    "    print(f\"Tree: {i}\")\n"
   ],
   "metadata": {
    "collapsed": false,
    "pycharm": {
     "name": "#%%\n"
    }
   }
  },
  {
   "cell_type": "code",
   "execution_count": null,
   "outputs": [],
   "source": [
    "features.columns"
   ],
   "metadata": {
    "collapsed": false,
    "pycharm": {
     "name": "#%%\n"
    }
   }
  },
  {
   "cell_type": "code",
   "execution_count": null,
   "outputs": [],
   "source": [
    "big_df = pd.DataFrame()\n",
    "for tree in rules.keys():\n",
    "\n",
    "    big_df = pd.concat([big_df, rules[tree]],axis =1)\n"
   ],
   "metadata": {
    "collapsed": false,
    "pycharm": {
     "name": "#%%\n"
    }
   }
  },
  {
   "cell_type": "code",
   "execution_count": null,
   "outputs": [],
   "source": [
    "df = big_df.loc[:,~big_df.columns.duplicated()].copy()"
   ],
   "metadata": {
    "collapsed": false,
    "pycharm": {
     "name": "#%%\n"
    }
   }
  },
  {
   "cell_type": "code",
   "execution_count": null,
   "outputs": [],
   "source": [
    "df"
   ],
   "metadata": {
    "collapsed": false,
    "pycharm": {
     "name": "#%%\n"
    }
   }
  },
  {
   "cell_type": "code",
   "execution_count": null,
   "outputs": [],
   "source": [
    "for column in df.columns[1:]:\n",
    "    if df[column].sum() == len(df):\n",
    "        del df[column]\n"
   ],
   "metadata": {
    "collapsed": false,
    "pycharm": {
     "name": "#%%\n"
    }
   }
  },
  {
   "cell_type": "code",
   "execution_count": null,
   "outputs": [],
   "source": [
    "df"
   ],
   "metadata": {
    "collapsed": false,
    "pycharm": {
     "name": "#%%\n"
    }
   }
  },
  {
   "cell_type": "code",
   "execution_count": null,
   "outputs": [],
   "source": [
    "features_for_robust_reg = df"
   ],
   "metadata": {
    "collapsed": false,
    "pycharm": {
     "name": "#%%\n"
    }
   }
  },
  {
   "cell_type": "code",
   "execution_count": null,
   "outputs": [],
   "source": [
    "rule_features = features_for_robust_reg.copy()\n",
    "features_for_robust_reg = pd.concat([features, features_for_robust_reg], axis = 1)"
   ],
   "metadata": {
    "collapsed": false,
    "pycharm": {
     "name": "#%%\n"
    }
   }
  },
  {
   "cell_type": "code",
   "execution_count": null,
   "outputs": [],
   "source": [
    "model = HolisticRobust(\n",
    "                       α = 0,\n",
    "                       ϵ = 0,\n",
    "                       r = 0.05,\n",
    "                       classifier = \"Linear\",\n",
    "                       learning_approach = \"HR\") # Could be ERM either"
   ],
   "metadata": {
    "collapsed": false,
    "pycharm": {
     "name": "#%%\n"
    }
   }
  },
  {
   "cell_type": "code",
   "execution_count": null,
   "outputs": [],
   "source": [
    "features.insert(loc = 0, column = 'Intecept', value = [1 for i in range(len(features_for_robust_reg))])"
   ],
   "metadata": {
    "collapsed": false,
    "pycharm": {
     "name": "#%%\n"
    }
   }
  },
  {
   "cell_type": "code",
   "execution_count": null,
   "outputs": [],
   "source": [
    "θ, obj_value = model.fit(ξ = (np.matrix(features_for_robust_reg), np.array(diagnosis)))"
   ],
   "metadata": {
    "collapsed": false,
    "pycharm": {
     "name": "#%%\n"
    }
   }
  },
  {
   "cell_type": "code",
   "execution_count": null,
   "outputs": [],
   "source": [
    "θ"
   ],
   "metadata": {
    "collapsed": false,
    "pycharm": {
     "name": "#%%\n"
    }
   }
  },
  {
   "cell_type": "code",
   "execution_count": null,
   "outputs": [],
   "source": [
    "predictions = np.multiply(θ, features_for_robust_reg\n",
    "                          ).sum(axis = 1)"
   ],
   "metadata": {
    "collapsed": false,
    "pycharm": {
     "name": "#%%\n"
    }
   }
  },
  {
   "cell_type": "code",
   "execution_count": null,
   "outputs": [],
   "source": [
    "plt.plot(diagnosis - predictions)"
   ],
   "metadata": {
    "collapsed": false,
    "pycharm": {
     "name": "#%%\n"
    }
   }
  },
  {
   "cell_type": "code",
   "execution_count": null,
   "outputs": [],
   "source": [
    "(diagnosis - predictions).describe()"
   ],
   "metadata": {
    "collapsed": false,
    "pycharm": {
     "name": "#%%\n"
    }
   }
  },
  {
   "cell_type": "code",
   "execution_count": null,
   "outputs": [],
   "source": [
    "SSE_model = sum((diagnosis - predictions)**2)\n",
    "SSE_mean = sum((diagnosis - diagnosis.mean())**2)\n",
    "\n",
    "1 - SSE_model/SSE_mean"
   ],
   "metadata": {
    "collapsed": false,
    "pycharm": {
     "name": "#%%\n"
    }
   }
  },
  {
   "cell_type": "code",
   "execution_count": null,
   "outputs": [],
   "source": [
    "features['CFC_12'].describe()"
   ],
   "metadata": {
    "collapsed": false,
    "pycharm": {
     "name": "#%%\n"
    }
   }
  },
  {
   "cell_type": "code",
   "execution_count": null,
   "outputs": [],
   "source": [
    "features"
   ],
   "metadata": {
    "collapsed": false,
    "pycharm": {
     "name": "#%%\n"
    }
   }
  },
  {
   "cell_type": "code",
   "execution_count": null,
   "outputs": [],
   "source": [
    "rule_features"
   ],
   "metadata": {
    "collapsed": false,
    "pycharm": {
     "name": "#%%\n"
    }
   }
  },
  {
   "cell_type": "code",
   "execution_count": null,
   "outputs": [],
   "source": [
    "features = features_test\n",
    "\n",
    "for rule in rule_features.columns:\n",
    "\n",
    "    index_feature = features.loc[eval(rule)].index\n",
    "\n",
    "    new_feature = [1 if i in index_feature else 0 for i in range(len(features))]\n",
    "\n",
    "    if sum(new_feature) >= 1:\n",
    "        features[rule] = new_feature\n"
   ],
   "metadata": {
    "collapsed": false,
    "pycharm": {
     "name": "#%%\n"
    }
   }
  },
  {
   "cell_type": "code",
   "execution_count": null,
   "outputs": [],
   "source": [
    "features"
   ],
   "metadata": {
    "collapsed": false,
    "pycharm": {
     "name": "#%%\n"
    }
   }
  },
  {
   "cell_type": "code",
   "execution_count": null,
   "outputs": [],
   "source": [
    "θ"
   ],
   "metadata": {
    "collapsed": false,
    "pycharm": {
     "name": "#%%\n"
    }
   }
  }
 ],
 "metadata": {
  "kernelspec": {
   "display_name": "Python 3",
   "language": "python",
   "name": "python3"
  },
  "language_info": {
   "codemirror_mode": {
    "name": "ipython",
    "version": 3
   },
   "file_extension": ".py",
   "mimetype": "text/x-python",
   "name": "python",
   "nbconvert_exporter": "python",
   "pygments_lexer": "ipython3",
   "version": "3.8.8"
  }
 },
 "nbformat": 4,
 "nbformat_minor": 5
}